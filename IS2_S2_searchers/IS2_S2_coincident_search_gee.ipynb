{
 "cells": [
  {
   "cell_type": "markdown",
   "id": "18a3e162-e102-41f5-b578-f7d1e05eeb17",
   "metadata": {},
   "source": [
    "## IS2_S2_cryo2ice_search.ipynb\n",
    "Alek Petty, adapted from an earlier M. Bagnardi script.\n",
    "\n",
    "Deescription:\n",
    "- This notebook searches for semi-coincident ICESat-2 and Sentinel-2 data.\n",
    "- The code finds Sentinel-2 images with ICESat-2 data falling within the image's footprint.\n",
    "- The code was updated to read in ATL07 data from the new cloud storage using earthdata, see relevant tutorials:\n",
    "     https://github.com/nsidc/NSIDC-Data-Tutorials/blob/main/notebooks/ICESat-2_Cloud_Access/ATL06-direct-access_rendered.ipynb\n",
    "     https://github.com/nsidc/NSIDC-Data-Tutorials/blob/main/notebooks/ICESat-2_Cloud_Access/nsidc_daac_uwg_cloud_access_tutorial_rendered.ipynb (No longer hosted!!) \n",
    " \n",
    "To do:\n",
    "- Should we use CLOUD_COVERAGE_ASSESSMENT or CLOUDY_PIXEL_PERCENTAGE?\n",
    "- Check all beams instead of just the middle beam.\n",
    "- Add in other imagery/satellite sensors.\n",
    "\n",
    "Notes:\n",
    "- Using the middle strong beam but could be easily adapted to check across all beams.\n",
    "- Tested with the adapted 'geo' conda env on cryocloud if you want to convert into a python script.\n",
    "\n",
    "Output:\n",
    "\n",
    "Update history:\n",
    " - Current notebook created in Sep 2024.\n"
   ]
  },
  {
   "cell_type": "code",
   "execution_count": 1,
   "id": "96049f4f-ab3a-49da-b1f0-e2b924dbaa97",
   "metadata": {},
   "outputs": [],
   "source": [
    "# Uncomment these out when running for the first time on cryocloud\n",
    "#%pip install sentinelsat\n",
    "#%pip install earthdata\n",
    "#%pip install astropy"
   ]
  },
  {
   "cell_type": "code",
   "execution_count": 2,
   "id": "98cd6034-b678-4e9c-ab5a-b6fcc7da41b8",
   "metadata": {},
   "outputs": [],
   "source": [
    "# Load modules\n",
    "import datetime as dt\n",
    "import h5py\n",
    "import pandas as pd\n",
    "# Need to do this for geopandas for some reason\n",
    "import os\n",
    "os.environ['USE_PYGEOS'] = '0'\n",
    "import geopandas as gpd\n",
    "import glob\n",
    "from shapely.geometry import Point\n",
    "import matplotlib.pyplot as plt\n",
    "import os\n",
    "\n",
    "import numpy as np\n",
    "from PIL import Image\n",
    "import io\n",
    "import requests\n",
    "import time\n",
    "import earthaccess\n",
    "import xarray as xr\n",
    "from datetime import datetime\n",
    "from datetime import timedelta\n",
    "\n",
    "#from astropy.time import Time\n",
    "#from sentinelsat import SentinelAPI, read_geojson, geojson_to_wkt\n",
    "\n",
    "import ee\n",
    "import geemap\n",
    "#Initialize the Google Earth Engine API, handling authentication if necessary.\n",
    "try:\n",
    "    ee.Initialize()\n",
    "except: \n",
    "    ee.Authenticate()\n",
    "    ee.Initialize()"
   ]
  },
  {
   "cell_type": "code",
   "execution_count": 3,
   "id": "cab80b01-023c-4032-b84e-379765608825",
   "metadata": {},
   "outputs": [
    {
     "data": {
      "text/html": [
       "\n",
       "            <style>\n",
       "                .geemap-dark {\n",
       "                    --jp-widgets-color: white;\n",
       "                    --jp-widgets-label-color: white;\n",
       "                    --jp-ui-font-color1: white;\n",
       "                    --jp-layout-color2: #454545;\n",
       "                    background-color: #383838;\n",
       "                }\n",
       "\n",
       "                .geemap-dark .jupyter-button {\n",
       "                    --jp-layout-color3: #383838;\n",
       "                }\n",
       "\n",
       "                .geemap-colab {\n",
       "                    background-color: var(--colab-primary-surface-color, white);\n",
       "                }\n",
       "\n",
       "                .geemap-colab .jupyter-button {\n",
       "                    --jp-layout-color3: var(--colab-primary-surface-color, white);\n",
       "                }\n",
       "            </style>\n",
       "            "
      ],
      "text/plain": [
       "<IPython.core.display.HTML object>"
      ]
     },
     "metadata": {},
     "output_type": "display_data"
    },
    {
     "name": "stdin",
     "output_type": "stream",
     "text": [
      "Enter your Earthdata Login username:  akpetty\n",
      "Enter your Earthdata password:  ········\n"
     ]
    }
   ],
   "source": [
    "# ICESat-2/earthaccess stuff\n",
    "auth = earthaccess.login()\n",
    "\n"
   ]
  },
  {
   "cell_type": "code",
   "execution_count": 4,
   "id": "c3ed414a-b26b-48fc-bef3-1b961660c30d",
   "metadata": {},
   "outputs": [
    {
     "data": {
      "text/html": [
       "\n",
       "            <style>\n",
       "                .geemap-dark {\n",
       "                    --jp-widgets-color: white;\n",
       "                    --jp-widgets-label-color: white;\n",
       "                    --jp-ui-font-color1: white;\n",
       "                    --jp-layout-color2: #454545;\n",
       "                    background-color: #383838;\n",
       "                }\n",
       "\n",
       "                .geemap-dark .jupyter-button {\n",
       "                    --jp-layout-color3: #383838;\n",
       "                }\n",
       "\n",
       "                .geemap-colab {\n",
       "                    background-color: var(--colab-primary-surface-color, white);\n",
       "                }\n",
       "\n",
       "                .geemap-colab .jupyter-button {\n",
       "                    --jp-layout-color3: var(--colab-primary-surface-color, white);\n",
       "                }\n",
       "            </style>\n",
       "            "
      ],
      "text/plain": [
       "<IPython.core.display.HTML object>"
      ]
     },
     "metadata": {},
     "output_type": "display_data"
    }
   ],
   "source": [
    "# Select search period \n",
    "date1 = \"2019-05-01\"\n",
    "date2 = \"2019-05-02\"\n",
    "\n",
    "granule_search = earthaccess.search_data(\n",
    "        short_name = 'ATL07',\n",
    "        #version = '006',\n",
    "        cloud_hosted = True,\n",
    "        # Arctic for now\n",
    "        bounding_box = (-180, 70, 180, 90),\n",
    "        temporal = (date1, date2)\n",
    ")"
   ]
  },
  {
   "cell_type": "code",
   "execution_count": 5,
   "id": "1c07ad17-04ae-4c41-a2e3-431f1265d777",
   "metadata": {},
   "outputs": [
    {
     "data": {
      "text/html": [
       "\n",
       "            <style>\n",
       "                .geemap-dark {\n",
       "                    --jp-widgets-color: white;\n",
       "                    --jp-widgets-label-color: white;\n",
       "                    --jp-ui-font-color1: white;\n",
       "                    --jp-layout-color2: #454545;\n",
       "                    background-color: #383838;\n",
       "                }\n",
       "\n",
       "                .geemap-dark .jupyter-button {\n",
       "                    --jp-layout-color3: #383838;\n",
       "                }\n",
       "\n",
       "                .geemap-colab {\n",
       "                    background-color: var(--colab-primary-surface-color, white);\n",
       "                }\n",
       "\n",
       "                .geemap-colab .jupyter-button {\n",
       "                    --jp-layout-color3: var(--colab-primary-surface-color, white);\n",
       "                }\n",
       "            </style>\n",
       "            "
      ],
      "text/plain": [
       "<IPython.core.display.HTML object>"
      ]
     },
     "metadata": {},
     "output_type": "display_data"
    },
    {
     "data": {
      "application/vnd.jupyter.widget-view+json": {
       "model_id": "7d5477504ec94bb0b2d561999ee3adab",
       "version_major": 2,
       "version_minor": 0
      },
      "text/plain": [
       "QUEUEING TASKS | :   0%|          | 0/29 [00:00<?, ?it/s]"
      ]
     },
     "metadata": {},
     "output_type": "display_data"
    },
    {
     "data": {
      "application/vnd.jupyter.widget-view+json": {
       "model_id": "a24ea52ba30b45edb7c30a0f7775b327",
       "version_major": 2,
       "version_minor": 0
      },
      "text/plain": [
       "PROCESSING TASKS | :   0%|          | 0/29 [00:00<?, ?it/s]"
      ]
     },
     "metadata": {},
     "output_type": "display_data"
    },
    {
     "data": {
      "application/vnd.jupyter.widget-view+json": {
       "model_id": "0f7fee529bf849d38e974fff97e2402b",
       "version_major": 2,
       "version_minor": 0
      },
      "text/plain": [
       "COLLECTING RESULTS | :   0%|          | 0/29 [00:00<?, ?it/s]"
      ]
     },
     "metadata": {},
     "output_type": "display_data"
    }
   ],
   "source": [
    "# lazily open the files here, shouldn't take long which is what's great about this approach\n",
    "granules = earthaccess.open(granule_search)"
   ]
  },
  {
   "cell_type": "code",
   "execution_count": 6,
   "id": "6315fd86-e27a-4811-acdb-aa6d1f2e07b7",
   "metadata": {},
   "outputs": [
    {
     "data": {
      "text/html": [
       "\n",
       "            <style>\n",
       "                .geemap-dark {\n",
       "                    --jp-widgets-color: white;\n",
       "                    --jp-widgets-label-color: white;\n",
       "                    --jp-ui-font-color1: white;\n",
       "                    --jp-layout-color2: #454545;\n",
       "                    background-color: #383838;\n",
       "                }\n",
       "\n",
       "                .geemap-dark .jupyter-button {\n",
       "                    --jp-layout-color3: #383838;\n",
       "                }\n",
       "\n",
       "                .geemap-colab {\n",
       "                    background-color: var(--colab-primary-surface-color, white);\n",
       "                }\n",
       "\n",
       "                .geemap-colab .jupyter-button {\n",
       "                    --jp-layout-color3: var(--colab-primary-surface-color, white);\n",
       "                }\n",
       "            </style>\n",
       "            "
      ],
      "text/plain": [
       "<IPython.core.display.HTML object>"
      ]
     },
     "metadata": {},
     "output_type": "display_data"
    }
   ],
   "source": [
    "# See here for some different access options, for different types of file generally:\n",
    "#https://earthaccess.readthedocs.io/en/latest/howto/access-data/\n",
    "\n",
    "#import xarray as xr\n",
    "#files = earthaccess.open(results)\n",
    "#ds = xr.open_mfdataset(files)\n",
    "\n",
    "## if the data set is cloud-hosted there will be S3 links available. The access parameter accepts \"direct\" or \"external\". Direct access is only possible if you are in the us-west-2 region in the cloud.\n",
    "# Direct not working for some reason\n",
    "#data_links = [granule.data_links(access=\"external\") for granule in granule_search]\n"
   ]
  },
  {
   "cell_type": "code",
   "execution_count": 7,
   "id": "a20022aa-25ed-4c14-8efb-b048ef6680c8",
   "metadata": {},
   "outputs": [
    {
     "data": {
      "text/html": [
       "\n",
       "            <style>\n",
       "                .geemap-dark {\n",
       "                    --jp-widgets-color: white;\n",
       "                    --jp-widgets-label-color: white;\n",
       "                    --jp-ui-font-color1: white;\n",
       "                    --jp-layout-color2: #454545;\n",
       "                    background-color: #383838;\n",
       "                }\n",
       "\n",
       "                .geemap-dark .jupyter-button {\n",
       "                    --jp-layout-color3: #383838;\n",
       "                }\n",
       "\n",
       "                .geemap-colab {\n",
       "                    background-color: var(--colab-primary-surface-color, white);\n",
       "                }\n",
       "\n",
       "                .geemap-colab .jupyter-button {\n",
       "                    --jp-layout-color3: var(--colab-primary-surface-color, white);\n",
       "                }\n",
       "            </style>\n",
       "            "
      ],
      "text/plain": [
       "<IPython.core.display.HTML object>"
      ]
     },
     "metadata": {},
     "output_type": "display_data"
    }
   ],
   "source": [
    "granules = granules[0:2]"
   ]
  },
  {
   "cell_type": "code",
   "execution_count": 8,
   "id": "3d48ef75-7bb7-480b-990d-faa866fe2c65",
   "metadata": {},
   "outputs": [
    {
     "data": {
      "text/html": [
       "\n",
       "            <style>\n",
       "                .geemap-dark {\n",
       "                    --jp-widgets-color: white;\n",
       "                    --jp-widgets-label-color: white;\n",
       "                    --jp-ui-font-color1: white;\n",
       "                    --jp-layout-color2: #454545;\n",
       "                    background-color: #383838;\n",
       "                }\n",
       "\n",
       "                .geemap-dark .jupyter-button {\n",
       "                    --jp-layout-color3: #383838;\n",
       "                }\n",
       "\n",
       "                .geemap-colab {\n",
       "                    background-color: var(--colab-primary-surface-color, white);\n",
       "                }\n",
       "\n",
       "                .geemap-colab .jupyter-button {\n",
       "                    --jp-layout-color3: var(--colab-primary-surface-color, white);\n",
       "                }\n",
       "            </style>\n",
       "            "
      ],
      "text/plain": [
       "<IPython.core.display.HTML object>"
      ]
     },
     "metadata": {},
     "output_type": "display_data"
    },
    {
     "name": "stdout",
     "output_type": "stream",
     "text": [
      "0 <File-like object S3FileSystem, nsidc-cumulus-prod-protected/ATLAS/ATL07/006/2019/05/01/ATL07-01_20190430235014_05000301_006_02.h5>\n"
     ]
    },
    {
     "name": "stderr",
     "output_type": "stream",
     "text": [
      "/srv/conda/envs/notebook/lib/python3.11/site-packages/ee/deprecation.py:207: DeprecationWarning: \n",
      "\n",
      "Attention required for COPERNICUS/S2_SR! You are using a deprecated asset.\n",
      "To ensure continued functionality, please update it.\n",
      "Learn more: https://developers.google.com/earth-engine/datasets/catalog/COPERNICUS_S2_SR\n",
      "\n",
      "  warnings.warn(warning, category=DeprecationWarning)\n"
     ]
    },
    {
     "name": "stdout",
     "output_type": "stream",
     "text": [
      "\n",
      "Coincident S2 images: 10\n",
      "Coincident S2 image FOUND\n",
      "Done with granule.\n",
      "\n",
      "\n",
      "\n",
      "1 <File-like object S3FileSystem, nsidc-cumulus-prod-protected/ATLAS/ATL07/006/2019/05/01/ATL07-01_20190501012431_05010301_006_02.h5>\n",
      "\n",
      "Coincident S2 images: 8\n",
      "Coincident S2 image FOUND\n",
      "Done with granule.\n",
      "\n",
      "\n",
      "\n"
     ]
    }
   ],
   "source": [
    "#find the matched S2 images for each IS2 file\n",
    "coincident_S2_images=[]\n",
    "\n",
    "# S2 IDs\n",
    "coincident_S2_image_ids=[]\n",
    "\n",
    "#S2 coordinates\n",
    "S2_coords=[]\n",
    "\n",
    "#number of S2 images for each IS2 granule\n",
    "number_of_coincident_scenes_in_granule=[]\n",
    "\n",
    "# coordinate tracks for each coincident IS2 granule\n",
    "is2_coordinate_tracks_matched=[] \n",
    "\n",
    "# save ATL07 info for the coincident S-2 tracks\n",
    "ATL_midtimes_matched=[]\n",
    "ATL_filenames_matched=[]\n",
    "\n",
    "# Loop over ICESat-2 granules\n",
    "# Coarsen by this number of data points to speed things up, can play with this more as desired\n",
    "NPTS=10\n",
    "# Time difference in minutes\n",
    "deltatime=180\n",
    "# Max cloud cover in the S-2 images\n",
    "max_cloud_cover=100\n",
    "\n",
    "# filter data close to land (m)\n",
    "dist_land_mask=10000\n",
    "\n",
    "image_catalog = \"S2_SR\"\n",
    "i=0\n",
    "for granule in granules:\n",
    "    \n",
    "    print(i, granule)\n",
    "    \n",
    "    # Open files (not found a way of not needing to do this..)\n",
    "    #atl07_file = earthaccess.open(granule)\n",
    "    ATL = h5py.File(granule, 'r')\n",
    "    \n",
    "    orientation = ATL['/orbit_info/sc_orient'][0]\n",
    "\n",
    "    # Only use central strong beam locations\n",
    "    if orientation == 0:\n",
    "        beamID = 'gt2l'\n",
    "    elif orientation == 1:\n",
    "        beamID = 'gt2r'\n",
    "    else:\n",
    "        print('Spacecraft orientation not found.')\n",
    "\n",
    "    # Extract data info from granule\n",
    "    ATL_start_time = ATL['/ancillary_data/data_start_utc'][0]\n",
    "    ATL_start = pd.to_datetime(ATL_start_time[:-8].decode('utf-8'), format='%Y-%m-%dT%H:%M:%S')\n",
    "    ATL_end_time = ATL['/ancillary_data/data_end_utc'][0]\n",
    "    ATL_end = pd.to_datetime(ATL_end_time[:-8].decode('utf-8'), format='%Y-%m-%dT%H:%M:%S')\n",
    "\n",
    "    ATL_lon = ATL[beamID + '/sea_ice_segments/longitude'][:]\n",
    "    ATL_lat = ATL[beamID + '/sea_ice_segments/latitude'][:]\n",
    "\n",
    "    # read in the new dist to land variable to filter these values out now we have a lot more land data in rel006!\n",
    "    ATL_dist_land = ATL[beamID+'/sea_ice_segments/stats/dist2land'][:]\n",
    "    ATL_lon = ATL_lon[ATL_dist_land>dist_land_mask]\n",
    "    ATL_lat = ATL_lat[ATL_dist_land>dist_land_mask]\n",
    "    atl07_coords = list(zip(ATL_lon[::NPTS], ATL_lat[::NPTS])) \n",
    "    \n",
    "    # Use astropy to convert from gps time to datetime\n",
    "    #GPS_epoch = ATL['ancillary_data/atlas_sdp_gps_epoch'][:]\n",
    "    #GPS_time = ATL[beamID + '/sea_ice_segments/delta_time'][::NPTS] + GPS_epoch\n",
    "    #ATL_tgps = Time(GPS_time, format='gps')\n",
    "    #ATL_utc = ATL_tgps.utc.iso\n",
    "    \n",
    "    \n",
    "    #create a feature collection representing a line from a list of valid latitude and longitude coordinate points.\n",
    "    feature_track_temp = ee.FeatureCollection(ee.Geometry.LineString(coords=atl07_coords, proj='EPSG:4326', geodesic=True))\n",
    "    \n",
    "    roi = feature_track_temp.geometry()\n",
    "    \n",
    "    # Query Sentinel-2 images using ATL07 file information\n",
    "    #L1C data: COPERNICUS/S2_HARMONIZED S2 (NOT FINDING ANYTHING)\n",
    "    #L2A data: COPERNICUS/S2_SR_HARMONIZED COPERNICUS/S2_SR (this one is what Wenxuan used)\n",
    "    \n",
    "    imagecollection=ee.ImageCollection(\"COPERNICUS/\"+image_catalog).filterBounds(roi)\\\n",
    "    .filterDate(ATL_start- dt.timedelta(minutes=deltatime), ATL_end+ dt.timedelta(minutes=deltatime))\\\n",
    "    .filter(ee.Filter.lt('CLOUD_COVERAGE_ASSESSMENT', max_cloud_cover))\n",
    "    #.filter(ee.Filter.lt('NODATA_PIXEL_PERCENTAGE', 10))\n",
    "    \n",
    "    print('\\nCoincident S2 images:', imagecollection.size().getInfo())\n",
    "    if imagecollection.size().getInfo()>0:\n",
    "        print('Coincident S2 image FOUND')\n",
    "        \n",
    "        # save number of images\n",
    "        number_of_coincident_scenes_in_granule.append(imagecollection.size().getInfo()) \n",
    "\n",
    "        # save actual image collection\n",
    "        coincident_S2_images.append(imagecollection)\n",
    "\n",
    "        # S2 image IDs\n",
    "        S2_ids = [imagecollection.toList(imagecollection.size().getInfo()).getInfo()[i]['id'] for i in range(0, imagecollection.size().getInfo())]\n",
    "        coincident_S2_image_ids.append(S2_ids)\n",
    "\n",
    "        # save first coordinte of first image found \n",
    "        S2_coord = imagecollection.toList(imagecollection.size().getInfo()).getInfo()[0]['properties']['system:footprint']['coordinates'][0]\n",
    "        S2_coords.append(S2_coord)\n",
    "        \n",
    "        is2_coordinate_tracks_matched.append(feature_track_temp)\n",
    "        ATL_mid = ATL_start + (ATL_end-ATL_start)/2\n",
    "        ATL_midtimes_matched.append(ATL_mid)\n",
    "        ATL_filenames_matched.append(granule)\n",
    "        print('Done with granule.')\n",
    "    \n",
    "    print('\\n\\n')\n",
    "    i+=1\n",
    "\n"
   ]
  },
  {
   "cell_type": "code",
   "execution_count": 9,
   "id": "48276407-3eca-489a-862b-807ce5b7ca87",
   "metadata": {},
   "outputs": [
    {
     "data": {
      "text/html": [
       "\n",
       "            <style>\n",
       "                .geemap-dark {\n",
       "                    --jp-widgets-color: white;\n",
       "                    --jp-widgets-label-color: white;\n",
       "                    --jp-ui-font-color1: white;\n",
       "                    --jp-layout-color2: #454545;\n",
       "                    background-color: #383838;\n",
       "                }\n",
       "\n",
       "                .geemap-dark .jupyter-button {\n",
       "                    --jp-layout-color3: #383838;\n",
       "                }\n",
       "\n",
       "                .geemap-colab {\n",
       "                    background-color: var(--colab-primary-surface-color, white);\n",
       "                }\n",
       "\n",
       "                .geemap-colab .jupyter-button {\n",
       "                    --jp-layout-color3: var(--colab-primary-surface-color, white);\n",
       "                }\n",
       "            </style>\n",
       "            "
      ],
      "text/plain": [
       "<IPython.core.display.HTML object>"
      ]
     },
     "metadata": {},
     "output_type": "display_data"
    },
    {
     "data": {
      "text/plain": [
       "[<ee.imagecollection.ImageCollection at 0x7f322cc9ab50>,\n",
       " <ee.imagecollection.ImageCollection at 0x7f322834c990>]"
      ]
     },
     "execution_count": 9,
     "metadata": {},
     "output_type": "execute_result"
    }
   ],
   "source": [
    "coincident_S2_images"
   ]
  },
  {
   "cell_type": "code",
   "execution_count": 10,
   "id": "44b3d0ac-fe40-46c2-9590-042b9161eead",
   "metadata": {},
   "outputs": [
    {
     "data": {
      "text/html": [
       "\n",
       "            <style>\n",
       "                .geemap-dark {\n",
       "                    --jp-widgets-color: white;\n",
       "                    --jp-widgets-label-color: white;\n",
       "                    --jp-ui-font-color1: white;\n",
       "                    --jp-layout-color2: #454545;\n",
       "                    background-color: #383838;\n",
       "                }\n",
       "\n",
       "                .geemap-dark .jupyter-button {\n",
       "                    --jp-layout-color3: #383838;\n",
       "                }\n",
       "\n",
       "                .geemap-colab {\n",
       "                    background-color: var(--colab-primary-surface-color, white);\n",
       "                }\n",
       "\n",
       "                .geemap-colab .jupyter-button {\n",
       "                    --jp-layout-color3: var(--colab-primary-surface-color, white);\n",
       "                }\n",
       "            </style>\n",
       "            "
      ],
      "text/plain": [
       "<IPython.core.display.HTML object>"
      ]
     },
     "metadata": {},
     "output_type": "display_data"
    },
    {
     "data": {
      "text/plain": [
       "[Timestamp('2019-05-01 00:15:29'), Timestamp('2019-05-01 01:48:11')]"
      ]
     },
     "execution_count": 10,
     "metadata": {},
     "output_type": "execute_result"
    }
   ],
   "source": [
    "ATL_midtimes_matched"
   ]
  },
  {
   "cell_type": "code",
   "execution_count": 11,
   "id": "62fbdf5b-0759-4006-a37f-432cd5d51599",
   "metadata": {},
   "outputs": [
    {
     "data": {
      "text/html": [
       "\n",
       "            <style>\n",
       "                .geemap-dark {\n",
       "                    --jp-widgets-color: white;\n",
       "                    --jp-widgets-label-color: white;\n",
       "                    --jp-ui-font-color1: white;\n",
       "                    --jp-layout-color2: #454545;\n",
       "                    background-color: #383838;\n",
       "                }\n",
       "\n",
       "                .geemap-dark .jupyter-button {\n",
       "                    --jp-layout-color3: #383838;\n",
       "                }\n",
       "\n",
       "                .geemap-colab {\n",
       "                    background-color: var(--colab-primary-surface-color, white);\n",
       "                }\n",
       "\n",
       "                .geemap-colab .jupyter-button {\n",
       "                    --jp-layout-color3: var(--colab-primary-surface-color, white);\n",
       "                }\n",
       "            </style>\n",
       "            "
      ],
      "text/plain": [
       "<IPython.core.display.HTML object>"
      ]
     },
     "metadata": {},
     "output_type": "display_data"
    },
    {
     "data": {
      "text/plain": [
       "<File-like object S3FileSystem, nsidc-cumulus-prod-protected/ATLAS/ATL07/006/2019/05/01/ATL07-01_20190501012431_05010301_006_02.h5>"
      ]
     },
     "execution_count": 11,
     "metadata": {},
     "output_type": "execute_result"
    }
   ],
   "source": [
    "granule"
   ]
  },
  {
   "cell_type": "code",
   "execution_count": 12,
   "id": "eb8e792a-1ce3-4f37-870e-16bfa4804623",
   "metadata": {},
   "outputs": [
    {
     "data": {
      "text/html": [
       "\n",
       "            <style>\n",
       "                .geemap-dark {\n",
       "                    --jp-widgets-color: white;\n",
       "                    --jp-widgets-label-color: white;\n",
       "                    --jp-ui-font-color1: white;\n",
       "                    --jp-layout-color2: #454545;\n",
       "                    background-color: #383838;\n",
       "                }\n",
       "\n",
       "                .geemap-dark .jupyter-button {\n",
       "                    --jp-layout-color3: #383838;\n",
       "                }\n",
       "\n",
       "                .geemap-colab {\n",
       "                    background-color: var(--colab-primary-surface-color, white);\n",
       "                }\n",
       "\n",
       "                .geemap-colab .jupyter-button {\n",
       "                    --jp-layout-color3: var(--colab-primary-surface-color, white);\n",
       "                }\n",
       "            </style>\n",
       "            "
      ],
      "text/plain": [
       "<IPython.core.display.HTML object>"
      ]
     },
     "metadata": {},
     "output_type": "display_data"
    },
    {
     "data": {
      "text/plain": [
       "[['COPERNICUS/S2_SR/20190430T212049_20190430T212043_T16XEP',\n",
       "  'COPERNICUS/S2_SR/20190430T212049_20190430T212043_T16XEQ',\n",
       "  'COPERNICUS/S2_SR/20190430T212049_20190430T212043_T17XMJ',\n",
       "  'COPERNICUS/S2_SR/20190430T212049_20190430T212043_T17XMK',\n",
       "  'COPERNICUS/S2_SR/20190430T212049_20190430T212043_T17XNK',\n",
       "  'COPERNICUS/S2_SR/20190430T212049_20190430T212043_T17XNL',\n",
       "  'COPERNICUS/S2_SR/20190430T212049_20190430T212043_T17XNM',\n",
       "  'COPERNICUS/S2_SR/20190430T212049_20190430T212043_T17XNN',\n",
       "  'COPERNICUS/S2_SR/20190430T212049_20190430T212043_T18XVQ',\n",
       "  'COPERNICUS/S2_SR/20190430T212049_20190430T212043_T18XVR'],\n",
       " ['COPERNICUS/S2_SR/20190430T230129_20190430T230125_T13XDJ',\n",
       "  'COPERNICUS/S2_SR/20190430T230129_20190430T230125_T13XDK',\n",
       "  'COPERNICUS/S2_SR/20190430T230129_20190430T230125_T13XEJ',\n",
       "  'COPERNICUS/S2_SR/20190430T230129_20190430T230125_T13XEK',\n",
       "  'COPERNICUS/S2_SR/20190430T230129_20190430T230125_T13XEL',\n",
       "  'COPERNICUS/S2_SR/20190430T230129_20190430T230125_T13XEM',\n",
       "  'COPERNICUS/S2_SR/20190430T230129_20190430T230125_T14XMQ',\n",
       "  'COPERNICUS/S2_SR/20190430T230129_20190430T230125_T14XMR']]"
      ]
     },
     "execution_count": 12,
     "metadata": {},
     "output_type": "execute_result"
    }
   ],
   "source": [
    "coincident_S2_image_ids"
   ]
  },
  {
   "cell_type": "code",
   "execution_count": 13,
   "id": "a9113627-1035-4fb2-9d57-34f88eaf5c0b",
   "metadata": {},
   "outputs": [
    {
     "data": {
      "text/html": [
       "\n",
       "            <style>\n",
       "                .geemap-dark {\n",
       "                    --jp-widgets-color: white;\n",
       "                    --jp-widgets-label-color: white;\n",
       "                    --jp-ui-font-color1: white;\n",
       "                    --jp-layout-color2: #454545;\n",
       "                    background-color: #383838;\n",
       "                }\n",
       "\n",
       "                .geemap-dark .jupyter-button {\n",
       "                    --jp-layout-color3: #383838;\n",
       "                }\n",
       "\n",
       "                .geemap-colab {\n",
       "                    background-color: var(--colab-primary-surface-color, white);\n",
       "                }\n",
       "\n",
       "                .geemap-colab .jupyter-button {\n",
       "                    --jp-layout-color3: var(--colab-primary-surface-color, white);\n",
       "                }\n",
       "            </style>\n",
       "            "
      ],
      "text/plain": [
       "<IPython.core.display.HTML object>"
      ]
     },
     "metadata": {},
     "output_type": "display_data"
    }
   ],
   "source": [
    "# Save to a CSV file\n",
    "#import csv\n",
    "#with open('../Data/search_output/coincident_S2_image_ids_dt'+str(deltatime)+'_mcc'+str(max_cloud_cover)+'_dlnd'+str(dist_land_mask)+image_catalog+'csv', 'w', newline='') as file:\n",
    "#    writer = csv.writer(file)\n",
    "#    writer.writerows(coincident_S2_image_ids)\n",
    "    \n",
    "#np.save('../Data/search_output/S2_coords'+str(deltatime)+'_mcc'+str(max_cloud_cover)+'_dlnd'+str(dist_land_mask)+image_catalog, S2_coords)\n",
    "#np.save('../Data/search_output/number_of_coincident_scenes_in_granule'+str(deltatime)+'_mcc'+str(max_cloud_cover)+'_dlnd'+str(dist_land_mask)+image_catalog, number_of_coincident_scenes_in_granule)\n",
    "#np.save('../Data/search_output/is2_coordinate_tracks_matched'+str(deltatime)+'_mcc'+str(max_cloud_cover)+'_dlnd'+str(dist_land_mask)+image_catalog, is2_coordinate_tracks_matched)\n",
    "#np.save('../Data/search_output/ATL_midtimes_matched'+str(deltatime)+'_mcc'+str(max_cloud_cover)+'_dlnd'+str(dist_land_mask)+image_catalog, ATL_midtimes_matched)\n",
    "#np.save('../Data/search_output/ATL_filenames_matched'+str(deltatime)+'_mcc'+str(max_cloud_cover)+'_dlnd'+str(dist_land_mask)+image_catalog, ATL_filenames_matched)\n",
    "  "
   ]
  },
  {
   "cell_type": "code",
   "execution_count": 14,
   "id": "c8d7d28b-e6b0-4697-baa6-98e4ef3b7cc6",
   "metadata": {},
   "outputs": [
    {
     "data": {
      "text/html": [
       "\n",
       "            <style>\n",
       "                .geemap-dark {\n",
       "                    --jp-widgets-color: white;\n",
       "                    --jp-widgets-label-color: white;\n",
       "                    --jp-ui-font-color1: white;\n",
       "                    --jp-layout-color2: #454545;\n",
       "                    background-color: #383838;\n",
       "                }\n",
       "\n",
       "                .geemap-dark .jupyter-button {\n",
       "                    --jp-layout-color3: #383838;\n",
       "                }\n",
       "\n",
       "                .geemap-colab {\n",
       "                    background-color: var(--colab-primary-surface-color, white);\n",
       "                }\n",
       "\n",
       "                .geemap-colab .jupyter-button {\n",
       "                    --jp-layout-color3: var(--colab-primary-surface-color, white);\n",
       "                }\n",
       "            </style>\n",
       "            "
      ],
      "text/plain": [
       "<IPython.core.display.HTML object>"
      ]
     },
     "metadata": {},
     "output_type": "display_data"
    }
   ],
   "source": [
    "# Save the output\n",
    "#np.save('../Data/search_output/coincident_S2_image_ids_dt'+str(deltatime)+'_mcc'+str(max_cloud_cover)+'_dlnd'+str(dist_land_mask)+image_catalog, coincident_S2_image_ids)\n",
    "\n",
    "        "
   ]
  },
  {
   "cell_type": "code",
   "execution_count": 15,
   "id": "367f51f8-5748-4e80-a42b-67ffe6bfb65b",
   "metadata": {},
   "outputs": [
    {
     "data": {
      "text/html": [
       "\n",
       "            <style>\n",
       "                .geemap-dark {\n",
       "                    --jp-widgets-color: white;\n",
       "                    --jp-widgets-label-color: white;\n",
       "                    --jp-ui-font-color1: white;\n",
       "                    --jp-layout-color2: #454545;\n",
       "                    background-color: #383838;\n",
       "                }\n",
       "\n",
       "                .geemap-dark .jupyter-button {\n",
       "                    --jp-layout-color3: #383838;\n",
       "                }\n",
       "\n",
       "                .geemap-colab {\n",
       "                    background-color: var(--colab-primary-surface-color, white);\n",
       "                }\n",
       "\n",
       "                .geemap-colab .jupyter-button {\n",
       "                    --jp-layout-color3: var(--colab-primary-surface-color, white);\n",
       "                }\n",
       "            </style>\n",
       "            "
      ],
      "text/plain": [
       "<IPython.core.display.HTML object>"
      ]
     },
     "metadata": {},
     "output_type": "display_data"
    }
   ],
   "source": [
    "# Save one of the coincident images\n",
    "# Start an export task\n",
    "\n",
    "save_image=False\n",
    "\n",
    "if save_image:\n",
    "    image = ee.Image('COPERNICUS/S2_SR/20210425T113629_20210425T113626_T41XNL')\n",
    "    \n",
    "    export_task = ee.batch.Export.image.toDrive(\n",
    "        image=image,\n",
    "        description='Sentinel-2_Export',  # Name of the export task\n",
    "        folder='EarthEngineExports',  # Destination folder in Google Drive\n",
    "        fileNamePrefix='sentinel2_image',  # Filename prefix in Google Drive\n",
    "        #region=roi.getInfo()['coordinates'],  # Exported region\n",
    "        scale=10,  # Scale in meters (Sentinel-2 native resolution)\n",
    "        #crs='EPSG:4326',  # Coordinate Reference System\n",
    "        #maxPixels=1e9  # Maximum number of pixels allowed\n",
    "    )\n",
    "    \n",
    "    # Start the export task\n",
    "    export_task.start()"
   ]
  },
  {
   "cell_type": "code",
   "execution_count": 16,
   "id": "d090b6b8-ab22-4ae2-bf80-32a09f0906e6",
   "metadata": {},
   "outputs": [
    {
     "data": {
      "text/html": [
       "\n",
       "            <style>\n",
       "                .geemap-dark {\n",
       "                    --jp-widgets-color: white;\n",
       "                    --jp-widgets-label-color: white;\n",
       "                    --jp-ui-font-color1: white;\n",
       "                    --jp-layout-color2: #454545;\n",
       "                    background-color: #383838;\n",
       "                }\n",
       "\n",
       "                .geemap-dark .jupyter-button {\n",
       "                    --jp-layout-color3: #383838;\n",
       "                }\n",
       "\n",
       "                .geemap-colab {\n",
       "                    background-color: var(--colab-primary-surface-color, white);\n",
       "                }\n",
       "\n",
       "                .geemap-colab .jupyter-button {\n",
       "                    --jp-layout-color3: var(--colab-primary-surface-color, white);\n",
       "                }\n",
       "            </style>\n",
       "            "
      ],
      "text/plain": [
       "<IPython.core.display.HTML object>"
      ]
     },
     "metadata": {},
     "output_type": "display_data"
    },
    {
     "name": "stdout",
     "output_type": "stream",
     "text": [
      "Mosaicing images...\n",
      "Mosaicing images...\n",
      "Mosaicing images...\n"
     ]
    }
   ],
   "source": [
    "# MOSAIC images\n",
    "coincident_S2_mosaics=[]\n",
    "for imagecollection in coincident_S2_images:\n",
    "    # mosaic images and save that too\n",
    "    # more ideas here: https://developers.google.com/earth-engine/apidocs/ee-imagecollection-mosaic\n",
    "    # could add cloud filters and other things here, for now just creudely mosaic them...\n",
    "    print('Mosaicing images...')\n",
    "    mosaic = imagecollection.mosaic()\n",
    "    coincident_S2_mosaics.append(mosaic)\n",
    "print('Mosaicing images...')"
   ]
  },
  {
   "cell_type": "code",
   "execution_count": 17,
   "id": "ead99f0b-2dec-410f-bb7f-1ed4e3b497c9",
   "metadata": {},
   "outputs": [
    {
     "data": {
      "text/html": [
       "\n",
       "            <style>\n",
       "                .geemap-dark {\n",
       "                    --jp-widgets-color: white;\n",
       "                    --jp-widgets-label-color: white;\n",
       "                    --jp-ui-font-color1: white;\n",
       "                    --jp-layout-color2: #454545;\n",
       "                    background-color: #383838;\n",
       "                }\n",
       "\n",
       "                .geemap-dark .jupyter-button {\n",
       "                    --jp-layout-color3: #383838;\n",
       "                }\n",
       "\n",
       "                .geemap-colab {\n",
       "                    background-color: var(--colab-primary-surface-color, white);\n",
       "                }\n",
       "\n",
       "                .geemap-colab .jupyter-button {\n",
       "                    --jp-layout-color3: var(--colab-primary-surface-color, white);\n",
       "                }\n",
       "            </style>\n",
       "            "
      ],
      "text/plain": [
       "<IPython.core.display.HTML object>"
      ]
     },
     "metadata": {},
     "output_type": "display_data"
    },
    {
     "name": "stdout",
     "output_type": "stream",
     "text": [
      "<File-like object S3FileSystem, nsidc-cumulus-prod-protected/ATLAS/ATL07/006/2019/05/01/ATL07-01_20190430235014_05000301_006_02.h5>\n",
      "Coincident S-2 images ['COPERNICUS/S2_SR/20190430T212049_20190430T212043_T16XEP', 'COPERNICUS/S2_SR/20190430T212049_20190430T212043_T16XEQ', 'COPERNICUS/S2_SR/20190430T212049_20190430T212043_T17XMJ', 'COPERNICUS/S2_SR/20190430T212049_20190430T212043_T17XMK', 'COPERNICUS/S2_SR/20190430T212049_20190430T212043_T17XNK', 'COPERNICUS/S2_SR/20190430T212049_20190430T212043_T17XNL', 'COPERNICUS/S2_SR/20190430T212049_20190430T212043_T17XNM', 'COPERNICUS/S2_SR/20190430T212049_20190430T212043_T17XNN', 'COPERNICUS/S2_SR/20190430T212049_20190430T212043_T18XVQ', 'COPERNICUS/S2_SR/20190430T212049_20190430T212043_T18XVR']\n",
      "Time difference = 174 minutes between S-2 and estimated IS-2 time from middle of granule\n",
      "Cloud cover = 36.8122576 %\n"
     ]
    },
    {
     "data": {
      "application/vnd.jupyter.widget-view+json": {
       "model_id": "e3dcb123386f474496f62ed84e21b216",
       "version_major": 2,
       "version_minor": 0
      },
      "text/plain": [
       "Map(center=[80.044169677599, -84.72553273861126], controls=(WidgetControl(options=['position', 'transparent_bg…"
      ]
     },
     "execution_count": 17,
     "metadata": {},
     "output_type": "execute_result"
    }
   ],
   "source": [
    "Map = geemap.Map()\n",
    "\n",
    "coincident_granule_num = 0\n",
    "\n",
    "#coincident_S2_images\n",
    "#s2_id = coincident_S2_images[coincident_granule_num].aggregate_first('id').getInfo()\n",
    "mean_cloud_cover = coincident_S2_images[coincident_granule_num].aggregate_mean('CLOUD_COVERAGE_ASSESSMENT').getInfo()\n",
    "#mean_cloud_pixel = coincident_S2_images[coincident_granule_num].aggregate_mean('CLOUDY_PIXEL_PERCENTAGE').getInfo()\n",
    "mean_time_delta = coincident_S2_images[coincident_granule_num].aggregate_mean('system:time_start').getInfo()\n",
    "time_s2 = datetime(1970, 1, 1) + timedelta(seconds = mean_time_delta/1000) \n",
    "\n",
    "print(ATL_filenames_matched[coincident_granule_num])\n",
    "print('Coincident S-2 images', coincident_S2_image_ids[coincident_granule_num])\n",
    "\n",
    "time_is2_m = ATL_midtimes_matched[coincident_granule_num]\n",
    "time_diff_mins_is2_mid = int(abs(time_is2_m-time_s2).seconds/60)\n",
    "print(f\"Time difference = {time_diff_mins_is2_mid} minutes between S-2 and estimated IS-2 time from middle of granule\")\n",
    "\n",
    "print(f\"Cloud cover = {mean_cloud_cover} %\")\n",
    "#print(mean_cloud_cover, time_s2, time_is2, time_diff_mins)\n",
    "\n",
    "mosaiced_scene = coincident_S2_mosaics[coincident_granule_num]\n",
    "#img = ee.Image(mosaiced_scene).select('B4','B3','B2')\n",
    "\n",
    "Map.addLayer(mosaiced_scene, {'bands': ['B4', 'B3', 'B2'], 'max': 10000}, 'RGB Mosaic')\n",
    "\n",
    "# Center Map around the first image, not figured out how to instead use the mosaic for this\n",
    "img = ee.Image(coincident_S2_image_ids[coincident_granule_num][0]).select('B4','B3','B2')\n",
    "Map.centerObject(img, zoom = 7)\n",
    "Map.addLayer(is2_coordinate_tracks_matched[coincident_granule_num], {}, \"ATl07 beam (middle strong)\")\n",
    "#Map.to_html(outfile='./your_map.html', title='My Map', width='100%', height='880px')\n",
    "\n",
    "Map"
   ]
  },
  {
   "cell_type": "code",
   "execution_count": 18,
   "id": "635c2292-ca07-4033-baf6-aa5245a29343",
   "metadata": {},
   "outputs": [
    {
     "data": {
      "text/html": [
       "\n",
       "            <style>\n",
       "                .geemap-dark {\n",
       "                    --jp-widgets-color: white;\n",
       "                    --jp-widgets-label-color: white;\n",
       "                    --jp-ui-font-color1: white;\n",
       "                    --jp-layout-color2: #454545;\n",
       "                    background-color: #383838;\n",
       "                }\n",
       "\n",
       "                .geemap-dark .jupyter-button {\n",
       "                    --jp-layout-color3: #383838;\n",
       "                }\n",
       "\n",
       "                .geemap-colab {\n",
       "                    background-color: var(--colab-primary-surface-color, white);\n",
       "                }\n",
       "\n",
       "                .geemap-colab .jupyter-button {\n",
       "                    --jp-layout-color3: var(--colab-primary-surface-color, white);\n",
       "                }\n",
       "            </style>\n",
       "            "
      ],
      "text/plain": [
       "<IPython.core.display.HTML object>"
      ]
     },
     "metadata": {},
     "output_type": "display_data"
    }
   ],
   "source": [
    "# Export the map as a PNG\n",
    "#url = mosaiced_scene.getThumbURL({\n",
    "#    'region': geometry.getInfo(),\n",
    "#    'dimensions': 1024,\n",
    "#    'format': 'png'\n",
    "#})"
   ]
  },
  {
   "cell_type": "code",
   "execution_count": null,
   "id": "0480ad1e-154b-467a-b095-2625019acbe8",
   "metadata": {},
   "outputs": [],
   "source": []
  },
  {
   "cell_type": "code",
   "execution_count": 19,
   "id": "f829fa96-89cb-4377-b626-82d777506ba1",
   "metadata": {},
   "outputs": [
    {
     "data": {
      "text/html": [
       "\n",
       "            <style>\n",
       "                .geemap-dark {\n",
       "                    --jp-widgets-color: white;\n",
       "                    --jp-widgets-label-color: white;\n",
       "                    --jp-ui-font-color1: white;\n",
       "                    --jp-layout-color2: #454545;\n",
       "                    background-color: #383838;\n",
       "                }\n",
       "\n",
       "                .geemap-dark .jupyter-button {\n",
       "                    --jp-layout-color3: #383838;\n",
       "                }\n",
       "\n",
       "                .geemap-colab {\n",
       "                    background-color: var(--colab-primary-surface-color, white);\n",
       "                }\n",
       "\n",
       "                .geemap-colab .jupyter-button {\n",
       "                    --jp-layout-color3: var(--colab-primary-surface-color, white);\n",
       "                }\n",
       "            </style>\n",
       "            "
      ],
      "text/plain": [
       "<IPython.core.display.HTML object>"
      ]
     },
     "metadata": {},
     "output_type": "display_data"
    },
    {
     "data": {
      "image/png": "[encoded data removed]",
      "text/plain": [
       "<Figure size 1000x1000 with 1 Axes>"
      ]
     },
     "metadata": {},
     "output_type": "display_data"
    }
   ],
   "source": [
    "# Plot a little map showing the broader location of the S-2 images\n",
    "\n",
    "import matplotlib.pyplot as plt\n",
    "import cartopy.crs as ccrs\n",
    "import cartopy.feature as cfeature\n",
    "\n",
    "# Your list of longitudes and latitudes\n",
    "# Format: [(lon1, lat1), (lon2, lat2), ...]\n",
    "coordinates = [(80, 80), (85, 85)]\n",
    "\n",
    "# Create a figure and add a subplot with a North Polar Stereographic projection\n",
    "fig = plt.figure(figsize=(10, 10))\n",
    "ax = fig.add_subplot(1, 1, 1, projection=ccrs.NorthPolarStereo())\n",
    "\n",
    "# Set the extent of the map to focus on the North Pole area\n",
    "ax.set_extent([-180, 180, 60, 90], ccrs.PlateCarree())\n",
    "\n",
    "# Add coastlines and borders for context\n",
    "ax.add_feature(cfeature.COASTLINE)\n",
    "#ax.add_feature(cfeature.BORDERS, linestyle=':')\n",
    "\n",
    "# Plot the markers based on the provided coordinates\n",
    "x=1\n",
    "for lon, lat in S2_coords:\n",
    "    ax.plot(lon, lat, 'ro', markersize=5, transform=ccrs.Geodetic())\n",
    "    ax.text(lon, lat, str(x), transform=ccrs.Geodetic())\n",
    "    x+=1\n",
    "\n",
    "plt.savefig('../Data/search_output/locations'+str(deltatime)+'_mcc'+str(max_cloud_cover)+'_dlnd'+str(dist_land_mask)+image_catalog+'.png')\n",
    "# Display the plot\n",
    "plt.show()\n"
   ]
  },
  {
   "cell_type": "code",
   "execution_count": 20,
   "id": "e48f3601-65e8-462a-9619-865e195d540b",
   "metadata": {},
   "outputs": [
    {
     "data": {
      "text/html": [
       "\n",
       "            <style>\n",
       "                .geemap-dark {\n",
       "                    --jp-widgets-color: white;\n",
       "                    --jp-widgets-label-color: white;\n",
       "                    --jp-ui-font-color1: white;\n",
       "                    --jp-layout-color2: #454545;\n",
       "                    background-color: #383838;\n",
       "                }\n",
       "\n",
       "                .geemap-dark .jupyter-button {\n",
       "                    --jp-layout-color3: #383838;\n",
       "                }\n",
       "\n",
       "                .geemap-colab {\n",
       "                    background-color: var(--colab-primary-surface-color, white);\n",
       "                }\n",
       "\n",
       "                .geemap-colab .jupyter-button {\n",
       "                    --jp-layout-color3: var(--colab-primary-surface-color, white);\n",
       "                }\n",
       "            </style>\n",
       "            "
      ],
      "text/plain": [
       "<IPython.core.display.HTML object>"
      ]
     },
     "metadata": {},
     "output_type": "display_data"
    },
    {
     "name": "stdout",
     "output_type": "stream",
     "text": [
      " 20190430T230129_20190430T230125_T13XDJ: Time difference = 166 minutes with ICESat-2 track\n",
      " 20190430T230129_20190430T230125_T13XDK: Time difference = 166 minutes with ICESat-2 track\n",
      " 20190430T230129_20190430T230125_T13XEJ: Time difference = 166 minutes with ICESat-2 track\n",
      " 20190430T230129_20190430T230125_T13XEK: Time difference = 166 minutes with ICESat-2 track\n",
      " 20190430T230129_20190430T230125_T13XEL: Time difference = 166 minutes with ICESat-2 track\n",
      " 20190430T230129_20190430T230125_T13XEM: Time difference = 166 minutes with ICESat-2 track\n",
      " 20190430T230129_20190430T230125_T14XMQ: Time difference = 166 minutes with ICESat-2 track\n",
      " 20190430T230129_20190430T230125_T14XMR: Time difference = 166 minutes with ICESat-2 track\n"
     ]
    },
    {
     "data": {
      "application/vnd.jupyter.widget-view+json": {
       "model_id": "d3be8206f065498a889d7818fd6fe06f",
       "version_major": 2,
       "version_minor": 0
      },
      "text/plain": [
       "Map(center=[81.45007776249791, -102.19043917992785], controls=(WidgetControl(options=['position', 'transparent…"
      ]
     },
     "execution_count": 20,
     "metadata": {},
     "output_type": "execute_result"
    }
   ],
   "source": [
    "# In this section, we can check single coincident dataset on the map by assigning different values from non_zero_indices to test_x. \n",
    "# AP update: I dont need the time check here as it's in my function above!\n",
    "granule_num=1\n",
    "s2_scene_ids = coincident_S2_image_ids[granule_num]\n",
    "#scene_ids = coincident_S2_image_ids[granule_num]\n",
    "s2_scenes = coincident_S2_images[granule_num]\n",
    "#S2_ids = [coincident_S2_image_ids[granule_num](number_of_coincident_scenes_in_granule[granule_num]).getInfo()[i]['id'] for i in range(0, number_of_coincident_scenes_in_granule[granule_num])]  \n",
    "#time_diff = 3600*4 # Target time difference between ATL07 and Sentinel-2 < 3 hours\n",
    "#time_IS2 = datetime.strptime(IS2_file_name[test_x][-33:-19], \"%Y%m%d%H%M%S\")\n",
    "\n",
    "Map = geemap.Map()\n",
    "\n",
    "for i in range(0, number_of_coincident_scenes_in_granule[granule_num]):\n",
    "#for i in range(0, 1):\n",
    "    time_start = time_start = coincident_S2_images[granule_num].toList(number_of_coincident_scenes_in_granule[granule_num]).getInfo()[i]['properties']['system:time_start']\n",
    "    time_s2 = datetime(1970, 1, 1) + timedelta(seconds = time_start/1000)   \n",
    "    \n",
    "    img_name = os.path.basename(S2_ids[i])\n",
    "\n",
    "    # Time difference between IS2 and S2 < defined time_diff\n",
    "    #if abs(time_IS2-time_s2).seconds <= time_diff:\n",
    "\n",
    "    print(f\" {img_name}: Time difference = {int(abs(ATL_midtimes_matched[granule_num]-time_s2).seconds/60)} minutes with ICESat-2 track\")\n",
    "    \n",
    "    img = ee.Image(s2_scene_ids[i]).select('B4','B3','B2')\n",
    "    dim = img.getInfo()['bands'][0]['dimensions']\n",
    "    if dim[0] > 10000 and dim[1] > 0:\n",
    "        # # Download image into the local folder\n",
    "        #geemap.download_ee_image(img, f\"S2_{img_name}.tif\", scale=50)\n",
    "        Map.addLayer(img, {'min': 0, 'max': 10000}, img_name)\n",
    "        #print(f\" {img_name}: Time difference = {abs(time_IS2-time_s2).seconds/3600} hours with ICESat-2 track\")\n",
    "        #else:\n",
    "        #    print(f\"SKIP {img_name}: Not a full image\")\n",
    "   #else:\n",
    "   #     print(f\"SKIP {img_name}: Time difference > {time_diff/3600} hours with ICESat-2 track\")\n",
    "   #     Map.addLayer(img, {'min': 0, 'max': 10000}, img_name)\n",
    "   #     print(f\" {img_name}: Time difference = {abs(time_IS2-time_s2).seconds/3600} hours with ICESat-2 track\")\n",
    "\n",
    "Map.centerObject(img, zoom = 5)\n",
    "Map.addLayer(is2_coordinate_tracks_matched[coincident_granule_num], {}, \"IS2 track\")\n",
    "\n",
    "\n",
    "Map"
   ]
  },
  {
   "cell_type": "code",
   "execution_count": null,
   "id": "f6f16d23-b5c3-4391-820f-7e6ae6574e9e",
   "metadata": {},
   "outputs": [],
   "source": []
  }
 ],
 "metadata": {
  "kernelspec": {
   "display_name": "Python 3 (ipykernel)",
   "language": "python",
   "name": "python3"
  },
  "language_info": {
   "codemirror_mode": {
    "name": "ipython",
    "version": 3
   },
   "file_extension": ".py",
   "mimetype": "text/x-python",
   "name": "python",
   "nbconvert_exporter": "python",
   "pygments_lexer": "ipython3",
   "version": "3.11.9"
  }
 },
 "nbformat": 4,
 "nbformat_minor": 5
}
