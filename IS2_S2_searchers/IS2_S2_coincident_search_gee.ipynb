{
 "cells": [
  {
   "cell_type": "markdown",
   "id": "18a3e162-e102-41f5-b578-f7d1e05eeb17",
   "metadata": {},
   "source": [
    "## IS2_S2_cryo2ice_search.ipynb\n",
    "Alek Petty, adapted from an earlier M. Bagnardi script.\n",
    "\n",
    "\n",
    "Deescription:\n",
    "- This notebook searches for semi-coincident ICESat-2 and Sentinel-2 data.\n",
    "- The code finds Sentinel-2 images with ICESat-2 data falling within the image's footprint.\n",
    "- The code was updated to read in ATl07 data from the new cloud storage using earthdata, see relevant tutorials:\n",
    "     https://github.com/nsidc/NSIDC-Data-Tutorials/blob/main/notebooks/ICESat-2_Cloud_Access/ATL06-direct-access_rendered.ipynb\n",
    "     https://github.com/nsidc/NSIDC-Data-Tutorials/blob/main/notebooks/ICESat-2_Cloud_Access/nsidc_daac_uwg_cloud_access_tutorial_rendered.ipynb (No longer hosted!!)\n",
    "- Include new filtering to only look for images where we have cryo2ice (CryoSat-2 coincident) data based on external file. \n",
    " \n",
    "To do:\n",
    "- Should we use CLOUD_COVERAGE_ASSESSMENT or CLOUDY_PIXEL_PERCENTAGE?\n",
    "- Integrate the GEE or other cloud-based S-2 catalog. What data is on those comapred to the sentinelhub?\n",
    "- Check all beams iunstead of just the middle beam.\n",
    "- Add in other imagery/satellite sensors.\n",
    "- \n",
    "\n",
    "Notes:\n",
    "- Another way of doing this is to use the RGT (reference ground track) data from ICESat-2.\n",
    "    This could help if you want to look at future data I guess, but downside is it doesn't say where the data actually is on yhe ground, \n",
    "    just theoretical tracks.\n",
    "- Uses the middle strong beam but could be easily adapted to check across all beams.=\n",
    "- Tested with the adapted 'geo' conda env on cryocloud if you want to convert into a python script.\n",
    "\n",
    "Output:\n",
    "\n",
    "Update history:\n",
    " - Current notebook created in Apr 2024.\n"
   ]
  },
  {
   "cell_type": "code",
   "execution_count": 1,
   "id": "96049f4f-ab3a-49da-b1f0-e2b924dbaa97",
   "metadata": {},
   "outputs": [],
   "source": [
    "# Uncomment these out when running for the first time on cryocloud\n",
    "#%pip install sentinelsat\n",
    "#%pip install earthdata\n",
    "#%pip install astropy"
   ]
  },
  {
   "cell_type": "code",
   "execution_count": 2,
   "id": "98cd6034-b678-4e9c-ab5a-b6fcc7da41b8",
   "metadata": {},
   "outputs": [],
   "source": [
    "# Load modules\n",
    "import datetime as dt\n",
    "import h5py\n",
    "import pandas as pd\n",
    "# Need to do this for geopandas for some reason\n",
    "import os\n",
    "os.environ['USE_PYGEOS'] = '0'\n",
    "import geopandas as gpd\n",
    "import glob\n",
    "from shapely.geometry import Point\n",
    "import matplotlib.pyplot as plt\n",
    "import os\n",
    "\n",
    "import numpy as np\n",
    "from PIL import Image\n",
    "import io\n",
    "import requests\n",
    "import time\n",
    "import earthaccess\n",
    "import xarray as xr\n",
    "from datetime import datetime\n",
    "from datetime import timedelta\n",
    "\n",
    "#from astropy.time import Time\n",
    "#from sentinelsat import SentinelAPI, read_geojson, geojson_to_wkt\n",
    "\n",
    "import ee\n",
    "import geemap\n",
    "#Initialize the Google Earth Engine API, handling authentication if necessary.\n",
    "try:\n",
    "    ee.Initialize()\n",
    "except: \n",
    "    ee.Authenticate()\n",
    "    ee.Initialize()"
   ]
  },
  {
   "cell_type": "code",
   "execution_count": 3,
   "id": "cab80b01-023c-4032-b84e-379765608825",
   "metadata": {},
   "outputs": [
    {
     "data": {
      "text/html": [
       "\n",
       "            <style>\n",
       "                .geemap-dark {\n",
       "                    --jp-widgets-color: white;\n",
       "                    --jp-widgets-label-color: white;\n",
       "                    --jp-ui-font-color1: white;\n",
       "                    --jp-layout-color2: #454545;\n",
       "                    background-color: #383838;\n",
       "                }\n",
       "                    \n",
       "                .geemap-dark .jupyter-button {\n",
       "                    --jp-layout-color3: #383838;\n",
       "                }\n",
       "                \n",
       "                .geemap-colab {\n",
       "                    background-color: var(--colab-primary-surface-color, white);\n",
       "                }\n",
       "                    \n",
       "                .geemap-colab .jupyter-button {\n",
       "                    --jp-layout-color3: var(--colab-primary-surface-color, white);\n",
       "                }\n",
       "            </style>\n",
       "            "
      ],
      "text/plain": [
       "<IPython.core.display.HTML object>"
      ]
     },
     "metadata": {},
     "output_type": "display_data"
    },
    {
     "name": "stdin",
     "output_type": "stream",
     "text": [
      "Enter your Earthdata Login username:  akpetty\n",
      "Enter your Earthdata password:  ········\n"
     ]
    }
   ],
   "source": [
    "# ICESat-2/earthaccess stuff\n",
    "auth = earthaccess.login()\n",
    "\n"
   ]
  },
  {
   "cell_type": "code",
   "execution_count": 4,
   "id": "5bcbb1ed-7a90-455f-ac87-d75e8e6dbf42",
   "metadata": {},
   "outputs": [
    {
     "data": {
      "text/html": [
       "\n",
       "            <style>\n",
       "                .geemap-dark {\n",
       "                    --jp-widgets-color: white;\n",
       "                    --jp-widgets-label-color: white;\n",
       "                    --jp-ui-font-color1: white;\n",
       "                    --jp-layout-color2: #454545;\n",
       "                    background-color: #383838;\n",
       "                }\n",
       "                    \n",
       "                .geemap-dark .jupyter-button {\n",
       "                    --jp-layout-color3: #383838;\n",
       "                }\n",
       "                \n",
       "                .geemap-colab {\n",
       "                    background-color: var(--colab-primary-surface-color, white);\n",
       "                }\n",
       "                    \n",
       "                .geemap-colab .jupyter-button {\n",
       "                    --jp-layout-color3: var(--colab-primary-surface-color, white);\n",
       "                }\n",
       "            </style>\n",
       "            "
      ],
      "text/plain": [
       "<IPython.core.display.HTML object>"
      ]
     },
     "metadata": {},
     "output_type": "display_data"
    }
   ],
   "source": [
    "c2ice_df = pd.read_csv('../Data/Cryo2Ice_info_array.csv')\n",
    "c2ice_df['is2_start_time_dt'] = c2ice_df['start_IS2'].apply(\n",
    "    lambda x: pd.to_datetime(''.join(x.split(',')), format='%Y %m %d %H %M %S')\n",
    ")\n",
    "\n",
    "c2ice_df['is2_end_time_dt'] = c2ice_df['end_IS2'].apply(\n",
    "    lambda x: pd.to_datetime(''.join(x.split(',')), format='%Y %m %d %H %M %S')\n",
    ")\n",
    "\n",
    "c2ice_df['cs2_start_time_dt'] = c2ice_df['start_IS2'].apply(\n",
    "    lambda x: pd.to_datetime(''.join(x.split(',')), format='%Y %m %d %H %M %S')\n",
    ")\n",
    "\n",
    "#reader.vars.avail()\n",
    "c2ice_files = c2ice_df[\"atl07filename\"].tolist()"
   ]
  },
  {
   "cell_type": "code",
   "execution_count": 5,
   "id": "c3ed414a-b26b-48fc-bef3-1b961660c30d",
   "metadata": {},
   "outputs": [
    {
     "data": {
      "text/html": [
       "\n",
       "            <style>\n",
       "                .geemap-dark {\n",
       "                    --jp-widgets-color: white;\n",
       "                    --jp-widgets-label-color: white;\n",
       "                    --jp-ui-font-color1: white;\n",
       "                    --jp-layout-color2: #454545;\n",
       "                    background-color: #383838;\n",
       "                }\n",
       "                    \n",
       "                .geemap-dark .jupyter-button {\n",
       "                    --jp-layout-color3: #383838;\n",
       "                }\n",
       "                \n",
       "                .geemap-colab {\n",
       "                    background-color: var(--colab-primary-surface-color, white);\n",
       "                }\n",
       "                    \n",
       "                .geemap-colab .jupyter-button {\n",
       "                    --jp-layout-color3: var(--colab-primary-surface-color, white);\n",
       "                }\n",
       "            </style>\n",
       "            "
      ],
      "text/plain": [
       "<IPython.core.display.HTML object>"
      ]
     },
     "metadata": {},
     "output_type": "display_data"
    },
    {
     "data": {
      "text/html": [
       "<div>\n",
       "<style scoped>\n",
       "    .dataframe tbody tr th:only-of-type {\n",
       "        vertical-align: middle;\n",
       "    }\n",
       "\n",
       "    .dataframe tbody tr th {\n",
       "        vertical-align: top;\n",
       "    }\n",
       "\n",
       "    .dataframe thead th {\n",
       "        text-align: right;\n",
       "    }\n",
       "</style>\n",
       "<table border=\"1\" class=\"dataframe\">\n",
       "  <thead>\n",
       "    <tr style=\"text-align: right;\">\n",
       "      <th></th>\n",
       "      <th>l2filename</th>\n",
       "      <th>cpomfilename</th>\n",
       "      <th>atl07filename</th>\n",
       "      <th>atl10filename</th>\n",
       "      <th>start _CS2</th>\n",
       "      <th>end_CS2</th>\n",
       "      <th>start_IS2</th>\n",
       "      <th>end_IS2</th>\n",
       "      <th>strong_beam</th>\n",
       "      <th>is2_start_time_dt</th>\n",
       "      <th>is2_end_time_dt</th>\n",
       "      <th>cs2_start_time_dt</th>\n",
       "    </tr>\n",
       "  </thead>\n",
       "  <tbody>\n",
       "    <tr>\n",
       "      <th>0</th>\n",
       "      <td>CS_LTA__SIR1SAR_FR_20201015T043431_20201015T04...</td>\n",
       "      <td>cry_NO_20201015T043025.elev</td>\n",
       "      <td>ATL07-01_20201015012229_03190901_006_01.h5</td>\n",
       "      <td>ATL10-01_20201015012229_03190901_006_01.h5</td>\n",
       "      <td>2020, 10, 15, 04, 38, 36</td>\n",
       "      <td>2020, 10, 15, 04, 43, 08</td>\n",
       "      <td>2020, 10, 15, 01, 46, 15</td>\n",
       "      <td>2020, 10, 15, 01, 50, 33</td>\n",
       "      <td>L</td>\n",
       "      <td>2020-10-15 01:46:15</td>\n",
       "      <td>2020-10-15 01:50:33</td>\n",
       "      <td>2020-10-15 01:46:15</td>\n",
       "    </tr>\n",
       "    <tr>\n",
       "      <th>1</th>\n",
       "      <td>CS_LTA__SIR1SAR_FR_20210402T024440_20210402T02...</td>\n",
       "      <td>cry_NO_20210402T022221.elev</td>\n",
       "      <td>ATL07-01_20210401235002_01251101_006_02.h5</td>\n",
       "      <td>ATL10-01_20210401235002_01251101_006_02.h5</td>\n",
       "      <td>2021, 04, 02, 02, 45, 16</td>\n",
       "      <td>2021, 04, 02, 02, 51, 56</td>\n",
       "      <td>2021, 04, 02, 00, 12, 09</td>\n",
       "      <td>2021, 04, 02, 00, 18, 29</td>\n",
       "      <td>R</td>\n",
       "      <td>2021-04-02 00:12:09</td>\n",
       "      <td>2021-04-02 00:18:29</td>\n",
       "      <td>2021-04-02 00:12:09</td>\n",
       "    </tr>\n",
       "    <tr>\n",
       "      <th>2</th>\n",
       "      <td>CS_LTA__SIR1SAR_FR_20210403T100237_20210403T10...</td>\n",
       "      <td>cry_NO_20210403T092831.elev</td>\n",
       "      <td>ATL07-01_20210403071550_01451101_006_02.h5</td>\n",
       "      <td>ATL10-01_20210403071550_01451101_006_02.h5</td>\n",
       "      <td>2021, 04, 03, 10, 06, 52</td>\n",
       "      <td>2021, 04, 03, 10, 13, 43</td>\n",
       "      <td>2021, 04, 03, 07, 34, 07</td>\n",
       "      <td>2021, 04, 03, 07, 40, 37</td>\n",
       "      <td>R</td>\n",
       "      <td>2021-04-03 07:34:07</td>\n",
       "      <td>2021-04-03 07:40:37</td>\n",
       "      <td>2021-04-03 07:34:07</td>\n",
       "    </tr>\n",
       "    <tr>\n",
       "      <th>3</th>\n",
       "      <td>CS_LTA__SIR1SAR_FR_20210404T173201_20210404T17...</td>\n",
       "      <td>cry_NO_20210404T173116.elev</td>\n",
       "      <td>ATL07-01_20210404144138_01651101_006_02.h5</td>\n",
       "      <td>ATL10-01_20210404144138_01651101_006_02.h5</td>\n",
       "      <td>2021, 04, 04, 17, 33, 50</td>\n",
       "      <td>2021, 04, 04, 17, 40, 01</td>\n",
       "      <td>2021, 04, 04, 15, 01, 10</td>\n",
       "      <td>2021, 04, 04, 15, 07, 02</td>\n",
       "      <td>R</td>\n",
       "      <td>2021-04-04 15:01:10</td>\n",
       "      <td>2021-04-04 15:07:02</td>\n",
       "      <td>2021-04-04 15:01:10</td>\n",
       "    </tr>\n",
       "    <tr>\n",
       "      <th>4</th>\n",
       "      <td>CS_LTA__SIR1SAR_FR_20210407T082346_20210407T08...</td>\n",
       "      <td>cry_NO_20210407T074556.elev</td>\n",
       "      <td>ATL07-01_20210407053313_02051101_006_02.h5</td>\n",
       "      <td>ATL10-01_20210407053313_02051101_006_02.h5</td>\n",
       "      <td>2021, 04, 07, 08, 24, 22</td>\n",
       "      <td>2021, 04, 07, 08, 31, 48</td>\n",
       "      <td>2021, 04, 07, 05, 52, 01</td>\n",
       "      <td>2021, 04, 07, 05, 59, 05</td>\n",
       "      <td>R</td>\n",
       "      <td>2021-04-07 05:52:01</td>\n",
       "      <td>2021-04-07 05:59:05</td>\n",
       "      <td>2021-04-07 05:52:01</td>\n",
       "    </tr>\n",
       "    <tr>\n",
       "      <th>...</th>\n",
       "      <td>...</td>\n",
       "      <td>...</td>\n",
       "      <td>...</td>\n",
       "      <td>...</td>\n",
       "      <td>...</td>\n",
       "      <td>...</td>\n",
       "      <td>...</td>\n",
       "      <td>...</td>\n",
       "      <td>...</td>\n",
       "      <td>...</td>\n",
       "      <td>...</td>\n",
       "      <td>...</td>\n",
       "    </tr>\n",
       "    <tr>\n",
       "      <th>74</th>\n",
       "      <td>CS_OFFL_SIR1SAR_FR_20220329T124106_20220329T12...</td>\n",
       "      <td>cry_NO_20220329T122947.elev</td>\n",
       "      <td>ATL07-01_20220329102930_00971501_006_01.h5</td>\n",
       "      <td>ATL10-01_20220329102930_00971501_006_01.h5</td>\n",
       "      <td>2022, 03, 29, 12, 41, 48</td>\n",
       "      <td>2022, 03, 29, 12, 46, 23</td>\n",
       "      <td>2022, 03, 29, 10, 49, 35</td>\n",
       "      <td>2022, 03, 29, 10, 53, 57</td>\n",
       "      <td>L</td>\n",
       "      <td>2022-03-29 10:49:35</td>\n",
       "      <td>2022-03-29 10:53:57</td>\n",
       "      <td>2022-03-29 10:49:35</td>\n",
       "    </tr>\n",
       "    <tr>\n",
       "      <th>75</th>\n",
       "      <td>CS_OFFL_SIR1SAR_FR_20220329T124106_20220329T12...</td>\n",
       "      <td>cry_NO_20220329T122947.elev</td>\n",
       "      <td>ATL07-01_20220329102930_00971501_006_01.h5</td>\n",
       "      <td>ATL10-01_20220329102930_00971501_006_01.h5</td>\n",
       "      <td>2022, 03, 29, 12, 46, 22</td>\n",
       "      <td>2022, 03, 29, 12, 50, 06</td>\n",
       "      <td>2022, 03, 29, 10, 53, 56</td>\n",
       "      <td>2022, 03, 29, 10, 57, 30</td>\n",
       "      <td>L</td>\n",
       "      <td>2022-03-29 10:53:56</td>\n",
       "      <td>2022-03-29 10:57:30</td>\n",
       "      <td>2022-03-29 10:53:56</td>\n",
       "    </tr>\n",
       "    <tr>\n",
       "      <th>76</th>\n",
       "      <td>CS_OFFL_SIR1SAR_FR_20220401T033307_20220401T03...</td>\n",
       "      <td>cry_NO_20220401T031947.elev</td>\n",
       "      <td>ATL07-01_20220401012104_01371501_006_02.h5</td>\n",
       "      <td>ATL10-01_20220401012104_01371501_006_02.h5</td>\n",
       "      <td>2022, 04, 01, 03, 34, 01</td>\n",
       "      <td>2022, 04, 01, 03, 41, 31</td>\n",
       "      <td>2022, 04, 01, 01, 42, 02</td>\n",
       "      <td>2022, 04, 01, 01, 49, 10</td>\n",
       "      <td>L</td>\n",
       "      <td>2022-04-01 01:42:02</td>\n",
       "      <td>2022-04-01 01:49:10</td>\n",
       "      <td>2022-04-01 01:42:02</td>\n",
       "    </tr>\n",
       "    <tr>\n",
       "      <th>77</th>\n",
       "      <td>CS_OFFL_SIR1SAR_FR_20220402T105853_20220402T11...</td>\n",
       "      <td>cry_NO_20220402T101800.elev</td>\n",
       "      <td>ATL07-01_20220402084652_01571501_006_02.h5</td>\n",
       "      <td>ATL10-01_20220402084652_01571501_006_02.h5</td>\n",
       "      <td>2022, 04, 02, 10, 59, 29</td>\n",
       "      <td>2022, 04, 02, 11, 04, 47</td>\n",
       "      <td>2022, 04, 02, 09, 07, 39</td>\n",
       "      <td>2022, 04, 02, 09, 12, 43</td>\n",
       "      <td>L</td>\n",
       "      <td>2022-04-02 09:07:39</td>\n",
       "      <td>2022-04-02 09:12:43</td>\n",
       "      <td>2022-04-02 09:07:39</td>\n",
       "    </tr>\n",
       "    <tr>\n",
       "      <th>78</th>\n",
       "      <td>CS_OFFL_SIR1SAR_FR_20220403T182310_20220403T18...</td>\n",
       "      <td>cry_NO_20220403T175012.elev</td>\n",
       "      <td>ATL07-01_20220403161239_01771501_006_02.h5</td>\n",
       "      <td>ATL10-01_20220403161239_01771501_006_02.h5</td>\n",
       "      <td>2022, 04, 03, 18, 25, 24</td>\n",
       "      <td>2022, 04, 03, 18, 28, 34</td>\n",
       "      <td>2022, 04, 03, 16, 33, 44</td>\n",
       "      <td>2022, 04, 03, 16, 36, 44</td>\n",
       "      <td>L</td>\n",
       "      <td>2022-04-03 16:33:44</td>\n",
       "      <td>2022-04-03 16:36:44</td>\n",
       "      <td>2022-04-03 16:33:44</td>\n",
       "    </tr>\n",
       "  </tbody>\n",
       "</table>\n",
       "<p>79 rows × 12 columns</p>\n",
       "</div>"
      ],
      "text/plain": [
       "                                           l2filename  \\\n",
       "0   CS_LTA__SIR1SAR_FR_20201015T043431_20201015T04...   \n",
       "1   CS_LTA__SIR1SAR_FR_20210402T024440_20210402T02...   \n",
       "2   CS_LTA__SIR1SAR_FR_20210403T100237_20210403T10...   \n",
       "3   CS_LTA__SIR1SAR_FR_20210404T173201_20210404T17...   \n",
       "4   CS_LTA__SIR1SAR_FR_20210407T082346_20210407T08...   \n",
       "..                                                ...   \n",
       "74  CS_OFFL_SIR1SAR_FR_20220329T124106_20220329T12...   \n",
       "75  CS_OFFL_SIR1SAR_FR_20220329T124106_20220329T12...   \n",
       "76  CS_OFFL_SIR1SAR_FR_20220401T033307_20220401T03...   \n",
       "77  CS_OFFL_SIR1SAR_FR_20220402T105853_20220402T11...   \n",
       "78  CS_OFFL_SIR1SAR_FR_20220403T182310_20220403T18...   \n",
       "\n",
       "                   cpomfilename                               atl07filename  \\\n",
       "0   cry_NO_20201015T043025.elev  ATL07-01_20201015012229_03190901_006_01.h5   \n",
       "1   cry_NO_20210402T022221.elev  ATL07-01_20210401235002_01251101_006_02.h5   \n",
       "2   cry_NO_20210403T092831.elev  ATL07-01_20210403071550_01451101_006_02.h5   \n",
       "3   cry_NO_20210404T173116.elev  ATL07-01_20210404144138_01651101_006_02.h5   \n",
       "4   cry_NO_20210407T074556.elev  ATL07-01_20210407053313_02051101_006_02.h5   \n",
       "..                          ...                                         ...   \n",
       "74  cry_NO_20220329T122947.elev  ATL07-01_20220329102930_00971501_006_01.h5   \n",
       "75  cry_NO_20220329T122947.elev  ATL07-01_20220329102930_00971501_006_01.h5   \n",
       "76  cry_NO_20220401T031947.elev  ATL07-01_20220401012104_01371501_006_02.h5   \n",
       "77  cry_NO_20220402T101800.elev  ATL07-01_20220402084652_01571501_006_02.h5   \n",
       "78  cry_NO_20220403T175012.elev  ATL07-01_20220403161239_01771501_006_02.h5   \n",
       "\n",
       "                                 atl10filename                start _CS2  \\\n",
       "0   ATL10-01_20201015012229_03190901_006_01.h5  2020, 10, 15, 04, 38, 36   \n",
       "1   ATL10-01_20210401235002_01251101_006_02.h5  2021, 04, 02, 02, 45, 16   \n",
       "2   ATL10-01_20210403071550_01451101_006_02.h5  2021, 04, 03, 10, 06, 52   \n",
       "3   ATL10-01_20210404144138_01651101_006_02.h5  2021, 04, 04, 17, 33, 50   \n",
       "4   ATL10-01_20210407053313_02051101_006_02.h5  2021, 04, 07, 08, 24, 22   \n",
       "..                                         ...                       ...   \n",
       "74  ATL10-01_20220329102930_00971501_006_01.h5  2022, 03, 29, 12, 41, 48   \n",
       "75  ATL10-01_20220329102930_00971501_006_01.h5  2022, 03, 29, 12, 46, 22   \n",
       "76  ATL10-01_20220401012104_01371501_006_02.h5  2022, 04, 01, 03, 34, 01   \n",
       "77  ATL10-01_20220402084652_01571501_006_02.h5  2022, 04, 02, 10, 59, 29   \n",
       "78  ATL10-01_20220403161239_01771501_006_02.h5  2022, 04, 03, 18, 25, 24   \n",
       "\n",
       "                     end_CS2                 start_IS2  \\\n",
       "0   2020, 10, 15, 04, 43, 08  2020, 10, 15, 01, 46, 15   \n",
       "1   2021, 04, 02, 02, 51, 56  2021, 04, 02, 00, 12, 09   \n",
       "2   2021, 04, 03, 10, 13, 43  2021, 04, 03, 07, 34, 07   \n",
       "3   2021, 04, 04, 17, 40, 01  2021, 04, 04, 15, 01, 10   \n",
       "4   2021, 04, 07, 08, 31, 48  2021, 04, 07, 05, 52, 01   \n",
       "..                       ...                       ...   \n",
       "74  2022, 03, 29, 12, 46, 23  2022, 03, 29, 10, 49, 35   \n",
       "75  2022, 03, 29, 12, 50, 06  2022, 03, 29, 10, 53, 56   \n",
       "76  2022, 04, 01, 03, 41, 31  2022, 04, 01, 01, 42, 02   \n",
       "77  2022, 04, 02, 11, 04, 47  2022, 04, 02, 09, 07, 39   \n",
       "78  2022, 04, 03, 18, 28, 34  2022, 04, 03, 16, 33, 44   \n",
       "\n",
       "                     end_IS2 strong_beam   is2_start_time_dt  \\\n",
       "0   2020, 10, 15, 01, 50, 33           L 2020-10-15 01:46:15   \n",
       "1   2021, 04, 02, 00, 18, 29           R 2021-04-02 00:12:09   \n",
       "2   2021, 04, 03, 07, 40, 37           R 2021-04-03 07:34:07   \n",
       "3   2021, 04, 04, 15, 07, 02           R 2021-04-04 15:01:10   \n",
       "4   2021, 04, 07, 05, 59, 05           R 2021-04-07 05:52:01   \n",
       "..                       ...         ...                 ...   \n",
       "74  2022, 03, 29, 10, 53, 57           L 2022-03-29 10:49:35   \n",
       "75  2022, 03, 29, 10, 57, 30           L 2022-03-29 10:53:56   \n",
       "76  2022, 04, 01, 01, 49, 10           L 2022-04-01 01:42:02   \n",
       "77  2022, 04, 02, 09, 12, 43           L 2022-04-02 09:07:39   \n",
       "78  2022, 04, 03, 16, 36, 44           L 2022-04-03 16:33:44   \n",
       "\n",
       "       is2_end_time_dt   cs2_start_time_dt  \n",
       "0  2020-10-15 01:50:33 2020-10-15 01:46:15  \n",
       "1  2021-04-02 00:18:29 2021-04-02 00:12:09  \n",
       "2  2021-04-03 07:40:37 2021-04-03 07:34:07  \n",
       "3  2021-04-04 15:07:02 2021-04-04 15:01:10  \n",
       "4  2021-04-07 05:59:05 2021-04-07 05:52:01  \n",
       "..                 ...                 ...  \n",
       "74 2022-03-29 10:53:57 2022-03-29 10:49:35  \n",
       "75 2022-03-29 10:57:30 2022-03-29 10:53:56  \n",
       "76 2022-04-01 01:49:10 2022-04-01 01:42:02  \n",
       "77 2022-04-02 09:12:43 2022-04-02 09:07:39  \n",
       "78 2022-04-03 16:36:44 2022-04-03 16:33:44  \n",
       "\n",
       "[79 rows x 12 columns]"
      ]
     },
     "execution_count": 5,
     "metadata": {},
     "output_type": "execute_result"
    }
   ],
   "source": [
    "#c2ice_df.where(c2ice_df.atl07filename==c2ice_file)\n",
    "c2ice_df\n"
   ]
  },
  {
   "cell_type": "code",
   "execution_count": null,
   "id": "3d48ef75-7bb7-480b-990d-faa866fe2c65",
   "metadata": {},
   "outputs": [
    {
     "data": {
      "text/html": [
       "\n",
       "            <style>\n",
       "                .geemap-dark {\n",
       "                    --jp-widgets-color: white;\n",
       "                    --jp-widgets-label-color: white;\n",
       "                    --jp-ui-font-color1: white;\n",
       "                    --jp-layout-color2: #454545;\n",
       "                    background-color: #383838;\n",
       "                }\n",
       "                    \n",
       "                .geemap-dark .jupyter-button {\n",
       "                    --jp-layout-color3: #383838;\n",
       "                }\n",
       "                \n",
       "                .geemap-colab {\n",
       "                    background-color: var(--colab-primary-surface-color, white);\n",
       "                }\n",
       "                    \n",
       "                .geemap-colab .jupyter-button {\n",
       "                    --jp-layout-color3: var(--colab-primary-surface-color, white);\n",
       "                }\n",
       "            </style>\n",
       "            "
      ],
      "text/plain": [
       "<IPython.core.display.HTML object>"
      ]
     },
     "metadata": {},
     "output_type": "display_data"
    },
    {
     "name": "stdout",
     "output_type": "stream",
     "text": [
      "Granules found: 1\n",
      "[Collection: {'EntryTitle': 'ATLAS/ICESat-2 L3A Sea Ice Height V006'}\n",
      "Spatial coverage: {'HorizontalSpatialDomain': {'Orbit': {'AscendingCrossing': 48.92460331907133, 'StartLatitude': 27.0, 'StartDirection': 'A', 'EndLatitude': 27.0, 'EndDirection': 'D'}}}\n",
      "Temporal coverage: {'RangeDateTime': {'BeginningDateTime': '2020-10-15T01:44:07.383Z', 'EndingDateTime': '2020-10-15T01:50:33.617Z'}}\n",
      "Size(MB): 181.3192491531372\n",
      "Data: ['https://data.nsidc.earthdatacloud.nasa.gov/nsidc-cumulus-prod-protected/ATLAS/ATL07/006/2020/10/15/ATL07-01_20201015012229_03190901_006_01.h5']]\n",
      "Opening 1 granules, approx size: 0.18 GB\n",
      "using provider: NSIDC_CPRD\n"
     ]
    },
    {
     "data": {
      "application/vnd.jupyter.widget-view+json": {
       "model_id": "e77249fd40bb4ec2a49dc862189a3b01",
       "version_major": 2,
       "version_minor": 0
      },
      "text/plain": [
       "QUEUEING TASKS | :   0%|          | 0/1 [00:00<?, ?it/s]"
      ]
     },
     "metadata": {},
     "output_type": "display_data"
    },
    {
     "data": {
      "application/vnd.jupyter.widget-view+json": {
       "model_id": "9217f27e406e46278ce233cfc032b805",
       "version_major": 2,
       "version_minor": 0
      },
      "text/plain": [
       "PROCESSING TASKS | :   0%|          | 0/1 [00:00<?, ?it/s]"
      ]
     },
     "metadata": {},
     "output_type": "display_data"
    },
    {
     "data": {
      "application/vnd.jupyter.widget-view+json": {
       "model_id": "a6be7e31b2ae4163a726a6b97eb54701",
       "version_major": 2,
       "version_minor": 0
      },
      "text/plain": [
       "COLLECTING RESULTS | :   0%|          | 0/1 [00:00<?, ?it/s]"
      ]
     },
     "metadata": {},
     "output_type": "display_data"
    },
    {
     "name": "stdout",
     "output_type": "stream",
     "text": [
      "\n",
      "Coincident S2 images: 0\n",
      "\n",
      "\n",
      "\n",
      "Granules found: 1\n",
      "[Collection: {'EntryTitle': 'ATLAS/ICESat-2 L3A Sea Ice Height V006'}\n",
      "Spatial coverage: {'HorizontalSpatialDomain': {'Orbit': {'AscendingCrossing': -48.924131734392304, 'StartLatitude': 27.0, 'StartDirection': 'A', 'EndLatitude': 27.0, 'EndDirection': 'D'}}}\n",
      "Temporal coverage: {'RangeDateTime': {'BeginningDateTime': '2021-04-02T00:03:38.476Z', 'EndingDateTime': '2021-04-02T00:18:35.195Z'}}\n",
      "Size(MB): 376.94387912750244\n",
      "Data: ['https://data.nsidc.earthdatacloud.nasa.gov/nsidc-cumulus-prod-protected/ATLAS/ATL07/006/2021/04/02/ATL07-01_20210401235002_01251101_006_02.h5']]\n",
      "Opening 1 granules, approx size: 0.37 GB\n",
      "using provider: NSIDC_CPRD\n"
     ]
    },
    {
     "data": {
      "application/vnd.jupyter.widget-view+json": {
       "model_id": "efde69fa23c641909f4b5437d126f9b7",
       "version_major": 2,
       "version_minor": 0
      },
      "text/plain": [
       "QUEUEING TASKS | :   0%|          | 0/1 [00:00<?, ?it/s]"
      ]
     },
     "metadata": {},
     "output_type": "display_data"
    },
    {
     "data": {
      "application/vnd.jupyter.widget-view+json": {
       "model_id": "3a055f89c9d747808d6d44b34023c5c3",
       "version_major": 2,
       "version_minor": 0
      },
      "text/plain": [
       "PROCESSING TASKS | :   0%|          | 0/1 [00:00<?, ?it/s]"
      ]
     },
     "metadata": {},
     "output_type": "display_data"
    },
    {
     "data": {
      "application/vnd.jupyter.widget-view+json": {
       "model_id": "2d6741d30e3647db8b6b9dcb19884f3b",
       "version_major": 2,
       "version_minor": 0
      },
      "text/plain": [
       "COLLECTING RESULTS | :   0%|          | 0/1 [00:00<?, ?it/s]"
      ]
     },
     "metadata": {},
     "output_type": "display_data"
    },
    {
     "name": "stdout",
     "output_type": "stream",
     "text": [
      "\n",
      "Coincident S2 images: 0\n",
      "\n",
      "\n",
      "\n",
      "Granules found: 1\n",
      "[Collection: {'EntryTitle': 'ATLAS/ICESat-2 L3A Sea Ice Height V006'}\n",
      "Spatial coverage: {'HorizontalSpatialDomain': {'Orbit': {'AscendingCrossing': -161.30977839399438, 'StartLatitude': 27.0, 'StartDirection': 'A', 'EndLatitude': 27.0, 'EndDirection': 'D'}}}\n",
      "Temporal coverage: {'RangeDateTime': {'BeginningDateTime': '2021-04-03T07:32:15.049Z', 'EndingDateTime': '2021-04-03T07:48:45.628Z'}}\n",
      "Size(MB): 414.7863245010376\n",
      "Data: ['https://data.nsidc.earthdatacloud.nasa.gov/nsidc-cumulus-prod-protected/ATLAS/ATL07/006/2021/04/03/ATL07-01_20210403071550_01451101_006_02.h5']]\n",
      "Opening 1 granules, approx size: 0.41 GB\n",
      "using provider: NSIDC_CPRD\n"
     ]
    },
    {
     "data": {
      "application/vnd.jupyter.widget-view+json": {
       "model_id": "4b7abd58278a4ba186c68fa5fa76f755",
       "version_major": 2,
       "version_minor": 0
      },
      "text/plain": [
       "QUEUEING TASKS | :   0%|          | 0/1 [00:00<?, ?it/s]"
      ]
     },
     "metadata": {},
     "output_type": "display_data"
    },
    {
     "data": {
      "application/vnd.jupyter.widget-view+json": {
       "model_id": "2239288b159b42b385c247af7b19f2bd",
       "version_major": 2,
       "version_minor": 0
      },
      "text/plain": [
       "PROCESSING TASKS | :   0%|          | 0/1 [00:00<?, ?it/s]"
      ]
     },
     "metadata": {},
     "output_type": "display_data"
    },
    {
     "data": {
      "application/vnd.jupyter.widget-view+json": {
       "model_id": "7fc9194ac1824fdda09de7e351c25d1d",
       "version_major": 2,
       "version_minor": 0
      },
      "text/plain": [
       "COLLECTING RESULTS | :   0%|          | 0/1 [00:00<?, ?it/s]"
      ]
     },
     "metadata": {},
     "output_type": "display_data"
    },
    {
     "name": "stdout",
     "output_type": "stream",
     "text": [
      "\n",
      "Coincident S2 images: 0\n",
      "\n",
      "\n",
      "\n",
      "Granules found: 1\n",
      "[Collection: {'EntryTitle': 'ATLAS/ICESat-2 L3A Sea Ice Height V006'}\n",
      "Spatial coverage: {'HorizontalSpatialDomain': {'Orbit': {'AscendingCrossing': 86.30154409738257, 'StartLatitude': 27.0, 'StartDirection': 'A', 'EndLatitude': 27.0, 'EndDirection': 'D'}}}\n",
      "Temporal coverage: {'RangeDateTime': {'BeginningDateTime': '2021-04-04T14:59:34.707Z', 'EndingDateTime': '2021-04-04T15:11:05.288Z'}}\n",
      "Size(MB): 317.7967824935913\n",
      "Data: ['https://data.nsidc.earthdatacloud.nasa.gov/nsidc-cumulus-prod-protected/ATLAS/ATL07/006/2021/04/04/ATL07-01_20210404144138_01651101_006_02.h5']]\n",
      "Opening 1 granules, approx size: 0.31 GB\n",
      "using provider: NSIDC_CPRD\n"
     ]
    },
    {
     "data": {
      "application/vnd.jupyter.widget-view+json": {
       "model_id": "485ea14555314702a815e1539e9117b8",
       "version_major": 2,
       "version_minor": 0
      },
      "text/plain": [
       "QUEUEING TASKS | :   0%|          | 0/1 [00:00<?, ?it/s]"
      ]
     },
     "metadata": {},
     "output_type": "display_data"
    },
    {
     "data": {
      "application/vnd.jupyter.widget-view+json": {
       "model_id": "6726553bce6b49f7bcaf3ebb285b96f6",
       "version_major": 2,
       "version_minor": 0
      },
      "text/plain": [
       "PROCESSING TASKS | :   0%|          | 0/1 [00:00<?, ?it/s]"
      ]
     },
     "metadata": {},
     "output_type": "display_data"
    },
    {
     "data": {
      "application/vnd.jupyter.widget-view+json": {
       "model_id": "3cbd79c42a3f4a5284c3fdf70131cfbf",
       "version_major": 2,
       "version_minor": 0
      },
      "text/plain": [
       "COLLECTING RESULTS | :   0%|          | 0/1 [00:00<?, ?it/s]"
      ]
     },
     "metadata": {},
     "output_type": "display_data"
    },
    {
     "name": "stdout",
     "output_type": "stream",
     "text": [
      "\n",
      "Coincident S2 images: 0\n",
      "\n",
      "\n",
      "\n",
      "Granules found: 1\n",
      "[Collection: {'EntryTitle': 'ATLAS/ICESat-2 L3A Sea Ice Height V006'}\n",
      "Spatial coverage: {'HorizontalSpatialDomain': {'Orbit': {'AscendingCrossing': -138.46883388242108, 'StartLatitude': 27.0, 'StartDirection': 'A', 'EndLatitude': 27.0, 'EndDirection': 'D'}}}\n",
      "Temporal coverage: {'RangeDateTime': {'BeginningDateTime': '2021-04-07T05:51:36.710Z', 'EndingDateTime': '2021-04-07T06:03:37.473Z'}}\n",
      "Size(MB): 409.0898551940918\n",
      "Data: ['https://data.nsidc.earthdatacloud.nasa.gov/nsidc-cumulus-prod-protected/ATLAS/ATL07/006/2021/04/07/ATL07-01_20210407053313_02051101_006_02.h5']]\n",
      "Opening 1 granules, approx size: 0.4 GB\n",
      "using provider: NSIDC_CPRD\n"
     ]
    },
    {
     "data": {
      "application/vnd.jupyter.widget-view+json": {
       "model_id": "f7be97be2b5e4e12872417bd30cccbb6",
       "version_major": 2,
       "version_minor": 0
      },
      "text/plain": [
       "QUEUEING TASKS | :   0%|          | 0/1 [00:00<?, ?it/s]"
      ]
     },
     "metadata": {},
     "output_type": "display_data"
    },
    {
     "data": {
      "application/vnd.jupyter.widget-view+json": {
       "model_id": "78aacc54dd284bcc96a474d147f35868",
       "version_major": 2,
       "version_minor": 0
      },
      "text/plain": [
       "PROCESSING TASKS | :   0%|          | 0/1 [00:00<?, ?it/s]"
      ]
     },
     "metadata": {},
     "output_type": "display_data"
    },
    {
     "data": {
      "application/vnd.jupyter.widget-view+json": {
       "model_id": "094aa47e7b874dd8861ad7495cab0d94",
       "version_major": 2,
       "version_minor": 0
      },
      "text/plain": [
       "COLLECTING RESULTS | :   0%|          | 0/1 [00:00<?, ?it/s]"
      ]
     },
     "metadata": {},
     "output_type": "display_data"
    },
    {
     "name": "stdout",
     "output_type": "stream",
     "text": [
      "\n",
      "Coincident S2 images: 2\n",
      "Coincident S2 image FOUND\n",
      "Done with granule.\n",
      "\n",
      "\n",
      "\n",
      "Granules found: 1\n",
      "[Collection: {'EntryTitle': 'ATLAS/ICESat-2 L3A Sea Ice Height V006'}\n",
      "Spatial coverage: {'HorizontalSpatialDomain': {'Orbit': {'AscendingCrossing': -115.62771245955814, 'StartLatitude': 27.0, 'StartDirection': 'A', 'EndLatitude': 27.0, 'EndDirection': 'D'}}}\n",
      "Temporal coverage: {'RangeDateTime': {'BeginningDateTime': '2021-04-11T04:08:43.235Z', 'EndingDateTime': '2021-04-11T04:19:31.270Z'}}\n",
      "Size(MB): 341.6005401611328\n",
      "Data: ['https://data.nsidc.earthdatacloud.nasa.gov/nsidc-cumulus-prod-protected/ATLAS/ATL07/006/2021/04/11/ATL07-01_20210411035036_02651101_006_02.h5']]\n",
      "Opening 1 granules, approx size: 0.33 GB\n",
      "using provider: NSIDC_CPRD\n"
     ]
    },
    {
     "data": {
      "application/vnd.jupyter.widget-view+json": {
       "model_id": "b55d9e21c091412abc3cb33108d56ae7",
       "version_major": 2,
       "version_minor": 0
      },
      "text/plain": [
       "QUEUEING TASKS | :   0%|          | 0/1 [00:00<?, ?it/s]"
      ]
     },
     "metadata": {},
     "output_type": "display_data"
    },
    {
     "data": {
      "application/vnd.jupyter.widget-view+json": {
       "model_id": "fec7ce83549746faac6b4526eebb3040",
       "version_major": 2,
       "version_minor": 0
      },
      "text/plain": [
       "PROCESSING TASKS | :   0%|          | 0/1 [00:00<?, ?it/s]"
      ]
     },
     "metadata": {},
     "output_type": "display_data"
    },
    {
     "data": {
      "application/vnd.jupyter.widget-view+json": {
       "model_id": "7b54e48a26514eabba73517da4d02d99",
       "version_major": 2,
       "version_minor": 0
      },
      "text/plain": [
       "COLLECTING RESULTS | :   0%|          | 0/1 [00:00<?, ?it/s]"
      ]
     },
     "metadata": {},
     "output_type": "display_data"
    },
    {
     "name": "stdout",
     "output_type": "stream",
     "text": [
      "\n",
      "Coincident S2 images: 0\n",
      "\n",
      "\n",
      "\n",
      "Granules found: 1\n",
      "[Collection: {'EntryTitle': 'ATLAS/ICESat-2 L3A Sea Ice Height V006'}\n",
      "Spatial coverage: {'HorizontalSpatialDomain': {'Orbit': {'AscendingCrossing': 19.595736631944945, 'StartLatitude': 27.0, 'StartDirection': 'A', 'EndLatitude': 27.0, 'EndDirection': 'D'}}}\n",
      "Temporal coverage: {'RangeDateTime': {'BeginningDateTime': '2021-04-13T18:59:01.983Z', 'EndingDateTime': '2021-04-13T19:13:39.125Z'}}\n",
      "Size(MB): 296.91551208496094\n",
      "Data: ['https://data.nsidc.earthdatacloud.nasa.gov/nsidc-cumulus-prod-protected/ATLAS/ATL07/006/2021/04/13/ATL07-01_20210413184211_03051101_006_02.h5']]\n",
      "Opening 1 granules, approx size: 0.29 GB\n",
      "using provider: NSIDC_CPRD\n"
     ]
    },
    {
     "data": {
      "application/vnd.jupyter.widget-view+json": {
       "model_id": "e524af3637a749b2a6908b1c5d802e2f",
       "version_major": 2,
       "version_minor": 0
      },
      "text/plain": [
       "QUEUEING TASKS | :   0%|          | 0/1 [00:00<?, ?it/s]"
      ]
     },
     "metadata": {},
     "output_type": "display_data"
    },
    {
     "data": {
      "application/vnd.jupyter.widget-view+json": {
       "model_id": "8ad45008595d4205936bb2ab3530ea08",
       "version_major": 2,
       "version_minor": 0
      },
      "text/plain": [
       "PROCESSING TASKS | :   0%|          | 0/1 [00:00<?, ?it/s]"
      ]
     },
     "metadata": {},
     "output_type": "display_data"
    },
    {
     "data": {
      "application/vnd.jupyter.widget-view+json": {
       "model_id": "d2dcbf291ffc4f17b424a7583ed02a83",
       "version_major": 2,
       "version_minor": 0
      },
      "text/plain": [
       "COLLECTING RESULTS | :   0%|          | 0/1 [00:00<?, ?it/s]"
      ]
     },
     "metadata": {},
     "output_type": "display_data"
    },
    {
     "name": "stdout",
     "output_type": "stream",
     "text": [
      "\n",
      "Coincident S2 images: 0\n",
      "\n",
      "\n",
      "\n",
      "Granules found: 1\n",
      "[Collection: {'EntryTitle': 'ATLAS/ICESat-2 L3A Sea Ice Height V006'}\n",
      "Spatial coverage: {'HorizontalSpatialDomain': {'Orbit': {'AscendingCrossing': -92.78724560799363, 'StartLatitude': 27.0, 'StartDirection': 'A', 'EndLatitude': 27.0, 'EndDirection': 'D'}}}\n",
      "Temporal coverage: {'RangeDateTime': {'BeginningDateTime': '2021-04-15T02:25:39.956Z', 'EndingDateTime': '2021-04-15T02:35:41.076Z'}}\n",
      "Size(MB): 373.47822761535645\n",
      "Data: ['https://data.nsidc.earthdatacloud.nasa.gov/nsidc-cumulus-prod-protected/ATLAS/ATL07/006/2021/04/15/ATL07-01_20210415020759_03251101_006_02.h5']]\n",
      "Opening 1 granules, approx size: 0.36 GB\n",
      "using provider: NSIDC_CPRD\n"
     ]
    },
    {
     "data": {
      "application/vnd.jupyter.widget-view+json": {
       "model_id": "33f934f798d44e77ad111c7240a72bbc",
       "version_major": 2,
       "version_minor": 0
      },
      "text/plain": [
       "QUEUEING TASKS | :   0%|          | 0/1 [00:00<?, ?it/s]"
      ]
     },
     "metadata": {},
     "output_type": "display_data"
    },
    {
     "data": {
      "application/vnd.jupyter.widget-view+json": {
       "model_id": "5640c6a98c9b4e508cf8d6ecc7125fd1",
       "version_major": 2,
       "version_minor": 0
      },
      "text/plain": [
       "PROCESSING TASKS | :   0%|          | 0/1 [00:00<?, ?it/s]"
      ]
     },
     "metadata": {},
     "output_type": "display_data"
    },
    {
     "data": {
      "application/vnd.jupyter.widget-view+json": {
       "model_id": "d3521ad7510e40fd8a2c5eb8d621d598",
       "version_major": 2,
       "version_minor": 0
      },
      "text/plain": [
       "COLLECTING RESULTS | :   0%|          | 0/1 [00:00<?, ?it/s]"
      ]
     },
     "metadata": {},
     "output_type": "display_data"
    },
    {
     "name": "stdout",
     "output_type": "stream",
     "text": [
      "\n",
      "Coincident S2 images: 1\n",
      "Coincident S2 image FOUND\n",
      "Done with granule.\n",
      "\n",
      "\n",
      "\n",
      "Granules found: 1\n",
      "[Collection: {'EntryTitle': 'ATLAS/ICESat-2 L3A Sea Ice Height V006'}\n",
      "Spatial coverage: {'HorizontalSpatialDomain': {'Orbit': {'AscendingCrossing': 154.82492878002088, 'StartLatitude': 27.0, 'StartDirection': 'A', 'EndLatitude': 27.0, 'EndDirection': 'D'}}}\n",
      "Temporal coverage: {'RangeDateTime': {'BeginningDateTime': '2021-04-16T09:48:47.470Z', 'EndingDateTime': '2021-04-16T10:03:21.037Z'}}\n",
      "Size(MB): 326.0534677505493\n",
      "Data: ['https://data.nsidc.earthdatacloud.nasa.gov/nsidc-cumulus-prod-protected/ATLAS/ATL07/006/2021/04/16/ATL07-01_20210416093346_03451101_006_02.h5']]\n",
      "Opening 1 granules, approx size: 0.32 GB\n",
      "using provider: NSIDC_CPRD\n"
     ]
    },
    {
     "data": {
      "application/vnd.jupyter.widget-view+json": {
       "model_id": "473784760d0b430dbe47dd9c2916a346",
       "version_major": 2,
       "version_minor": 0
      },
      "text/plain": [
       "QUEUEING TASKS | :   0%|          | 0/1 [00:00<?, ?it/s]"
      ]
     },
     "metadata": {},
     "output_type": "display_data"
    },
    {
     "data": {
      "application/vnd.jupyter.widget-view+json": {
       "model_id": "a3656666bcc54baf9c4d6f317e1f5cbd",
       "version_major": 2,
       "version_minor": 0
      },
      "text/plain": [
       "PROCESSING TASKS | :   0%|          | 0/1 [00:00<?, ?it/s]"
      ]
     },
     "metadata": {},
     "output_type": "display_data"
    },
    {
     "data": {
      "application/vnd.jupyter.widget-view+json": {
       "model_id": "8ec412514d164d659144209d0152b849",
       "version_major": 2,
       "version_minor": 0
      },
      "text/plain": [
       "COLLECTING RESULTS | :   0%|          | 0/1 [00:00<?, ?it/s]"
      ]
     },
     "metadata": {},
     "output_type": "display_data"
    },
    {
     "name": "stdout",
     "output_type": "stream",
     "text": [
      "\n",
      "Coincident S2 images: 0\n",
      "\n",
      "\n",
      "\n",
      "Granules found: 1\n",
      "[Collection: {'EntryTitle': 'ATLAS/ICESat-2 L3A Sea Ice Height V006'}\n",
      "Spatial coverage: {'HorizontalSpatialDomain': {'Orbit': {'AscendingCrossing': 42.435923382137354, 'StartLatitude': 27.0, 'StartDirection': 'A', 'EndLatitude': 27.0, 'EndDirection': 'D'}}}\n",
      "Temporal coverage: {'RangeDateTime': {'BeginningDateTime': '2021-04-17T17:16:53.711Z', 'EndingDateTime': '2021-04-17T17:28:30.535Z'}}\n",
      "Size(MB): 139.92244052886963\n",
      "Data: ['https://data.nsidc.earthdatacloud.nasa.gov/nsidc-cumulus-prod-protected/ATLAS/ATL07/006/2021/04/17/ATL07-01_20210417165935_03651101_006_02.h5']]\n",
      "Opening 1 granules, approx size: 0.14 GB\n",
      "using provider: NSIDC_CPRD\n"
     ]
    },
    {
     "data": {
      "application/vnd.jupyter.widget-view+json": {
       "model_id": "86ea2d58567d42b9acc5c2bad9b77165",
       "version_major": 2,
       "version_minor": 0
      },
      "text/plain": [
       "QUEUEING TASKS | :   0%|          | 0/1 [00:00<?, ?it/s]"
      ]
     },
     "metadata": {},
     "output_type": "display_data"
    },
    {
     "data": {
      "application/vnd.jupyter.widget-view+json": {
       "model_id": "328ca2d66d63404396994bd1c9e78188",
       "version_major": 2,
       "version_minor": 0
      },
      "text/plain": [
       "PROCESSING TASKS | :   0%|          | 0/1 [00:00<?, ?it/s]"
      ]
     },
     "metadata": {},
     "output_type": "display_data"
    },
    {
     "data": {
      "application/vnd.jupyter.widget-view+json": {
       "model_id": "eb034abc183d40eb8bab434844476d52",
       "version_major": 2,
       "version_minor": 0
      },
      "text/plain": [
       "COLLECTING RESULTS | :   0%|          | 0/1 [00:00<?, ?it/s]"
      ]
     },
     "metadata": {},
     "output_type": "display_data"
    },
    {
     "name": "stdout",
     "output_type": "stream",
     "text": [
      "\n",
      "Coincident S2 images: 5\n",
      "Coincident S2 image FOUND\n",
      "Done with granule.\n",
      "\n",
      "\n",
      "\n",
      "Granules found: 1\n",
      "[Collection: {'EntryTitle': 'ATLAS/ICESat-2 L3A Sea Ice Height V006'}\n",
      "Spatial coverage: {'HorizontalSpatialDomain': {'Orbit': {'AscendingCrossing': 177.66586345798805, 'StartLatitude': 27.0, 'StartDirection': 'A', 'EndLatitude': 27.0, 'EndDirection': 'D'}}}\n",
      "Temporal coverage: {'RangeDateTime': {'BeginningDateTime': '2021-04-20T08:09:23.278Z', 'EndingDateTime': '2021-04-20T08:16:59.497Z'}}\n",
      "Size(MB): 153.32410335540771\n",
      "Data: ['https://data.nsidc.earthdatacloud.nasa.gov/nsidc-cumulus-prod-protected/ATLAS/ATL07/006/2021/04/20/ATL07-01_20210420075110_04051101_006_02.h5']]\n",
      "Opening 1 granules, approx size: 0.15 GB\n",
      "using provider: NSIDC_CPRD\n"
     ]
    },
    {
     "data": {
      "application/vnd.jupyter.widget-view+json": {
       "model_id": "13132239d0cc4ecd8b86def93b6b7dc0",
       "version_major": 2,
       "version_minor": 0
      },
      "text/plain": [
       "QUEUEING TASKS | :   0%|          | 0/1 [00:00<?, ?it/s]"
      ]
     },
     "metadata": {},
     "output_type": "display_data"
    },
    {
     "data": {
      "application/vnd.jupyter.widget-view+json": {
       "model_id": "6dbbf1a48bed443f8d73306b8c56d883",
       "version_major": 2,
       "version_minor": 0
      },
      "text/plain": [
       "PROCESSING TASKS | :   0%|          | 0/1 [00:00<?, ?it/s]"
      ]
     },
     "metadata": {},
     "output_type": "display_data"
    },
    {
     "data": {
      "application/vnd.jupyter.widget-view+json": {
       "model_id": "f1c58486fdb64f209f30bbec0165da87",
       "version_major": 2,
       "version_minor": 0
      },
      "text/plain": [
       "COLLECTING RESULTS | :   0%|          | 0/1 [00:00<?, ?it/s]"
      ]
     },
     "metadata": {},
     "output_type": "display_data"
    },
    {
     "name": "stdout",
     "output_type": "stream",
     "text": [
      "\n",
      "Coincident S2 images: 0\n",
      "\n",
      "\n",
      "\n",
      "Granules found: 1\n",
      "[Collection: {'EntryTitle': 'ATLAS/ICESat-2 L3A Sea Ice Height V006'}\n",
      "Spatial coverage: {'HorizontalSpatialDomain': {'Orbit': {'AscendingCrossing': 65.27677327804452, 'StartLatitude': 27.0, 'StartDirection': 'A', 'EndLatitude': 27.0, 'EndDirection': 'D'}}}\n",
      "Temporal coverage: {'RangeDateTime': {'BeginningDateTime': '2021-04-21T15:34:49.874Z', 'EndingDateTime': '2021-04-21T15:46:53.464Z'}}\n",
      "Size(MB): 203.21373558044434\n",
      "Data: ['https://data.nsidc.earthdatacloud.nasa.gov/nsidc-cumulus-prod-protected/ATLAS/ATL07/006/2021/04/21/ATL07-01_20210421151658_04251101_006_02.h5']]\n",
      "Opening 1 granules, approx size: 0.2 GB\n",
      "using provider: NSIDC_CPRD\n"
     ]
    },
    {
     "data": {
      "application/vnd.jupyter.widget-view+json": {
       "model_id": "3d9027339b68410d9e4f1c4fea845d83",
       "version_major": 2,
       "version_minor": 0
      },
      "text/plain": [
       "QUEUEING TASKS | :   0%|          | 0/1 [00:00<?, ?it/s]"
      ]
     },
     "metadata": {},
     "output_type": "display_data"
    },
    {
     "data": {
      "application/vnd.jupyter.widget-view+json": {
       "model_id": "f31858e21f4b447198a36401ee6d639c",
       "version_major": 2,
       "version_minor": 0
      },
      "text/plain": [
       "PROCESSING TASKS | :   0%|          | 0/1 [00:00<?, ?it/s]"
      ]
     },
     "metadata": {},
     "output_type": "display_data"
    },
    {
     "data": {
      "application/vnd.jupyter.widget-view+json": {
       "model_id": "465c73861a3b4cb6a7a7ebe950d50d65",
       "version_major": 2,
       "version_minor": 0
      },
      "text/plain": [
       "COLLECTING RESULTS | :   0%|          | 0/1 [00:00<?, ?it/s]"
      ]
     },
     "metadata": {},
     "output_type": "display_data"
    },
    {
     "name": "stdout",
     "output_type": "stream",
     "text": [
      "\n",
      "Coincident S2 images: 9\n",
      "Coincident S2 image FOUND\n",
      "Done with granule.\n",
      "\n",
      "\n",
      "\n",
      "Granules found: 1\n",
      "[Collection: {'EntryTitle': 'ATLAS/ICESat-2 L3A Sea Ice Height V006'}\n",
      "Spatial coverage: {'HorizontalSpatialDomain': {'Orbit': {'AscendingCrossing': -47.106997843881096, 'StartLatitude': 27.0, 'StartDirection': 'A', 'EndLatitude': 27.0, 'EndDirection': 'D'}}}\n",
      "Temporal coverage: {'RangeDateTime': {'BeginningDateTime': '2021-04-22T23:00:06.824Z', 'EndingDateTime': '2021-04-22T23:11:22.194Z'}}\n",
      "Size(MB): 380.7526397705078\n",
      "Data: ['https://data.nsidc.earthdatacloud.nasa.gov/nsidc-cumulus-prod-protected/ATLAS/ATL07/006/2021/04/22/ATL07-01_20210422224245_04451101_006_02.h5']]\n",
      "Opening 1 granules, approx size: 0.37 GB\n",
      "using provider: NSIDC_CPRD\n"
     ]
    },
    {
     "data": {
      "application/vnd.jupyter.widget-view+json": {
       "model_id": "55df880361c54e19af3183e77cdc18e2",
       "version_major": 2,
       "version_minor": 0
      },
      "text/plain": [
       "QUEUEING TASKS | :   0%|          | 0/1 [00:00<?, ?it/s]"
      ]
     },
     "metadata": {},
     "output_type": "display_data"
    },
    {
     "data": {
      "application/vnd.jupyter.widget-view+json": {
       "model_id": "75a720c3ae63407c85c86ff223173e6f",
       "version_major": 2,
       "version_minor": 0
      },
      "text/plain": [
       "PROCESSING TASKS | :   0%|          | 0/1 [00:00<?, ?it/s]"
      ]
     },
     "metadata": {},
     "output_type": "display_data"
    },
    {
     "data": {
      "application/vnd.jupyter.widget-view+json": {
       "model_id": "0cbf9334bbb347499ec5ca2f67bea6ce",
       "version_major": 2,
       "version_minor": 0
      },
      "text/plain": [
       "COLLECTING RESULTS | :   0%|          | 0/1 [00:00<?, ?it/s]"
      ]
     },
     "metadata": {},
     "output_type": "display_data"
    },
    {
     "name": "stdout",
     "output_type": "stream",
     "text": [
      "\n",
      "Coincident S2 images: 6\n",
      "Coincident S2 image FOUND\n",
      "Done with granule.\n",
      "\n",
      "\n",
      "\n",
      "Granules found: 1\n",
      "[Collection: {'EntryTitle': 'ATLAS/ICESat-2 L3A Sea Ice Height V006'}\n",
      "Spatial coverage: {'HorizontalSpatialDomain': {'Orbit': {'AscendingCrossing': -159.49266690093378, 'StartLatitude': 27.0, 'StartDirection': 'A', 'EndLatitude': 27.0, 'EndDirection': 'D'}}}\n",
      "Temporal coverage: {'RangeDateTime': {'BeginningDateTime': '2021-04-24T06:24:29.665Z', 'EndingDateTime': '2021-04-24T06:40:56.533Z'}}\n",
      "Size(MB): 304.56350898742676\n",
      "Data: ['https://data.nsidc.earthdatacloud.nasa.gov/nsidc-cumulus-prod-protected/ATLAS/ATL07/006/2021/04/24/ATL07-01_20210424060832_04651101_006_02.h5']]\n",
      "Opening 1 granules, approx size: 0.3 GB\n",
      "using provider: NSIDC_CPRD\n"
     ]
    },
    {
     "data": {
      "application/vnd.jupyter.widget-view+json": {
       "model_id": "9c99f9746f5241c4ac0c11954da52806",
       "version_major": 2,
       "version_minor": 0
      },
      "text/plain": [
       "QUEUEING TASKS | :   0%|          | 0/1 [00:00<?, ?it/s]"
      ]
     },
     "metadata": {},
     "output_type": "display_data"
    },
    {
     "data": {
      "application/vnd.jupyter.widget-view+json": {
       "model_id": "aa63b129fb0043a0b3fa165c7f787a9f",
       "version_major": 2,
       "version_minor": 0
      },
      "text/plain": [
       "PROCESSING TASKS | :   0%|          | 0/1 [00:00<?, ?it/s]"
      ]
     },
     "metadata": {},
     "output_type": "display_data"
    },
    {
     "data": {
      "application/vnd.jupyter.widget-view+json": {
       "model_id": "fbddfc5a6b7d48d2985179b268fd2dbd",
       "version_major": 2,
       "version_minor": 0
      },
      "text/plain": [
       "COLLECTING RESULTS | :   0%|          | 0/1 [00:00<?, ?it/s]"
      ]
     },
     "metadata": {},
     "output_type": "display_data"
    },
    {
     "name": "stdout",
     "output_type": "stream",
     "text": [
      "\n",
      "Coincident S2 images: 0\n",
      "\n",
      "\n",
      "\n",
      "Granules found: 1\n",
      "[Collection: {'EntryTitle': 'ATLAS/ICESat-2 L3A Sea Ice Height V006'}\n",
      "Spatial coverage: {'HorizontalSpatialDomain': {'Orbit': {'AscendingCrossing': 88.11856585176837, 'StartLatitude': 27.0, 'StartDirection': 'A', 'EndLatitude': 27.0, 'EndDirection': 'D'}}}\n",
      "Temporal coverage: {'RangeDateTime': {'BeginningDateTime': '2021-04-25T13:52:09.924Z', 'EndingDateTime': '2021-04-25T14:03:37.452Z'}}\n",
      "Size(MB): 204.7309274673462\n",
      "Data: ['https://data.nsidc.earthdatacloud.nasa.gov/nsidc-cumulus-prod-protected/ATLAS/ATL07/006/2021/04/25/ATL07-01_20210425133419_04851101_006_02.h5']]\n",
      "Opening 1 granules, approx size: 0.2 GB\n",
      "using provider: NSIDC_CPRD\n"
     ]
    },
    {
     "data": {
      "application/vnd.jupyter.widget-view+json": {
       "model_id": "f51168538c224968b726161a182bfe87",
       "version_major": 2,
       "version_minor": 0
      },
      "text/plain": [
       "QUEUEING TASKS | :   0%|          | 0/1 [00:00<?, ?it/s]"
      ]
     },
     "metadata": {},
     "output_type": "display_data"
    },
    {
     "data": {
      "application/vnd.jupyter.widget-view+json": {
       "model_id": "41df873ef72540219a549342c8d503db",
       "version_major": 2,
       "version_minor": 0
      },
      "text/plain": [
       "PROCESSING TASKS | :   0%|          | 0/1 [00:00<?, ?it/s]"
      ]
     },
     "metadata": {},
     "output_type": "display_data"
    },
    {
     "data": {
      "application/vnd.jupyter.widget-view+json": {
       "model_id": "1ee9f80af1434d1b99ee06688a382cd0",
       "version_major": 2,
       "version_minor": 0
      },
      "text/plain": [
       "COLLECTING RESULTS | :   0%|          | 0/1 [00:00<?, ?it/s]"
      ]
     },
     "metadata": {},
     "output_type": "display_data"
    },
    {
     "name": "stdout",
     "output_type": "stream",
     "text": [
      "\n",
      "Coincident S2 images: 9\n",
      "Coincident S2 image FOUND\n",
      "Done with granule.\n",
      "\n",
      "\n",
      "\n",
      "Granules found: 1\n",
      "[Collection: {'EntryTitle': 'ATLAS/ICESat-2 L3A Sea Ice Height V006'}\n",
      "Spatial coverage: {'HorizontalSpatialDomain': {'Orbit': {'AscendingCrossing': -136.6517809209784, 'StartLatitude': 27.0, 'StartDirection': 'A', 'EndLatitude': 27.0, 'EndDirection': 'D'}}}\n",
      "Temporal coverage: {'RangeDateTime': {'BeginningDateTime': '2021-04-28T04:44:11.654Z', 'EndingDateTime': '2021-04-28T04:52:39.990Z'}}\n",
      "Size(MB): 340.3772888183594\n",
      "Data: ['https://data.nsidc.earthdatacloud.nasa.gov/nsidc-cumulus-prod-protected/ATLAS/ATL07/006/2021/04/28/ATL07-01_20210428042555_05251101_006_02.h5']]\n",
      "Opening 1 granules, approx size: 0.33 GB\n",
      "using provider: NSIDC_CPRD\n"
     ]
    },
    {
     "data": {
      "application/vnd.jupyter.widget-view+json": {
       "model_id": "0be75180bd0c435784600cf17adb33e2",
       "version_major": 2,
       "version_minor": 0
      },
      "text/plain": [
       "QUEUEING TASKS | :   0%|          | 0/1 [00:00<?, ?it/s]"
      ]
     },
     "metadata": {},
     "output_type": "display_data"
    },
    {
     "data": {
      "application/vnd.jupyter.widget-view+json": {
       "model_id": "6cdb2e059c7145d4af1e8dbb4c2cc664",
       "version_major": 2,
       "version_minor": 0
      },
      "text/plain": [
       "PROCESSING TASKS | :   0%|          | 0/1 [00:00<?, ?it/s]"
      ]
     },
     "metadata": {},
     "output_type": "display_data"
    },
    {
     "data": {
      "application/vnd.jupyter.widget-view+json": {
       "model_id": "506f05031c454b8bab4506c70b92c297",
       "version_major": 2,
       "version_minor": 0
      },
      "text/plain": [
       "COLLECTING RESULTS | :   0%|          | 0/1 [00:00<?, ?it/s]"
      ]
     },
     "metadata": {},
     "output_type": "display_data"
    },
    {
     "name": "stdout",
     "output_type": "stream",
     "text": [
      "\n",
      "Coincident S2 images: 0\n",
      "\n",
      "\n",
      "\n",
      "Granules found: 1\n",
      "[Collection: {'EntryTitle': 'ATLAS/ICESat-2 L3A Sea Ice Height V006'}\n",
      "Spatial coverage: {'HorizontalSpatialDomain': {'Orbit': {'AscendingCrossing': 110.96093284687917, 'StartLatitude': 27.0, 'StartDirection': 'A', 'EndLatitude': 27.0, 'EndDirection': 'D'}}}\n",
      "Temporal coverage: {'RangeDateTime': {'BeginningDateTime': '2021-04-29T12:11:34.789Z', 'EndingDateTime': '2021-04-29T12:27:28.169Z'}}\n",
      "Size(MB): 173.44592761993408\n",
      "Data: ['https://data.nsidc.earthdatacloud.nasa.gov/nsidc-cumulus-prod-protected/ATLAS/ATL07/006/2021/04/29/ATL07-01_20210429115142_05451101_006_02.h5']]\n",
      "Opening 1 granules, approx size: 0.17 GB\n",
      "using provider: NSIDC_CPRD\n"
     ]
    },
    {
     "data": {
      "application/vnd.jupyter.widget-view+json": {
       "model_id": "70f1e5232b24416da6a14a98f714475f",
       "version_major": 2,
       "version_minor": 0
      },
      "text/plain": [
       "QUEUEING TASKS | :   0%|          | 0/1 [00:00<?, ?it/s]"
      ]
     },
     "metadata": {},
     "output_type": "display_data"
    },
    {
     "data": {
      "application/vnd.jupyter.widget-view+json": {
       "model_id": "9770a96e788c46e287ef47f0724c726a",
       "version_major": 2,
       "version_minor": 0
      },
      "text/plain": [
       "PROCESSING TASKS | :   0%|          | 0/1 [00:00<?, ?it/s]"
      ]
     },
     "metadata": {},
     "output_type": "display_data"
    },
    {
     "data": {
      "application/vnd.jupyter.widget-view+json": {
       "model_id": "db9857622be44b39ad7cc0c58a38775b",
       "version_major": 2,
       "version_minor": 0
      },
      "text/plain": [
       "COLLECTING RESULTS | :   0%|          | 0/1 [00:00<?, ?it/s]"
      ]
     },
     "metadata": {},
     "output_type": "display_data"
    },
    {
     "name": "stdout",
     "output_type": "stream",
     "text": [
      "\n",
      "Coincident S2 images: 13\n",
      "Coincident S2 image FOUND\n",
      "Done with granule.\n",
      "\n",
      "\n",
      "\n",
      "Granules found: 1\n",
      "[Collection: {'EntryTitle': 'ATLAS/ICESat-2 L3A Sea Ice Height V006'}\n",
      "Spatial coverage: {'HorizontalSpatialDomain': {'Orbit': {'AscendingCrossing': -1.426753588363317, 'StartLatitude': 27.0, 'StartDirection': 'A', 'EndLatitude': 27.0, 'EndDirection': 'D'}}}\n",
      "Temporal coverage: {'RangeDateTime': {'BeginningDateTime': '2021-04-30T19:36:51.141Z', 'EndingDateTime': '2021-04-30T19:44:11.964Z'}}\n",
      "Size(MB): 195.32662677764893\n",
      "Data: ['https://data.nsidc.earthdatacloud.nasa.gov/nsidc-cumulus-prod-protected/ATLAS/ATL07/006/2021/04/30/ATL07-01_20210430191730_05651101_006_02.h5']]\n",
      "Opening 1 granules, approx size: 0.19 GB\n",
      "using provider: NSIDC_CPRD\n"
     ]
    },
    {
     "data": {
      "application/vnd.jupyter.widget-view+json": {
       "model_id": "c8d1da0eebc44e0d8e8d71d61153978b",
       "version_major": 2,
       "version_minor": 0
      },
      "text/plain": [
       "QUEUEING TASKS | :   0%|          | 0/1 [00:00<?, ?it/s]"
      ]
     },
     "metadata": {},
     "output_type": "display_data"
    },
    {
     "data": {
      "application/vnd.jupyter.widget-view+json": {
       "model_id": "e5676590fa5347b5a90c4e31ac42e348",
       "version_major": 2,
       "version_minor": 0
      },
      "text/plain": [
       "PROCESSING TASKS | :   0%|          | 0/1 [00:00<?, ?it/s]"
      ]
     },
     "metadata": {},
     "output_type": "display_data"
    },
    {
     "data": {
      "application/vnd.jupyter.widget-view+json": {
       "model_id": "edb19242eea5470497dffb136bc050d1",
       "version_major": 2,
       "version_minor": 0
      },
      "text/plain": [
       "COLLECTING RESULTS | :   0%|          | 0/1 [00:00<?, ?it/s]"
      ]
     },
     "metadata": {},
     "output_type": "display_data"
    },
    {
     "name": "stdout",
     "output_type": "stream",
     "text": [
      "\n",
      "Coincident S2 images: 20\n",
      "Coincident S2 image FOUND\n",
      "Done with granule.\n",
      "\n",
      "\n",
      "\n",
      "Granules found: 1\n",
      "[Collection: {'EntryTitle': 'ATLAS/ICESat-2 L3A Sea Ice Height V006'}\n",
      "Spatial coverage: {'HorizontalSpatialDomain': {'Orbit': {'AscendingCrossing': -32.57191329696603, 'StartLatitude': 27.0, 'StartDirection': 'A', 'EndLatitude': 27.0, 'EndDirection': 'D'}}}\n",
      "Temporal coverage: {'RangeDateTime': {'BeginningDateTime': '2021-10-07T14:05:59.329Z', 'EndingDateTime': '2021-10-07T14:10:54.832Z'}}\n",
      "Size(MB): 179.70015144348145\n",
      "Data: ['https://data.nsidc.earthdatacloud.nasa.gov/nsidc-cumulus-prod-protected/ATLAS/ATL07/006/2021/10/07/ATL07-01_20211007134434_02311301_006_01.h5']]\n",
      "Opening 1 granules, approx size: 0.18 GB\n",
      "using provider: NSIDC_CPRD\n"
     ]
    },
    {
     "data": {
      "application/vnd.jupyter.widget-view+json": {
       "model_id": "e6f4812861304dba9fd030efc3578bc4",
       "version_major": 2,
       "version_minor": 0
      },
      "text/plain": [
       "QUEUEING TASKS | :   0%|          | 0/1 [00:00<?, ?it/s]"
      ]
     },
     "metadata": {},
     "output_type": "display_data"
    },
    {
     "data": {
      "application/vnd.jupyter.widget-view+json": {
       "model_id": "2f03ea5eecde43baabb05dc08f6060cc",
       "version_major": 2,
       "version_minor": 0
      },
      "text/plain": [
       "PROCESSING TASKS | :   0%|          | 0/1 [00:00<?, ?it/s]"
      ]
     },
     "metadata": {},
     "output_type": "display_data"
    },
    {
     "data": {
      "application/vnd.jupyter.widget-view+json": {
       "model_id": "b55ec2edfe7b4a239d3ec687ebf52619",
       "version_major": 2,
       "version_minor": 0
      },
      "text/plain": [
       "COLLECTING RESULTS | :   0%|          | 0/1 [00:00<?, ?it/s]"
      ]
     },
     "metadata": {},
     "output_type": "display_data"
    },
    {
     "name": "stdout",
     "output_type": "stream",
     "text": [
      "\n",
      "Coincident S2 images: 0\n",
      "\n",
      "\n",
      "\n",
      "Granules found: 1\n",
      "[Collection: {'EntryTitle': 'ATLAS/ICESat-2 L3A Sea Ice Height V006'}\n",
      "Spatial coverage: {'HorizontalSpatialDomain': {'Orbit': {'AscendingCrossing': 13.107685062387144, 'StartLatitude': 27.0, 'StartDirection': 'A', 'EndLatitude': 27.0, 'EndDirection': 'D'}}}\n",
      "Temporal coverage: {'RangeDateTime': {'BeginningDateTime': '2021-10-15T10:34:49.768Z', 'EndingDateTime': '2021-10-15T10:46:47.547Z'}}\n",
      "Size(MB): 169.44218921661377\n",
      "Data: ['https://data.nsidc.earthdatacloud.nasa.gov/nsidc-cumulus-prod-protected/ATLAS/ATL07/006/2021/10/15/ATL07-01_20211015101920_03511301_006_01.h5']]\n",
      "Opening 1 granules, approx size: 0.17 GB\n",
      "using provider: NSIDC_CPRD\n"
     ]
    },
    {
     "data": {
      "application/vnd.jupyter.widget-view+json": {
       "model_id": "88361cdc71374900a7a8b7dc8fa4aa6f",
       "version_major": 2,
       "version_minor": 0
      },
      "text/plain": [
       "QUEUEING TASKS | :   0%|          | 0/1 [00:00<?, ?it/s]"
      ]
     },
     "metadata": {},
     "output_type": "display_data"
    },
    {
     "data": {
      "application/vnd.jupyter.widget-view+json": {
       "model_id": "ea0081948de64d9caf146cdf444e11d0",
       "version_major": 2,
       "version_minor": 0
      },
      "text/plain": [
       "PROCESSING TASKS | :   0%|          | 0/1 [00:00<?, ?it/s]"
      ]
     },
     "metadata": {},
     "output_type": "display_data"
    },
    {
     "data": {
      "application/vnd.jupyter.widget-view+json": {
       "model_id": "7c900db3e92e48d0a5edbf0fac31ab6c",
       "version_major": 2,
       "version_minor": 0
      },
      "text/plain": [
       "COLLECTING RESULTS | :   0%|          | 0/1 [00:00<?, ?it/s]"
      ]
     },
     "metadata": {},
     "output_type": "display_data"
    },
    {
     "name": "stdout",
     "output_type": "stream",
     "text": [
      "\n",
      "Coincident S2 images: 0\n",
      "\n",
      "\n",
      "\n",
      "Granules found: 1\n",
      "[Collection: {'EntryTitle': 'ATLAS/ICESat-2 L3A Sea Ice Height V006'}\n",
      "Spatial coverage: {'HorizontalSpatialDomain': {'Orbit': {'AscendingCrossing': 171.17692274112926, 'StartLatitude': 27.0, 'StartDirection': 'A', 'EndLatitude': 27.0, 'EndDirection': 'D'}}}\n",
      "Temporal coverage: {'RangeDateTime': {'BeginningDateTime': '2021-10-21T23:46:27.987Z', 'EndingDateTime': '2021-10-21T23:55:06.884Z'}}\n",
      "Size(MB): 227.85223484039307\n",
      "Data: ['https://data.nsidc.earthdatacloud.nasa.gov/nsidc-cumulus-prod-protected/ATLAS/ATL07/006/2021/10/21/ATL07-01_20211021232819_04511301_006_01.h5']]\n",
      "Opening 1 granules, approx size: 0.22 GB\n",
      "using provider: NSIDC_CPRD\n"
     ]
    },
    {
     "data": {
      "application/vnd.jupyter.widget-view+json": {
       "model_id": "0199e6f960d24a8a9af96762093f905e",
       "version_major": 2,
       "version_minor": 0
      },
      "text/plain": [
       "QUEUEING TASKS | :   0%|          | 0/1 [00:00<?, ?it/s]"
      ]
     },
     "metadata": {},
     "output_type": "display_data"
    },
    {
     "data": {
      "application/vnd.jupyter.widget-view+json": {
       "model_id": "377ec75f09fe4170bc435a1ed2747075",
       "version_major": 2,
       "version_minor": 0
      },
      "text/plain": [
       "PROCESSING TASKS | :   0%|          | 0/1 [00:00<?, ?it/s]"
      ]
     },
     "metadata": {},
     "output_type": "display_data"
    },
    {
     "data": {
      "application/vnd.jupyter.widget-view+json": {
       "model_id": "6d690891667b4bdba9f98bdf06c378bb",
       "version_major": 2,
       "version_minor": 0
      },
      "text/plain": [
       "COLLECTING RESULTS | :   0%|          | 0/1 [00:00<?, ?it/s]"
      ]
     },
     "metadata": {},
     "output_type": "display_data"
    },
    {
     "name": "stdout",
     "output_type": "stream",
     "text": [
      "\n",
      "Coincident S2 images: 1\n",
      "Coincident S2 image FOUND\n",
      "Done with granule.\n",
      "\n",
      "\n",
      "\n",
      "Granules found: 1\n",
      "[Collection: {'EntryTitle': 'ATLAS/ICESat-2 L3A Sea Ice Height V006'}\n",
      "Spatial coverage: {'HorizontalSpatialDomain': {'Orbit': {'AscendingCrossing': -7.915071522896372, 'StartLatitude': 27.0, 'StartDirection': 'A', 'EndLatitude': 27.0, 'EndDirection': 'D'}}}\n",
      "Temporal coverage: {'RangeDateTime': {'BeginningDateTime': '2021-11-01T11:13:32.498Z', 'EndingDateTime': '2021-11-01T11:23:48.326Z'}}\n",
      "Size(MB): 126.99230289459229\n",
      "Data: ['https://data.nsidc.earthdatacloud.nasa.gov/nsidc-cumulus-prod-protected/ATLAS/ATL07/006/2021/11/01/ATL07-01_20211101105441_06111301_006_01.h5']]\n",
      "Opening 1 granules, approx size: 0.12 GB\n",
      "using provider: NSIDC_CPRD\n"
     ]
    },
    {
     "data": {
      "application/vnd.jupyter.widget-view+json": {
       "model_id": "176eb97759ab4b0caf38aa47f2ac2a96",
       "version_major": 2,
       "version_minor": 0
      },
      "text/plain": [
       "QUEUEING TASKS | :   0%|          | 0/1 [00:00<?, ?it/s]"
      ]
     },
     "metadata": {},
     "output_type": "display_data"
    },
    {
     "data": {
      "application/vnd.jupyter.widget-view+json": {
       "model_id": "1c2bac8e3ba644a9b10f55973fa909ce",
       "version_major": 2,
       "version_minor": 0
      },
      "text/plain": [
       "PROCESSING TASKS | :   0%|          | 0/1 [00:00<?, ?it/s]"
      ]
     },
     "metadata": {},
     "output_type": "display_data"
    },
    {
     "data": {
      "application/vnd.jupyter.widget-view+json": {
       "model_id": "63c71ea2111047ad9eb743787cce3b35",
       "version_major": 2,
       "version_minor": 0
      },
      "text/plain": [
       "COLLECTING RESULTS | :   0%|          | 0/1 [00:00<?, ?it/s]"
      ]
     },
     "metadata": {},
     "output_type": "display_data"
    },
    {
     "name": "stdout",
     "output_type": "stream",
     "text": [
      "\n",
      "Coincident S2 images: 0\n",
      "\n",
      "\n",
      "\n",
      "Granules found: 1\n",
      "[Collection: {'EntryTitle': 'ATLAS/ICESat-2 L3A Sea Ice Height V006'}\n",
      "Spatial coverage: {'HorizontalSpatialDomain': {'Orbit': {'AscendingCrossing': -97.45909772335429, 'StartLatitude': 27.0, 'StartDirection': 'A', 'EndLatitude': 27.0, 'EndDirection': 'D'}}}\n",
      "Temporal coverage: {'RangeDateTime': {'BeginningDateTime': '2021-11-06T16:55:36.839Z', 'EndingDateTime': '2021-11-06T17:06:06.093Z'}}\n",
      "Size(MB): 186.3763132095337\n",
      "Data: ['https://data.nsidc.earthdatacloud.nasa.gov/nsidc-cumulus-prod-protected/ATLAS/ATL07/006/2021/11/06/ATL07-01_20211106163753_06911301_006_01.h5']]\n",
      "Opening 1 granules, approx size: 0.18 GB\n",
      "using provider: NSIDC_CPRD\n"
     ]
    },
    {
     "data": {
      "application/vnd.jupyter.widget-view+json": {
       "model_id": "a7190ae6761c4c9086baf4f4418302de",
       "version_major": 2,
       "version_minor": 0
      },
      "text/plain": [
       "QUEUEING TASKS | :   0%|          | 0/1 [00:00<?, ?it/s]"
      ]
     },
     "metadata": {},
     "output_type": "display_data"
    },
    {
     "data": {
      "application/vnd.jupyter.widget-view+json": {
       "model_id": "b4601d79f0a3457e97518d3e431ce3e9",
       "version_major": 2,
       "version_minor": 0
      },
      "text/plain": [
       "PROCESSING TASKS | :   0%|          | 0/1 [00:00<?, ?it/s]"
      ]
     },
     "metadata": {},
     "output_type": "display_data"
    },
    {
     "data": {
      "application/vnd.jupyter.widget-view+json": {
       "model_id": "54aeb877b36d476cac035a0664d3e383",
       "version_major": 2,
       "version_minor": 0
      },
      "text/plain": [
       "COLLECTING RESULTS | :   0%|          | 0/1 [00:00<?, ?it/s]"
      ]
     },
     "metadata": {},
     "output_type": "display_data"
    },
    {
     "name": "stdout",
     "output_type": "stream",
     "text": [
      "\n",
      "Coincident S2 images: 0\n",
      "\n",
      "\n",
      "\n",
      "Granules found: 1\n",
      "[Collection: {'EntryTitle': 'ATLAS/ICESat-2 L3A Sea Ice Height V006'}\n",
      "Spatial coverage: {'HorizontalSpatialDomain': {'Orbit': {'AscendingCrossing': 150.1530260330119, 'StartLatitude': 27.0, 'StartDirection': 'A', 'EndLatitude': 27.0, 'EndDirection': 'D'}}}\n",
      "Temporal coverage: {'RangeDateTime': {'BeginningDateTime': '2021-11-08T00:22:16.331Z', 'EndingDateTime': '2021-11-08T00:29:13.373Z'}}\n",
      "Size(MB): 200.2167625427246\n",
      "Data: ['https://data.nsidc.earthdatacloud.nasa.gov/nsidc-cumulus-prod-protected/ATLAS/ATL07/006/2021/11/08/ATL07-01_20211108000339_07111301_006_01.h5']]\n",
      "Opening 1 granules, approx size: 0.2 GB\n",
      "using provider: NSIDC_CPRD\n"
     ]
    },
    {
     "data": {
      "application/vnd.jupyter.widget-view+json": {
       "model_id": "3473eeb52eb740ceb66e50a78fe5ab15",
       "version_major": 2,
       "version_minor": 0
      },
      "text/plain": [
       "QUEUEING TASKS | :   0%|          | 0/1 [00:00<?, ?it/s]"
      ]
     },
     "metadata": {},
     "output_type": "display_data"
    },
    {
     "data": {
      "application/vnd.jupyter.widget-view+json": {
       "model_id": "893e49fa55094f8da8c77017b7fc9144",
       "version_major": 2,
       "version_minor": 0
      },
      "text/plain": [
       "PROCESSING TASKS | :   0%|          | 0/1 [00:00<?, ?it/s]"
      ]
     },
     "metadata": {},
     "output_type": "display_data"
    },
    {
     "data": {
      "application/vnd.jupyter.widget-view+json": {
       "model_id": "1318ef2267d24f058d5315d7ab7911df",
       "version_major": 2,
       "version_minor": 0
      },
      "text/plain": [
       "COLLECTING RESULTS | :   0%|          | 0/1 [00:00<?, ?it/s]"
      ]
     },
     "metadata": {},
     "output_type": "display_data"
    },
    {
     "name": "stdout",
     "output_type": "stream",
     "text": [
      "\n",
      "Coincident S2 images: 0\n",
      "\n",
      "\n",
      "\n",
      "Granules found: 1\n",
      "[Collection: {'EntryTitle': 'ATLAS/ICESat-2 L3A Sea Ice Height V006'}\n",
      "Spatial coverage: {'HorizontalSpatialDomain': {'Orbit': {'AscendingCrossing': 60.60515377526369, 'StartLatitude': 27.0, 'StartDirection': 'A', 'EndLatitude': 27.0, 'EndDirection': 'D'}}}\n",
      "Temporal coverage: {'RangeDateTime': {'BeginningDateTime': '2021-11-13T06:07:36.692Z', 'EndingDateTime': '2021-11-13T06:14:28.283Z'}}\n",
      "Size(MB): 106.11937808990479\n",
      "Data: ['https://data.nsidc.earthdatacloud.nasa.gov/nsidc-cumulus-prod-protected/ATLAS/ATL07/006/2021/11/13/ATL07-01_20211113054657_07911301_006_01.h5']]\n",
      "Opening 1 granules, approx size: 0.1 GB\n",
      "using provider: NSIDC_CPRD\n"
     ]
    },
    {
     "data": {
      "application/vnd.jupyter.widget-view+json": {
       "model_id": "5fbd0331af2b4aa4a38e6046dc0a0461",
       "version_major": 2,
       "version_minor": 0
      },
      "text/plain": [
       "QUEUEING TASKS | :   0%|          | 0/1 [00:00<?, ?it/s]"
      ]
     },
     "metadata": {},
     "output_type": "display_data"
    },
    {
     "data": {
      "application/vnd.jupyter.widget-view+json": {
       "model_id": "d1155785fdd9456aaa77ca7c885ee2b1",
       "version_major": 2,
       "version_minor": 0
      },
      "text/plain": [
       "PROCESSING TASKS | :   0%|          | 0/1 [00:00<?, ?it/s]"
      ]
     },
     "metadata": {},
     "output_type": "display_data"
    },
    {
     "data": {
      "application/vnd.jupyter.widget-view+json": {
       "model_id": "fcdbd539f44c4c47b3746f2de1655172",
       "version_major": 2,
       "version_minor": 0
      },
      "text/plain": [
       "COLLECTING RESULTS | :   0%|          | 0/1 [00:00<?, ?it/s]"
      ]
     },
     "metadata": {},
     "output_type": "display_data"
    },
    {
     "name": "stdout",
     "output_type": "stream",
     "text": [
      "\n",
      "Coincident S2 images: 0\n",
      "\n",
      "\n",
      "\n",
      "Granules found: 1\n",
      "[Collection: {'EntryTitle': 'ATLAS/ICESat-2 L3A Sea Ice Height V006'}\n",
      "Spatial coverage: {'HorizontalSpatialDomain': {'Orbit': {'AscendingCrossing': -164.16468328662728, 'StartLatitude': 27.0, 'StartDirection': 'A', 'EndLatitude': 27.0, 'EndDirection': 'D'}}}\n",
      "Temporal coverage: {'RangeDateTime': {'BeginningDateTime': '2021-11-15T20:55:22.458Z', 'EndingDateTime': '2021-11-15T21:08:32.301Z'}}\n",
      "Size(MB): 412.31697177886963\n",
      "Data: ['https://data.nsidc.earthdatacloud.nasa.gov/nsidc-cumulus-prod-protected/ATLAS/ATL07/006/2021/11/15/ATL07-01_20211115203827_08311301_006_01.h5']]\n",
      "Opening 1 granules, approx size: 0.4 GB\n",
      "using provider: NSIDC_CPRD\n"
     ]
    },
    {
     "data": {
      "application/vnd.jupyter.widget-view+json": {
       "model_id": "9b94967b0fc04c45999f315724e8c191",
       "version_major": 2,
       "version_minor": 0
      },
      "text/plain": [
       "QUEUEING TASKS | :   0%|          | 0/1 [00:00<?, ?it/s]"
      ]
     },
     "metadata": {},
     "output_type": "display_data"
    },
    {
     "data": {
      "application/vnd.jupyter.widget-view+json": {
       "model_id": "58415c454a4f4abea69cefdd46ad63e7",
       "version_major": 2,
       "version_minor": 0
      },
      "text/plain": [
       "PROCESSING TASKS | :   0%|          | 0/1 [00:00<?, ?it/s]"
      ]
     },
     "metadata": {},
     "output_type": "display_data"
    },
    {
     "data": {
      "application/vnd.jupyter.widget-view+json": {
       "model_id": "2e486c0694b4458ea1a10c56ad04dd22",
       "version_major": 2,
       "version_minor": 0
      },
      "text/plain": [
       "COLLECTING RESULTS | :   0%|          | 0/1 [00:00<?, ?it/s]"
      ]
     },
     "metadata": {},
     "output_type": "display_data"
    }
   ],
   "source": [
    "#find the matched S2 images for each IS2 file\n",
    "coincident_S2_images=[]\n",
    "\n",
    "# S2 IDs\n",
    "coincident_S2_image_ids=[]\n",
    "\n",
    "#S2 coordinates\n",
    "S2_coords=[]\n",
    "\n",
    "#number of S2 images for each IS2 granule\n",
    "number_of_coincident_scenes_in_granule=[]\n",
    "\n",
    "# coordinate tracks for each coincident IS2 granule\n",
    "is2_coordinate_tracks_matched=[] \n",
    "\n",
    "# save ATL07 info for the coincident S-2 tracks\n",
    "ATL_midtimes_matched=[]\n",
    "ATL_filenames_matched=[]\n",
    "\n",
    "# Loop over ICESat-2 granules\n",
    "# Coarsen by this number of data points to speed things up, can play with this more as desired\n",
    "NPTS=10\n",
    "# Time difference in minutes\n",
    "deltatime=180\n",
    "# Max cloud cover in the S-2 images\n",
    "max_cloud_cover=100\n",
    "\n",
    "# filter data close to land (m)\n",
    "dist_land_mask=10000\n",
    "\n",
    "image_catalog = \"S2_SR\"\n",
    "\n",
    "for c2ice_file in c2ice_files:\n",
    "\n",
    "    granules_cloud = earthaccess.search_data(\n",
    "        short_name = 'ATL07',\n",
    "        version = '006',\n",
    "        cloud_hosted = True,\n",
    "        bounding_box = (-180,60,180,90),\n",
    "        #temporal = ('2020-10-01','2020-10-30'),\n",
    "        granule_name=c2ice_file,\n",
    "    )\n",
    "    \n",
    "    print(granules_cloud)\n",
    "    \n",
    "    # Open files (not found a way of not needing to do this..)\n",
    "    atl07_file = earthaccess.open(granules_cloud)\n",
    "    ATL = h5py.File(atl07_file[0], 'r')\n",
    "    \n",
    "    orientation = ATL['/orbit_info/sc_orient'][0]\n",
    "\n",
    "    # Only use central strong beam locations\n",
    "    if orientation == 0:\n",
    "        beamID = 'gt2l'\n",
    "    elif orientation == 1:\n",
    "        beamID = 'gt2r'\n",
    "    else:\n",
    "        print('Spacecraft orientation not found.')\n",
    "\n",
    "    # Extract data info from granule\n",
    "    ATL_start_time = ATL['/ancillary_data/data_start_utc'][0]\n",
    "    ATL_start = pd.to_datetime(ATL_start_time[:-8].decode('utf-8'), format='%Y-%m-%dT%H:%M:%S')\n",
    "    ATL_end_time = ATL['/ancillary_data/data_end_utc'][0]\n",
    "    ATL_end = pd.to_datetime(ATL_end_time[:-8].decode('utf-8'), format='%Y-%m-%dT%H:%M:%S')\n",
    "\n",
    "    ATL_lon = ATL[beamID + '/sea_ice_segments/longitude'][:]\n",
    "    ATL_lat = ATL[beamID + '/sea_ice_segments/latitude'][:]\n",
    "\n",
    "    # read in the new dist to land variable to filter these values out now we have a lot more land data in rel006!\n",
    "    ATL_dist_land = ATL[beamID+'/sea_ice_segments/stats/dist2land'][:]\n",
    "    ATL_lon = ATL_lon[ATL_dist_land>dist_land_mask]\n",
    "    ATL_lat = ATL_lat[ATL_dist_land>dist_land_mask]\n",
    "    atl07_coords = list(zip(ATL_lon[::NPTS], ATL_lat[::NPTS])) \n",
    "    \n",
    "    # Use astropy to convert from gps time to datetime\n",
    "    #GPS_epoch = ATL['ancillary_data/atlas_sdp_gps_epoch'][:]\n",
    "    #GPS_time = ATL[beamID + '/sea_ice_segments/delta_time'][::NPTS] + GPS_epoch\n",
    "    #ATL_tgps = Time(GPS_time, format='gps')\n",
    "    #ATL_utc = ATL_tgps.utc.iso\n",
    "    \n",
    "    \n",
    "    #create a feature collection representing a line from a list of valid latitude and longitude coordinate points.\n",
    "    feature_track_temp = ee.FeatureCollection(ee.Geometry.LineString(coords=atl07_coords, proj='EPSG:4326', geodesic=True))\n",
    "    \n",
    "    roi = feature_track_temp.geometry()\n",
    "    \n",
    "    # Query Sentinel-2 images using ATL07 file information\n",
    "    #L1C data: COPERNICUS/S2_HARMONIZED S2 (NOT FINDING ANYTHING)\n",
    "    #L2A data: COPERNICUS/S2_SR_HARMONIZED COPERNICUS/S2_SR (this one is what Wenxuan used)\n",
    "    \n",
    "    imagecollection=ee.ImageCollection(\"COPERNICUS/\"+image_catalog).filterBounds(roi)\\\n",
    "    .filterDate(ATL_start- dt.timedelta(minutes=deltatime), ATL_end+ dt.timedelta(minutes=deltatime))\\\n",
    "    .filter(ee.Filter.lt('CLOUD_COVERAGE_ASSESSMENT', max_cloud_cover))\n",
    "    #.filter(ee.Filter.lt('NODATA_PIXEL_PERCENTAGE', 10))\n",
    "    \n",
    "    print('\\nCoincident S2 images:', imagecollection.size().getInfo())\n",
    "    if imagecollection.size().getInfo()>0:\n",
    "        print('Coincident S2 image FOUND')\n",
    "        \n",
    "        # save number of images\n",
    "        number_of_coincident_scenes_in_granule.append(imagecollection.size().getInfo()) \n",
    "\n",
    "        # save actual image collection\n",
    "        coincident_S2_images.append(imagecollection)\n",
    "\n",
    "        # S2 image IDs\n",
    "        S2_ids = [imagecollection.toList(imagecollection.size().getInfo()).getInfo()[i]['id'] for i in range(0, imagecollection.size().getInfo())]\n",
    "        coincident_S2_image_ids.append(S2_ids)\n",
    "\n",
    "        # save first coordinte of first image found \n",
    "        S2_coord = imagecollection.toList(imagecollection.size().getInfo()).getInfo()[0]['properties']['system:footprint']['coordinates'][0]\n",
    "        S2_coords.append(S2_coord)\n",
    "        \n",
    "        is2_coordinate_tracks_matched.append(feature_track_temp)\n",
    "        ATL_mid = ATL_start + (ATL_end-ATL_start)/2\n",
    "        ATL_midtimes_matched.append(ATL_mid)\n",
    "        ATL_filenames_matched.append(c2ice_file)\n",
    "        print('Done with granule.')\n",
    "    \n",
    "    print('\\n\\n')\n",
    "\n",
    "\n",
    "\n"
   ]
  },
  {
   "cell_type": "code",
   "execution_count": null,
   "id": "c8d7d28b-e6b0-4697-baa6-98e4ef3b7cc6",
   "metadata": {},
   "outputs": [],
   "source": [
    "# Save the output\n",
    "np.save('../Data/search_output/coincident_S2_image_ids_dt'+str(deltatime)+'_mcc'+str(max_cloud_cover)+'_dlnd'+str(dist_land_mask)+image_catalog, coincident_S2_image_ids)\n",
    "np.save('../Data/search_output/S2_coords'+str(deltatime)+'_mcc'+str(max_cloud_cover)+'_dlnd'+str(dist_land_mask)+image_catalog, S2_coords)\n",
    "np.save('../Data/search_output/number_of_coincident_scenes_in_granule'+str(deltatime)+'_mcc'+str(max_cloud_cover)+'_dlnd'+str(dist_land_mask)+image_catalog, number_of_coincident_scenes_in_granule)\n",
    "np.save('../Data/search_output/is2_coordinate_tracks_matched'+str(deltatime)+'_mcc'+str(max_cloud_cover)+'_dlnd'+str(dist_land_mask)+image_catalog, is2_coordinate_tracks_matched)\n",
    "np.save('../Data/search_output/ATL_midtimes_matched'+str(deltatime)+'_mcc'+str(max_cloud_cover)+'_dlnd'+str(dist_land_mask)+image_catalog, ATL_midtimes_matched)\n",
    "np.save('../Data/search_output/ATL_filenames_matched'+str(deltatime)+'_mcc'+str(max_cloud_cover)+'_dlnd'+str(dist_land_mask)+image_catalog, ATL_filenames_matched)\n",
    "\n",
    "        "
   ]
  },
  {
   "cell_type": "code",
   "execution_count": null,
   "id": "367f51f8-5748-4e80-a42b-67ffe6bfb65b",
   "metadata": {},
   "outputs": [],
   "source": []
  },
  {
   "cell_type": "code",
   "execution_count": null,
   "id": "1560b584-9b0c-4865-8522-d634f9cfa20b",
   "metadata": {},
   "outputs": [],
   "source": [
    "coincident_S2_images"
   ]
  },
  {
   "cell_type": "code",
   "execution_count": null,
   "id": "d090b6b8-ab22-4ae2-bf80-32a09f0906e6",
   "metadata": {},
   "outputs": [],
   "source": [
    "# MOSAIC images\n",
    "coincident_S2_mosaics=[]\n",
    "for imagecollection in coincident_S2_images:\n",
    "    # mosaic images and save that too\n",
    "    # more ideas here: https://developers.google.com/earth-engine/apidocs/ee-imagecollection-mosaic\n",
    "    # could add cloud filters and other things here, for now just creudely mosaic them...\n",
    "    print('Mosaicing images...')\n",
    "    mosaic = imagecollection.mosaic()\n",
    "    coincident_S2_mosaics.append(mosaic)"
   ]
  },
  {
   "cell_type": "code",
   "execution_count": null,
   "id": "8a58a94f-848b-4711-b8ef-1e607897e6dd",
   "metadata": {},
   "outputs": [],
   "source": []
  },
  {
   "cell_type": "code",
   "execution_count": null,
   "id": "ead99f0b-2dec-410f-bb7f-1ed4e3b497c9",
   "metadata": {},
   "outputs": [],
   "source": [
    "Map = geemap.Map()\n",
    "\n",
    "coincident_granule_num = 1\n",
    "\n",
    "#coincident_S2_images\n",
    "#s2_id = coincident_S2_images[coincident_granule_num].aggregate_first('id').getInfo()\n",
    "mean_cloud_cover = coincident_S2_images[coincident_granule_num].aggregate_mean('CLOUD_COVERAGE_ASSESSMENT').getInfo()\n",
    "#mean_cloud_pixel = coincident_S2_images[coincident_granule_num].aggregate_mean('CLOUDY_PIXEL_PERCENTAGE').getInfo()\n",
    "mean_time_delta = coincident_S2_images[coincident_granule_num].aggregate_mean('system:time_start').getInfo()\n",
    "time_s2 = datetime(1970, 1, 1) + timedelta(seconds = mean_time_delta/1000) \n",
    "\n",
    "print(ATL_filenames_matched[coincident_granule_num])\n",
    "cs2_file_name = c2ice_df[c2ice_df['atl07filename']==ATL_filenames_matched[coincident_granule_num]].l2filename.tolist()[0]\n",
    "print(cs2_file_name)\n",
    "print('Coincident S-2 images', coincident_S2_image_ids[coincident_granule_num])\n",
    "\n",
    "time_cs2_s = c2ice_df[c2ice_df['atl07filename']==ATL_filenames_matched[coincident_granule_num]].cs2_start_time_dt.tolist()[0]\n",
    "time_is2_s = c2ice_df[c2ice_df['atl07filename']==ATL_filenames_matched[coincident_granule_num]].is2_start_time_dt.tolist()[0]\n",
    "time_diff_mins_cs2 = np.int(abs(time_cs2_s-time_s2).seconds/60)\n",
    "time_diff_mins_is2 = np.int(abs(time_is2_s-time_s2).seconds/60)\n",
    "print(f\"Time difference = {time_diff_mins_cs2} minutes between S-2 and start of IS-2 track\")\n",
    "print(f\"Time difference = {time_diff_mins_is2_v2} minutes between S-2 and start of CS-2 track\")\n",
    "\n",
    "time_is2_m = ATL_midtimes_matched[coincident_granule_num]\n",
    "time_diff_mins_is2_mid = np.int(abs(time_is2_m-time_s2).seconds/60)\n",
    "print(f\"Time difference = {time_diff_mins_is2_mid} minutes between S-2 and estimated middle of IS-2 track\")\n",
    "\n",
    "print(f\"Cloud cover = {mean_cloud_cover} %\")\n",
    "\n",
    "\n",
    "\n",
    "#print(mean_cloud_cover, time_s2, time_is2, time_diff_mins)\n",
    "\n",
    "mosaiced_scene = coincident_S2_mosaics[coincident_granule_num]\n",
    "#img = ee.Image(mosaiced_scene).select('B4','B3','B2')\n",
    "\n",
    "Map.addLayer(mosaiced_scene, {'bands': ['B4', 'B3', 'B2'], 'max': 10000}, 'RGB Mosaic')\n",
    "\n",
    "# Center Map around the first image, not figured out how to instead use the mosaic for this\n",
    "img = ee.Image(coincident_S2_image_ids[coincident_granule_num][0]).select('B4','B3','B2')\n",
    "Map.centerObject(img, zoom = 7)\n",
    "Map.addLayer(is2_coordinate_tracks_matched[coincident_granule_num], {}, \"ATl07 beam (middle strong)\")\n",
    "#Map.to_html(outfile='./your_map.html', title='My Map', width='100%', height='880px')\n",
    "\n",
    "# Export the map as a PNG\n",
    "#url = mosaiced_scene.getThumbURL({\n",
    "#    'region': geometry.getInfo(),\n",
    "#    'dimensions': 1024,\n",
    "#    'format': 'png'\n",
    "#})\n",
    "\n",
    "Map"
   ]
  },
  {
   "cell_type": "code",
   "execution_count": null,
   "id": "0480ad1e-154b-467a-b095-2625019acbe8",
   "metadata": {},
   "outputs": [],
   "source": []
  },
  {
   "cell_type": "code",
   "execution_count": null,
   "id": "f829fa96-89cb-4377-b626-82d777506ba1",
   "metadata": {},
   "outputs": [],
   "source": [
    "# Plot a little map showing the location of the S-2 images\n",
    "\n",
    "import matplotlib.pyplot as plt\n",
    "import cartopy.crs as ccrs\n",
    "import cartopy.feature as cfeature\n",
    "\n",
    "# Your list of longitudes and latitudes\n",
    "# Format: [(lon1, lat1), (lon2, lat2), ...]\n",
    "coordinates = [(80, 80), (85, 85)]\n",
    "\n",
    "# Create a figure and add a subplot with a North Polar Stereographic projection\n",
    "fig = plt.figure(figsize=(10, 10))\n",
    "ax = fig.add_subplot(1, 1, 1, projection=ccrs.NorthPolarStereo())\n",
    "\n",
    "# Set the extent of the map to focus on the North Pole area\n",
    "ax.set_extent([-180, 180, 60, 90], ccrs.PlateCarree())\n",
    "\n",
    "# Add coastlines and borders for context\n",
    "ax.add_feature(cfeature.COASTLINE)\n",
    "#ax.add_feature(cfeature.BORDERS, linestyle=':')\n",
    "\n",
    "# Plot the markers based on the provided coordinates\n",
    "x=1\n",
    "for lon, lat in S2_coords:\n",
    "    ax.plot(lon, lat, 'ro', markersize=5, transform=ccrs.Geodetic())\n",
    "    ax.text(lon, lat, str(x), transform=ccrs.Geodetic())\n",
    "    x+=1\n",
    "\n",
    "plt.savefig('../Data/search_output/locations'+str(deltatime)+'_mcc'+str(max_cloud_cover)+'_dlnd'+str(dist_land_mask)+image_catalog+'.png')\n",
    "# Display the plot\n",
    "plt.show()\n"
   ]
  },
  {
   "cell_type": "code",
   "execution_count": null,
   "id": "eb286d47-4547-4618-b19c-be91c504f813",
   "metadata": {},
   "outputs": [],
   "source": [
    "#%pip install leafmap"
   ]
  },
  {
   "cell_type": "code",
   "execution_count": null,
   "id": "6e02f6a3-6ab0-4237-a5b1-c35a9e67e04f",
   "metadata": {},
   "outputs": [],
   "source": [
    "#import os\n",
    "#import leafmap.leafmap as leafmap"
   ]
  },
  {
   "cell_type": "code",
   "execution_count": null,
   "id": "ff4175b5-a2d5-43d9-a770-03771f0ad78c",
   "metadata": {},
   "outputs": [],
   "source": [
    "#mosaiced_scene"
   ]
  },
  {
   "cell_type": "code",
   "execution_count": null,
   "id": "20a76997-4156-4e4b-a948-0b377f6c9219",
   "metadata": {},
   "outputs": [],
   "source": [
    "#m = leafmap.Map()\n",
    "#m.add(\"nasa_earth_data\")\n",
    "#m.add_layer(mosaiced_scene,['B4', 'B3', 'B2'])\n",
    "#url = \"https://canada-spot-ortho.s3.amazonaws.com/canada_spot_orthoimages/canada_spot5_orthoimages/S5_2007/S5_11055_6057_20070622/S5_11055_6057_20070622.json\"\n",
    "#leafmap.stac_assets(url)\n",
    "#leafmap.stac_center(url)\n",
    "#leafmap.stac_bounds(url)\n",
    "#m.add_stac_layer(url, bands=[\"B3\", \"B2\", \"B1\"])\n",
    "#m"
   ]
  },
  {
   "cell_type": "code",
   "execution_count": null,
   "id": "1c757575-ec00-400b-a76a-94e16a697b77",
   "metadata": {},
   "outputs": [],
   "source": [
    "#Map.to_html(outfile='./your_map.html', title='My Map', width='100%', height='880px')"
   ]
  },
  {
   "cell_type": "code",
   "execution_count": null,
   "id": "e48f3601-65e8-462a-9619-865e195d540b",
   "metadata": {},
   "outputs": [],
   "source": [
    "# In this section, we can check single coincident dataset on the map by assigning different values from non_zero_indices to test_x. \n",
    "# AP update: I dont need the time check here as it's in my function above!\n",
    "granule_num=1\n",
    "scene_number = coincident_granules_idx[granule_num]\n",
    "S2_ids = [S2_scenes[scene_number].toList(number_of_scenes[scene_number]).getInfo()[i]['id'] for i in range(0, number_of_scenes[scene_number])]  \n",
    "\n",
    "#time_diff = 3600*4 # Target time difference between ATL07 and Sentinel-2 < 3 hours\n",
    "#time_IS2 = datetime.strptime(IS2_file_name[test_x][-33:-19], \"%Y%m%d%H%M%S\")\n",
    "\n",
    "Map = geemap.Map()\n",
    "\n",
    "for i in range(0, number_of_scenes[scene_number]):\n",
    "#for i in range(0, 1):\n",
    "    time_start = S2_scenes[scene_number].toList(number_of_scenes[scene_number]).getInfo()[i]['properties']['system:time_start']\n",
    "    time_s2 = datetime(1970, 1, 1) + timedelta(seconds = time_start/1000)   \n",
    "    \n",
    "    img_name = os.path.basename(S2_ids[i])\n",
    "\n",
    "    # Time difference between IS2 and S2 < defined time_diff\n",
    "    #if abs(time_IS2-time_s2).seconds <= time_diff:\n",
    "\n",
    "    print(f\" {img_name}: Time difference = {np.int(abs(ATL_mid_times[granule_num]-time_s2).seconds/60)} minutes with ICESat-2 track\")\n",
    "    \n",
    "    img = ee.Image(S2_ids[i]).select('B4','B3','B2')\n",
    "    dim = img.getInfo()['bands'][0]['dimensions']\n",
    "    if dim[0] > 10000 and dim[1] > 0:\n",
    "        # # Download image into the local folder\n",
    "        #geemap.download_ee_image(img, f\"S2_{img_name}.tif\", scale=50)\n",
    "        Map.addLayer(img, {'min': 0, 'max': 10000}, img_name)\n",
    "        #print(f\" {img_name}: Time difference = {abs(time_IS2-time_s2).seconds/3600} hours with ICESat-2 track\")\n",
    "        #else:\n",
    "        #    print(f\"SKIP {img_name}: Not a full image\")\n",
    "   #else:\n",
    "   #     print(f\"SKIP {img_name}: Time difference > {time_diff/3600} hours with ICESat-2 track\")\n",
    "   #     Map.addLayer(img, {'min': 0, 'max': 10000}, img_name)\n",
    "   #     print(f\" {img_name}: Time difference = {abs(time_IS2-time_s2).seconds/3600} hours with ICESat-2 track\")\n",
    "\n",
    "Map.centerObject(img, zoom = 5)\n",
    "Map.addLayer(feature_track[scene_number], {}, \"IS2 track\")\n",
    "\n",
    "\n",
    "Map"
   ]
  },
  {
   "cell_type": "code",
   "execution_count": null,
   "id": "8d8159c5-678c-4ec2-909e-7488cf246306",
   "metadata": {},
   "outputs": [],
   "source": [
    "S2[scene_number].toList(number_of_scenes[scene_number]).getInfo()[i]['properties']"
   ]
  },
  {
   "cell_type": "code",
   "execution_count": null,
   "id": "02d36cdd-4cc0-4dc7-865b-e45d0efacc3b",
   "metadata": {},
   "outputs": [],
   "source": []
  }
 ],
 "metadata": {
  "kernelspec": {
   "display_name": "Python 3 (ipykernel)",
   "language": "python",
   "name": "python3"
  },
  "language_info": {
   "codemirror_mode": {
    "name": "ipython",
    "version": 3
   },
   "file_extension": ".py",
   "mimetype": "text/x-python",
   "name": "python",
   "nbconvert_exporter": "python",
   "pygments_lexer": "ipython3",
   "version": "3.11.8"
  }
 },
 "nbformat": 4,
 "nbformat_minor": 5
}
