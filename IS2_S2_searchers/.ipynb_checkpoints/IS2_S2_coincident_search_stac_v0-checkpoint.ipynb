{
 "cells": [
  {
   "cell_type": "markdown",
   "id": "18a3e162-e102-41f5-b578-f7d1e05eeb17",
   "metadata": {},
   "source": [
    "## IS2_S2_cryo2ice_search.ipynb\n",
    "Alek Petty, adapted from an earlier M. Bagnardi script.\n",
    "\n",
    "TRY THE INTERSECTS OPTION!\n",
    "https://hamedalemo.github.io/advanced-geo-python/lectures/earth_search_tutorial.html\n",
    "https://stackstac.readthedocs.io/en/v0.3.1/basic.html\n",
    "https://planetarycomputer.microsoft.com/docs/quickstarts/reading-stac/#Analyzing-STAC-Metadata\n",
    "\n",
    "\n",
    "Deescription:\n",
    "- This notebook searches for semi-coincident ICESat-2 and Sentinel-2 data.\n",
    "- The code finds Sentinel-2 images with ICESat-2 data falling within the image's footprint.\n",
    "- The code was updated to read in ATl07 data from the new cloud storage using earthdata, see relevant tutorials:\n",
    "     https://github.com/nsidc/NSIDC-Data-Tutorials/blob/main/notebooks/ICESat-2_Cloud_Access/ATL06-direct-access_rendered.ipynb\n",
    "     https://github.com/nsidc/NSIDC-Data-Tutorials/blob/main/notebooks/ICESat-2_Cloud_Access/nsidc_daac_uwg_cloud_access_tutorial_rendered.ipynb (No longer hosted!!)\n",
    "- Include new filtering to only look for images where we have cryo2ice (CryoSat-2 coincident) data based on external file. \n",
    " \n",
    "To do:\n",
    "- Should we use CLOUD_COVERAGE_ASSESSMENT or CLOUDY_PIXEL_PERCENTAGE?\n",
    "- Integrate the GEE or other cloud-based S-2 catalog. What data is on those comapred to the sentinelhub?\n",
    "- Check all beams iunstead of just the middle beam.\n",
    "- Add in other imagery/satellite sensors.\n",
    "- \n",
    "\n",
    "Notes:\n",
    "- Another way of doing this is to use the RGT (reference ground track) data from ICESat-2.\n",
    "    This could help if you want to look at future data I guess, but downside is it doesn't say where the data actually is on yhe ground, \n",
    "    just theoretical tracks.\n",
    "- Uses the middle strong beam but could be easily adapted to check across all beams.=\n",
    "- Tested with the adapted 'geo' conda env on cryocloud if you want to convert into a python script.\n",
    "\n",
    "Output:\n",
    "\n",
    "Update history:\n",
    " - Current notebook created in Apr 2024.\n"
   ]
  },
  {
   "cell_type": "code",
   "execution_count": 71,
   "id": "96049f4f-ab3a-49da-b1f0-e2b924dbaa97",
   "metadata": {},
   "outputs": [
    {
     "data": {
      "text/html": [
       "\n",
       "            <style>\n",
       "                .geemap-dark {\n",
       "                    --jp-widgets-color: white;\n",
       "                    --jp-widgets-label-color: white;\n",
       "                    --jp-ui-font-color1: white;\n",
       "                    --jp-layout-color2: #454545;\n",
       "                    background-color: #383838;\n",
       "                }\n",
       "                    \n",
       "                .geemap-dark .jupyter-button {\n",
       "                    --jp-layout-color3: #383838;\n",
       "                }\n",
       "                \n",
       "                .geemap-colab {\n",
       "                    background-color: var(--colab-primary-surface-color, white);\n",
       "                }\n",
       "                    \n",
       "                .geemap-colab .jupyter-button {\n",
       "                    --jp-layout-color3: var(--colab-primary-surface-color, white);\n",
       "                }\n",
       "            </style>\n",
       "            "
      ],
      "text/plain": [
       "<IPython.core.display.HTML object>"
      ]
     },
     "metadata": {},
     "output_type": "display_data"
    }
   ],
   "source": [
    "# Uncomment these out when running for the first time on cryocloud\n",
    "#%pip install sentinelsat\n",
    "#%pip install earthdata\n",
    "#%pip install astropy"
   ]
  },
  {
   "cell_type": "code",
   "execution_count": 3,
   "id": "98cd6034-b678-4e9c-ab5a-b6fcc7da41b8",
   "metadata": {},
   "outputs": [],
   "source": [
    "# Load modules\n",
    "import datetime as dt\n",
    "import h5py\n",
    "import pandas as pd\n",
    "# Need to do this for geopandas for some reason\n",
    "import os\n",
    "os.environ['USE_PYGEOS'] = '0'\n",
    "import geopandas as gpd\n",
    "import glob\n",
    "from shapely.geometry import Point\n",
    "import matplotlib.pyplot as plt\n",
    "import os\n",
    "\n",
    "import numpy as np\n",
    "from PIL import Image\n",
    "import io\n",
    "import requests\n",
    "import time\n",
    "import earthaccess\n",
    "import xarray as xr\n",
    "from datetime import datetime\n",
    "from datetime import timedelta\n",
    "\n",
    "from pystac_client import Client\n",
    "#import stackstac\n",
    "\n",
    "#from astropy.time import Time\n",
    "#from sentinelsat import SentinelAPI, read_geojson, geojson_to_wkt\n"
   ]
  },
  {
   "cell_type": "code",
   "execution_count": 4,
   "id": "732c2633-2431-4556-a8e9-c220e87f9c50",
   "metadata": {},
   "outputs": [],
   "source": [
    "os.environ[\"AWS_REQUEST_PAYER\"] = \"requester\"\n",
    "os.environ[\"AWS_PROFILE\"] = \"akpetty\""
   ]
  },
  {
   "cell_type": "code",
   "execution_count": 5,
   "id": "5a1ed60a-42de-4835-a4f0-b24aa1ef4ffd",
   "metadata": {},
   "outputs": [],
   "source": [
    "catalog = Client.open(\"https://earth-search.aws.element84.com/v1/\")\n"
   ]
  },
  {
   "cell_type": "code",
   "execution_count": 6,
   "id": "cab80b01-023c-4032-b84e-379765608825",
   "metadata": {},
   "outputs": [
    {
     "name": "stdin",
     "output_type": "stream",
     "text": [
      "Enter your Earthdata Login username:  akpetty\n",
      "Enter your Earthdata password:  ········\n"
     ]
    }
   ],
   "source": [
    "# ICESat-2/earthaccess stuff\n",
    "auth = earthaccess.login()\n"
   ]
  },
  {
   "cell_type": "code",
   "execution_count": 8,
   "id": "5bcbb1ed-7a90-455f-ac87-d75e8e6dbf42",
   "metadata": {},
   "outputs": [],
   "source": [
    "c2ice_df = pd.read_csv('../Data/Cryo2Ice_info_array.csv')\n",
    "c2ice_df['is2_start_time_dt'] = c2ice_df['start_IS2'].apply(\n",
    "    lambda x: pd.to_datetime(''.join(x.split(',')), format='%Y %m %d %H %M %S')\n",
    ")\n",
    "\n",
    "c2ice_df['is2_end_time_dt'] = c2ice_df['end_IS2'].apply(\n",
    "    lambda x: pd.to_datetime(''.join(x.split(',')), format='%Y %m %d %H %M %S')\n",
    ")\n",
    "\n",
    "#reader.vars.avail()\n",
    "c2ice_files = c2ice_df[\"atl07filename\"].tolist()"
   ]
  },
  {
   "cell_type": "code",
   "execution_count": null,
   "id": "3d48ef75-7bb7-480b-990d-faa866fe2c65",
   "metadata": {},
   "outputs": [
    {
     "name": "stdout",
     "output_type": "stream",
     "text": [
      "Granules found: 1\n",
      "[Collection: {'EntryTitle': 'ATLAS/ICESat-2 L3A Sea Ice Height V006'}\n",
      "Spatial coverage: {'HorizontalSpatialDomain': {'Orbit': {'AscendingCrossing': 48.92460331907133, 'StartLatitude': 27.0, 'StartDirection': 'A', 'EndLatitude': 27.0, 'EndDirection': 'D'}}}\n",
      "Temporal coverage: {'RangeDateTime': {'BeginningDateTime': '2020-10-15T01:44:07.383Z', 'EndingDateTime': '2020-10-15T01:50:33.617Z'}}\n",
      "Size(MB): 181.3192491531372\n",
      "Data: ['https://data.nsidc.earthdatacloud.nasa.gov/nsidc-cumulus-prod-protected/ATLAS/ATL07/006/2020/10/15/ATL07-01_20201015012229_03190901_006_01.h5']]\n",
      "Opening 1 granules, approx size: 0.18 GB\n",
      "using provider: NSIDC_CPRD\n"
     ]
    },
    {
     "data": {
      "application/vnd.jupyter.widget-view+json": {
       "model_id": "428b4d6e74c04c978ad7dccfd04bb8f9",
       "version_major": 2,
       "version_minor": 0
      },
      "text/plain": [
       "QUEUEING TASKS | :   0%|          | 0/1 [00:00<?, ?it/s]"
      ]
     },
     "metadata": {},
     "output_type": "display_data"
    },
    {
     "data": {
      "application/vnd.jupyter.widget-view+json": {
       "model_id": "db7a72314ca84947bf2e79c628983619",
       "version_major": 2,
       "version_minor": 0
      },
      "text/plain": [
       "PROCESSING TASKS | :   0%|          | 0/1 [00:00<?, ?it/s]"
      ]
     },
     "metadata": {},
     "output_type": "display_data"
    },
    {
     "data": {
      "application/vnd.jupyter.widget-view+json": {
       "model_id": "d248414f413743f7979a1410b158ea87",
       "version_major": 2,
       "version_minor": 0
      },
      "text/plain": [
       "COLLECTING RESULTS | :   0%|          | 0/1 [00:00<?, ?it/s]"
      ]
     },
     "metadata": {},
     "output_type": "display_data"
    },
    {
     "name": "stdout",
     "output_type": "stream",
     "text": [
      "Found: 20851 datasets\n",
      "Granules found: 1\n",
      "[Collection: {'EntryTitle': 'ATLAS/ICESat-2 L3A Sea Ice Height V006'}\n",
      "Spatial coverage: {'HorizontalSpatialDomain': {'Orbit': {'AscendingCrossing': -48.924131734392304, 'StartLatitude': 27.0, 'StartDirection': 'A', 'EndLatitude': 27.0, 'EndDirection': 'D'}}}\n",
      "Temporal coverage: {'RangeDateTime': {'BeginningDateTime': '2021-04-02T00:03:38.476Z', 'EndingDateTime': '2021-04-02T00:18:35.195Z'}}\n",
      "Size(MB): 376.94387912750244\n",
      "Data: ['https://data.nsidc.earthdatacloud.nasa.gov/nsidc-cumulus-prod-protected/ATLAS/ATL07/006/2021/04/02/ATL07-01_20210401235002_01251101_006_02.h5']]\n",
      "Opening 1 granules, approx size: 0.37 GB\n",
      "using provider: NSIDC_CPRD\n"
     ]
    },
    {
     "data": {
      "application/vnd.jupyter.widget-view+json": {
       "model_id": "7710dcda34764b66ae5cf87380c60dd0",
       "version_major": 2,
       "version_minor": 0
      },
      "text/plain": [
       "QUEUEING TASKS | :   0%|          | 0/1 [00:00<?, ?it/s]"
      ]
     },
     "metadata": {},
     "output_type": "display_data"
    },
    {
     "data": {
      "application/vnd.jupyter.widget-view+json": {
       "model_id": "ecc993b640c54914a456c303959db33c",
       "version_major": 2,
       "version_minor": 0
      },
      "text/plain": [
       "PROCESSING TASKS | :   0%|          | 0/1 [00:00<?, ?it/s]"
      ]
     },
     "metadata": {},
     "output_type": "display_data"
    },
    {
     "data": {
      "application/vnd.jupyter.widget-view+json": {
       "model_id": "1cb226025dc044dcbcd0890f3aa50e9e",
       "version_major": 2,
       "version_minor": 0
      },
      "text/plain": [
       "COLLECTING RESULTS | :   0%|          | 0/1 [00:00<?, ?it/s]"
      ]
     },
     "metadata": {},
     "output_type": "display_data"
    },
    {
     "name": "stdout",
     "output_type": "stream",
     "text": [
      "Found: 26419 datasets\n",
      "Granules found: 1\n",
      "[Collection: {'EntryTitle': 'ATLAS/ICESat-2 L3A Sea Ice Height V006'}\n",
      "Spatial coverage: {'HorizontalSpatialDomain': {'Orbit': {'AscendingCrossing': -161.30977839399438, 'StartLatitude': 27.0, 'StartDirection': 'A', 'EndLatitude': 27.0, 'EndDirection': 'D'}}}\n",
      "Temporal coverage: {'RangeDateTime': {'BeginningDateTime': '2021-04-03T07:32:15.049Z', 'EndingDateTime': '2021-04-03T07:48:45.628Z'}}\n",
      "Size(MB): 414.7863245010376\n",
      "Data: ['https://data.nsidc.earthdatacloud.nasa.gov/nsidc-cumulus-prod-protected/ATLAS/ATL07/006/2021/04/03/ATL07-01_20210403071550_01451101_006_02.h5']]\n",
      "Opening 1 granules, approx size: 0.41 GB\n",
      "using provider: NSIDC_CPRD\n"
     ]
    },
    {
     "data": {
      "application/vnd.jupyter.widget-view+json": {
       "model_id": "9925127ef190496b89c229d7524bcb93",
       "version_major": 2,
       "version_minor": 0
      },
      "text/plain": [
       "QUEUEING TASKS | :   0%|          | 0/1 [00:00<?, ?it/s]"
      ]
     },
     "metadata": {},
     "output_type": "display_data"
    },
    {
     "data": {
      "application/vnd.jupyter.widget-view+json": {
       "model_id": "229025d3350f463d88628c098b37ae9c",
       "version_major": 2,
       "version_minor": 0
      },
      "text/plain": [
       "PROCESSING TASKS | :   0%|          | 0/1 [00:00<?, ?it/s]"
      ]
     },
     "metadata": {},
     "output_type": "display_data"
    },
    {
     "data": {
      "application/vnd.jupyter.widget-view+json": {
       "model_id": "a91938eb8fa84c5ba7fce31665d99c92",
       "version_major": 2,
       "version_minor": 0
      },
      "text/plain": [
       "COLLECTING RESULTS | :   0%|          | 0/1 [00:00<?, ?it/s]"
      ]
     },
     "metadata": {},
     "output_type": "display_data"
    },
    {
     "name": "stdout",
     "output_type": "stream",
     "text": [
      "Found: 12887 datasets\n",
      "Granules found: 1\n",
      "[Collection: {'EntryTitle': 'ATLAS/ICESat-2 L3A Sea Ice Height V006'}\n",
      "Spatial coverage: {'HorizontalSpatialDomain': {'Orbit': {'AscendingCrossing': 86.30154409738257, 'StartLatitude': 27.0, 'StartDirection': 'A', 'EndLatitude': 27.0, 'EndDirection': 'D'}}}\n",
      "Temporal coverage: {'RangeDateTime': {'BeginningDateTime': '2021-04-04T14:59:34.707Z', 'EndingDateTime': '2021-04-04T15:11:05.288Z'}}\n",
      "Size(MB): 317.7967824935913\n",
      "Data: ['https://data.nsidc.earthdatacloud.nasa.gov/nsidc-cumulus-prod-protected/ATLAS/ATL07/006/2021/04/04/ATL07-01_20210404144138_01651101_006_02.h5']]\n",
      "Opening 1 granules, approx size: 0.31 GB\n",
      "using provider: NSIDC_CPRD\n"
     ]
    },
    {
     "data": {
      "application/vnd.jupyter.widget-view+json": {
       "model_id": "3d9e71885406408383fe7909791ee1d9",
       "version_major": 2,
       "version_minor": 0
      },
      "text/plain": [
       "QUEUEING TASKS | :   0%|          | 0/1 [00:00<?, ?it/s]"
      ]
     },
     "metadata": {},
     "output_type": "display_data"
    },
    {
     "data": {
      "application/vnd.jupyter.widget-view+json": {
       "model_id": "a05bf8f633e2488688ca8d74542a131f",
       "version_major": 2,
       "version_minor": 0
      },
      "text/plain": [
       "PROCESSING TASKS | :   0%|          | 0/1 [00:00<?, ?it/s]"
      ]
     },
     "metadata": {},
     "output_type": "display_data"
    },
    {
     "data": {
      "application/vnd.jupyter.widget-view+json": {
       "model_id": "69fe04287f734b3fbe6c6a78d834f3b8",
       "version_major": 2,
       "version_minor": 0
      },
      "text/plain": [
       "COLLECTING RESULTS | :   0%|          | 0/1 [00:00<?, ?it/s]"
      ]
     },
     "metadata": {},
     "output_type": "display_data"
    },
    {
     "name": "stdout",
     "output_type": "stream",
     "text": [
      "Found: 13894 datasets\n",
      "Granules found: 1\n",
      "[Collection: {'EntryTitle': 'ATLAS/ICESat-2 L3A Sea Ice Height V006'}\n",
      "Spatial coverage: {'HorizontalSpatialDomain': {'Orbit': {'AscendingCrossing': -138.46883388242108, 'StartLatitude': 27.0, 'StartDirection': 'A', 'EndLatitude': 27.0, 'EndDirection': 'D'}}}\n",
      "Temporal coverage: {'RangeDateTime': {'BeginningDateTime': '2021-04-07T05:51:36.710Z', 'EndingDateTime': '2021-04-07T06:03:37.473Z'}}\n",
      "Size(MB): 409.0898551940918\n",
      "Data: ['https://data.nsidc.earthdatacloud.nasa.gov/nsidc-cumulus-prod-protected/ATLAS/ATL07/006/2021/04/07/ATL07-01_20210407053313_02051101_006_02.h5']]\n",
      "Opening 1 granules, approx size: 0.4 GB\n",
      "using provider: NSIDC_CPRD\n"
     ]
    },
    {
     "data": {
      "application/vnd.jupyter.widget-view+json": {
       "model_id": "33ade48d37a04f388808758276e8f5dc",
       "version_major": 2,
       "version_minor": 0
      },
      "text/plain": [
       "QUEUEING TASKS | :   0%|          | 0/1 [00:00<?, ?it/s]"
      ]
     },
     "metadata": {},
     "output_type": "display_data"
    },
    {
     "data": {
      "application/vnd.jupyter.widget-view+json": {
       "model_id": "4ed0d70b2fd4436dad9cebeb001ba611",
       "version_major": 2,
       "version_minor": 0
      },
      "text/plain": [
       "PROCESSING TASKS | :   0%|          | 0/1 [00:00<?, ?it/s]"
      ]
     },
     "metadata": {},
     "output_type": "display_data"
    },
    {
     "data": {
      "application/vnd.jupyter.widget-view+json": {
       "model_id": "2cecd6f683a147ee9fb99c833aa4dc4a",
       "version_major": 2,
       "version_minor": 0
      },
      "text/plain": [
       "COLLECTING RESULTS | :   0%|          | 0/1 [00:00<?, ?it/s]"
      ]
     },
     "metadata": {},
     "output_type": "display_data"
    },
    {
     "name": "stdout",
     "output_type": "stream",
     "text": [
      "Found: 13787 datasets\n",
      "Granules found: 1\n",
      "[Collection: {'EntryTitle': 'ATLAS/ICESat-2 L3A Sea Ice Height V006'}\n",
      "Spatial coverage: {'HorizontalSpatialDomain': {'Orbit': {'AscendingCrossing': -115.62771245955814, 'StartLatitude': 27.0, 'StartDirection': 'A', 'EndLatitude': 27.0, 'EndDirection': 'D'}}}\n",
      "Temporal coverage: {'RangeDateTime': {'BeginningDateTime': '2021-04-11T04:08:43.235Z', 'EndingDateTime': '2021-04-11T04:19:31.270Z'}}\n",
      "Size(MB): 341.6005401611328\n",
      "Data: ['https://data.nsidc.earthdatacloud.nasa.gov/nsidc-cumulus-prod-protected/ATLAS/ATL07/006/2021/04/11/ATL07-01_20210411035036_02651101_006_02.h5']]\n",
      "Opening 1 granules, approx size: 0.33 GB\n",
      "using provider: NSIDC_CPRD\n"
     ]
    },
    {
     "data": {
      "application/vnd.jupyter.widget-view+json": {
       "model_id": "abb98ee877ca43399a108526a8978870",
       "version_major": 2,
       "version_minor": 0
      },
      "text/plain": [
       "QUEUEING TASKS | :   0%|          | 0/1 [00:00<?, ?it/s]"
      ]
     },
     "metadata": {},
     "output_type": "display_data"
    },
    {
     "data": {
      "application/vnd.jupyter.widget-view+json": {
       "model_id": "5deba55544584c93b0d8fe210dc4ad8f",
       "version_major": 2,
       "version_minor": 0
      },
      "text/plain": [
       "PROCESSING TASKS | :   0%|          | 0/1 [00:00<?, ?it/s]"
      ]
     },
     "metadata": {},
     "output_type": "display_data"
    },
    {
     "data": {
      "application/vnd.jupyter.widget-view+json": {
       "model_id": "7cd38538997b472c909cf4b29f5f3f06",
       "version_major": 2,
       "version_minor": 0
      },
      "text/plain": [
       "COLLECTING RESULTS | :   0%|          | 0/1 [00:00<?, ?it/s]"
      ]
     },
     "metadata": {},
     "output_type": "display_data"
    },
    {
     "name": "stdout",
     "output_type": "stream",
     "text": [
      "Found: 25198 datasets\n",
      "Granules found: 1\n",
      "[Collection: {'EntryTitle': 'ATLAS/ICESat-2 L3A Sea Ice Height V006'}\n",
      "Spatial coverage: {'HorizontalSpatialDomain': {'Orbit': {'AscendingCrossing': 19.595736631944945, 'StartLatitude': 27.0, 'StartDirection': 'A', 'EndLatitude': 27.0, 'EndDirection': 'D'}}}\n",
      "Temporal coverage: {'RangeDateTime': {'BeginningDateTime': '2021-04-13T18:59:01.983Z', 'EndingDateTime': '2021-04-13T19:13:39.125Z'}}\n",
      "Size(MB): 296.91551208496094\n",
      "Data: ['https://data.nsidc.earthdatacloud.nasa.gov/nsidc-cumulus-prod-protected/ATLAS/ATL07/006/2021/04/13/ATL07-01_20210413184211_03051101_006_02.h5']]\n",
      "Opening 1 granules, approx size: 0.29 GB\n",
      "using provider: NSIDC_CPRD\n"
     ]
    },
    {
     "data": {
      "application/vnd.jupyter.widget-view+json": {
       "model_id": "4d8a36507e8743e396c36575ee70f6cc",
       "version_major": 2,
       "version_minor": 0
      },
      "text/plain": [
       "QUEUEING TASKS | :   0%|          | 0/1 [00:00<?, ?it/s]"
      ]
     },
     "metadata": {},
     "output_type": "display_data"
    },
    {
     "data": {
      "application/vnd.jupyter.widget-view+json": {
       "model_id": "c3afb16631c446a9942d185e98eeb664",
       "version_major": 2,
       "version_minor": 0
      },
      "text/plain": [
       "PROCESSING TASKS | :   0%|          | 0/1 [00:00<?, ?it/s]"
      ]
     },
     "metadata": {},
     "output_type": "display_data"
    },
    {
     "data": {
      "application/vnd.jupyter.widget-view+json": {
       "model_id": "adaa2401512145d9a8ab92ecdbeac4b3",
       "version_major": 2,
       "version_minor": 0
      },
      "text/plain": [
       "COLLECTING RESULTS | :   0%|          | 0/1 [00:00<?, ?it/s]"
      ]
     },
     "metadata": {},
     "output_type": "display_data"
    },
    {
     "name": "stdout",
     "output_type": "stream",
     "text": [
      "Found: 27951 datasets\n",
      "Granules found: 1\n",
      "[Collection: {'EntryTitle': 'ATLAS/ICESat-2 L3A Sea Ice Height V006'}\n",
      "Spatial coverage: {'HorizontalSpatialDomain': {'Orbit': {'AscendingCrossing': -92.78724560799363, 'StartLatitude': 27.0, 'StartDirection': 'A', 'EndLatitude': 27.0, 'EndDirection': 'D'}}}\n",
      "Temporal coverage: {'RangeDateTime': {'BeginningDateTime': '2021-04-15T02:25:39.956Z', 'EndingDateTime': '2021-04-15T02:35:41.076Z'}}\n",
      "Size(MB): 373.47822761535645\n",
      "Data: ['https://data.nsidc.earthdatacloud.nasa.gov/nsidc-cumulus-prod-protected/ATLAS/ATL07/006/2021/04/15/ATL07-01_20210415020759_03251101_006_02.h5']]\n",
      "Opening 1 granules, approx size: 0.36 GB\n",
      "using provider: NSIDC_CPRD\n"
     ]
    },
    {
     "data": {
      "application/vnd.jupyter.widget-view+json": {
       "model_id": "ecd1027bdc4c43769bbb4080a46a48c6",
       "version_major": 2,
       "version_minor": 0
      },
      "text/plain": [
       "QUEUEING TASKS | :   0%|          | 0/1 [00:00<?, ?it/s]"
      ]
     },
     "metadata": {},
     "output_type": "display_data"
    },
    {
     "data": {
      "application/vnd.jupyter.widget-view+json": {
       "model_id": "17009db0978549e9879ca8495c9effe8",
       "version_major": 2,
       "version_minor": 0
      },
      "text/plain": [
       "PROCESSING TASKS | :   0%|          | 0/1 [00:00<?, ?it/s]"
      ]
     },
     "metadata": {},
     "output_type": "display_data"
    },
    {
     "data": {
      "application/vnd.jupyter.widget-view+json": {
       "model_id": "92b5151531a04fa192f84c9530aeacdd",
       "version_major": 2,
       "version_minor": 0
      },
      "text/plain": [
       "COLLECTING RESULTS | :   0%|          | 0/1 [00:00<?, ?it/s]"
      ]
     },
     "metadata": {},
     "output_type": "display_data"
    },
    {
     "name": "stdout",
     "output_type": "stream",
     "text": [
      "Found: 27579 datasets\n",
      "Granules found: 1\n",
      "[Collection: {'EntryTitle': 'ATLAS/ICESat-2 L3A Sea Ice Height V006'}\n",
      "Spatial coverage: {'HorizontalSpatialDomain': {'Orbit': {'AscendingCrossing': 154.82492878002088, 'StartLatitude': 27.0, 'StartDirection': 'A', 'EndLatitude': 27.0, 'EndDirection': 'D'}}}\n",
      "Temporal coverage: {'RangeDateTime': {'BeginningDateTime': '2021-04-16T09:48:47.470Z', 'EndingDateTime': '2021-04-16T10:03:21.037Z'}}\n",
      "Size(MB): 326.0534677505493\n",
      "Data: ['https://data.nsidc.earthdatacloud.nasa.gov/nsidc-cumulus-prod-protected/ATLAS/ATL07/006/2021/04/16/ATL07-01_20210416093346_03451101_006_02.h5']]\n",
      "Opening 1 granules, approx size: 0.32 GB\n",
      "using provider: NSIDC_CPRD\n"
     ]
    },
    {
     "data": {
      "application/vnd.jupyter.widget-view+json": {
       "model_id": "be848cfb07974cf08d8fc824a2d33172",
       "version_major": 2,
       "version_minor": 0
      },
      "text/plain": [
       "QUEUEING TASKS | :   0%|          | 0/1 [00:00<?, ?it/s]"
      ]
     },
     "metadata": {},
     "output_type": "display_data"
    },
    {
     "data": {
      "application/vnd.jupyter.widget-view+json": {
       "model_id": "2b47fa5bbdcf49e4b0c27e49748a913a",
       "version_major": 2,
       "version_minor": 0
      },
      "text/plain": [
       "PROCESSING TASKS | :   0%|          | 0/1 [00:00<?, ?it/s]"
      ]
     },
     "metadata": {},
     "output_type": "display_data"
    },
    {
     "data": {
      "application/vnd.jupyter.widget-view+json": {
       "model_id": "fe96cf982e3e4c2dac7f55ec1285b978",
       "version_major": 2,
       "version_minor": 0
      },
      "text/plain": [
       "COLLECTING RESULTS | :   0%|          | 0/1 [00:00<?, ?it/s]"
      ]
     },
     "metadata": {},
     "output_type": "display_data"
    },
    {
     "name": "stdout",
     "output_type": "stream",
     "text": [
      "Found: 13485 datasets\n",
      "Granules found: 1\n",
      "[Collection: {'EntryTitle': 'ATLAS/ICESat-2 L3A Sea Ice Height V006'}\n",
      "Spatial coverage: {'HorizontalSpatialDomain': {'Orbit': {'AscendingCrossing': 42.435923382137354, 'StartLatitude': 27.0, 'StartDirection': 'A', 'EndLatitude': 27.0, 'EndDirection': 'D'}}}\n",
      "Temporal coverage: {'RangeDateTime': {'BeginningDateTime': '2021-04-17T17:16:53.711Z', 'EndingDateTime': '2021-04-17T17:28:30.535Z'}}\n",
      "Size(MB): 139.92244052886963\n",
      "Data: ['https://data.nsidc.earthdatacloud.nasa.gov/nsidc-cumulus-prod-protected/ATLAS/ATL07/006/2021/04/17/ATL07-01_20210417165935_03651101_006_02.h5']]\n",
      "Opening 1 granules, approx size: 0.14 GB\n",
      "using provider: NSIDC_CPRD\n"
     ]
    },
    {
     "data": {
      "application/vnd.jupyter.widget-view+json": {
       "model_id": "2fe55a60f01947f096aa160281f33d46",
       "version_major": 2,
       "version_minor": 0
      },
      "text/plain": [
       "QUEUEING TASKS | :   0%|          | 0/1 [00:00<?, ?it/s]"
      ]
     },
     "metadata": {},
     "output_type": "display_data"
    },
    {
     "data": {
      "application/vnd.jupyter.widget-view+json": {
       "model_id": "8fb726384c284c20abda6e2706c5cd89",
       "version_major": 2,
       "version_minor": 0
      },
      "text/plain": [
       "PROCESSING TASKS | :   0%|          | 0/1 [00:00<?, ?it/s]"
      ]
     },
     "metadata": {},
     "output_type": "display_data"
    },
    {
     "data": {
      "application/vnd.jupyter.widget-view+json": {
       "model_id": "6d0a4a1f6b2248018b7b18834a5f3940",
       "version_major": 2,
       "version_minor": 0
      },
      "text/plain": [
       "COLLECTING RESULTS | :   0%|          | 0/1 [00:00<?, ?it/s]"
      ]
     },
     "metadata": {},
     "output_type": "display_data"
    },
    {
     "name": "stdout",
     "output_type": "stream",
     "text": [
      "Found: 13323 datasets\n",
      "Granules found: 1\n",
      "[Collection: {'EntryTitle': 'ATLAS/ICESat-2 L3A Sea Ice Height V006'}\n",
      "Spatial coverage: {'HorizontalSpatialDomain': {'Orbit': {'AscendingCrossing': 177.66586345798805, 'StartLatitude': 27.0, 'StartDirection': 'A', 'EndLatitude': 27.0, 'EndDirection': 'D'}}}\n",
      "Temporal coverage: {'RangeDateTime': {'BeginningDateTime': '2021-04-20T08:09:23.278Z', 'EndingDateTime': '2021-04-20T08:16:59.497Z'}}\n",
      "Size(MB): 153.32410335540771\n",
      "Data: ['https://data.nsidc.earthdatacloud.nasa.gov/nsidc-cumulus-prod-protected/ATLAS/ATL07/006/2021/04/20/ATL07-01_20210420075110_04051101_006_02.h5']]\n",
      "Opening 1 granules, approx size: 0.15 GB\n",
      "using provider: NSIDC_CPRD\n"
     ]
    },
    {
     "data": {
      "application/vnd.jupyter.widget-view+json": {
       "model_id": "5104d94ff53e489d9d56f3a65cee1431",
       "version_major": 2,
       "version_minor": 0
      },
      "text/plain": [
       "QUEUEING TASKS | :   0%|          | 0/1 [00:00<?, ?it/s]"
      ]
     },
     "metadata": {},
     "output_type": "display_data"
    },
    {
     "data": {
      "application/vnd.jupyter.widget-view+json": {
       "model_id": "7ef09341cc99450aabc3becb0f3573f7",
       "version_major": 2,
       "version_minor": 0
      },
      "text/plain": [
       "PROCESSING TASKS | :   0%|          | 0/1 [00:00<?, ?it/s]"
      ]
     },
     "metadata": {},
     "output_type": "display_data"
    },
    {
     "data": {
      "application/vnd.jupyter.widget-view+json": {
       "model_id": "d8291c850c9b496ba36e3fee0c15a447",
       "version_major": 2,
       "version_minor": 0
      },
      "text/plain": [
       "COLLECTING RESULTS | :   0%|          | 0/1 [00:00<?, ?it/s]"
      ]
     },
     "metadata": {},
     "output_type": "display_data"
    },
    {
     "name": "stdout",
     "output_type": "stream",
     "text": [
      "Found: 13403 datasets\n",
      "Granules found: 1\n",
      "[Collection: {'EntryTitle': 'ATLAS/ICESat-2 L3A Sea Ice Height V006'}\n",
      "Spatial coverage: {'HorizontalSpatialDomain': {'Orbit': {'AscendingCrossing': 65.27677327804452, 'StartLatitude': 27.0, 'StartDirection': 'A', 'EndLatitude': 27.0, 'EndDirection': 'D'}}}\n",
      "Temporal coverage: {'RangeDateTime': {'BeginningDateTime': '2021-04-21T15:34:49.874Z', 'EndingDateTime': '2021-04-21T15:46:53.464Z'}}\n",
      "Size(MB): 203.21373558044434\n",
      "Data: ['https://data.nsidc.earthdatacloud.nasa.gov/nsidc-cumulus-prod-protected/ATLAS/ATL07/006/2021/04/21/ATL07-01_20210421151658_04251101_006_02.h5']]\n",
      "Opening 1 granules, approx size: 0.2 GB\n",
      "using provider: NSIDC_CPRD\n"
     ]
    },
    {
     "data": {
      "application/vnd.jupyter.widget-view+json": {
       "model_id": "27b24f137cdc41e1ad8b567322ed6210",
       "version_major": 2,
       "version_minor": 0
      },
      "text/plain": [
       "QUEUEING TASKS | :   0%|          | 0/1 [00:00<?, ?it/s]"
      ]
     },
     "metadata": {},
     "output_type": "display_data"
    },
    {
     "data": {
      "application/vnd.jupyter.widget-view+json": {
       "model_id": "aa61274d81bf4121b1ff53d7f489ab0f",
       "version_major": 2,
       "version_minor": 0
      },
      "text/plain": [
       "PROCESSING TASKS | :   0%|          | 0/1 [00:00<?, ?it/s]"
      ]
     },
     "metadata": {},
     "output_type": "display_data"
    },
    {
     "data": {
      "application/vnd.jupyter.widget-view+json": {
       "model_id": "e3d8f2ec71d3490d9efe401dd9ec30d5",
       "version_major": 2,
       "version_minor": 0
      },
      "text/plain": [
       "COLLECTING RESULTS | :   0%|          | 0/1 [00:00<?, ?it/s]"
      ]
     },
     "metadata": {},
     "output_type": "display_data"
    },
    {
     "name": "stdout",
     "output_type": "stream",
     "text": [
      "Found: 14110 datasets\n",
      "Granules found: 1\n",
      "[Collection: {'EntryTitle': 'ATLAS/ICESat-2 L3A Sea Ice Height V006'}\n",
      "Spatial coverage: {'HorizontalSpatialDomain': {'Orbit': {'AscendingCrossing': -47.106997843881096, 'StartLatitude': 27.0, 'StartDirection': 'A', 'EndLatitude': 27.0, 'EndDirection': 'D'}}}\n",
      "Temporal coverage: {'RangeDateTime': {'BeginningDateTime': '2021-04-22T23:00:06.824Z', 'EndingDateTime': '2021-04-22T23:11:22.194Z'}}\n",
      "Size(MB): 380.7526397705078\n",
      "Data: ['https://data.nsidc.earthdatacloud.nasa.gov/nsidc-cumulus-prod-protected/ATLAS/ATL07/006/2021/04/22/ATL07-01_20210422224245_04451101_006_02.h5']]\n",
      "Opening 1 granules, approx size: 0.37 GB\n",
      "using provider: NSIDC_CPRD\n"
     ]
    },
    {
     "data": {
      "application/vnd.jupyter.widget-view+json": {
       "model_id": "4d2ed11f31ba44f7808d1f15a3bbd1c8",
       "version_major": 2,
       "version_minor": 0
      },
      "text/plain": [
       "QUEUEING TASKS | :   0%|          | 0/1 [00:00<?, ?it/s]"
      ]
     },
     "metadata": {},
     "output_type": "display_data"
    },
    {
     "data": {
      "application/vnd.jupyter.widget-view+json": {
       "model_id": "434945af8a8a46039971813944fe3d84",
       "version_major": 2,
       "version_minor": 0
      },
      "text/plain": [
       "PROCESSING TASKS | :   0%|          | 0/1 [00:00<?, ?it/s]"
      ]
     },
     "metadata": {},
     "output_type": "display_data"
    },
    {
     "data": {
      "application/vnd.jupyter.widget-view+json": {
       "model_id": "707bd66ae2fb4dfca97c56d431dfb8c3",
       "version_major": 2,
       "version_minor": 0
      },
      "text/plain": [
       "COLLECTING RESULTS | :   0%|          | 0/1 [00:00<?, ?it/s]"
      ]
     },
     "metadata": {},
     "output_type": "display_data"
    },
    {
     "name": "stdout",
     "output_type": "stream",
     "text": [
      "Found: 28987 datasets\n",
      "Granules found: 1\n",
      "[Collection: {'EntryTitle': 'ATLAS/ICESat-2 L3A Sea Ice Height V006'}\n",
      "Spatial coverage: {'HorizontalSpatialDomain': {'Orbit': {'AscendingCrossing': -159.49266690093378, 'StartLatitude': 27.0, 'StartDirection': 'A', 'EndLatitude': 27.0, 'EndDirection': 'D'}}}\n",
      "Temporal coverage: {'RangeDateTime': {'BeginningDateTime': '2021-04-24T06:24:29.665Z', 'EndingDateTime': '2021-04-24T06:40:56.533Z'}}\n",
      "Size(MB): 304.56350898742676\n",
      "Data: ['https://data.nsidc.earthdatacloud.nasa.gov/nsidc-cumulus-prod-protected/ATLAS/ATL07/006/2021/04/24/ATL07-01_20210424060832_04651101_006_02.h5']]\n",
      "Opening 1 granules, approx size: 0.3 GB\n",
      "using provider: NSIDC_CPRD\n"
     ]
    },
    {
     "data": {
      "application/vnd.jupyter.widget-view+json": {
       "model_id": "3e7d65564c914429b1d3c920751cc70b",
       "version_major": 2,
       "version_minor": 0
      },
      "text/plain": [
       "QUEUEING TASKS | :   0%|          | 0/1 [00:00<?, ?it/s]"
      ]
     },
     "metadata": {},
     "output_type": "display_data"
    },
    {
     "data": {
      "application/vnd.jupyter.widget-view+json": {
       "model_id": "83a8b7f84bcd47369f4a47bfc4b6b0f2",
       "version_major": 2,
       "version_minor": 0
      },
      "text/plain": [
       "PROCESSING TASKS | :   0%|          | 0/1 [00:00<?, ?it/s]"
      ]
     },
     "metadata": {},
     "output_type": "display_data"
    },
    {
     "data": {
      "application/vnd.jupyter.widget-view+json": {
       "model_id": "59b9f36d2a9a4922b6ec007ead4ce14b",
       "version_major": 2,
       "version_minor": 0
      },
      "text/plain": [
       "COLLECTING RESULTS | :   0%|          | 0/1 [00:00<?, ?it/s]"
      ]
     },
     "metadata": {},
     "output_type": "display_data"
    },
    {
     "name": "stdout",
     "output_type": "stream",
     "text": [
      "Found: 14042 datasets\n",
      "Granules found: 1\n",
      "[Collection: {'EntryTitle': 'ATLAS/ICESat-2 L3A Sea Ice Height V006'}\n",
      "Spatial coverage: {'HorizontalSpatialDomain': {'Orbit': {'AscendingCrossing': 88.11856585176837, 'StartLatitude': 27.0, 'StartDirection': 'A', 'EndLatitude': 27.0, 'EndDirection': 'D'}}}\n",
      "Temporal coverage: {'RangeDateTime': {'BeginningDateTime': '2021-04-25T13:52:09.924Z', 'EndingDateTime': '2021-04-25T14:03:37.452Z'}}\n",
      "Size(MB): 204.7309274673462\n",
      "Data: ['https://data.nsidc.earthdatacloud.nasa.gov/nsidc-cumulus-prod-protected/ATLAS/ATL07/006/2021/04/25/ATL07-01_20210425133419_04851101_006_02.h5']]\n",
      "Opening 1 granules, approx size: 0.2 GB\n",
      "using provider: NSIDC_CPRD\n"
     ]
    },
    {
     "data": {
      "application/vnd.jupyter.widget-view+json": {
       "model_id": "e1e61a68f0eb451591c0ea369f039a34",
       "version_major": 2,
       "version_minor": 0
      },
      "text/plain": [
       "QUEUEING TASKS | :   0%|          | 0/1 [00:00<?, ?it/s]"
      ]
     },
     "metadata": {},
     "output_type": "display_data"
    },
    {
     "data": {
      "application/vnd.jupyter.widget-view+json": {
       "model_id": "237cd0129aef4c3bb03b33cfc1eae7ad",
       "version_major": 2,
       "version_minor": 0
      },
      "text/plain": [
       "PROCESSING TASKS | :   0%|          | 0/1 [00:00<?, ?it/s]"
      ]
     },
     "metadata": {},
     "output_type": "display_data"
    },
    {
     "data": {
      "application/vnd.jupyter.widget-view+json": {
       "model_id": "d1aac54d59db4b549fe68cc9825c3825",
       "version_major": 2,
       "version_minor": 0
      },
      "text/plain": [
       "COLLECTING RESULTS | :   0%|          | 0/1 [00:00<?, ?it/s]"
      ]
     },
     "metadata": {},
     "output_type": "display_data"
    },
    {
     "name": "stdout",
     "output_type": "stream",
     "text": [
      "Found: 14381 datasets\n"
     ]
    }
   ],
   "source": [
    "#find the matched S2 images for each IS2 file\n",
    "coincident_S2_images=[]\n",
    "#coincident_S2_mosaics=[]\n",
    "coincident_S2_image_ids=[]\n",
    "#number of S2 images for each IS2 granule\n",
    "number_of_coincident_scenes_in_granule=[]\n",
    "\n",
    "# coordinate tracks for each coincident IS2 granule\n",
    "is2_coordinate_tracks_matched=[] \n",
    "\n",
    "# save ATL07 info for the coincident S-2 tracks\n",
    "ATL_midtimes_matched=[]\n",
    "ATL_filenames_matched=[]\n",
    "\n",
    "# Loop over ICESat-2 granules\n",
    "# Coaren by this number of data points to speed things up, can play with this more as desired\n",
    "NPTS=10\n",
    "# Time difference in minutes\n",
    "deltatime=300\n",
    "# Max cloud cover in the S-2 images\n",
    "max_cloud_cover=100\n",
    "\n",
    "#\n",
    "lower_lat=40\n",
    "\n",
    "for c2ice_file in c2ice_files:\n",
    "\n",
    "    granules_cloud = earthaccess.search_data(\n",
    "        short_name = 'ATL07',\n",
    "        version = '006',\n",
    "        cloud_hosted = True,\n",
    "        bounding_box = (-180,60,180,90),\n",
    "        #temporal = ('2020-10-01','2020-10-30'),\n",
    "        granule_name=c2ice_file,\n",
    "    )\n",
    "    \n",
    "    print(granules_cloud)\n",
    "    \n",
    "    # Open files (not found a way of not needing to do this..)\n",
    "    atl07_file = earthaccess.open(granules_cloud)\n",
    "    ATL = h5py.File(atl07_file[0], 'r')\n",
    "    \n",
    "    orientation = ATL['/orbit_info/sc_orient'][0]\n",
    "\n",
    "    # Only use central strong beam locations\n",
    "    if orientation == 0:\n",
    "        beamID = 'gt2l'\n",
    "    elif orientation == 1:\n",
    "        beamID = 'gt2r'\n",
    "    else:\n",
    "        print('Spacecraft orientation not found.')\n",
    "\n",
    "    # Extract data info from granule\n",
    "    ATL_start_time = ATL['/ancillary_data/data_start_utc'][0]\n",
    "    ATL_start = pd.to_datetime(ATL_start_time[:-8].decode('utf-8'), format='%Y-%m-%dT%H:%M:%S')\n",
    "    ATL_end_time = ATL['/ancillary_data/data_end_utc'][0]\n",
    "    ATL_end = pd.to_datetime(ATL_end_time[:-8].decode('utf-8'), format='%Y-%m-%dT%H:%M:%S')\n",
    "\n",
    "    ATL_lon = ATL[beamID + '/sea_ice_segments/longitude'][:]\n",
    "    ATL_lat = ATL[beamID + '/sea_ice_segments/latitude'][:]\n",
    "\n",
    "    # read in the new dist to land variable to filter these values out now we have a lot more land data in rel006!\n",
    "    ATL_dist_land = ATL[beamID+'/sea_ice_segments/stats/dist2land'][:]\n",
    "    ATL_lon = ATL_lon[ATL_dist_land>0]\n",
    "    ATL_lat = ATL_lat[ATL_dist_land>0]\n",
    "    atl07_coords = list(zip(ATL_lon[::NPTS], ATL_lat[::NPTS])) \n",
    "\n",
    "    # Build dataframe with location of data\n",
    "    ATL_dF = pd.DataFrame({'Longitude': ATL_lon[::NPTS],\n",
    "                           'Latitude': ATL_lat[::NPTS],\n",
    "                           })\n",
    "    ATL_dF['coords'] = list(zip(ATL_dF['Longitude'], ATL_dF['Latitude']))\n",
    "    ATL_dF['coords'] = ATL_dF['coords'].apply(Point)\n",
    "\n",
    "    ATL_gfd = gpd.GeoDataFrame(ATL_dF, geometry='coords')\n",
    "    ATL_gfd = ATL_gfd.set_crs(4326, allow_override=True)\n",
    "\n",
    "\n",
    "    start_time_window = (ATL_start- dt.timedelta(minutes=deltatime)).strftime('%Y-%m-%d:%H:%M:%SZ')\n",
    "    end_time_window = (ATL_end+ dt.timedelta(minutes=deltatime)).strftime('%Y-%m-%d:%H:%M:%SZ')\n",
    "    \n",
    "    query = catalog.search(\n",
    "        collections=\"sentinel-2-l1c\",\n",
    "        #ids='S2B_MSIL1C_20220401T160819_N0400_R140_T30XWR_20220401T181620',\n",
    "        #ids='S2B_30XWR_20220401_0_L1C',\n",
    "        #bbox=[-20.7, 64.5, -19.5, 64.8],  # xmin, ymin, xmax, ymax\n",
    "        datetime=start_time_window+'/'+end_time_window,\n",
    "        #datetime=\"2022-04-01:16:08:19Z/2022-04-01:16:08:20Z\"\n",
    "        #datetime=\"2022-04-01T16:08:18Z/2022-04-01T16:08:20.024Z\"\n",
    "        query={\"eo:cloud_cover\":{\"lt\":max_cloud_cover}},\n",
    "    )\n",
    "    \n",
    "    items = list(query.items())\n",
    "    print(f\"Found: {len(items):d} datasets\")\n",
    "    \n",
    "    # Convert STAC items into a GeoJSON FeatureCollection\n",
    "    stac_json = query.item_collection_as_dict()\n",
    "    S2_gdf = gpd.GeoDataFrame.from_features(stac_json, \"epsg:4326\")\n",
    "    S2_gdf_subset = S2_gdf[(S2_gdf.bounds.miny > lower_lat)]\n",
    "\n",
    "    points_in_poly = gpd.tools.sjoin(ATL_gfd, S2_gdf_subset)\n",
    "    #print(points_in_poly)\n",
    "    \n",
    "    try:\n",
    "        # Empty geodataframes threw an exception here\n",
    "        print('Number of overlapping tiles:', len(points_in_poly['title'].unique()))\n",
    "    except:\n",
    "        continue\n",
    "    \n"
   ]
  },
  {
   "cell_type": "code",
   "execution_count": 27,
   "id": "6ada1282-829b-4f40-9b6d-107bfb3d6f8e",
   "metadata": {},
   "outputs": [
    {
     "data": {
      "text/html": [
       "<div>\n",
       "<style scoped>\n",
       "    .dataframe tbody tr th:only-of-type {\n",
       "        vertical-align: middle;\n",
       "    }\n",
       "\n",
       "    .dataframe tbody tr th {\n",
       "        vertical-align: top;\n",
       "    }\n",
       "\n",
       "    .dataframe thead th {\n",
       "        text-align: right;\n",
       "    }\n",
       "</style>\n",
       "<table border=\"1\" class=\"dataframe\">\n",
       "  <thead>\n",
       "    <tr style=\"text-align: right;\">\n",
       "      <th></th>\n",
       "      <th>minx</th>\n",
       "      <th>miny</th>\n",
       "      <th>maxx</th>\n",
       "      <th>maxy</th>\n",
       "    </tr>\n",
       "  </thead>\n",
       "  <tbody>\n",
       "    <tr>\n",
       "      <th>0</th>\n",
       "      <td>28.079709</td>\n",
       "      <td>82.551538</td>\n",
       "      <td>28.079709</td>\n",
       "      <td>82.551538</td>\n",
       "    </tr>\n",
       "    <tr>\n",
       "      <th>1</th>\n",
       "      <td>28.070940</td>\n",
       "      <td>82.555476</td>\n",
       "      <td>28.070940</td>\n",
       "      <td>82.555476</td>\n",
       "    </tr>\n",
       "    <tr>\n",
       "      <th>2</th>\n",
       "      <td>28.060864</td>\n",
       "      <td>82.560020</td>\n",
       "      <td>28.060864</td>\n",
       "      <td>82.560020</td>\n",
       "    </tr>\n",
       "    <tr>\n",
       "      <th>3</th>\n",
       "      <td>28.048393</td>\n",
       "      <td>82.565629</td>\n",
       "      <td>28.048393</td>\n",
       "      <td>82.565629</td>\n",
       "    </tr>\n",
       "    <tr>\n",
       "      <th>4</th>\n",
       "      <td>28.039280</td>\n",
       "      <td>82.569732</td>\n",
       "      <td>28.039280</td>\n",
       "      <td>82.569732</td>\n",
       "    </tr>\n",
       "    <tr>\n",
       "      <th>...</th>\n",
       "      <td>...</td>\n",
       "      <td>...</td>\n",
       "      <td>...</td>\n",
       "      <td>...</td>\n",
       "    </tr>\n",
       "    <tr>\n",
       "      <th>14049</th>\n",
       "      <td>-131.649014</td>\n",
       "      <td>72.788306</td>\n",
       "      <td>-131.649014</td>\n",
       "      <td>72.788306</td>\n",
       "    </tr>\n",
       "    <tr>\n",
       "      <th>14050</th>\n",
       "      <td>-131.654817</td>\n",
       "      <td>72.775801</td>\n",
       "      <td>-131.654817</td>\n",
       "      <td>72.775801</td>\n",
       "    </tr>\n",
       "    <tr>\n",
       "      <th>14051</th>\n",
       "      <td>-131.667712</td>\n",
       "      <td>72.748034</td>\n",
       "      <td>-131.667712</td>\n",
       "      <td>72.748034</td>\n",
       "    </tr>\n",
       "    <tr>\n",
       "      <th>14052</th>\n",
       "      <td>-131.710863</td>\n",
       "      <td>72.654627</td>\n",
       "      <td>-131.710863</td>\n",
       "      <td>72.654627</td>\n",
       "    </tr>\n",
       "    <tr>\n",
       "      <th>14053</th>\n",
       "      <td>-131.736526</td>\n",
       "      <td>72.598670</td>\n",
       "      <td>-131.736526</td>\n",
       "      <td>72.598670</td>\n",
       "    </tr>\n",
       "  </tbody>\n",
       "</table>\n",
       "<p>14054 rows × 4 columns</p>\n",
       "</div>"
      ],
      "text/plain": [
       "             minx       miny        maxx       maxy\n",
       "0       28.079709  82.551538   28.079709  82.551538\n",
       "1       28.070940  82.555476   28.070940  82.555476\n",
       "2       28.060864  82.560020   28.060864  82.560020\n",
       "3       28.048393  82.565629   28.048393  82.565629\n",
       "4       28.039280  82.569732   28.039280  82.569732\n",
       "...           ...        ...         ...        ...\n",
       "14049 -131.649014  72.788306 -131.649014  72.788306\n",
       "14050 -131.654817  72.775801 -131.654817  72.775801\n",
       "14051 -131.667712  72.748034 -131.667712  72.748034\n",
       "14052 -131.710863  72.654627 -131.710863  72.654627\n",
       "14053 -131.736526  72.598670 -131.736526  72.598670\n",
       "\n",
       "[14054 rows x 4 columns]"
      ]
     },
     "execution_count": 27,
     "metadata": {},
     "output_type": "execute_result"
    }
   ],
   "source": [
    "ATL_gfd.bounds"
   ]
  },
  {
   "cell_type": "code",
   "execution_count": 25,
   "id": "48e2c74c-217c-4eff-bd88-e9236bbdfa06",
   "metadata": {},
   "outputs": [
    {
     "data": {
      "text/plain": [
       "'2020-10-14:20:44:07Z'"
      ]
     },
     "execution_count": 25,
     "metadata": {},
     "output_type": "execute_result"
    }
   ],
   "source": [
    "ATL_start = start_time_window.strftime('%Y-%m-%d:%H:%M:%SZ')\n",
    "ATL_start"
   ]
  },
  {
   "cell_type": "code",
   "execution_count": 94,
   "id": "1560b584-9b0c-4865-8522-d634f9cfa20b",
   "metadata": {},
   "outputs": [
    {
     "data": {
      "text/html": [
       "\n",
       "            <style>\n",
       "                .geemap-dark {\n",
       "                    --jp-widgets-color: white;\n",
       "                    --jp-widgets-label-color: white;\n",
       "                    --jp-ui-font-color1: white;\n",
       "                    --jp-layout-color2: #454545;\n",
       "                    background-color: #383838;\n",
       "                }\n",
       "                    \n",
       "                .geemap-dark .jupyter-button {\n",
       "                    --jp-layout-color3: #383838;\n",
       "                }\n",
       "                \n",
       "                .geemap-colab {\n",
       "                    background-color: var(--colab-primary-surface-color, white);\n",
       "                }\n",
       "                    \n",
       "                .geemap-colab .jupyter-button {\n",
       "                    --jp-layout-color3: var(--colab-primary-surface-color, white);\n",
       "                }\n",
       "            </style>\n",
       "            "
      ],
      "text/plain": [
       "<IPython.core.display.HTML object>"
      ]
     },
     "metadata": {},
     "output_type": "display_data"
    },
    {
     "data": {
      "text/plain": [
       "[]"
      ]
     },
     "execution_count": 94,
     "metadata": {},
     "output_type": "execute_result"
    }
   ],
   "source": [
    "coincident_S2_images"
   ]
  },
  {
   "cell_type": "code",
   "execution_count": 52,
   "id": "ead99f0b-2dec-410f-bb7f-1ed4e3b497c9",
   "metadata": {},
   "outputs": [
    {
     "data": {
      "text/html": [
       "\n",
       "            <style>\n",
       "                .geemap-dark {\n",
       "                    --jp-widgets-color: white;\n",
       "                    --jp-widgets-label-color: white;\n",
       "                    --jp-ui-font-color1: white;\n",
       "                    --jp-layout-color2: #454545;\n",
       "                    background-color: #383838;\n",
       "                }\n",
       "                    \n",
       "                .geemap-dark .jupyter-button {\n",
       "                    --jp-layout-color3: #383838;\n",
       "                }\n",
       "                \n",
       "                .geemap-colab {\n",
       "                    background-color: var(--colab-primary-surface-color, white);\n",
       "                }\n",
       "                    \n",
       "                .geemap-colab .jupyter-button {\n",
       "                    --jp-layout-color3: var(--colab-primary-surface-color, white);\n",
       "                }\n",
       "            </style>\n",
       "            "
      ],
      "text/plain": [
       "<IPython.core.display.HTML object>"
      ]
     },
     "metadata": {},
     "output_type": "display_data"
    },
    {
     "name": "stdout",
     "output_type": "stream",
     "text": [
      "ATL07-01_20210404144138_01651101_006_02.h5\n",
      "['COPERNICUS/S2_SR/20210404T175911_20210404T175908_T14WPV']\n",
      "Time difference = 179 minutes between S-2 and ICESat-2 track\n",
      "Cloud cover = 3.77955 %\n"
     ]
    },
    {
     "data": {
      "application/vnd.jupyter.widget-view+json": {
       "model_id": "75c20920c20f4223acaad189bd69a955",
       "version_major": 2,
       "version_minor": 0
      },
      "text/plain": [
       "Map(center=[67.06930214867221, -95.392282509739], controls=(WidgetControl(options=['position', 'transparent_bg…"
      ]
     },
     "execution_count": 52,
     "metadata": {},
     "output_type": "execute_result"
    }
   ],
   "source": [
    "Map = geemap.Map()\n",
    "\n",
    "coincident_granule_num = 0\n",
    "\n",
    "#coincident_S2_images\n",
    "#s2_id = coincident_S2_images[coincident_granule_num].aggregate_first('id').getInfo()\n",
    "mean_cloud_cover = coincident_S2_images[coincident_granule_num].aggregate_mean('CLOUD_COVERAGE_ASSESSMENT').getInfo()\n",
    "#mean_cloud_pixel = coincident_S2_images[coincident_granule_num].aggregate_mean('CLOUDY_PIXEL_PERCENTAGE').getInfo()\n",
    "mean_time_delta = coincident_S2_images[coincident_granule_num].aggregate_mean('system:time_start').getInfo()\n",
    "time_s2 = datetime(1970, 1, 1) + timedelta(seconds = mean_time_delta/1000) \n",
    "time_is2 = ATL_midtimes_matched[coincident_granule_num]\n",
    "time_diff_mins = np.int(abs(time_is2-time_s2).seconds/60)\n",
    "print(ATL_filenames_matched[coincident_granule_num])\n",
    "print(coincident_S2_image_ids[coincident_granule_num])\n",
    "print(f\"Time difference = {time_diff_mins} minutes between S-2 and ICESat-2 track\")\n",
    "print(f\"Cloud cover = {mean_cloud_cover} %\")\n",
    "\n",
    "#print(mean_cloud_cover, time_s2, time_is2, time_diff_mins)\n",
    "\n",
    "mosaiced_scene = coincident_S2_mosaics[coincident_granule_num]\n",
    "#img = ee.Image(mosaiced_scene).select('B4','B3','B2')\n",
    "\n",
    "Map.addLayer(mosaiced_scene, {'bands': ['B4', 'B3', 'B2'], 'max': 10000}, 'RGB Mosaic')\n",
    "\n",
    "# Center Map around the first image, not figured out how to instead use the mosaic for this\n",
    "img = ee.Image(coincident_S2_image_ids[coincident_granule_num][0]).select('B4','B3','B2')\n",
    "Map.centerObject(img, zoom = 7)\n",
    "Map.addLayer(is2_coordinate_tracks_matched[coincident_granule_num], {}, \"ATl07 beam (middle strong)\")\n",
    "#Map.to_html(outfile='./your_map.html', title='My Map', width='100%', height='880px')\n",
    "\n",
    "# Export the map as a PNG\n",
    "#url = mosaiced_scene.getThumbURL({\n",
    "#    'region': geometry.getInfo(),\n",
    "#    'dimensions': 1024,\n",
    "#    'format': 'png'\n",
    "#})\n",
    "\n",
    "Map"
   ]
  },
  {
   "cell_type": "code",
   "execution_count": 91,
   "id": "eb286d47-4547-4618-b19c-be91c504f813",
   "metadata": {},
   "outputs": [
    {
     "data": {
      "text/html": [
       "\n",
       "            <style>\n",
       "                .geemap-dark {\n",
       "                    --jp-widgets-color: white;\n",
       "                    --jp-widgets-label-color: white;\n",
       "                    --jp-ui-font-color1: white;\n",
       "                    --jp-layout-color2: #454545;\n",
       "                    background-color: #383838;\n",
       "                }\n",
       "                    \n",
       "                .geemap-dark .jupyter-button {\n",
       "                    --jp-layout-color3: #383838;\n",
       "                }\n",
       "                \n",
       "                .geemap-colab {\n",
       "                    background-color: var(--colab-primary-surface-color, white);\n",
       "                }\n",
       "                    \n",
       "                .geemap-colab .jupyter-button {\n",
       "                    --jp-layout-color3: var(--colab-primary-surface-color, white);\n",
       "                }\n",
       "            </style>\n",
       "            "
      ],
      "text/plain": [
       "<IPython.core.display.HTML object>"
      ]
     },
     "metadata": {},
     "output_type": "display_data"
    }
   ],
   "source": [
    "#%pip install leafmap"
   ]
  },
  {
   "cell_type": "code",
   "execution_count": 78,
   "id": "6e02f6a3-6ab0-4237-a5b1-c35a9e67e04f",
   "metadata": {},
   "outputs": [
    {
     "data": {
      "text/html": [
       "\n",
       "            <style>\n",
       "                .geemap-dark {\n",
       "                    --jp-widgets-color: white;\n",
       "                    --jp-widgets-label-color: white;\n",
       "                    --jp-ui-font-color1: white;\n",
       "                    --jp-layout-color2: #454545;\n",
       "                    background-color: #383838;\n",
       "                }\n",
       "                    \n",
       "                .geemap-dark .jupyter-button {\n",
       "                    --jp-layout-color3: #383838;\n",
       "                }\n",
       "                \n",
       "                .geemap-colab {\n",
       "                    background-color: var(--colab-primary-surface-color, white);\n",
       "                }\n",
       "                    \n",
       "                .geemap-colab .jupyter-button {\n",
       "                    --jp-layout-color3: var(--colab-primary-surface-color, white);\n",
       "                }\n",
       "            </style>\n",
       "            "
      ],
      "text/plain": [
       "<IPython.core.display.HTML object>"
      ]
     },
     "metadata": {},
     "output_type": "display_data"
    }
   ],
   "source": [
    "#import os\n",
    "#import leafmap.leafmap as leafmap"
   ]
  },
  {
   "cell_type": "code",
   "execution_count": 83,
   "id": "ff4175b5-a2d5-43d9-a770-03771f0ad78c",
   "metadata": {},
   "outputs": [
    {
     "data": {
      "text/html": [
       "\n",
       "            <style>\n",
       "                .geemap-dark {\n",
       "                    --jp-widgets-color: white;\n",
       "                    --jp-widgets-label-color: white;\n",
       "                    --jp-ui-font-color1: white;\n",
       "                    --jp-layout-color2: #454545;\n",
       "                    background-color: #383838;\n",
       "                }\n",
       "                    \n",
       "                .geemap-dark .jupyter-button {\n",
       "                    --jp-layout-color3: #383838;\n",
       "                }\n",
       "                \n",
       "                .geemap-colab {\n",
       "                    background-color: var(--colab-primary-surface-color, white);\n",
       "                }\n",
       "                    \n",
       "                .geemap-colab .jupyter-button {\n",
       "                    --jp-layout-color3: var(--colab-primary-surface-color, white);\n",
       "                }\n",
       "            </style>\n",
       "            "
      ],
      "text/plain": [
       "<IPython.core.display.HTML object>"
      ]
     },
     "metadata": {},
     "output_type": "display_data"
    },
    {
     "data": {
      "text/html": [
       "<div><style>:root {\n",
       "  --font-color-primary: var(--jp-content-font-color0, rgba(0, 0, 0, 1));\n",
       "  --font-color-secondary: var(--jp-content-font-color2, rgba(0, 0, 0, 0.6));\n",
       "  --font-color-accent: rgba(123, 31, 162, 1);\n",
       "  --border-color: var(--jp-border-color2, #e0e0e0);\n",
       "  --background-color: var(--jp-layout-color0, white);\n",
       "  --background-color-row-even: var(--jp-layout-color1, white);\n",
       "  --background-color-row-odd: var(--jp-layout-color2, #eeeeee);\n",
       "}\n",
       "\n",
       "html[theme=\"dark\"],\n",
       "body[data-theme=\"dark\"],\n",
       "body.vscode-dark {\n",
       "  --font-color-primary: rgba(255, 255, 255, 1);\n",
       "  --font-color-secondary: rgba(255, 255, 255, 0.6);\n",
       "  --font-color-accent: rgb(173, 132, 190);\n",
       "  --border-color: #2e2e2e;\n",
       "  --background-color: #111111;\n",
       "  --background-color-row-even: #111111;\n",
       "  --background-color-row-odd: #313131;\n",
       "}\n",
       "\n",
       ".ee {\n",
       "  padding: 1em;\n",
       "  line-height: 1.5em;\n",
       "  min-width: 300px;\n",
       "  max-width: 1200px;\n",
       "  overflow-y: scroll;\n",
       "  max-height: 600px;\n",
       "  border: 1px solid var(--border-color);\n",
       "  font-family: monospace;\n",
       "}\n",
       "\n",
       ".ee li {\n",
       "  list-style-type: none;\n",
       "}\n",
       "\n",
       ".ee ul {\n",
       "  padding-left: 1.5em !important;\n",
       "  margin: 0;\n",
       "}\n",
       "\n",
       ".ee > ul {\n",
       "  padding-left: 0 !important;\n",
       "}\n",
       "\n",
       ".ee-open,\n",
       ".ee-shut {\n",
       "  color: var(--font-color-secondary);\n",
       "  cursor: pointer;\n",
       "  margin: 0;\n",
       "}\n",
       "\n",
       ".ee-open:hover,\n",
       ".ee-shut:hover {\n",
       "  color: var(--font-color-primary);\n",
       "}\n",
       "\n",
       ".ee-k {\n",
       "  color: var(--font-color-accent);\n",
       "  margin-right: 6px;\n",
       "}\n",
       "\n",
       ".ee-v {\n",
       "  color: var(--font-color-primary);\n",
       "}\n",
       "\n",
       ".ee-toggle {\n",
       "  display: none;\n",
       "}\n",
       "\n",
       ".ee-shut + ul {\n",
       "  display: none;\n",
       "}\n",
       "\n",
       ".ee-open + ul {\n",
       "  display: block;\n",
       "}\n",
       "\n",
       ".ee-shut::before {\n",
       "  display: inline-block;\n",
       "  content: \"▼\";\n",
       "  margin-right: 6px;\n",
       "  transform: rotate(-90deg);\n",
       "  transition: transform 0.2s;\n",
       "}\n",
       "\n",
       ".ee-open::before {\n",
       "  transform: rotate(0deg);\n",
       "  display: inline-block;\n",
       "  content: \"▼\";\n",
       "  margin-right: 6px;\n",
       "  transition: transform 0.2s;\n",
       "}\n",
       "</style><div class='ee'><ul><li><label class='ee-shut'>Image (23 bands)<input type='checkbox' class='ee-toggle'></label><ul><li><span class='ee-k'>type:</span><span class='ee-v'>Image</span></li><li><label class='ee-shut'>bands: List (23 elements)<input type='checkbox' class='ee-toggle'></label><ul><li><label class='ee-shut'>0: \"B1\", unsigned int16, EPSG:4326<input type='checkbox' class='ee-toggle'></label><ul><li><span class='ee-k'>id:</span><span class='ee-v'>B1</span></li><li><span class='ee-k'>crs:</span><span class='ee-v'>EPSG:4326</span></li><li><label class='ee-shut'>crs_transform: [1, 0, 0, 0, 1, 0]<input type='checkbox' class='ee-toggle'></label><ul><li><span class='ee-k'>0:</span><span class='ee-v'>1</span></li><li><span class='ee-k'>1:</span><span class='ee-v'>0</span></li><li><span class='ee-k'>2:</span><span class='ee-v'>0</span></li><li><span class='ee-k'>3:</span><span class='ee-v'>0</span></li><li><span class='ee-k'>4:</span><span class='ee-v'>1</span></li><li><span class='ee-k'>5:</span><span class='ee-v'>0</span></li></ul></li><li><label class='ee-shut'>data_type: unsigned int16<input type='checkbox' class='ee-toggle'></label><ul><li><span class='ee-k'>type:</span><span class='ee-v'>PixelType</span></li><li><span class='ee-k'>max:</span><span class='ee-v'>65535</span></li><li><span class='ee-k'>min:</span><span class='ee-v'>0</span></li><li><span class='ee-k'>precision:</span><span class='ee-v'>int</span></li></ul></li></ul></li><li><label class='ee-shut'>1: \"B2\", unsigned int16, EPSG:4326<input type='checkbox' class='ee-toggle'></label><ul><li><span class='ee-k'>id:</span><span class='ee-v'>B2</span></li><li><span class='ee-k'>crs:</span><span class='ee-v'>EPSG:4326</span></li><li><label class='ee-shut'>crs_transform: [1, 0, 0, 0, 1, 0]<input type='checkbox' class='ee-toggle'></label><ul><li><span class='ee-k'>0:</span><span class='ee-v'>1</span></li><li><span class='ee-k'>1:</span><span class='ee-v'>0</span></li><li><span class='ee-k'>2:</span><span class='ee-v'>0</span></li><li><span class='ee-k'>3:</span><span class='ee-v'>0</span></li><li><span class='ee-k'>4:</span><span class='ee-v'>1</span></li><li><span class='ee-k'>5:</span><span class='ee-v'>0</span></li></ul></li><li><label class='ee-shut'>data_type: unsigned int16<input type='checkbox' class='ee-toggle'></label><ul><li><span class='ee-k'>type:</span><span class='ee-v'>PixelType</span></li><li><span class='ee-k'>max:</span><span class='ee-v'>65535</span></li><li><span class='ee-k'>min:</span><span class='ee-v'>0</span></li><li><span class='ee-k'>precision:</span><span class='ee-v'>int</span></li></ul></li></ul></li><li><label class='ee-shut'>2: \"B3\", unsigned int16, EPSG:4326<input type='checkbox' class='ee-toggle'></label><ul><li><span class='ee-k'>id:</span><span class='ee-v'>B3</span></li><li><span class='ee-k'>crs:</span><span class='ee-v'>EPSG:4326</span></li><li><label class='ee-shut'>crs_transform: [1, 0, 0, 0, 1, 0]<input type='checkbox' class='ee-toggle'></label><ul><li><span class='ee-k'>0:</span><span class='ee-v'>1</span></li><li><span class='ee-k'>1:</span><span class='ee-v'>0</span></li><li><span class='ee-k'>2:</span><span class='ee-v'>0</span></li><li><span class='ee-k'>3:</span><span class='ee-v'>0</span></li><li><span class='ee-k'>4:</span><span class='ee-v'>1</span></li><li><span class='ee-k'>5:</span><span class='ee-v'>0</span></li></ul></li><li><label class='ee-shut'>data_type: unsigned int16<input type='checkbox' class='ee-toggle'></label><ul><li><span class='ee-k'>type:</span><span class='ee-v'>PixelType</span></li><li><span class='ee-k'>max:</span><span class='ee-v'>65535</span></li><li><span class='ee-k'>min:</span><span class='ee-v'>0</span></li><li><span class='ee-k'>precision:</span><span class='ee-v'>int</span></li></ul></li></ul></li><li><label class='ee-shut'>3: \"B4\", unsigned int16, EPSG:4326<input type='checkbox' class='ee-toggle'></label><ul><li><span class='ee-k'>id:</span><span class='ee-v'>B4</span></li><li><span class='ee-k'>crs:</span><span class='ee-v'>EPSG:4326</span></li><li><label class='ee-shut'>crs_transform: [1, 0, 0, 0, 1, 0]<input type='checkbox' class='ee-toggle'></label><ul><li><span class='ee-k'>0:</span><span class='ee-v'>1</span></li><li><span class='ee-k'>1:</span><span class='ee-v'>0</span></li><li><span class='ee-k'>2:</span><span class='ee-v'>0</span></li><li><span class='ee-k'>3:</span><span class='ee-v'>0</span></li><li><span class='ee-k'>4:</span><span class='ee-v'>1</span></li><li><span class='ee-k'>5:</span><span class='ee-v'>0</span></li></ul></li><li><label class='ee-shut'>data_type: unsigned int16<input type='checkbox' class='ee-toggle'></label><ul><li><span class='ee-k'>type:</span><span class='ee-v'>PixelType</span></li><li><span class='ee-k'>max:</span><span class='ee-v'>65535</span></li><li><span class='ee-k'>min:</span><span class='ee-v'>0</span></li><li><span class='ee-k'>precision:</span><span class='ee-v'>int</span></li></ul></li></ul></li><li><label class='ee-shut'>4: \"B5\", unsigned int16, EPSG:4326<input type='checkbox' class='ee-toggle'></label><ul><li><span class='ee-k'>id:</span><span class='ee-v'>B5</span></li><li><span class='ee-k'>crs:</span><span class='ee-v'>EPSG:4326</span></li><li><label class='ee-shut'>crs_transform: [1, 0, 0, 0, 1, 0]<input type='checkbox' class='ee-toggle'></label><ul><li><span class='ee-k'>0:</span><span class='ee-v'>1</span></li><li><span class='ee-k'>1:</span><span class='ee-v'>0</span></li><li><span class='ee-k'>2:</span><span class='ee-v'>0</span></li><li><span class='ee-k'>3:</span><span class='ee-v'>0</span></li><li><span class='ee-k'>4:</span><span class='ee-v'>1</span></li><li><span class='ee-k'>5:</span><span class='ee-v'>0</span></li></ul></li><li><label class='ee-shut'>data_type: unsigned int16<input type='checkbox' class='ee-toggle'></label><ul><li><span class='ee-k'>type:</span><span class='ee-v'>PixelType</span></li><li><span class='ee-k'>max:</span><span class='ee-v'>65535</span></li><li><span class='ee-k'>min:</span><span class='ee-v'>0</span></li><li><span class='ee-k'>precision:</span><span class='ee-v'>int</span></li></ul></li></ul></li><li><label class='ee-shut'>5: \"B6\", unsigned int16, EPSG:4326<input type='checkbox' class='ee-toggle'></label><ul><li><span class='ee-k'>id:</span><span class='ee-v'>B6</span></li><li><span class='ee-k'>crs:</span><span class='ee-v'>EPSG:4326</span></li><li><label class='ee-shut'>crs_transform: [1, 0, 0, 0, 1, 0]<input type='checkbox' class='ee-toggle'></label><ul><li><span class='ee-k'>0:</span><span class='ee-v'>1</span></li><li><span class='ee-k'>1:</span><span class='ee-v'>0</span></li><li><span class='ee-k'>2:</span><span class='ee-v'>0</span></li><li><span class='ee-k'>3:</span><span class='ee-v'>0</span></li><li><span class='ee-k'>4:</span><span class='ee-v'>1</span></li><li><span class='ee-k'>5:</span><span class='ee-v'>0</span></li></ul></li><li><label class='ee-shut'>data_type: unsigned int16<input type='checkbox' class='ee-toggle'></label><ul><li><span class='ee-k'>type:</span><span class='ee-v'>PixelType</span></li><li><span class='ee-k'>max:</span><span class='ee-v'>65535</span></li><li><span class='ee-k'>min:</span><span class='ee-v'>0</span></li><li><span class='ee-k'>precision:</span><span class='ee-v'>int</span></li></ul></li></ul></li><li><label class='ee-shut'>6: \"B7\", unsigned int16, EPSG:4326<input type='checkbox' class='ee-toggle'></label><ul><li><span class='ee-k'>id:</span><span class='ee-v'>B7</span></li><li><span class='ee-k'>crs:</span><span class='ee-v'>EPSG:4326</span></li><li><label class='ee-shut'>crs_transform: [1, 0, 0, 0, 1, 0]<input type='checkbox' class='ee-toggle'></label><ul><li><span class='ee-k'>0:</span><span class='ee-v'>1</span></li><li><span class='ee-k'>1:</span><span class='ee-v'>0</span></li><li><span class='ee-k'>2:</span><span class='ee-v'>0</span></li><li><span class='ee-k'>3:</span><span class='ee-v'>0</span></li><li><span class='ee-k'>4:</span><span class='ee-v'>1</span></li><li><span class='ee-k'>5:</span><span class='ee-v'>0</span></li></ul></li><li><label class='ee-shut'>data_type: unsigned int16<input type='checkbox' class='ee-toggle'></label><ul><li><span class='ee-k'>type:</span><span class='ee-v'>PixelType</span></li><li><span class='ee-k'>max:</span><span class='ee-v'>65535</span></li><li><span class='ee-k'>min:</span><span class='ee-v'>0</span></li><li><span class='ee-k'>precision:</span><span class='ee-v'>int</span></li></ul></li></ul></li><li><label class='ee-shut'>7: \"B8\", unsigned int16, EPSG:4326<input type='checkbox' class='ee-toggle'></label><ul><li><span class='ee-k'>id:</span><span class='ee-v'>B8</span></li><li><span class='ee-k'>crs:</span><span class='ee-v'>EPSG:4326</span></li><li><label class='ee-shut'>crs_transform: [1, 0, 0, 0, 1, 0]<input type='checkbox' class='ee-toggle'></label><ul><li><span class='ee-k'>0:</span><span class='ee-v'>1</span></li><li><span class='ee-k'>1:</span><span class='ee-v'>0</span></li><li><span class='ee-k'>2:</span><span class='ee-v'>0</span></li><li><span class='ee-k'>3:</span><span class='ee-v'>0</span></li><li><span class='ee-k'>4:</span><span class='ee-v'>1</span></li><li><span class='ee-k'>5:</span><span class='ee-v'>0</span></li></ul></li><li><label class='ee-shut'>data_type: unsigned int16<input type='checkbox' class='ee-toggle'></label><ul><li><span class='ee-k'>type:</span><span class='ee-v'>PixelType</span></li><li><span class='ee-k'>max:</span><span class='ee-v'>65535</span></li><li><span class='ee-k'>min:</span><span class='ee-v'>0</span></li><li><span class='ee-k'>precision:</span><span class='ee-v'>int</span></li></ul></li></ul></li><li><label class='ee-shut'>8: \"B8A\", unsigned int16, EPSG:4326<input type='checkbox' class='ee-toggle'></label><ul><li><span class='ee-k'>id:</span><span class='ee-v'>B8A</span></li><li><span class='ee-k'>crs:</span><span class='ee-v'>EPSG:4326</span></li><li><label class='ee-shut'>crs_transform: [1, 0, 0, 0, 1, 0]<input type='checkbox' class='ee-toggle'></label><ul><li><span class='ee-k'>0:</span><span class='ee-v'>1</span></li><li><span class='ee-k'>1:</span><span class='ee-v'>0</span></li><li><span class='ee-k'>2:</span><span class='ee-v'>0</span></li><li><span class='ee-k'>3:</span><span class='ee-v'>0</span></li><li><span class='ee-k'>4:</span><span class='ee-v'>1</span></li><li><span class='ee-k'>5:</span><span class='ee-v'>0</span></li></ul></li><li><label class='ee-shut'>data_type: unsigned int16<input type='checkbox' class='ee-toggle'></label><ul><li><span class='ee-k'>type:</span><span class='ee-v'>PixelType</span></li><li><span class='ee-k'>max:</span><span class='ee-v'>65535</span></li><li><span class='ee-k'>min:</span><span class='ee-v'>0</span></li><li><span class='ee-k'>precision:</span><span class='ee-v'>int</span></li></ul></li></ul></li><li><label class='ee-shut'>9: \"B9\", unsigned int16, EPSG:4326<input type='checkbox' class='ee-toggle'></label><ul><li><span class='ee-k'>id:</span><span class='ee-v'>B9</span></li><li><span class='ee-k'>crs:</span><span class='ee-v'>EPSG:4326</span></li><li><label class='ee-shut'>crs_transform: [1, 0, 0, 0, 1, 0]<input type='checkbox' class='ee-toggle'></label><ul><li><span class='ee-k'>0:</span><span class='ee-v'>1</span></li><li><span class='ee-k'>1:</span><span class='ee-v'>0</span></li><li><span class='ee-k'>2:</span><span class='ee-v'>0</span></li><li><span class='ee-k'>3:</span><span class='ee-v'>0</span></li><li><span class='ee-k'>4:</span><span class='ee-v'>1</span></li><li><span class='ee-k'>5:</span><span class='ee-v'>0</span></li></ul></li><li><label class='ee-shut'>data_type: unsigned int16<input type='checkbox' class='ee-toggle'></label><ul><li><span class='ee-k'>type:</span><span class='ee-v'>PixelType</span></li><li><span class='ee-k'>max:</span><span class='ee-v'>65535</span></li><li><span class='ee-k'>min:</span><span class='ee-v'>0</span></li><li><span class='ee-k'>precision:</span><span class='ee-v'>int</span></li></ul></li></ul></li><li><label class='ee-shut'>10: \"B11\", unsigned int16, EPSG:4326<input type='checkbox' class='ee-toggle'></label><ul><li><span class='ee-k'>id:</span><span class='ee-v'>B11</span></li><li><span class='ee-k'>crs:</span><span class='ee-v'>EPSG:4326</span></li><li><label class='ee-shut'>crs_transform: [1, 0, 0, 0, 1, 0]<input type='checkbox' class='ee-toggle'></label><ul><li><span class='ee-k'>0:</span><span class='ee-v'>1</span></li><li><span class='ee-k'>1:</span><span class='ee-v'>0</span></li><li><span class='ee-k'>2:</span><span class='ee-v'>0</span></li><li><span class='ee-k'>3:</span><span class='ee-v'>0</span></li><li><span class='ee-k'>4:</span><span class='ee-v'>1</span></li><li><span class='ee-k'>5:</span><span class='ee-v'>0</span></li></ul></li><li><label class='ee-shut'>data_type: unsigned int16<input type='checkbox' class='ee-toggle'></label><ul><li><span class='ee-k'>type:</span><span class='ee-v'>PixelType</span></li><li><span class='ee-k'>max:</span><span class='ee-v'>65535</span></li><li><span class='ee-k'>min:</span><span class='ee-v'>0</span></li><li><span class='ee-k'>precision:</span><span class='ee-v'>int</span></li></ul></li></ul></li><li><label class='ee-shut'>11: \"B12\", unsigned int16, EPSG:4326<input type='checkbox' class='ee-toggle'></label><ul><li><span class='ee-k'>id:</span><span class='ee-v'>B12</span></li><li><span class='ee-k'>crs:</span><span class='ee-v'>EPSG:4326</span></li><li><label class='ee-shut'>crs_transform: [1, 0, 0, 0, 1, 0]<input type='checkbox' class='ee-toggle'></label><ul><li><span class='ee-k'>0:</span><span class='ee-v'>1</span></li><li><span class='ee-k'>1:</span><span class='ee-v'>0</span></li><li><span class='ee-k'>2:</span><span class='ee-v'>0</span></li><li><span class='ee-k'>3:</span><span class='ee-v'>0</span></li><li><span class='ee-k'>4:</span><span class='ee-v'>1</span></li><li><span class='ee-k'>5:</span><span class='ee-v'>0</span></li></ul></li><li><label class='ee-shut'>data_type: unsigned int16<input type='checkbox' class='ee-toggle'></label><ul><li><span class='ee-k'>type:</span><span class='ee-v'>PixelType</span></li><li><span class='ee-k'>max:</span><span class='ee-v'>65535</span></li><li><span class='ee-k'>min:</span><span class='ee-v'>0</span></li><li><span class='ee-k'>precision:</span><span class='ee-v'>int</span></li></ul></li></ul></li><li><label class='ee-shut'>12: \"AOT\", unsigned int16, EPSG:4326<input type='checkbox' class='ee-toggle'></label><ul><li><span class='ee-k'>id:</span><span class='ee-v'>AOT</span></li><li><span class='ee-k'>crs:</span><span class='ee-v'>EPSG:4326</span></li><li><label class='ee-shut'>crs_transform: [1, 0, 0, 0, 1, 0]<input type='checkbox' class='ee-toggle'></label><ul><li><span class='ee-k'>0:</span><span class='ee-v'>1</span></li><li><span class='ee-k'>1:</span><span class='ee-v'>0</span></li><li><span class='ee-k'>2:</span><span class='ee-v'>0</span></li><li><span class='ee-k'>3:</span><span class='ee-v'>0</span></li><li><span class='ee-k'>4:</span><span class='ee-v'>1</span></li><li><span class='ee-k'>5:</span><span class='ee-v'>0</span></li></ul></li><li><label class='ee-shut'>data_type: unsigned int16<input type='checkbox' class='ee-toggle'></label><ul><li><span class='ee-k'>type:</span><span class='ee-v'>PixelType</span></li><li><span class='ee-k'>max:</span><span class='ee-v'>65535</span></li><li><span class='ee-k'>min:</span><span class='ee-v'>0</span></li><li><span class='ee-k'>precision:</span><span class='ee-v'>int</span></li></ul></li></ul></li><li><label class='ee-shut'>13: \"WVP\", unsigned int16, EPSG:4326<input type='checkbox' class='ee-toggle'></label><ul><li><span class='ee-k'>id:</span><span class='ee-v'>WVP</span></li><li><span class='ee-k'>crs:</span><span class='ee-v'>EPSG:4326</span></li><li><label class='ee-shut'>crs_transform: [1, 0, 0, 0, 1, 0]<input type='checkbox' class='ee-toggle'></label><ul><li><span class='ee-k'>0:</span><span class='ee-v'>1</span></li><li><span class='ee-k'>1:</span><span class='ee-v'>0</span></li><li><span class='ee-k'>2:</span><span class='ee-v'>0</span></li><li><span class='ee-k'>3:</span><span class='ee-v'>0</span></li><li><span class='ee-k'>4:</span><span class='ee-v'>1</span></li><li><span class='ee-k'>5:</span><span class='ee-v'>0</span></li></ul></li><li><label class='ee-shut'>data_type: unsigned int16<input type='checkbox' class='ee-toggle'></label><ul><li><span class='ee-k'>type:</span><span class='ee-v'>PixelType</span></li><li><span class='ee-k'>max:</span><span class='ee-v'>65535</span></li><li><span class='ee-k'>min:</span><span class='ee-v'>0</span></li><li><span class='ee-k'>precision:</span><span class='ee-v'>int</span></li></ul></li></ul></li><li><label class='ee-shut'>14: \"SCL\", unsigned int8, EPSG:4326<input type='checkbox' class='ee-toggle'></label><ul><li><span class='ee-k'>id:</span><span class='ee-v'>SCL</span></li><li><span class='ee-k'>crs:</span><span class='ee-v'>EPSG:4326</span></li><li><label class='ee-shut'>crs_transform: [1, 0, 0, 0, 1, 0]<input type='checkbox' class='ee-toggle'></label><ul><li><span class='ee-k'>0:</span><span class='ee-v'>1</span></li><li><span class='ee-k'>1:</span><span class='ee-v'>0</span></li><li><span class='ee-k'>2:</span><span class='ee-v'>0</span></li><li><span class='ee-k'>3:</span><span class='ee-v'>0</span></li><li><span class='ee-k'>4:</span><span class='ee-v'>1</span></li><li><span class='ee-k'>5:</span><span class='ee-v'>0</span></li></ul></li><li><label class='ee-shut'>data_type: unsigned int8<input type='checkbox' class='ee-toggle'></label><ul><li><span class='ee-k'>type:</span><span class='ee-v'>PixelType</span></li><li><span class='ee-k'>max:</span><span class='ee-v'>255</span></li><li><span class='ee-k'>min:</span><span class='ee-v'>0</span></li><li><span class='ee-k'>precision:</span><span class='ee-v'>int</span></li></ul></li></ul></li><li><label class='ee-shut'>15: \"TCI_R\", unsigned int8, EPSG:4326<input type='checkbox' class='ee-toggle'></label><ul><li><span class='ee-k'>id:</span><span class='ee-v'>TCI_R</span></li><li><span class='ee-k'>crs:</span><span class='ee-v'>EPSG:4326</span></li><li><label class='ee-shut'>crs_transform: [1, 0, 0, 0, 1, 0]<input type='checkbox' class='ee-toggle'></label><ul><li><span class='ee-k'>0:</span><span class='ee-v'>1</span></li><li><span class='ee-k'>1:</span><span class='ee-v'>0</span></li><li><span class='ee-k'>2:</span><span class='ee-v'>0</span></li><li><span class='ee-k'>3:</span><span class='ee-v'>0</span></li><li><span class='ee-k'>4:</span><span class='ee-v'>1</span></li><li><span class='ee-k'>5:</span><span class='ee-v'>0</span></li></ul></li><li><label class='ee-shut'>data_type: unsigned int8<input type='checkbox' class='ee-toggle'></label><ul><li><span class='ee-k'>type:</span><span class='ee-v'>PixelType</span></li><li><span class='ee-k'>max:</span><span class='ee-v'>255</span></li><li><span class='ee-k'>min:</span><span class='ee-v'>0</span></li><li><span class='ee-k'>precision:</span><span class='ee-v'>int</span></li></ul></li></ul></li><li><label class='ee-shut'>16: \"TCI_G\", unsigned int8, EPSG:4326<input type='checkbox' class='ee-toggle'></label><ul><li><span class='ee-k'>id:</span><span class='ee-v'>TCI_G</span></li><li><span class='ee-k'>crs:</span><span class='ee-v'>EPSG:4326</span></li><li><label class='ee-shut'>crs_transform: [1, 0, 0, 0, 1, 0]<input type='checkbox' class='ee-toggle'></label><ul><li><span class='ee-k'>0:</span><span class='ee-v'>1</span></li><li><span class='ee-k'>1:</span><span class='ee-v'>0</span></li><li><span class='ee-k'>2:</span><span class='ee-v'>0</span></li><li><span class='ee-k'>3:</span><span class='ee-v'>0</span></li><li><span class='ee-k'>4:</span><span class='ee-v'>1</span></li><li><span class='ee-k'>5:</span><span class='ee-v'>0</span></li></ul></li><li><label class='ee-shut'>data_type: unsigned int8<input type='checkbox' class='ee-toggle'></label><ul><li><span class='ee-k'>type:</span><span class='ee-v'>PixelType</span></li><li><span class='ee-k'>max:</span><span class='ee-v'>255</span></li><li><span class='ee-k'>min:</span><span class='ee-v'>0</span></li><li><span class='ee-k'>precision:</span><span class='ee-v'>int</span></li></ul></li></ul></li><li><label class='ee-shut'>17: \"TCI_B\", unsigned int8, EPSG:4326<input type='checkbox' class='ee-toggle'></label><ul><li><span class='ee-k'>id:</span><span class='ee-v'>TCI_B</span></li><li><span class='ee-k'>crs:</span><span class='ee-v'>EPSG:4326</span></li><li><label class='ee-shut'>crs_transform: [1, 0, 0, 0, 1, 0]<input type='checkbox' class='ee-toggle'></label><ul><li><span class='ee-k'>0:</span><span class='ee-v'>1</span></li><li><span class='ee-k'>1:</span><span class='ee-v'>0</span></li><li><span class='ee-k'>2:</span><span class='ee-v'>0</span></li><li><span class='ee-k'>3:</span><span class='ee-v'>0</span></li><li><span class='ee-k'>4:</span><span class='ee-v'>1</span></li><li><span class='ee-k'>5:</span><span class='ee-v'>0</span></li></ul></li><li><label class='ee-shut'>data_type: unsigned int8<input type='checkbox' class='ee-toggle'></label><ul><li><span class='ee-k'>type:</span><span class='ee-v'>PixelType</span></li><li><span class='ee-k'>max:</span><span class='ee-v'>255</span></li><li><span class='ee-k'>min:</span><span class='ee-v'>0</span></li><li><span class='ee-k'>precision:</span><span class='ee-v'>int</span></li></ul></li></ul></li><li><label class='ee-shut'>18: \"MSK_CLDPRB\", unsigned int8, EPSG:4326<input type='checkbox' class='ee-toggle'></label><ul><li><span class='ee-k'>id:</span><span class='ee-v'>MSK_CLDPRB</span></li><li><span class='ee-k'>crs:</span><span class='ee-v'>EPSG:4326</span></li><li><label class='ee-shut'>crs_transform: [1, 0, 0, 0, 1, 0]<input type='checkbox' class='ee-toggle'></label><ul><li><span class='ee-k'>0:</span><span class='ee-v'>1</span></li><li><span class='ee-k'>1:</span><span class='ee-v'>0</span></li><li><span class='ee-k'>2:</span><span class='ee-v'>0</span></li><li><span class='ee-k'>3:</span><span class='ee-v'>0</span></li><li><span class='ee-k'>4:</span><span class='ee-v'>1</span></li><li><span class='ee-k'>5:</span><span class='ee-v'>0</span></li></ul></li><li><label class='ee-shut'>data_type: unsigned int8<input type='checkbox' class='ee-toggle'></label><ul><li><span class='ee-k'>type:</span><span class='ee-v'>PixelType</span></li><li><span class='ee-k'>max:</span><span class='ee-v'>255</span></li><li><span class='ee-k'>min:</span><span class='ee-v'>0</span></li><li><span class='ee-k'>precision:</span><span class='ee-v'>int</span></li></ul></li></ul></li><li><label class='ee-shut'>19: \"MSK_SNWPRB\", unsigned int8, EPSG:4326<input type='checkbox' class='ee-toggle'></label><ul><li><span class='ee-k'>id:</span><span class='ee-v'>MSK_SNWPRB</span></li><li><span class='ee-k'>crs:</span><span class='ee-v'>EPSG:4326</span></li><li><label class='ee-shut'>crs_transform: [1, 0, 0, 0, 1, 0]<input type='checkbox' class='ee-toggle'></label><ul><li><span class='ee-k'>0:</span><span class='ee-v'>1</span></li><li><span class='ee-k'>1:</span><span class='ee-v'>0</span></li><li><span class='ee-k'>2:</span><span class='ee-v'>0</span></li><li><span class='ee-k'>3:</span><span class='ee-v'>0</span></li><li><span class='ee-k'>4:</span><span class='ee-v'>1</span></li><li><span class='ee-k'>5:</span><span class='ee-v'>0</span></li></ul></li><li><label class='ee-shut'>data_type: unsigned int8<input type='checkbox' class='ee-toggle'></label><ul><li><span class='ee-k'>type:</span><span class='ee-v'>PixelType</span></li><li><span class='ee-k'>max:</span><span class='ee-v'>255</span></li><li><span class='ee-k'>min:</span><span class='ee-v'>0</span></li><li><span class='ee-k'>precision:</span><span class='ee-v'>int</span></li></ul></li></ul></li><li><label class='ee-shut'>20: \"QA10\", unsigned int16, EPSG:4326<input type='checkbox' class='ee-toggle'></label><ul><li><span class='ee-k'>id:</span><span class='ee-v'>QA10</span></li><li><span class='ee-k'>crs:</span><span class='ee-v'>EPSG:4326</span></li><li><label class='ee-shut'>crs_transform: [1, 0, 0, 0, 1, 0]<input type='checkbox' class='ee-toggle'></label><ul><li><span class='ee-k'>0:</span><span class='ee-v'>1</span></li><li><span class='ee-k'>1:</span><span class='ee-v'>0</span></li><li><span class='ee-k'>2:</span><span class='ee-v'>0</span></li><li><span class='ee-k'>3:</span><span class='ee-v'>0</span></li><li><span class='ee-k'>4:</span><span class='ee-v'>1</span></li><li><span class='ee-k'>5:</span><span class='ee-v'>0</span></li></ul></li><li><label class='ee-shut'>data_type: unsigned int16<input type='checkbox' class='ee-toggle'></label><ul><li><span class='ee-k'>type:</span><span class='ee-v'>PixelType</span></li><li><span class='ee-k'>max:</span><span class='ee-v'>65535</span></li><li><span class='ee-k'>min:</span><span class='ee-v'>0</span></li><li><span class='ee-k'>precision:</span><span class='ee-v'>int</span></li></ul></li></ul></li><li><label class='ee-shut'>21: \"QA20\", unsigned int32, EPSG:4326<input type='checkbox' class='ee-toggle'></label><ul><li><span class='ee-k'>id:</span><span class='ee-v'>QA20</span></li><li><span class='ee-k'>crs:</span><span class='ee-v'>EPSG:4326</span></li><li><label class='ee-shut'>crs_transform: [1, 0, 0, 0, 1, 0]<input type='checkbox' class='ee-toggle'></label><ul><li><span class='ee-k'>0:</span><span class='ee-v'>1</span></li><li><span class='ee-k'>1:</span><span class='ee-v'>0</span></li><li><span class='ee-k'>2:</span><span class='ee-v'>0</span></li><li><span class='ee-k'>3:</span><span class='ee-v'>0</span></li><li><span class='ee-k'>4:</span><span class='ee-v'>1</span></li><li><span class='ee-k'>5:</span><span class='ee-v'>0</span></li></ul></li><li><label class='ee-shut'>data_type: unsigned int32<input type='checkbox' class='ee-toggle'></label><ul><li><span class='ee-k'>type:</span><span class='ee-v'>PixelType</span></li><li><span class='ee-k'>max:</span><span class='ee-v'>4294967295</span></li><li><span class='ee-k'>min:</span><span class='ee-v'>0</span></li><li><span class='ee-k'>precision:</span><span class='ee-v'>int</span></li></ul></li></ul></li><li><label class='ee-shut'>22: \"QA60\", unsigned int16, EPSG:4326<input type='checkbox' class='ee-toggle'></label><ul><li><span class='ee-k'>id:</span><span class='ee-v'>QA60</span></li><li><span class='ee-k'>crs:</span><span class='ee-v'>EPSG:4326</span></li><li><label class='ee-shut'>crs_transform: [1, 0, 0, 0, 1, 0]<input type='checkbox' class='ee-toggle'></label><ul><li><span class='ee-k'>0:</span><span class='ee-v'>1</span></li><li><span class='ee-k'>1:</span><span class='ee-v'>0</span></li><li><span class='ee-k'>2:</span><span class='ee-v'>0</span></li><li><span class='ee-k'>3:</span><span class='ee-v'>0</span></li><li><span class='ee-k'>4:</span><span class='ee-v'>1</span></li><li><span class='ee-k'>5:</span><span class='ee-v'>0</span></li></ul></li><li><label class='ee-shut'>data_type: unsigned int16<input type='checkbox' class='ee-toggle'></label><ul><li><span class='ee-k'>type:</span><span class='ee-v'>PixelType</span></li><li><span class='ee-k'>max:</span><span class='ee-v'>65535</span></li><li><span class='ee-k'>min:</span><span class='ee-v'>0</span></li><li><span class='ee-k'>precision:</span><span class='ee-v'>int</span></li></ul></li></ul></li></ul></li></ul></li></ul></div><script>function toggleHeader() {\n",
       "    const parent = this.parentElement;\n",
       "    parent.className = parent.className === \"ee-open\" ? \"ee-shut\" : \"ee-open\";\n",
       "}\n",
       "\n",
       "for (let c of document.getElementsByClassName(\"ee-toggle\")) {\n",
       "    c.onclick = toggleHeader;\n",
       "}</script></div>"
      ],
      "text/plain": [
       "<ee.image.Image at 0x7f390b1287d0>"
      ]
     },
     "execution_count": 83,
     "metadata": {},
     "output_type": "execute_result"
    }
   ],
   "source": [
    "#mosaiced_scene"
   ]
  },
  {
   "cell_type": "code",
   "execution_count": 89,
   "id": "20a76997-4156-4e4b-a948-0b377f6c9219",
   "metadata": {},
   "outputs": [
    {
     "data": {
      "text/html": [
       "\n",
       "            <style>\n",
       "                .geemap-dark {\n",
       "                    --jp-widgets-color: white;\n",
       "                    --jp-widgets-label-color: white;\n",
       "                    --jp-ui-font-color1: white;\n",
       "                    --jp-layout-color2: #454545;\n",
       "                    background-color: #383838;\n",
       "                }\n",
       "                    \n",
       "                .geemap-dark .jupyter-button {\n",
       "                    --jp-layout-color3: #383838;\n",
       "                }\n",
       "                \n",
       "                .geemap-colab {\n",
       "                    background-color: var(--colab-primary-surface-color, white);\n",
       "                }\n",
       "                    \n",
       "                .geemap-colab .jupyter-button {\n",
       "                    --jp-layout-color3: var(--colab-primary-surface-color, white);\n",
       "                }\n",
       "            </style>\n",
       "            "
      ],
      "text/plain": [
       "<IPython.core.display.HTML object>"
      ]
     },
     "metadata": {},
     "output_type": "display_data"
    }
   ],
   "source": [
    "#m = leafmap.Map()\n",
    "#m.add(\"nasa_earth_data\")\n",
    "#m.add_layer(mosaiced_scene,['B4', 'B3', 'B2'])\n",
    "#url = \"https://canada-spot-ortho.s3.amazonaws.com/canada_spot_orthoimages/canada_spot5_orthoimages/S5_2007/S5_11055_6057_20070622/S5_11055_6057_20070622.json\"\n",
    "#leafmap.stac_assets(url)\n",
    "#leafmap.stac_center(url)\n",
    "#leafmap.stac_bounds(url)\n",
    "#m.add_stac_layer(url, bands=[\"B3\", \"B2\", \"B1\"])\n",
    "#m"
   ]
  },
  {
   "cell_type": "code",
   "execution_count": 90,
   "id": "1c757575-ec00-400b-a76a-94e16a697b77",
   "metadata": {},
   "outputs": [
    {
     "data": {
      "text/html": [
       "\n",
       "            <style>\n",
       "                .geemap-dark {\n",
       "                    --jp-widgets-color: white;\n",
       "                    --jp-widgets-label-color: white;\n",
       "                    --jp-ui-font-color1: white;\n",
       "                    --jp-layout-color2: #454545;\n",
       "                    background-color: #383838;\n",
       "                }\n",
       "                    \n",
       "                .geemap-dark .jupyter-button {\n",
       "                    --jp-layout-color3: #383838;\n",
       "                }\n",
       "                \n",
       "                .geemap-colab {\n",
       "                    background-color: var(--colab-primary-surface-color, white);\n",
       "                }\n",
       "                    \n",
       "                .geemap-colab .jupyter-button {\n",
       "                    --jp-layout-color3: var(--colab-primary-surface-color, white);\n",
       "                }\n",
       "            </style>\n",
       "            "
      ],
      "text/plain": [
       "<IPython.core.display.HTML object>"
      ]
     },
     "metadata": {},
     "output_type": "display_data"
    }
   ],
   "source": [
    "#Map.to_html(outfile='./your_map.html', title='My Map', width='100%', height='880px')"
   ]
  },
  {
   "cell_type": "code",
   "execution_count": null,
   "id": "e48f3601-65e8-462a-9619-865e195d540b",
   "metadata": {},
   "outputs": [],
   "source": [
    "# In this section, we can check single coincident dataset on the map by assigning different values from non_zero_indices to test_x. \n",
    "# AP update: I dont need the time check here as it's in my function above!\n",
    "granule_num=1\n",
    "scene_number = coincident_granules_idx[granule_num]\n",
    "S2_ids = [S2_scenes[scene_number].toList(number_of_scenes[scene_number]).getInfo()[i]['id'] for i in range(0, number_of_scenes[scene_number])]  \n",
    "\n",
    "#time_diff = 3600*4 # Target time difference between ATL07 and Sentinel-2 < 3 hours\n",
    "#time_IS2 = datetime.strptime(IS2_file_name[test_x][-33:-19], \"%Y%m%d%H%M%S\")\n",
    "\n",
    "Map = geemap.Map()\n",
    "\n",
    "for i in range(0, number_of_scenes[scene_number]):\n",
    "#for i in range(0, 1):\n",
    "    time_start = S2_scenes[scene_number].toList(number_of_scenes[scene_number]).getInfo()[i]['properties']['system:time_start']\n",
    "    time_s2 = datetime(1970, 1, 1) + timedelta(seconds = time_start/1000)   \n",
    "    \n",
    "    img_name = os.path.basename(S2_ids[i])\n",
    "\n",
    "    # Time difference between IS2 and S2 < defined time_diff\n",
    "    #if abs(time_IS2-time_s2).seconds <= time_diff:\n",
    "\n",
    "    print(f\" {img_name}: Time difference = {np.int(abs(ATL_mid_times[granule_num]-time_s2).seconds/60)} minutes with ICESat-2 track\")\n",
    "    \n",
    "    img = ee.Image(S2_ids[i]).select('B4','B3','B2')\n",
    "    dim = img.getInfo()['bands'][0]['dimensions']\n",
    "    if dim[0] > 10000 and dim[1] > 0:\n",
    "        # # Download image into the local folder\n",
    "        #geemap.download_ee_image(img, f\"S2_{img_name}.tif\", scale=50)\n",
    "        Map.addLayer(img, {'min': 0, 'max': 10000}, img_name)\n",
    "        #print(f\" {img_name}: Time difference = {abs(time_IS2-time_s2).seconds/3600} hours with ICESat-2 track\")\n",
    "        #else:\n",
    "        #    print(f\"SKIP {img_name}: Not a full image\")\n",
    "   #else:\n",
    "   #     print(f\"SKIP {img_name}: Time difference > {time_diff/3600} hours with ICESat-2 track\")\n",
    "   #     Map.addLayer(img, {'min': 0, 'max': 10000}, img_name)\n",
    "   #     print(f\" {img_name}: Time difference = {abs(time_IS2-time_s2).seconds/3600} hours with ICESat-2 track\")\n",
    "\n",
    "Map.centerObject(img, zoom = 5)\n",
    "Map.addLayer(feature_track[scene_number], {}, \"IS2 track\")\n",
    "\n",
    "\n",
    "Map"
   ]
  },
  {
   "cell_type": "code",
   "execution_count": null,
   "id": "8d8159c5-678c-4ec2-909e-7488cf246306",
   "metadata": {},
   "outputs": [],
   "source": [
    "S2[scene_number].toList(number_of_scenes[scene_number]).getInfo()[i]['properties']"
   ]
  },
  {
   "cell_type": "code",
   "execution_count": null,
   "id": "02d36cdd-4cc0-4dc7-865b-e45d0efacc3b",
   "metadata": {},
   "outputs": [],
   "source": []
  }
 ],
 "metadata": {
  "kernelspec": {
   "display_name": "Python 3 (ipykernel)",
   "language": "python",
   "name": "python3"
  },
  "language_info": {
   "codemirror_mode": {
    "name": "ipython",
    "version": 3
   },
   "file_extension": ".py",
   "mimetype": "text/x-python",
   "name": "python",
   "nbconvert_exporter": "python",
   "pygments_lexer": "ipython3",
   "version": "3.11.9"
  }
 },
 "nbformat": 4,
 "nbformat_minor": 5
}
