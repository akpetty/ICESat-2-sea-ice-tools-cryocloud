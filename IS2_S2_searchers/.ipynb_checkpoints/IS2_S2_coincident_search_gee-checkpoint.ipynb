{
 "cells": [
  {
   "cell_type": "markdown",
   "id": "18a3e162-e102-41f5-b578-f7d1e05eeb17",
   "metadata": {},
   "source": [
    "## IS2_S2_cryo2ice_search.ipynb\n",
    "Alek Petty, adapted from an earlier M. Bagnardi script.\n",
    "\n",
    "\n",
    "Deescription:\n",
    "- This notebook searches for semi-coincident ICESat-2 and Sentinel-2 data.\n",
    "- The code finds Sentinel-2 images with ICESat-2 data falling within the image's footprint.\n",
    "- The code was updated to read in ATl07 data from the new cloud storage using earthdata, see relevant tutorials:\n",
    "     https://github.com/nsidc/NSIDC-Data-Tutorials/blob/main/notebooks/ICESat-2_Cloud_Access/ATL06-direct-access_rendered.ipynb\n",
    "     https://github.com/nsidc/NSIDC-Data-Tutorials/blob/main/notebooks/ICESat-2_Cloud_Access/nsidc_daac_uwg_cloud_access_tutorial_rendered.ipynb (No longer hosted!!)\n",
    "- Include new filtering to only look for images where we have cryo2ice (CryoSat-2 coincident) data based on external file. \n",
    " \n",
    "To do:\n",
    "- Should we use CLOUD_COVERAGE_ASSESSMENT or CLOUDY_PIXEL_PERCENTAGE?\n",
    "- Integrate the GEE or other cloud-based S-2 catalog. What data is on those comapred to the sentinelhub?\n",
    "- Check all beams iunstead of just the middle beam.\n",
    "- Add in other imagery/satellite sensors.\n",
    "- \n",
    "\n",
    "Notes:\n",
    "- Another way of doing this is to use the RGT (reference ground track) data from ICESat-2.\n",
    "    This could help if you want to look at future data I guess, but downside is it doesn't say where the data actually is on yhe ground, \n",
    "    just theoretical tracks.\n",
    "- Uses the middle strong beam but could be easily adapted to check across all beams.=\n",
    "- Tested with the adapted 'geo' conda env on cryocloud if you want to convert into a python script.\n",
    "\n",
    "Output:\n",
    "\n",
    "Update history:\n",
    " - Current notebook created in Apr 2024.\n"
   ]
  },
  {
   "cell_type": "code",
   "execution_count": 1,
   "id": "96049f4f-ab3a-49da-b1f0-e2b924dbaa97",
   "metadata": {},
   "outputs": [],
   "source": [
    "# Uncomment these out when running for the first time on cryocloud\n",
    "#%pip install sentinelsat\n",
    "#%pip install earthdata\n",
    "#%pip install astropy"
   ]
  },
  {
   "cell_type": "code",
   "execution_count": 2,
   "id": "98cd6034-b678-4e9c-ab5a-b6fcc7da41b8",
   "metadata": {},
   "outputs": [],
   "source": [
    "# Load modules\n",
    "import datetime as dt\n",
    "import h5py\n",
    "import pandas as pd\n",
    "# Need to do this for geopandas for some reason\n",
    "import os\n",
    "os.environ['USE_PYGEOS'] = '0'\n",
    "import geopandas as gpd\n",
    "import glob\n",
    "from shapely.geometry import Point\n",
    "import matplotlib.pyplot as plt\n",
    "import os\n",
    "\n",
    "import numpy as np\n",
    "from PIL import Image\n",
    "import io\n",
    "import requests\n",
    "import time\n",
    "import earthaccess\n",
    "import xarray as xr\n",
    "from datetime import datetime\n",
    "from datetime import timedelta\n",
    "\n",
    "#from astropy.time import Time\n",
    "#from sentinelsat import SentinelAPI, read_geojson, geojson_to_wkt\n",
    "\n",
    "import ee\n",
    "import geemap\n",
    "#Initialize the Google Earth Engine API, handling authentication if necessary.\n",
    "try:\n",
    "    ee.Initialize()\n",
    "except: \n",
    "    ee.Authenticate()\n",
    "    ee.Initialize()"
   ]
  },
  {
   "cell_type": "code",
   "execution_count": 3,
   "id": "cab80b01-023c-4032-b84e-379765608825",
   "metadata": {},
   "outputs": [
    {
     "data": {
      "text/html": [
       "\n",
       "            <style>\n",
       "                .geemap-dark {\n",
       "                    --jp-widgets-color: white;\n",
       "                    --jp-widgets-label-color: white;\n",
       "                    --jp-ui-font-color1: white;\n",
       "                    --jp-layout-color2: #454545;\n",
       "                    background-color: #383838;\n",
       "                }\n",
       "                    \n",
       "                .geemap-dark .jupyter-button {\n",
       "                    --jp-layout-color3: #383838;\n",
       "                }\n",
       "                \n",
       "                .geemap-colab {\n",
       "                    background-color: var(--colab-primary-surface-color, white);\n",
       "                }\n",
       "                    \n",
       "                .geemap-colab .jupyter-button {\n",
       "                    --jp-layout-color3: var(--colab-primary-surface-color, white);\n",
       "                }\n",
       "            </style>\n",
       "            "
      ],
      "text/plain": [
       "<IPython.core.display.HTML object>"
      ]
     },
     "metadata": {},
     "output_type": "display_data"
    },
    {
     "name": "stdin",
     "output_type": "stream",
     "text": [
      "Enter your Earthdata Login username:  akpetty\n",
      "Enter your Earthdata password:  ········\n"
     ]
    }
   ],
   "source": [
    "# ICESat-2/earthaccess stuff\n",
    "auth = earthaccess.login()\n",
    "\n"
   ]
  },
  {
   "cell_type": "code",
   "execution_count": 47,
   "id": "5bcbb1ed-7a90-455f-ac87-d75e8e6dbf42",
   "metadata": {},
   "outputs": [
    {
     "data": {
      "text/html": [
       "\n",
       "            <style>\n",
       "                .geemap-dark {\n",
       "                    --jp-widgets-color: white;\n",
       "                    --jp-widgets-label-color: white;\n",
       "                    --jp-ui-font-color1: white;\n",
       "                    --jp-layout-color2: #454545;\n",
       "                    background-color: #383838;\n",
       "                }\n",
       "                    \n",
       "                .geemap-dark .jupyter-button {\n",
       "                    --jp-layout-color3: #383838;\n",
       "                }\n",
       "                \n",
       "                .geemap-colab {\n",
       "                    background-color: var(--colab-primary-surface-color, white);\n",
       "                }\n",
       "                    \n",
       "                .geemap-colab .jupyter-button {\n",
       "                    --jp-layout-color3: var(--colab-primary-surface-color, white);\n",
       "                }\n",
       "            </style>\n",
       "            "
      ],
      "text/plain": [
       "<IPython.core.display.HTML object>"
      ]
     },
     "metadata": {},
     "output_type": "display_data"
    }
   ],
   "source": [
    "c2ice_df = pd.read_csv('../Data/Cryo2Ice_info_array.csv')\n",
    "c2ice_df['is2_start_time_dt'] = c2ice_df['start_IS2'].apply(\n",
    "    lambda x: pd.to_datetime(''.join(x.split(',')), format='%Y %m %d %H %M %S')\n",
    ")\n",
    "\n",
    "c2ice_df['is2_end_time_dt'] = c2ice_df['end_IS2'].apply(\n",
    "    lambda x: pd.to_datetime(''.join(x.split(',')), format='%Y %m %d %H %M %S')\n",
    ")\n",
    "\n",
    "c2ice_df['cs2_start_time_dt'] = c2ice_df['start_IS2'].apply(\n",
    "    lambda x: pd.to_datetime(''.join(x.split(',')), format='%Y %m %d %H %M %S')\n",
    ")\n",
    "\n",
    "#reader.vars.avail()\n",
    "c2ice_files = c2ice_df[\"atl07filename\"].tolist()"
   ]
  },
  {
   "cell_type": "code",
   "execution_count": 78,
   "id": "c3ed414a-b26b-48fc-bef3-1b961660c30d",
   "metadata": {},
   "outputs": [
    {
     "data": {
      "text/html": [
       "\n",
       "            <style>\n",
       "                .geemap-dark {\n",
       "                    --jp-widgets-color: white;\n",
       "                    --jp-widgets-label-color: white;\n",
       "                    --jp-ui-font-color1: white;\n",
       "                    --jp-layout-color2: #454545;\n",
       "                    background-color: #383838;\n",
       "                }\n",
       "                    \n",
       "                .geemap-dark .jupyter-button {\n",
       "                    --jp-layout-color3: #383838;\n",
       "                }\n",
       "                \n",
       "                .geemap-colab {\n",
       "                    background-color: var(--colab-primary-surface-color, white);\n",
       "                }\n",
       "                    \n",
       "                .geemap-colab .jupyter-button {\n",
       "                    --jp-layout-color3: var(--colab-primary-surface-color, white);\n",
       "                }\n",
       "            </style>\n",
       "            "
      ],
      "text/plain": [
       "<IPython.core.display.HTML object>"
      ]
     },
     "metadata": {},
     "output_type": "display_data"
    },
    {
     "data": {
      "text/html": [
       "<div>\n",
       "<style scoped>\n",
       "    .dataframe tbody tr th:only-of-type {\n",
       "        vertical-align: middle;\n",
       "    }\n",
       "\n",
       "    .dataframe tbody tr th {\n",
       "        vertical-align: top;\n",
       "    }\n",
       "\n",
       "    .dataframe thead th {\n",
       "        text-align: right;\n",
       "    }\n",
       "</style>\n",
       "<table border=\"1\" class=\"dataframe\">\n",
       "  <thead>\n",
       "    <tr style=\"text-align: right;\">\n",
       "      <th></th>\n",
       "      <th>l2filename</th>\n",
       "      <th>cpomfilename</th>\n",
       "      <th>atl07filename</th>\n",
       "      <th>atl10filename</th>\n",
       "      <th>start _CS2</th>\n",
       "      <th>end_CS2</th>\n",
       "      <th>start_IS2</th>\n",
       "      <th>end_IS2</th>\n",
       "      <th>strong_beam</th>\n",
       "      <th>is2_start_time_dt</th>\n",
       "      <th>is2_end_time_dt</th>\n",
       "      <th>cs2_start_time_dt</th>\n",
       "    </tr>\n",
       "  </thead>\n",
       "  <tbody>\n",
       "    <tr>\n",
       "      <th>0</th>\n",
       "      <td>CS_LTA__SIR1SAR_FR_20201015T043431_20201015T04...</td>\n",
       "      <td>cry_NO_20201015T043025.elev</td>\n",
       "      <td>ATL07-01_20201015012229_03190901_006_01.h5</td>\n",
       "      <td>ATL10-01_20201015012229_03190901_006_01.h5</td>\n",
       "      <td>2020, 10, 15, 04, 38, 36</td>\n",
       "      <td>2020, 10, 15, 04, 43, 08</td>\n",
       "      <td>2020, 10, 15, 01, 46, 15</td>\n",
       "      <td>2020, 10, 15, 01, 50, 33</td>\n",
       "      <td>L</td>\n",
       "      <td>2020-10-15 01:46:15</td>\n",
       "      <td>2020-10-15 01:50:33</td>\n",
       "      <td>2020-10-15 01:46:15</td>\n",
       "    </tr>\n",
       "    <tr>\n",
       "      <th>1</th>\n",
       "      <td>CS_LTA__SIR1SAR_FR_20210402T024440_20210402T02...</td>\n",
       "      <td>cry_NO_20210402T022221.elev</td>\n",
       "      <td>ATL07-01_20210401235002_01251101_006_02.h5</td>\n",
       "      <td>ATL10-01_20210401235002_01251101_006_02.h5</td>\n",
       "      <td>2021, 04, 02, 02, 45, 16</td>\n",
       "      <td>2021, 04, 02, 02, 51, 56</td>\n",
       "      <td>2021, 04, 02, 00, 12, 09</td>\n",
       "      <td>2021, 04, 02, 00, 18, 29</td>\n",
       "      <td>R</td>\n",
       "      <td>2021-04-02 00:12:09</td>\n",
       "      <td>2021-04-02 00:18:29</td>\n",
       "      <td>2021-04-02 00:12:09</td>\n",
       "    </tr>\n",
       "    <tr>\n",
       "      <th>2</th>\n",
       "      <td>CS_LTA__SIR1SAR_FR_20210403T100237_20210403T10...</td>\n",
       "      <td>cry_NO_20210403T092831.elev</td>\n",
       "      <td>ATL07-01_20210403071550_01451101_006_02.h5</td>\n",
       "      <td>ATL10-01_20210403071550_01451101_006_02.h5</td>\n",
       "      <td>2021, 04, 03, 10, 06, 52</td>\n",
       "      <td>2021, 04, 03, 10, 13, 43</td>\n",
       "      <td>2021, 04, 03, 07, 34, 07</td>\n",
       "      <td>2021, 04, 03, 07, 40, 37</td>\n",
       "      <td>R</td>\n",
       "      <td>2021-04-03 07:34:07</td>\n",
       "      <td>2021-04-03 07:40:37</td>\n",
       "      <td>2021-04-03 07:34:07</td>\n",
       "    </tr>\n",
       "    <tr>\n",
       "      <th>3</th>\n",
       "      <td>CS_LTA__SIR1SAR_FR_20210404T173201_20210404T17...</td>\n",
       "      <td>cry_NO_20210404T173116.elev</td>\n",
       "      <td>ATL07-01_20210404144138_01651101_006_02.h5</td>\n",
       "      <td>ATL10-01_20210404144138_01651101_006_02.h5</td>\n",
       "      <td>2021, 04, 04, 17, 33, 50</td>\n",
       "      <td>2021, 04, 04, 17, 40, 01</td>\n",
       "      <td>2021, 04, 04, 15, 01, 10</td>\n",
       "      <td>2021, 04, 04, 15, 07, 02</td>\n",
       "      <td>R</td>\n",
       "      <td>2021-04-04 15:01:10</td>\n",
       "      <td>2021-04-04 15:07:02</td>\n",
       "      <td>2021-04-04 15:01:10</td>\n",
       "    </tr>\n",
       "    <tr>\n",
       "      <th>4</th>\n",
       "      <td>CS_LTA__SIR1SAR_FR_20210407T082346_20210407T08...</td>\n",
       "      <td>cry_NO_20210407T074556.elev</td>\n",
       "      <td>ATL07-01_20210407053313_02051101_006_02.h5</td>\n",
       "      <td>ATL10-01_20210407053313_02051101_006_02.h5</td>\n",
       "      <td>2021, 04, 07, 08, 24, 22</td>\n",
       "      <td>2021, 04, 07, 08, 31, 48</td>\n",
       "      <td>2021, 04, 07, 05, 52, 01</td>\n",
       "      <td>2021, 04, 07, 05, 59, 05</td>\n",
       "      <td>R</td>\n",
       "      <td>2021-04-07 05:52:01</td>\n",
       "      <td>2021-04-07 05:59:05</td>\n",
       "      <td>2021-04-07 05:52:01</td>\n",
       "    </tr>\n",
       "    <tr>\n",
       "      <th>...</th>\n",
       "      <td>...</td>\n",
       "      <td>...</td>\n",
       "      <td>...</td>\n",
       "      <td>...</td>\n",
       "      <td>...</td>\n",
       "      <td>...</td>\n",
       "      <td>...</td>\n",
       "      <td>...</td>\n",
       "      <td>...</td>\n",
       "      <td>...</td>\n",
       "      <td>...</td>\n",
       "      <td>...</td>\n",
       "    </tr>\n",
       "    <tr>\n",
       "      <th>74</th>\n",
       "      <td>CS_OFFL_SIR1SAR_FR_20220329T124106_20220329T12...</td>\n",
       "      <td>cry_NO_20220329T122947.elev</td>\n",
       "      <td>ATL07-01_20220329102930_00971501_006_01.h5</td>\n",
       "      <td>ATL10-01_20220329102930_00971501_006_01.h5</td>\n",
       "      <td>2022, 03, 29, 12, 41, 48</td>\n",
       "      <td>2022, 03, 29, 12, 46, 23</td>\n",
       "      <td>2022, 03, 29, 10, 49, 35</td>\n",
       "      <td>2022, 03, 29, 10, 53, 57</td>\n",
       "      <td>L</td>\n",
       "      <td>2022-03-29 10:49:35</td>\n",
       "      <td>2022-03-29 10:53:57</td>\n",
       "      <td>2022-03-29 10:49:35</td>\n",
       "    </tr>\n",
       "    <tr>\n",
       "      <th>75</th>\n",
       "      <td>CS_OFFL_SIR1SAR_FR_20220329T124106_20220329T12...</td>\n",
       "      <td>cry_NO_20220329T122947.elev</td>\n",
       "      <td>ATL07-01_20220329102930_00971501_006_01.h5</td>\n",
       "      <td>ATL10-01_20220329102930_00971501_006_01.h5</td>\n",
       "      <td>2022, 03, 29, 12, 46, 22</td>\n",
       "      <td>2022, 03, 29, 12, 50, 06</td>\n",
       "      <td>2022, 03, 29, 10, 53, 56</td>\n",
       "      <td>2022, 03, 29, 10, 57, 30</td>\n",
       "      <td>L</td>\n",
       "      <td>2022-03-29 10:53:56</td>\n",
       "      <td>2022-03-29 10:57:30</td>\n",
       "      <td>2022-03-29 10:53:56</td>\n",
       "    </tr>\n",
       "    <tr>\n",
       "      <th>76</th>\n",
       "      <td>CS_OFFL_SIR1SAR_FR_20220401T033307_20220401T03...</td>\n",
       "      <td>cry_NO_20220401T031947.elev</td>\n",
       "      <td>ATL07-01_20220401012104_01371501_006_02.h5</td>\n",
       "      <td>ATL10-01_20220401012104_01371501_006_02.h5</td>\n",
       "      <td>2022, 04, 01, 03, 34, 01</td>\n",
       "      <td>2022, 04, 01, 03, 41, 31</td>\n",
       "      <td>2022, 04, 01, 01, 42, 02</td>\n",
       "      <td>2022, 04, 01, 01, 49, 10</td>\n",
       "      <td>L</td>\n",
       "      <td>2022-04-01 01:42:02</td>\n",
       "      <td>2022-04-01 01:49:10</td>\n",
       "      <td>2022-04-01 01:42:02</td>\n",
       "    </tr>\n",
       "    <tr>\n",
       "      <th>77</th>\n",
       "      <td>CS_OFFL_SIR1SAR_FR_20220402T105853_20220402T11...</td>\n",
       "      <td>cry_NO_20220402T101800.elev</td>\n",
       "      <td>ATL07-01_20220402084652_01571501_006_02.h5</td>\n",
       "      <td>ATL10-01_20220402084652_01571501_006_02.h5</td>\n",
       "      <td>2022, 04, 02, 10, 59, 29</td>\n",
       "      <td>2022, 04, 02, 11, 04, 47</td>\n",
       "      <td>2022, 04, 02, 09, 07, 39</td>\n",
       "      <td>2022, 04, 02, 09, 12, 43</td>\n",
       "      <td>L</td>\n",
       "      <td>2022-04-02 09:07:39</td>\n",
       "      <td>2022-04-02 09:12:43</td>\n",
       "      <td>2022-04-02 09:07:39</td>\n",
       "    </tr>\n",
       "    <tr>\n",
       "      <th>78</th>\n",
       "      <td>CS_OFFL_SIR1SAR_FR_20220403T182310_20220403T18...</td>\n",
       "      <td>cry_NO_20220403T175012.elev</td>\n",
       "      <td>ATL07-01_20220403161239_01771501_006_02.h5</td>\n",
       "      <td>ATL10-01_20220403161239_01771501_006_02.h5</td>\n",
       "      <td>2022, 04, 03, 18, 25, 24</td>\n",
       "      <td>2022, 04, 03, 18, 28, 34</td>\n",
       "      <td>2022, 04, 03, 16, 33, 44</td>\n",
       "      <td>2022, 04, 03, 16, 36, 44</td>\n",
       "      <td>L</td>\n",
       "      <td>2022-04-03 16:33:44</td>\n",
       "      <td>2022-04-03 16:36:44</td>\n",
       "      <td>2022-04-03 16:33:44</td>\n",
       "    </tr>\n",
       "  </tbody>\n",
       "</table>\n",
       "<p>79 rows × 12 columns</p>\n",
       "</div>"
      ],
      "text/plain": [
       "                                           l2filename  \\\n",
       "0   CS_LTA__SIR1SAR_FR_20201015T043431_20201015T04...   \n",
       "1   CS_LTA__SIR1SAR_FR_20210402T024440_20210402T02...   \n",
       "2   CS_LTA__SIR1SAR_FR_20210403T100237_20210403T10...   \n",
       "3   CS_LTA__SIR1SAR_FR_20210404T173201_20210404T17...   \n",
       "4   CS_LTA__SIR1SAR_FR_20210407T082346_20210407T08...   \n",
       "..                                                ...   \n",
       "74  CS_OFFL_SIR1SAR_FR_20220329T124106_20220329T12...   \n",
       "75  CS_OFFL_SIR1SAR_FR_20220329T124106_20220329T12...   \n",
       "76  CS_OFFL_SIR1SAR_FR_20220401T033307_20220401T03...   \n",
       "77  CS_OFFL_SIR1SAR_FR_20220402T105853_20220402T11...   \n",
       "78  CS_OFFL_SIR1SAR_FR_20220403T182310_20220403T18...   \n",
       "\n",
       "                   cpomfilename                               atl07filename  \\\n",
       "0   cry_NO_20201015T043025.elev  ATL07-01_20201015012229_03190901_006_01.h5   \n",
       "1   cry_NO_20210402T022221.elev  ATL07-01_20210401235002_01251101_006_02.h5   \n",
       "2   cry_NO_20210403T092831.elev  ATL07-01_20210403071550_01451101_006_02.h5   \n",
       "3   cry_NO_20210404T173116.elev  ATL07-01_20210404144138_01651101_006_02.h5   \n",
       "4   cry_NO_20210407T074556.elev  ATL07-01_20210407053313_02051101_006_02.h5   \n",
       "..                          ...                                         ...   \n",
       "74  cry_NO_20220329T122947.elev  ATL07-01_20220329102930_00971501_006_01.h5   \n",
       "75  cry_NO_20220329T122947.elev  ATL07-01_20220329102930_00971501_006_01.h5   \n",
       "76  cry_NO_20220401T031947.elev  ATL07-01_20220401012104_01371501_006_02.h5   \n",
       "77  cry_NO_20220402T101800.elev  ATL07-01_20220402084652_01571501_006_02.h5   \n",
       "78  cry_NO_20220403T175012.elev  ATL07-01_20220403161239_01771501_006_02.h5   \n",
       "\n",
       "                                 atl10filename                start _CS2  \\\n",
       "0   ATL10-01_20201015012229_03190901_006_01.h5  2020, 10, 15, 04, 38, 36   \n",
       "1   ATL10-01_20210401235002_01251101_006_02.h5  2021, 04, 02, 02, 45, 16   \n",
       "2   ATL10-01_20210403071550_01451101_006_02.h5  2021, 04, 03, 10, 06, 52   \n",
       "3   ATL10-01_20210404144138_01651101_006_02.h5  2021, 04, 04, 17, 33, 50   \n",
       "4   ATL10-01_20210407053313_02051101_006_02.h5  2021, 04, 07, 08, 24, 22   \n",
       "..                                         ...                       ...   \n",
       "74  ATL10-01_20220329102930_00971501_006_01.h5  2022, 03, 29, 12, 41, 48   \n",
       "75  ATL10-01_20220329102930_00971501_006_01.h5  2022, 03, 29, 12, 46, 22   \n",
       "76  ATL10-01_20220401012104_01371501_006_02.h5  2022, 04, 01, 03, 34, 01   \n",
       "77  ATL10-01_20220402084652_01571501_006_02.h5  2022, 04, 02, 10, 59, 29   \n",
       "78  ATL10-01_20220403161239_01771501_006_02.h5  2022, 04, 03, 18, 25, 24   \n",
       "\n",
       "                     end_CS2                 start_IS2  \\\n",
       "0   2020, 10, 15, 04, 43, 08  2020, 10, 15, 01, 46, 15   \n",
       "1   2021, 04, 02, 02, 51, 56  2021, 04, 02, 00, 12, 09   \n",
       "2   2021, 04, 03, 10, 13, 43  2021, 04, 03, 07, 34, 07   \n",
       "3   2021, 04, 04, 17, 40, 01  2021, 04, 04, 15, 01, 10   \n",
       "4   2021, 04, 07, 08, 31, 48  2021, 04, 07, 05, 52, 01   \n",
       "..                       ...                       ...   \n",
       "74  2022, 03, 29, 12, 46, 23  2022, 03, 29, 10, 49, 35   \n",
       "75  2022, 03, 29, 12, 50, 06  2022, 03, 29, 10, 53, 56   \n",
       "76  2022, 04, 01, 03, 41, 31  2022, 04, 01, 01, 42, 02   \n",
       "77  2022, 04, 02, 11, 04, 47  2022, 04, 02, 09, 07, 39   \n",
       "78  2022, 04, 03, 18, 28, 34  2022, 04, 03, 16, 33, 44   \n",
       "\n",
       "                     end_IS2 strong_beam   is2_start_time_dt  \\\n",
       "0   2020, 10, 15, 01, 50, 33           L 2020-10-15 01:46:15   \n",
       "1   2021, 04, 02, 00, 18, 29           R 2021-04-02 00:12:09   \n",
       "2   2021, 04, 03, 07, 40, 37           R 2021-04-03 07:34:07   \n",
       "3   2021, 04, 04, 15, 07, 02           R 2021-04-04 15:01:10   \n",
       "4   2021, 04, 07, 05, 59, 05           R 2021-04-07 05:52:01   \n",
       "..                       ...         ...                 ...   \n",
       "74  2022, 03, 29, 10, 53, 57           L 2022-03-29 10:49:35   \n",
       "75  2022, 03, 29, 10, 57, 30           L 2022-03-29 10:53:56   \n",
       "76  2022, 04, 01, 01, 49, 10           L 2022-04-01 01:42:02   \n",
       "77  2022, 04, 02, 09, 12, 43           L 2022-04-02 09:07:39   \n",
       "78  2022, 04, 03, 16, 36, 44           L 2022-04-03 16:33:44   \n",
       "\n",
       "       is2_end_time_dt   cs2_start_time_dt  \n",
       "0  2020-10-15 01:50:33 2020-10-15 01:46:15  \n",
       "1  2021-04-02 00:18:29 2021-04-02 00:12:09  \n",
       "2  2021-04-03 07:40:37 2021-04-03 07:34:07  \n",
       "3  2021-04-04 15:07:02 2021-04-04 15:01:10  \n",
       "4  2021-04-07 05:59:05 2021-04-07 05:52:01  \n",
       "..                 ...                 ...  \n",
       "74 2022-03-29 10:53:57 2022-03-29 10:49:35  \n",
       "75 2022-03-29 10:57:30 2022-03-29 10:53:56  \n",
       "76 2022-04-01 01:49:10 2022-04-01 01:42:02  \n",
       "77 2022-04-02 09:12:43 2022-04-02 09:07:39  \n",
       "78 2022-04-03 16:36:44 2022-04-03 16:33:44  \n",
       "\n",
       "[79 rows x 12 columns]"
      ]
     },
     "execution_count": 78,
     "metadata": {},
     "output_type": "execute_result"
    }
   ],
   "source": [
    "#c2ice_df.where(c2ice_df.atl07filename==c2ice_file)\n",
    "c2ice_df\n"
   ]
  },
  {
   "cell_type": "code",
   "execution_count": 90,
   "id": "3d48ef75-7bb7-480b-990d-faa866fe2c65",
   "metadata": {},
   "outputs": [
    {
     "data": {
      "text/html": [
       "\n",
       "            <style>\n",
       "                .geemap-dark {\n",
       "                    --jp-widgets-color: white;\n",
       "                    --jp-widgets-label-color: white;\n",
       "                    --jp-ui-font-color1: white;\n",
       "                    --jp-layout-color2: #454545;\n",
       "                    background-color: #383838;\n",
       "                }\n",
       "                    \n",
       "                .geemap-dark .jupyter-button {\n",
       "                    --jp-layout-color3: #383838;\n",
       "                }\n",
       "                \n",
       "                .geemap-colab {\n",
       "                    background-color: var(--colab-primary-surface-color, white);\n",
       "                }\n",
       "                    \n",
       "                .geemap-colab .jupyter-button {\n",
       "                    --jp-layout-color3: var(--colab-primary-surface-color, white);\n",
       "                }\n",
       "            </style>\n",
       "            "
      ],
      "text/plain": [
       "<IPython.core.display.HTML object>"
      ]
     },
     "metadata": {},
     "output_type": "display_data"
    },
    {
     "name": "stdout",
     "output_type": "stream",
     "text": [
      "Granules found: 1\n",
      "[Collection: {'EntryTitle': 'ATLAS/ICESat-2 L3A Sea Ice Height V006'}\n",
      "Spatial coverage: {'HorizontalSpatialDomain': {'Orbit': {'AscendingCrossing': 48.92460331907133, 'StartLatitude': 27.0, 'StartDirection': 'A', 'EndLatitude': 27.0, 'EndDirection': 'D'}}}\n",
      "Temporal coverage: {'RangeDateTime': {'BeginningDateTime': '2020-10-15T01:44:07.383Z', 'EndingDateTime': '2020-10-15T01:50:33.617Z'}}\n",
      "Size(MB): 181.3192491531372\n",
      "Data: ['https://data.nsidc.earthdatacloud.nasa.gov/nsidc-cumulus-prod-protected/ATLAS/ATL07/006/2020/10/15/ATL07-01_20201015012229_03190901_006_01.h5']]\n",
      "Opening 1 granules, approx size: 0.18 GB\n",
      "using provider: NSIDC_CPRD\n"
     ]
    },
    {
     "data": {
      "application/vnd.jupyter.widget-view+json": {
       "model_id": "0c20d44a6c1f4038ac327f56d13f56ef",
       "version_major": 2,
       "version_minor": 0
      },
      "text/plain": [
       "QUEUEING TASKS | :   0%|          | 0/1 [00:00<?, ?it/s]"
      ]
     },
     "metadata": {},
     "output_type": "display_data"
    },
    {
     "data": {
      "application/vnd.jupyter.widget-view+json": {
       "model_id": "525c274443be49f5af6d480b2473b561",
       "version_major": 2,
       "version_minor": 0
      },
      "text/plain": [
       "PROCESSING TASKS | :   0%|          | 0/1 [00:00<?, ?it/s]"
      ]
     },
     "metadata": {},
     "output_type": "display_data"
    },
    {
     "data": {
      "application/vnd.jupyter.widget-view+json": {
       "model_id": "6e765248f51e4390a14024eebc69dac0",
       "version_major": 2,
       "version_minor": 0
      },
      "text/plain": [
       "COLLECTING RESULTS | :   0%|          | 0/1 [00:00<?, ?it/s]"
      ]
     },
     "metadata": {},
     "output_type": "display_data"
    },
    {
     "name": "stdout",
     "output_type": "stream",
     "text": [
      "\n",
      "Coincident S2 images: 0\n",
      "\n",
      "\n",
      "\n",
      "Granules found: 1\n",
      "[Collection: {'EntryTitle': 'ATLAS/ICESat-2 L3A Sea Ice Height V006'}\n",
      "Spatial coverage: {'HorizontalSpatialDomain': {'Orbit': {'AscendingCrossing': -48.924131734392304, 'StartLatitude': 27.0, 'StartDirection': 'A', 'EndLatitude': 27.0, 'EndDirection': 'D'}}}\n",
      "Temporal coverage: {'RangeDateTime': {'BeginningDateTime': '2021-04-02T00:03:38.476Z', 'EndingDateTime': '2021-04-02T00:18:35.195Z'}}\n",
      "Size(MB): 376.94387912750244\n",
      "Data: ['https://data.nsidc.earthdatacloud.nasa.gov/nsidc-cumulus-prod-protected/ATLAS/ATL07/006/2021/04/02/ATL07-01_20210401235002_01251101_006_02.h5']]\n",
      "Opening 1 granules, approx size: 0.37 GB\n",
      "using provider: NSIDC_CPRD\n"
     ]
    },
    {
     "data": {
      "application/vnd.jupyter.widget-view+json": {
       "model_id": "35304eb2d6204869bd9feecb46f8c01f",
       "version_major": 2,
       "version_minor": 0
      },
      "text/plain": [
       "QUEUEING TASKS | :   0%|          | 0/1 [00:00<?, ?it/s]"
      ]
     },
     "metadata": {},
     "output_type": "display_data"
    },
    {
     "data": {
      "application/vnd.jupyter.widget-view+json": {
       "model_id": "d9b227c4e0f14270824ca31330ef1781",
       "version_major": 2,
       "version_minor": 0
      },
      "text/plain": [
       "PROCESSING TASKS | :   0%|          | 0/1 [00:00<?, ?it/s]"
      ]
     },
     "metadata": {},
     "output_type": "display_data"
    },
    {
     "data": {
      "application/vnd.jupyter.widget-view+json": {
       "model_id": "e5f1e653466046d981617f82f42e5da5",
       "version_major": 2,
       "version_minor": 0
      },
      "text/plain": [
       "COLLECTING RESULTS | :   0%|          | 0/1 [00:00<?, ?it/s]"
      ]
     },
     "metadata": {},
     "output_type": "display_data"
    },
    {
     "name": "stdout",
     "output_type": "stream",
     "text": [
      "\n",
      "Coincident S2 images: 0\n",
      "\n",
      "\n",
      "\n",
      "Granules found: 1\n",
      "[Collection: {'EntryTitle': 'ATLAS/ICESat-2 L3A Sea Ice Height V006'}\n",
      "Spatial coverage: {'HorizontalSpatialDomain': {'Orbit': {'AscendingCrossing': -161.30977839399438, 'StartLatitude': 27.0, 'StartDirection': 'A', 'EndLatitude': 27.0, 'EndDirection': 'D'}}}\n",
      "Temporal coverage: {'RangeDateTime': {'BeginningDateTime': '2021-04-03T07:32:15.049Z', 'EndingDateTime': '2021-04-03T07:48:45.628Z'}}\n",
      "Size(MB): 414.7863245010376\n",
      "Data: ['https://data.nsidc.earthdatacloud.nasa.gov/nsidc-cumulus-prod-protected/ATLAS/ATL07/006/2021/04/03/ATL07-01_20210403071550_01451101_006_02.h5']]\n",
      "Opening 1 granules, approx size: 0.41 GB\n",
      "using provider: NSIDC_CPRD\n"
     ]
    },
    {
     "data": {
      "application/vnd.jupyter.widget-view+json": {
       "model_id": "9c008d0c4162421ea9f72aeeb1dd1055",
       "version_major": 2,
       "version_minor": 0
      },
      "text/plain": [
       "QUEUEING TASKS | :   0%|          | 0/1 [00:00<?, ?it/s]"
      ]
     },
     "metadata": {},
     "output_type": "display_data"
    },
    {
     "data": {
      "application/vnd.jupyter.widget-view+json": {
       "model_id": "62dd636b654a41f691e4c6f2e7c18824",
       "version_major": 2,
       "version_minor": 0
      },
      "text/plain": [
       "PROCESSING TASKS | :   0%|          | 0/1 [00:00<?, ?it/s]"
      ]
     },
     "metadata": {},
     "output_type": "display_data"
    },
    {
     "data": {
      "application/vnd.jupyter.widget-view+json": {
       "model_id": "6c8ce6ceb62a402e905162bd19fe22a4",
       "version_major": 2,
       "version_minor": 0
      },
      "text/plain": [
       "COLLECTING RESULTS | :   0%|          | 0/1 [00:00<?, ?it/s]"
      ]
     },
     "metadata": {},
     "output_type": "display_data"
    },
    {
     "name": "stdout",
     "output_type": "stream",
     "text": [
      "\n",
      "Coincident S2 images: 0\n",
      "\n",
      "\n",
      "\n",
      "Granules found: 1\n",
      "[Collection: {'EntryTitle': 'ATLAS/ICESat-2 L3A Sea Ice Height V006'}\n",
      "Spatial coverage: {'HorizontalSpatialDomain': {'Orbit': {'AscendingCrossing': 86.30154409738257, 'StartLatitude': 27.0, 'StartDirection': 'A', 'EndLatitude': 27.0, 'EndDirection': 'D'}}}\n",
      "Temporal coverage: {'RangeDateTime': {'BeginningDateTime': '2021-04-04T14:59:34.707Z', 'EndingDateTime': '2021-04-04T15:11:05.288Z'}}\n",
      "Size(MB): 317.7967824935913\n",
      "Data: ['https://data.nsidc.earthdatacloud.nasa.gov/nsidc-cumulus-prod-protected/ATLAS/ATL07/006/2021/04/04/ATL07-01_20210404144138_01651101_006_02.h5']]\n",
      "Opening 1 granules, approx size: 0.31 GB\n",
      "using provider: NSIDC_CPRD\n"
     ]
    },
    {
     "data": {
      "application/vnd.jupyter.widget-view+json": {
       "model_id": "164a2645c3fe4bb3a8e5dc7bbed5870e",
       "version_major": 2,
       "version_minor": 0
      },
      "text/plain": [
       "QUEUEING TASKS | :   0%|          | 0/1 [00:00<?, ?it/s]"
      ]
     },
     "metadata": {},
     "output_type": "display_data"
    },
    {
     "data": {
      "application/vnd.jupyter.widget-view+json": {
       "model_id": "445b3e562259401284fa7d2ce4a748c7",
       "version_major": 2,
       "version_minor": 0
      },
      "text/plain": [
       "PROCESSING TASKS | :   0%|          | 0/1 [00:00<?, ?it/s]"
      ]
     },
     "metadata": {},
     "output_type": "display_data"
    },
    {
     "data": {
      "application/vnd.jupyter.widget-view+json": {
       "model_id": "1bc9f2eb0c1940c7a68dd2ab40527755",
       "version_major": 2,
       "version_minor": 0
      },
      "text/plain": [
       "COLLECTING RESULTS | :   0%|          | 0/1 [00:00<?, ?it/s]"
      ]
     },
     "metadata": {},
     "output_type": "display_data"
    },
    {
     "name": "stdout",
     "output_type": "stream",
     "text": [
      "\n",
      "Coincident S2 images: 0\n",
      "\n",
      "\n",
      "\n",
      "Granules found: 1\n",
      "[Collection: {'EntryTitle': 'ATLAS/ICESat-2 L3A Sea Ice Height V006'}\n",
      "Spatial coverage: {'HorizontalSpatialDomain': {'Orbit': {'AscendingCrossing': -138.46883388242108, 'StartLatitude': 27.0, 'StartDirection': 'A', 'EndLatitude': 27.0, 'EndDirection': 'D'}}}\n",
      "Temporal coverage: {'RangeDateTime': {'BeginningDateTime': '2021-04-07T05:51:36.710Z', 'EndingDateTime': '2021-04-07T06:03:37.473Z'}}\n",
      "Size(MB): 409.0898551940918\n",
      "Data: ['https://data.nsidc.earthdatacloud.nasa.gov/nsidc-cumulus-prod-protected/ATLAS/ATL07/006/2021/04/07/ATL07-01_20210407053313_02051101_006_02.h5']]\n",
      "Opening 1 granules, approx size: 0.4 GB\n",
      "using provider: NSIDC_CPRD\n"
     ]
    },
    {
     "data": {
      "application/vnd.jupyter.widget-view+json": {
       "model_id": "c5be448bd9634a80b1d793e3321b1603",
       "version_major": 2,
       "version_minor": 0
      },
      "text/plain": [
       "QUEUEING TASKS | :   0%|          | 0/1 [00:00<?, ?it/s]"
      ]
     },
     "metadata": {},
     "output_type": "display_data"
    },
    {
     "data": {
      "application/vnd.jupyter.widget-view+json": {
       "model_id": "f1d9e1927d924f8f8e2a8c7126cb71a0",
       "version_major": 2,
       "version_minor": 0
      },
      "text/plain": [
       "PROCESSING TASKS | :   0%|          | 0/1 [00:00<?, ?it/s]"
      ]
     },
     "metadata": {},
     "output_type": "display_data"
    },
    {
     "data": {
      "application/vnd.jupyter.widget-view+json": {
       "model_id": "7654361997054782831658bdb611d99b",
       "version_major": 2,
       "version_minor": 0
      },
      "text/plain": [
       "COLLECTING RESULTS | :   0%|          | 0/1 [00:00<?, ?it/s]"
      ]
     },
     "metadata": {},
     "output_type": "display_data"
    },
    {
     "name": "stdout",
     "output_type": "stream",
     "text": [
      "\n",
      "Coincident S2 images: 0\n",
      "\n",
      "\n",
      "\n",
      "Granules found: 1\n",
      "[Collection: {'EntryTitle': 'ATLAS/ICESat-2 L3A Sea Ice Height V006'}\n",
      "Spatial coverage: {'HorizontalSpatialDomain': {'Orbit': {'AscendingCrossing': -115.62771245955814, 'StartLatitude': 27.0, 'StartDirection': 'A', 'EndLatitude': 27.0, 'EndDirection': 'D'}}}\n",
      "Temporal coverage: {'RangeDateTime': {'BeginningDateTime': '2021-04-11T04:08:43.235Z', 'EndingDateTime': '2021-04-11T04:19:31.270Z'}}\n",
      "Size(MB): 341.6005401611328\n",
      "Data: ['https://data.nsidc.earthdatacloud.nasa.gov/nsidc-cumulus-prod-protected/ATLAS/ATL07/006/2021/04/11/ATL07-01_20210411035036_02651101_006_02.h5']]\n",
      "Opening 1 granules, approx size: 0.33 GB\n",
      "using provider: NSIDC_CPRD\n"
     ]
    },
    {
     "data": {
      "application/vnd.jupyter.widget-view+json": {
       "model_id": "8cb8286c12cc4845aa9814035cd1fe48",
       "version_major": 2,
       "version_minor": 0
      },
      "text/plain": [
       "QUEUEING TASKS | :   0%|          | 0/1 [00:00<?, ?it/s]"
      ]
     },
     "metadata": {},
     "output_type": "display_data"
    },
    {
     "data": {
      "application/vnd.jupyter.widget-view+json": {
       "model_id": "e2bc6bea5ccc4831a1620a78a774210b",
       "version_major": 2,
       "version_minor": 0
      },
      "text/plain": [
       "PROCESSING TASKS | :   0%|          | 0/1 [00:00<?, ?it/s]"
      ]
     },
     "metadata": {},
     "output_type": "display_data"
    },
    {
     "data": {
      "application/vnd.jupyter.widget-view+json": {
       "model_id": "c47ce2042d2e4b42b65de33822fb9682",
       "version_major": 2,
       "version_minor": 0
      },
      "text/plain": [
       "COLLECTING RESULTS | :   0%|          | 0/1 [00:00<?, ?it/s]"
      ]
     },
     "metadata": {},
     "output_type": "display_data"
    },
    {
     "name": "stdout",
     "output_type": "stream",
     "text": [
      "\n",
      "Coincident S2 images: 0\n",
      "\n",
      "\n",
      "\n",
      "Granules found: 1\n",
      "[Collection: {'EntryTitle': 'ATLAS/ICESat-2 L3A Sea Ice Height V006'}\n",
      "Spatial coverage: {'HorizontalSpatialDomain': {'Orbit': {'AscendingCrossing': 19.595736631944945, 'StartLatitude': 27.0, 'StartDirection': 'A', 'EndLatitude': 27.0, 'EndDirection': 'D'}}}\n",
      "Temporal coverage: {'RangeDateTime': {'BeginningDateTime': '2021-04-13T18:59:01.983Z', 'EndingDateTime': '2021-04-13T19:13:39.125Z'}}\n",
      "Size(MB): 296.91551208496094\n",
      "Data: ['https://data.nsidc.earthdatacloud.nasa.gov/nsidc-cumulus-prod-protected/ATLAS/ATL07/006/2021/04/13/ATL07-01_20210413184211_03051101_006_02.h5']]\n",
      "Opening 1 granules, approx size: 0.29 GB\n",
      "using provider: NSIDC_CPRD\n"
     ]
    },
    {
     "data": {
      "application/vnd.jupyter.widget-view+json": {
       "model_id": "233590622ac74169af423939eb3951b4",
       "version_major": 2,
       "version_minor": 0
      },
      "text/plain": [
       "QUEUEING TASKS | :   0%|          | 0/1 [00:00<?, ?it/s]"
      ]
     },
     "metadata": {},
     "output_type": "display_data"
    },
    {
     "data": {
      "application/vnd.jupyter.widget-view+json": {
       "model_id": "a8f561dced3040669cc010749f265cef",
       "version_major": 2,
       "version_minor": 0
      },
      "text/plain": [
       "PROCESSING TASKS | :   0%|          | 0/1 [00:00<?, ?it/s]"
      ]
     },
     "metadata": {},
     "output_type": "display_data"
    },
    {
     "data": {
      "application/vnd.jupyter.widget-view+json": {
       "model_id": "fcbd3015e1de44fa87d59396aab60ffc",
       "version_major": 2,
       "version_minor": 0
      },
      "text/plain": [
       "COLLECTING RESULTS | :   0%|          | 0/1 [00:00<?, ?it/s]"
      ]
     },
     "metadata": {},
     "output_type": "display_data"
    },
    {
     "name": "stdout",
     "output_type": "stream",
     "text": [
      "\n",
      "Coincident S2 images: 0\n",
      "\n",
      "\n",
      "\n",
      "Granules found: 1\n",
      "[Collection: {'EntryTitle': 'ATLAS/ICESat-2 L3A Sea Ice Height V006'}\n",
      "Spatial coverage: {'HorizontalSpatialDomain': {'Orbit': {'AscendingCrossing': -92.78724560799363, 'StartLatitude': 27.0, 'StartDirection': 'A', 'EndLatitude': 27.0, 'EndDirection': 'D'}}}\n",
      "Temporal coverage: {'RangeDateTime': {'BeginningDateTime': '2021-04-15T02:25:39.956Z', 'EndingDateTime': '2021-04-15T02:35:41.076Z'}}\n",
      "Size(MB): 373.47822761535645\n",
      "Data: ['https://data.nsidc.earthdatacloud.nasa.gov/nsidc-cumulus-prod-protected/ATLAS/ATL07/006/2021/04/15/ATL07-01_20210415020759_03251101_006_02.h5']]\n",
      "Opening 1 granules, approx size: 0.36 GB\n",
      "using provider: NSIDC_CPRD\n"
     ]
    },
    {
     "data": {
      "application/vnd.jupyter.widget-view+json": {
       "model_id": "24b92cbf2f084f0b91286cca5347743b",
       "version_major": 2,
       "version_minor": 0
      },
      "text/plain": [
       "QUEUEING TASKS | :   0%|          | 0/1 [00:00<?, ?it/s]"
      ]
     },
     "metadata": {},
     "output_type": "display_data"
    },
    {
     "data": {
      "application/vnd.jupyter.widget-view+json": {
       "model_id": "36b5ffb652374af58fd5686256a7dd3c",
       "version_major": 2,
       "version_minor": 0
      },
      "text/plain": [
       "PROCESSING TASKS | :   0%|          | 0/1 [00:00<?, ?it/s]"
      ]
     },
     "metadata": {},
     "output_type": "display_data"
    },
    {
     "data": {
      "application/vnd.jupyter.widget-view+json": {
       "model_id": "3284abec8c824e52a029e126f467aff5",
       "version_major": 2,
       "version_minor": 0
      },
      "text/plain": [
       "COLLECTING RESULTS | :   0%|          | 0/1 [00:00<?, ?it/s]"
      ]
     },
     "metadata": {},
     "output_type": "display_data"
    },
    {
     "name": "stdout",
     "output_type": "stream",
     "text": [
      "\n",
      "Coincident S2 images: 0\n",
      "\n",
      "\n",
      "\n",
      "Granules found: 1\n",
      "[Collection: {'EntryTitle': 'ATLAS/ICESat-2 L3A Sea Ice Height V006'}\n",
      "Spatial coverage: {'HorizontalSpatialDomain': {'Orbit': {'AscendingCrossing': 154.82492878002088, 'StartLatitude': 27.0, 'StartDirection': 'A', 'EndLatitude': 27.0, 'EndDirection': 'D'}}}\n",
      "Temporal coverage: {'RangeDateTime': {'BeginningDateTime': '2021-04-16T09:48:47.470Z', 'EndingDateTime': '2021-04-16T10:03:21.037Z'}}\n",
      "Size(MB): 326.0534677505493\n",
      "Data: ['https://data.nsidc.earthdatacloud.nasa.gov/nsidc-cumulus-prod-protected/ATLAS/ATL07/006/2021/04/16/ATL07-01_20210416093346_03451101_006_02.h5']]\n",
      "Opening 1 granules, approx size: 0.32 GB\n",
      "using provider: NSIDC_CPRD\n"
     ]
    },
    {
     "data": {
      "application/vnd.jupyter.widget-view+json": {
       "model_id": "5d407af80fb5475ab7c01eb8459917a1",
       "version_major": 2,
       "version_minor": 0
      },
      "text/plain": [
       "QUEUEING TASKS | :   0%|          | 0/1 [00:00<?, ?it/s]"
      ]
     },
     "metadata": {},
     "output_type": "display_data"
    },
    {
     "data": {
      "application/vnd.jupyter.widget-view+json": {
       "model_id": "d65bead87a304adc83daf8b690308095",
       "version_major": 2,
       "version_minor": 0
      },
      "text/plain": [
       "PROCESSING TASKS | :   0%|          | 0/1 [00:00<?, ?it/s]"
      ]
     },
     "metadata": {},
     "output_type": "display_data"
    },
    {
     "data": {
      "application/vnd.jupyter.widget-view+json": {
       "model_id": "b642bf713de643ffad210cca07bc1063",
       "version_major": 2,
       "version_minor": 0
      },
      "text/plain": [
       "COLLECTING RESULTS | :   0%|          | 0/1 [00:00<?, ?it/s]"
      ]
     },
     "metadata": {},
     "output_type": "display_data"
    },
    {
     "name": "stdout",
     "output_type": "stream",
     "text": [
      "\n",
      "Coincident S2 images: 0\n",
      "\n",
      "\n",
      "\n",
      "Granules found: 1\n",
      "[Collection: {'EntryTitle': 'ATLAS/ICESat-2 L3A Sea Ice Height V006'}\n",
      "Spatial coverage: {'HorizontalSpatialDomain': {'Orbit': {'AscendingCrossing': 42.435923382137354, 'StartLatitude': 27.0, 'StartDirection': 'A', 'EndLatitude': 27.0, 'EndDirection': 'D'}}}\n",
      "Temporal coverage: {'RangeDateTime': {'BeginningDateTime': '2021-04-17T17:16:53.711Z', 'EndingDateTime': '2021-04-17T17:28:30.535Z'}}\n",
      "Size(MB): 139.92244052886963\n",
      "Data: ['https://data.nsidc.earthdatacloud.nasa.gov/nsidc-cumulus-prod-protected/ATLAS/ATL07/006/2021/04/17/ATL07-01_20210417165935_03651101_006_02.h5']]\n",
      "Opening 1 granules, approx size: 0.14 GB\n",
      "using provider: NSIDC_CPRD\n"
     ]
    },
    {
     "data": {
      "application/vnd.jupyter.widget-view+json": {
       "model_id": "60073c43a90f4b8f91bfec771ac1e9f5",
       "version_major": 2,
       "version_minor": 0
      },
      "text/plain": [
       "QUEUEING TASKS | :   0%|          | 0/1 [00:00<?, ?it/s]"
      ]
     },
     "metadata": {},
     "output_type": "display_data"
    },
    {
     "data": {
      "application/vnd.jupyter.widget-view+json": {
       "model_id": "d278e99b69d447a9ae3a681581518fce",
       "version_major": 2,
       "version_minor": 0
      },
      "text/plain": [
       "PROCESSING TASKS | :   0%|          | 0/1 [00:00<?, ?it/s]"
      ]
     },
     "metadata": {},
     "output_type": "display_data"
    },
    {
     "data": {
      "application/vnd.jupyter.widget-view+json": {
       "model_id": "1c7f164ec6bb45c486b45eb13e890858",
       "version_major": 2,
       "version_minor": 0
      },
      "text/plain": [
       "COLLECTING RESULTS | :   0%|          | 0/1 [00:00<?, ?it/s]"
      ]
     },
     "metadata": {},
     "output_type": "display_data"
    },
    {
     "name": "stdout",
     "output_type": "stream",
     "text": [
      "\n",
      "Coincident S2 images: 1\n",
      "Coincident S2 image FOUND\n",
      "Done with granule.\n",
      "\n",
      "\n",
      "\n",
      "Granules found: 1\n",
      "[Collection: {'EntryTitle': 'ATLAS/ICESat-2 L3A Sea Ice Height V006'}\n",
      "Spatial coverage: {'HorizontalSpatialDomain': {'Orbit': {'AscendingCrossing': 177.66586345798805, 'StartLatitude': 27.0, 'StartDirection': 'A', 'EndLatitude': 27.0, 'EndDirection': 'D'}}}\n",
      "Temporal coverage: {'RangeDateTime': {'BeginningDateTime': '2021-04-20T08:09:23.278Z', 'EndingDateTime': '2021-04-20T08:16:59.497Z'}}\n",
      "Size(MB): 153.32410335540771\n",
      "Data: ['https://data.nsidc.earthdatacloud.nasa.gov/nsidc-cumulus-prod-protected/ATLAS/ATL07/006/2021/04/20/ATL07-01_20210420075110_04051101_006_02.h5']]\n",
      "Opening 1 granules, approx size: 0.15 GB\n",
      "using provider: NSIDC_CPRD\n"
     ]
    },
    {
     "data": {
      "application/vnd.jupyter.widget-view+json": {
       "model_id": "07f38c8cc5f84a97b55452f6569d3d24",
       "version_major": 2,
       "version_minor": 0
      },
      "text/plain": [
       "QUEUEING TASKS | :   0%|          | 0/1 [00:00<?, ?it/s]"
      ]
     },
     "metadata": {},
     "output_type": "display_data"
    },
    {
     "data": {
      "application/vnd.jupyter.widget-view+json": {
       "model_id": "134e4d75613b4436b709e32f8c7ceefe",
       "version_major": 2,
       "version_minor": 0
      },
      "text/plain": [
       "PROCESSING TASKS | :   0%|          | 0/1 [00:00<?, ?it/s]"
      ]
     },
     "metadata": {},
     "output_type": "display_data"
    },
    {
     "data": {
      "application/vnd.jupyter.widget-view+json": {
       "model_id": "70e9456b19694b878c451f1d1016ceac",
       "version_major": 2,
       "version_minor": 0
      },
      "text/plain": [
       "COLLECTING RESULTS | :   0%|          | 0/1 [00:00<?, ?it/s]"
      ]
     },
     "metadata": {},
     "output_type": "display_data"
    },
    {
     "name": "stdout",
     "output_type": "stream",
     "text": [
      "\n",
      "Coincident S2 images: 0\n",
      "\n",
      "\n",
      "\n",
      "Granules found: 1\n",
      "[Collection: {'EntryTitle': 'ATLAS/ICESat-2 L3A Sea Ice Height V006'}\n",
      "Spatial coverage: {'HorizontalSpatialDomain': {'Orbit': {'AscendingCrossing': 65.27677327804452, 'StartLatitude': 27.0, 'StartDirection': 'A', 'EndLatitude': 27.0, 'EndDirection': 'D'}}}\n",
      "Temporal coverage: {'RangeDateTime': {'BeginningDateTime': '2021-04-21T15:34:49.874Z', 'EndingDateTime': '2021-04-21T15:46:53.464Z'}}\n",
      "Size(MB): 203.21373558044434\n",
      "Data: ['https://data.nsidc.earthdatacloud.nasa.gov/nsidc-cumulus-prod-protected/ATLAS/ATL07/006/2021/04/21/ATL07-01_20210421151658_04251101_006_02.h5']]\n",
      "Opening 1 granules, approx size: 0.2 GB\n",
      "using provider: NSIDC_CPRD\n"
     ]
    },
    {
     "data": {
      "application/vnd.jupyter.widget-view+json": {
       "model_id": "a304c5bc7a9b48efbcde4126048625f3",
       "version_major": 2,
       "version_minor": 0
      },
      "text/plain": [
       "QUEUEING TASKS | :   0%|          | 0/1 [00:00<?, ?it/s]"
      ]
     },
     "metadata": {},
     "output_type": "display_data"
    },
    {
     "data": {
      "application/vnd.jupyter.widget-view+json": {
       "model_id": "57d72590f6524f31b7e3844feb48645b",
       "version_major": 2,
       "version_minor": 0
      },
      "text/plain": [
       "PROCESSING TASKS | :   0%|          | 0/1 [00:00<?, ?it/s]"
      ]
     },
     "metadata": {},
     "output_type": "display_data"
    },
    {
     "data": {
      "application/vnd.jupyter.widget-view+json": {
       "model_id": "9fecb5521e0a4febac19258649b5889f",
       "version_major": 2,
       "version_minor": 0
      },
      "text/plain": [
       "COLLECTING RESULTS | :   0%|          | 0/1 [00:00<?, ?it/s]"
      ]
     },
     "metadata": {},
     "output_type": "display_data"
    },
    {
     "name": "stdout",
     "output_type": "stream",
     "text": [
      "\n",
      "Coincident S2 images: 6\n",
      "Coincident S2 image FOUND\n",
      "Done with granule.\n",
      "\n",
      "\n",
      "\n",
      "Granules found: 1\n",
      "[Collection: {'EntryTitle': 'ATLAS/ICESat-2 L3A Sea Ice Height V006'}\n",
      "Spatial coverage: {'HorizontalSpatialDomain': {'Orbit': {'AscendingCrossing': -47.106997843881096, 'StartLatitude': 27.0, 'StartDirection': 'A', 'EndLatitude': 27.0, 'EndDirection': 'D'}}}\n",
      "Temporal coverage: {'RangeDateTime': {'BeginningDateTime': '2021-04-22T23:00:06.824Z', 'EndingDateTime': '2021-04-22T23:11:22.194Z'}}\n",
      "Size(MB): 380.7526397705078\n",
      "Data: ['https://data.nsidc.earthdatacloud.nasa.gov/nsidc-cumulus-prod-protected/ATLAS/ATL07/006/2021/04/22/ATL07-01_20210422224245_04451101_006_02.h5']]\n",
      "Opening 1 granules, approx size: 0.37 GB\n",
      "using provider: NSIDC_CPRD\n"
     ]
    },
    {
     "data": {
      "application/vnd.jupyter.widget-view+json": {
       "model_id": "c8dade6abbfd439580de5fd4d0486db1",
       "version_major": 2,
       "version_minor": 0
      },
      "text/plain": [
       "QUEUEING TASKS | :   0%|          | 0/1 [00:00<?, ?it/s]"
      ]
     },
     "metadata": {},
     "output_type": "display_data"
    },
    {
     "data": {
      "application/vnd.jupyter.widget-view+json": {
       "model_id": "9f338a4b232f41c1aff9ef7f76218e1d",
       "version_major": 2,
       "version_minor": 0
      },
      "text/plain": [
       "PROCESSING TASKS | :   0%|          | 0/1 [00:00<?, ?it/s]"
      ]
     },
     "metadata": {},
     "output_type": "display_data"
    },
    {
     "data": {
      "application/vnd.jupyter.widget-view+json": {
       "model_id": "fa3087e5e9a14aa4951eb5804091c48b",
       "version_major": 2,
       "version_minor": 0
      },
      "text/plain": [
       "COLLECTING RESULTS | :   0%|          | 0/1 [00:00<?, ?it/s]"
      ]
     },
     "metadata": {},
     "output_type": "display_data"
    },
    {
     "name": "stdout",
     "output_type": "stream",
     "text": [
      "\n",
      "Coincident S2 images: 0\n",
      "\n",
      "\n",
      "\n",
      "Granules found: 1\n",
      "[Collection: {'EntryTitle': 'ATLAS/ICESat-2 L3A Sea Ice Height V006'}\n",
      "Spatial coverage: {'HorizontalSpatialDomain': {'Orbit': {'AscendingCrossing': -159.49266690093378, 'StartLatitude': 27.0, 'StartDirection': 'A', 'EndLatitude': 27.0, 'EndDirection': 'D'}}}\n",
      "Temporal coverage: {'RangeDateTime': {'BeginningDateTime': '2021-04-24T06:24:29.665Z', 'EndingDateTime': '2021-04-24T06:40:56.533Z'}}\n",
      "Size(MB): 304.56350898742676\n",
      "Data: ['https://data.nsidc.earthdatacloud.nasa.gov/nsidc-cumulus-prod-protected/ATLAS/ATL07/006/2021/04/24/ATL07-01_20210424060832_04651101_006_02.h5']]\n",
      "Opening 1 granules, approx size: 0.3 GB\n",
      "using provider: NSIDC_CPRD\n"
     ]
    },
    {
     "data": {
      "application/vnd.jupyter.widget-view+json": {
       "model_id": "3d5ac13ef62c4e6fb9d10322e5d237d2",
       "version_major": 2,
       "version_minor": 0
      },
      "text/plain": [
       "QUEUEING TASKS | :   0%|          | 0/1 [00:00<?, ?it/s]"
      ]
     },
     "metadata": {},
     "output_type": "display_data"
    },
    {
     "data": {
      "application/vnd.jupyter.widget-view+json": {
       "model_id": "84834afd449f4688949dc5fe1a4050fe",
       "version_major": 2,
       "version_minor": 0
      },
      "text/plain": [
       "PROCESSING TASKS | :   0%|          | 0/1 [00:00<?, ?it/s]"
      ]
     },
     "metadata": {},
     "output_type": "display_data"
    },
    {
     "data": {
      "application/vnd.jupyter.widget-view+json": {
       "model_id": "fba3373a50c1433087b8344815f90575",
       "version_major": 2,
       "version_minor": 0
      },
      "text/plain": [
       "COLLECTING RESULTS | :   0%|          | 0/1 [00:00<?, ?it/s]"
      ]
     },
     "metadata": {},
     "output_type": "display_data"
    },
    {
     "name": "stdout",
     "output_type": "stream",
     "text": [
      "\n",
      "Coincident S2 images: 0\n",
      "\n",
      "\n",
      "\n",
      "Granules found: 1\n",
      "[Collection: {'EntryTitle': 'ATLAS/ICESat-2 L3A Sea Ice Height V006'}\n",
      "Spatial coverage: {'HorizontalSpatialDomain': {'Orbit': {'AscendingCrossing': 88.11856585176837, 'StartLatitude': 27.0, 'StartDirection': 'A', 'EndLatitude': 27.0, 'EndDirection': 'D'}}}\n",
      "Temporal coverage: {'RangeDateTime': {'BeginningDateTime': '2021-04-25T13:52:09.924Z', 'EndingDateTime': '2021-04-25T14:03:37.452Z'}}\n",
      "Size(MB): 204.7309274673462\n",
      "Data: ['https://data.nsidc.earthdatacloud.nasa.gov/nsidc-cumulus-prod-protected/ATLAS/ATL07/006/2021/04/25/ATL07-01_20210425133419_04851101_006_02.h5']]\n",
      "Opening 1 granules, approx size: 0.2 GB\n",
      "using provider: NSIDC_CPRD\n"
     ]
    },
    {
     "data": {
      "application/vnd.jupyter.widget-view+json": {
       "model_id": "1fc4fb6ef8694611a170afc2ed5564a2",
       "version_major": 2,
       "version_minor": 0
      },
      "text/plain": [
       "QUEUEING TASKS | :   0%|          | 0/1 [00:00<?, ?it/s]"
      ]
     },
     "metadata": {},
     "output_type": "display_data"
    },
    {
     "data": {
      "application/vnd.jupyter.widget-view+json": {
       "model_id": "6b21dbd7e29a48afba91827e31a6d193",
       "version_major": 2,
       "version_minor": 0
      },
      "text/plain": [
       "PROCESSING TASKS | :   0%|          | 0/1 [00:00<?, ?it/s]"
      ]
     },
     "metadata": {},
     "output_type": "display_data"
    },
    {
     "data": {
      "application/vnd.jupyter.widget-view+json": {
       "model_id": "db8f8940f45d4545ae57cac0296fac00",
       "version_major": 2,
       "version_minor": 0
      },
      "text/plain": [
       "COLLECTING RESULTS | :   0%|          | 0/1 [00:00<?, ?it/s]"
      ]
     },
     "metadata": {},
     "output_type": "display_data"
    },
    {
     "name": "stdout",
     "output_type": "stream",
     "text": [
      "\n",
      "Coincident S2 images: 3\n",
      "Coincident S2 image FOUND\n",
      "Done with granule.\n",
      "\n",
      "\n",
      "\n",
      "Granules found: 1\n",
      "[Collection: {'EntryTitle': 'ATLAS/ICESat-2 L3A Sea Ice Height V006'}\n",
      "Spatial coverage: {'HorizontalSpatialDomain': {'Orbit': {'AscendingCrossing': -136.6517809209784, 'StartLatitude': 27.0, 'StartDirection': 'A', 'EndLatitude': 27.0, 'EndDirection': 'D'}}}\n",
      "Temporal coverage: {'RangeDateTime': {'BeginningDateTime': '2021-04-28T04:44:11.654Z', 'EndingDateTime': '2021-04-28T04:52:39.990Z'}}\n",
      "Size(MB): 340.3772888183594\n",
      "Data: ['https://data.nsidc.earthdatacloud.nasa.gov/nsidc-cumulus-prod-protected/ATLAS/ATL07/006/2021/04/28/ATL07-01_20210428042555_05251101_006_02.h5']]\n",
      "Opening 1 granules, approx size: 0.33 GB\n",
      "using provider: NSIDC_CPRD\n"
     ]
    },
    {
     "data": {
      "application/vnd.jupyter.widget-view+json": {
       "model_id": "3910196cce2e43d2adcca27e39f1c6c5",
       "version_major": 2,
       "version_minor": 0
      },
      "text/plain": [
       "QUEUEING TASKS | :   0%|          | 0/1 [00:00<?, ?it/s]"
      ]
     },
     "metadata": {},
     "output_type": "display_data"
    },
    {
     "data": {
      "application/vnd.jupyter.widget-view+json": {
       "model_id": "78382b14611f467e8b9742202bf1c169",
       "version_major": 2,
       "version_minor": 0
      },
      "text/plain": [
       "PROCESSING TASKS | :   0%|          | 0/1 [00:00<?, ?it/s]"
      ]
     },
     "metadata": {},
     "output_type": "display_data"
    },
    {
     "data": {
      "application/vnd.jupyter.widget-view+json": {
       "model_id": "b83d0b588ff74031ba5fb18dd84b4fae",
       "version_major": 2,
       "version_minor": 0
      },
      "text/plain": [
       "COLLECTING RESULTS | :   0%|          | 0/1 [00:00<?, ?it/s]"
      ]
     },
     "metadata": {},
     "output_type": "display_data"
    },
    {
     "name": "stdout",
     "output_type": "stream",
     "text": [
      "\n",
      "Coincident S2 images: 0\n",
      "\n",
      "\n",
      "\n",
      "Granules found: 1\n",
      "[Collection: {'EntryTitle': 'ATLAS/ICESat-2 L3A Sea Ice Height V006'}\n",
      "Spatial coverage: {'HorizontalSpatialDomain': {'Orbit': {'AscendingCrossing': 110.96093284687917, 'StartLatitude': 27.0, 'StartDirection': 'A', 'EndLatitude': 27.0, 'EndDirection': 'D'}}}\n",
      "Temporal coverage: {'RangeDateTime': {'BeginningDateTime': '2021-04-29T12:11:34.789Z', 'EndingDateTime': '2021-04-29T12:27:28.169Z'}}\n",
      "Size(MB): 173.44592761993408\n",
      "Data: ['https://data.nsidc.earthdatacloud.nasa.gov/nsidc-cumulus-prod-protected/ATLAS/ATL07/006/2021/04/29/ATL07-01_20210429115142_05451101_006_02.h5']]\n",
      "Opening 1 granules, approx size: 0.17 GB\n",
      "using provider: NSIDC_CPRD\n"
     ]
    },
    {
     "data": {
      "application/vnd.jupyter.widget-view+json": {
       "model_id": "dc49e82a8e5246fba2f88d8d8cba24a6",
       "version_major": 2,
       "version_minor": 0
      },
      "text/plain": [
       "QUEUEING TASKS | :   0%|          | 0/1 [00:00<?, ?it/s]"
      ]
     },
     "metadata": {},
     "output_type": "display_data"
    },
    {
     "data": {
      "application/vnd.jupyter.widget-view+json": {
       "model_id": "31087b3af6f4413f824b8386b9cf8633",
       "version_major": 2,
       "version_minor": 0
      },
      "text/plain": [
       "PROCESSING TASKS | :   0%|          | 0/1 [00:00<?, ?it/s]"
      ]
     },
     "metadata": {},
     "output_type": "display_data"
    },
    {
     "data": {
      "application/vnd.jupyter.widget-view+json": {
       "model_id": "3203fd96ff7b4fe0bac3f7ea72e0d3b3",
       "version_major": 2,
       "version_minor": 0
      },
      "text/plain": [
       "COLLECTING RESULTS | :   0%|          | 0/1 [00:00<?, ?it/s]"
      ]
     },
     "metadata": {},
     "output_type": "display_data"
    },
    {
     "name": "stdout",
     "output_type": "stream",
     "text": [
      "\n",
      "Coincident S2 images: 7\n",
      "Coincident S2 image FOUND\n",
      "Done with granule.\n",
      "\n",
      "\n",
      "\n",
      "Granules found: 1\n",
      "[Collection: {'EntryTitle': 'ATLAS/ICESat-2 L3A Sea Ice Height V006'}\n",
      "Spatial coverage: {'HorizontalSpatialDomain': {'Orbit': {'AscendingCrossing': -1.426753588363317, 'StartLatitude': 27.0, 'StartDirection': 'A', 'EndLatitude': 27.0, 'EndDirection': 'D'}}}\n",
      "Temporal coverage: {'RangeDateTime': {'BeginningDateTime': '2021-04-30T19:36:51.141Z', 'EndingDateTime': '2021-04-30T19:44:11.964Z'}}\n",
      "Size(MB): 195.32662677764893\n",
      "Data: ['https://data.nsidc.earthdatacloud.nasa.gov/nsidc-cumulus-prod-protected/ATLAS/ATL07/006/2021/04/30/ATL07-01_20210430191730_05651101_006_02.h5']]\n",
      "Opening 1 granules, approx size: 0.19 GB\n",
      "using provider: NSIDC_CPRD\n"
     ]
    },
    {
     "data": {
      "application/vnd.jupyter.widget-view+json": {
       "model_id": "cc795aeb36dc48bfa8ba12e125edae4d",
       "version_major": 2,
       "version_minor": 0
      },
      "text/plain": [
       "QUEUEING TASKS | :   0%|          | 0/1 [00:00<?, ?it/s]"
      ]
     },
     "metadata": {},
     "output_type": "display_data"
    },
    {
     "data": {
      "application/vnd.jupyter.widget-view+json": {
       "model_id": "7ff05c3f8d2d4722ad87472251fcff64",
       "version_major": 2,
       "version_minor": 0
      },
      "text/plain": [
       "PROCESSING TASKS | :   0%|          | 0/1 [00:00<?, ?it/s]"
      ]
     },
     "metadata": {},
     "output_type": "display_data"
    },
    {
     "data": {
      "application/vnd.jupyter.widget-view+json": {
       "model_id": "284b12c5a9f74c768eb7fc57d18ca25b",
       "version_major": 2,
       "version_minor": 0
      },
      "text/plain": [
       "COLLECTING RESULTS | :   0%|          | 0/1 [00:00<?, ?it/s]"
      ]
     },
     "metadata": {},
     "output_type": "display_data"
    },
    {
     "name": "stdout",
     "output_type": "stream",
     "text": [
      "\n",
      "Coincident S2 images: 8\n",
      "Coincident S2 image FOUND\n",
      "Done with granule.\n",
      "\n",
      "\n",
      "\n",
      "Granules found: 1\n",
      "[Collection: {'EntryTitle': 'ATLAS/ICESat-2 L3A Sea Ice Height V006'}\n",
      "Spatial coverage: {'HorizontalSpatialDomain': {'Orbit': {'AscendingCrossing': -32.57191329696603, 'StartLatitude': 27.0, 'StartDirection': 'A', 'EndLatitude': 27.0, 'EndDirection': 'D'}}}\n",
      "Temporal coverage: {'RangeDateTime': {'BeginningDateTime': '2021-10-07T14:05:59.329Z', 'EndingDateTime': '2021-10-07T14:10:54.832Z'}}\n",
      "Size(MB): 179.70015144348145\n",
      "Data: ['https://data.nsidc.earthdatacloud.nasa.gov/nsidc-cumulus-prod-protected/ATLAS/ATL07/006/2021/10/07/ATL07-01_20211007134434_02311301_006_01.h5']]\n",
      "Opening 1 granules, approx size: 0.18 GB\n",
      "using provider: NSIDC_CPRD\n"
     ]
    },
    {
     "data": {
      "application/vnd.jupyter.widget-view+json": {
       "model_id": "2f1a3fdfaffb47148d985d7dfad4c43a",
       "version_major": 2,
       "version_minor": 0
      },
      "text/plain": [
       "QUEUEING TASKS | :   0%|          | 0/1 [00:00<?, ?it/s]"
      ]
     },
     "metadata": {},
     "output_type": "display_data"
    },
    {
     "data": {
      "application/vnd.jupyter.widget-view+json": {
       "model_id": "34c1330c4b4f49f0bfc50ea1acf9a1da",
       "version_major": 2,
       "version_minor": 0
      },
      "text/plain": [
       "PROCESSING TASKS | :   0%|          | 0/1 [00:00<?, ?it/s]"
      ]
     },
     "metadata": {},
     "output_type": "display_data"
    },
    {
     "data": {
      "application/vnd.jupyter.widget-view+json": {
       "model_id": "67f0f865b0ad4bd783da83f660745b2d",
       "version_major": 2,
       "version_minor": 0
      },
      "text/plain": [
       "COLLECTING RESULTS | :   0%|          | 0/1 [00:00<?, ?it/s]"
      ]
     },
     "metadata": {},
     "output_type": "display_data"
    },
    {
     "name": "stdout",
     "output_type": "stream",
     "text": [
      "\n",
      "Coincident S2 images: 0\n",
      "\n",
      "\n",
      "\n",
      "Granules found: 1\n",
      "[Collection: {'EntryTitle': 'ATLAS/ICESat-2 L3A Sea Ice Height V006'}\n",
      "Spatial coverage: {'HorizontalSpatialDomain': {'Orbit': {'AscendingCrossing': 13.107685062387144, 'StartLatitude': 27.0, 'StartDirection': 'A', 'EndLatitude': 27.0, 'EndDirection': 'D'}}}\n",
      "Temporal coverage: {'RangeDateTime': {'BeginningDateTime': '2021-10-15T10:34:49.768Z', 'EndingDateTime': '2021-10-15T10:46:47.547Z'}}\n",
      "Size(MB): 169.44218921661377\n",
      "Data: ['https://data.nsidc.earthdatacloud.nasa.gov/nsidc-cumulus-prod-protected/ATLAS/ATL07/006/2021/10/15/ATL07-01_20211015101920_03511301_006_01.h5']]\n",
      "Opening 1 granules, approx size: 0.17 GB\n",
      "using provider: NSIDC_CPRD\n"
     ]
    },
    {
     "data": {
      "application/vnd.jupyter.widget-view+json": {
       "model_id": "653f540c9e224d09a954da9ca21ef1f9",
       "version_major": 2,
       "version_minor": 0
      },
      "text/plain": [
       "QUEUEING TASKS | :   0%|          | 0/1 [00:00<?, ?it/s]"
      ]
     },
     "metadata": {},
     "output_type": "display_data"
    },
    {
     "data": {
      "application/vnd.jupyter.widget-view+json": {
       "model_id": "5efb0525fe754b36864eb8b893fd527f",
       "version_major": 2,
       "version_minor": 0
      },
      "text/plain": [
       "PROCESSING TASKS | :   0%|          | 0/1 [00:00<?, ?it/s]"
      ]
     },
     "metadata": {},
     "output_type": "display_data"
    },
    {
     "data": {
      "application/vnd.jupyter.widget-view+json": {
       "model_id": "b964031ca24647f79437064df6337232",
       "version_major": 2,
       "version_minor": 0
      },
      "text/plain": [
       "COLLECTING RESULTS | :   0%|          | 0/1 [00:00<?, ?it/s]"
      ]
     },
     "metadata": {},
     "output_type": "display_data"
    },
    {
     "name": "stdout",
     "output_type": "stream",
     "text": [
      "\n",
      "Coincident S2 images: 0\n",
      "\n",
      "\n",
      "\n",
      "Granules found: 1\n",
      "[Collection: {'EntryTitle': 'ATLAS/ICESat-2 L3A Sea Ice Height V006'}\n",
      "Spatial coverage: {'HorizontalSpatialDomain': {'Orbit': {'AscendingCrossing': 171.17692274112926, 'StartLatitude': 27.0, 'StartDirection': 'A', 'EndLatitude': 27.0, 'EndDirection': 'D'}}}\n",
      "Temporal coverage: {'RangeDateTime': {'BeginningDateTime': '2021-10-21T23:46:27.987Z', 'EndingDateTime': '2021-10-21T23:55:06.884Z'}}\n",
      "Size(MB): 227.85223484039307\n",
      "Data: ['https://data.nsidc.earthdatacloud.nasa.gov/nsidc-cumulus-prod-protected/ATLAS/ATL07/006/2021/10/21/ATL07-01_20211021232819_04511301_006_01.h5']]\n",
      "Opening 1 granules, approx size: 0.22 GB\n",
      "using provider: NSIDC_CPRD\n"
     ]
    },
    {
     "data": {
      "application/vnd.jupyter.widget-view+json": {
       "model_id": "59c07c8a3d474644ba8f00c57b9d30ca",
       "version_major": 2,
       "version_minor": 0
      },
      "text/plain": [
       "QUEUEING TASKS | :   0%|          | 0/1 [00:00<?, ?it/s]"
      ]
     },
     "metadata": {},
     "output_type": "display_data"
    },
    {
     "data": {
      "application/vnd.jupyter.widget-view+json": {
       "model_id": "58c98fe7024b4b76a7e658925fd59043",
       "version_major": 2,
       "version_minor": 0
      },
      "text/plain": [
       "PROCESSING TASKS | :   0%|          | 0/1 [00:00<?, ?it/s]"
      ]
     },
     "metadata": {},
     "output_type": "display_data"
    },
    {
     "data": {
      "application/vnd.jupyter.widget-view+json": {
       "model_id": "dfcbf871f8164af39012723e3e87f129",
       "version_major": 2,
       "version_minor": 0
      },
      "text/plain": [
       "COLLECTING RESULTS | :   0%|          | 0/1 [00:00<?, ?it/s]"
      ]
     },
     "metadata": {},
     "output_type": "display_data"
    },
    {
     "name": "stdout",
     "output_type": "stream",
     "text": [
      "\n",
      "Coincident S2 images: 0\n",
      "\n",
      "\n",
      "\n",
      "Granules found: 1\n",
      "[Collection: {'EntryTitle': 'ATLAS/ICESat-2 L3A Sea Ice Height V006'}\n",
      "Spatial coverage: {'HorizontalSpatialDomain': {'Orbit': {'AscendingCrossing': -7.915071522896372, 'StartLatitude': 27.0, 'StartDirection': 'A', 'EndLatitude': 27.0, 'EndDirection': 'D'}}}\n",
      "Temporal coverage: {'RangeDateTime': {'BeginningDateTime': '2021-11-01T11:13:32.498Z', 'EndingDateTime': '2021-11-01T11:23:48.326Z'}}\n",
      "Size(MB): 126.99230289459229\n",
      "Data: ['https://data.nsidc.earthdatacloud.nasa.gov/nsidc-cumulus-prod-protected/ATLAS/ATL07/006/2021/11/01/ATL07-01_20211101105441_06111301_006_01.h5']]\n",
      "Opening 1 granules, approx size: 0.12 GB\n",
      "using provider: NSIDC_CPRD\n"
     ]
    },
    {
     "data": {
      "application/vnd.jupyter.widget-view+json": {
       "model_id": "1f3b2a5c9468464cabfd2530857d596e",
       "version_major": 2,
       "version_minor": 0
      },
      "text/plain": [
       "QUEUEING TASKS | :   0%|          | 0/1 [00:00<?, ?it/s]"
      ]
     },
     "metadata": {},
     "output_type": "display_data"
    },
    {
     "data": {
      "application/vnd.jupyter.widget-view+json": {
       "model_id": "c1fb5ca9a31749b79a6ab0216191a922",
       "version_major": 2,
       "version_minor": 0
      },
      "text/plain": [
       "PROCESSING TASKS | :   0%|          | 0/1 [00:00<?, ?it/s]"
      ]
     },
     "metadata": {},
     "output_type": "display_data"
    },
    {
     "data": {
      "application/vnd.jupyter.widget-view+json": {
       "model_id": "c16a7a8daa44437585f9a59033d22459",
       "version_major": 2,
       "version_minor": 0
      },
      "text/plain": [
       "COLLECTING RESULTS | :   0%|          | 0/1 [00:00<?, ?it/s]"
      ]
     },
     "metadata": {},
     "output_type": "display_data"
    },
    {
     "name": "stdout",
     "output_type": "stream",
     "text": [
      "\n",
      "Coincident S2 images: 0\n",
      "\n",
      "\n",
      "\n",
      "Granules found: 1\n",
      "[Collection: {'EntryTitle': 'ATLAS/ICESat-2 L3A Sea Ice Height V006'}\n",
      "Spatial coverage: {'HorizontalSpatialDomain': {'Orbit': {'AscendingCrossing': -97.45909772335429, 'StartLatitude': 27.0, 'StartDirection': 'A', 'EndLatitude': 27.0, 'EndDirection': 'D'}}}\n",
      "Temporal coverage: {'RangeDateTime': {'BeginningDateTime': '2021-11-06T16:55:36.839Z', 'EndingDateTime': '2021-11-06T17:06:06.093Z'}}\n",
      "Size(MB): 186.3763132095337\n",
      "Data: ['https://data.nsidc.earthdatacloud.nasa.gov/nsidc-cumulus-prod-protected/ATLAS/ATL07/006/2021/11/06/ATL07-01_20211106163753_06911301_006_01.h5']]\n",
      "Opening 1 granules, approx size: 0.18 GB\n",
      "using provider: NSIDC_CPRD\n"
     ]
    },
    {
     "data": {
      "application/vnd.jupyter.widget-view+json": {
       "model_id": "eec1a90e58034e0aab83ddbbe44c3b63",
       "version_major": 2,
       "version_minor": 0
      },
      "text/plain": [
       "QUEUEING TASKS | :   0%|          | 0/1 [00:00<?, ?it/s]"
      ]
     },
     "metadata": {},
     "output_type": "display_data"
    },
    {
     "data": {
      "application/vnd.jupyter.widget-view+json": {
       "model_id": "dfce1e9d1edd40c19287661d80385b7a",
       "version_major": 2,
       "version_minor": 0
      },
      "text/plain": [
       "PROCESSING TASKS | :   0%|          | 0/1 [00:00<?, ?it/s]"
      ]
     },
     "metadata": {},
     "output_type": "display_data"
    },
    {
     "data": {
      "application/vnd.jupyter.widget-view+json": {
       "model_id": "efc6e30320f043a7a69852b8028a2411",
       "version_major": 2,
       "version_minor": 0
      },
      "text/plain": [
       "COLLECTING RESULTS | :   0%|          | 0/1 [00:00<?, ?it/s]"
      ]
     },
     "metadata": {},
     "output_type": "display_data"
    },
    {
     "name": "stdout",
     "output_type": "stream",
     "text": [
      "\n",
      "Coincident S2 images: 0\n",
      "\n",
      "\n",
      "\n",
      "Granules found: 1\n",
      "[Collection: {'EntryTitle': 'ATLAS/ICESat-2 L3A Sea Ice Height V006'}\n",
      "Spatial coverage: {'HorizontalSpatialDomain': {'Orbit': {'AscendingCrossing': 150.1530260330119, 'StartLatitude': 27.0, 'StartDirection': 'A', 'EndLatitude': 27.0, 'EndDirection': 'D'}}}\n",
      "Temporal coverage: {'RangeDateTime': {'BeginningDateTime': '2021-11-08T00:22:16.331Z', 'EndingDateTime': '2021-11-08T00:29:13.373Z'}}\n",
      "Size(MB): 200.2167625427246\n",
      "Data: ['https://data.nsidc.earthdatacloud.nasa.gov/nsidc-cumulus-prod-protected/ATLAS/ATL07/006/2021/11/08/ATL07-01_20211108000339_07111301_006_01.h5']]\n",
      "Opening 1 granules, approx size: 0.2 GB\n",
      "using provider: NSIDC_CPRD\n"
     ]
    },
    {
     "data": {
      "application/vnd.jupyter.widget-view+json": {
       "model_id": "3b92347788864a3896acf8fe368b88e0",
       "version_major": 2,
       "version_minor": 0
      },
      "text/plain": [
       "QUEUEING TASKS | :   0%|          | 0/1 [00:00<?, ?it/s]"
      ]
     },
     "metadata": {},
     "output_type": "display_data"
    },
    {
     "data": {
      "application/vnd.jupyter.widget-view+json": {
       "model_id": "b1ddc4b5ea9b4398ac183ffd7b6139d8",
       "version_major": 2,
       "version_minor": 0
      },
      "text/plain": [
       "PROCESSING TASKS | :   0%|          | 0/1 [00:00<?, ?it/s]"
      ]
     },
     "metadata": {},
     "output_type": "display_data"
    },
    {
     "data": {
      "application/vnd.jupyter.widget-view+json": {
       "model_id": "26ae7fd0d2ad4e03bfd6939408b5bc62",
       "version_major": 2,
       "version_minor": 0
      },
      "text/plain": [
       "COLLECTING RESULTS | :   0%|          | 0/1 [00:00<?, ?it/s]"
      ]
     },
     "metadata": {},
     "output_type": "display_data"
    },
    {
     "name": "stdout",
     "output_type": "stream",
     "text": [
      "\n",
      "Coincident S2 images: 0\n",
      "\n",
      "\n",
      "\n",
      "Granules found: 1\n",
      "[Collection: {'EntryTitle': 'ATLAS/ICESat-2 L3A Sea Ice Height V006'}\n",
      "Spatial coverage: {'HorizontalSpatialDomain': {'Orbit': {'AscendingCrossing': 60.60515377526369, 'StartLatitude': 27.0, 'StartDirection': 'A', 'EndLatitude': 27.0, 'EndDirection': 'D'}}}\n",
      "Temporal coverage: {'RangeDateTime': {'BeginningDateTime': '2021-11-13T06:07:36.692Z', 'EndingDateTime': '2021-11-13T06:14:28.283Z'}}\n",
      "Size(MB): 106.11937808990479\n",
      "Data: ['https://data.nsidc.earthdatacloud.nasa.gov/nsidc-cumulus-prod-protected/ATLAS/ATL07/006/2021/11/13/ATL07-01_20211113054657_07911301_006_01.h5']]\n",
      "Opening 1 granules, approx size: 0.1 GB\n",
      "using provider: NSIDC_CPRD\n"
     ]
    },
    {
     "data": {
      "application/vnd.jupyter.widget-view+json": {
       "model_id": "9b003c94564c4edeae8031bab7442fe8",
       "version_major": 2,
       "version_minor": 0
      },
      "text/plain": [
       "QUEUEING TASKS | :   0%|          | 0/1 [00:00<?, ?it/s]"
      ]
     },
     "metadata": {},
     "output_type": "display_data"
    },
    {
     "data": {
      "application/vnd.jupyter.widget-view+json": {
       "model_id": "69273ff9848c45c1b4895fad1efe0c0a",
       "version_major": 2,
       "version_minor": 0
      },
      "text/plain": [
       "PROCESSING TASKS | :   0%|          | 0/1 [00:00<?, ?it/s]"
      ]
     },
     "metadata": {},
     "output_type": "display_data"
    },
    {
     "data": {
      "application/vnd.jupyter.widget-view+json": {
       "model_id": "fd512ef88d1c47fbae05070bc8a4fe35",
       "version_major": 2,
       "version_minor": 0
      },
      "text/plain": [
       "COLLECTING RESULTS | :   0%|          | 0/1 [00:00<?, ?it/s]"
      ]
     },
     "metadata": {},
     "output_type": "display_data"
    },
    {
     "name": "stdout",
     "output_type": "stream",
     "text": [
      "\n",
      "Coincident S2 images: 0\n",
      "\n",
      "\n",
      "\n",
      "Granules found: 1\n",
      "[Collection: {'EntryTitle': 'ATLAS/ICESat-2 L3A Sea Ice Height V006'}\n",
      "Spatial coverage: {'HorizontalSpatialDomain': {'Orbit': {'AscendingCrossing': -164.16468328662728, 'StartLatitude': 27.0, 'StartDirection': 'A', 'EndLatitude': 27.0, 'EndDirection': 'D'}}}\n",
      "Temporal coverage: {'RangeDateTime': {'BeginningDateTime': '2021-11-15T20:55:22.458Z', 'EndingDateTime': '2021-11-15T21:08:32.301Z'}}\n",
      "Size(MB): 412.31697177886963\n",
      "Data: ['https://data.nsidc.earthdatacloud.nasa.gov/nsidc-cumulus-prod-protected/ATLAS/ATL07/006/2021/11/15/ATL07-01_20211115203827_08311301_006_01.h5']]\n",
      "Opening 1 granules, approx size: 0.4 GB\n",
      "using provider: NSIDC_CPRD\n"
     ]
    },
    {
     "data": {
      "application/vnd.jupyter.widget-view+json": {
       "model_id": "b7d8287b79c4455092ba69f51d462745",
       "version_major": 2,
       "version_minor": 0
      },
      "text/plain": [
       "QUEUEING TASKS | :   0%|          | 0/1 [00:00<?, ?it/s]"
      ]
     },
     "metadata": {},
     "output_type": "display_data"
    },
    {
     "data": {
      "application/vnd.jupyter.widget-view+json": {
       "model_id": "139cdcfb88a64885a7bff2c548546148",
       "version_major": 2,
       "version_minor": 0
      },
      "text/plain": [
       "PROCESSING TASKS | :   0%|          | 0/1 [00:00<?, ?it/s]"
      ]
     },
     "metadata": {},
     "output_type": "display_data"
    },
    {
     "data": {
      "application/vnd.jupyter.widget-view+json": {
       "model_id": "0d524e73f9df4c709bdb0ed5b0c8e9e3",
       "version_major": 2,
       "version_minor": 0
      },
      "text/plain": [
       "COLLECTING RESULTS | :   0%|          | 0/1 [00:00<?, ?it/s]"
      ]
     },
     "metadata": {},
     "output_type": "display_data"
    },
    {
     "name": "stdout",
     "output_type": "stream",
     "text": [
      "\n",
      "Coincident S2 images: 0\n",
      "\n",
      "\n",
      "\n",
      "Granules found: 1\n",
      "[Collection: {'EntryTitle': 'ATLAS/ICESat-2 L3A Sea Ice Height V006'}\n",
      "Spatial coverage: {'HorizontalSpatialDomain': {'Orbit': {'AscendingCrossing': -141.32367618751996, 'StartLatitude': 27.0, 'StartDirection': 'A', 'EndLatitude': 27.0, 'EndDirection': 'D'}}}\n",
      "Temporal coverage: {'RangeDateTime': {'BeginningDateTime': '2021-11-19T19:14:14.613Z', 'EndingDateTime': '2021-11-19T19:26:07.557Z'}}\n",
      "Size(MB): 340.49905490875244\n",
      "Data: ['https://data.nsidc.earthdatacloud.nasa.gov/nsidc-cumulus-prod-protected/ATLAS/ATL07/006/2021/11/19/ATL07-01_20211119185554_08911301_006_01.h5']]\n",
      "Opening 1 granules, approx size: 0.33 GB\n",
      "using provider: NSIDC_CPRD\n"
     ]
    },
    {
     "data": {
      "application/vnd.jupyter.widget-view+json": {
       "model_id": "7c45a334316a4e519cb08e84754b10d8",
       "version_major": 2,
       "version_minor": 0
      },
      "text/plain": [
       "QUEUEING TASKS | :   0%|          | 0/1 [00:00<?, ?it/s]"
      ]
     },
     "metadata": {},
     "output_type": "display_data"
    },
    {
     "data": {
      "application/vnd.jupyter.widget-view+json": {
       "model_id": "868cb2f944e9409cb40b200930f995e5",
       "version_major": 2,
       "version_minor": 0
      },
      "text/plain": [
       "PROCESSING TASKS | :   0%|          | 0/1 [00:00<?, ?it/s]"
      ]
     },
     "metadata": {},
     "output_type": "display_data"
    },
    {
     "data": {
      "application/vnd.jupyter.widget-view+json": {
       "model_id": "8f0ab1b684e1409fb316af91a638b80d",
       "version_major": 2,
       "version_minor": 0
      },
      "text/plain": [
       "COLLECTING RESULTS | :   0%|          | 0/1 [00:00<?, ?it/s]"
      ]
     },
     "metadata": {},
     "output_type": "display_data"
    },
    {
     "name": "stdout",
     "output_type": "stream",
     "text": [
      "\n",
      "Coincident S2 images: 0\n",
      "\n",
      "\n",
      "\n",
      "Granules found: 1\n",
      "[Collection: {'EntryTitle': 'ATLAS/ICESat-2 L3A Sea Ice Height V006'}\n",
      "Spatial coverage: {'HorizontalSpatialDomain': {'Orbit': {'AscendingCrossing': 106.28892035738735, 'StartLatitude': 27.0, 'StartDirection': 'A', 'EndLatitude': 27.0, 'EndDirection': 'D'}}}\n",
      "Temporal coverage: {'RangeDateTime': {'BeginningDateTime': '2021-11-21T02:41:29.616Z', 'EndingDateTime': '2021-11-21T02:51:14.071Z'}}\n",
      "Size(MB): 353.2553987503052\n",
      "Data: ['https://data.nsidc.earthdatacloud.nasa.gov/nsidc-cumulus-prod-protected/ATLAS/ATL07/006/2021/11/21/ATL07-01_20211121022139_09111301_006_01.h5']]\n",
      "Opening 1 granules, approx size: 0.34 GB\n",
      "using provider: NSIDC_CPRD\n"
     ]
    },
    {
     "data": {
      "application/vnd.jupyter.widget-view+json": {
       "model_id": "eac7a05b80aa4c01954ba51100874828",
       "version_major": 2,
       "version_minor": 0
      },
      "text/plain": [
       "QUEUEING TASKS | :   0%|          | 0/1 [00:00<?, ?it/s]"
      ]
     },
     "metadata": {},
     "output_type": "display_data"
    },
    {
     "data": {
      "application/vnd.jupyter.widget-view+json": {
       "model_id": "d6d36c4ecbe24ca8aad06f38f67bfac4",
       "version_major": 2,
       "version_minor": 0
      },
      "text/plain": [
       "PROCESSING TASKS | :   0%|          | 0/1 [00:00<?, ?it/s]"
      ]
     },
     "metadata": {},
     "output_type": "display_data"
    },
    {
     "data": {
      "application/vnd.jupyter.widget-view+json": {
       "model_id": "63d388cebfb9437ab77bc1b081620c08",
       "version_major": 2,
       "version_minor": 0
      },
      "text/plain": [
       "COLLECTING RESULTS | :   0%|          | 0/1 [00:00<?, ?it/s]"
      ]
     },
     "metadata": {},
     "output_type": "display_data"
    },
    {
     "name": "stdout",
     "output_type": "stream",
     "text": [
      "\n",
      "Coincident S2 images: 0\n",
      "\n",
      "\n",
      "\n",
      "Granules found: 1\n",
      "[Collection: {'EntryTitle': 'ATLAS/ICESat-2 L3A Sea Ice Height V006'}\n",
      "Spatial coverage: {'HorizontalSpatialDomain': {'Orbit': {'AscendingCrossing': -118.48256195837304, 'StartLatitude': 27.0, 'StartDirection': 'A', 'EndLatitude': 27.0, 'EndDirection': 'D'}}}\n",
      "Temporal coverage: {'RangeDateTime': {'BeginningDateTime': '2021-11-23T17:31:28.037Z', 'EndingDateTime': '2021-11-23T17:42:23.596Z'}}\n",
      "Size(MB): 297.75462436676025\n",
      "Data: ['https://data.nsidc.earthdatacloud.nasa.gov/nsidc-cumulus-prod-protected/ATLAS/ATL07/006/2021/11/23/ATL07-01_20211123171314_09511301_006_01.h5']]\n",
      "Opening 1 granules, approx size: 0.29 GB\n",
      "using provider: NSIDC_CPRD\n"
     ]
    },
    {
     "data": {
      "application/vnd.jupyter.widget-view+json": {
       "model_id": "05ed387e20ea44749ba80ef23d8ada42",
       "version_major": 2,
       "version_minor": 0
      },
      "text/plain": [
       "QUEUEING TASKS | :   0%|          | 0/1 [00:00<?, ?it/s]"
      ]
     },
     "metadata": {},
     "output_type": "display_data"
    },
    {
     "data": {
      "application/vnd.jupyter.widget-view+json": {
       "model_id": "ba07db6027f84409b0790595a478a4c9",
       "version_major": 2,
       "version_minor": 0
      },
      "text/plain": [
       "PROCESSING TASKS | :   0%|          | 0/1 [00:00<?, ?it/s]"
      ]
     },
     "metadata": {},
     "output_type": "display_data"
    },
    {
     "data": {
      "application/vnd.jupyter.widget-view+json": {
       "model_id": "aec9fbb11a5342949c3198f9b667536b",
       "version_major": 2,
       "version_minor": 0
      },
      "text/plain": [
       "COLLECTING RESULTS | :   0%|          | 0/1 [00:00<?, ?it/s]"
      ]
     },
     "metadata": {},
     "output_type": "display_data"
    },
    {
     "name": "stdout",
     "output_type": "stream",
     "text": [
      "\n",
      "Coincident S2 images: 0\n",
      "\n",
      "\n",
      "\n",
      "Granules found: 1\n",
      "[Collection: {'EntryTitle': 'ATLAS/ICESat-2 L3A Sea Ice Height V006'}\n",
      "Spatial coverage: {'HorizontalSpatialDomain': {'Orbit': {'AscendingCrossing': 16.741076083510947, 'StartLatitude': 27.0, 'StartDirection': 'A', 'EndLatitude': 27.0, 'EndDirection': 'D'}}}\n",
      "Temporal coverage: {'RangeDateTime': {'BeginningDateTime': '2021-11-26T08:25:54.331Z', 'EndingDateTime': '2021-11-26T08:35:43.942Z'}}\n",
      "Size(MB): 272.64422130584717\n",
      "Data: ['https://data.nsidc.earthdatacloud.nasa.gov/nsidc-cumulus-prod-protected/ATLAS/ATL07/006/2021/11/26/ATL07-01_20211126080447_09911301_006_01.h5']]\n",
      "Opening 1 granules, approx size: 0.27 GB\n",
      "using provider: NSIDC_CPRD\n"
     ]
    },
    {
     "data": {
      "application/vnd.jupyter.widget-view+json": {
       "model_id": "036113ccece04c1e8946da75527629aa",
       "version_major": 2,
       "version_minor": 0
      },
      "text/plain": [
       "QUEUEING TASKS | :   0%|          | 0/1 [00:00<?, ?it/s]"
      ]
     },
     "metadata": {},
     "output_type": "display_data"
    },
    {
     "data": {
      "application/vnd.jupyter.widget-view+json": {
       "model_id": "4c2373abe2a3483db66d56023afe3e8a",
       "version_major": 2,
       "version_minor": 0
      },
      "text/plain": [
       "PROCESSING TASKS | :   0%|          | 0/1 [00:00<?, ?it/s]"
      ]
     },
     "metadata": {},
     "output_type": "display_data"
    },
    {
     "data": {
      "application/vnd.jupyter.widget-view+json": {
       "model_id": "621300dc367b4b75adae546d5e31e042",
       "version_major": 2,
       "version_minor": 0
      },
      "text/plain": [
       "COLLECTING RESULTS | :   0%|          | 0/1 [00:00<?, ?it/s]"
      ]
     },
     "metadata": {},
     "output_type": "display_data"
    },
    {
     "name": "stdout",
     "output_type": "stream",
     "text": [
      "\n",
      "Coincident S2 images: 0\n",
      "\n",
      "\n",
      "\n",
      "Granules found: 1\n",
      "[Collection: {'EntryTitle': 'ATLAS/ICESat-2 L3A Sea Ice Height V006'}\n",
      "Spatial coverage: {'HorizontalSpatialDomain': {'Orbit': {'AscendingCrossing': -95.64218312319433, 'StartLatitude': 27.0, 'StartDirection': 'A', 'EndLatitude': 27.0, 'EndDirection': 'D'}}}\n",
      "Temporal coverage: {'RangeDateTime': {'BeginningDateTime': '2021-11-27T15:48:26.013Z', 'EndingDateTime': '2021-11-27T15:59:21.972Z'}}\n",
      "Size(MB): 289.39156436920166\n",
      "Data: ['https://data.nsidc.earthdatacloud.nasa.gov/nsidc-cumulus-prod-protected/ATLAS/ATL07/006/2021/11/27/ATL07-01_20211127153035_10111301_006_01.h5']]\n",
      "Opening 1 granules, approx size: 0.28 GB\n",
      "using provider: NSIDC_CPRD\n"
     ]
    },
    {
     "data": {
      "application/vnd.jupyter.widget-view+json": {
       "model_id": "37528f2bb2b047299bf420c711e9290e",
       "version_major": 2,
       "version_minor": 0
      },
      "text/plain": [
       "QUEUEING TASKS | :   0%|          | 0/1 [00:00<?, ?it/s]"
      ]
     },
     "metadata": {},
     "output_type": "display_data"
    },
    {
     "data": {
      "application/vnd.jupyter.widget-view+json": {
       "model_id": "fb803fa11d8d4b0b860b3b8cfa1de838",
       "version_major": 2,
       "version_minor": 0
      },
      "text/plain": [
       "PROCESSING TASKS | :   0%|          | 0/1 [00:00<?, ?it/s]"
      ]
     },
     "metadata": {},
     "output_type": "display_data"
    },
    {
     "data": {
      "application/vnd.jupyter.widget-view+json": {
       "model_id": "a804b6c260f6407c92727aa59702fd4c",
       "version_major": 2,
       "version_minor": 0
      },
      "text/plain": [
       "COLLECTING RESULTS | :   0%|          | 0/1 [00:00<?, ?it/s]"
      ]
     },
     "metadata": {},
     "output_type": "display_data"
    },
    {
     "name": "stdout",
     "output_type": "stream",
     "text": [
      "\n",
      "Coincident S2 images: 0\n",
      "\n",
      "\n",
      "\n",
      "Granules found: 1\n",
      "[Collection: {'EntryTitle': 'ATLAS/ICESat-2 L3A Sea Ice Height V006'}\n",
      "Spatial coverage: {'HorizontalSpatialDomain': {'Orbit': {'AscendingCrossing': 39.58112711610196, 'StartLatitude': 27.0, 'StartDirection': 'A', 'EndLatitude': 27.0, 'EndDirection': 'D'}}}\n",
      "Temporal coverage: {'RangeDateTime': {'BeginningDateTime': '2021-11-30T06:40:23.389Z', 'EndingDateTime': '2021-11-30T06:50:58.836Z'}}\n",
      "Size(MB): 328.732141494751\n",
      "Data: ['https://data.nsidc.earthdatacloud.nasa.gov/nsidc-cumulus-prod-protected/ATLAS/ATL07/006/2021/11/30/ATL07-01_20211130062211_10511301_006_01.h5']]\n",
      "Opening 1 granules, approx size: 0.32 GB\n",
      "using provider: NSIDC_CPRD\n"
     ]
    },
    {
     "data": {
      "application/vnd.jupyter.widget-view+json": {
       "model_id": "a942b426499144189b019c047155c8e5",
       "version_major": 2,
       "version_minor": 0
      },
      "text/plain": [
       "QUEUEING TASKS | :   0%|          | 0/1 [00:00<?, ?it/s]"
      ]
     },
     "metadata": {},
     "output_type": "display_data"
    },
    {
     "data": {
      "application/vnd.jupyter.widget-view+json": {
       "model_id": "548407cc33994175bf20cb1010332427",
       "version_major": 2,
       "version_minor": 0
      },
      "text/plain": [
       "PROCESSING TASKS | :   0%|          | 0/1 [00:00<?, ?it/s]"
      ]
     },
     "metadata": {},
     "output_type": "display_data"
    },
    {
     "data": {
      "application/vnd.jupyter.widget-view+json": {
       "model_id": "304dffaa1c7946ad8187f177f60f05d2",
       "version_major": 2,
       "version_minor": 0
      },
      "text/plain": [
       "COLLECTING RESULTS | :   0%|          | 0/1 [00:00<?, ?it/s]"
      ]
     },
     "metadata": {},
     "output_type": "display_data"
    },
    {
     "name": "stdout",
     "output_type": "stream",
     "text": [
      "\n",
      "Coincident S2 images: 0\n",
      "\n",
      "\n",
      "\n",
      "Granules found: 1\n",
      "[Collection: {'EntryTitle': 'ATLAS/ICESat-2 L3A Sea Ice Height V006'}\n",
      "Spatial coverage: {'HorizontalSpatialDomain': {'Orbit': {'AscendingCrossing': -72.80234590937492, 'StartLatitude': 27.0, 'StartDirection': 'A', 'EndLatitude': 27.0, 'EndDirection': 'D'}}}\n",
      "Temporal coverage: {'RangeDateTime': {'BeginningDateTime': '2021-12-01T13:59:09.893Z', 'EndingDateTime': '2021-12-01T14:15:57.922Z'}}\n",
      "Size(MB): 305.6508951187134\n",
      "Data: ['https://data.nsidc.earthdatacloud.nasa.gov/nsidc-cumulus-prod-protected/ATLAS/ATL07/006/2021/12/01/ATL07-01_20211201134758_10711301_006_01.h5']]\n",
      "Opening 1 granules, approx size: 0.3 GB\n",
      "using provider: NSIDC_CPRD\n"
     ]
    },
    {
     "data": {
      "application/vnd.jupyter.widget-view+json": {
       "model_id": "1eaa3e340ec64c67a50bf147aa0f85df",
       "version_major": 2,
       "version_minor": 0
      },
      "text/plain": [
       "QUEUEING TASKS | :   0%|          | 0/1 [00:00<?, ?it/s]"
      ]
     },
     "metadata": {},
     "output_type": "display_data"
    },
    {
     "data": {
      "application/vnd.jupyter.widget-view+json": {
       "model_id": "c654c0ac538e4208bf3bbc87cdae03ae",
       "version_major": 2,
       "version_minor": 0
      },
      "text/plain": [
       "PROCESSING TASKS | :   0%|          | 0/1 [00:00<?, ?it/s]"
      ]
     },
     "metadata": {},
     "output_type": "display_data"
    },
    {
     "data": {
      "application/vnd.jupyter.widget-view+json": {
       "model_id": "7539ecbfaf074c8b9acd9668cbb15e7e",
       "version_major": 2,
       "version_minor": 0
      },
      "text/plain": [
       "COLLECTING RESULTS | :   0%|          | 0/1 [00:00<?, ?it/s]"
      ]
     },
     "metadata": {},
     "output_type": "display_data"
    },
    {
     "name": "stdout",
     "output_type": "stream",
     "text": [
      "\n",
      "Coincident S2 images: 4\n",
      "Coincident S2 image FOUND\n",
      "Done with granule.\n",
      "\n",
      "\n",
      "\n",
      "Granules found: 1\n",
      "[Collection: {'EntryTitle': 'ATLAS/ICESat-2 L3A Sea Ice Height V006'}\n",
      "Spatial coverage: {'HorizontalSpatialDomain': {'Orbit': {'AscendingCrossing': 174.8106942194328, 'StartLatitude': 27.0, 'StartDirection': 'A', 'EndLatitude': 27.0, 'EndDirection': 'D'}}}\n",
      "Temporal coverage: {'RangeDateTime': {'BeginningDateTime': '2021-12-02T21:31:56.393Z', 'EndingDateTime': '2021-12-02T21:38:46.761Z'}}\n",
      "Size(MB): 310.3912878036499\n",
      "Data: ['https://data.nsidc.earthdatacloud.nasa.gov/nsidc-cumulus-prod-protected/ATLAS/ATL07/006/2021/12/02/ATL07-01_20211202211346_10911301_006_01.h5']]\n",
      "Opening 1 granules, approx size: 0.3 GB\n",
      "using provider: NSIDC_CPRD\n"
     ]
    },
    {
     "data": {
      "application/vnd.jupyter.widget-view+json": {
       "model_id": "afde697b67d048d9955a405b1ff507f2",
       "version_major": 2,
       "version_minor": 0
      },
      "text/plain": [
       "QUEUEING TASKS | :   0%|          | 0/1 [00:00<?, ?it/s]"
      ]
     },
     "metadata": {},
     "output_type": "display_data"
    },
    {
     "data": {
      "application/vnd.jupyter.widget-view+json": {
       "model_id": "b9ac63e0a2404ab39c572c20d3d5032a",
       "version_major": 2,
       "version_minor": 0
      },
      "text/plain": [
       "PROCESSING TASKS | :   0%|          | 0/1 [00:00<?, ?it/s]"
      ]
     },
     "metadata": {},
     "output_type": "display_data"
    },
    {
     "data": {
      "application/vnd.jupyter.widget-view+json": {
       "model_id": "2ce453f3d90f466ba9eb8f426d583faf",
       "version_major": 2,
       "version_minor": 0
      },
      "text/plain": [
       "COLLECTING RESULTS | :   0%|          | 0/1 [00:00<?, ?it/s]"
      ]
     },
     "metadata": {},
     "output_type": "display_data"
    },
    {
     "name": "stdout",
     "output_type": "stream",
     "text": [
      "\n",
      "Coincident S2 images: 0\n",
      "\n",
      "\n",
      "\n",
      "Granules found: 1\n",
      "[Collection: {'EntryTitle': 'ATLAS/ICESat-2 L3A Sea Ice Height V006'}\n",
      "Spatial coverage: {'HorizontalSpatialDomain': {'Orbit': {'AscendingCrossing': -162.34785419932882, 'StartLatitude': 27.0, 'StartDirection': 'A', 'EndLatitude': 27.0, 'EndDirection': 'D'}}}\n",
      "Temporal coverage: {'RangeDateTime': {'BeginningDateTime': '2021-12-06T19:48:43.109Z', 'EndingDateTime': '2021-12-06T20:00:11.926Z'}}\n",
      "Size(MB): 194.13382053375244\n",
      "Data: ['https://data.nsidc.earthdatacloud.nasa.gov/nsidc-cumulus-prod-protected/ATLAS/ATL07/006/2021/12/06/ATL07-01_20211206193110_11511301_006_01.h5']]\n",
      "Opening 1 granules, approx size: 0.19 GB\n",
      "using provider: NSIDC_CPRD\n"
     ]
    },
    {
     "data": {
      "application/vnd.jupyter.widget-view+json": {
       "model_id": "5fd01dd13b6c4931a380d8222df65059",
       "version_major": 2,
       "version_minor": 0
      },
      "text/plain": [
       "QUEUEING TASKS | :   0%|          | 0/1 [00:00<?, ?it/s]"
      ]
     },
     "metadata": {},
     "output_type": "display_data"
    },
    {
     "data": {
      "application/vnd.jupyter.widget-view+json": {
       "model_id": "35920b3a9e634ac1837b623e03427945",
       "version_major": 2,
       "version_minor": 0
      },
      "text/plain": [
       "PROCESSING TASKS | :   0%|          | 0/1 [00:00<?, ?it/s]"
      ]
     },
     "metadata": {},
     "output_type": "display_data"
    },
    {
     "data": {
      "application/vnd.jupyter.widget-view+json": {
       "model_id": "25e4dd30538542c7a6aa28203e26f01f",
       "version_major": 2,
       "version_minor": 0
      },
      "text/plain": [
       "COLLECTING RESULTS | :   0%|          | 0/1 [00:00<?, ?it/s]"
      ]
     },
     "metadata": {},
     "output_type": "display_data"
    },
    {
     "name": "stdout",
     "output_type": "stream",
     "text": [
      "\n",
      "Coincident S2 images: 0\n",
      "\n",
      "\n",
      "\n",
      "Granules found: 1\n",
      "[Collection: {'EntryTitle': 'ATLAS/ICESat-2 L3A Sea Ice Height V006'}\n",
      "Spatial coverage: {'HorizontalSpatialDomain': {'Orbit': {'AscendingCrossing': 85.26352179718286, 'StartLatitude': 27.0, 'StartDirection': 'A', 'EndLatitude': 27.0, 'EndDirection': 'D'}}}\n",
      "Temporal coverage: {'RangeDateTime': {'BeginningDateTime': '2021-12-08T03:16:16.387Z', 'EndingDateTime': '2021-12-08T03:26:11.484Z'}}\n",
      "Size(MB): 183.5197286605835\n",
      "Data: ['https://data.nsidc.earthdatacloud.nasa.gov/nsidc-cumulus-prod-protected/ATLAS/ATL07/006/2021/12/08/ATL07-01_20211208025658_11711301_006_01.h5']]\n",
      "Opening 1 granules, approx size: 0.18 GB\n",
      "using provider: NSIDC_CPRD\n"
     ]
    },
    {
     "data": {
      "application/vnd.jupyter.widget-view+json": {
       "model_id": "e3b99b121c4b4871bae8497ed75d2fb4",
       "version_major": 2,
       "version_minor": 0
      },
      "text/plain": [
       "QUEUEING TASKS | :   0%|          | 0/1 [00:00<?, ?it/s]"
      ]
     },
     "metadata": {},
     "output_type": "display_data"
    },
    {
     "data": {
      "application/vnd.jupyter.widget-view+json": {
       "model_id": "27e7c9155f504723bd353517178889cc",
       "version_major": 2,
       "version_minor": 0
      },
      "text/plain": [
       "PROCESSING TASKS | :   0%|          | 0/1 [00:00<?, ?it/s]"
      ]
     },
     "metadata": {},
     "output_type": "display_data"
    },
    {
     "data": {
      "application/vnd.jupyter.widget-view+json": {
       "model_id": "a9a3d05d7fb74b0382711c4d450b1968",
       "version_major": 2,
       "version_minor": 0
      },
      "text/plain": [
       "COLLECTING RESULTS | :   0%|          | 0/1 [00:00<?, ?it/s]"
      ]
     },
     "metadata": {},
     "output_type": "display_data"
    },
    {
     "name": "stdout",
     "output_type": "stream",
     "text": [
      "\n",
      "Coincident S2 images: 0\n",
      "\n",
      "\n",
      "\n",
      "Granules found: 1\n",
      "[Collection: {'EntryTitle': 'ATLAS/ICESat-2 L3A Sea Ice Height V006'}\n",
      "Spatial coverage: {'HorizontalSpatialDomain': {'Orbit': {'AscendingCrossing': -4.281509881785643, 'StartLatitude': 27.0, 'StartDirection': 'A', 'EndLatitude': 27.0, 'EndDirection': 'D'}}}\n",
      "Temporal coverage: {'RangeDateTime': {'BeginningDateTime': '2021-12-13T08:59:59.689Z', 'EndingDateTime': '2021-12-13T09:06:50.316Z'}}\n",
      "Size(MB): 240.4761028289795\n",
      "Data: ['https://data.nsidc.earthdatacloud.nasa.gov/nsidc-cumulus-prod-protected/ATLAS/ATL07/006/2021/12/13/ATL07-01_20211213084009_12511301_006_01.h5']]\n",
      "Opening 1 granules, approx size: 0.23 GB\n",
      "using provider: NSIDC_CPRD\n"
     ]
    },
    {
     "data": {
      "application/vnd.jupyter.widget-view+json": {
       "model_id": "9d53b75b470a42d1ba97aec9d4cc3b23",
       "version_major": 2,
       "version_minor": 0
      },
      "text/plain": [
       "QUEUEING TASKS | :   0%|          | 0/1 [00:00<?, ?it/s]"
      ]
     },
     "metadata": {},
     "output_type": "display_data"
    },
    {
     "data": {
      "application/vnd.jupyter.widget-view+json": {
       "model_id": "02a88eba99e447c3983334d1d9495b81",
       "version_major": 2,
       "version_minor": 0
      },
      "text/plain": [
       "PROCESSING TASKS | :   0%|          | 0/1 [00:00<?, ?it/s]"
      ]
     },
     "metadata": {},
     "output_type": "display_data"
    },
    {
     "data": {
      "application/vnd.jupyter.widget-view+json": {
       "model_id": "758dfc9c057741729f65146abd74d6af",
       "version_major": 2,
       "version_minor": 0
      },
      "text/plain": [
       "COLLECTING RESULTS | :   0%|          | 0/1 [00:00<?, ?it/s]"
      ]
     },
     "metadata": {},
     "output_type": "display_data"
    },
    {
     "name": "stdout",
     "output_type": "stream",
     "text": [
      "\n",
      "Coincident S2 images: 0\n",
      "\n",
      "\n",
      "\n",
      "Granules found: 1\n",
      "[Collection: {'EntryTitle': 'ATLAS/ICESat-2 L3A Sea Ice Height V006'}\n",
      "Spatial coverage: {'HorizontalSpatialDomain': {'Orbit': {'AscendingCrossing': -116.6656972581387, 'StartLatitude': 27.0, 'StartDirection': 'A', 'EndLatitude': 27.0, 'EndDirection': 'D'}}}\n",
      "Temporal coverage: {'RangeDateTime': {'BeginningDateTime': '2021-12-14T16:24:09.778Z', 'EndingDateTime': '2021-12-14T16:34:09.124Z'}}\n",
      "Size(MB): 504.2579822540283\n",
      "Data: ['https://data.nsidc.earthdatacloud.nasa.gov/nsidc-cumulus-prod-protected/ATLAS/ATL07/006/2021/12/14/ATL07-01_20211214160557_12711301_006_01.h5']]\n",
      "Opening 1 granules, approx size: 0.49 GB\n",
      "using provider: NSIDC_CPRD\n"
     ]
    },
    {
     "data": {
      "application/vnd.jupyter.widget-view+json": {
       "model_id": "1aec46586147413c929059f25c0e691e",
       "version_major": 2,
       "version_minor": 0
      },
      "text/plain": [
       "QUEUEING TASKS | :   0%|          | 0/1 [00:00<?, ?it/s]"
      ]
     },
     "metadata": {},
     "output_type": "display_data"
    },
    {
     "data": {
      "application/vnd.jupyter.widget-view+json": {
       "model_id": "af362a2496094753929a044d850606b5",
       "version_major": 2,
       "version_minor": 0
      },
      "text/plain": [
       "PROCESSING TASKS | :   0%|          | 0/1 [00:00<?, ?it/s]"
      ]
     },
     "metadata": {},
     "output_type": "display_data"
    },
    {
     "data": {
      "application/vnd.jupyter.widget-view+json": {
       "model_id": "36af5a54078c4f88b1acef070aac246b",
       "version_major": 2,
       "version_minor": 0
      },
      "text/plain": [
       "COLLECTING RESULTS | :   0%|          | 0/1 [00:00<?, ?it/s]"
      ]
     },
     "metadata": {},
     "output_type": "display_data"
    },
    {
     "name": "stdout",
     "output_type": "stream",
     "text": [
      "\n",
      "Coincident S2 images: 0\n",
      "\n",
      "\n",
      "\n",
      "Granules found: 1\n",
      "[Collection: {'EntryTitle': 'ATLAS/ICESat-2 L3A Sea Ice Height V006'}\n",
      "Spatial coverage: {'HorizontalSpatialDomain': {'Orbit': {'AscendingCrossing': 41.39793493166138, 'StartLatitude': 27.0, 'StartDirection': 'A', 'EndLatitude': 27.0, 'EndDirection': 'D'}}}\n",
      "Temporal coverage: {'RangeDateTime': {'BeginningDateTime': '2021-12-21T05:32:21.394Z', 'EndingDateTime': '2021-12-21T05:43:38.408Z'}}\n",
      "Size(MB): 424.6441287994385\n",
      "Data: ['https://data.nsidc.earthdatacloud.nasa.gov/nsidc-cumulus-prod-protected/ATLAS/ATL07/006/2021/12/21/ATL07-01_20211221051453_13711301_006_01.h5']]\n",
      "Opening 1 granules, approx size: 0.41 GB\n",
      "using provider: NSIDC_CPRD\n"
     ]
    },
    {
     "data": {
      "application/vnd.jupyter.widget-view+json": {
       "model_id": "9a0093331949491884a812d56c770a51",
       "version_major": 2,
       "version_minor": 0
      },
      "text/plain": [
       "QUEUEING TASKS | :   0%|          | 0/1 [00:00<?, ?it/s]"
      ]
     },
     "metadata": {},
     "output_type": "display_data"
    },
    {
     "data": {
      "application/vnd.jupyter.widget-view+json": {
       "model_id": "f72345d2e2394459a453f0f97b972e3c",
       "version_major": 2,
       "version_minor": 0
      },
      "text/plain": [
       "PROCESSING TASKS | :   0%|          | 0/1 [00:00<?, ?it/s]"
      ]
     },
     "metadata": {},
     "output_type": "display_data"
    },
    {
     "data": {
      "application/vnd.jupyter.widget-view+json": {
       "model_id": "d8c5ce454a02406aabd751718045741c",
       "version_major": 2,
       "version_minor": 0
      },
      "text/plain": [
       "COLLECTING RESULTS | :   0%|          | 0/1 [00:00<?, ?it/s]"
      ]
     },
     "metadata": {},
     "output_type": "display_data"
    },
    {
     "name": "stdout",
     "output_type": "stream",
     "text": [
      "\n",
      "Coincident S2 images: 0\n",
      "\n",
      "\n",
      "\n",
      "Granules found: 1\n",
      "[Collection: {'EntryTitle': 'ATLAS/ICESat-2 L3A Sea Ice Height V006'}\n",
      "Spatial coverage: {'HorizontalSpatialDomain': {'Orbit': {'AscendingCrossing': -160.53105507099178, 'StartLatitude': 27.0, 'StartDirection': 'A', 'EndLatitude': 27.0, 'EndDirection': 'D'}}}\n",
      "Temporal coverage: {'RangeDateTime': {'BeginningDateTime': '2021-12-27T18:40:32.359Z', 'EndingDateTime': '2021-12-27T18:51:05.620Z'}}\n",
      "Size(MB): 342.8203411102295\n",
      "Data: ['https://data.nsidc.earthdatacloud.nasa.gov/nsidc-cumulus-prod-protected/ATLAS/ATL07/006/2021/12/27/ATL07-01_20211227182351_00841401_006_01.h5']]\n",
      "Opening 1 granules, approx size: 0.33 GB\n",
      "using provider: NSIDC_CPRD\n"
     ]
    },
    {
     "data": {
      "application/vnd.jupyter.widget-view+json": {
       "model_id": "e346bbd78bf74bd191572a89d96a8ed1",
       "version_major": 2,
       "version_minor": 0
      },
      "text/plain": [
       "QUEUEING TASKS | :   0%|          | 0/1 [00:00<?, ?it/s]"
      ]
     },
     "metadata": {},
     "output_type": "display_data"
    },
    {
     "data": {
      "application/vnd.jupyter.widget-view+json": {
       "model_id": "025de9a376cb4f42bd885a85dbb328eb",
       "version_major": 2,
       "version_minor": 0
      },
      "text/plain": [
       "PROCESSING TASKS | :   0%|          | 0/1 [00:00<?, ?it/s]"
      ]
     },
     "metadata": {},
     "output_type": "display_data"
    },
    {
     "data": {
      "application/vnd.jupyter.widget-view+json": {
       "model_id": "533d4a2243134cf9b1f7dc1bfedaa294",
       "version_major": 2,
       "version_minor": 0
      },
      "text/plain": [
       "COLLECTING RESULTS | :   0%|          | 0/1 [00:00<?, ?it/s]"
      ]
     },
     "metadata": {},
     "output_type": "display_data"
    },
    {
     "name": "stdout",
     "output_type": "stream",
     "text": [
      "\n",
      "Coincident S2 images: 0\n",
      "\n",
      "\n",
      "\n",
      "Granules found: 1\n",
      "[Collection: {'EntryTitle': 'ATLAS/ICESat-2 L3A Sea Ice Height V006'}\n",
      "Spatial coverage: {'HorizontalSpatialDomain': {'Orbit': {'AscendingCrossing': 87.08022081726853, 'StartLatitude': 27.0, 'StartDirection': 'A', 'EndLatitude': 27.0, 'EndDirection': 'D'}}}\n",
      "Temporal coverage: {'RangeDateTime': {'BeginningDateTime': '2021-12-29T02:07:12.634Z', 'EndingDateTime': '2021-12-29T02:18:50.311Z'}}\n",
      "Size(MB): 281.7107973098755\n",
      "Data: ['https://data.nsidc.earthdatacloud.nasa.gov/nsidc-cumulus-prod-protected/ATLAS/ATL07/006/2021/12/29/ATL07-01_20211229014938_01041401_006_01.h5']]\n",
      "Opening 1 granules, approx size: 0.28 GB\n",
      "using provider: NSIDC_CPRD\n"
     ]
    },
    {
     "data": {
      "application/vnd.jupyter.widget-view+json": {
       "model_id": "d3a5359821b04bf1852e6d2ebd8f0b5b",
       "version_major": 2,
       "version_minor": 0
      },
      "text/plain": [
       "QUEUEING TASKS | :   0%|          | 0/1 [00:00<?, ?it/s]"
      ]
     },
     "metadata": {},
     "output_type": "display_data"
    },
    {
     "data": {
      "application/vnd.jupyter.widget-view+json": {
       "model_id": "fe2ad76184e844ffa798454d2256aa31",
       "version_major": 2,
       "version_minor": 0
      },
      "text/plain": [
       "PROCESSING TASKS | :   0%|          | 0/1 [00:00<?, ?it/s]"
      ]
     },
     "metadata": {},
     "output_type": "display_data"
    },
    {
     "data": {
      "application/vnd.jupyter.widget-view+json": {
       "model_id": "7ca62130c49146fe95c02a83b3cdb929",
       "version_major": 2,
       "version_minor": 0
      },
      "text/plain": [
       "COLLECTING RESULTS | :   0%|          | 0/1 [00:00<?, ?it/s]"
      ]
     },
     "metadata": {},
     "output_type": "display_data"
    },
    {
     "name": "stdout",
     "output_type": "stream",
     "text": [
      "\n",
      "Coincident S2 images: 0\n",
      "\n",
      "\n",
      "\n",
      "Granules found: 1\n",
      "[Collection: {'EntryTitle': 'ATLAS/ICESat-2 L3A Sea Ice Height V006'}\n",
      "Spatial coverage: {'HorizontalSpatialDomain': {'Orbit': {'AscendingCrossing': -137.69016408088314, 'StartLatitude': 27.0, 'StartDirection': 'A', 'EndLatitude': 27.0, 'EndDirection': 'D'}}}\n",
      "Temporal coverage: {'RangeDateTime': {'BeginningDateTime': '2021-12-31T16:59:34.908Z', 'EndingDateTime': '2021-12-31T17:08:02.731Z'}}\n",
      "Size(MB): 325.3501682281494\n",
      "Data: ['https://data.nsidc.earthdatacloud.nasa.gov/nsidc-cumulus-prod-protected/ATLAS/ATL07/006/2021/12/31/ATL07-01_20211231164114_01441401_006_01.h5']]\n",
      "Opening 1 granules, approx size: 0.32 GB\n",
      "using provider: NSIDC_CPRD\n"
     ]
    },
    {
     "data": {
      "application/vnd.jupyter.widget-view+json": {
       "model_id": "aa97fa46786244a0bdffbde945ed4ac1",
       "version_major": 2,
       "version_minor": 0
      },
      "text/plain": [
       "QUEUEING TASKS | :   0%|          | 0/1 [00:00<?, ?it/s]"
      ]
     },
     "metadata": {},
     "output_type": "display_data"
    },
    {
     "data": {
      "application/vnd.jupyter.widget-view+json": {
       "model_id": "3a0b0dd5b2604c639feb4272a58eb609",
       "version_major": 2,
       "version_minor": 0
      },
      "text/plain": [
       "PROCESSING TASKS | :   0%|          | 0/1 [00:00<?, ?it/s]"
      ]
     },
     "metadata": {},
     "output_type": "display_data"
    },
    {
     "data": {
      "application/vnd.jupyter.widget-view+json": {
       "model_id": "16b521380468406aaa94bde9cb45d1cd",
       "version_major": 2,
       "version_minor": 0
      },
      "text/plain": [
       "COLLECTING RESULTS | :   0%|          | 0/1 [00:00<?, ?it/s]"
      ]
     },
     "metadata": {},
     "output_type": "display_data"
    },
    {
     "name": "stdout",
     "output_type": "stream",
     "text": [
      "\n",
      "Coincident S2 images: 0\n",
      "\n",
      "\n",
      "\n",
      "Granules found: 1\n",
      "[Collection: {'EntryTitle': 'ATLAS/ICESat-2 L3A Sea Ice Height V006'}\n",
      "Spatial coverage: {'HorizontalSpatialDomain': {'Orbit': {'AscendingCrossing': 109.92257711693486, 'StartLatitude': 27.0, 'StartDirection': 'A', 'EndLatitude': 27.0, 'EndDirection': 'D'}}}\n",
      "Temporal coverage: {'RangeDateTime': {'BeginningDateTime': '2022-01-02T00:26:52.938Z', 'EndingDateTime': '2022-01-02T00:37:48.181Z'}}\n",
      "Size(MB): 270.19918727874756\n",
      "Data: ['https://data.nsidc.earthdatacloud.nasa.gov/nsidc-cumulus-prod-protected/ATLAS/ATL07/006/2022/01/02/ATL07-01_20220102000701_01641401_006_01.h5']]\n",
      "Opening 1 granules, approx size: 0.26 GB\n",
      "using provider: NSIDC_CPRD\n"
     ]
    },
    {
     "data": {
      "application/vnd.jupyter.widget-view+json": {
       "model_id": "7414282900da42d2a3e6dffac0fba680",
       "version_major": 2,
       "version_minor": 0
      },
      "text/plain": [
       "QUEUEING TASKS | :   0%|          | 0/1 [00:00<?, ?it/s]"
      ]
     },
     "metadata": {},
     "output_type": "display_data"
    },
    {
     "data": {
      "application/vnd.jupyter.widget-view+json": {
       "model_id": "575a7bdcb38a481ba044de217edb2e01",
       "version_major": 2,
       "version_minor": 0
      },
      "text/plain": [
       "PROCESSING TASKS | :   0%|          | 0/1 [00:00<?, ?it/s]"
      ]
     },
     "metadata": {},
     "output_type": "display_data"
    },
    {
     "data": {
      "application/vnd.jupyter.widget-view+json": {
       "model_id": "163a6eff0aba438b89a29fecfddecdd3",
       "version_major": 2,
       "version_minor": 0
      },
      "text/plain": [
       "COLLECTING RESULTS | :   0%|          | 0/1 [00:00<?, ?it/s]"
      ]
     },
     "metadata": {},
     "output_type": "display_data"
    },
    {
     "name": "stdout",
     "output_type": "stream",
     "text": [
      "\n",
      "Coincident S2 images: 0\n",
      "\n",
      "\n",
      "\n",
      "Granules found: 1\n",
      "[Collection: {'EntryTitle': 'ATLAS/ICESat-2 L3A Sea Ice Height V006'}\n",
      "Spatial coverage: {'HorizontalSpatialDomain': {'Orbit': {'AscendingCrossing': -2.4650257425057203, 'StartLatitude': 27.0, 'StartDirection': 'A', 'EndLatitude': 27.0, 'EndDirection': 'D'}}}\n",
      "Temporal coverage: {'RangeDateTime': {'BeginningDateTime': '2022-01-03T07:52:07.715Z', 'EndingDateTime': '2022-01-03T07:59:05.568Z'}}\n",
      "Size(MB): 181.89953804016113\n",
      "Data: ['https://data.nsidc.earthdatacloud.nasa.gov/nsidc-cumulus-prod-protected/ATLAS/ATL07/006/2022/01/03/ATL07-01_20220103073249_01841401_006_01.h5']]\n",
      "Opening 1 granules, approx size: 0.18 GB\n",
      "using provider: NSIDC_CPRD\n"
     ]
    },
    {
     "data": {
      "application/vnd.jupyter.widget-view+json": {
       "model_id": "ff693f6c69f84a17ba54355e2fa1a6bd",
       "version_major": 2,
       "version_minor": 0
      },
      "text/plain": [
       "QUEUEING TASKS | :   0%|          | 0/1 [00:00<?, ?it/s]"
      ]
     },
     "metadata": {},
     "output_type": "display_data"
    },
    {
     "data": {
      "application/vnd.jupyter.widget-view+json": {
       "model_id": "5ee5d3ada4934aafba2b4281f99b48ea",
       "version_major": 2,
       "version_minor": 0
      },
      "text/plain": [
       "PROCESSING TASKS | :   0%|          | 0/1 [00:00<?, ?it/s]"
      ]
     },
     "metadata": {},
     "output_type": "display_data"
    },
    {
     "data": {
      "application/vnd.jupyter.widget-view+json": {
       "model_id": "81117533f5724a318961a493f225c7f2",
       "version_major": 2,
       "version_minor": 0
      },
      "text/plain": [
       "COLLECTING RESULTS | :   0%|          | 0/1 [00:00<?, ?it/s]"
      ]
     },
     "metadata": {},
     "output_type": "display_data"
    },
    {
     "name": "stdout",
     "output_type": "stream",
     "text": [
      "\n",
      "Coincident S2 images: 0\n",
      "\n",
      "\n",
      "\n",
      "Granules found: 1\n",
      "[Collection: {'EntryTitle': 'ATLAS/ICESat-2 L3A Sea Ice Height V006'}\n",
      "Spatial coverage: {'HorizontalSpatialDomain': {'Orbit': {'AscendingCrossing': 132.7633861650977, 'StartLatitude': 27.0, 'StartDirection': 'A', 'EndLatitude': 27.0, 'EndDirection': 'D'}}}\n",
      "Temporal coverage: {'RangeDateTime': {'BeginningDateTime': '2022-01-05T22:43:29.039Z', 'EndingDateTime': '2022-01-05T22:54:55.981Z'}}\n",
      "Size(MB): 305.8994674682617\n",
      "Data: ['https://data.nsidc.earthdatacloud.nasa.gov/nsidc-cumulus-prod-protected/ATLAS/ATL07/006/2022/01/05/ATL07-01_20220105222422_02241401_006_01.h5']]\n",
      "Opening 1 granules, approx size: 0.3 GB\n",
      "using provider: NSIDC_CPRD\n"
     ]
    },
    {
     "data": {
      "application/vnd.jupyter.widget-view+json": {
       "model_id": "7583219798e74a1d8215678f379b72b3",
       "version_major": 2,
       "version_minor": 0
      },
      "text/plain": [
       "QUEUEING TASKS | :   0%|          | 0/1 [00:00<?, ?it/s]"
      ]
     },
     "metadata": {},
     "output_type": "display_data"
    },
    {
     "data": {
      "application/vnd.jupyter.widget-view+json": {
       "model_id": "e3dbd020212542cf9ec54740c66d8139",
       "version_major": 2,
       "version_minor": 0
      },
      "text/plain": [
       "PROCESSING TASKS | :   0%|          | 0/1 [00:00<?, ?it/s]"
      ]
     },
     "metadata": {},
     "output_type": "display_data"
    },
    {
     "data": {
      "application/vnd.jupyter.widget-view+json": {
       "model_id": "7cffced43df94fdf9fc92d4bb7825227",
       "version_major": 2,
       "version_minor": 0
      },
      "text/plain": [
       "COLLECTING RESULTS | :   0%|          | 0/1 [00:00<?, ?it/s]"
      ]
     },
     "metadata": {},
     "output_type": "display_data"
    },
    {
     "name": "stdout",
     "output_type": "stream",
     "text": [
      "\n",
      "Coincident S2 images: 0\n",
      "\n",
      "\n",
      "\n",
      "Granules found: 1\n",
      "[Collection: {'EntryTitle': 'ATLAS/ICESat-2 L3A Sea Ice Height V006'}\n",
      "Spatial coverage: {'HorizontalSpatialDomain': {'Orbit': {'AscendingCrossing': 20.37427237475652, 'StartLatitude': 27.0, 'StartDirection': 'A', 'EndLatitude': 27.0, 'EndDirection': 'D'}}}\n",
      "Temporal coverage: {'RangeDateTime': {'BeginningDateTime': '2022-01-07T06:11:20.518Z', 'EndingDateTime': '2022-01-07T06:22:09.236Z'}}\n",
      "Size(MB): 513.4228954315186\n",
      "Data: ['https://data.nsidc.earthdatacloud.nasa.gov/nsidc-cumulus-prod-protected/ATLAS/ATL07/006/2022/01/07/ATL07-01_20220107055013_02441401_006_01.h5']]\n",
      "Opening 1 granules, approx size: 0.5 GB\n",
      "using provider: NSIDC_CPRD\n"
     ]
    },
    {
     "data": {
      "application/vnd.jupyter.widget-view+json": {
       "model_id": "c0d5e8c61dcc4ef8afa1ca832976b7ee",
       "version_major": 2,
       "version_minor": 0
      },
      "text/plain": [
       "QUEUEING TASKS | :   0%|          | 0/1 [00:00<?, ?it/s]"
      ]
     },
     "metadata": {},
     "output_type": "display_data"
    },
    {
     "data": {
      "application/vnd.jupyter.widget-view+json": {
       "model_id": "26ec8cc1958a4214979350b8108306f7",
       "version_major": 2,
       "version_minor": 0
      },
      "text/plain": [
       "PROCESSING TASKS | :   0%|          | 0/1 [00:00<?, ?it/s]"
      ]
     },
     "metadata": {},
     "output_type": "display_data"
    },
    {
     "data": {
      "application/vnd.jupyter.widget-view+json": {
       "model_id": "a37d8df950dc4800a18e8f5c5f79e626",
       "version_major": 2,
       "version_minor": 0
      },
      "text/plain": [
       "COLLECTING RESULTS | :   0%|          | 0/1 [00:00<?, ?it/s]"
      ]
     },
     "metadata": {},
     "output_type": "display_data"
    },
    {
     "name": "stdout",
     "output_type": "stream",
     "text": [
      "\n",
      "Coincident S2 images: 0\n",
      "\n",
      "\n",
      "\n",
      "Granules found: 1\n",
      "[Collection: {'EntryTitle': 'ATLAS/ICESat-2 L3A Sea Ice Height V006'}\n",
      "Spatial coverage: {'HorizontalSpatialDomain': {'Orbit': {'AscendingCrossing': -92.00866695439906, 'StartLatitude': 27.0, 'StartDirection': 'A', 'EndLatitude': 27.0, 'EndDirection': 'D'}}}\n",
      "Temporal coverage: {'RangeDateTime': {'BeginningDateTime': '2022-01-08T13:33:42.068Z', 'EndingDateTime': '2022-01-08T13:43:12.885Z'}}\n",
      "Size(MB): 308.00392055511475\n",
      "Data: ['https://data.nsidc.earthdatacloud.nasa.gov/nsidc-cumulus-prod-protected/ATLAS/ATL07/006/2022/01/08/ATL07-01_20220108131601_02641401_006_01.h5']]\n",
      "Opening 1 granules, approx size: 0.3 GB\n",
      "using provider: NSIDC_CPRD\n"
     ]
    },
    {
     "data": {
      "application/vnd.jupyter.widget-view+json": {
       "model_id": "39ba3b6cd24e477da9fd92271c1dfcf7",
       "version_major": 2,
       "version_minor": 0
      },
      "text/plain": [
       "QUEUEING TASKS | :   0%|          | 0/1 [00:00<?, ?it/s]"
      ]
     },
     "metadata": {},
     "output_type": "display_data"
    },
    {
     "data": {
      "application/vnd.jupyter.widget-view+json": {
       "model_id": "38d4c99b4376485c805919c54b464daa",
       "version_major": 2,
       "version_minor": 0
      },
      "text/plain": [
       "PROCESSING TASKS | :   0%|          | 0/1 [00:00<?, ?it/s]"
      ]
     },
     "metadata": {},
     "output_type": "display_data"
    },
    {
     "data": {
      "application/vnd.jupyter.widget-view+json": {
       "model_id": "2c37bf3545514db38f0e207d7f46f3d9",
       "version_major": 2,
       "version_minor": 0
      },
      "text/plain": [
       "COLLECTING RESULTS | :   0%|          | 0/1 [00:00<?, ?it/s]"
      ]
     },
     "metadata": {},
     "output_type": "display_data"
    },
    {
     "name": "stdout",
     "output_type": "stream",
     "text": [
      "\n",
      "Coincident S2 images: 0\n",
      "\n",
      "\n",
      "\n",
      "Granules found: 1\n",
      "[Collection: {'EntryTitle': 'ATLAS/ICESat-2 L3A Sea Ice Height V006'}\n",
      "Spatial coverage: {'HorizontalSpatialDomain': {'Orbit': {'AscendingCrossing': 43.21446009550329, 'StartLatitude': 27.0, 'StartDirection': 'A', 'EndLatitude': 27.0, 'EndDirection': 'D'}}}\n",
      "Temporal coverage: {'RangeDateTime': {'BeginningDateTime': '2022-01-11T04:24:26.918Z', 'EndingDateTime': '2022-01-11T04:36:34.470Z'}}\n",
      "Size(MB): 240.44568061828613\n",
      "Data: ['https://data.nsidc.earthdatacloud.nasa.gov/nsidc-cumulus-prod-protected/ATLAS/ATL07/006/2022/01/11/ATL07-01_20220111040736_03041401_006_01.h5']]\n",
      "Opening 1 granules, approx size: 0.23 GB\n",
      "using provider: NSIDC_CPRD\n"
     ]
    },
    {
     "data": {
      "application/vnd.jupyter.widget-view+json": {
       "model_id": "28b5290250a04f9593bc01ba8c1b52b9",
       "version_major": 2,
       "version_minor": 0
      },
      "text/plain": [
       "QUEUEING TASKS | :   0%|          | 0/1 [00:00<?, ?it/s]"
      ]
     },
     "metadata": {},
     "output_type": "display_data"
    },
    {
     "data": {
      "application/vnd.jupyter.widget-view+json": {
       "model_id": "644d77b14c80486ca41b9821159b2935",
       "version_major": 2,
       "version_minor": 0
      },
      "text/plain": [
       "PROCESSING TASKS | :   0%|          | 0/1 [00:00<?, ?it/s]"
      ]
     },
     "metadata": {},
     "output_type": "display_data"
    },
    {
     "data": {
      "application/vnd.jupyter.widget-view+json": {
       "model_id": "9516151ca0bc484c8daf565993c13a79",
       "version_major": 2,
       "version_minor": 0
      },
      "text/plain": [
       "COLLECTING RESULTS | :   0%|          | 0/1 [00:00<?, ?it/s]"
      ]
     },
     "metadata": {},
     "output_type": "display_data"
    },
    {
     "name": "stdout",
     "output_type": "stream",
     "text": [
      "\n",
      "Coincident S2 images: 0\n",
      "\n",
      "\n",
      "\n",
      "Granules found: 1\n",
      "[Collection: {'EntryTitle': 'ATLAS/ICESat-2 L3A Sea Ice Height V006'}\n",
      "Spatial coverage: {'HorizontalSpatialDomain': {'Orbit': {'AscendingCrossing': -69.16877345029691, 'StartLatitude': 27.0, 'StartDirection': 'A', 'EndLatitude': 27.0, 'EndDirection': 'D'}}}\n",
      "Temporal coverage: {'RangeDateTime': {'BeginningDateTime': '2022-01-12T11:49:43.777Z', 'EndingDateTime': '2022-01-12T12:01:12.022Z'}}\n",
      "Size(MB): 325.9285182952881\n",
      "Data: ['https://data.nsidc.earthdatacloud.nasa.gov/nsidc-cumulus-prod-protected/ATLAS/ATL07/006/2022/01/12/ATL07-01_20220112113324_03241401_006_01.h5']]\n",
      "Opening 1 granules, approx size: 0.32 GB\n",
      "using provider: NSIDC_CPRD\n"
     ]
    },
    {
     "data": {
      "application/vnd.jupyter.widget-view+json": {
       "model_id": "0a62149a983d4e2a8b45444c49ac4b07",
       "version_major": 2,
       "version_minor": 0
      },
      "text/plain": [
       "QUEUEING TASKS | :   0%|          | 0/1 [00:00<?, ?it/s]"
      ]
     },
     "metadata": {},
     "output_type": "display_data"
    },
    {
     "data": {
      "application/vnd.jupyter.widget-view+json": {
       "model_id": "17b960528f764e0a89107fb5c31cba37",
       "version_major": 2,
       "version_minor": 0
      },
      "text/plain": [
       "PROCESSING TASKS | :   0%|          | 0/1 [00:00<?, ?it/s]"
      ]
     },
     "metadata": {},
     "output_type": "display_data"
    },
    {
     "data": {
      "application/vnd.jupyter.widget-view+json": {
       "model_id": "5e36327d2bdc46edbed1039290129daa",
       "version_major": 2,
       "version_minor": 0
      },
      "text/plain": [
       "COLLECTING RESULTS | :   0%|          | 0/1 [00:00<?, ?it/s]"
      ]
     },
     "metadata": {},
     "output_type": "display_data"
    },
    {
     "name": "stdout",
     "output_type": "stream",
     "text": [
      "\n",
      "Coincident S2 images: 0\n",
      "\n",
      "\n",
      "\n",
      "Granules found: 1\n",
      "[Collection: {'EntryTitle': 'ATLAS/ICESat-2 L3A Sea Ice Height V006'}\n",
      "Spatial coverage: {'HorizontalSpatialDomain': {'Orbit': {'AscendingCrossing': 66.05536448643825, 'StartLatitude': 27.0, 'StartDirection': 'A', 'EndLatitude': 27.0, 'EndDirection': 'D'}}}\n",
      "Temporal coverage: {'RangeDateTime': {'BeginningDateTime': '2022-01-15T02:42:55.596Z', 'EndingDateTime': '2022-01-15T02:54:05.035Z'}}\n",
      "Size(MB): 316.01069259643555\n",
      "Data: ['https://data.nsidc.earthdatacloud.nasa.gov/nsidc-cumulus-prod-protected/ATLAS/ATL07/006/2022/01/15/ATL07-01_20220115022500_03641401_006_01.h5']]\n",
      "Opening 1 granules, approx size: 0.31 GB\n",
      "using provider: NSIDC_CPRD\n"
     ]
    },
    {
     "data": {
      "application/vnd.jupyter.widget-view+json": {
       "model_id": "d76c1b987f214036aaca90667f8bf2c9",
       "version_major": 2,
       "version_minor": 0
      },
      "text/plain": [
       "QUEUEING TASKS | :   0%|          | 0/1 [00:00<?, ?it/s]"
      ]
     },
     "metadata": {},
     "output_type": "display_data"
    },
    {
     "data": {
      "application/vnd.jupyter.widget-view+json": {
       "model_id": "4e140d654c6547eaa9a994ad13b0fe2e",
       "version_major": 2,
       "version_minor": 0
      },
      "text/plain": [
       "PROCESSING TASKS | :   0%|          | 0/1 [00:00<?, ?it/s]"
      ]
     },
     "metadata": {},
     "output_type": "display_data"
    },
    {
     "data": {
      "application/vnd.jupyter.widget-view+json": {
       "model_id": "238393ab84ab433eb02003fa09f984d7",
       "version_major": 2,
       "version_minor": 0
      },
      "text/plain": [
       "COLLECTING RESULTS | :   0%|          | 0/1 [00:00<?, ?it/s]"
      ]
     },
     "metadata": {},
     "output_type": "display_data"
    },
    {
     "name": "stdout",
     "output_type": "stream",
     "text": [
      "\n",
      "Coincident S2 images: 0\n",
      "\n",
      "\n",
      "\n",
      "Granules found: 1\n",
      "[Collection: {'EntryTitle': 'ATLAS/ICESat-2 L3A Sea Ice Height V006'}\n",
      "Spatial coverage: {'HorizontalSpatialDomain': {'Orbit': {'AscendingCrossing': -46.32830391122762, 'StartLatitude': 27.0, 'StartDirection': 'A', 'EndLatitude': 27.0, 'EndDirection': 'D'}}}\n",
      "Temporal coverage: {'RangeDateTime': {'BeginningDateTime': '2022-01-16T10:09:06.066Z', 'EndingDateTime': '2022-01-16T10:19:16.697Z'}}\n",
      "Size(MB): 432.78134536743164\n",
      "Data: ['https://data.nsidc.earthdatacloud.nasa.gov/nsidc-cumulus-prod-protected/ATLAS/ATL07/006/2022/01/16/ATL07-01_20220116095048_03841401_006_01.h5']]\n",
      "Opening 1 granules, approx size: 0.42 GB\n",
      "using provider: NSIDC_CPRD\n"
     ]
    },
    {
     "data": {
      "application/vnd.jupyter.widget-view+json": {
       "model_id": "573fbcb251ff4eb3ba289c7df4622811",
       "version_major": 2,
       "version_minor": 0
      },
      "text/plain": [
       "QUEUEING TASKS | :   0%|          | 0/1 [00:00<?, ?it/s]"
      ]
     },
     "metadata": {},
     "output_type": "display_data"
    },
    {
     "data": {
      "application/vnd.jupyter.widget-view+json": {
       "model_id": "0eecbce74c1e43639481deae8edc7015",
       "version_major": 2,
       "version_minor": 0
      },
      "text/plain": [
       "PROCESSING TASKS | :   0%|          | 0/1 [00:00<?, ?it/s]"
      ]
     },
     "metadata": {},
     "output_type": "display_data"
    },
    {
     "data": {
      "application/vnd.jupyter.widget-view+json": {
       "model_id": "a997130a39cc45498e14a2d245d40aa4",
       "version_major": 2,
       "version_minor": 0
      },
      "text/plain": [
       "COLLECTING RESULTS | :   0%|          | 0/1 [00:00<?, ?it/s]"
      ]
     },
     "metadata": {},
     "output_type": "display_data"
    },
    {
     "name": "stdout",
     "output_type": "stream",
     "text": [
      "\n",
      "Coincident S2 images: 0\n",
      "\n",
      "\n",
      "\n",
      "Granules found: 1\n",
      "[Collection: {'EntryTitle': 'ATLAS/ICESat-2 L3A Sea Ice Height V006'}\n",
      "Spatial coverage: {'HorizontalSpatialDomain': {'Orbit': {'AscendingCrossing': -158.71397581922898, 'StartLatitude': 27.0, 'StartDirection': 'A', 'EndLatitude': 27.0, 'EndDirection': 'D'}}}\n",
      "Temporal coverage: {'RangeDateTime': {'BeginningDateTime': '2022-01-17T17:32:04.415Z', 'EndingDateTime': '2022-01-17T17:48:31.397Z'}}\n",
      "Size(MB): 358.01323795318604\n",
      "Data: ['https://data.nsidc.earthdatacloud.nasa.gov/nsidc-cumulus-prod-protected/ATLAS/ATL07/006/2022/01/17/ATL07-01_20220117171635_04041401_006_01.h5']]\n",
      "Opening 1 granules, approx size: 0.35 GB\n",
      "using provider: NSIDC_CPRD\n"
     ]
    },
    {
     "data": {
      "application/vnd.jupyter.widget-view+json": {
       "model_id": "6dc5902b804d4114946903c9532d6089",
       "version_major": 2,
       "version_minor": 0
      },
      "text/plain": [
       "QUEUEING TASKS | :   0%|          | 0/1 [00:00<?, ?it/s]"
      ]
     },
     "metadata": {},
     "output_type": "display_data"
    },
    {
     "data": {
      "application/vnd.jupyter.widget-view+json": {
       "model_id": "316b325771844640826fb3d63fc28d8e",
       "version_major": 2,
       "version_minor": 0
      },
      "text/plain": [
       "PROCESSING TASKS | :   0%|          | 0/1 [00:00<?, ?it/s]"
      ]
     },
     "metadata": {},
     "output_type": "display_data"
    },
    {
     "data": {
      "application/vnd.jupyter.widget-view+json": {
       "model_id": "4b94e703fd1f4307bd570fd17277eefd",
       "version_major": 2,
       "version_minor": 0
      },
      "text/plain": [
       "COLLECTING RESULTS | :   0%|          | 0/1 [00:00<?, ?it/s]"
      ]
     },
     "metadata": {},
     "output_type": "display_data"
    },
    {
     "name": "stdout",
     "output_type": "stream",
     "text": [
      "\n",
      "Coincident S2 images: 0\n",
      "\n",
      "\n",
      "\n",
      "Granules found: 1\n",
      "[Collection: {'EntryTitle': 'ATLAS/ICESat-2 L3A Sea Ice Height V006'}\n",
      "Spatial coverage: {'HorizontalSpatialDomain': {'Orbit': {'AscendingCrossing': -135.8730524728088, 'StartLatitude': 27.0, 'StartDirection': 'A', 'EndLatitude': 27.0, 'EndDirection': 'D'}}}\n",
      "Temporal coverage: {'RangeDateTime': {'BeginningDateTime': '2022-01-21T15:52:16.133Z', 'EndingDateTime': '2022-01-21T16:03:43.386Z'}}\n",
      "Size(MB): 388.17865562438965\n",
      "Data: ['https://data.nsidc.earthdatacloud.nasa.gov/nsidc-cumulus-prod-protected/ATLAS/ATL07/006/2022/01/21/ATL07-01_20220121153357_04641401_006_01.h5']]\n",
      "Opening 1 granules, approx size: 0.38 GB\n",
      "using provider: NSIDC_CPRD\n"
     ]
    },
    {
     "data": {
      "application/vnd.jupyter.widget-view+json": {
       "model_id": "6bc02e32d4a64540be65d56ad8cdcc2d",
       "version_major": 2,
       "version_minor": 0
      },
      "text/plain": [
       "QUEUEING TASKS | :   0%|          | 0/1 [00:00<?, ?it/s]"
      ]
     },
     "metadata": {},
     "output_type": "display_data"
    },
    {
     "data": {
      "application/vnd.jupyter.widget-view+json": {
       "model_id": "6829687ecb434b9792aed033a708b2ed",
       "version_major": 2,
       "version_minor": 0
      },
      "text/plain": [
       "PROCESSING TASKS | :   0%|          | 0/1 [00:00<?, ?it/s]"
      ]
     },
     "metadata": {},
     "output_type": "display_data"
    },
    {
     "data": {
      "application/vnd.jupyter.widget-view+json": {
       "model_id": "0e09a34bc7444cb9ac17c438b88b3ba1",
       "version_major": 2,
       "version_minor": 0
      },
      "text/plain": [
       "COLLECTING RESULTS | :   0%|          | 0/1 [00:00<?, ?it/s]"
      ]
     },
     "metadata": {},
     "output_type": "display_data"
    },
    {
     "name": "stdout",
     "output_type": "stream",
     "text": [
      "\n",
      "Coincident S2 images: 0\n",
      "\n",
      "\n",
      "\n",
      "Granules found: 1\n",
      "[Collection: {'EntryTitle': 'ATLAS/ICESat-2 L3A Sea Ice Height V006'}\n",
      "Spatial coverage: {'HorizontalSpatialDomain': {'Orbit': {'AscendingCrossing': 22.191143117261607, 'StartLatitude': 27.0, 'StartDirection': 'A', 'EndLatitude': 27.0, 'EndDirection': 'D'}}}\n",
      "Temporal coverage: {'RangeDateTime': {'BeginningDateTime': '2022-01-28T05:04:01.959Z', 'EndingDateTime': '2022-01-28T05:14:50.567Z'}}\n",
      "Size(MB): 363.1428575515747\n",
      "Data: ['https://data.nsidc.earthdatacloud.nasa.gov/nsidc-cumulus-prod-protected/ATLAS/ATL07/006/2022/01/28/ATL07-01_20220128044255_05641401_006_01.h5']]\n",
      "Opening 1 granules, approx size: 0.35 GB\n",
      "using provider: NSIDC_CPRD\n"
     ]
    },
    {
     "data": {
      "application/vnd.jupyter.widget-view+json": {
       "model_id": "7396f1bcd4934d8e84edc58d551cb6eb",
       "version_major": 2,
       "version_minor": 0
      },
      "text/plain": [
       "QUEUEING TASKS | :   0%|          | 0/1 [00:00<?, ?it/s]"
      ]
     },
     "metadata": {},
     "output_type": "display_data"
    },
    {
     "data": {
      "application/vnd.jupyter.widget-view+json": {
       "model_id": "2862ef62e5ef44c889542f2b3efcef9c",
       "version_major": 2,
       "version_minor": 0
      },
      "text/plain": [
       "PROCESSING TASKS | :   0%|          | 0/1 [00:00<?, ?it/s]"
      ]
     },
     "metadata": {},
     "output_type": "display_data"
    },
    {
     "data": {
      "application/vnd.jupyter.widget-view+json": {
       "model_id": "a43c139c68924a71bf7f86fb0dfcc4c3",
       "version_major": 2,
       "version_minor": 0
      },
      "text/plain": [
       "COLLECTING RESULTS | :   0%|          | 0/1 [00:00<?, ?it/s]"
      ]
     },
     "metadata": {},
     "output_type": "display_data"
    },
    {
     "name": "stdout",
     "output_type": "stream",
     "text": [
      "\n",
      "Coincident S2 images: 0\n",
      "\n",
      "\n",
      "\n",
      "Granules found: 1\n",
      "[Collection: {'EntryTitle': 'ATLAS/ICESat-2 L3A Sea Ice Height V006'}\n",
      "Spatial coverage: {'HorizontalSpatialDomain': {'Orbit': {'AscendingCrossing': 45.03123239555994, 'StartLatitude': 27.0, 'StartDirection': 'A', 'EndLatitude': 27.0, 'EndDirection': 'D'}}}\n",
      "Temporal coverage: {'RangeDateTime': {'BeginningDateTime': '2022-02-01T03:17:27.110Z', 'EndingDateTime': '2022-02-01T03:29:20.696Z'}}\n",
      "Size(MB): 365.0886478424072\n",
      "Data: ['https://data.nsidc.earthdatacloud.nasa.gov/nsidc-cumulus-prod-protected/ATLAS/ATL07/006/2022/02/01/ATL07-01_20220201030018_06241401_006_01.h5']]\n",
      "Opening 1 granules, approx size: 0.36 GB\n",
      "using provider: NSIDC_CPRD\n"
     ]
    },
    {
     "data": {
      "application/vnd.jupyter.widget-view+json": {
       "model_id": "0ed09e4c286a4f228d9a363ea73d8163",
       "version_major": 2,
       "version_minor": 0
      },
      "text/plain": [
       "QUEUEING TASKS | :   0%|          | 0/1 [00:00<?, ?it/s]"
      ]
     },
     "metadata": {},
     "output_type": "display_data"
    },
    {
     "data": {
      "application/vnd.jupyter.widget-view+json": {
       "model_id": "cfef662b5c5d4581914431b47f3d7a60",
       "version_major": 2,
       "version_minor": 0
      },
      "text/plain": [
       "PROCESSING TASKS | :   0%|          | 0/1 [00:00<?, ?it/s]"
      ]
     },
     "metadata": {},
     "output_type": "display_data"
    },
    {
     "data": {
      "application/vnd.jupyter.widget-view+json": {
       "model_id": "b1e263a744df4d88a56b94f020f9ebca",
       "version_major": 2,
       "version_minor": 0
      },
      "text/plain": [
       "COLLECTING RESULTS | :   0%|          | 0/1 [00:00<?, ?it/s]"
      ]
     },
     "metadata": {},
     "output_type": "display_data"
    },
    {
     "name": "stdout",
     "output_type": "stream",
     "text": [
      "\n",
      "Coincident S2 images: 0\n",
      "\n",
      "\n",
      "\n",
      "Granules found: 1\n",
      "[Collection: {'EntryTitle': 'ATLAS/ICESat-2 L3A Sea Ice Height V006'}\n",
      "Spatial coverage: {'HorizontalSpatialDomain': {'Orbit': {'AscendingCrossing': -67.35195346972937, 'StartLatitude': 27.0, 'StartDirection': 'A', 'EndLatitude': 27.0, 'EndDirection': 'D'}}}\n",
      "Temporal coverage: {'RangeDateTime': {'BeginningDateTime': '2022-02-02T10:42:20.370Z', 'EndingDateTime': '2022-02-02T10:53:51.617Z'}}\n",
      "Size(MB): 260.1442070007324\n",
      "Data: ['https://data.nsidc.earthdatacloud.nasa.gov/nsidc-cumulus-prod-protected/ATLAS/ATL07/006/2022/02/02/ATL07-01_20220202102604_06441401_006_01.h5']]\n",
      "Opening 1 granules, approx size: 0.25 GB\n",
      "using provider: NSIDC_CPRD\n"
     ]
    },
    {
     "data": {
      "application/vnd.jupyter.widget-view+json": {
       "model_id": "dba4cce18bd24ce487eeb03da3d7530a",
       "version_major": 2,
       "version_minor": 0
      },
      "text/plain": [
       "QUEUEING TASKS | :   0%|          | 0/1 [00:00<?, ?it/s]"
      ]
     },
     "metadata": {},
     "output_type": "display_data"
    },
    {
     "data": {
      "application/vnd.jupyter.widget-view+json": {
       "model_id": "5b2dc14f090e4d14a4eaabb3e8e3da94",
       "version_major": 2,
       "version_minor": 0
      },
      "text/plain": [
       "PROCESSING TASKS | :   0%|          | 0/1 [00:00<?, ?it/s]"
      ]
     },
     "metadata": {},
     "output_type": "display_data"
    },
    {
     "data": {
      "application/vnd.jupyter.widget-view+json": {
       "model_id": "4d2898a3a9274563a4ea89ddc4abc093",
       "version_major": 2,
       "version_minor": 0
      },
      "text/plain": [
       "COLLECTING RESULTS | :   0%|          | 0/1 [00:00<?, ?it/s]"
      ]
     },
     "metadata": {},
     "output_type": "display_data"
    },
    {
     "name": "stdout",
     "output_type": "stream",
     "text": [
      "\n",
      "Coincident S2 images: 0\n",
      "\n",
      "\n",
      "\n",
      "Granules found: 1\n",
      "[Collection: {'EntryTitle': 'ATLAS/ICESat-2 L3A Sea Ice Height V006'}\n",
      "Spatial coverage: {'HorizontalSpatialDomain': {'Orbit': {'AscendingCrossing': -179.73865046177644, 'StartLatitude': 27.0, 'StartDirection': 'A', 'EndLatitude': 27.0, 'EndDirection': 'D'}}}\n",
      "Temporal coverage: {'RangeDateTime': {'BeginningDateTime': '2022-02-03T18:07:48.872Z', 'EndingDateTime': '2022-02-03T18:17:32.702Z'}}\n",
      "Size(MB): 261.19581031799316\n",
      "Data: ['https://data.nsidc.earthdatacloud.nasa.gov/nsidc-cumulus-prod-protected/ATLAS/ATL07/006/2022/02/03/ATL07-01_20220203175152_06641401_006_01.h5']]\n",
      "Opening 1 granules, approx size: 0.26 GB\n",
      "using provider: NSIDC_CPRD\n"
     ]
    },
    {
     "data": {
      "application/vnd.jupyter.widget-view+json": {
       "model_id": "9fb98a5c4db24a3988c651307aa9dd40",
       "version_major": 2,
       "version_minor": 0
      },
      "text/plain": [
       "QUEUEING TASKS | :   0%|          | 0/1 [00:00<?, ?it/s]"
      ]
     },
     "metadata": {},
     "output_type": "display_data"
    },
    {
     "data": {
      "application/vnd.jupyter.widget-view+json": {
       "model_id": "894359316d8d48eaa9f7ecd3c3721125",
       "version_major": 2,
       "version_minor": 0
      },
      "text/plain": [
       "PROCESSING TASKS | :   0%|          | 0/1 [00:00<?, ?it/s]"
      ]
     },
     "metadata": {},
     "output_type": "display_data"
    },
    {
     "data": {
      "application/vnd.jupyter.widget-view+json": {
       "model_id": "6730c7ab983f4fa0a44e54066510c6eb",
       "version_major": 2,
       "version_minor": 0
      },
      "text/plain": [
       "COLLECTING RESULTS | :   0%|          | 0/1 [00:00<?, ?it/s]"
      ]
     },
     "metadata": {},
     "output_type": "display_data"
    },
    {
     "name": "stdout",
     "output_type": "stream",
     "text": [
      "\n",
      "Coincident S2 images: 0\n",
      "\n",
      "\n",
      "\n",
      "Granules found: 1\n",
      "[Collection: {'EntryTitle': 'ATLAS/ICESat-2 L3A Sea Ice Height V006'}\n",
      "Spatial coverage: {'HorizontalSpatialDomain': {'Orbit': {'AscendingCrossing': -156.89709457859874, 'StartLatitude': 27.0, 'StartDirection': 'A', 'EndLatitude': 27.0, 'EndDirection': 'D'}}}\n",
      "Temporal coverage: {'RangeDateTime': {'BeginningDateTime': '2022-02-07T16:24:15.633Z', 'EndingDateTime': '2022-02-07T16:36:28.648Z'}}\n",
      "Size(MB): 320.4407615661621\n",
      "Data: ['https://data.nsidc.earthdatacloud.nasa.gov/nsidc-cumulus-prod-protected/ATLAS/ATL07/006/2022/02/07/ATL07-01_20220207160915_07241401_006_01.h5']]\n",
      "Opening 1 granules, approx size: 0.31 GB\n",
      "using provider: NSIDC_CPRD\n"
     ]
    },
    {
     "data": {
      "application/vnd.jupyter.widget-view+json": {
       "model_id": "ffdad3d71e304ec2b3a80866cd99b840",
       "version_major": 2,
       "version_minor": 0
      },
      "text/plain": [
       "QUEUEING TASKS | :   0%|          | 0/1 [00:00<?, ?it/s]"
      ]
     },
     "metadata": {},
     "output_type": "display_data"
    },
    {
     "data": {
      "application/vnd.jupyter.widget-view+json": {
       "model_id": "8825e51c9d274a69ac6effded2ad15e5",
       "version_major": 2,
       "version_minor": 0
      },
      "text/plain": [
       "PROCESSING TASKS | :   0%|          | 0/1 [00:00<?, ?it/s]"
      ]
     },
     "metadata": {},
     "output_type": "display_data"
    },
    {
     "data": {
      "application/vnd.jupyter.widget-view+json": {
       "model_id": "d711fe54be76468c87a6dfab31fa18c4",
       "version_major": 2,
       "version_minor": 0
      },
      "text/plain": [
       "COLLECTING RESULTS | :   0%|          | 0/1 [00:00<?, ?it/s]"
      ]
     },
     "metadata": {},
     "output_type": "display_data"
    },
    {
     "name": "stdout",
     "output_type": "stream",
     "text": [
      "\n",
      "Coincident S2 images: 0\n",
      "\n",
      "\n",
      "\n",
      "Granules found: 1\n",
      "[Collection: {'EntryTitle': 'ATLAS/ICESat-2 L3A Sea Ice Height V006'}\n",
      "Spatial coverage: {'HorizontalSpatialDomain': {'Orbit': {'AscendingCrossing': -21.67086288816141, 'StartLatitude': 27.0, 'StartDirection': 'A', 'EndLatitude': 27.0, 'EndDirection': 'D'}}}\n",
      "Temporal coverage: {'RangeDateTime': {'BeginningDateTime': '2022-02-10T07:18:15.812Z', 'EndingDateTime': '2022-02-10T07:29:19.834Z'}}\n",
      "Size(MB): 292.14659309387207\n",
      "Data: ['https://data.nsidc.earthdatacloud.nasa.gov/nsidc-cumulus-prod-protected/ATLAS/ATL07/006/2022/02/10/ATL07-01_20220210070049_07641401_006_01.h5']]\n",
      "Opening 1 granules, approx size: 0.29 GB\n",
      "using provider: NSIDC_CPRD\n"
     ]
    },
    {
     "data": {
      "application/vnd.jupyter.widget-view+json": {
       "model_id": "cbf5e0008e19496984fb4bae6bb0535a",
       "version_major": 2,
       "version_minor": 0
      },
      "text/plain": [
       "QUEUEING TASKS | :   0%|          | 0/1 [00:00<?, ?it/s]"
      ]
     },
     "metadata": {},
     "output_type": "display_data"
    },
    {
     "data": {
      "application/vnd.jupyter.widget-view+json": {
       "model_id": "43fd2533133c47e5b5f58f2b1b4fec25",
       "version_major": 2,
       "version_minor": 0
      },
      "text/plain": [
       "PROCESSING TASKS | :   0%|          | 0/1 [00:00<?, ?it/s]"
      ]
     },
     "metadata": {},
     "output_type": "display_data"
    },
    {
     "data": {
      "application/vnd.jupyter.widget-view+json": {
       "model_id": "94180194df9542d78af713a554036104",
       "version_major": 2,
       "version_minor": 0
      },
      "text/plain": [
       "COLLECTING RESULTS | :   0%|          | 0/1 [00:00<?, ?it/s]"
      ]
     },
     "metadata": {},
     "output_type": "display_data"
    },
    {
     "name": "stdout",
     "output_type": "stream",
     "text": [
      "\n",
      "Coincident S2 images: 0\n",
      "\n",
      "\n",
      "\n",
      "Granules found: 1\n",
      "[Collection: {'EntryTitle': 'ATLAS/ICESat-2 L3A Sea Ice Height V006'}\n",
      "Spatial coverage: {'HorizontalSpatialDomain': {'Orbit': {'AscendingCrossing': 46.84824699500504, 'StartLatitude': 27.0, 'StartDirection': 'A', 'EndLatitude': 27.0, 'EndDirection': 'D'}}}\n",
      "Temporal coverage: {'RangeDateTime': {'BeginningDateTime': '2022-02-22T02:13:15.602Z', 'EndingDateTime': '2022-02-22T02:21:59.756Z'}}\n",
      "Size(MB): 332.28748416900635\n",
      "Data: ['https://data.nsidc.earthdatacloud.nasa.gov/nsidc-cumulus-prod-protected/ATLAS/ATL07/006/2022/02/22/ATL07-01_20220222015302_09441401_006_01.h5']]\n",
      "Opening 1 granules, approx size: 0.32 GB\n",
      "using provider: NSIDC_CPRD\n"
     ]
    },
    {
     "data": {
      "application/vnd.jupyter.widget-view+json": {
       "model_id": "12806fe6ac374cdbb93364f57bb2d980",
       "version_major": 2,
       "version_minor": 0
      },
      "text/plain": [
       "QUEUEING TASKS | :   0%|          | 0/1 [00:00<?, ?it/s]"
      ]
     },
     "metadata": {},
     "output_type": "display_data"
    },
    {
     "data": {
      "application/vnd.jupyter.widget-view+json": {
       "model_id": "750b7cbd6a004e0490ccd8697b4a6888",
       "version_major": 2,
       "version_minor": 0
      },
      "text/plain": [
       "PROCESSING TASKS | :   0%|          | 0/1 [00:00<?, ?it/s]"
      ]
     },
     "metadata": {},
     "output_type": "display_data"
    },
    {
     "data": {
      "application/vnd.jupyter.widget-view+json": {
       "model_id": "ac6c0bb22c274741b8fcdb33dfafd7bb",
       "version_major": 2,
       "version_minor": 0
      },
      "text/plain": [
       "COLLECTING RESULTS | :   0%|          | 0/1 [00:00<?, ?it/s]"
      ]
     },
     "metadata": {},
     "output_type": "display_data"
    },
    {
     "name": "stdout",
     "output_type": "stream",
     "text": [
      "\n",
      "Coincident S2 images: 0\n",
      "\n",
      "\n",
      "\n",
      "Granules found: 1\n",
      "[Collection: {'EntryTitle': 'ATLAS/ICESat-2 L3A Sea Ice Height V006'}\n",
      "Spatial coverage: {'HorizontalSpatialDomain': {'Orbit': {'AscendingCrossing': -65.53494208204874, 'StartLatitude': 27.0, 'StartDirection': 'A', 'EndLatitude': 27.0, 'EndDirection': 'D'}}}\n",
      "Temporal coverage: {'RangeDateTime': {'BeginningDateTime': '2022-02-23T09:35:06.070Z', 'EndingDateTime': '2022-02-23T09:46:41.749Z'}}\n",
      "Size(MB): 381.71499156951904\n",
      "Data: ['https://data.nsidc.earthdatacloud.nasa.gov/nsidc-cumulus-prod-protected/ATLAS/ATL07/006/2022/02/23/ATL07-01_20220223091849_09641401_006_01.h5']]\n",
      "Opening 1 granules, approx size: 0.37 GB\n",
      "using provider: NSIDC_CPRD\n"
     ]
    },
    {
     "data": {
      "application/vnd.jupyter.widget-view+json": {
       "model_id": "8c5a9a09582b403995d4a06fc3639a12",
       "version_major": 2,
       "version_minor": 0
      },
      "text/plain": [
       "QUEUEING TASKS | :   0%|          | 0/1 [00:00<?, ?it/s]"
      ]
     },
     "metadata": {},
     "output_type": "display_data"
    },
    {
     "data": {
      "application/vnd.jupyter.widget-view+json": {
       "model_id": "6c67a4465032422fa8bb25a99daa7d2a",
       "version_major": 2,
       "version_minor": 0
      },
      "text/plain": [
       "PROCESSING TASKS | :   0%|          | 0/1 [00:00<?, ?it/s]"
      ]
     },
     "metadata": {},
     "output_type": "display_data"
    },
    {
     "data": {
      "application/vnd.jupyter.widget-view+json": {
       "model_id": "d74b8ee58b97435eb44a9db40b70f795",
       "version_major": 2,
       "version_minor": 0
      },
      "text/plain": [
       "COLLECTING RESULTS | :   0%|          | 0/1 [00:00<?, ?it/s]"
      ]
     },
     "metadata": {},
     "output_type": "display_data"
    },
    {
     "name": "stdout",
     "output_type": "stream",
     "text": [
      "\n",
      "Coincident S2 images: 0\n",
      "\n",
      "\n",
      "\n",
      "Granules found: 1\n",
      "[Collection: {'EntryTitle': 'ATLAS/ICESat-2 L3A Sea Ice Height V006'}\n",
      "Spatial coverage: {'HorizontalSpatialDomain': {'Orbit': {'AscendingCrossing': -177.92167501224026, 'StartLatitude': 27.0, 'StartDirection': 'A', 'EndLatitude': 27.0, 'EndDirection': 'D'}}}\n",
      "Temporal coverage: {'RangeDateTime': {'BeginningDateTime': '2022-02-24T17:05:33.504Z', 'EndingDateTime': '2022-02-24T17:17:01.241Z'}}\n",
      "Size(MB): 241.1123752593994\n",
      "Data: ['https://data.nsidc.earthdatacloud.nasa.gov/nsidc-cumulus-prod-protected/ATLAS/ATL07/006/2022/02/24/ATL07-01_20220224164442_09841401_006_01.h5']]\n",
      "Opening 1 granules, approx size: 0.24 GB\n",
      "using provider: NSIDC_CPRD\n"
     ]
    },
    {
     "data": {
      "application/vnd.jupyter.widget-view+json": {
       "model_id": "61a7bbae4ce945f4a4eccbc64cbc75ba",
       "version_major": 2,
       "version_minor": 0
      },
      "text/plain": [
       "QUEUEING TASKS | :   0%|          | 0/1 [00:00<?, ?it/s]"
      ]
     },
     "metadata": {},
     "output_type": "display_data"
    },
    {
     "data": {
      "application/vnd.jupyter.widget-view+json": {
       "model_id": "76430da32d404305be1d2da1944806f8",
       "version_major": 2,
       "version_minor": 0
      },
      "text/plain": [
       "PROCESSING TASKS | :   0%|          | 0/1 [00:00<?, ?it/s]"
      ]
     },
     "metadata": {},
     "output_type": "display_data"
    },
    {
     "data": {
      "application/vnd.jupyter.widget-view+json": {
       "model_id": "2b8db4dc07e04f26813f2103981c8ee7",
       "version_major": 2,
       "version_minor": 0
      },
      "text/plain": [
       "COLLECTING RESULTS | :   0%|          | 0/1 [00:00<?, ?it/s]"
      ]
     },
     "metadata": {},
     "output_type": "display_data"
    },
    {
     "name": "stdout",
     "output_type": "stream",
     "text": [
      "\n",
      "Coincident S2 images: 0\n",
      "\n",
      "\n",
      "\n",
      "Granules found: 1\n",
      "[Collection: {'EntryTitle': 'ATLAS/ICESat-2 L3A Sea Ice Height V006'}\n",
      "Spatial coverage: {'HorizontalSpatialDomain': {'Orbit': {'AscendingCrossing': 92.53104302516253, 'StartLatitude': 27.0, 'StartDirection': 'A', 'EndLatitude': 27.0, 'EndDirection': 'D'}}}\n",
      "Temporal coverage: {'RangeDateTime': {'BeginningDateTime': '2022-03-01T22:46:03.692Z', 'EndingDateTime': '2022-03-01T23:00:00.910Z'}}\n",
      "Size(MB): 410.65720653533936\n",
      "Data: ['https://data.nsidc.earthdatacloud.nasa.gov/nsidc-cumulus-prod-protected/ATLAS/ATL07/006/2022/03/01/ATL07-01_20220301222747_10641401_006_01.h5']]\n",
      "Opening 1 granules, approx size: 0.4 GB\n",
      "using provider: NSIDC_CPRD\n"
     ]
    },
    {
     "data": {
      "application/vnd.jupyter.widget-view+json": {
       "model_id": "7d396f7a7b5b4f20abc02e07111bb743",
       "version_major": 2,
       "version_minor": 0
      },
      "text/plain": [
       "QUEUEING TASKS | :   0%|          | 0/1 [00:00<?, ?it/s]"
      ]
     },
     "metadata": {},
     "output_type": "display_data"
    },
    {
     "data": {
      "application/vnd.jupyter.widget-view+json": {
       "model_id": "06386d81bde94fd985421615e4ed5b41",
       "version_major": 2,
       "version_minor": 0
      },
      "text/plain": [
       "PROCESSING TASKS | :   0%|          | 0/1 [00:00<?, ?it/s]"
      ]
     },
     "metadata": {},
     "output_type": "display_data"
    },
    {
     "data": {
      "application/vnd.jupyter.widget-view+json": {
       "model_id": "e6b7ee60d28a4feca0e47f5a3a09b3b5",
       "version_major": 2,
       "version_minor": 0
      },
      "text/plain": [
       "COLLECTING RESULTS | :   0%|          | 0/1 [00:00<?, ?it/s]"
      ]
     },
     "metadata": {},
     "output_type": "display_data"
    },
    {
     "name": "stdout",
     "output_type": "stream",
     "text": [
      "\n",
      "Coincident S2 images: 0\n",
      "\n",
      "\n",
      "\n",
      "Granules found: 1\n",
      "[Collection: {'EntryTitle': 'ATLAS/ICESat-2 L3A Sea Ice Height V006'}\n",
      "Spatial coverage: {'HorizontalSpatialDomain': {'Orbit': {'AscendingCrossing': 2.9855891929962977, 'StartLatitude': 27.0, 'StartDirection': 'A', 'EndLatitude': 27.0, 'EndDirection': 'D'}}}\n",
      "Temporal coverage: {'RangeDateTime': {'BeginningDateTime': '2022-03-07T04:30:41.056Z', 'EndingDateTime': '2022-03-07T04:37:40.492Z'}}\n",
      "Size(MB): 221.0811414718628\n",
      "Data: ['https://data.nsidc.earthdatacloud.nasa.gov/nsidc-cumulus-prod-protected/ATLAS/ATL07/006/2022/03/07/ATL07-01_20220307041059_11441401_006_01.h5']]\n",
      "Opening 1 granules, approx size: 0.22 GB\n",
      "using provider: NSIDC_CPRD\n"
     ]
    },
    {
     "data": {
      "application/vnd.jupyter.widget-view+json": {
       "model_id": "a168b5bbfe2744bdbb7d767263082e98",
       "version_major": 2,
       "version_minor": 0
      },
      "text/plain": [
       "QUEUEING TASKS | :   0%|          | 0/1 [00:00<?, ?it/s]"
      ]
     },
     "metadata": {},
     "output_type": "display_data"
    },
    {
     "data": {
      "application/vnd.jupyter.widget-view+json": {
       "model_id": "69aab150e21e4610a103b74cc1e8b53a",
       "version_major": 2,
       "version_minor": 0
      },
      "text/plain": [
       "PROCESSING TASKS | :   0%|          | 0/1 [00:00<?, ?it/s]"
      ]
     },
     "metadata": {},
     "output_type": "display_data"
    },
    {
     "data": {
      "application/vnd.jupyter.widget-view+json": {
       "model_id": "0d93d58f8e784b26a04f1488271f5db2",
       "version_major": 2,
       "version_minor": 0
      },
      "text/plain": [
       "COLLECTING RESULTS | :   0%|          | 0/1 [00:00<?, ?it/s]"
      ]
     },
     "metadata": {},
     "output_type": "display_data"
    },
    {
     "name": "stdout",
     "output_type": "stream",
     "text": [
      "\n",
      "Coincident S2 images: 0\n",
      "\n",
      "\n",
      "\n",
      "Granules found: 1\n",
      "[Collection: {'EntryTitle': 'ATLAS/ICESat-2 L3A Sea Ice Height V006'}\n",
      "Spatial coverage: {'HorizontalSpatialDomain': {'Orbit': {'AscendingCrossing': -109.39820686819192, 'StartLatitude': 27.0, 'StartDirection': 'A', 'EndLatitude': 27.0, 'EndDirection': 'D'}}}\n",
      "Temporal coverage: {'RangeDateTime': {'BeginningDateTime': '2022-03-08T11:54:52.492Z', 'EndingDateTime': '2022-03-08T12:06:01.120Z'}}\n",
      "Size(MB): 350.3945302963257\n",
      "Data: ['https://data.nsidc.earthdatacloud.nasa.gov/nsidc-cumulus-prod-protected/ATLAS/ATL07/006/2022/03/08/ATL07-01_20220308113646_11641401_006_01.h5']]\n",
      "Opening 1 granules, approx size: 0.34 GB\n",
      "using provider: NSIDC_CPRD\n"
     ]
    },
    {
     "data": {
      "application/vnd.jupyter.widget-view+json": {
       "model_id": "f4d6fff29d224482b74f1a0e4d857ad7",
       "version_major": 2,
       "version_minor": 0
      },
      "text/plain": [
       "QUEUEING TASKS | :   0%|          | 0/1 [00:00<?, ?it/s]"
      ]
     },
     "metadata": {},
     "output_type": "display_data"
    },
    {
     "data": {
      "application/vnd.jupyter.widget-view+json": {
       "model_id": "f5809dec049b4e3e842fd41bbf7bcc61",
       "version_major": 2,
       "version_minor": 0
      },
      "text/plain": [
       "PROCESSING TASKS | :   0%|          | 0/1 [00:00<?, ?it/s]"
      ]
     },
     "metadata": {},
     "output_type": "display_data"
    },
    {
     "data": {
      "application/vnd.jupyter.widget-view+json": {
       "model_id": "dda98cb4b26741629b4dfaf2982a68ac",
       "version_major": 2,
       "version_minor": 0
      },
      "text/plain": [
       "COLLECTING RESULTS | :   0%|          | 0/1 [00:00<?, ?it/s]"
      ]
     },
     "metadata": {},
     "output_type": "display_data"
    },
    {
     "name": "stdout",
     "output_type": "stream",
     "text": [
      "\n",
      "Coincident S2 images: 0\n",
      "\n",
      "\n",
      "\n",
      "Granules found: 1\n",
      "[Collection: {'EntryTitle': 'ATLAS/ICESat-2 L3A Sea Ice Height V006'}\n",
      "Spatial coverage: {'HorizontalSpatialDomain': {'Orbit': {'AscendingCrossing': 138.21377324020472, 'StartLatitude': 27.0, 'StartDirection': 'A', 'EndLatitude': 27.0, 'EndDirection': 'D'}}}\n",
      "Temporal coverage: {'RangeDateTime': {'BeginningDateTime': '2022-03-09T19:21:41.738Z', 'EndingDateTime': '2022-03-09T19:27:40.847Z'}}\n",
      "Size(MB): 265.6356077194214\n",
      "Data: ['https://data.nsidc.earthdatacloud.nasa.gov/nsidc-cumulus-prod-protected/ATLAS/ATL07/006/2022/03/09/ATL07-01_20220309190233_11841401_006_01.h5']]\n",
      "Opening 1 granules, approx size: 0.26 GB\n",
      "using provider: NSIDC_CPRD\n"
     ]
    },
    {
     "data": {
      "application/vnd.jupyter.widget-view+json": {
       "model_id": "57b7ca1458454073868eea921006f036",
       "version_major": 2,
       "version_minor": 0
      },
      "text/plain": [
       "QUEUEING TASKS | :   0%|          | 0/1 [00:00<?, ?it/s]"
      ]
     },
     "metadata": {},
     "output_type": "display_data"
    },
    {
     "data": {
      "application/vnd.jupyter.widget-view+json": {
       "model_id": "8be9fa2a05aa40168951a7000f20a25a",
       "version_major": 2,
       "version_minor": 0
      },
      "text/plain": [
       "PROCESSING TASKS | :   0%|          | 0/1 [00:00<?, ?it/s]"
      ]
     },
     "metadata": {},
     "output_type": "display_data"
    },
    {
     "data": {
      "application/vnd.jupyter.widget-view+json": {
       "model_id": "c33c2eefa55242bc99f2bbbf02ded718",
       "version_major": 2,
       "version_minor": 0
      },
      "text/plain": [
       "COLLECTING RESULTS | :   0%|          | 0/1 [00:00<?, ?it/s]"
      ]
     },
     "metadata": {},
     "output_type": "display_data"
    },
    {
     "name": "stdout",
     "output_type": "stream",
     "text": [
      "\n",
      "Coincident S2 images: 0\n",
      "\n",
      "\n",
      "\n",
      "Granules found: 1\n",
      "[Collection: {'EntryTitle': 'ATLAS/ICESat-2 L3A Sea Ice Height V006'}\n",
      "Spatial coverage: {'HorizontalSpatialDomain': {'Orbit': {'AscendingCrossing': 25.825014781055703, 'StartLatitude': 27.0, 'StartDirection': 'A', 'EndLatitude': 27.0, 'EndDirection': 'D'}}}\n",
      "Temporal coverage: {'RangeDateTime': {'BeginningDateTime': '2022-03-11T02:46:05.271Z', 'EndingDateTime': '2022-03-11T02:56:53.150Z'}}\n",
      "Size(MB): 408.33510971069336\n",
      "Data: ['https://data.nsidc.earthdatacloud.nasa.gov/nsidc-cumulus-prod-protected/ATLAS/ATL07/006/2022/03/11/ATL07-01_20220311022820_12041401_006_01.h5']]\n",
      "Opening 1 granules, approx size: 0.4 GB\n",
      "using provider: NSIDC_CPRD\n"
     ]
    },
    {
     "data": {
      "application/vnd.jupyter.widget-view+json": {
       "model_id": "c7323a78680d4cbb954a037b698bb422",
       "version_major": 2,
       "version_minor": 0
      },
      "text/plain": [
       "QUEUEING TASKS | :   0%|          | 0/1 [00:00<?, ?it/s]"
      ]
     },
     "metadata": {},
     "output_type": "display_data"
    },
    {
     "data": {
      "application/vnd.jupyter.widget-view+json": {
       "model_id": "db3b5a4760d440beb9bac60fc0095c06",
       "version_major": 2,
       "version_minor": 0
      },
      "text/plain": [
       "PROCESSING TASKS | :   0%|          | 0/1 [00:00<?, ?it/s]"
      ]
     },
     "metadata": {},
     "output_type": "display_data"
    },
    {
     "data": {
      "application/vnd.jupyter.widget-view+json": {
       "model_id": "81d48b7d14c047e1821ee2818d80e39e",
       "version_major": 2,
       "version_minor": 0
      },
      "text/plain": [
       "COLLECTING RESULTS | :   0%|          | 0/1 [00:00<?, ?it/s]"
      ]
     },
     "metadata": {},
     "output_type": "display_data"
    },
    {
     "name": "stdout",
     "output_type": "stream",
     "text": [
      "\n",
      "Coincident S2 images: 0\n",
      "\n",
      "\n",
      "\n",
      "Granules found: 1\n",
      "[Collection: {'EntryTitle': 'ATLAS/ICESat-2 L3A Sea Ice Height V006'}\n",
      "Spatial coverage: {'HorizontalSpatialDomain': {'Orbit': {'AscendingCrossing': -86.55784146468467, 'StartLatitude': 27.0, 'StartDirection': 'A', 'EndLatitude': 27.0, 'EndDirection': 'D'}}}\n",
      "Temporal coverage: {'RangeDateTime': {'BeginningDateTime': '2022-03-12T10:09:23.660Z', 'EndingDateTime': '2022-03-12T10:21:20.069Z'}}\n",
      "Size(MB): 312.6836967468262\n",
      "Data: ['https://data.nsidc.earthdatacloud.nasa.gov/nsidc-cumulus-prod-protected/ATLAS/ATL07/006/2022/03/12/ATL07-01_20220312095408_12241401_006_01.h5']]\n",
      "Opening 1 granules, approx size: 0.31 GB\n",
      "using provider: NSIDC_CPRD\n"
     ]
    },
    {
     "data": {
      "application/vnd.jupyter.widget-view+json": {
       "model_id": "2103ec0c95c44bc598a23be56f9faa98",
       "version_major": 2,
       "version_minor": 0
      },
      "text/plain": [
       "QUEUEING TASKS | :   0%|          | 0/1 [00:00<?, ?it/s]"
      ]
     },
     "metadata": {},
     "output_type": "display_data"
    },
    {
     "data": {
      "application/vnd.jupyter.widget-view+json": {
       "model_id": "c5a73ae4f5d54ac089763ba1b2199c6f",
       "version_major": 2,
       "version_minor": 0
      },
      "text/plain": [
       "PROCESSING TASKS | :   0%|          | 0/1 [00:00<?, ?it/s]"
      ]
     },
     "metadata": {},
     "output_type": "display_data"
    },
    {
     "data": {
      "application/vnd.jupyter.widget-view+json": {
       "model_id": "3bcc41dbcfd34398ae95210ac5f5dd3b",
       "version_major": 2,
       "version_minor": 0
      },
      "text/plain": [
       "COLLECTING RESULTS | :   0%|          | 0/1 [00:00<?, ?it/s]"
      ]
     },
     "metadata": {},
     "output_type": "display_data"
    },
    {
     "name": "stdout",
     "output_type": "stream",
     "text": [
      "\n",
      "Coincident S2 images: 0\n",
      "\n",
      "\n",
      "\n",
      "Granules found: 1\n",
      "[Collection: {'EntryTitle': 'ATLAS/ICESat-2 L3A Sea Ice Height V006'}\n",
      "Spatial coverage: {'HorizontalSpatialDomain': {'Orbit': {'AscendingCrossing': 71.50619236240183, 'StartLatitude': 27.0, 'StartDirection': 'A', 'EndLatitude': 27.0, 'EndDirection': 'D'}}}\n",
      "Temporal coverage: {'RangeDateTime': {'BeginningDateTime': '2022-03-18T23:22:06.494Z', 'EndingDateTime': '2022-03-18T23:32:32.674Z'}}\n",
      "Size(MB): 218.4786548614502\n",
      "Data: ['https://data.nsidc.earthdatacloud.nasa.gov/nsidc-cumulus-prod-protected/ATLAS/ATL07/006/2022/03/18/ATL07-01_20220318230308_13241401_006_01.h5']]\n",
      "Opening 1 granules, approx size: 0.21 GB\n",
      "using provider: NSIDC_CPRD\n"
     ]
    },
    {
     "data": {
      "application/vnd.jupyter.widget-view+json": {
       "model_id": "db674ba43b0041879470ed85299d261d",
       "version_major": 2,
       "version_minor": 0
      },
      "text/plain": [
       "QUEUEING TASKS | :   0%|          | 0/1 [00:00<?, ?it/s]"
      ]
     },
     "metadata": {},
     "output_type": "display_data"
    },
    {
     "data": {
      "application/vnd.jupyter.widget-view+json": {
       "model_id": "7d3d7328ab1148bd8586b9133cf04a31",
       "version_major": 2,
       "version_minor": 0
      },
      "text/plain": [
       "PROCESSING TASKS | :   0%|          | 0/1 [00:00<?, ?it/s]"
      ]
     },
     "metadata": {},
     "output_type": "display_data"
    },
    {
     "data": {
      "application/vnd.jupyter.widget-view+json": {
       "model_id": "37efb08cb2e34333b0ac63f2c971b187",
       "version_major": 2,
       "version_minor": 0
      },
      "text/plain": [
       "COLLECTING RESULTS | :   0%|          | 0/1 [00:00<?, ?it/s]"
      ]
     },
     "metadata": {},
     "output_type": "display_data"
    },
    {
     "name": "stdout",
     "output_type": "stream",
     "text": [
      "\n",
      "Coincident S2 images: 6\n",
      "Coincident S2 image FOUND\n",
      "Done with granule.\n",
      "\n",
      "\n",
      "\n",
      "Granules found: 1\n",
      "[Collection: {'EntryTitle': 'ATLAS/ICESat-2 L3A Sea Ice Height V006'}\n",
      "Spatial coverage: {'HorizontalSpatialDomain': {'Orbit': {'AscendingCrossing': -40.877231029867666, 'StartLatitude': 27.0, 'StartDirection': 'A', 'EndLatitude': 27.0, 'EndDirection': 'D'}}}\n",
      "Temporal coverage: {'RangeDateTime': {'BeginningDateTime': '2022-03-20T06:44:54.510Z', 'EndingDateTime': '2022-03-20T07:04:21.565Z'}}\n",
      "Size(MB): 353.0548505783081\n",
      "Data: ['https://data.nsidc.earthdatacloud.nasa.gov/nsidc-cumulus-prod-protected/ATLAS/ATL07/006/2022/03/20/ATL07-01_20220320062856_13441401_006_01.h5']]\n",
      "Opening 1 granules, approx size: 0.34 GB\n",
      "using provider: NSIDC_CPRD\n"
     ]
    },
    {
     "data": {
      "application/vnd.jupyter.widget-view+json": {
       "model_id": "5d36221dcce44222be2b9b442577d528",
       "version_major": 2,
       "version_minor": 0
      },
      "text/plain": [
       "QUEUEING TASKS | :   0%|          | 0/1 [00:00<?, ?it/s]"
      ]
     },
     "metadata": {},
     "output_type": "display_data"
    },
    {
     "data": {
      "application/vnd.jupyter.widget-view+json": {
       "model_id": "80822048e1f14ad7a6197fad5a2aa04b",
       "version_major": 2,
       "version_minor": 0
      },
      "text/plain": [
       "PROCESSING TASKS | :   0%|          | 0/1 [00:00<?, ?it/s]"
      ]
     },
     "metadata": {},
     "output_type": "display_data"
    },
    {
     "data": {
      "application/vnd.jupyter.widget-view+json": {
       "model_id": "116fcc021f97470ea1b04ccb79a8d79b",
       "version_major": 2,
       "version_minor": 0
      },
      "text/plain": [
       "COLLECTING RESULTS | :   0%|          | 0/1 [00:00<?, ?it/s]"
      ]
     },
     "metadata": {},
     "output_type": "display_data"
    },
    {
     "name": "stdout",
     "output_type": "stream",
     "text": [
      "\n",
      "Coincident S2 images: 5\n",
      "Coincident S2 image FOUND\n",
      "Done with granule.\n",
      "\n",
      "\n",
      "\n",
      "Granules found: 1\n",
      "[Collection: {'EntryTitle': 'ATLAS/ICESat-2 L3A Sea Ice Height V006'}\n",
      "Spatial coverage: {'HorizontalSpatialDomain': {'Orbit': {'AscendingCrossing': -153.26330367313005, 'StartLatitude': 27.0, 'StartDirection': 'A', 'EndLatitude': 27.0, 'EndDirection': 'D'}}}\n",
      "Temporal coverage: {'RangeDateTime': {'BeginningDateTime': '2022-03-21T14:11:18.780Z', 'EndingDateTime': '2022-03-21T14:27:29.487Z'}}\n",
      "Size(MB): 422.7802438735962\n",
      "Data: ['https://data.nsidc.earthdatacloud.nasa.gov/nsidc-cumulus-prod-protected/ATLAS/ATL07/006/2022/03/21/ATL07-01_20220321135444_13641401_006_01.h5']]\n",
      "Opening 1 granules, approx size: 0.41 GB\n",
      "using provider: NSIDC_CPRD\n"
     ]
    },
    {
     "data": {
      "application/vnd.jupyter.widget-view+json": {
       "model_id": "3b8034706ee8413986fae6567425134d",
       "version_major": 2,
       "version_minor": 0
      },
      "text/plain": [
       "QUEUEING TASKS | :   0%|          | 0/1 [00:00<?, ?it/s]"
      ]
     },
     "metadata": {},
     "output_type": "display_data"
    },
    {
     "data": {
      "application/vnd.jupyter.widget-view+json": {
       "model_id": "59fc7e3821d848d7a6c8e0cfbc4b3791",
       "version_major": 2,
       "version_minor": 0
      },
      "text/plain": [
       "PROCESSING TASKS | :   0%|          | 0/1 [00:00<?, ?it/s]"
      ]
     },
     "metadata": {},
     "output_type": "display_data"
    },
    {
     "data": {
      "application/vnd.jupyter.widget-view+json": {
       "model_id": "ede0b3f7536e48abb528ef61accbe281",
       "version_major": 2,
       "version_minor": 0
      },
      "text/plain": [
       "COLLECTING RESULTS | :   0%|          | 0/1 [00:00<?, ?it/s]"
      ]
     },
     "metadata": {},
     "output_type": "display_data"
    },
    {
     "name": "stdout",
     "output_type": "stream",
     "text": [
      "\n",
      "Coincident S2 images: 6\n",
      "Coincident S2 image FOUND\n",
      "Done with granule.\n",
      "\n",
      "\n",
      "\n",
      "Granules found: 1\n",
      "[Collection: {'EntryTitle': 'ATLAS/ICESat-2 L3A Sea Ice Height V006'}\n",
      "Spatial coverage: {'HorizontalSpatialDomain': {'Orbit': {'AscendingCrossing': 94.34816955887709, 'StartLatitude': 27.0, 'StartDirection': 'A', 'EndLatitude': 27.0, 'EndDirection': 'D'}}}\n",
      "Temporal coverage: {'RangeDateTime': {'BeginningDateTime': '2022-03-22T21:39:49.739Z', 'EndingDateTime': '2022-03-22T21:55:26.368Z'}}\n",
      "Size(MB): 281.0337381362915\n",
      "Data: ['https://data.nsidc.earthdatacloud.nasa.gov/nsidc-cumulus-prod-protected/ATLAS/ATL07/006/2022/03/22/ATL07-01_20220322212032_13841401_006_01.h5']]\n",
      "Opening 1 granules, approx size: 0.27 GB\n",
      "using provider: NSIDC_CPRD\n"
     ]
    },
    {
     "data": {
      "application/vnd.jupyter.widget-view+json": {
       "model_id": "4e59de5e688744e9923540ef2dee83e1",
       "version_major": 2,
       "version_minor": 0
      },
      "text/plain": [
       "QUEUEING TASKS | :   0%|          | 0/1 [00:00<?, ?it/s]"
      ]
     },
     "metadata": {},
     "output_type": "display_data"
    },
    {
     "data": {
      "application/vnd.jupyter.widget-view+json": {
       "model_id": "2d9f65f59215487e98f44d06c3337243",
       "version_major": 2,
       "version_minor": 0
      },
      "text/plain": [
       "PROCESSING TASKS | :   0%|          | 0/1 [00:00<?, ?it/s]"
      ]
     },
     "metadata": {},
     "output_type": "display_data"
    },
    {
     "data": {
      "application/vnd.jupyter.widget-view+json": {
       "model_id": "cb673b88587044f0818da7665342a013",
       "version_major": 2,
       "version_minor": 0
      },
      "text/plain": [
       "COLLECTING RESULTS | :   0%|          | 0/1 [00:00<?, ?it/s]"
      ]
     },
     "metadata": {},
     "output_type": "display_data"
    },
    {
     "name": "stdout",
     "output_type": "stream",
     "text": [
      "\n",
      "Coincident S2 images: 15\n",
      "Coincident S2 image FOUND\n",
      "Done with granule.\n",
      "\n",
      "\n",
      "\n",
      "Granules found: 1\n",
      "[Collection: {'EntryTitle': 'ATLAS/ICESat-2 L3A Sea Ice Height V006'}\n",
      "Spatial coverage: {'HorizontalSpatialDomain': {'Orbit': {'AscendingCrossing': -18.03715869940983, 'StartLatitude': 27.0, 'StartDirection': 'A', 'EndLatitude': 27.0, 'EndDirection': 'D'}}}\n",
      "Temporal coverage: {'RangeDateTime': {'BeginningDateTime': '2022-03-24T05:04:11.752Z', 'EndingDateTime': '2022-03-24T05:17:49.632Z'}}\n",
      "Size(MB): 265.666708946228\n",
      "Data: ['https://data.nsidc.earthdatacloud.nasa.gov/nsidc-cumulus-prod-protected/ATLAS/ATL07/006/2022/03/24/ATL07-01_20220324044618_00171501_006_01.h5']]\n",
      "Opening 1 granules, approx size: 0.26 GB\n",
      "using provider: NSIDC_CPRD\n"
     ]
    },
    {
     "data": {
      "application/vnd.jupyter.widget-view+json": {
       "model_id": "c9298eb28a934b10b546369a9ba21d7c",
       "version_major": 2,
       "version_minor": 0
      },
      "text/plain": [
       "QUEUEING TASKS | :   0%|          | 0/1 [00:00<?, ?it/s]"
      ]
     },
     "metadata": {},
     "output_type": "display_data"
    },
    {
     "data": {
      "application/vnd.jupyter.widget-view+json": {
       "model_id": "40dbf32dbd6c4712a72960f255bc631f",
       "version_major": 2,
       "version_minor": 0
      },
      "text/plain": [
       "PROCESSING TASKS | :   0%|          | 0/1 [00:00<?, ?it/s]"
      ]
     },
     "metadata": {},
     "output_type": "display_data"
    },
    {
     "data": {
      "application/vnd.jupyter.widget-view+json": {
       "model_id": "4aad4215af054fccb0c50079712fb692",
       "version_major": 2,
       "version_minor": 0
      },
      "text/plain": [
       "COLLECTING RESULTS | :   0%|          | 0/1 [00:00<?, ?it/s]"
      ]
     },
     "metadata": {},
     "output_type": "display_data"
    },
    {
     "name": "stdout",
     "output_type": "stream",
     "text": [
      "\n",
      "Coincident S2 images: 0\n",
      "\n",
      "\n",
      "\n",
      "Granules found: 1\n",
      "[Collection: {'EntryTitle': 'ATLAS/ICESat-2 L3A Sea Ice Height V006'}\n",
      "Spatial coverage: {'HorizontalSpatialDomain': {'Orbit': {'AscendingCrossing': 4.802327487775325, 'StartLatitude': 27.0, 'StartDirection': 'A', 'EndLatitude': 27.0, 'EndDirection': 'D'}}}\n",
      "Temporal coverage: {'RangeDateTime': {'BeginningDateTime': '2022-03-28T03:23:25.711Z', 'EndingDateTime': '2022-03-28T03:34:42.189Z'}}\n",
      "Size(MB): 500.60902881622314\n",
      "Data: ['https://data.nsidc.earthdatacloud.nasa.gov/nsidc-cumulus-prod-protected/ATLAS/ATL07/006/2022/03/28/ATL07-01_20220328030343_00771501_006_01.h5']]\n",
      "Opening 1 granules, approx size: 0.49 GB\n",
      "using provider: NSIDC_CPRD\n"
     ]
    },
    {
     "data": {
      "application/vnd.jupyter.widget-view+json": {
       "model_id": "d42cda11872e4f579a689692bd3a3f5b",
       "version_major": 2,
       "version_minor": 0
      },
      "text/plain": [
       "QUEUEING TASKS | :   0%|          | 0/1 [00:00<?, ?it/s]"
      ]
     },
     "metadata": {},
     "output_type": "display_data"
    },
    {
     "data": {
      "application/vnd.jupyter.widget-view+json": {
       "model_id": "1a8b6f1e06524ce88febc4c82972f71c",
       "version_major": 2,
       "version_minor": 0
      },
      "text/plain": [
       "PROCESSING TASKS | :   0%|          | 0/1 [00:00<?, ?it/s]"
      ]
     },
     "metadata": {},
     "output_type": "display_data"
    },
    {
     "data": {
      "application/vnd.jupyter.widget-view+json": {
       "model_id": "3d6ed9fd02e6497fa3f233703921f644",
       "version_major": 2,
       "version_minor": 0
      },
      "text/plain": [
       "COLLECTING RESULTS | :   0%|          | 0/1 [00:00<?, ?it/s]"
      ]
     },
     "metadata": {},
     "output_type": "display_data"
    },
    {
     "name": "stdout",
     "output_type": "stream",
     "text": [
      "\n",
      "Coincident S2 images: 0\n",
      "\n",
      "\n",
      "\n",
      "Granules found: 1\n",
      "[Collection: {'EntryTitle': 'ATLAS/ICESat-2 L3A Sea Ice Height V006'}\n",
      "Spatial coverage: {'HorizontalSpatialDomain': {'Orbit': {'AscendingCrossing': -107.58149085469336, 'StartLatitude': 27.0, 'StartDirection': 'A', 'EndLatitude': 27.0, 'EndDirection': 'D'}}}\n",
      "Temporal coverage: {'RangeDateTime': {'BeginningDateTime': '2022-03-29T10:47:30.497Z', 'EndingDateTime': '2022-03-29T10:57:34.676Z'}}\n",
      "Size(MB): 359.97102642059326\n",
      "Data: ['https://data.nsidc.earthdatacloud.nasa.gov/nsidc-cumulus-prod-protected/ATLAS/ATL07/006/2022/03/29/ATL07-01_20220329102930_00971501_006_01.h5']]\n",
      "Opening 1 granules, approx size: 0.35 GB\n",
      "using provider: NSIDC_CPRD\n"
     ]
    },
    {
     "data": {
      "application/vnd.jupyter.widget-view+json": {
       "model_id": "5cb7943b5d394be3844d4dd156415b10",
       "version_major": 2,
       "version_minor": 0
      },
      "text/plain": [
       "QUEUEING TASKS | :   0%|          | 0/1 [00:00<?, ?it/s]"
      ]
     },
     "metadata": {},
     "output_type": "display_data"
    },
    {
     "data": {
      "application/vnd.jupyter.widget-view+json": {
       "model_id": "829691f4c3a24802b0723cf5dc670591",
       "version_major": 2,
       "version_minor": 0
      },
      "text/plain": [
       "PROCESSING TASKS | :   0%|          | 0/1 [00:00<?, ?it/s]"
      ]
     },
     "metadata": {},
     "output_type": "display_data"
    },
    {
     "data": {
      "application/vnd.jupyter.widget-view+json": {
       "model_id": "70112c159f614f7cbbd47dfea7d1ef3c",
       "version_major": 2,
       "version_minor": 0
      },
      "text/plain": [
       "COLLECTING RESULTS | :   0%|          | 0/1 [00:00<?, ?it/s]"
      ]
     },
     "metadata": {},
     "output_type": "display_data"
    },
    {
     "name": "stdout",
     "output_type": "stream",
     "text": [
      "\n",
      "Coincident S2 images: 16\n",
      "Coincident S2 image FOUND\n",
      "Done with granule.\n",
      "\n",
      "\n",
      "\n",
      "Granules found: 1\n",
      "[Collection: {'EntryTitle': 'ATLAS/ICESat-2 L3A Sea Ice Height V006'}\n",
      "Spatial coverage: {'HorizontalSpatialDomain': {'Orbit': {'AscendingCrossing': -107.58149085469336, 'StartLatitude': 27.0, 'StartDirection': 'A', 'EndLatitude': 27.0, 'EndDirection': 'D'}}}\n",
      "Temporal coverage: {'RangeDateTime': {'BeginningDateTime': '2022-03-29T10:47:30.497Z', 'EndingDateTime': '2022-03-29T10:57:34.676Z'}}\n",
      "Size(MB): 359.97102642059326\n",
      "Data: ['https://data.nsidc.earthdatacloud.nasa.gov/nsidc-cumulus-prod-protected/ATLAS/ATL07/006/2022/03/29/ATL07-01_20220329102930_00971501_006_01.h5']]\n",
      "Opening 1 granules, approx size: 0.35 GB\n",
      "using provider: NSIDC_CPRD\n"
     ]
    },
    {
     "data": {
      "application/vnd.jupyter.widget-view+json": {
       "model_id": "fbfe34085826403b808d0b7e167aa855",
       "version_major": 2,
       "version_minor": 0
      },
      "text/plain": [
       "QUEUEING TASKS | :   0%|          | 0/1 [00:00<?, ?it/s]"
      ]
     },
     "metadata": {},
     "output_type": "display_data"
    },
    {
     "data": {
      "application/vnd.jupyter.widget-view+json": {
       "model_id": "96ed7ed3ffcc45a1a9bf8e8885a77080",
       "version_major": 2,
       "version_minor": 0
      },
      "text/plain": [
       "PROCESSING TASKS | :   0%|          | 0/1 [00:00<?, ?it/s]"
      ]
     },
     "metadata": {},
     "output_type": "display_data"
    },
    {
     "data": {
      "application/vnd.jupyter.widget-view+json": {
       "model_id": "c20848e8a8794e3c9f071dabadbcaeb2",
       "version_major": 2,
       "version_minor": 0
      },
      "text/plain": [
       "COLLECTING RESULTS | :   0%|          | 0/1 [00:00<?, ?it/s]"
      ]
     },
     "metadata": {},
     "output_type": "display_data"
    },
    {
     "name": "stdout",
     "output_type": "stream",
     "text": [
      "\n",
      "Coincident S2 images: 16\n",
      "Coincident S2 image FOUND\n",
      "Done with granule.\n",
      "\n",
      "\n",
      "\n",
      "Granules found: 1\n",
      "[Collection: {'EntryTitle': 'ATLAS/ICESat-2 L3A Sea Ice Height V006'}\n",
      "Spatial coverage: {'HorizontalSpatialDomain': {'Orbit': {'AscendingCrossing': 27.641746155853987, 'StartLatitude': 27.0, 'StartDirection': 'A', 'EndLatitude': 27.0, 'EndDirection': 'D'}}}\n",
      "Temporal coverage: {'RangeDateTime': {'BeginningDateTime': '2022-04-01T01:42:10.711Z', 'EndingDateTime': '2022-04-01T01:52:52.091Z'}}\n",
      "Size(MB): 447.5201663970947\n",
      "Data: ['https://data.nsidc.earthdatacloud.nasa.gov/nsidc-cumulus-prod-protected/ATLAS/ATL07/006/2022/04/01/ATL07-01_20220401012104_01371501_006_02.h5']]\n",
      "Opening 1 granules, approx size: 0.44 GB\n",
      "using provider: NSIDC_CPRD\n"
     ]
    },
    {
     "data": {
      "application/vnd.jupyter.widget-view+json": {
       "model_id": "ba6879ad42874d4ba260f38fb3603e9a",
       "version_major": 2,
       "version_minor": 0
      },
      "text/plain": [
       "QUEUEING TASKS | :   0%|          | 0/1 [00:00<?, ?it/s]"
      ]
     },
     "metadata": {},
     "output_type": "display_data"
    },
    {
     "data": {
      "application/vnd.jupyter.widget-view+json": {
       "model_id": "00fe54b87afe47859c56ef914413a2eb",
       "version_major": 2,
       "version_minor": 0
      },
      "text/plain": [
       "PROCESSING TASKS | :   0%|          | 0/1 [00:00<?, ?it/s]"
      ]
     },
     "metadata": {},
     "output_type": "display_data"
    },
    {
     "data": {
      "application/vnd.jupyter.widget-view+json": {
       "model_id": "0d24057d8b4d41f1b8520dc1aead1773",
       "version_major": 2,
       "version_minor": 0
      },
      "text/plain": [
       "COLLECTING RESULTS | :   0%|          | 0/1 [00:00<?, ?it/s]"
      ]
     },
     "metadata": {},
     "output_type": "display_data"
    },
    {
     "name": "stdout",
     "output_type": "stream",
     "text": [
      "\n",
      "Coincident S2 images: 0\n",
      "\n",
      "\n",
      "\n",
      "Granules found: 1\n",
      "[Collection: {'EntryTitle': 'ATLAS/ICESat-2 L3A Sea Ice Height V006'}\n",
      "Spatial coverage: {'HorizontalSpatialDomain': {'Orbit': {'AscendingCrossing': -84.74123653544054, 'StartLatitude': 27.0, 'StartDirection': 'A', 'EndLatitude': 27.0, 'EndDirection': 'D'}}}\n",
      "Temporal coverage: {'RangeDateTime': {'BeginningDateTime': '2022-04-02T09:01:45.780Z', 'EndingDateTime': '2022-04-02T09:14:06.470Z'}}\n",
      "Size(MB): 416.52484130859375\n",
      "Data: ['https://data.nsidc.earthdatacloud.nasa.gov/nsidc-cumulus-prod-protected/ATLAS/ATL07/006/2022/04/02/ATL07-01_20220402084652_01571501_006_02.h5']]\n",
      "Opening 1 granules, approx size: 0.41 GB\n",
      "using provider: NSIDC_CPRD\n"
     ]
    },
    {
     "data": {
      "application/vnd.jupyter.widget-view+json": {
       "model_id": "b396ab4026ff43f4b133cca50a97ab1b",
       "version_major": 2,
       "version_minor": 0
      },
      "text/plain": [
       "QUEUEING TASKS | :   0%|          | 0/1 [00:00<?, ?it/s]"
      ]
     },
     "metadata": {},
     "output_type": "display_data"
    },
    {
     "data": {
      "application/vnd.jupyter.widget-view+json": {
       "model_id": "2cda0320fdd04f958ac45c52fa25484f",
       "version_major": 2,
       "version_minor": 0
      },
      "text/plain": [
       "PROCESSING TASKS | :   0%|          | 0/1 [00:00<?, ?it/s]"
      ]
     },
     "metadata": {},
     "output_type": "display_data"
    },
    {
     "data": {
      "application/vnd.jupyter.widget-view+json": {
       "model_id": "d689851d7b92417e8253709a13d14274",
       "version_major": 2,
       "version_minor": 0
      },
      "text/plain": [
       "COLLECTING RESULTS | :   0%|          | 0/1 [00:00<?, ?it/s]"
      ]
     },
     "metadata": {},
     "output_type": "display_data"
    },
    {
     "name": "stdout",
     "output_type": "stream",
     "text": [
      "\n",
      "Coincident S2 images: 10\n",
      "Coincident S2 image FOUND\n",
      "Done with granule.\n",
      "\n",
      "\n",
      "\n",
      "Granules found: 1\n",
      "[Collection: {'EntryTitle': 'ATLAS/ICESat-2 L3A Sea Ice Height V006'}\n",
      "Spatial coverage: {'HorizontalSpatialDomain': {'Orbit': {'AscendingCrossing': 162.87068781743838, 'StartLatitude': 27.0, 'StartDirection': 'A', 'EndLatitude': 27.0, 'EndDirection': 'D'}}}\n",
      "Temporal coverage: {'RangeDateTime': {'BeginningDateTime': '2022-04-03T16:28:09.175Z', 'EndingDateTime': '2022-04-03T16:41:15.976Z'}}\n",
      "Size(MB): 418.9501657485962\n",
      "Data: ['https://data.nsidc.earthdatacloud.nasa.gov/nsidc-cumulus-prod-protected/ATLAS/ATL07/006/2022/04/03/ATL07-01_20220403161239_01771501_006_02.h5']]\n",
      "Opening 1 granules, approx size: 0.41 GB\n",
      "using provider: NSIDC_CPRD\n"
     ]
    },
    {
     "data": {
      "application/vnd.jupyter.widget-view+json": {
       "model_id": "c4da400e2c9640248afe5a4d1c3d7440",
       "version_major": 2,
       "version_minor": 0
      },
      "text/plain": [
       "QUEUEING TASKS | :   0%|          | 0/1 [00:00<?, ?it/s]"
      ]
     },
     "metadata": {},
     "output_type": "display_data"
    },
    {
     "data": {
      "application/vnd.jupyter.widget-view+json": {
       "model_id": "ab6bca511dd248b5b04b683d2eebbf38",
       "version_major": 2,
       "version_minor": 0
      },
      "text/plain": [
       "PROCESSING TASKS | :   0%|          | 0/1 [00:00<?, ?it/s]"
      ]
     },
     "metadata": {},
     "output_type": "display_data"
    },
    {
     "data": {
      "application/vnd.jupyter.widget-view+json": {
       "model_id": "a61669e78c0641b39a5d645787f4a80d",
       "version_major": 2,
       "version_minor": 0
      },
      "text/plain": [
       "COLLECTING RESULTS | :   0%|          | 0/1 [00:00<?, ?it/s]"
      ]
     },
     "metadata": {},
     "output_type": "display_data"
    },
    {
     "name": "stdout",
     "output_type": "stream",
     "text": [
      "\n",
      "Coincident S2 images: 26\n",
      "Coincident S2 image FOUND\n",
      "Done with granule.\n",
      "\n",
      "\n",
      "\n"
     ]
    }
   ],
   "source": [
    "#find the matched S2 images for each IS2 file\n",
    "coincident_S2_images=[]\n",
    "\n",
    "# S2 IDs\n",
    "coincident_S2_image_ids=[]\n",
    "\n",
    "#S2 coordinates\n",
    "S2_coords=[]\n",
    "\n",
    "#number of S2 images for each IS2 granule\n",
    "number_of_coincident_scenes_in_granule=[]\n",
    "\n",
    "# coordinate tracks for each coincident IS2 granule\n",
    "is2_coordinate_tracks_matched=[] \n",
    "\n",
    "# save ATL07 info for the coincident S-2 tracks\n",
    "ATL_midtimes_matched=[]\n",
    "ATL_filenames_matched=[]\n",
    "\n",
    "# Loop over ICESat-2 granules\n",
    "# Coarsen by this number of data points to speed things up, can play with this more as desired\n",
    "NPTS=10\n",
    "# Time difference in minutes\n",
    "deltatime=180\n",
    "# Max cloud cover in the S-2 images\n",
    "max_cloud_cover=100\n",
    "\n",
    "# filter data close to land (m)\n",
    "dist_land_mask=10000\n",
    "\n",
    "image_catalog = \"S2_SR_HARMONIZED\"\n",
    "\n",
    "for c2ice_file in c2ice_files:\n",
    "\n",
    "    granules_cloud = earthaccess.search_data(\n",
    "        short_name = 'ATL07',\n",
    "        version = '006',\n",
    "        cloud_hosted = True,\n",
    "        bounding_box = (-180,60,180,90),\n",
    "        #temporal = ('2020-10-01','2020-10-30'),\n",
    "        granule_name=c2ice_file,\n",
    "    )\n",
    "    \n",
    "    print(granules_cloud)\n",
    "    \n",
    "    # Open files (not found a way of not needing to do this..)\n",
    "    atl07_file = earthaccess.open(granules_cloud)\n",
    "    ATL = h5py.File(atl07_file[0], 'r')\n",
    "    \n",
    "    orientation = ATL['/orbit_info/sc_orient'][0]\n",
    "\n",
    "    # Only use central strong beam locations\n",
    "    if orientation == 0:\n",
    "        beamID = 'gt2l'\n",
    "    elif orientation == 1:\n",
    "        beamID = 'gt2r'\n",
    "    else:\n",
    "        print('Spacecraft orientation not found.')\n",
    "\n",
    "    # Extract data info from granule\n",
    "    ATL_start_time = ATL['/ancillary_data/data_start_utc'][0]\n",
    "    ATL_start = pd.to_datetime(ATL_start_time[:-8].decode('utf-8'), format='%Y-%m-%dT%H:%M:%S')\n",
    "    ATL_end_time = ATL['/ancillary_data/data_end_utc'][0]\n",
    "    ATL_end = pd.to_datetime(ATL_end_time[:-8].decode('utf-8'), format='%Y-%m-%dT%H:%M:%S')\n",
    "\n",
    "    ATL_lon = ATL[beamID + '/sea_ice_segments/longitude'][:]\n",
    "    ATL_lat = ATL[beamID + '/sea_ice_segments/latitude'][:]\n",
    "\n",
    "    # read in the new dist to land variable to filter these values out now we have a lot more land data in rel006!\n",
    "    ATL_dist_land = ATL[beamID+'/sea_ice_segments/stats/dist2land'][:]\n",
    "    ATL_lon = ATL_lon[ATL_dist_land>dist_land_mask]\n",
    "    ATL_lat = ATL_lat[ATL_dist_land>dist_land_mask]\n",
    "    atl07_coords = list(zip(ATL_lon[::NPTS], ATL_lat[::NPTS])) \n",
    "    \n",
    "    # Use astropy to convert from gps time to datetime\n",
    "    #GPS_epoch = ATL['ancillary_data/atlas_sdp_gps_epoch'][:]\n",
    "    #GPS_time = ATL[beamID + '/sea_ice_segments/delta_time'][::NPTS] + GPS_epoch\n",
    "    #ATL_tgps = Time(GPS_time, format='gps')\n",
    "    #ATL_utc = ATL_tgps.utc.iso\n",
    "    \n",
    "    \n",
    "    #create a feature collection representing a line from a list of valid latitude and longitude coordinate points.\n",
    "    feature_track_temp = ee.FeatureCollection(ee.Geometry.LineString(coords=atl07_coords, proj='EPSG:4326', geodesic=True))\n",
    "    \n",
    "    roi = feature_track_temp.geometry()\n",
    "    \n",
    "    # Query Sentinel-2 images using ATL07 file information\n",
    "    #L1C data: COPERNICUS/S2_HARMONIZED S2 (NOT FINDING ANYTHING)\n",
    "    #L2A data: COPERNICUS/S2_SR_HARMONIZED COPERNICUS/S2_SR (this one is what Wenxuan used)\n",
    "    \n",
    "    imagecollection=ee.ImageCollection(\"COPERNICUS/\"+image_catalog).filterBounds(roi)\\\n",
    "    .filterDate(ATL_start- dt.timedelta(minutes=deltatime), ATL_end+ dt.timedelta(minutes=deltatime))\\\n",
    "    .filter(ee.Filter.lt('CLOUD_COVERAGE_ASSESSMENT', max_cloud_cover)))\n",
    "    #.filter(ee.Filter.lt('NODATA_PIXEL_PERCENTAGE', 10))\n",
    "    \n",
    "    print('\\nCoincident S2 images:', imagecollection.size().getInfo())\n",
    "    if imagecollection.size().getInfo()>0:\n",
    "        print('Coincident S2 image FOUND')\n",
    "        \n",
    "        # save number of images\n",
    "        number_of_coincident_scenes_in_granule.append(imagecollection.size().getInfo()) \n",
    "\n",
    "        # save actual image collection\n",
    "        coincident_S2_images.append(imagecollection)\n",
    "\n",
    "        # S2 image IDs\n",
    "        S2_ids = [imagecollection.toList(imagecollection.size().getInfo()).getInfo()[i]['id'] for i in range(0, imagecollection.size().getInfo())]\n",
    "        coincident_S2_image_ids.append(S2_ids)\n",
    "\n",
    "        # save first coordinte of first image found \n",
    "        S2_coord = imagecollection.toList(imagecollection.size().getInfo()).getInfo()[0]['properties']['system:footprint']['coordinates'][0]\n",
    "        S2_coords.append(S2_coord)\n",
    "        \n",
    "        is2_coordinate_tracks_matched.append(feature_track_temp)\n",
    "        ATL_mid = ATL_start + (ATL_end-ATL_start)/2\n",
    "        ATL_midtimes_matched.append(ATL_mid)\n",
    "        ATL_filenames_matched.append(c2ice_file)\n",
    "        print('Done with granule.')\n",
    "    \n",
    "    print('\\n\\n')\n",
    "\n",
    "\n",
    "\n"
   ]
  },
  {
   "cell_type": "code",
   "execution_count": 131,
   "id": "c8d7d28b-e6b0-4697-baa6-98e4ef3b7cc6",
   "metadata": {},
   "outputs": [
    {
     "data": {
      "text/html": [
       "\n",
       "            <style>\n",
       "                .geemap-dark {\n",
       "                    --jp-widgets-color: white;\n",
       "                    --jp-widgets-label-color: white;\n",
       "                    --jp-ui-font-color1: white;\n",
       "                    --jp-layout-color2: #454545;\n",
       "                    background-color: #383838;\n",
       "                }\n",
       "                    \n",
       "                .geemap-dark .jupyter-button {\n",
       "                    --jp-layout-color3: #383838;\n",
       "                }\n",
       "                \n",
       "                .geemap-colab {\n",
       "                    background-color: var(--colab-primary-surface-color, white);\n",
       "                }\n",
       "                    \n",
       "                .geemap-colab .jupyter-button {\n",
       "                    --jp-layout-color3: var(--colab-primary-surface-color, white);\n",
       "                }\n",
       "            </style>\n",
       "            "
      ],
      "text/plain": [
       "<IPython.core.display.HTML object>"
      ]
     },
     "metadata": {},
     "output_type": "display_data"
    }
   ],
   "source": [
    "# Save the output\n",
    "np.save('../Data/search_output/coincident_S2_image_ids_dt'+str(deltatime)+'_mcc'+str(max_cloud_cover)+'_dlnd'+str(dist_land_mask)+image_catalog, coincident_S2_image_ids)\n",
    "np.save('../Data/search_output/S2_coords'+str(deltatime)+'_mcc'+str(max_cloud_cover)+'_dlnd'+str(dist_land_mask)+image_catalog, S2_coords)\n",
    "np.save('../Data/search_output/number_of_coincident_scenes_in_granule'+str(deltatime)+'_mcc'+str(max_cloud_cover)+'_dlnd'+str(dist_land_mask)+image_catalog, number_of_coincident_scenes_in_granule)\n",
    "np.save('../Data/search_output/is2_coordinate_tracks_matched'+str(deltatime)+'_mcc'+str(max_cloud_cover)+'_dlnd'+str(dist_land_mask)+image_catalog, is2_coordinate_tracks_matched)\n",
    "np.save('../Data/search_output/ATL_midtimes_matched'+str(deltatime)+'_mcc'+str(max_cloud_cover)+'_dlnd'+str(dist_land_mask)+image_catalog, ATL_midtimes_matched)\n",
    "np.save('../Data/search_output/ATL_filenames_matched'+str(deltatime)+'_mcc'+str(max_cloud_cover)+'_dlnd'+str(dist_land_mask)+image_catalog, ATL_filenames_matched)\n",
    "\n",
    "        "
   ]
  },
  {
   "cell_type": "code",
   "execution_count": 134,
   "id": "367f51f8-5748-4e80-a42b-67ffe6bfb65b",
   "metadata": {},
   "outputs": [
    {
     "data": {
      "text/html": [
       "\n",
       "            <style>\n",
       "                .geemap-dark {\n",
       "                    --jp-widgets-color: white;\n",
       "                    --jp-widgets-label-color: white;\n",
       "                    --jp-ui-font-color1: white;\n",
       "                    --jp-layout-color2: #454545;\n",
       "                    background-color: #383838;\n",
       "                }\n",
       "                    \n",
       "                .geemap-dark .jupyter-button {\n",
       "                    --jp-layout-color3: #383838;\n",
       "                }\n",
       "                \n",
       "                .geemap-colab {\n",
       "                    background-color: var(--colab-primary-surface-color, white);\n",
       "                }\n",
       "                    \n",
       "                .geemap-colab .jupyter-button {\n",
       "                    --jp-layout-color3: var(--colab-primary-surface-color, white);\n",
       "                }\n",
       "            </style>\n",
       "            "
      ],
      "text/plain": [
       "<IPython.core.display.HTML object>"
      ]
     },
     "metadata": {},
     "output_type": "display_data"
    },
    {
     "data": {
      "text/plain": [
       "array([list(['COPERNICUS/S2_SR_HARMONIZED/20210417T144751_20210417T144746_T33XWM']),\n",
       "       list(['COPERNICUS/S2_SR_HARMONIZED/20210421T124701_20210421T124657_T37XEL', 'COPERNICUS/S2_SR_HARMONIZED/20210421T124701_20210421T124657_T38XNQ', 'COPERNICUS/S2_SR_HARMONIZED/20210421T124701_20210421T124657_T38XNR', 'COPERNICUS/S2_SR_HARMONIZED/20210421T124701_20210421T124657_T38XNS', 'COPERNICUS/S2_SR_HARMONIZED/20210421T124701_20210421T124657_T39XVK', 'COPERNICUS/S2_SR_HARMONIZED/20210421T124701_20210421T124657_T39XVL']),\n",
       "       list(['COPERNICUS/S2_SR_HARMONIZED/20210425T113629_20210425T113626_T41XNL', 'COPERNICUS/S2_SR_HARMONIZED/20210425T113629_20210425T113626_T41XNM', 'COPERNICUS/S2_SR_HARMONIZED/20210425T113629_20210425T113626_T42XVR']),\n",
       "       list(['COPERNICUS/S2_SR_HARMONIZED/20210429T093539_20210429T093542_T45XWK', 'COPERNICUS/S2_SR_HARMONIZED/20210429T093539_20210429T093542_T45XWL', 'COPERNICUS/S2_SR_HARMONIZED/20210429T093539_20210429T093542_T46XDQ', 'COPERNICUS/S2_SR_HARMONIZED/20210429T093539_20210429T093542_T46XDR', 'COPERNICUS/S2_SR_HARMONIZED/20210429T093539_20210429T093542_T46XEQ', 'COPERNICUS/S2_SR_HARMONIZED/20210429T093539_20210429T093542_T46XER', 'COPERNICUS/S2_SR_HARMONIZED/20210429T093539_20210429T093542_T47XMK']),\n",
       "       list(['COPERNICUS/S2_SR_HARMONIZED/20210430T163901_20210430T163855_T26XNR', 'COPERNICUS/S2_SR_HARMONIZED/20210430T163901_20210430T163855_T27XVL', 'COPERNICUS/S2_SR_HARMONIZED/20210430T163901_20210430T163855_T27XWK', 'COPERNICUS/S2_SR_HARMONIZED/20210430T163901_20210430T163855_T27XWL', 'COPERNICUS/S2_SR_HARMONIZED/20210430T163901_20210430T163855_T28XDQ', 'COPERNICUS/S2_SR_HARMONIZED/20210430T163901_20210430T163855_T28XDR', 'COPERNICUS/S2_SR_HARMONIZED/20210430T172859_20210430T172854_T26XNR', 'COPERNICUS/S2_SR_HARMONIZED/20210430T172859_20210430T172854_T27XVL']),\n",
       "       list(['COPERNICUS/S2_SR_HARMONIZED/20211201T164639_20211201T164640_T17VNC', 'COPERNICUS/S2_SR_HARMONIZED/20211201T164639_20211201T164640_T17VND', 'COPERNICUS/S2_SR_HARMONIZED/20211201T164639_20211201T164640_T17VNE', 'COPERNICUS/S2_SR_HARMONIZED/20211201T164639_20211201T164640_T17VNF']),\n",
       "       list(['COPERNICUS/S2_SR_HARMONIZED/20220318T204201_20220318T204159_T12XWL', 'COPERNICUS/S2_SR_HARMONIZED/20220318T204201_20220318T204159_T13XDG', 'COPERNICUS/S2_SR_HARMONIZED/20220318T204201_20220318T204159_T13XDH', 'COPERNICUS/S2_SR_HARMONIZED/20220318T204201_20220318T204159_T13XEH', 'COPERNICUS/S2_SR_HARMONIZED/20220318T204201_20220318T204159_T13XEJ', 'COPERNICUS/S2_SR_HARMONIZED/20220318T204201_20220318T204159_T14XMP']),\n",
       "       list(['COPERNICUS/S2_SR_HARMONIZED/20220320T034529_20220320T034532_T54XVJ', 'COPERNICUS/S2_SR_HARMONIZED/20220320T034529_20220320T034532_T54XVK', 'COPERNICUS/S2_SR_HARMONIZED/20220320T034529_20220320T034532_T54XVL', 'COPERNICUS/S2_SR_HARMONIZED/20220320T034529_20220320T034532_T54XWL', 'COPERNICUS/S2_SR_HARMONIZED/20220320T034529_20220320T034532_T54XWM']),\n",
       "       list(['COPERNICUS/S2_SR_HARMONIZED/20220321T113659_20220321T113653_T35XNG', 'COPERNICUS/S2_SR_HARMONIZED/20220321T113659_20220321T113653_T35XNH', 'COPERNICUS/S2_SR_HARMONIZED/20220321T113659_20220321T113653_T35XNJ', 'COPERNICUS/S2_SR_HARMONIZED/20220321T122811_20220321T122814_T35XNJ', 'COPERNICUS/S2_SR_HARMONIZED/20220321T131739_20220321T131734_T35XNL', 'COPERNICUS/S2_SR_HARMONIZED/20220321T131739_20220321T131734_T35XPK']),\n",
       "       list(['COPERNICUS/S2_SR_HARMONIZED/20220322T184041_20220322T184040_T16XEJ', 'COPERNICUS/S2_SR_HARMONIZED/20220322T184041_20220322T184040_T16XEK', 'COPERNICUS/S2_SR_HARMONIZED/20220322T184041_20220322T184040_T16XEL', 'COPERNICUS/S2_SR_HARMONIZED/20220322T184041_20220322T184040_T16XEM', 'COPERNICUS/S2_SR_HARMONIZED/20220322T184041_20220322T184040_T17XME', 'COPERNICUS/S2_SR_HARMONIZED/20220322T184041_20220322T184040_T17XMF', 'COPERNICUS/S2_SR_HARMONIZED/20220322T184041_20220322T184040_T17XMG', 'COPERNICUS/S2_SR_HARMONIZED/20220322T192959_20220322T193000_T16XEM', 'COPERNICUS/S2_SR_HARMONIZED/20220322T192959_20220322T193000_T16XEN', 'COPERNICUS/S2_SR_HARMONIZED/20220322T192959_20220322T193000_T16XEP', 'COPERNICUS/S2_SR_HARMONIZED/20220322T192959_20220322T193000_T17XMH', 'COPERNICUS/S2_SR_HARMONIZED/20220322T192959_20220322T193000_T17XMJ', 'COPERNICUS/S2_SR_HARMONIZED/20220322T192959_20220322T193000_T17XNJ', 'COPERNICUS/S2_SR_HARMONIZED/20220322T192959_20220322T193000_T17XNK', 'COPERNICUS/S2_SR_HARMONIZED/20220322T192959_20220322T193000_T18XVQ']),\n",
       "       list(['COPERNICUS/S2_SR_HARMONIZED/20220329T082601_20220329T082604_T43XDF', 'COPERNICUS/S2_SR_HARMONIZED/20220329T082601_20220329T082604_T43XDG', 'COPERNICUS/S2_SR_HARMONIZED/20220329T082601_20220329T082604_T43XDH', 'COPERNICUS/S2_SR_HARMONIZED/20220329T082601_20220329T082604_T43XEG', 'COPERNICUS/S2_SR_HARMONIZED/20220329T082601_20220329T082604_T43XEH', 'COPERNICUS/S2_SR_HARMONIZED/20220329T082601_20220329T082604_T43XEJ', 'COPERNICUS/S2_SR_HARMONIZED/20220329T082601_20220329T082604_T44XMN', 'COPERNICUS/S2_SR_HARMONIZED/20220329T082601_20220329T082604_T44XMP', 'COPERNICUS/S2_SR_HARMONIZED/20220329T091549_20220329T091552_T43XEJ', 'COPERNICUS/S2_SR_HARMONIZED/20220329T091549_20220329T091552_T43XEK', 'COPERNICUS/S2_SR_HARMONIZED/20220329T091549_20220329T091552_T44XMP', 'COPERNICUS/S2_SR_HARMONIZED/20220329T091549_20220329T091552_T44XMQ', 'COPERNICUS/S2_SR_HARMONIZED/20220329T100611_20220329T100609_T43XEK', 'COPERNICUS/S2_SR_HARMONIZED/20220329T100611_20220329T100609_T43XEL', 'COPERNICUS/S2_SR_HARMONIZED/20220329T100611_20220329T100609_T44XMQ', 'COPERNICUS/S2_SR_HARMONIZED/20220329T100611_20220329T100609_T44XMR']),\n",
       "       list(['COPERNICUS/S2_SR_HARMONIZED/20220329T082601_20220329T082604_T43XDF', 'COPERNICUS/S2_SR_HARMONIZED/20220329T082601_20220329T082604_T43XDG', 'COPERNICUS/S2_SR_HARMONIZED/20220329T082601_20220329T082604_T43XDH', 'COPERNICUS/S2_SR_HARMONIZED/20220329T082601_20220329T082604_T43XEG', 'COPERNICUS/S2_SR_HARMONIZED/20220329T082601_20220329T082604_T43XEH', 'COPERNICUS/S2_SR_HARMONIZED/20220329T082601_20220329T082604_T43XEJ', 'COPERNICUS/S2_SR_HARMONIZED/20220329T082601_20220329T082604_T44XMN', 'COPERNICUS/S2_SR_HARMONIZED/20220329T082601_20220329T082604_T44XMP', 'COPERNICUS/S2_SR_HARMONIZED/20220329T091549_20220329T091552_T43XEJ', 'COPERNICUS/S2_SR_HARMONIZED/20220329T091549_20220329T091552_T43XEK', 'COPERNICUS/S2_SR_HARMONIZED/20220329T091549_20220329T091552_T44XMP', 'COPERNICUS/S2_SR_HARMONIZED/20220329T091549_20220329T091552_T44XMQ', 'COPERNICUS/S2_SR_HARMONIZED/20220329T100611_20220329T100609_T43XEK', 'COPERNICUS/S2_SR_HARMONIZED/20220329T100611_20220329T100609_T43XEL', 'COPERNICUS/S2_SR_HARMONIZED/20220329T100611_20220329T100609_T44XMQ', 'COPERNICUS/S2_SR_HARMONIZED/20220329T100611_20220329T100609_T44XMR']),\n",
       "       list(['COPERNICUS/S2_SR_HARMONIZED/20220402T062631_20220402T062630_T46XEK', 'COPERNICUS/S2_SR_HARMONIZED/20220402T062631_20220402T062630_T47XME', 'COPERNICUS/S2_SR_HARMONIZED/20220402T062631_20220402T062630_T47XMF', 'COPERNICUS/S2_SR_HARMONIZED/20220402T071619_20220402T071613_T46XEM', 'COPERNICUS/S2_SR_HARMONIZED/20220402T071619_20220402T071613_T47XMG', 'COPERNICUS/S2_SR_HARMONIZED/20220402T071619_20220402T071613_T47XMH', 'COPERNICUS/S2_SR_HARMONIZED/20220402T071619_20220402T071613_T47XMJ', 'COPERNICUS/S2_SR_HARMONIZED/20220402T071619_20220402T071613_T47XNH', 'COPERNICUS/S2_SR_HARMONIZED/20220402T071619_20220402T071613_T47XNJ', 'COPERNICUS/S2_SR_HARMONIZED/20220402T080611_20220402T080608_T47XMJ']),\n",
       "       list(['COPERNICUS/S2_SR_HARMONIZED/20220403T132719_20220403T132714_T27WWU', 'COPERNICUS/S2_SR_HARMONIZED/20220403T132719_20220403T132714_T27WWV', 'COPERNICUS/S2_SR_HARMONIZED/20220403T132719_20220403T132714_T27WXV', 'COPERNICUS/S2_SR_HARMONIZED/20220403T132719_20220403T132714_T27XWA', 'COPERNICUS/S2_SR_HARMONIZED/20220403T132719_20220403T132714_T27XXA', 'COPERNICUS/S2_SR_HARMONIZED/20220403T132719_20220403T132714_T28XDF', 'COPERNICUS/S2_SR_HARMONIZED/20220403T132719_20220403T132714_T28XDG', 'COPERNICUS/S2_SR_HARMONIZED/20220403T132719_20220403T132714_T28XDH', 'COPERNICUS/S2_SR_HARMONIZED/20220403T141741_20220403T141740_T28XDK', 'COPERNICUS/S2_SR_HARMONIZED/20220403T141741_20220403T141740_T28XDL', 'COPERNICUS/S2_SR_HARMONIZED/20220403T141741_20220403T141740_T28XDM', 'COPERNICUS/S2_SR_HARMONIZED/20220403T141741_20220403T141740_T28XEL', 'COPERNICUS/S2_SR_HARMONIZED/20220403T141741_20220403T141740_T28XEM', 'COPERNICUS/S2_SR_HARMONIZED/20220403T141741_20220403T141740_T28XEN', 'COPERNICUS/S2_SR_HARMONIZED/20220403T141741_20220403T141740_T29XMH', 'COPERNICUS/S2_SR_HARMONIZED/20220403T150759_20220403T150919_T28XEP', 'COPERNICUS/S2_SR_HARMONIZED/20220403T155821_20220403T155822_T28XEQ', 'COPERNICUS/S2_SR_HARMONIZED/20220403T155821_20220403T155822_T28XER', 'COPERNICUS/S2_SR_HARMONIZED/20220403T155821_20220403T155822_T29XMK', 'COPERNICUS/S2_SR_HARMONIZED/20220403T155821_20220403T155822_T29XML', 'COPERNICUS/S2_SR_HARMONIZED/20220403T155821_20220403T155822_T30XVR', 'COPERNICUS/S2_SR_HARMONIZED/20220403T164839_20220403T164838_T28XEQ', 'COPERNICUS/S2_SR_HARMONIZED/20220403T164839_20220403T164838_T28XER', 'COPERNICUS/S2_SR_HARMONIZED/20220403T164839_20220403T164838_T28XES', 'COPERNICUS/S2_SR_HARMONIZED/20220403T164839_20220403T164838_T29XMK', 'COPERNICUS/S2_SR_HARMONIZED/20220403T164839_20220403T164838_T29XML'])],\n",
       "      dtype=object)"
      ]
     },
     "execution_count": 134,
     "metadata": {},
     "output_type": "execute_result"
    }
   ],
   "source": []
  },
  {
   "cell_type": "code",
   "execution_count": 91,
   "id": "1560b584-9b0c-4865-8522-d634f9cfa20b",
   "metadata": {},
   "outputs": [
    {
     "data": {
      "text/html": [
       "\n",
       "            <style>\n",
       "                .geemap-dark {\n",
       "                    --jp-widgets-color: white;\n",
       "                    --jp-widgets-label-color: white;\n",
       "                    --jp-ui-font-color1: white;\n",
       "                    --jp-layout-color2: #454545;\n",
       "                    background-color: #383838;\n",
       "                }\n",
       "                    \n",
       "                .geemap-dark .jupyter-button {\n",
       "                    --jp-layout-color3: #383838;\n",
       "                }\n",
       "                \n",
       "                .geemap-colab {\n",
       "                    background-color: var(--colab-primary-surface-color, white);\n",
       "                }\n",
       "                    \n",
       "                .geemap-colab .jupyter-button {\n",
       "                    --jp-layout-color3: var(--colab-primary-surface-color, white);\n",
       "                }\n",
       "            </style>\n",
       "            "
      ],
      "text/plain": [
       "<IPython.core.display.HTML object>"
      ]
     },
     "metadata": {},
     "output_type": "display_data"
    },
    {
     "data": {
      "text/plain": [
       "[<ee.imagecollection.ImageCollection at 0x7f18283f1d90>,\n",
       " <ee.imagecollection.ImageCollection at 0x7f182be843d0>,\n",
       " <ee.imagecollection.ImageCollection at 0x7f1829700490>,\n",
       " <ee.imagecollection.ImageCollection at 0x7f1832433410>,\n",
       " <ee.imagecollection.ImageCollection at 0x7f18297bb7d0>,\n",
       " <ee.imagecollection.ImageCollection at 0x7f18289c0990>,\n",
       " <ee.imagecollection.ImageCollection at 0x7f1824e9c1d0>,\n",
       " <ee.imagecollection.ImageCollection at 0x7f1811907310>,\n",
       " <ee.imagecollection.ImageCollection at 0x7f18284d2c10>,\n",
       " <ee.imagecollection.ImageCollection at 0x7f1833115ad0>,\n",
       " <ee.imagecollection.ImageCollection at 0x7f1824d98750>,\n",
       " <ee.imagecollection.ImageCollection at 0x7f182845c990>,\n",
       " <ee.imagecollection.ImageCollection at 0x7f1828816590>,\n",
       " <ee.imagecollection.ImageCollection at 0x7f1830e46bd0>]"
      ]
     },
     "execution_count": 91,
     "metadata": {},
     "output_type": "execute_result"
    }
   ],
   "source": [
    "coincident_S2_images"
   ]
  },
  {
   "cell_type": "code",
   "execution_count": 92,
   "id": "d090b6b8-ab22-4ae2-bf80-32a09f0906e6",
   "metadata": {},
   "outputs": [
    {
     "data": {
      "text/html": [
       "\n",
       "            <style>\n",
       "                .geemap-dark {\n",
       "                    --jp-widgets-color: white;\n",
       "                    --jp-widgets-label-color: white;\n",
       "                    --jp-ui-font-color1: white;\n",
       "                    --jp-layout-color2: #454545;\n",
       "                    background-color: #383838;\n",
       "                }\n",
       "                    \n",
       "                .geemap-dark .jupyter-button {\n",
       "                    --jp-layout-color3: #383838;\n",
       "                }\n",
       "                \n",
       "                .geemap-colab {\n",
       "                    background-color: var(--colab-primary-surface-color, white);\n",
       "                }\n",
       "                    \n",
       "                .geemap-colab .jupyter-button {\n",
       "                    --jp-layout-color3: var(--colab-primary-surface-color, white);\n",
       "                }\n",
       "            </style>\n",
       "            "
      ],
      "text/plain": [
       "<IPython.core.display.HTML object>"
      ]
     },
     "metadata": {},
     "output_type": "display_data"
    },
    {
     "name": "stdout",
     "output_type": "stream",
     "text": [
      "Mosaicing images...\n",
      "Mosaicing images...\n",
      "Mosaicing images...\n",
      "Mosaicing images...\n",
      "Mosaicing images...\n",
      "Mosaicing images...\n",
      "Mosaicing images...\n",
      "Mosaicing images...\n",
      "Mosaicing images...\n",
      "Mosaicing images...\n",
      "Mosaicing images...\n",
      "Mosaicing images...\n",
      "Mosaicing images...\n",
      "Mosaicing images...\n"
     ]
    }
   ],
   "source": [
    "# MOSAIC images\n",
    "coincident_S2_mosaics=[]\n",
    "for imagecollection in coincident_S2_images:\n",
    "    # mosaic images and save that too\n",
    "    # more ideas here: https://developers.google.com/earth-engine/apidocs/ee-imagecollection-mosaic\n",
    "    # could add cloud filters and other things here, for now just creudely mosaic them...\n",
    "    print('Mosaicing images...')\n",
    "    mosaic = imagecollection.mosaic()\n",
    "    coincident_S2_mosaics.append(mosaic)"
   ]
  },
  {
   "cell_type": "code",
   "execution_count": null,
   "id": "8a58a94f-848b-4711-b8ef-1e607897e6dd",
   "metadata": {},
   "outputs": [],
   "source": []
  },
  {
   "cell_type": "code",
   "execution_count": 120,
   "id": "ead99f0b-2dec-410f-bb7f-1ed4e3b497c9",
   "metadata": {},
   "outputs": [
    {
     "data": {
      "text/html": [
       "\n",
       "            <style>\n",
       "                .geemap-dark {\n",
       "                    --jp-widgets-color: white;\n",
       "                    --jp-widgets-label-color: white;\n",
       "                    --jp-ui-font-color1: white;\n",
       "                    --jp-layout-color2: #454545;\n",
       "                    background-color: #383838;\n",
       "                }\n",
       "                    \n",
       "                .geemap-dark .jupyter-button {\n",
       "                    --jp-layout-color3: #383838;\n",
       "                }\n",
       "                \n",
       "                .geemap-colab {\n",
       "                    background-color: var(--colab-primary-surface-color, white);\n",
       "                }\n",
       "                    \n",
       "                .geemap-colab .jupyter-button {\n",
       "                    --jp-layout-color3: var(--colab-primary-surface-color, white);\n",
       "                }\n",
       "            </style>\n",
       "            "
      ],
      "text/plain": [
       "<IPython.core.display.HTML object>"
      ]
     },
     "metadata": {},
     "output_type": "display_data"
    },
    {
     "ename": "IndexError",
     "evalue": "list index out of range",
     "output_type": "error",
     "traceback": [
      "\u001b[0;31m---------------------------------------------------------------------------\u001b[0m",
      "\u001b[0;31mIndexError\u001b[0m                                Traceback (most recent call last)",
      "Cell \u001b[0;32mIn[120], line 7\u001b[0m\n\u001b[1;32m      3\u001b[0m coincident_granule_num \u001b[38;5;241m=\u001b[39m \u001b[38;5;241m14\u001b[39m\n\u001b[1;32m      5\u001b[0m \u001b[38;5;66;03m#coincident_S2_images\u001b[39;00m\n\u001b[1;32m      6\u001b[0m \u001b[38;5;66;03m#s2_id = coincident_S2_images[coincident_granule_num].aggregate_first('id').getInfo()\u001b[39;00m\n\u001b[0;32m----> 7\u001b[0m mean_cloud_cover \u001b[38;5;241m=\u001b[39m \u001b[43mcoincident_S2_images\u001b[49m\u001b[43m[\u001b[49m\u001b[43mcoincident_granule_num\u001b[49m\u001b[43m]\u001b[49m\u001b[38;5;241m.\u001b[39maggregate_mean(\u001b[38;5;124m'\u001b[39m\u001b[38;5;124mCLOUD_COVERAGE_ASSESSMENT\u001b[39m\u001b[38;5;124m'\u001b[39m)\u001b[38;5;241m.\u001b[39mgetInfo()\n\u001b[1;32m      8\u001b[0m \u001b[38;5;66;03m#mean_cloud_pixel = coincident_S2_images[coincident_granule_num].aggregate_mean('CLOUDY_PIXEL_PERCENTAGE').getInfo()\u001b[39;00m\n\u001b[1;32m      9\u001b[0m mean_time_delta \u001b[38;5;241m=\u001b[39m coincident_S2_images[coincident_granule_num]\u001b[38;5;241m.\u001b[39maggregate_mean(\u001b[38;5;124m'\u001b[39m\u001b[38;5;124msystem:time_start\u001b[39m\u001b[38;5;124m'\u001b[39m)\u001b[38;5;241m.\u001b[39mgetInfo()\n",
      "\u001b[0;31mIndexError\u001b[0m: list index out of range"
     ]
    }
   ],
   "source": [
    "Map = geemap.Map()\n",
    "\n",
    "coincident_granule_num = 14\n",
    "\n",
    "#coincident_S2_images\n",
    "#s2_id = coincident_S2_images[coincident_granule_num].aggregate_first('id').getInfo()\n",
    "mean_cloud_cover = coincident_S2_images[coincident_granule_num].aggregate_mean('CLOUD_COVERAGE_ASSESSMENT').getInfo()\n",
    "#mean_cloud_pixel = coincident_S2_images[coincident_granule_num].aggregate_mean('CLOUDY_PIXEL_PERCENTAGE').getInfo()\n",
    "mean_time_delta = coincident_S2_images[coincident_granule_num].aggregate_mean('system:time_start').getInfo()\n",
    "time_s2 = datetime(1970, 1, 1) + timedelta(seconds = mean_time_delta/1000) \n",
    "\n",
    "print(ATL_filenames_matched[coincident_granule_num])\n",
    "cs2_file_name = c2ice_df[c2ice_df['atl07filename']==ATL_filenames_matched[coincident_granule_num]].l2filename.tolist()[0]\n",
    "print(cs2_file_name)\n",
    "print('Coincident S-2 images', coincident_S2_image_ids[coincident_granule_num])\n",
    "\n",
    "time_cs2_s = c2ice_df[c2ice_df['atl07filename']==ATL_filenames_matched[coincident_granule_num]].cs2_start_time_dt.tolist()[0]\n",
    "time_is2_s = c2ice_df[c2ice_df['atl07filename']==ATL_filenames_matched[coincident_granule_num]].is2_start_time_dt.tolist()[0]\n",
    "time_diff_mins_cs2 = np.int(abs(time_cs2_s-time_s2).seconds/60)\n",
    "time_diff_mins_is2 = np.int(abs(time_is2_s-time_s2).seconds/60)\n",
    "print(f\"Time difference = {time_diff_mins_cs2} minutes between S-2 and start of IS-2 track\")\n",
    "print(f\"Time difference = {time_diff_mins_is2_v2} minutes between S-2 and start of CS-2 track\")\n",
    "\n",
    "time_is2_m = ATL_midtimes_matched[coincident_granule_num]\n",
    "time_diff_mins_is2_mid = np.int(abs(time_is2_m-time_s2).seconds/60)\n",
    "print(f\"Time difference = {time_diff_mins_is2_mid} minutes between S-2 and estimated middle of IS-2 track\")\n",
    "\n",
    "print(f\"Cloud cover = {mean_cloud_cover} %\")\n",
    "\n",
    "\n",
    "\n",
    "#print(mean_cloud_cover, time_s2, time_is2, time_diff_mins)\n",
    "\n",
    "mosaiced_scene = coincident_S2_mosaics[coincident_granule_num]\n",
    "#img = ee.Image(mosaiced_scene).select('B4','B3','B2')\n",
    "\n",
    "Map.addLayer(mosaiced_scene, {'bands': ['B4', 'B3', 'B2'], 'max': 10000}, 'RGB Mosaic')\n",
    "\n",
    "# Center Map around the first image, not figured out how to instead use the mosaic for this\n",
    "img = ee.Image(coincident_S2_image_ids[coincident_granule_num][0]).select('B4','B3','B2')\n",
    "Map.centerObject(img, zoom = 7)\n",
    "Map.addLayer(is2_coordinate_tracks_matched[coincident_granule_num], {}, \"ATl07 beam (middle strong)\")\n",
    "#Map.to_html(outfile='./your_map.html', title='My Map', width='100%', height='880px')\n",
    "\n",
    "# Export the map as a PNG\n",
    "#url = mosaiced_scene.getThumbURL({\n",
    "#    'region': geometry.getInfo(),\n",
    "#    'dimensions': 1024,\n",
    "#    'format': 'png'\n",
    "#})\n",
    "\n",
    "Map"
   ]
  },
  {
   "cell_type": "code",
   "execution_count": null,
   "id": "0480ad1e-154b-467a-b095-2625019acbe8",
   "metadata": {},
   "outputs": [],
   "source": []
  },
  {
   "cell_type": "code",
   "execution_count": 136,
   "id": "f829fa96-89cb-4377-b626-82d777506ba1",
   "metadata": {},
   "outputs": [
    {
     "data": {
      "text/html": [
       "\n",
       "            <style>\n",
       "                .geemap-dark {\n",
       "                    --jp-widgets-color: white;\n",
       "                    --jp-widgets-label-color: white;\n",
       "                    --jp-ui-font-color1: white;\n",
       "                    --jp-layout-color2: #454545;\n",
       "                    background-color: #383838;\n",
       "                }\n",
       "                    \n",
       "                .geemap-dark .jupyter-button {\n",
       "                    --jp-layout-color3: #383838;\n",
       "                }\n",
       "                \n",
       "                .geemap-colab {\n",
       "                    background-color: var(--colab-primary-surface-color, white);\n",
       "                }\n",
       "                    \n",
       "                .geemap-colab .jupyter-button {\n",
       "                    --jp-layout-color3: var(--colab-primary-surface-color, white);\n",
       "                }\n",
       "            </style>\n",
       "            "
      ],
      "text/plain": [
       "<IPython.core.display.HTML object>"
      ]
     },
     "metadata": {},
     "output_type": "display_data"
    },
    {
     "data": {
      "image/png": "[encoded data removed]",
      "text/plain": [
       "<Figure size 1000x1000 with 1 Axes>"
      ]
     },
     "metadata": {},
     "output_type": "display_data"
    }
   ],
   "source": [
    "# Plot a little map showing the location of the S-2 images\n",
    "\n",
    "import matplotlib.pyplot as plt\n",
    "import cartopy.crs as ccrs\n",
    "import cartopy.feature as cfeature\n",
    "\n",
    "# Your list of longitudes and latitudes\n",
    "# Format: [(lon1, lat1), (lon2, lat2), ...]\n",
    "coordinates = [(80, 80), (85, 85)]\n",
    "\n",
    "# Create a figure and add a subplot with a North Polar Stereographic projection\n",
    "fig = plt.figure(figsize=(10, 10))\n",
    "ax = fig.add_subplot(1, 1, 1, projection=ccrs.NorthPolarStereo())\n",
    "\n",
    "# Set the extent of the map to focus on the North Pole area\n",
    "ax.set_extent([-180, 180, 60, 90], ccrs.PlateCarree())\n",
    "\n",
    "# Add coastlines and borders for context\n",
    "ax.add_feature(cfeature.COASTLINE)\n",
    "#ax.add_feature(cfeature.BORDERS, linestyle=':')\n",
    "\n",
    "# Plot the markers based on the provided coordinates\n",
    "x=1\n",
    "for lon, lat in S2_coords:\n",
    "    ax.plot(lon, lat, 'ro', markersize=5, transform=ccrs.Geodetic())\n",
    "    ax.text(lon, lat, str(x), transform=ccrs.Geodetic())\n",
    "    x+=1\n",
    "\n",
    "plt.savefig('../Data/search_output/locations'+str(deltatime)+'_mcc'+str(max_cloud_cover)+'_dlnd'+str(dist_land_mask)+image_catalog+'.png')\n",
    "# Display the plot\n",
    "plt.show()\n"
   ]
  },
  {
   "cell_type": "code",
   "execution_count": 95,
   "id": "eb286d47-4547-4618-b19c-be91c504f813",
   "metadata": {},
   "outputs": [
    {
     "data": {
      "text/html": [
       "\n",
       "            <style>\n",
       "                .geemap-dark {\n",
       "                    --jp-widgets-color: white;\n",
       "                    --jp-widgets-label-color: white;\n",
       "                    --jp-ui-font-color1: white;\n",
       "                    --jp-layout-color2: #454545;\n",
       "                    background-color: #383838;\n",
       "                }\n",
       "                    \n",
       "                .geemap-dark .jupyter-button {\n",
       "                    --jp-layout-color3: #383838;\n",
       "                }\n",
       "                \n",
       "                .geemap-colab {\n",
       "                    background-color: var(--colab-primary-surface-color, white);\n",
       "                }\n",
       "                    \n",
       "                .geemap-colab .jupyter-button {\n",
       "                    --jp-layout-color3: var(--colab-primary-surface-color, white);\n",
       "                }\n",
       "            </style>\n",
       "            "
      ],
      "text/plain": [
       "<IPython.core.display.HTML object>"
      ]
     },
     "metadata": {},
     "output_type": "display_data"
    }
   ],
   "source": [
    "#%pip install leafmap"
   ]
  },
  {
   "cell_type": "code",
   "execution_count": 96,
   "id": "6e02f6a3-6ab0-4237-a5b1-c35a9e67e04f",
   "metadata": {},
   "outputs": [
    {
     "data": {
      "text/html": [
       "\n",
       "            <style>\n",
       "                .geemap-dark {\n",
       "                    --jp-widgets-color: white;\n",
       "                    --jp-widgets-label-color: white;\n",
       "                    --jp-ui-font-color1: white;\n",
       "                    --jp-layout-color2: #454545;\n",
       "                    background-color: #383838;\n",
       "                }\n",
       "                    \n",
       "                .geemap-dark .jupyter-button {\n",
       "                    --jp-layout-color3: #383838;\n",
       "                }\n",
       "                \n",
       "                .geemap-colab {\n",
       "                    background-color: var(--colab-primary-surface-color, white);\n",
       "                }\n",
       "                    \n",
       "                .geemap-colab .jupyter-button {\n",
       "                    --jp-layout-color3: var(--colab-primary-surface-color, white);\n",
       "                }\n",
       "            </style>\n",
       "            "
      ],
      "text/plain": [
       "<IPython.core.display.HTML object>"
      ]
     },
     "metadata": {},
     "output_type": "display_data"
    }
   ],
   "source": [
    "#import os\n",
    "#import leafmap.leafmap as leafmap"
   ]
  },
  {
   "cell_type": "code",
   "execution_count": 97,
   "id": "ff4175b5-a2d5-43d9-a770-03771f0ad78c",
   "metadata": {},
   "outputs": [
    {
     "data": {
      "text/html": [
       "\n",
       "            <style>\n",
       "                .geemap-dark {\n",
       "                    --jp-widgets-color: white;\n",
       "                    --jp-widgets-label-color: white;\n",
       "                    --jp-ui-font-color1: white;\n",
       "                    --jp-layout-color2: #454545;\n",
       "                    background-color: #383838;\n",
       "                }\n",
       "                    \n",
       "                .geemap-dark .jupyter-button {\n",
       "                    --jp-layout-color3: #383838;\n",
       "                }\n",
       "                \n",
       "                .geemap-colab {\n",
       "                    background-color: var(--colab-primary-surface-color, white);\n",
       "                }\n",
       "                    \n",
       "                .geemap-colab .jupyter-button {\n",
       "                    --jp-layout-color3: var(--colab-primary-surface-color, white);\n",
       "                }\n",
       "            </style>\n",
       "            "
      ],
      "text/plain": [
       "<IPython.core.display.HTML object>"
      ]
     },
     "metadata": {},
     "output_type": "display_data"
    }
   ],
   "source": [
    "#mosaiced_scene"
   ]
  },
  {
   "cell_type": "code",
   "execution_count": 98,
   "id": "20a76997-4156-4e4b-a948-0b377f6c9219",
   "metadata": {},
   "outputs": [
    {
     "data": {
      "text/html": [
       "\n",
       "            <style>\n",
       "                .geemap-dark {\n",
       "                    --jp-widgets-color: white;\n",
       "                    --jp-widgets-label-color: white;\n",
       "                    --jp-ui-font-color1: white;\n",
       "                    --jp-layout-color2: #454545;\n",
       "                    background-color: #383838;\n",
       "                }\n",
       "                    \n",
       "                .geemap-dark .jupyter-button {\n",
       "                    --jp-layout-color3: #383838;\n",
       "                }\n",
       "                \n",
       "                .geemap-colab {\n",
       "                    background-color: var(--colab-primary-surface-color, white);\n",
       "                }\n",
       "                    \n",
       "                .geemap-colab .jupyter-button {\n",
       "                    --jp-layout-color3: var(--colab-primary-surface-color, white);\n",
       "                }\n",
       "            </style>\n",
       "            "
      ],
      "text/plain": [
       "<IPython.core.display.HTML object>"
      ]
     },
     "metadata": {},
     "output_type": "display_data"
    }
   ],
   "source": [
    "#m = leafmap.Map()\n",
    "#m.add(\"nasa_earth_data\")\n",
    "#m.add_layer(mosaiced_scene,['B4', 'B3', 'B2'])\n",
    "#url = \"https://canada-spot-ortho.s3.amazonaws.com/canada_spot_orthoimages/canada_spot5_orthoimages/S5_2007/S5_11055_6057_20070622/S5_11055_6057_20070622.json\"\n",
    "#leafmap.stac_assets(url)\n",
    "#leafmap.stac_center(url)\n",
    "#leafmap.stac_bounds(url)\n",
    "#m.add_stac_layer(url, bands=[\"B3\", \"B2\", \"B1\"])\n",
    "#m"
   ]
  },
  {
   "cell_type": "code",
   "execution_count": 99,
   "id": "1c757575-ec00-400b-a76a-94e16a697b77",
   "metadata": {},
   "outputs": [
    {
     "data": {
      "text/html": [
       "\n",
       "            <style>\n",
       "                .geemap-dark {\n",
       "                    --jp-widgets-color: white;\n",
       "                    --jp-widgets-label-color: white;\n",
       "                    --jp-ui-font-color1: white;\n",
       "                    --jp-layout-color2: #454545;\n",
       "                    background-color: #383838;\n",
       "                }\n",
       "                    \n",
       "                .geemap-dark .jupyter-button {\n",
       "                    --jp-layout-color3: #383838;\n",
       "                }\n",
       "                \n",
       "                .geemap-colab {\n",
       "                    background-color: var(--colab-primary-surface-color, white);\n",
       "                }\n",
       "                    \n",
       "                .geemap-colab .jupyter-button {\n",
       "                    --jp-layout-color3: var(--colab-primary-surface-color, white);\n",
       "                }\n",
       "            </style>\n",
       "            "
      ],
      "text/plain": [
       "<IPython.core.display.HTML object>"
      ]
     },
     "metadata": {},
     "output_type": "display_data"
    }
   ],
   "source": [
    "#Map.to_html(outfile='./your_map.html', title='My Map', width='100%', height='880px')"
   ]
  },
  {
   "cell_type": "code",
   "execution_count": 100,
   "id": "e48f3601-65e8-462a-9619-865e195d540b",
   "metadata": {},
   "outputs": [
    {
     "data": {
      "text/html": [
       "\n",
       "            <style>\n",
       "                .geemap-dark {\n",
       "                    --jp-widgets-color: white;\n",
       "                    --jp-widgets-label-color: white;\n",
       "                    --jp-ui-font-color1: white;\n",
       "                    --jp-layout-color2: #454545;\n",
       "                    background-color: #383838;\n",
       "                }\n",
       "                    \n",
       "                .geemap-dark .jupyter-button {\n",
       "                    --jp-layout-color3: #383838;\n",
       "                }\n",
       "                \n",
       "                .geemap-colab {\n",
       "                    background-color: var(--colab-primary-surface-color, white);\n",
       "                }\n",
       "                    \n",
       "                .geemap-colab .jupyter-button {\n",
       "                    --jp-layout-color3: var(--colab-primary-surface-color, white);\n",
       "                }\n",
       "            </style>\n",
       "            "
      ],
      "text/plain": [
       "<IPython.core.display.HTML object>"
      ]
     },
     "metadata": {},
     "output_type": "display_data"
    },
    {
     "ename": "NameError",
     "evalue": "name 'coincident_granules_idx' is not defined",
     "output_type": "error",
     "traceback": [
      "\u001b[0;31m---------------------------------------------------------------------------\u001b[0m",
      "\u001b[0;31mNameError\u001b[0m                                 Traceback (most recent call last)",
      "Cell \u001b[0;32mIn[100], line 4\u001b[0m\n\u001b[1;32m      1\u001b[0m \u001b[38;5;66;03m# In this section, we can check single coincident dataset on the map by assigning different values from non_zero_indices to test_x. \u001b[39;00m\n\u001b[1;32m      2\u001b[0m \u001b[38;5;66;03m# AP update: I dont need the time check here as it's in my function above!\u001b[39;00m\n\u001b[1;32m      3\u001b[0m granule_num\u001b[38;5;241m=\u001b[39m\u001b[38;5;241m1\u001b[39m\n\u001b[0;32m----> 4\u001b[0m scene_number \u001b[38;5;241m=\u001b[39m \u001b[43mcoincident_granules_idx\u001b[49m[granule_num]\n\u001b[1;32m      5\u001b[0m S2_ids \u001b[38;5;241m=\u001b[39m [S2_scenes[scene_number]\u001b[38;5;241m.\u001b[39mtoList(number_of_scenes[scene_number])\u001b[38;5;241m.\u001b[39mgetInfo()[i][\u001b[38;5;124m'\u001b[39m\u001b[38;5;124mid\u001b[39m\u001b[38;5;124m'\u001b[39m] \u001b[38;5;28;01mfor\u001b[39;00m i \u001b[38;5;129;01min\u001b[39;00m \u001b[38;5;28mrange\u001b[39m(\u001b[38;5;241m0\u001b[39m, number_of_scenes[scene_number])]  \n\u001b[1;32m      7\u001b[0m \u001b[38;5;66;03m#time_diff = 3600*4 # Target time difference between ATL07 and Sentinel-2 < 3 hours\u001b[39;00m\n\u001b[1;32m      8\u001b[0m \u001b[38;5;66;03m#time_IS2 = datetime.strptime(IS2_file_name[test_x][-33:-19], \"%Y%m%d%H%M%S\")\u001b[39;00m\n",
      "\u001b[0;31mNameError\u001b[0m: name 'coincident_granules_idx' is not defined"
     ]
    }
   ],
   "source": [
    "# In this section, we can check single coincident dataset on the map by assigning different values from non_zero_indices to test_x. \n",
    "# AP update: I dont need the time check here as it's in my function above!\n",
    "granule_num=1\n",
    "scene_number = coincident_granules_idx[granule_num]\n",
    "S2_ids = [S2_scenes[scene_number].toList(number_of_scenes[scene_number]).getInfo()[i]['id'] for i in range(0, number_of_scenes[scene_number])]  \n",
    "\n",
    "#time_diff = 3600*4 # Target time difference between ATL07 and Sentinel-2 < 3 hours\n",
    "#time_IS2 = datetime.strptime(IS2_file_name[test_x][-33:-19], \"%Y%m%d%H%M%S\")\n",
    "\n",
    "Map = geemap.Map()\n",
    "\n",
    "for i in range(0, number_of_scenes[scene_number]):\n",
    "#for i in range(0, 1):\n",
    "    time_start = S2_scenes[scene_number].toList(number_of_scenes[scene_number]).getInfo()[i]['properties']['system:time_start']\n",
    "    time_s2 = datetime(1970, 1, 1) + timedelta(seconds = time_start/1000)   \n",
    "    \n",
    "    img_name = os.path.basename(S2_ids[i])\n",
    "\n",
    "    # Time difference between IS2 and S2 < defined time_diff\n",
    "    #if abs(time_IS2-time_s2).seconds <= time_diff:\n",
    "\n",
    "    print(f\" {img_name}: Time difference = {np.int(abs(ATL_mid_times[granule_num]-time_s2).seconds/60)} minutes with ICESat-2 track\")\n",
    "    \n",
    "    img = ee.Image(S2_ids[i]).select('B4','B3','B2')\n",
    "    dim = img.getInfo()['bands'][0]['dimensions']\n",
    "    if dim[0] > 10000 and dim[1] > 0:\n",
    "        # # Download image into the local folder\n",
    "        #geemap.download_ee_image(img, f\"S2_{img_name}.tif\", scale=50)\n",
    "        Map.addLayer(img, {'min': 0, 'max': 10000}, img_name)\n",
    "        #print(f\" {img_name}: Time difference = {abs(time_IS2-time_s2).seconds/3600} hours with ICESat-2 track\")\n",
    "        #else:\n",
    "        #    print(f\"SKIP {img_name}: Not a full image\")\n",
    "   #else:\n",
    "   #     print(f\"SKIP {img_name}: Time difference > {time_diff/3600} hours with ICESat-2 track\")\n",
    "   #     Map.addLayer(img, {'min': 0, 'max': 10000}, img_name)\n",
    "   #     print(f\" {img_name}: Time difference = {abs(time_IS2-time_s2).seconds/3600} hours with ICESat-2 track\")\n",
    "\n",
    "Map.centerObject(img, zoom = 5)\n",
    "Map.addLayer(feature_track[scene_number], {}, \"IS2 track\")\n",
    "\n",
    "\n",
    "Map"
   ]
  },
  {
   "cell_type": "code",
   "execution_count": null,
   "id": "8d8159c5-678c-4ec2-909e-7488cf246306",
   "metadata": {},
   "outputs": [],
   "source": [
    "S2[scene_number].toList(number_of_scenes[scene_number]).getInfo()[i]['properties']"
   ]
  },
  {
   "cell_type": "code",
   "execution_count": null,
   "id": "02d36cdd-4cc0-4dc7-865b-e45d0efacc3b",
   "metadata": {},
   "outputs": [],
   "source": []
  }
 ],
 "metadata": {
  "kernelspec": {
   "display_name": "Python 3 (ipykernel)",
   "language": "python",
   "name": "python3"
  },
  "language_info": {
   "codemirror_mode": {
    "name": "ipython",
    "version": 3
   },
   "file_extension": ".py",
   "mimetype": "text/x-python",
   "name": "python",
   "nbconvert_exporter": "python",
   "pygments_lexer": "ipython3",
   "version": "3.11.8"
  }
 },
 "nbformat": 4,
 "nbformat_minor": 5
}
