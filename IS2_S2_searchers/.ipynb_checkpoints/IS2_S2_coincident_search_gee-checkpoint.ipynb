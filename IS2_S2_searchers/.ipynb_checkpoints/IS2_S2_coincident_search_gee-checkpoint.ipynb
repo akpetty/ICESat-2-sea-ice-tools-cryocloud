{
 "cells": [
  {
   "cell_type": "markdown",
   "id": "18a3e162-e102-41f5-b578-f7d1e05eeb17",
   "metadata": {},
   "source": [
    "## IS2_S2_cryo2ice_search.ipynb\n",
    "Alek Petty, adapted from an earlier M. Bagnardi script.\n",
    "\n",
    "Deescription:\n",
    "- This notebook searches for semi-coincident ICESat-2 and Sentinel-2 data.\n",
    "- The code finds Sentinel-2 images with ICESat-2 data falling within the image's footprint.\n",
    "- The code was updated to read in ATL07 data from the new cloud storage using earthdata, see relevant tutorials:\n",
    "     https://github.com/nsidc/NSIDC-Data-Tutorials/blob/main/notebooks/ICESat-2_Cloud_Access/ATL06-direct-access_rendered.ipynb\n",
    "     https://github.com/nsidc/NSIDC-Data-Tutorials/blob/main/notebooks/ICESat-2_Cloud_Access/nsidc_daac_uwg_cloud_access_tutorial_rendered.ipynb (No longer hosted!!) \n",
    " \n",
    "To do:\n",
    "- Should we use CLOUD_COVERAGE_ASSESSMENT or CLOUDY_PIXEL_PERCENTAGE?\n",
    "- Check all beams instead of just the middle beam.\n",
    "- Add in other imagery/satellite sensors.\n",
    "\n",
    "Notes:\n",
    "- Using the middle strong beam but could be easily adapted to check across all beams.\n",
    "- Tested with the adapted 'geo' conda env on cryocloud if you want to convert into a python script.\n",
    "\n",
    "Output:\n",
    "\n",
    "Update history:\n",
    " - Current notebook created in Sep 2024.\n"
   ]
  },
  {
   "cell_type": "code",
   "execution_count": 1,
   "id": "96049f4f-ab3a-49da-b1f0-e2b924dbaa97",
   "metadata": {},
   "outputs": [],
   "source": [
    "# Uncomment these out when running for the first time on cryocloud\n",
    "#%pip install sentinelsat\n",
    "#%pip install earthdata\n",
    "#%pip install astropy"
   ]
  },
  {
   "cell_type": "code",
   "execution_count": 2,
   "id": "98cd6034-b678-4e9c-ab5a-b6fcc7da41b8",
   "metadata": {},
   "outputs": [],
   "source": [
    "# Load modules\n",
    "import datetime as dt\n",
    "import h5py\n",
    "import pandas as pd\n",
    "# Need to do this for geopandas for some reason\n",
    "import os\n",
    "os.environ['USE_PYGEOS'] = '0'\n",
    "import geopandas as gpd\n",
    "import glob\n",
    "from shapely.geometry import Point\n",
    "import matplotlib.pyplot as plt\n",
    "import os\n",
    "\n",
    "import numpy as np\n",
    "from PIL import Image\n",
    "import io\n",
    "import requests\n",
    "import time\n",
    "import earthaccess\n",
    "import xarray as xr\n",
    "from datetime import datetime\n",
    "from datetime import timedelta\n",
    "\n",
    "#from astropy.time import Time\n",
    "#from sentinelsat import SentinelAPI, read_geojson, geojson_to_wkt\n",
    "\n",
    "import ee\n",
    "import geemap\n",
    "#Initialize the Google Earth Engine API, handling authentication if necessary.\n",
    "try:\n",
    "    ee.Initialize()\n",
    "except: \n",
    "    ee.Authenticate()\n",
    "    ee.Initialize()"
   ]
  },
  {
   "cell_type": "code",
   "execution_count": 3,
   "id": "cab80b01-023c-4032-b84e-379765608825",
   "metadata": {},
   "outputs": [
    {
     "data": {
      "text/html": [
       "\n",
       "            <style>\n",
       "                .geemap-dark {\n",
       "                    --jp-widgets-color: white;\n",
       "                    --jp-widgets-label-color: white;\n",
       "                    --jp-ui-font-color1: white;\n",
       "                    --jp-layout-color2: #454545;\n",
       "                    background-color: #383838;\n",
       "                }\n",
       "\n",
       "                .geemap-dark .jupyter-button {\n",
       "                    --jp-layout-color3: #383838;\n",
       "                }\n",
       "\n",
       "                .geemap-colab {\n",
       "                    background-color: var(--colab-primary-surface-color, white);\n",
       "                }\n",
       "\n",
       "                .geemap-colab .jupyter-button {\n",
       "                    --jp-layout-color3: var(--colab-primary-surface-color, white);\n",
       "                }\n",
       "            </style>\n",
       "            "
      ],
      "text/plain": [
       "<IPython.core.display.HTML object>"
      ]
     },
     "metadata": {},
     "output_type": "display_data"
    },
    {
     "name": "stdin",
     "output_type": "stream",
     "text": [
      "Enter your Earthdata Login username:  akpetty\n",
      "Enter your Earthdata password:  ········\n"
     ]
    }
   ],
   "source": [
    "# ICESat-2/earthaccess stuff\n",
    "auth = earthaccess.login()\n",
    "\n"
   ]
  },
  {
   "cell_type": "code",
   "execution_count": 4,
   "id": "c3ed414a-b26b-48fc-bef3-1b961660c30d",
   "metadata": {},
   "outputs": [
    {
     "data": {
      "text/html": [
       "\n",
       "            <style>\n",
       "                .geemap-dark {\n",
       "                    --jp-widgets-color: white;\n",
       "                    --jp-widgets-label-color: white;\n",
       "                    --jp-ui-font-color1: white;\n",
       "                    --jp-layout-color2: #454545;\n",
       "                    background-color: #383838;\n",
       "                }\n",
       "\n",
       "                .geemap-dark .jupyter-button {\n",
       "                    --jp-layout-color3: #383838;\n",
       "                }\n",
       "\n",
       "                .geemap-colab {\n",
       "                    background-color: var(--colab-primary-surface-color, white);\n",
       "                }\n",
       "\n",
       "                .geemap-colab .jupyter-button {\n",
       "                    --jp-layout-color3: var(--colab-primary-surface-color, white);\n",
       "                }\n",
       "            </style>\n",
       "            "
      ],
      "text/plain": [
       "<IPython.core.display.HTML object>"
      ]
     },
     "metadata": {},
     "output_type": "display_data"
    },
    {
     "data": {
      "application/vnd.jupyter.widget-view+json": {
       "model_id": "28235f6339274872b3b98590d7b59814",
       "version_major": 2,
       "version_minor": 0
      },
      "text/plain": [
       "QUEUEING TASKS | :   0%|          | 0/29 [00:00<?, ?it/s]"
      ]
     },
     "metadata": {},
     "output_type": "display_data"
    },
    {
     "data": {
      "application/vnd.jupyter.widget-view+json": {
       "model_id": "80fc372277384421988ce98bde622106",
       "version_major": 2,
       "version_minor": 0
      },
      "text/plain": [
       "PROCESSING TASKS | :   0%|          | 0/29 [00:00<?, ?it/s]"
      ]
     },
     "metadata": {},
     "output_type": "display_data"
    },
    {
     "data": {
      "application/vnd.jupyter.widget-view+json": {
       "model_id": "8204a5840532485eb9ea20265285df2d",
       "version_major": 2,
       "version_minor": 0
      },
      "text/plain": [
       "COLLECTING RESULTS | :   0%|          | 0/29 [00:00<?, ?it/s]"
      ]
     },
     "metadata": {},
     "output_type": "display_data"
    }
   ],
   "source": [
    "# Select search period \n",
    "date1 = \"2019-05-01\"\n",
    "date2 = \"2019-05-02\"\n",
    "\n",
    "granule_search = earthaccess.search_data(\n",
    "        short_name = 'ATL07',\n",
    "        #version = '006',\n",
    "        cloud_hosted = True,\n",
    "        # Arctic for now\n",
    "        bounding_box = (-180, 70, 180, 90),\n",
    "        temporal = (date1, date2)\n",
    ")\n",
    "\n",
    "# lazily open the files here, shouldn't take long which is what's great about this approach\n",
    "granules = earthaccess.open(granule_search)"
   ]
  },
  {
   "cell_type": "code",
   "execution_count": 5,
   "id": "6315fd86-e27a-4811-acdb-aa6d1f2e07b7",
   "metadata": {},
   "outputs": [
    {
     "data": {
      "text/html": [
       "\n",
       "            <style>\n",
       "                .geemap-dark {\n",
       "                    --jp-widgets-color: white;\n",
       "                    --jp-widgets-label-color: white;\n",
       "                    --jp-ui-font-color1: white;\n",
       "                    --jp-layout-color2: #454545;\n",
       "                    background-color: #383838;\n",
       "                }\n",
       "\n",
       "                .geemap-dark .jupyter-button {\n",
       "                    --jp-layout-color3: #383838;\n",
       "                }\n",
       "\n",
       "                .geemap-colab {\n",
       "                    background-color: var(--colab-primary-surface-color, white);\n",
       "                }\n",
       "\n",
       "                .geemap-colab .jupyter-button {\n",
       "                    --jp-layout-color3: var(--colab-primary-surface-color, white);\n",
       "                }\n",
       "            </style>\n",
       "            "
      ],
      "text/plain": [
       "<IPython.core.display.HTML object>"
      ]
     },
     "metadata": {},
     "output_type": "display_data"
    }
   ],
   "source": [
    "# See here for some different access options, for different types of file generally:\n",
    "#https://earthaccess.readthedocs.io/en/latest/howto/access-data/\n",
    "\n",
    "#import xarray as xr\n",
    "#files = earthaccess.open(results)\n",
    "#ds = xr.open_mfdataset(files)\n",
    "\n",
    "## if the data set is cloud-hosted there will be S3 links available. The access parameter accepts \"direct\" or \"external\". Direct access is only possible if you are in the us-west-2 region in the cloud.\n",
    "# Direct not working for some reason\n",
    "#data_links = [granule.data_links(access=\"external\") for granule in granule_search]\n"
   ]
  },
  {
   "cell_type": "code",
   "execution_count": 6,
   "id": "3d48ef75-7bb7-480b-990d-faa866fe2c65",
   "metadata": {},
   "outputs": [
    {
     "data": {
      "text/html": [
       "\n",
       "            <style>\n",
       "                .geemap-dark {\n",
       "                    --jp-widgets-color: white;\n",
       "                    --jp-widgets-label-color: white;\n",
       "                    --jp-ui-font-color1: white;\n",
       "                    --jp-layout-color2: #454545;\n",
       "                    background-color: #383838;\n",
       "                }\n",
       "\n",
       "                .geemap-dark .jupyter-button {\n",
       "                    --jp-layout-color3: #383838;\n",
       "                }\n",
       "\n",
       "                .geemap-colab {\n",
       "                    background-color: var(--colab-primary-surface-color, white);\n",
       "                }\n",
       "\n",
       "                .geemap-colab .jupyter-button {\n",
       "                    --jp-layout-color3: var(--colab-primary-surface-color, white);\n",
       "                }\n",
       "            </style>\n",
       "            "
      ],
      "text/plain": [
       "<IPython.core.display.HTML object>"
      ]
     },
     "metadata": {},
     "output_type": "display_data"
    },
    {
     "name": "stdout",
     "output_type": "stream",
     "text": [
      "0 <File-like object S3FileSystem, nsidc-cumulus-prod-protected/ATLAS/ATL07/006/2019/05/01/ATL07-01_20190430235014_05000301_006_02.h5>\n"
     ]
    },
    {
     "name": "stderr",
     "output_type": "stream",
     "text": [
      "/srv/conda/envs/notebook/lib/python3.11/site-packages/ee/deprecation.py:207: DeprecationWarning: \n",
      "\n",
      "Attention required for COPERNICUS/S2_SR! You are using a deprecated asset.\n",
      "To ensure continued functionality, please update it.\n",
      "Learn more: https://developers.google.com/earth-engine/datasets/catalog/COPERNICUS_S2_SR\n",
      "\n",
      "  warnings.warn(warning, category=DeprecationWarning)\n"
     ]
    },
    {
     "name": "stdout",
     "output_type": "stream",
     "text": [
      "\n",
      "Coincident S2 images: 10\n",
      "Coincident S2 image FOUND\n",
      "Done with granule.\n",
      "\n",
      "\n",
      "\n",
      "1 <File-like object S3FileSystem, nsidc-cumulus-prod-protected/ATLAS/ATL07/006/2019/05/01/ATL07-01_20190501012431_05010301_006_02.h5>\n",
      "\n",
      "Coincident S2 images: 8\n",
      "Coincident S2 image FOUND\n",
      "Done with granule.\n",
      "\n",
      "\n",
      "\n",
      "2 <File-like object S3FileSystem, nsidc-cumulus-prod-protected/ATLAS/ATL07/006/2019/05/01/ATL07-01_20190501025848_05020301_006_02.h5>\n",
      "\n",
      "Coincident S2 images: 6\n",
      "Coincident S2 image FOUND\n",
      "Done with granule.\n",
      "\n",
      "\n",
      "\n",
      "3 <File-like object S3FileSystem, nsidc-cumulus-prod-protected/ATLAS/ATL07/006/2019/05/01/ATL07-01_20190501043306_05030301_006_02.h5>\n",
      "\n",
      "Coincident S2 images: 0\n",
      "\n",
      "\n",
      "\n",
      "4 <File-like object S3FileSystem, nsidc-cumulus-prod-protected/ATLAS/ATL07/006/2019/05/01/ATL07-01_20190501074140_05050301_006_02.h5>\n",
      "\n",
      "Coincident S2 images: 0\n",
      "\n",
      "\n",
      "\n",
      "5 <File-like object S3FileSystem, nsidc-cumulus-prod-protected/ATLAS/ATL07/006/2019/05/01/ATL07-01_20190501091558_05060301_006_02.h5>\n",
      "\n",
      "Coincident S2 images: 0\n",
      "\n",
      "\n",
      "\n",
      "6 <File-like object S3FileSystem, nsidc-cumulus-prod-protected/ATLAS/ATL07/006/2019/05/01/ATL07-01_20190501105015_05070301_006_02.h5>\n",
      "\n",
      "Coincident S2 images: 0\n",
      "\n",
      "\n",
      "\n",
      "7 <File-like object S3FileSystem, nsidc-cumulus-prod-protected/ATLAS/ATL07/006/2019/05/01/ATL07-01_20190501122432_05080301_006_02.h5>\n",
      "\n",
      "Coincident S2 images: 8\n",
      "Coincident S2 image FOUND\n",
      "Done with granule.\n",
      "\n",
      "\n",
      "\n",
      "8 <File-like object S3FileSystem, nsidc-cumulus-prod-protected/ATLAS/ATL07/006/2019/05/01/ATL07-01_20190501135850_05090301_006_02.h5>\n",
      "\n",
      "Coincident S2 images: 4\n",
      "Coincident S2 image FOUND\n",
      "Done with granule.\n",
      "\n",
      "\n",
      "\n",
      "9 <File-like object S3FileSystem, nsidc-cumulus-prod-protected/ATLAS/ATL07/006/2019/05/01/ATL07-01_20190501153307_05100301_006_02.h5>\n",
      "\n",
      "Coincident S2 images: 10\n",
      "Coincident S2 image FOUND\n",
      "Done with granule.\n",
      "\n",
      "\n",
      "\n",
      "10 <File-like object S3FileSystem, nsidc-cumulus-prod-protected/ATLAS/ATL07/006/2019/05/01/ATL07-01_20190501170725_05110301_006_02.h5>\n",
      "\n",
      "Coincident S2 images: 5\n",
      "Coincident S2 image FOUND\n",
      "Done with granule.\n",
      "\n",
      "\n",
      "\n",
      "11 <File-like object S3FileSystem, nsidc-cumulus-prod-protected/ATLAS/ATL07/006/2019/05/01/ATL07-01_20190501184142_05120301_006_02.h5>\n",
      "\n",
      "Coincident S2 images: 0\n",
      "\n",
      "\n",
      "\n",
      "12 <File-like object S3FileSystem, nsidc-cumulus-prod-protected/ATLAS/ATL07/006/2019/05/01/ATL07-01_20190501201559_05130301_006_02.h5>\n",
      "\n",
      "Coincident S2 images: 1\n",
      "Coincident S2 image FOUND\n",
      "Done with granule.\n",
      "\n",
      "\n",
      "\n",
      "13 <File-like object S3FileSystem, nsidc-cumulus-prod-protected/ATLAS/ATL07/006/2019/05/01/ATL07-01_20190501215016_05140301_006_02.h5>\n",
      "\n",
      "Coincident S2 images: 36\n",
      "Coincident S2 image FOUND\n",
      "Done with granule.\n",
      "\n",
      "\n",
      "\n",
      "14 <File-like object S3FileSystem, nsidc-cumulus-prod-protected/ATLAS/ATL07/006/2019/05/01/ATL07-01_20190501232434_05150301_006_02.h5>\n",
      "\n",
      "Coincident S2 images: 10\n",
      "Coincident S2 image FOUND\n",
      "Done with granule.\n",
      "\n",
      "\n",
      "\n",
      "15 <File-like object S3FileSystem, nsidc-cumulus-prod-protected/ATLAS/ATL07/006/2019/05/02/ATL07-01_20190502005851_05160301_006_02.h5>\n",
      "\n",
      "Coincident S2 images: 8\n",
      "Coincident S2 image FOUND\n",
      "Done with granule.\n",
      "\n",
      "\n",
      "\n",
      "16 <File-like object S3FileSystem, nsidc-cumulus-prod-protected/ATLAS/ATL07/006/2019/05/02/ATL07-01_20190502023309_05170301_006_02.h5>\n",
      "\n",
      "Coincident S2 images: 8\n",
      "Coincident S2 image FOUND\n",
      "Done with granule.\n",
      "\n",
      "\n",
      "\n",
      "17 <File-like object S3FileSystem, nsidc-cumulus-prod-protected/ATLAS/ATL07/006/2019/05/02/ATL07-01_20190502040726_05180301_006_02.h5>\n",
      "\n",
      "Coincident S2 images: 0\n",
      "\n",
      "\n",
      "\n",
      "18 <File-like object S3FileSystem, nsidc-cumulus-prod-protected/ATLAS/ATL07/006/2019/05/02/ATL07-01_20190502054143_05190301_006_02.h5>\n",
      "\n",
      "Coincident S2 images: 0\n",
      "\n",
      "\n",
      "\n",
      "19 <File-like object S3FileSystem, nsidc-cumulus-prod-protected/ATLAS/ATL07/006/2019/05/02/ATL07-01_20190502071601_05200301_006_02.h5>\n",
      "\n",
      "Coincident S2 images: 0\n",
      "\n",
      "\n",
      "\n",
      "20 <File-like object S3FileSystem, nsidc-cumulus-prod-protected/ATLAS/ATL07/006/2019/05/02/ATL07-01_20190502085018_05210301_006_02.h5>\n",
      "\n",
      "Coincident S2 images: 0\n",
      "\n",
      "\n",
      "\n",
      "21 <File-like object S3FileSystem, nsidc-cumulus-prod-protected/ATLAS/ATL07/006/2019/05/02/ATL07-01_20190502102435_05220301_006_02.h5>\n",
      "\n",
      "Coincident S2 images: 0\n",
      "\n",
      "\n",
      "\n",
      "22 <File-like object S3FileSystem, nsidc-cumulus-prod-protected/ATLAS/ATL07/006/2019/05/02/ATL07-01_20190502115853_05230301_006_02.h5>\n",
      "\n",
      "Coincident S2 images: 8\n",
      "Coincident S2 image FOUND\n",
      "Done with granule.\n",
      "\n",
      "\n",
      "\n",
      "23 <File-like object S3FileSystem, nsidc-cumulus-prod-protected/ATLAS/ATL07/006/2019/05/02/ATL07-01_20190502133310_05240301_006_02.h5>\n",
      "\n",
      "Coincident S2 images: 9\n",
      "Coincident S2 image FOUND\n",
      "Done with granule.\n",
      "\n",
      "\n",
      "\n",
      "24 <File-like object S3FileSystem, nsidc-cumulus-prod-protected/ATLAS/ATL07/006/2019/05/02/ATL07-01_20190502150728_05250301_006_02.h5>\n",
      "\n",
      "Coincident S2 images: 10\n",
      "Coincident S2 image FOUND\n",
      "Done with granule.\n",
      "\n",
      "\n",
      "\n",
      "25 <File-like object S3FileSystem, nsidc-cumulus-prod-protected/ATLAS/ATL07/006/2019/05/02/ATL07-01_20190502164145_05260301_006_02.h5>\n",
      "\n",
      "Coincident S2 images: 4\n",
      "Coincident S2 image FOUND\n",
      "Done with granule.\n",
      "\n",
      "\n",
      "\n",
      "26 <File-like object S3FileSystem, nsidc-cumulus-prod-protected/ATLAS/ATL07/006/2019/05/02/ATL07-01_20190502181602_05270301_006_02.h5>\n",
      "\n",
      "Coincident S2 images: 0\n",
      "\n",
      "\n",
      "\n",
      "27 <File-like object S3FileSystem, nsidc-cumulus-prod-protected/ATLAS/ATL07/006/2019/05/02/ATL07-01_20190502195020_05280301_006_02.h5>\n",
      "\n",
      "Coincident S2 images: 0\n",
      "\n",
      "\n",
      "\n",
      "28 <File-like object S3FileSystem, nsidc-cumulus-prod-protected/ATLAS/ATL07/006/2019/05/02/ATL07-01_20190502225854_05300301_006_02.h5>\n",
      "\n",
      "Coincident S2 images: 10\n",
      "Coincident S2 image FOUND\n",
      "Done with granule.\n",
      "\n",
      "\n",
      "\n"
     ]
    }
   ],
   "source": [
    "#find the matched S2 images for each IS2 file\n",
    "coincident_S2_images=[]\n",
    "\n",
    "# S2 IDs\n",
    "coincident_S2_image_ids=[]\n",
    "\n",
    "#S2 coordinates\n",
    "S2_coords=[]\n",
    "\n",
    "#number of S2 images for each IS2 granule\n",
    "number_of_coincident_scenes_in_granule=[]\n",
    "\n",
    "# coordinate tracks for each coincident IS2 granule\n",
    "is2_coordinate_tracks_matched=[] \n",
    "\n",
    "# save ATL07 info for the coincident S-2 tracks\n",
    "ATL_midtimes_matched=[]\n",
    "ATL_filenames_matched=[]\n",
    "\n",
    "# Loop over ICESat-2 granules\n",
    "# Coarsen by this number of data points to speed things up, can play with this more as desired\n",
    "NPTS=10\n",
    "# Time difference in minutes\n",
    "deltatime=180\n",
    "# Max cloud cover in the S-2 images\n",
    "max_cloud_cover=100\n",
    "\n",
    "# filter data close to land (m)\n",
    "dist_land_mask=10000\n",
    "\n",
    "image_catalog = \"S2_SR\"\n",
    "i=0\n",
    "for granule in granules:\n",
    "    \n",
    "    print(i, granule)\n",
    "    \n",
    "    # Open files (not found a way of not needing to do this..)\n",
    "    #atl07_file = earthaccess.open(granule)\n",
    "    ATL = h5py.File(granule, 'r')\n",
    "    \n",
    "    orientation = ATL['/orbit_info/sc_orient'][0]\n",
    "\n",
    "    # Only use central strong beam locations\n",
    "    if orientation == 0:\n",
    "        beamID = 'gt2l'\n",
    "    elif orientation == 1:\n",
    "        beamID = 'gt2r'\n",
    "    else:\n",
    "        print('Spacecraft orientation not found.')\n",
    "\n",
    "    # Extract data info from granule\n",
    "    ATL_start_time = ATL['/ancillary_data/data_start_utc'][0]\n",
    "    ATL_start = pd.to_datetime(ATL_start_time[:-8].decode('utf-8'), format='%Y-%m-%dT%H:%M:%S')\n",
    "    ATL_end_time = ATL['/ancillary_data/data_end_utc'][0]\n",
    "    ATL_end = pd.to_datetime(ATL_end_time[:-8].decode('utf-8'), format='%Y-%m-%dT%H:%M:%S')\n",
    "\n",
    "    ATL_lon = ATL[beamID + '/sea_ice_segments/longitude'][:]\n",
    "    ATL_lat = ATL[beamID + '/sea_ice_segments/latitude'][:]\n",
    "\n",
    "    # read in the new dist to land variable to filter these values out now we have a lot more land data in rel006!\n",
    "    ATL_dist_land = ATL[beamID+'/sea_ice_segments/stats/dist2land'][:]\n",
    "    ATL_lon = ATL_lon[ATL_dist_land>dist_land_mask]\n",
    "    ATL_lat = ATL_lat[ATL_dist_land>dist_land_mask]\n",
    "    atl07_coords = list(zip(ATL_lon[::NPTS], ATL_lat[::NPTS])) \n",
    "    \n",
    "    # Use astropy to convert from gps time to datetime\n",
    "    #GPS_epoch = ATL['ancillary_data/atlas_sdp_gps_epoch'][:]\n",
    "    #GPS_time = ATL[beamID + '/sea_ice_segments/delta_time'][::NPTS] + GPS_epoch\n",
    "    #ATL_tgps = Time(GPS_time, format='gps')\n",
    "    #ATL_utc = ATL_tgps.utc.iso\n",
    "    \n",
    "    \n",
    "    #create a feature collection representing a line from a list of valid latitude and longitude coordinate points.\n",
    "    feature_track_temp = ee.FeatureCollection(ee.Geometry.LineString(coords=atl07_coords, proj='EPSG:4326', geodesic=True))\n",
    "    \n",
    "    roi = feature_track_temp.geometry()\n",
    "    \n",
    "    # Query Sentinel-2 images using ATL07 file information\n",
    "    #L1C data: COPERNICUS/S2_HARMONIZED S2 (NOT FINDING ANYTHING)\n",
    "    #L2A data: COPERNICUS/S2_SR_HARMONIZED COPERNICUS/S2_SR (this one is what Wenxuan used)\n",
    "    \n",
    "    imagecollection=ee.ImageCollection(\"COPERNICUS/\"+image_catalog).filterBounds(roi)\\\n",
    "    .filterDate(ATL_start- dt.timedelta(minutes=deltatime), ATL_end+ dt.timedelta(minutes=deltatime))\\\n",
    "    .filter(ee.Filter.lt('CLOUD_COVERAGE_ASSESSMENT', max_cloud_cover))\n",
    "    #.filter(ee.Filter.lt('NODATA_PIXEL_PERCENTAGE', 10))\n",
    "    \n",
    "    print('\\nCoincident S2 images:', imagecollection.size().getInfo())\n",
    "    if imagecollection.size().getInfo()>0:\n",
    "        print('Coincident S2 image FOUND')\n",
    "        \n",
    "        # save number of images\n",
    "        number_of_coincident_scenes_in_granule.append(imagecollection.size().getInfo()) \n",
    "\n",
    "        # save actual image collection\n",
    "        coincident_S2_images.append(imagecollection)\n",
    "\n",
    "        # S2 image IDs\n",
    "        S2_ids = [imagecollection.toList(imagecollection.size().getInfo()).getInfo()[i]['id'] for i in range(0, imagecollection.size().getInfo())]\n",
    "        coincident_S2_image_ids.append(S2_ids)\n",
    "\n",
    "        # save first coordinte of first image found \n",
    "        S2_coord = imagecollection.toList(imagecollection.size().getInfo()).getInfo()[0]['properties']['system:footprint']['coordinates'][0]\n",
    "        S2_coords.append(S2_coord)\n",
    "        \n",
    "        is2_coordinate_tracks_matched.append(feature_track_temp)\n",
    "        ATL_mid = ATL_start + (ATL_end-ATL_start)/2\n",
    "        ATL_midtimes_matched.append(ATL_mid)\n",
    "        ATL_filenames_matched.append(granule)\n",
    "        print('Done with granule.')\n",
    "    \n",
    "    print('\\n\\n')\n",
    "    i+=1\n",
    "\n"
   ]
  },
  {
   "cell_type": "code",
   "execution_count": 16,
   "id": "44b3d0ac-fe40-46c2-9590-042b9161eead",
   "metadata": {},
   "outputs": [
    {
     "data": {
      "text/html": [
       "\n",
       "            <style>\n",
       "                .geemap-dark {\n",
       "                    --jp-widgets-color: white;\n",
       "                    --jp-widgets-label-color: white;\n",
       "                    --jp-ui-font-color1: white;\n",
       "                    --jp-layout-color2: #454545;\n",
       "                    background-color: #383838;\n",
       "                }\n",
       "\n",
       "                .geemap-dark .jupyter-button {\n",
       "                    --jp-layout-color3: #383838;\n",
       "                }\n",
       "\n",
       "                .geemap-colab {\n",
       "                    background-color: var(--colab-primary-surface-color, white);\n",
       "                }\n",
       "\n",
       "                .geemap-colab .jupyter-button {\n",
       "                    --jp-layout-color3: var(--colab-primary-surface-color, white);\n",
       "                }\n",
       "            </style>\n",
       "            "
      ],
      "text/plain": [
       "<IPython.core.display.HTML object>"
      ]
     },
     "metadata": {},
     "output_type": "display_data"
    },
    {
     "data": {
      "text/plain": [
       "[Timestamp('2019-05-01 00:15:29'),\n",
       " Timestamp('2019-05-01 01:48:11'),\n",
       " Timestamp('2019-05-01 03:23:10.500000'),\n",
       " Timestamp('2019-05-01 12:47:46'),\n",
       " Timestamp('2019-05-01 14:22:32'),\n",
       " Timestamp('2019-05-01 15:56:09.500000'),\n",
       " Timestamp('2019-05-01 17:28:56.500000'),\n",
       " Timestamp('2019-05-01 20:34:38'),\n",
       " Timestamp('2019-05-01 22:16:05'),\n",
       " Timestamp('2019-05-01 23:51:58'),\n",
       " Timestamp('2019-05-02 01:22:26.500000'),\n",
       " Timestamp('2019-05-02 02:59:17'),\n",
       " Timestamp('2019-05-02 12:21:20.500000'),\n",
       " Timestamp('2019-05-02 13:56:19'),\n",
       " Timestamp('2019-05-02 15:31:41.500000'),\n",
       " Timestamp('2019-05-02 17:03:36.500000'),\n",
       " Timestamp('2019-05-02 23:26:23.500000')]"
      ]
     },
     "execution_count": 16,
     "metadata": {},
     "output_type": "execute_result"
    }
   ],
   "source": [
    "ATL_midtimes_matched"
   ]
  },
  {
   "cell_type": "code",
   "execution_count": 7,
   "id": "62fbdf5b-0759-4006-a37f-432cd5d51599",
   "metadata": {},
   "outputs": [
    {
     "data": {
      "text/html": [
       "\n",
       "            <style>\n",
       "                .geemap-dark {\n",
       "                    --jp-widgets-color: white;\n",
       "                    --jp-widgets-label-color: white;\n",
       "                    --jp-ui-font-color1: white;\n",
       "                    --jp-layout-color2: #454545;\n",
       "                    background-color: #383838;\n",
       "                }\n",
       "\n",
       "                .geemap-dark .jupyter-button {\n",
       "                    --jp-layout-color3: #383838;\n",
       "                }\n",
       "\n",
       "                .geemap-colab {\n",
       "                    background-color: var(--colab-primary-surface-color, white);\n",
       "                }\n",
       "\n",
       "                .geemap-colab .jupyter-button {\n",
       "                    --jp-layout-color3: var(--colab-primary-surface-color, white);\n",
       "                }\n",
       "            </style>\n",
       "            "
      ],
      "text/plain": [
       "<IPython.core.display.HTML object>"
      ]
     },
     "metadata": {},
     "output_type": "display_data"
    },
    {
     "data": {
      "text/plain": [
       "<File-like object S3FileSystem, nsidc-cumulus-prod-protected/ATLAS/ATL07/006/2019/05/02/ATL07-01_20190502225854_05300301_006_02.h5>"
      ]
     },
     "execution_count": 7,
     "metadata": {},
     "output_type": "execute_result"
    }
   ],
   "source": [
    "granule"
   ]
  },
  {
   "cell_type": "code",
   "execution_count": 8,
   "id": "eb8e792a-1ce3-4f37-870e-16bfa4804623",
   "metadata": {},
   "outputs": [
    {
     "data": {
      "text/html": [
       "\n",
       "            <style>\n",
       "                .geemap-dark {\n",
       "                    --jp-widgets-color: white;\n",
       "                    --jp-widgets-label-color: white;\n",
       "                    --jp-ui-font-color1: white;\n",
       "                    --jp-layout-color2: #454545;\n",
       "                    background-color: #383838;\n",
       "                }\n",
       "\n",
       "                .geemap-dark .jupyter-button {\n",
       "                    --jp-layout-color3: #383838;\n",
       "                }\n",
       "\n",
       "                .geemap-colab {\n",
       "                    background-color: var(--colab-primary-surface-color, white);\n",
       "                }\n",
       "\n",
       "                .geemap-colab .jupyter-button {\n",
       "                    --jp-layout-color3: var(--colab-primary-surface-color, white);\n",
       "                }\n",
       "            </style>\n",
       "            "
      ],
      "text/plain": [
       "<IPython.core.display.HTML object>"
      ]
     },
     "metadata": {},
     "output_type": "display_data"
    },
    {
     "data": {
      "text/plain": [
       "[['COPERNICUS/S2_SR/20190430T212049_20190430T212043_T16XEP',\n",
       "  'COPERNICUS/S2_SR/20190430T212049_20190430T212043_T16XEQ',\n",
       "  'COPERNICUS/S2_SR/20190430T212049_20190430T212043_T17XMJ',\n",
       "  'COPERNICUS/S2_SR/20190430T212049_20190430T212043_T17XMK',\n",
       "  'COPERNICUS/S2_SR/20190430T212049_20190430T212043_T17XNK',\n",
       "  'COPERNICUS/S2_SR/20190430T212049_20190430T212043_T17XNL',\n",
       "  'COPERNICUS/S2_SR/20190430T212049_20190430T212043_T17XNM',\n",
       "  'COPERNICUS/S2_SR/20190430T212049_20190430T212043_T17XNN',\n",
       "  'COPERNICUS/S2_SR/20190430T212049_20190430T212043_T18XVQ',\n",
       "  'COPERNICUS/S2_SR/20190430T212049_20190430T212043_T18XVR'],\n",
       " ['COPERNICUS/S2_SR/20190430T230129_20190430T230125_T13XDJ',\n",
       "  'COPERNICUS/S2_SR/20190430T230129_20190430T230125_T13XDK',\n",
       "  'COPERNICUS/S2_SR/20190430T230129_20190430T230125_T13XEJ',\n",
       "  'COPERNICUS/S2_SR/20190430T230129_20190430T230125_T13XEK',\n",
       "  'COPERNICUS/S2_SR/20190430T230129_20190430T230125_T13XEL',\n",
       "  'COPERNICUS/S2_SR/20190430T230129_20190430T230125_T13XEM',\n",
       "  'COPERNICUS/S2_SR/20190430T230129_20190430T230125_T14XMQ',\n",
       "  'COPERNICUS/S2_SR/20190430T230129_20190430T230125_T14XMR'],\n",
       " ['COPERNICUS/S2_SR/20190501T004209_20190501T004206_T09XWJ',\n",
       "  'COPERNICUS/S2_SR/20190501T004209_20190501T004206_T09XWK',\n",
       "  'COPERNICUS/S2_SR/20190501T004209_20190501T004206_T09XWL',\n",
       "  'COPERNICUS/S2_SR/20190501T004209_20190501T004206_T09XWM',\n",
       "  'COPERNICUS/S2_SR/20190501T004209_20190501T004206_T10XDQ',\n",
       "  'COPERNICUS/S2_SR/20190501T004209_20190501T004206_T10XDR'],\n",
       " ['COPERNICUS/S2_SR/20190501T095551_20190501T095554_T45XWJ',\n",
       "  'COPERNICUS/S2_SR/20190501T095551_20190501T095554_T45XWK',\n",
       "  'COPERNICUS/S2_SR/20190501T095551_20190501T095554_T45XWL',\n",
       "  'COPERNICUS/S2_SR/20190501T095551_20190501T095554_T45XWM',\n",
       "  'COPERNICUS/S2_SR/20190501T095551_20190501T095554_T46XDP',\n",
       "  'COPERNICUS/S2_SR/20190501T095551_20190501T095554_T46XDQ',\n",
       "  'COPERNICUS/S2_SR/20190501T095551_20190501T095554_T46XDR',\n",
       "  'COPERNICUS/S2_SR/20190501T095551_20190501T095554_T46XES'],\n",
       " ['COPERNICUS/S2_SR/20190501T113651_20190501T113649_T41XNJ',\n",
       "  'COPERNICUS/S2_SR/20190501T113651_20190501T113649_T41XNK',\n",
       "  'COPERNICUS/S2_SR/20190501T113651_20190501T113649_T42XVP',\n",
       "  'COPERNICUS/S2_SR/20190501T113651_20190501T113649_T42XVQ'],\n",
       " ['COPERNICUS/S2_SR/20190501T131721_20190501T131718_T37XEJ',\n",
       "  'COPERNICUS/S2_SR/20190501T131721_20190501T131718_T37XEK',\n",
       "  'COPERNICUS/S2_SR/20190501T131721_20190501T131718_T37XEL',\n",
       "  'COPERNICUS/S2_SR/20190501T131721_20190501T131718_T37XEM',\n",
       "  'COPERNICUS/S2_SR/20190501T131721_20190501T131718_T38XMP',\n",
       "  'COPERNICUS/S2_SR/20190501T131721_20190501T131718_T38XMQ',\n",
       "  'COPERNICUS/S2_SR/20190501T131721_20190501T131718_T38XMR',\n",
       "  'COPERNICUS/S2_SR/20190501T131721_20190501T131718_T38XNR',\n",
       "  'COPERNICUS/S2_SR/20190501T131721_20190501T131718_T38XNS',\n",
       "  'COPERNICUS/S2_SR/20190501T131721_20190501T131718_T39XVL'],\n",
       " ['COPERNICUS/S2_SR/20190501T145801_20190501T145759_T33XWK',\n",
       "  'COPERNICUS/S2_SR/20190501T145801_20190501T145759_T33XWL',\n",
       "  'COPERNICUS/S2_SR/20190501T145801_20190501T145759_T33XWM',\n",
       "  'COPERNICUS/S2_SR/20190501T145801_20190501T145759_T33XXL',\n",
       "  'COPERNICUS/S2_SR/20190501T145801_20190501T145759_T35XML'],\n",
       " ['COPERNICUS/S2_SR/20190501T172909_20190501T172906_T26XNS'],\n",
       " ['COPERNICUS/S2_SR/20190501T190919_20190501T190921_T21XWJ',\n",
       "  'COPERNICUS/S2_SR/20190501T190919_20190501T190921_T21XWK',\n",
       "  'COPERNICUS/S2_SR/20190501T190919_20190501T190921_T21XWL',\n",
       "  'COPERNICUS/S2_SR/20190501T190919_20190501T190921_T22XDP',\n",
       "  'COPERNICUS/S2_SR/20190501T190919_20190501T190921_T22XDQ',\n",
       "  'COPERNICUS/S2_SR/20190501T190919_20190501T190921_T22XDR',\n",
       "  'COPERNICUS/S2_SR/20190501T190919_20190501T190921_T22XEQ',\n",
       "  'COPERNICUS/S2_SR/20190501T190919_20190501T190921_T22XER',\n",
       "  'COPERNICUS/S2_SR/20190501T190919_20190501T190921_T22XES',\n",
       "  'COPERNICUS/S2_SR/20190501T190919_20190501T190921_T23XMK',\n",
       "  'COPERNICUS/S2_SR/20190501T190919_20190501T190921_T23XML',\n",
       "  'COPERNICUS/S2_SR/20190501T195901_20190501T195859_T21XWK',\n",
       "  'COPERNICUS/S2_SR/20190501T195901_20190501T195859_T21XWL',\n",
       "  'COPERNICUS/S2_SR/20190501T195901_20190501T195859_T22XDP',\n",
       "  'COPERNICUS/S2_SR/20190501T195901_20190501T195859_T22XDQ',\n",
       "  'COPERNICUS/S2_SR/20190501T195901_20190501T195859_T22XDR',\n",
       "  'COPERNICUS/S2_SR/20190501T195901_20190501T195859_T22XEQ',\n",
       "  'COPERNICUS/S2_SR/20190501T195901_20190501T195859_T22XER',\n",
       "  'COPERNICUS/S2_SR/20190501T195901_20190501T195859_T22XES',\n",
       "  'COPERNICUS/S2_SR/20190501T195901_20190501T195859_T23XMK',\n",
       "  'COPERNICUS/S2_SR/20190501T195901_20190501T195859_T23XML',\n",
       "  'COPERNICUS/S2_SR/20190501T213811_20190501T213809_T21XWH',\n",
       "  'COPERNICUS/S2_SR/20190501T213811_20190501T213809_T21XWJ',\n",
       "  'COPERNICUS/S2_SR/20190501T213811_20190501T213809_T22XDN',\n",
       "  'COPERNICUS/S2_SR/20190501T213811_20190501T213809_T22XDP',\n",
       "  'COPERNICUS/S2_SR/20190501T222809_20190501T222811_T21XWG',\n",
       "  'COPERNICUS/S2_SR/20190501T222809_20190501T222811_T21XWH',\n",
       "  'COPERNICUS/S2_SR/20190501T222809_20190501T222811_T21XWJ',\n",
       "  'COPERNICUS/S2_SR/20190501T222809_20190501T222811_T22XDM',\n",
       "  'COPERNICUS/S2_SR/20190501T222809_20190501T222811_T22XDN',\n",
       "  'COPERNICUS/S2_SR/20190501T222809_20190501T222811_T22XDP',\n",
       "  'COPERNICUS/S2_SR/20190501T231831_20190501T231829_T21XWE',\n",
       "  'COPERNICUS/S2_SR/20190501T231831_20190501T231829_T21XWF',\n",
       "  'COPERNICUS/S2_SR/20190501T231831_20190501T231829_T21XWG',\n",
       "  'COPERNICUS/S2_SR/20190501T231831_20190501T231829_T22XDL',\n",
       "  'COPERNICUS/S2_SR/20190501T231831_20190501T231829_T22XDM'],\n",
       " ['COPERNICUS/S2_SR/20190501T205029_20190501T205028_T17XNJ',\n",
       "  'COPERNICUS/S2_SR/20190501T205029_20190501T205028_T17XNK',\n",
       "  'COPERNICUS/S2_SR/20190501T205029_20190501T205028_T18XVP',\n",
       "  'COPERNICUS/S2_SR/20190501T205029_20190501T205028_T18XVQ',\n",
       "  'COPERNICUS/S2_SR/20190501T205029_20190501T205028_T18XWQ',\n",
       "  'COPERNICUS/S2_SR/20190501T205029_20190501T205028_T18XWR',\n",
       "  'COPERNICUS/S2_SR/20190501T205029_20190501T205028_T18XWS',\n",
       "  'COPERNICUS/S2_SR/20190501T205029_20190501T205028_T18XWT',\n",
       "  'COPERNICUS/S2_SR/20190501T205029_20190501T205028_T19XDK',\n",
       "  'COPERNICUS/S2_SR/20190501T205029_20190501T205028_T19XDL'],\n",
       " ['COPERNICUS/S2_SR/20190501T223109_20190501T223112_T14XMP',\n",
       "  'COPERNICUS/S2_SR/20190501T223109_20190501T223112_T14XMQ',\n",
       "  'COPERNICUS/S2_SR/20190501T223109_20190501T223112_T14XNQ',\n",
       "  'COPERNICUS/S2_SR/20190501T223109_20190501T223112_T14XNR',\n",
       "  'COPERNICUS/S2_SR/20190501T223109_20190501T223112_T14XNS',\n",
       "  'COPERNICUS/S2_SR/20190501T223109_20190501T223112_T14XNT',\n",
       "  'COPERNICUS/S2_SR/20190501T223109_20190501T223112_T15XVK',\n",
       "  'COPERNICUS/S2_SR/20190501T223109_20190501T223112_T15XVL'],\n",
       " ['COPERNICUS/S2_SR/20190502T001159_20190502T001155_T10XDP',\n",
       "  'COPERNICUS/S2_SR/20190502T001159_20190502T001155_T10XDQ',\n",
       "  'COPERNICUS/S2_SR/20190502T001159_20190502T001155_T10XEP',\n",
       "  'COPERNICUS/S2_SR/20190502T001159_20190502T001155_T10XEQ',\n",
       "  'COPERNICUS/S2_SR/20190502T001159_20190502T001155_T10XER',\n",
       "  'COPERNICUS/S2_SR/20190502T001159_20190502T001155_T10XES',\n",
       "  'COPERNICUS/S2_SR/20190502T001159_20190502T001155_T11XMK',\n",
       "  'COPERNICUS/S2_SR/20190502T001159_20190502T001155_T11XML'],\n",
       " ['COPERNICUS/S2_SR/20190502T092551_20190502T092553_T46XEP',\n",
       "  'COPERNICUS/S2_SR/20190502T092551_20190502T092553_T46XEQ',\n",
       "  'COPERNICUS/S2_SR/20190502T092551_20190502T092553_T46XER',\n",
       "  'COPERNICUS/S2_SR/20190502T092551_20190502T092553_T46XES',\n",
       "  'COPERNICUS/S2_SR/20190502T092551_20190502T092553_T47XMJ',\n",
       "  'COPERNICUS/S2_SR/20190502T092551_20190502T092553_T47XMK',\n",
       "  'COPERNICUS/S2_SR/20190502T092551_20190502T092553_T47XML',\n",
       "  'COPERNICUS/S2_SR/20190502T092551_20190502T092553_T47XNM'],\n",
       " ['COPERNICUS/S2_SR/20190502T110621_20190502T110623_T42XWP',\n",
       "  'COPERNICUS/S2_SR/20190502T110621_20190502T110623_T42XWQ',\n",
       "  'COPERNICUS/S2_SR/20190502T110621_20190502T110623_T42XWR',\n",
       "  'COPERNICUS/S2_SR/20190502T110621_20190502T110623_T42XWS',\n",
       "  'COPERNICUS/S2_SR/20190502T110621_20190502T110623_T43XDJ',\n",
       "  'COPERNICUS/S2_SR/20190502T110621_20190502T110623_T43XDK',\n",
       "  'COPERNICUS/S2_SR/20190502T110621_20190502T110623_T43XDL',\n",
       "  'COPERNICUS/S2_SR/20190502T110621_20190502T110623_T43XEM',\n",
       "  'COPERNICUS/S2_SR/20190502T110621_20190502T110623_T44XMR'],\n",
       " ['COPERNICUS/S2_SR/20190502T124711_20190502T124705_T38XNP',\n",
       "  'COPERNICUS/S2_SR/20190502T124711_20190502T124705_T38XNQ',\n",
       "  'COPERNICUS/S2_SR/20190502T124711_20190502T124705_T38XNR',\n",
       "  'COPERNICUS/S2_SR/20190502T124711_20190502T124705_T38XNS',\n",
       "  'COPERNICUS/S2_SR/20190502T124711_20190502T124705_T39XVJ',\n",
       "  'COPERNICUS/S2_SR/20190502T124711_20190502T124705_T39XVK',\n",
       "  'COPERNICUS/S2_SR/20190502T124711_20190502T124705_T39XVL',\n",
       "  'COPERNICUS/S2_SR/20190502T124711_20190502T124705_T39XWL',\n",
       "  'COPERNICUS/S2_SR/20190502T124711_20190502T124705_T39XWM',\n",
       "  'COPERNICUS/S2_SR/20190502T124711_20190502T124705_T40XDR'],\n",
       " ['COPERNICUS/S2_SR/20190502T142751_20190502T142747_T33XXK',\n",
       "  'COPERNICUS/S2_SR/20190502T142751_20190502T142747_T35XMJ',\n",
       "  'COPERNICUS/S2_SR/20190502T142751_20190502T142747_T35XMK',\n",
       "  'COPERNICUS/S2_SR/20190502T142751_20190502T142747_T35XMM'],\n",
       " ['COPERNICUS/S2_SR/20190502T201859_20190502T201857_T18XWP',\n",
       "  'COPERNICUS/S2_SR/20190502T201859_20190502T201857_T18XWQ',\n",
       "  'COPERNICUS/S2_SR/20190502T201859_20190502T201857_T19XDJ',\n",
       "  'COPERNICUS/S2_SR/20190502T201859_20190502T201857_T19XDK',\n",
       "  'COPERNICUS/S2_SR/20190502T201859_20190502T201857_T19XDL',\n",
       "  'COPERNICUS/S2_SR/20190502T201859_20190502T201857_T19XEK',\n",
       "  'COPERNICUS/S2_SR/20190502T201859_20190502T201857_T19XEL',\n",
       "  'COPERNICUS/S2_SR/20190502T201859_20190502T201857_T19XEM',\n",
       "  'COPERNICUS/S2_SR/20190502T201859_20190502T201857_T20XMQ',\n",
       "  'COPERNICUS/S2_SR/20190502T201859_20190502T201857_T20XMR']]"
      ]
     },
     "execution_count": 8,
     "metadata": {},
     "output_type": "execute_result"
    }
   ],
   "source": [
    "coincident_S2_image_ids"
   ]
  },
  {
   "cell_type": "code",
   "execution_count": 9,
   "id": "a9113627-1035-4fb2-9d57-34f88eaf5c0b",
   "metadata": {},
   "outputs": [
    {
     "data": {
      "text/html": [
       "\n",
       "            <style>\n",
       "                .geemap-dark {\n",
       "                    --jp-widgets-color: white;\n",
       "                    --jp-widgets-label-color: white;\n",
       "                    --jp-ui-font-color1: white;\n",
       "                    --jp-layout-color2: #454545;\n",
       "                    background-color: #383838;\n",
       "                }\n",
       "\n",
       "                .geemap-dark .jupyter-button {\n",
       "                    --jp-layout-color3: #383838;\n",
       "                }\n",
       "\n",
       "                .geemap-colab {\n",
       "                    background-color: var(--colab-primary-surface-color, white);\n",
       "                }\n",
       "\n",
       "                .geemap-colab .jupyter-button {\n",
       "                    --jp-layout-color3: var(--colab-primary-surface-color, white);\n",
       "                }\n",
       "            </style>\n",
       "            "
      ],
      "text/plain": [
       "<IPython.core.display.HTML object>"
      ]
     },
     "metadata": {},
     "output_type": "display_data"
    }
   ],
   "source": [
    "# Save to a CSV file\n",
    "#import csv\n",
    "#with open('../Data/search_output/coincident_S2_image_ids_dt'+str(deltatime)+'_mcc'+str(max_cloud_cover)+'_dlnd'+str(dist_land_mask)+image_catalog+'csv', 'w', newline='') as file:\n",
    "#    writer = csv.writer(file)\n",
    "#    writer.writerows(coincident_S2_image_ids)\n",
    "    \n",
    "#np.save('../Data/search_output/S2_coords'+str(deltatime)+'_mcc'+str(max_cloud_cover)+'_dlnd'+str(dist_land_mask)+image_catalog, S2_coords)\n",
    "#np.save('../Data/search_output/number_of_coincident_scenes_in_granule'+str(deltatime)+'_mcc'+str(max_cloud_cover)+'_dlnd'+str(dist_land_mask)+image_catalog, number_of_coincident_scenes_in_granule)\n",
    "#np.save('../Data/search_output/is2_coordinate_tracks_matched'+str(deltatime)+'_mcc'+str(max_cloud_cover)+'_dlnd'+str(dist_land_mask)+image_catalog, is2_coordinate_tracks_matched)\n",
    "#np.save('../Data/search_output/ATL_midtimes_matched'+str(deltatime)+'_mcc'+str(max_cloud_cover)+'_dlnd'+str(dist_land_mask)+image_catalog, ATL_midtimes_matched)\n",
    "#np.save('../Data/search_output/ATL_filenames_matched'+str(deltatime)+'_mcc'+str(max_cloud_cover)+'_dlnd'+str(dist_land_mask)+image_catalog, ATL_filenames_matched)\n",
    "  "
   ]
  },
  {
   "cell_type": "code",
   "execution_count": 10,
   "id": "c8d7d28b-e6b0-4697-baa6-98e4ef3b7cc6",
   "metadata": {},
   "outputs": [
    {
     "data": {
      "text/html": [
       "\n",
       "            <style>\n",
       "                .geemap-dark {\n",
       "                    --jp-widgets-color: white;\n",
       "                    --jp-widgets-label-color: white;\n",
       "                    --jp-ui-font-color1: white;\n",
       "                    --jp-layout-color2: #454545;\n",
       "                    background-color: #383838;\n",
       "                }\n",
       "\n",
       "                .geemap-dark .jupyter-button {\n",
       "                    --jp-layout-color3: #383838;\n",
       "                }\n",
       "\n",
       "                .geemap-colab {\n",
       "                    background-color: var(--colab-primary-surface-color, white);\n",
       "                }\n",
       "\n",
       "                .geemap-colab .jupyter-button {\n",
       "                    --jp-layout-color3: var(--colab-primary-surface-color, white);\n",
       "                }\n",
       "            </style>\n",
       "            "
      ],
      "text/plain": [
       "<IPython.core.display.HTML object>"
      ]
     },
     "metadata": {},
     "output_type": "display_data"
    }
   ],
   "source": [
    "# Save the output\n",
    "#np.save('../Data/search_output/coincident_S2_image_ids_dt'+str(deltatime)+'_mcc'+str(max_cloud_cover)+'_dlnd'+str(dist_land_mask)+image_catalog, coincident_S2_image_ids)\n",
    "\n",
    "        "
   ]
  },
  {
   "cell_type": "code",
   "execution_count": 11,
   "id": "367f51f8-5748-4e80-a42b-67ffe6bfb65b",
   "metadata": {},
   "outputs": [
    {
     "data": {
      "text/html": [
       "\n",
       "            <style>\n",
       "                .geemap-dark {\n",
       "                    --jp-widgets-color: white;\n",
       "                    --jp-widgets-label-color: white;\n",
       "                    --jp-ui-font-color1: white;\n",
       "                    --jp-layout-color2: #454545;\n",
       "                    background-color: #383838;\n",
       "                }\n",
       "\n",
       "                .geemap-dark .jupyter-button {\n",
       "                    --jp-layout-color3: #383838;\n",
       "                }\n",
       "\n",
       "                .geemap-colab {\n",
       "                    background-color: var(--colab-primary-surface-color, white);\n",
       "                }\n",
       "\n",
       "                .geemap-colab .jupyter-button {\n",
       "                    --jp-layout-color3: var(--colab-primary-surface-color, white);\n",
       "                }\n",
       "            </style>\n",
       "            "
      ],
      "text/plain": [
       "<IPython.core.display.HTML object>"
      ]
     },
     "metadata": {},
     "output_type": "display_data"
    }
   ],
   "source": [
    "# Save one of the coincident images\n",
    "# Start an export task\n",
    "\n",
    "save_image=False\n",
    "\n",
    "if save_image:\n",
    "    image = ee.Image('COPERNICUS/S2_SR/20210425T113629_20210425T113626_T41XNL')\n",
    "    \n",
    "    export_task = ee.batch.Export.image.toDrive(\n",
    "        image=image,\n",
    "        description='Sentinel-2_Export',  # Name of the export task\n",
    "        folder='EarthEngineExports',  # Destination folder in Google Drive\n",
    "        fileNamePrefix='sentinel2_image',  # Filename prefix in Google Drive\n",
    "        #region=roi.getInfo()['coordinates'],  # Exported region\n",
    "        scale=10,  # Scale in meters (Sentinel-2 native resolution)\n",
    "        #crs='EPSG:4326',  # Coordinate Reference System\n",
    "        #maxPixels=1e9  # Maximum number of pixels allowed\n",
    "    )\n",
    "    \n",
    "    # Start the export task\n",
    "    export_task.start()"
   ]
  },
  {
   "cell_type": "code",
   "execution_count": 12,
   "id": "d090b6b8-ab22-4ae2-bf80-32a09f0906e6",
   "metadata": {},
   "outputs": [
    {
     "data": {
      "text/html": [
       "\n",
       "            <style>\n",
       "                .geemap-dark {\n",
       "                    --jp-widgets-color: white;\n",
       "                    --jp-widgets-label-color: white;\n",
       "                    --jp-ui-font-color1: white;\n",
       "                    --jp-layout-color2: #454545;\n",
       "                    background-color: #383838;\n",
       "                }\n",
       "\n",
       "                .geemap-dark .jupyter-button {\n",
       "                    --jp-layout-color3: #383838;\n",
       "                }\n",
       "\n",
       "                .geemap-colab {\n",
       "                    background-color: var(--colab-primary-surface-color, white);\n",
       "                }\n",
       "\n",
       "                .geemap-colab .jupyter-button {\n",
       "                    --jp-layout-color3: var(--colab-primary-surface-color, white);\n",
       "                }\n",
       "            </style>\n",
       "            "
      ],
      "text/plain": [
       "<IPython.core.display.HTML object>"
      ]
     },
     "metadata": {},
     "output_type": "display_data"
    },
    {
     "name": "stdout",
     "output_type": "stream",
     "text": [
      "Mosaicing images...\n",
      "Mosaicing images...\n",
      "Mosaicing images...\n",
      "Mosaicing images...\n",
      "Mosaicing images...\n",
      "Mosaicing images...\n",
      "Mosaicing images...\n",
      "Mosaicing images...\n",
      "Mosaicing images...\n",
      "Mosaicing images...\n",
      "Mosaicing images...\n",
      "Mosaicing images...\n",
      "Mosaicing images...\n",
      "Mosaicing images...\n",
      "Mosaicing images...\n",
      "Mosaicing images...\n",
      "Mosaicing images...\n",
      "Mosaicing images...\n"
     ]
    }
   ],
   "source": [
    "# MOSAIC images\n",
    "coincident_S2_mosaics=[]\n",
    "for imagecollection in coincident_S2_images:\n",
    "    # mosaic images and save that too\n",
    "    # more ideas here: https://developers.google.com/earth-engine/apidocs/ee-imagecollection-mosaic\n",
    "    # could add cloud filters and other things here, for now just creudely mosaic them...\n",
    "    print('Mosaicing images...')\n",
    "    mosaic = imagecollection.mosaic()\n",
    "    coincident_S2_mosaics.append(mosaic)\n",
    "print('Mosaicing images...')"
   ]
  },
  {
   "cell_type": "code",
   "execution_count": 13,
   "id": "5c953bdb-4781-4afc-a13d-589b9e0a3025",
   "metadata": {},
   "outputs": [
    {
     "data": {
      "text/html": [
       "\n",
       "            <style>\n",
       "                .geemap-dark {\n",
       "                    --jp-widgets-color: white;\n",
       "                    --jp-widgets-label-color: white;\n",
       "                    --jp-ui-font-color1: white;\n",
       "                    --jp-layout-color2: #454545;\n",
       "                    background-color: #383838;\n",
       "                }\n",
       "\n",
       "                .geemap-dark .jupyter-button {\n",
       "                    --jp-layout-color3: #383838;\n",
       "                }\n",
       "\n",
       "                .geemap-colab {\n",
       "                    background-color: var(--colab-primary-surface-color, white);\n",
       "                }\n",
       "\n",
       "                .geemap-colab .jupyter-button {\n",
       "                    --jp-layout-color3: var(--colab-primary-surface-color, white);\n",
       "                }\n",
       "            </style>\n",
       "            "
      ],
      "text/plain": [
       "<IPython.core.display.HTML object>"
      ]
     },
     "metadata": {},
     "output_type": "display_data"
    },
    {
     "data": {
      "text/plain": [
       "[<File-like object S3FileSystem, nsidc-cumulus-prod-protected/ATLAS/ATL07/006/2019/05/01/ATL07-01_20190430235014_05000301_006_02.h5>,\n",
       " <File-like object S3FileSystem, nsidc-cumulus-prod-protected/ATLAS/ATL07/006/2019/05/01/ATL07-01_20190501012431_05010301_006_02.h5>,\n",
       " <File-like object S3FileSystem, nsidc-cumulus-prod-protected/ATLAS/ATL07/006/2019/05/01/ATL07-01_20190501025848_05020301_006_02.h5>,\n",
       " <File-like object S3FileSystem, nsidc-cumulus-prod-protected/ATLAS/ATL07/006/2019/05/01/ATL07-01_20190501122432_05080301_006_02.h5>,\n",
       " <File-like object S3FileSystem, nsidc-cumulus-prod-protected/ATLAS/ATL07/006/2019/05/01/ATL07-01_20190501135850_05090301_006_02.h5>,\n",
       " <File-like object S3FileSystem, nsidc-cumulus-prod-protected/ATLAS/ATL07/006/2019/05/01/ATL07-01_20190501153307_05100301_006_02.h5>,\n",
       " <File-like object S3FileSystem, nsidc-cumulus-prod-protected/ATLAS/ATL07/006/2019/05/01/ATL07-01_20190501170725_05110301_006_02.h5>,\n",
       " <File-like object S3FileSystem, nsidc-cumulus-prod-protected/ATLAS/ATL07/006/2019/05/01/ATL07-01_20190501201559_05130301_006_02.h5>,\n",
       " <File-like object S3FileSystem, nsidc-cumulus-prod-protected/ATLAS/ATL07/006/2019/05/01/ATL07-01_20190501215016_05140301_006_02.h5>,\n",
       " <File-like object S3FileSystem, nsidc-cumulus-prod-protected/ATLAS/ATL07/006/2019/05/01/ATL07-01_20190501232434_05150301_006_02.h5>,\n",
       " <File-like object S3FileSystem, nsidc-cumulus-prod-protected/ATLAS/ATL07/006/2019/05/02/ATL07-01_20190502005851_05160301_006_02.h5>,\n",
       " <File-like object S3FileSystem, nsidc-cumulus-prod-protected/ATLAS/ATL07/006/2019/05/02/ATL07-01_20190502023309_05170301_006_02.h5>,\n",
       " <File-like object S3FileSystem, nsidc-cumulus-prod-protected/ATLAS/ATL07/006/2019/05/02/ATL07-01_20190502115853_05230301_006_02.h5>,\n",
       " <File-like object S3FileSystem, nsidc-cumulus-prod-protected/ATLAS/ATL07/006/2019/05/02/ATL07-01_20190502133310_05240301_006_02.h5>,\n",
       " <File-like object S3FileSystem, nsidc-cumulus-prod-protected/ATLAS/ATL07/006/2019/05/02/ATL07-01_20190502150728_05250301_006_02.h5>,\n",
       " <File-like object S3FileSystem, nsidc-cumulus-prod-protected/ATLAS/ATL07/006/2019/05/02/ATL07-01_20190502164145_05260301_006_02.h5>,\n",
       " <File-like object S3FileSystem, nsidc-cumulus-prod-protected/ATLAS/ATL07/006/2019/05/02/ATL07-01_20190502225854_05300301_006_02.h5>]"
      ]
     },
     "execution_count": 13,
     "metadata": {},
     "output_type": "execute_result"
    }
   ],
   "source": [
    "ATL_filenames_matched"
   ]
  },
  {
   "cell_type": "code",
   "execution_count": 18,
   "id": "ead99f0b-2dec-410f-bb7f-1ed4e3b497c9",
   "metadata": {},
   "outputs": [
    {
     "data": {
      "text/html": [
       "\n",
       "            <style>\n",
       "                .geemap-dark {\n",
       "                    --jp-widgets-color: white;\n",
       "                    --jp-widgets-label-color: white;\n",
       "                    --jp-ui-font-color1: white;\n",
       "                    --jp-layout-color2: #454545;\n",
       "                    background-color: #383838;\n",
       "                }\n",
       "\n",
       "                .geemap-dark .jupyter-button {\n",
       "                    --jp-layout-color3: #383838;\n",
       "                }\n",
       "\n",
       "                .geemap-colab {\n",
       "                    background-color: var(--colab-primary-surface-color, white);\n",
       "                }\n",
       "\n",
       "                .geemap-colab .jupyter-button {\n",
       "                    --jp-layout-color3: var(--colab-primary-surface-color, white);\n",
       "                }\n",
       "            </style>\n",
       "            "
      ],
      "text/plain": [
       "<IPython.core.display.HTML object>"
      ]
     },
     "metadata": {},
     "output_type": "display_data"
    },
    {
     "name": "stdout",
     "output_type": "stream",
     "text": [
      "<File-like object S3FileSystem, nsidc-cumulus-prod-protected/ATLAS/ATL07/006/2019/05/01/ATL07-01_20190430235014_05000301_006_02.h5>\n",
      "Coincident S-2 images ['COPERNICUS/S2_SR/20190430T212049_20190430T212043_T16XEP', 'COPERNICUS/S2_SR/20190430T212049_20190430T212043_T16XEQ', 'COPERNICUS/S2_SR/20190430T212049_20190430T212043_T17XMJ', 'COPERNICUS/S2_SR/20190430T212049_20190430T212043_T17XMK', 'COPERNICUS/S2_SR/20190430T212049_20190430T212043_T17XNK', 'COPERNICUS/S2_SR/20190430T212049_20190430T212043_T17XNL', 'COPERNICUS/S2_SR/20190430T212049_20190430T212043_T17XNM', 'COPERNICUS/S2_SR/20190430T212049_20190430T212043_T17XNN', 'COPERNICUS/S2_SR/20190430T212049_20190430T212043_T18XVQ', 'COPERNICUS/S2_SR/20190430T212049_20190430T212043_T18XVR']\n",
      "Time difference = 174 minutes between S-2 and estimated IS-2 time from middle of granule\n",
      "Cloud cover = 36.8122576 %\n"
     ]
    },
    {
     "data": {
      "application/vnd.jupyter.widget-view+json": {
       "model_id": "92906375bea84751a82fdaeb71379979",
       "version_major": 2,
       "version_minor": 0
      },
      "text/plain": [
       "Map(center=[80.044169677599, -84.72553273861126], controls=(WidgetControl(options=['position', 'transparent_bg…"
      ]
     },
     "execution_count": 18,
     "metadata": {},
     "output_type": "execute_result"
    }
   ],
   "source": [
    "Map = geemap.Map()\n",
    "\n",
    "coincident_granule_num = 0\n",
    "\n",
    "#coincident_S2_images\n",
    "#s2_id = coincident_S2_images[coincident_granule_num].aggregate_first('id').getInfo()\n",
    "mean_cloud_cover = coincident_S2_images[coincident_granule_num].aggregate_mean('CLOUD_COVERAGE_ASSESSMENT').getInfo()\n",
    "#mean_cloud_pixel = coincident_S2_images[coincident_granule_num].aggregate_mean('CLOUDY_PIXEL_PERCENTAGE').getInfo()\n",
    "mean_time_delta = coincident_S2_images[coincident_granule_num].aggregate_mean('system:time_start').getInfo()\n",
    "time_s2 = datetime(1970, 1, 1) + timedelta(seconds = mean_time_delta/1000) \n",
    "\n",
    "print(ATL_filenames_matched[coincident_granule_num])\n",
    "print('Coincident S-2 images', coincident_S2_image_ids[coincident_granule_num])\n",
    "\n",
    "time_is2_m = ATL_midtimes_matched[coincident_granule_num]\n",
    "time_diff_mins_is2_mid = int(abs(time_is2_m-time_s2).seconds/60)\n",
    "print(f\"Time difference = {time_diff_mins_is2_mid} minutes between S-2 and estimated IS-2 time from middle of granule\")\n",
    "\n",
    "print(f\"Cloud cover = {mean_cloud_cover} %\")\n",
    "#print(mean_cloud_cover, time_s2, time_is2, time_diff_mins)\n",
    "\n",
    "mosaiced_scene = coincident_S2_mosaics[coincident_granule_num]\n",
    "#img = ee.Image(mosaiced_scene).select('B4','B3','B2')\n",
    "\n",
    "Map.addLayer(mosaiced_scene, {'bands': ['B4', 'B3', 'B2'], 'max': 10000}, 'RGB Mosaic')\n",
    "\n",
    "# Center Map around the first image, not figured out how to instead use the mosaic for this\n",
    "img = ee.Image(coincident_S2_image_ids[coincident_granule_num][0]).select('B4','B3','B2')\n",
    "Map.centerObject(img, zoom = 7)\n",
    "Map.addLayer(is2_coordinate_tracks_matched[coincident_granule_num], {}, \"ATl07 beam (middle strong)\")\n",
    "#Map.to_html(outfile='./your_map.html', title='My Map', width='100%', height='880px')\n",
    "\n",
    "Map"
   ]
  },
  {
   "cell_type": "code",
   "execution_count": null,
   "id": "635c2292-ca07-4033-baf6-aa5245a29343",
   "metadata": {},
   "outputs": [],
   "source": [
    "# Export the map as a PNG\n",
    "#url = mosaiced_scene.getThumbURL({\n",
    "#    'region': geometry.getInfo(),\n",
    "#    'dimensions': 1024,\n",
    "#    'format': 'png'\n",
    "#})"
   ]
  },
  {
   "cell_type": "code",
   "execution_count": null,
   "id": "0480ad1e-154b-467a-b095-2625019acbe8",
   "metadata": {},
   "outputs": [],
   "source": []
  },
  {
   "cell_type": "code",
   "execution_count": 19,
   "id": "f829fa96-89cb-4377-b626-82d777506ba1",
   "metadata": {},
   "outputs": [
    {
     "data": {
      "text/html": [
       "\n",
       "            <style>\n",
       "                .geemap-dark {\n",
       "                    --jp-widgets-color: white;\n",
       "                    --jp-widgets-label-color: white;\n",
       "                    --jp-ui-font-color1: white;\n",
       "                    --jp-layout-color2: #454545;\n",
       "                    background-color: #383838;\n",
       "                }\n",
       "\n",
       "                .geemap-dark .jupyter-button {\n",
       "                    --jp-layout-color3: #383838;\n",
       "                }\n",
       "\n",
       "                .geemap-colab {\n",
       "                    background-color: var(--colab-primary-surface-color, white);\n",
       "                }\n",
       "\n",
       "                .geemap-colab .jupyter-button {\n",
       "                    --jp-layout-color3: var(--colab-primary-surface-color, white);\n",
       "                }\n",
       "            </style>\n",
       "            "
      ],
      "text/plain": [
       "<IPython.core.display.HTML object>"
      ]
     },
     "metadata": {},
     "output_type": "display_data"
    },
    {
     "data": {
      "image/png": "[encoded data removed]",
      "text/plain": [
       "<Figure size 1000x1000 with 1 Axes>"
      ]
     },
     "metadata": {},
     "output_type": "display_data"
    }
   ],
   "source": [
    "# Plot a little map showing the broader location of the S-2 images\n",
    "\n",
    "import matplotlib.pyplot as plt\n",
    "import cartopy.crs as ccrs\n",
    "import cartopy.feature as cfeature\n",
    "\n",
    "# Your list of longitudes and latitudes\n",
    "# Format: [(lon1, lat1), (lon2, lat2), ...]\n",
    "coordinates = [(80, 80), (85, 85)]\n",
    "\n",
    "# Create a figure and add a subplot with a North Polar Stereographic projection\n",
    "fig = plt.figure(figsize=(10, 10))\n",
    "ax = fig.add_subplot(1, 1, 1, projection=ccrs.NorthPolarStereo())\n",
    "\n",
    "# Set the extent of the map to focus on the North Pole area\n",
    "ax.set_extent([-180, 180, 60, 90], ccrs.PlateCarree())\n",
    "\n",
    "# Add coastlines and borders for context\n",
    "ax.add_feature(cfeature.COASTLINE)\n",
    "#ax.add_feature(cfeature.BORDERS, linestyle=':')\n",
    "\n",
    "# Plot the markers based on the provided coordinates\n",
    "x=1\n",
    "for lon, lat in S2_coords:\n",
    "    ax.plot(lon, lat, 'ro', markersize=5, transform=ccrs.Geodetic())\n",
    "    ax.text(lon, lat, str(x), transform=ccrs.Geodetic())\n",
    "    x+=1\n",
    "\n",
    "plt.savefig('../Data/search_output/locations'+str(deltatime)+'_mcc'+str(max_cloud_cover)+'_dlnd'+str(dist_land_mask)+image_catalog+'.png')\n",
    "# Display the plot\n",
    "plt.show()\n"
   ]
  },
  {
   "cell_type": "code",
   "execution_count": null,
   "id": "ff4175b5-a2d5-43d9-a770-03771f0ad78c",
   "metadata": {},
   "outputs": [],
   "source": [
    "#mosaiced_scene"
   ]
  },
  {
   "cell_type": "code",
   "execution_count": 33,
   "id": "e48f3601-65e8-462a-9619-865e195d540b",
   "metadata": {},
   "outputs": [
    {
     "data": {
      "text/html": [
       "\n",
       "            <style>\n",
       "                .geemap-dark {\n",
       "                    --jp-widgets-color: white;\n",
       "                    --jp-widgets-label-color: white;\n",
       "                    --jp-ui-font-color1: white;\n",
       "                    --jp-layout-color2: #454545;\n",
       "                    background-color: #383838;\n",
       "                }\n",
       "\n",
       "                .geemap-dark .jupyter-button {\n",
       "                    --jp-layout-color3: #383838;\n",
       "                }\n",
       "\n",
       "                .geemap-colab {\n",
       "                    background-color: var(--colab-primary-surface-color, white);\n",
       "                }\n",
       "\n",
       "                .geemap-colab .jupyter-button {\n",
       "                    --jp-layout-color3: var(--colab-primary-surface-color, white);\n",
       "                }\n",
       "            </style>\n",
       "            "
      ],
      "text/plain": [
       "<IPython.core.display.HTML object>"
      ]
     },
     "metadata": {},
     "output_type": "display_data"
    },
    {
     "ename": "AttributeError",
     "evalue": "'list' object has no attribute 'toList'",
     "output_type": "error",
     "traceback": [
      "\u001b[0;31m---------------------------------------------------------------------------\u001b[0m",
      "\u001b[0;31mAttributeError\u001b[0m                            Traceback (most recent call last)",
      "Cell \u001b[0;32mIn[33], line 5\u001b[0m\n\u001b[1;32m      3\u001b[0m granule_num\u001b[38;5;241m=\u001b[39m\u001b[38;5;241m1\u001b[39m\n\u001b[1;32m      4\u001b[0m scene_number \u001b[38;5;241m=\u001b[39m coincident_S2_image_ids[granule_num]\n\u001b[0;32m----> 5\u001b[0m S2_ids \u001b[38;5;241m=\u001b[39m \u001b[43m[\u001b[49m\u001b[43mcoincident_S2_image_ids\u001b[49m\u001b[43m[\u001b[49m\u001b[43mgranule_num\u001b[49m\u001b[43m]\u001b[49m\u001b[38;5;241;43m.\u001b[39;49m\u001b[43mtoList\u001b[49m\u001b[43m(\u001b[49m\u001b[43mnumber_of_coincident_scenes_in_granule\u001b[49m\u001b[43m[\u001b[49m\u001b[43mgranule_num\u001b[49m\u001b[43m]\u001b[49m\u001b[43m)\u001b[49m\u001b[38;5;241;43m.\u001b[39;49m\u001b[43mgetInfo\u001b[49m\u001b[43m(\u001b[49m\u001b[43m)\u001b[49m\u001b[43m[\u001b[49m\u001b[43mi\u001b[49m\u001b[43m]\u001b[49m\u001b[43m[\u001b[49m\u001b[38;5;124;43m'\u001b[39;49m\u001b[38;5;124;43mid\u001b[39;49m\u001b[38;5;124;43m'\u001b[39;49m\u001b[43m]\u001b[49m\u001b[43m \u001b[49m\u001b[38;5;28;43;01mfor\u001b[39;49;00m\u001b[43m \u001b[49m\u001b[43mi\u001b[49m\u001b[43m \u001b[49m\u001b[38;5;129;43;01min\u001b[39;49;00m\u001b[43m \u001b[49m\u001b[38;5;28;43mrange\u001b[39;49m\u001b[43m(\u001b[49m\u001b[38;5;241;43m0\u001b[39;49m\u001b[43m,\u001b[49m\u001b[43m \u001b[49m\u001b[43mnumber_of_coincident_scenes_in_granule\u001b[49m\u001b[43m[\u001b[49m\u001b[43mgranule_num\u001b[49m\u001b[43m]\u001b[49m\u001b[43m)\u001b[49m\u001b[43m]\u001b[49m  \n\u001b[1;32m      7\u001b[0m \u001b[38;5;66;03m#time_diff = 3600*4 # Target time difference between ATL07 and Sentinel-2 < 3 hours\u001b[39;00m\n\u001b[1;32m      8\u001b[0m \u001b[38;5;66;03m#time_IS2 = datetime.strptime(IS2_file_name[test_x][-33:-19], \"%Y%m%d%H%M%S\")\u001b[39;00m\n\u001b[1;32m     10\u001b[0m Map \u001b[38;5;241m=\u001b[39m geemap\u001b[38;5;241m.\u001b[39mMap()\n",
      "Cell \u001b[0;32mIn[33], line 5\u001b[0m, in \u001b[0;36m<listcomp>\u001b[0;34m(.0)\u001b[0m\n\u001b[1;32m      3\u001b[0m granule_num\u001b[38;5;241m=\u001b[39m\u001b[38;5;241m1\u001b[39m\n\u001b[1;32m      4\u001b[0m scene_number \u001b[38;5;241m=\u001b[39m coincident_S2_image_ids[granule_num]\n\u001b[0;32m----> 5\u001b[0m S2_ids \u001b[38;5;241m=\u001b[39m [\u001b[43mcoincident_S2_image_ids\u001b[49m\u001b[43m[\u001b[49m\u001b[43mgranule_num\u001b[49m\u001b[43m]\u001b[49m\u001b[38;5;241;43m.\u001b[39;49m\u001b[43mtoList\u001b[49m(number_of_coincident_scenes_in_granule[granule_num])\u001b[38;5;241m.\u001b[39mgetInfo()[i][\u001b[38;5;124m'\u001b[39m\u001b[38;5;124mid\u001b[39m\u001b[38;5;124m'\u001b[39m] \u001b[38;5;28;01mfor\u001b[39;00m i \u001b[38;5;129;01min\u001b[39;00m \u001b[38;5;28mrange\u001b[39m(\u001b[38;5;241m0\u001b[39m, number_of_coincident_scenes_in_granule[granule_num])]  \n\u001b[1;32m      7\u001b[0m \u001b[38;5;66;03m#time_diff = 3600*4 # Target time difference between ATL07 and Sentinel-2 < 3 hours\u001b[39;00m\n\u001b[1;32m      8\u001b[0m \u001b[38;5;66;03m#time_IS2 = datetime.strptime(IS2_file_name[test_x][-33:-19], \"%Y%m%d%H%M%S\")\u001b[39;00m\n\u001b[1;32m     10\u001b[0m Map \u001b[38;5;241m=\u001b[39m geemap\u001b[38;5;241m.\u001b[39mMap()\n",
      "\u001b[0;31mAttributeError\u001b[0m: 'list' object has no attribute 'toList'"
     ]
    }
   ],
   "source": [
    "# In this section, we can check single coincident dataset on the map by assigning different values from non_zero_indices to test_x. \n",
    "# AP update: I dont need the time check here as it's in my function above!\n",
    "granule_num=1\n",
    "scene_ids = coincident_S2_image_ids[granule_num]\n",
    "#scene_ids = coincident_S2_image_ids[granule_num]\n",
    "\n",
    "#S2_ids = [coincident_S2_image_ids[granule_num](number_of_coincident_scenes_in_granule[granule_num]).getInfo()[i]['id'] for i in range(0, number_of_coincident_scenes_in_granule[granule_num])]  \n",
    "#time_diff = 3600*4 # Target time difference between ATL07 and Sentinel-2 < 3 hours\n",
    "#time_IS2 = datetime.strptime(IS2_file_name[test_x][-33:-19], \"%Y%m%d%H%M%S\")\n",
    "\n",
    "Map = geemap.Map()\n",
    "\n",
    "for i in range(0, number_of_coincident_scenes_in_granule[granule_num]):\n",
    "#for i in range(0, 1):\n",
    "    time_start = scene_ids[i].getInfo()[i]['properties']['system:time_start']\n",
    "    time_s2 = datetime(1970, 1, 1) + timedelta(seconds = time_start/1000)   \n",
    "    \n",
    "    img_name = os.path.basename(S2_ids[i])\n",
    "\n",
    "    # Time difference between IS2 and S2 < defined time_diff\n",
    "    #if abs(time_IS2-time_s2).seconds <= time_diff:\n",
    "\n",
    "    print(f\" {img_name}: Time difference = {np.int(abs(ATL_mid_times[granule_num]-time_s2).seconds/60)} minutes with ICESat-2 track\")\n",
    "    \n",
    "    img = ee.Image(S2_ids[i]).select('B4','B3','B2')\n",
    "    dim = img.getInfo()['bands'][0]['dimensions']\n",
    "    if dim[0] > 10000 and dim[1] > 0:\n",
    "        # # Download image into the local folder\n",
    "        #geemap.download_ee_image(img, f\"S2_{img_name}.tif\", scale=50)\n",
    "        Map.addLayer(img, {'min': 0, 'max': 10000}, img_name)\n",
    "        #print(f\" {img_name}: Time difference = {abs(time_IS2-time_s2).seconds/3600} hours with ICESat-2 track\")\n",
    "        #else:\n",
    "        #    print(f\"SKIP {img_name}: Not a full image\")\n",
    "   #else:\n",
    "   #     print(f\"SKIP {img_name}: Time difference > {time_diff/3600} hours with ICESat-2 track\")\n",
    "   #     Map.addLayer(img, {'min': 0, 'max': 10000}, img_name)\n",
    "   #     print(f\" {img_name}: Time difference = {abs(time_IS2-time_s2).seconds/3600} hours with ICESat-2 track\")\n",
    "\n",
    "Map.centerObject(img, zoom = 5)\n",
    "Map.addLayer(feature_track[scene_number], {}, \"IS2 track\")\n",
    "\n",
    "\n",
    "Map"
   ]
  },
  {
   "cell_type": "code",
   "execution_count": 26,
   "id": "f48c480f-75d7-47ac-9c65-a6c18f2c7e03",
   "metadata": {},
   "outputs": [
    {
     "data": {
      "text/html": [
       "\n",
       "            <style>\n",
       "                .geemap-dark {\n",
       "                    --jp-widgets-color: white;\n",
       "                    --jp-widgets-label-color: white;\n",
       "                    --jp-ui-font-color1: white;\n",
       "                    --jp-layout-color2: #454545;\n",
       "                    background-color: #383838;\n",
       "                }\n",
       "\n",
       "                .geemap-dark .jupyter-button {\n",
       "                    --jp-layout-color3: #383838;\n",
       "                }\n",
       "\n",
       "                .geemap-colab {\n",
       "                    background-color: var(--colab-primary-surface-color, white);\n",
       "                }\n",
       "\n",
       "                .geemap-colab .jupyter-button {\n",
       "                    --jp-layout-color3: var(--colab-primary-surface-color, white);\n",
       "                }\n",
       "            </style>\n",
       "            "
      ],
      "text/plain": [
       "<IPython.core.display.HTML object>"
      ]
     },
     "metadata": {},
     "output_type": "display_data"
    },
    {
     "data": {
      "text/plain": [
       "[10, 8, 6, 8, 4, 10, 5, 1, 36, 10, 8, 8, 8, 9, 10, 4, 10]"
      ]
     },
     "execution_count": 26,
     "metadata": {},
     "output_type": "execute_result"
    }
   ],
   "source": [
    "number_of_coincident_scenes_in_granule"
   ]
  },
  {
   "cell_type": "code",
   "execution_count": 32,
   "id": "f025fc55-6b8e-4a32-a1b5-19b5668a5a87",
   "metadata": {},
   "outputs": [
    {
     "data": {
      "text/html": [
       "\n",
       "            <style>\n",
       "                .geemap-dark {\n",
       "                    --jp-widgets-color: white;\n",
       "                    --jp-widgets-label-color: white;\n",
       "                    --jp-ui-font-color1: white;\n",
       "                    --jp-layout-color2: #454545;\n",
       "                    background-color: #383838;\n",
       "                }\n",
       "\n",
       "                .geemap-dark .jupyter-button {\n",
       "                    --jp-layout-color3: #383838;\n",
       "                }\n",
       "\n",
       "                .geemap-colab {\n",
       "                    background-color: var(--colab-primary-surface-color, white);\n",
       "                }\n",
       "\n",
       "                .geemap-colab .jupyter-button {\n",
       "                    --jp-layout-color3: var(--colab-primary-surface-color, white);\n",
       "                }\n",
       "            </style>\n",
       "            "
      ],
      "text/plain": [
       "<IPython.core.display.HTML object>"
      ]
     },
     "metadata": {},
     "output_type": "display_data"
    },
    {
     "data": {
      "text/plain": [
       "['COPERNICUS/S2_SR/20190430T230129_20190430T230125_T13XDJ',\n",
       " 'COPERNICUS/S2_SR/20190430T230129_20190430T230125_T13XDK',\n",
       " 'COPERNICUS/S2_SR/20190430T230129_20190430T230125_T13XEJ',\n",
       " 'COPERNICUS/S2_SR/20190430T230129_20190430T230125_T13XEK',\n",
       " 'COPERNICUS/S2_SR/20190430T230129_20190430T230125_T13XEL',\n",
       " 'COPERNICUS/S2_SR/20190430T230129_20190430T230125_T13XEM',\n",
       " 'COPERNICUS/S2_SR/20190430T230129_20190430T230125_T14XMQ',\n",
       " 'COPERNICUS/S2_SR/20190430T230129_20190430T230125_T14XMR']"
      ]
     },
     "execution_count": 32,
     "metadata": {},
     "output_type": "execute_result"
    }
   ],
   "source": [
    "coincident_S2_image_ids[granule_num]"
   ]
  },
  {
   "cell_type": "code",
   "execution_count": null,
   "id": "f6f16d23-b5c3-4391-820f-7e6ae6574e9e",
   "metadata": {},
   "outputs": [],
   "source": []
  }
 ],
 "metadata": {
  "kernelspec": {
   "display_name": "Python 3 (ipykernel)",
   "language": "python",
   "name": "python3"
  },
  "language_info": {
   "codemirror_mode": {
    "name": "ipython",
    "version": 3
   },
   "file_extension": ".py",
   "mimetype": "text/x-python",
   "name": "python",
   "nbconvert_exporter": "python",
   "pygments_lexer": "ipython3",
   "version": "3.11.9"
  }
 },
 "nbformat": 4,
 "nbformat_minor": 5
}
