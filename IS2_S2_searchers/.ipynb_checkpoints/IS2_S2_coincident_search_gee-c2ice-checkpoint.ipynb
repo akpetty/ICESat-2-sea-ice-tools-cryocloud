{
 "cells": [
  {
   "cell_type": "markdown",
   "id": "18a3e162-e102-41f5-b578-f7d1e05eeb17",
   "metadata": {},
   "source": [
    "## IS2_S2_cryo2ice_search.ipynb\n",
    "Alek Petty, adapted from an earlier M. Bagnardi script.\n",
    "\n",
    "\n",
    "Deescription:\n",
    "- This notebook searches for semi-coincident ICESat-2 and Sentinel-2 data.\n",
    "- The code finds Sentinel-2 images with ICESat-2 data falling within the image's footprint.\n",
    "- The code was updated to read in ATl07 data from the new cloud storage using earthdata, see relevant tutorials:\n",
    "     https://github.com/nsidc/NSIDC-Data-Tutorials/blob/main/notebooks/ICESat-2_Cloud_Access/ATL06-direct-access_rendered.ipynb\n",
    "     https://github.com/nsidc/NSIDC-Data-Tutorials/blob/main/notebooks/ICESat-2_Cloud_Access/nsidc_daac_uwg_cloud_access_tutorial_rendered.ipynb (No longer hosted!!)\n",
    "- Include new filtering to only look for images where we have cryo2ice (CryoSat-2 coincident) data based on external file. \n",
    " \n",
    "To do:\n",
    "- Should we use CLOUD_COVERAGE_ASSESSMENT or CLOUDY_PIXEL_PERCENTAGE?\n",
    "- Integrate the GEE or other cloud-based S-2 catalog. What data is on those comapred to the sentinelhub?\n",
    "- Check all beams iunstead of just the middle beam.\n",
    "- Add in other imagery/satellite sensors.\n",
    "- \n",
    "\n",
    "Notes:\n",
    "- Another way of doing this is to use the RGT (reference ground track) data from ICESat-2.\n",
    "    This could help if you want to look at future data I guess, but downside is it doesn't say where the data actually is on yhe ground, \n",
    "    just theoretical tracks.\n",
    "- Uses the middle strong beam but could be easily adapted to check across all beams.=\n",
    "- Tested with the adapted 'geo' conda env on cryocloud if you want to convert into a python script.\n",
    "\n",
    "Output:\n",
    "\n",
    "Update history:\n",
    " - Current notebook created in Apr 2024.\n"
   ]
  },
  {
   "cell_type": "code",
   "execution_count": 2,
   "id": "96049f4f-ab3a-49da-b1f0-e2b924dbaa97",
   "metadata": {},
   "outputs": [],
   "source": [
    "# Uncomment these out when running for the first time on cryocloud\n",
    "#%pip install sentinelsat\n",
    "#%pip install earthdata\n",
    "#%pip install astropy"
   ]
  },
  {
   "cell_type": "code",
   "execution_count": 3,
   "id": "98cd6034-b678-4e9c-ab5a-b6fcc7da41b8",
   "metadata": {},
   "outputs": [
    {
     "data": {
      "text/html": [
       "<p>To authorize access needed by Earth Engine, open the following\n",
       "        URL in a web browser and follow the instructions:</p>\n",
       "        <p><a href=https://code.earthengine.google.com/client-auth?scopes=https%3A//www.googleapis.com/auth/earthengine%20https%3A//www.googleapis.com/auth/cloud-platform%20https%3A//www.googleapis.com/auth/devstorage.full_control&request_id=aEIc-9bxaqABvfrb76lbBOOSPYDY5KHMwah2krXGjDc&tc=swGkaxhOgkWusjSajsEATTK7sj0kq0CPb9pSP8Y1uFU&cc=_yussmKn3NtWhvGLAUWddPSy0B-QXkfgkOd2oA7EwH8>https://code.earthengine.google.com/client-auth?scopes=https%3A//www.googleapis.com/auth/earthengine%20https%3A//www.googleapis.com/auth/cloud-platform%20https%3A//www.googleapis.com/auth/devstorage.full_control&request_id=aEIc-9bxaqABvfrb76lbBOOSPYDY5KHMwah2krXGjDc&tc=swGkaxhOgkWusjSajsEATTK7sj0kq0CPb9pSP8Y1uFU&cc=_yussmKn3NtWhvGLAUWddPSy0B-QXkfgkOd2oA7EwH8</a></p>\n",
       "        <p>The authorization workflow will generate a code, which you should paste in the box below.</p>\n",
       "        "
      ],
      "text/plain": [
       "<IPython.core.display.HTML object>"
      ]
     },
     "metadata": {},
     "output_type": "display_data"
    },
    {
     "name": "stdin",
     "output_type": "stream",
     "text": [
      "Enter verification code:  4/1AQlEd8ydHojw7_HjRYK6eVy1lVZdVgzyYlBFs_h29NfsKuKe0AUrSFpZfb0\n"
     ]
    },
    {
     "name": "stdout",
     "output_type": "stream",
     "text": [
      "\n",
      "Successfully saved authorization token.\n"
     ]
    }
   ],
   "source": [
    "# Load modules\n",
    "import datetime as dt\n",
    "import h5py\n",
    "import pandas as pd\n",
    "# Need to do this for geopandas for some reason\n",
    "import os\n",
    "os.environ['USE_PYGEOS'] = '0'\n",
    "import geopandas as gpd\n",
    "import glob\n",
    "from shapely.geometry import Point\n",
    "import matplotlib.pyplot as plt\n",
    "import os\n",
    "\n",
    "import numpy as np\n",
    "from PIL import Image\n",
    "import io\n",
    "import requests\n",
    "import time\n",
    "import earthaccess\n",
    "import xarray as xr\n",
    "from datetime import datetime\n",
    "from datetime import timedelta\n",
    "\n",
    "#from astropy.time import Time\n",
    "#from sentinelsat import SentinelAPI, read_geojson, geojson_to_wkt\n",
    "\n",
    "import ee\n",
    "import geemap\n",
    "#Initialize the Google Earth Engine API, handling authentication if necessary.\n",
    "try:\n",
    "    ee.Initialize()\n",
    "except: \n",
    "    ee.Authenticate()\n",
    "    ee.Initialize()"
   ]
  },
  {
   "cell_type": "code",
   "execution_count": 4,
   "id": "cab80b01-023c-4032-b84e-379765608825",
   "metadata": {},
   "outputs": [
    {
     "data": {
      "text/html": [
       "\n",
       "            <style>\n",
       "                .geemap-dark {\n",
       "                    --jp-widgets-color: white;\n",
       "                    --jp-widgets-label-color: white;\n",
       "                    --jp-ui-font-color1: white;\n",
       "                    --jp-layout-color2: #454545;\n",
       "                    background-color: #383838;\n",
       "                }\n",
       "\n",
       "                .geemap-dark .jupyter-button {\n",
       "                    --jp-layout-color3: #383838;\n",
       "                }\n",
       "\n",
       "                .geemap-colab {\n",
       "                    background-color: var(--colab-primary-surface-color, white);\n",
       "                }\n",
       "\n",
       "                .geemap-colab .jupyter-button {\n",
       "                    --jp-layout-color3: var(--colab-primary-surface-color, white);\n",
       "                }\n",
       "            </style>\n",
       "            "
      ],
      "text/plain": [
       "<IPython.core.display.HTML object>"
      ]
     },
     "metadata": {},
     "output_type": "display_data"
    }
   ],
   "source": [
    "# ICESat-2/earthaccess stuff\n",
    "auth = earthaccess.login()\n",
    "\n"
   ]
  },
  {
   "cell_type": "code",
   "execution_count": 5,
   "id": "5bcbb1ed-7a90-455f-ac87-d75e8e6dbf42",
   "metadata": {},
   "outputs": [
    {
     "data": {
      "text/html": [
       "\n",
       "            <style>\n",
       "                .geemap-dark {\n",
       "                    --jp-widgets-color: white;\n",
       "                    --jp-widgets-label-color: white;\n",
       "                    --jp-ui-font-color1: white;\n",
       "                    --jp-layout-color2: #454545;\n",
       "                    background-color: #383838;\n",
       "                }\n",
       "\n",
       "                .geemap-dark .jupyter-button {\n",
       "                    --jp-layout-color3: #383838;\n",
       "                }\n",
       "\n",
       "                .geemap-colab {\n",
       "                    background-color: var(--colab-primary-surface-color, white);\n",
       "                }\n",
       "\n",
       "                .geemap-colab .jupyter-button {\n",
       "                    --jp-layout-color3: var(--colab-primary-surface-color, white);\n",
       "                }\n",
       "            </style>\n",
       "            "
      ],
      "text/plain": [
       "<IPython.core.display.HTML object>"
      ]
     },
     "metadata": {},
     "output_type": "display_data"
    }
   ],
   "source": [
    "c2ice_df = pd.read_csv('../Data/Cryo2Ice_info_array.csv')\n",
    "c2ice_df['is2_start_time_dt'] = c2ice_df['start_IS2'].apply(\n",
    "    lambda x: pd.to_datetime(''.join(x.split(',')), format='%Y %m %d %H %M %S')\n",
    ")\n",
    "\n",
    "c2ice_df['is2_end_time_dt'] = c2ice_df['end_IS2'].apply(\n",
    "    lambda x: pd.to_datetime(''.join(x.split(',')), format='%Y %m %d %H %M %S')\n",
    ")\n",
    "\n",
    "c2ice_df['cs2_start_time_dt'] = c2ice_df['start_IS2'].apply(\n",
    "    lambda x: pd.to_datetime(''.join(x.split(',')), format='%Y %m %d %H %M %S')\n",
    ")\n",
    "\n",
    "#reader.vars.avail()\n",
    "c2ice_files = c2ice_df[\"atl07filename\"].tolist()"
   ]
  },
  {
   "cell_type": "code",
   "execution_count": 6,
   "id": "c3ed414a-b26b-48fc-bef3-1b961660c30d",
   "metadata": {},
   "outputs": [
    {
     "data": {
      "text/html": [
       "\n",
       "            <style>\n",
       "                .geemap-dark {\n",
       "                    --jp-widgets-color: white;\n",
       "                    --jp-widgets-label-color: white;\n",
       "                    --jp-ui-font-color1: white;\n",
       "                    --jp-layout-color2: #454545;\n",
       "                    background-color: #383838;\n",
       "                }\n",
       "\n",
       "                .geemap-dark .jupyter-button {\n",
       "                    --jp-layout-color3: #383838;\n",
       "                }\n",
       "\n",
       "                .geemap-colab {\n",
       "                    background-color: var(--colab-primary-surface-color, white);\n",
       "                }\n",
       "\n",
       "                .geemap-colab .jupyter-button {\n",
       "                    --jp-layout-color3: var(--colab-primary-surface-color, white);\n",
       "                }\n",
       "            </style>\n",
       "            "
      ],
      "text/plain": [
       "<IPython.core.display.HTML object>"
      ]
     },
     "metadata": {},
     "output_type": "display_data"
    },
    {
     "data": {
      "text/html": [
       "<div>\n",
       "<style scoped>\n",
       "    .dataframe tbody tr th:only-of-type {\n",
       "        vertical-align: middle;\n",
       "    }\n",
       "\n",
       "    .dataframe tbody tr th {\n",
       "        vertical-align: top;\n",
       "    }\n",
       "\n",
       "    .dataframe thead th {\n",
       "        text-align: right;\n",
       "    }\n",
       "</style>\n",
       "<table border=\"1\" class=\"dataframe\">\n",
       "  <thead>\n",
       "    <tr style=\"text-align: right;\">\n",
       "      <th></th>\n",
       "      <th>l2filename</th>\n",
       "      <th>cpomfilename</th>\n",
       "      <th>atl07filename</th>\n",
       "      <th>atl10filename</th>\n",
       "      <th>start _CS2</th>\n",
       "      <th>end_CS2</th>\n",
       "      <th>start_IS2</th>\n",
       "      <th>end_IS2</th>\n",
       "      <th>strong_beam</th>\n",
       "      <th>is2_start_time_dt</th>\n",
       "      <th>is2_end_time_dt</th>\n",
       "      <th>cs2_start_time_dt</th>\n",
       "    </tr>\n",
       "  </thead>\n",
       "  <tbody>\n",
       "    <tr>\n",
       "      <th>0</th>\n",
       "      <td>CS_LTA__SIR1SAR_FR_20201015T043431_20201015T04...</td>\n",
       "      <td>cry_NO_20201015T043025.elev</td>\n",
       "      <td>ATL07-01_20201015012229_03190901_006_01.h5</td>\n",
       "      <td>ATL10-01_20201015012229_03190901_006_01.h5</td>\n",
       "      <td>2020, 10, 15, 04, 38, 36</td>\n",
       "      <td>2020, 10, 15, 04, 43, 08</td>\n",
       "      <td>2020, 10, 15, 01, 46, 15</td>\n",
       "      <td>2020, 10, 15, 01, 50, 33</td>\n",
       "      <td>L</td>\n",
       "      <td>2020-10-15 01:46:15</td>\n",
       "      <td>2020-10-15 01:50:33</td>\n",
       "      <td>2020-10-15 01:46:15</td>\n",
       "    </tr>\n",
       "    <tr>\n",
       "      <th>1</th>\n",
       "      <td>CS_LTA__SIR1SAR_FR_20210402T024440_20210402T02...</td>\n",
       "      <td>cry_NO_20210402T022221.elev</td>\n",
       "      <td>ATL07-01_20210401235002_01251101_006_02.h5</td>\n",
       "      <td>ATL10-01_20210401235002_01251101_006_02.h5</td>\n",
       "      <td>2021, 04, 02, 02, 45, 16</td>\n",
       "      <td>2021, 04, 02, 02, 51, 56</td>\n",
       "      <td>2021, 04, 02, 00, 12, 09</td>\n",
       "      <td>2021, 04, 02, 00, 18, 29</td>\n",
       "      <td>R</td>\n",
       "      <td>2021-04-02 00:12:09</td>\n",
       "      <td>2021-04-02 00:18:29</td>\n",
       "      <td>2021-04-02 00:12:09</td>\n",
       "    </tr>\n",
       "    <tr>\n",
       "      <th>2</th>\n",
       "      <td>CS_LTA__SIR1SAR_FR_20210403T100237_20210403T10...</td>\n",
       "      <td>cry_NO_20210403T092831.elev</td>\n",
       "      <td>ATL07-01_20210403071550_01451101_006_02.h5</td>\n",
       "      <td>ATL10-01_20210403071550_01451101_006_02.h5</td>\n",
       "      <td>2021, 04, 03, 10, 06, 52</td>\n",
       "      <td>2021, 04, 03, 10, 13, 43</td>\n",
       "      <td>2021, 04, 03, 07, 34, 07</td>\n",
       "      <td>2021, 04, 03, 07, 40, 37</td>\n",
       "      <td>R</td>\n",
       "      <td>2021-04-03 07:34:07</td>\n",
       "      <td>2021-04-03 07:40:37</td>\n",
       "      <td>2021-04-03 07:34:07</td>\n",
       "    </tr>\n",
       "    <tr>\n",
       "      <th>3</th>\n",
       "      <td>CS_LTA__SIR1SAR_FR_20210404T173201_20210404T17...</td>\n",
       "      <td>cry_NO_20210404T173116.elev</td>\n",
       "      <td>ATL07-01_20210404144138_01651101_006_02.h5</td>\n",
       "      <td>ATL10-01_20210404144138_01651101_006_02.h5</td>\n",
       "      <td>2021, 04, 04, 17, 33, 50</td>\n",
       "      <td>2021, 04, 04, 17, 40, 01</td>\n",
       "      <td>2021, 04, 04, 15, 01, 10</td>\n",
       "      <td>2021, 04, 04, 15, 07, 02</td>\n",
       "      <td>R</td>\n",
       "      <td>2021-04-04 15:01:10</td>\n",
       "      <td>2021-04-04 15:07:02</td>\n",
       "      <td>2021-04-04 15:01:10</td>\n",
       "    </tr>\n",
       "    <tr>\n",
       "      <th>4</th>\n",
       "      <td>CS_LTA__SIR1SAR_FR_20210407T082346_20210407T08...</td>\n",
       "      <td>cry_NO_20210407T074556.elev</td>\n",
       "      <td>ATL07-01_20210407053313_02051101_006_02.h5</td>\n",
       "      <td>ATL10-01_20210407053313_02051101_006_02.h5</td>\n",
       "      <td>2021, 04, 07, 08, 24, 22</td>\n",
       "      <td>2021, 04, 07, 08, 31, 48</td>\n",
       "      <td>2021, 04, 07, 05, 52, 01</td>\n",
       "      <td>2021, 04, 07, 05, 59, 05</td>\n",
       "      <td>R</td>\n",
       "      <td>2021-04-07 05:52:01</td>\n",
       "      <td>2021-04-07 05:59:05</td>\n",
       "      <td>2021-04-07 05:52:01</td>\n",
       "    </tr>\n",
       "    <tr>\n",
       "      <th>...</th>\n",
       "      <td>...</td>\n",
       "      <td>...</td>\n",
       "      <td>...</td>\n",
       "      <td>...</td>\n",
       "      <td>...</td>\n",
       "      <td>...</td>\n",
       "      <td>...</td>\n",
       "      <td>...</td>\n",
       "      <td>...</td>\n",
       "      <td>...</td>\n",
       "      <td>...</td>\n",
       "      <td>...</td>\n",
       "    </tr>\n",
       "    <tr>\n",
       "      <th>74</th>\n",
       "      <td>CS_OFFL_SIR1SAR_FR_20220329T124106_20220329T12...</td>\n",
       "      <td>cry_NO_20220329T122947.elev</td>\n",
       "      <td>ATL07-01_20220329102930_00971501_006_01.h5</td>\n",
       "      <td>ATL10-01_20220329102930_00971501_006_01.h5</td>\n",
       "      <td>2022, 03, 29, 12, 41, 48</td>\n",
       "      <td>2022, 03, 29, 12, 46, 23</td>\n",
       "      <td>2022, 03, 29, 10, 49, 35</td>\n",
       "      <td>2022, 03, 29, 10, 53, 57</td>\n",
       "      <td>L</td>\n",
       "      <td>2022-03-29 10:49:35</td>\n",
       "      <td>2022-03-29 10:53:57</td>\n",
       "      <td>2022-03-29 10:49:35</td>\n",
       "    </tr>\n",
       "    <tr>\n",
       "      <th>75</th>\n",
       "      <td>CS_OFFL_SIR1SAR_FR_20220329T124106_20220329T12...</td>\n",
       "      <td>cry_NO_20220329T122947.elev</td>\n",
       "      <td>ATL07-01_20220329102930_00971501_006_01.h5</td>\n",
       "      <td>ATL10-01_20220329102930_00971501_006_01.h5</td>\n",
       "      <td>2022, 03, 29, 12, 46, 22</td>\n",
       "      <td>2022, 03, 29, 12, 50, 06</td>\n",
       "      <td>2022, 03, 29, 10, 53, 56</td>\n",
       "      <td>2022, 03, 29, 10, 57, 30</td>\n",
       "      <td>L</td>\n",
       "      <td>2022-03-29 10:53:56</td>\n",
       "      <td>2022-03-29 10:57:30</td>\n",
       "      <td>2022-03-29 10:53:56</td>\n",
       "    </tr>\n",
       "    <tr>\n",
       "      <th>76</th>\n",
       "      <td>CS_OFFL_SIR1SAR_FR_20220401T033307_20220401T03...</td>\n",
       "      <td>cry_NO_20220401T031947.elev</td>\n",
       "      <td>ATL07-01_20220401012104_01371501_006_02.h5</td>\n",
       "      <td>ATL10-01_20220401012104_01371501_006_02.h5</td>\n",
       "      <td>2022, 04, 01, 03, 34, 01</td>\n",
       "      <td>2022, 04, 01, 03, 41, 31</td>\n",
       "      <td>2022, 04, 01, 01, 42, 02</td>\n",
       "      <td>2022, 04, 01, 01, 49, 10</td>\n",
       "      <td>L</td>\n",
       "      <td>2022-04-01 01:42:02</td>\n",
       "      <td>2022-04-01 01:49:10</td>\n",
       "      <td>2022-04-01 01:42:02</td>\n",
       "    </tr>\n",
       "    <tr>\n",
       "      <th>77</th>\n",
       "      <td>CS_OFFL_SIR1SAR_FR_20220402T105853_20220402T11...</td>\n",
       "      <td>cry_NO_20220402T101800.elev</td>\n",
       "      <td>ATL07-01_20220402084652_01571501_006_02.h5</td>\n",
       "      <td>ATL10-01_20220402084652_01571501_006_02.h5</td>\n",
       "      <td>2022, 04, 02, 10, 59, 29</td>\n",
       "      <td>2022, 04, 02, 11, 04, 47</td>\n",
       "      <td>2022, 04, 02, 09, 07, 39</td>\n",
       "      <td>2022, 04, 02, 09, 12, 43</td>\n",
       "      <td>L</td>\n",
       "      <td>2022-04-02 09:07:39</td>\n",
       "      <td>2022-04-02 09:12:43</td>\n",
       "      <td>2022-04-02 09:07:39</td>\n",
       "    </tr>\n",
       "    <tr>\n",
       "      <th>78</th>\n",
       "      <td>CS_OFFL_SIR1SAR_FR_20220403T182310_20220403T18...</td>\n",
       "      <td>cry_NO_20220403T175012.elev</td>\n",
       "      <td>ATL07-01_20220403161239_01771501_006_02.h5</td>\n",
       "      <td>ATL10-01_20220403161239_01771501_006_02.h5</td>\n",
       "      <td>2022, 04, 03, 18, 25, 24</td>\n",
       "      <td>2022, 04, 03, 18, 28, 34</td>\n",
       "      <td>2022, 04, 03, 16, 33, 44</td>\n",
       "      <td>2022, 04, 03, 16, 36, 44</td>\n",
       "      <td>L</td>\n",
       "      <td>2022-04-03 16:33:44</td>\n",
       "      <td>2022-04-03 16:36:44</td>\n",
       "      <td>2022-04-03 16:33:44</td>\n",
       "    </tr>\n",
       "  </tbody>\n",
       "</table>\n",
       "<p>79 rows × 12 columns</p>\n",
       "</div>"
      ],
      "text/plain": [
       "                                           l2filename  \\\n",
       "0   CS_LTA__SIR1SAR_FR_20201015T043431_20201015T04...   \n",
       "1   CS_LTA__SIR1SAR_FR_20210402T024440_20210402T02...   \n",
       "2   CS_LTA__SIR1SAR_FR_20210403T100237_20210403T10...   \n",
       "3   CS_LTA__SIR1SAR_FR_20210404T173201_20210404T17...   \n",
       "4   CS_LTA__SIR1SAR_FR_20210407T082346_20210407T08...   \n",
       "..                                                ...   \n",
       "74  CS_OFFL_SIR1SAR_FR_20220329T124106_20220329T12...   \n",
       "75  CS_OFFL_SIR1SAR_FR_20220329T124106_20220329T12...   \n",
       "76  CS_OFFL_SIR1SAR_FR_20220401T033307_20220401T03...   \n",
       "77  CS_OFFL_SIR1SAR_FR_20220402T105853_20220402T11...   \n",
       "78  CS_OFFL_SIR1SAR_FR_20220403T182310_20220403T18...   \n",
       "\n",
       "                   cpomfilename                               atl07filename  \\\n",
       "0   cry_NO_20201015T043025.elev  ATL07-01_20201015012229_03190901_006_01.h5   \n",
       "1   cry_NO_20210402T022221.elev  ATL07-01_20210401235002_01251101_006_02.h5   \n",
       "2   cry_NO_20210403T092831.elev  ATL07-01_20210403071550_01451101_006_02.h5   \n",
       "3   cry_NO_20210404T173116.elev  ATL07-01_20210404144138_01651101_006_02.h5   \n",
       "4   cry_NO_20210407T074556.elev  ATL07-01_20210407053313_02051101_006_02.h5   \n",
       "..                          ...                                         ...   \n",
       "74  cry_NO_20220329T122947.elev  ATL07-01_20220329102930_00971501_006_01.h5   \n",
       "75  cry_NO_20220329T122947.elev  ATL07-01_20220329102930_00971501_006_01.h5   \n",
       "76  cry_NO_20220401T031947.elev  ATL07-01_20220401012104_01371501_006_02.h5   \n",
       "77  cry_NO_20220402T101800.elev  ATL07-01_20220402084652_01571501_006_02.h5   \n",
       "78  cry_NO_20220403T175012.elev  ATL07-01_20220403161239_01771501_006_02.h5   \n",
       "\n",
       "                                 atl10filename                start _CS2  \\\n",
       "0   ATL10-01_20201015012229_03190901_006_01.h5  2020, 10, 15, 04, 38, 36   \n",
       "1   ATL10-01_20210401235002_01251101_006_02.h5  2021, 04, 02, 02, 45, 16   \n",
       "2   ATL10-01_20210403071550_01451101_006_02.h5  2021, 04, 03, 10, 06, 52   \n",
       "3   ATL10-01_20210404144138_01651101_006_02.h5  2021, 04, 04, 17, 33, 50   \n",
       "4   ATL10-01_20210407053313_02051101_006_02.h5  2021, 04, 07, 08, 24, 22   \n",
       "..                                         ...                       ...   \n",
       "74  ATL10-01_20220329102930_00971501_006_01.h5  2022, 03, 29, 12, 41, 48   \n",
       "75  ATL10-01_20220329102930_00971501_006_01.h5  2022, 03, 29, 12, 46, 22   \n",
       "76  ATL10-01_20220401012104_01371501_006_02.h5  2022, 04, 01, 03, 34, 01   \n",
       "77  ATL10-01_20220402084652_01571501_006_02.h5  2022, 04, 02, 10, 59, 29   \n",
       "78  ATL10-01_20220403161239_01771501_006_02.h5  2022, 04, 03, 18, 25, 24   \n",
       "\n",
       "                     end_CS2                 start_IS2  \\\n",
       "0   2020, 10, 15, 04, 43, 08  2020, 10, 15, 01, 46, 15   \n",
       "1   2021, 04, 02, 02, 51, 56  2021, 04, 02, 00, 12, 09   \n",
       "2   2021, 04, 03, 10, 13, 43  2021, 04, 03, 07, 34, 07   \n",
       "3   2021, 04, 04, 17, 40, 01  2021, 04, 04, 15, 01, 10   \n",
       "4   2021, 04, 07, 08, 31, 48  2021, 04, 07, 05, 52, 01   \n",
       "..                       ...                       ...   \n",
       "74  2022, 03, 29, 12, 46, 23  2022, 03, 29, 10, 49, 35   \n",
       "75  2022, 03, 29, 12, 50, 06  2022, 03, 29, 10, 53, 56   \n",
       "76  2022, 04, 01, 03, 41, 31  2022, 04, 01, 01, 42, 02   \n",
       "77  2022, 04, 02, 11, 04, 47  2022, 04, 02, 09, 07, 39   \n",
       "78  2022, 04, 03, 18, 28, 34  2022, 04, 03, 16, 33, 44   \n",
       "\n",
       "                     end_IS2 strong_beam   is2_start_time_dt  \\\n",
       "0   2020, 10, 15, 01, 50, 33           L 2020-10-15 01:46:15   \n",
       "1   2021, 04, 02, 00, 18, 29           R 2021-04-02 00:12:09   \n",
       "2   2021, 04, 03, 07, 40, 37           R 2021-04-03 07:34:07   \n",
       "3   2021, 04, 04, 15, 07, 02           R 2021-04-04 15:01:10   \n",
       "4   2021, 04, 07, 05, 59, 05           R 2021-04-07 05:52:01   \n",
       "..                       ...         ...                 ...   \n",
       "74  2022, 03, 29, 10, 53, 57           L 2022-03-29 10:49:35   \n",
       "75  2022, 03, 29, 10, 57, 30           L 2022-03-29 10:53:56   \n",
       "76  2022, 04, 01, 01, 49, 10           L 2022-04-01 01:42:02   \n",
       "77  2022, 04, 02, 09, 12, 43           L 2022-04-02 09:07:39   \n",
       "78  2022, 04, 03, 16, 36, 44           L 2022-04-03 16:33:44   \n",
       "\n",
       "       is2_end_time_dt   cs2_start_time_dt  \n",
       "0  2020-10-15 01:50:33 2020-10-15 01:46:15  \n",
       "1  2021-04-02 00:18:29 2021-04-02 00:12:09  \n",
       "2  2021-04-03 07:40:37 2021-04-03 07:34:07  \n",
       "3  2021-04-04 15:07:02 2021-04-04 15:01:10  \n",
       "4  2021-04-07 05:59:05 2021-04-07 05:52:01  \n",
       "..                 ...                 ...  \n",
       "74 2022-03-29 10:53:57 2022-03-29 10:49:35  \n",
       "75 2022-03-29 10:57:30 2022-03-29 10:53:56  \n",
       "76 2022-04-01 01:49:10 2022-04-01 01:42:02  \n",
       "77 2022-04-02 09:12:43 2022-04-02 09:07:39  \n",
       "78 2022-04-03 16:36:44 2022-04-03 16:33:44  \n",
       "\n",
       "[79 rows x 12 columns]"
      ]
     },
     "execution_count": 6,
     "metadata": {},
     "output_type": "execute_result"
    }
   ],
   "source": [
    "#c2ice_df.where(c2ice_df.atl07filename==c2ice_file)\n",
    "c2ice_df\n"
   ]
  },
  {
   "cell_type": "code",
   "execution_count": 7,
   "id": "3d48ef75-7bb7-480b-990d-faa866fe2c65",
   "metadata": {},
   "outputs": [
    {
     "data": {
      "text/html": [
       "\n",
       "            <style>\n",
       "                .geemap-dark {\n",
       "                    --jp-widgets-color: white;\n",
       "                    --jp-widgets-label-color: white;\n",
       "                    --jp-ui-font-color1: white;\n",
       "                    --jp-layout-color2: #454545;\n",
       "                    background-color: #383838;\n",
       "                }\n",
       "\n",
       "                .geemap-dark .jupyter-button {\n",
       "                    --jp-layout-color3: #383838;\n",
       "                }\n",
       "\n",
       "                .geemap-colab {\n",
       "                    background-color: var(--colab-primary-surface-color, white);\n",
       "                }\n",
       "\n",
       "                .geemap-colab .jupyter-button {\n",
       "                    --jp-layout-color3: var(--colab-primary-surface-color, white);\n",
       "                }\n",
       "            </style>\n",
       "            "
      ],
      "text/plain": [
       "<IPython.core.display.HTML object>"
      ]
     },
     "metadata": {},
     "output_type": "display_data"
    },
    {
     "name": "stdout",
     "output_type": "stream",
     "text": [
      "[Collection: {'EntryTitle': 'ATLAS/ICESat-2 L3A Sea Ice Height V006'}\n",
      "Spatial coverage: {'HorizontalSpatialDomain': {'Orbit': {'AscendingCrossing': 48.92460331907133, 'StartLatitude': 27.0, 'StartDirection': 'A', 'EndLatitude': 27.0, 'EndDirection': 'D'}}}\n",
      "Temporal coverage: {'RangeDateTime': {'BeginningDateTime': '2020-10-15T01:44:07.383Z', 'EndingDateTime': '2020-10-15T01:50:33.617Z'}}\n",
      "Size(MB): 181.3192491531372\n",
      "Data: ['https://data.nsidc.earthdatacloud.nasa.gov/nsidc-cumulus-prod-protected/ATLAS/ATL07/006/2020/10/15/ATL07-01_20201015012229_03190901_006_01.h5']]\n"
     ]
    },
    {
     "data": {
      "application/vnd.jupyter.widget-view+json": {
       "model_id": "d49105c52f70483fb386794728e82684",
       "version_major": 2,
       "version_minor": 0
      },
      "text/plain": [
       "QUEUEING TASKS | :   0%|          | 0/1 [00:00<?, ?it/s]"
      ]
     },
     "metadata": {},
     "output_type": "display_data"
    },
    {
     "data": {
      "application/vnd.jupyter.widget-view+json": {
       "model_id": "5698a9596a5d4a88b5d5c168c039b8d1",
       "version_major": 2,
       "version_minor": 0
      },
      "text/plain": [
       "PROCESSING TASKS | :   0%|          | 0/1 [00:00<?, ?it/s]"
      ]
     },
     "metadata": {},
     "output_type": "display_data"
    },
    {
     "data": {
      "application/vnd.jupyter.widget-view+json": {
       "model_id": "21ffb99d30024b94b87152487528436d",
       "version_major": 2,
       "version_minor": 0
      },
      "text/plain": [
       "COLLECTING RESULTS | :   0%|          | 0/1 [00:00<?, ?it/s]"
      ]
     },
     "metadata": {},
     "output_type": "display_data"
    },
    {
     "name": "stderr",
     "output_type": "stream",
     "text": [
      "/srv/conda/envs/notebook/lib/python3.11/site-packages/ee/deprecation.py:207: DeprecationWarning: \n",
      "\n",
      "Attention required for COPERNICUS/S2_SR! You are using a deprecated asset.\n",
      "To ensure continued functionality, please update it.\n",
      "Learn more: https://developers.google.com/earth-engine/datasets/catalog/COPERNICUS_S2_SR\n",
      "\n",
      "  warnings.warn(warning, category=DeprecationWarning)\n"
     ]
    },
    {
     "name": "stdout",
     "output_type": "stream",
     "text": [
      "\n",
      "Coincident S2 images: 0\n",
      "\n",
      "\n",
      "\n",
      "[Collection: {'EntryTitle': 'ATLAS/ICESat-2 L3A Sea Ice Height V006'}\n",
      "Spatial coverage: {'HorizontalSpatialDomain': {'Orbit': {'AscendingCrossing': -48.924131734392304, 'StartLatitude': 27.0, 'StartDirection': 'A', 'EndLatitude': 27.0, 'EndDirection': 'D'}}}\n",
      "Temporal coverage: {'RangeDateTime': {'BeginningDateTime': '2021-04-02T00:03:38.476Z', 'EndingDateTime': '2021-04-02T00:18:35.195Z'}}\n",
      "Size(MB): 376.94387912750244\n",
      "Data: ['https://data.nsidc.earthdatacloud.nasa.gov/nsidc-cumulus-prod-protected/ATLAS/ATL07/006/2021/04/02/ATL07-01_20210401235002_01251101_006_02.h5']]\n"
     ]
    },
    {
     "data": {
      "application/vnd.jupyter.widget-view+json": {
       "model_id": "295b79a0ca944098b63de98abbe12c84",
       "version_major": 2,
       "version_minor": 0
      },
      "text/plain": [
       "QUEUEING TASKS | :   0%|          | 0/1 [00:00<?, ?it/s]"
      ]
     },
     "metadata": {},
     "output_type": "display_data"
    },
    {
     "data": {
      "application/vnd.jupyter.widget-view+json": {
       "model_id": "204a2799c9d74ae6945f3451038a0c05",
       "version_major": 2,
       "version_minor": 0
      },
      "text/plain": [
       "PROCESSING TASKS | :   0%|          | 0/1 [00:00<?, ?it/s]"
      ]
     },
     "metadata": {},
     "output_type": "display_data"
    },
    {
     "data": {
      "application/vnd.jupyter.widget-view+json": {
       "model_id": "fbc0624bca884505874ecb27ae575d8f",
       "version_major": 2,
       "version_minor": 0
      },
      "text/plain": [
       "COLLECTING RESULTS | :   0%|          | 0/1 [00:00<?, ?it/s]"
      ]
     },
     "metadata": {},
     "output_type": "display_data"
    },
    {
     "name": "stdout",
     "output_type": "stream",
     "text": [
      "\n",
      "Coincident S2 images: 0\n",
      "\n",
      "\n",
      "\n",
      "[Collection: {'EntryTitle': 'ATLAS/ICESat-2 L3A Sea Ice Height V006'}\n",
      "Spatial coverage: {'HorizontalSpatialDomain': {'Orbit': {'AscendingCrossing': -161.30977839399438, 'StartLatitude': 27.0, 'StartDirection': 'A', 'EndLatitude': 27.0, 'EndDirection': 'D'}}}\n",
      "Temporal coverage: {'RangeDateTime': {'BeginningDateTime': '2021-04-03T07:32:15.049Z', 'EndingDateTime': '2021-04-03T07:48:45.628Z'}}\n",
      "Size(MB): 414.7863245010376\n",
      "Data: ['https://data.nsidc.earthdatacloud.nasa.gov/nsidc-cumulus-prod-protected/ATLAS/ATL07/006/2021/04/03/ATL07-01_20210403071550_01451101_006_02.h5']]\n"
     ]
    },
    {
     "data": {
      "application/vnd.jupyter.widget-view+json": {
       "model_id": "a706a8fd818b46978c5ebb8d635188a2",
       "version_major": 2,
       "version_minor": 0
      },
      "text/plain": [
       "QUEUEING TASKS | :   0%|          | 0/1 [00:00<?, ?it/s]"
      ]
     },
     "metadata": {},
     "output_type": "display_data"
    },
    {
     "data": {
      "application/vnd.jupyter.widget-view+json": {
       "model_id": "3f9471e6b5cb4c2da1efae036c995423",
       "version_major": 2,
       "version_minor": 0
      },
      "text/plain": [
       "PROCESSING TASKS | :   0%|          | 0/1 [00:00<?, ?it/s]"
      ]
     },
     "metadata": {},
     "output_type": "display_data"
    },
    {
     "data": {
      "application/vnd.jupyter.widget-view+json": {
       "model_id": "7ac24de44e01443a988f8efb414fe54c",
       "version_major": 2,
       "version_minor": 0
      },
      "text/plain": [
       "COLLECTING RESULTS | :   0%|          | 0/1 [00:00<?, ?it/s]"
      ]
     },
     "metadata": {},
     "output_type": "display_data"
    },
    {
     "name": "stdout",
     "output_type": "stream",
     "text": [
      "\n",
      "Coincident S2 images: 0\n",
      "\n",
      "\n",
      "\n",
      "[Collection: {'EntryTitle': 'ATLAS/ICESat-2 L3A Sea Ice Height V006'}\n",
      "Spatial coverage: {'HorizontalSpatialDomain': {'Orbit': {'AscendingCrossing': 86.30154409738257, 'StartLatitude': 27.0, 'StartDirection': 'A', 'EndLatitude': 27.0, 'EndDirection': 'D'}}}\n",
      "Temporal coverage: {'RangeDateTime': {'BeginningDateTime': '2021-04-04T14:59:34.707Z', 'EndingDateTime': '2021-04-04T15:11:05.288Z'}}\n",
      "Size(MB): 317.7967824935913\n",
      "Data: ['https://data.nsidc.earthdatacloud.nasa.gov/nsidc-cumulus-prod-protected/ATLAS/ATL07/006/2021/04/04/ATL07-01_20210404144138_01651101_006_02.h5']]\n"
     ]
    },
    {
     "data": {
      "application/vnd.jupyter.widget-view+json": {
       "model_id": "a1f66ba4b5394d049f93f3962e2767f6",
       "version_major": 2,
       "version_minor": 0
      },
      "text/plain": [
       "QUEUEING TASKS | :   0%|          | 0/1 [00:00<?, ?it/s]"
      ]
     },
     "metadata": {},
     "output_type": "display_data"
    },
    {
     "data": {
      "application/vnd.jupyter.widget-view+json": {
       "model_id": "ead13a18b0134c3c89f2402a0482bbc4",
       "version_major": 2,
       "version_minor": 0
      },
      "text/plain": [
       "PROCESSING TASKS | :   0%|          | 0/1 [00:00<?, ?it/s]"
      ]
     },
     "metadata": {},
     "output_type": "display_data"
    },
    {
     "data": {
      "application/vnd.jupyter.widget-view+json": {
       "model_id": "5ff670664c6544af951de79b2e0b4a8b",
       "version_major": 2,
       "version_minor": 0
      },
      "text/plain": [
       "COLLECTING RESULTS | :   0%|          | 0/1 [00:00<?, ?it/s]"
      ]
     },
     "metadata": {},
     "output_type": "display_data"
    },
    {
     "name": "stdout",
     "output_type": "stream",
     "text": [
      "\n",
      "Coincident S2 images: 0\n",
      "\n",
      "\n",
      "\n",
      "[Collection: {'EntryTitle': 'ATLAS/ICESat-2 L3A Sea Ice Height V006'}\n",
      "Spatial coverage: {'HorizontalSpatialDomain': {'Orbit': {'AscendingCrossing': -138.46883388242108, 'StartLatitude': 27.0, 'StartDirection': 'A', 'EndLatitude': 27.0, 'EndDirection': 'D'}}}\n",
      "Temporal coverage: {'RangeDateTime': {'BeginningDateTime': '2021-04-07T05:51:36.710Z', 'EndingDateTime': '2021-04-07T06:03:37.473Z'}}\n",
      "Size(MB): 409.0898551940918\n",
      "Data: ['https://data.nsidc.earthdatacloud.nasa.gov/nsidc-cumulus-prod-protected/ATLAS/ATL07/006/2021/04/07/ATL07-01_20210407053313_02051101_006_02.h5']]\n"
     ]
    },
    {
     "data": {
      "application/vnd.jupyter.widget-view+json": {
       "model_id": "dbef4187358b434cb52b6bb5e88ab7b0",
       "version_major": 2,
       "version_minor": 0
      },
      "text/plain": [
       "QUEUEING TASKS | :   0%|          | 0/1 [00:00<?, ?it/s]"
      ]
     },
     "metadata": {},
     "output_type": "display_data"
    },
    {
     "data": {
      "application/vnd.jupyter.widget-view+json": {
       "model_id": "d2e4b046dd4641ad89c85c668f935248",
       "version_major": 2,
       "version_minor": 0
      },
      "text/plain": [
       "PROCESSING TASKS | :   0%|          | 0/1 [00:00<?, ?it/s]"
      ]
     },
     "metadata": {},
     "output_type": "display_data"
    },
    {
     "data": {
      "application/vnd.jupyter.widget-view+json": {
       "model_id": "ee35b8f1dcd14db9bf9c817d139fd8c9",
       "version_major": 2,
       "version_minor": 0
      },
      "text/plain": [
       "COLLECTING RESULTS | :   0%|          | 0/1 [00:00<?, ?it/s]"
      ]
     },
     "metadata": {},
     "output_type": "display_data"
    },
    {
     "name": "stdout",
     "output_type": "stream",
     "text": [
      "\n",
      "Coincident S2 images: 2\n",
      "Coincident S2 image FOUND\n",
      "Done with granule.\n",
      "\n",
      "\n",
      "\n",
      "[Collection: {'EntryTitle': 'ATLAS/ICESat-2 L3A Sea Ice Height V006'}\n",
      "Spatial coverage: {'HorizontalSpatialDomain': {'Orbit': {'AscendingCrossing': -115.62771245955814, 'StartLatitude': 27.0, 'StartDirection': 'A', 'EndLatitude': 27.0, 'EndDirection': 'D'}}}\n",
      "Temporal coverage: {'RangeDateTime': {'BeginningDateTime': '2021-04-11T04:08:43.235Z', 'EndingDateTime': '2021-04-11T04:19:31.270Z'}}\n",
      "Size(MB): 341.6005401611328\n",
      "Data: ['https://data.nsidc.earthdatacloud.nasa.gov/nsidc-cumulus-prod-protected/ATLAS/ATL07/006/2021/04/11/ATL07-01_20210411035036_02651101_006_02.h5']]\n"
     ]
    },
    {
     "data": {
      "application/vnd.jupyter.widget-view+json": {
       "model_id": "c289ca27b4664ce0999cbfadb249ac28",
       "version_major": 2,
       "version_minor": 0
      },
      "text/plain": [
       "QUEUEING TASKS | :   0%|          | 0/1 [00:00<?, ?it/s]"
      ]
     },
     "metadata": {},
     "output_type": "display_data"
    },
    {
     "data": {
      "application/vnd.jupyter.widget-view+json": {
       "model_id": "09dec734d6a3456987ef8b3bc269d297",
       "version_major": 2,
       "version_minor": 0
      },
      "text/plain": [
       "PROCESSING TASKS | :   0%|          | 0/1 [00:00<?, ?it/s]"
      ]
     },
     "metadata": {},
     "output_type": "display_data"
    },
    {
     "data": {
      "application/vnd.jupyter.widget-view+json": {
       "model_id": "1fa60544e43547d69e8c52c6feac0992",
       "version_major": 2,
       "version_minor": 0
      },
      "text/plain": [
       "COLLECTING RESULTS | :   0%|          | 0/1 [00:00<?, ?it/s]"
      ]
     },
     "metadata": {},
     "output_type": "display_data"
    },
    {
     "name": "stdout",
     "output_type": "stream",
     "text": [
      "\n",
      "Coincident S2 images: 0\n",
      "\n",
      "\n",
      "\n",
      "[Collection: {'EntryTitle': 'ATLAS/ICESat-2 L3A Sea Ice Height V006'}\n",
      "Spatial coverage: {'HorizontalSpatialDomain': {'Orbit': {'AscendingCrossing': 19.595736631944945, 'StartLatitude': 27.0, 'StartDirection': 'A', 'EndLatitude': 27.0, 'EndDirection': 'D'}}}\n",
      "Temporal coverage: {'RangeDateTime': {'BeginningDateTime': '2021-04-13T18:59:01.983Z', 'EndingDateTime': '2021-04-13T19:13:39.125Z'}}\n",
      "Size(MB): 296.91551208496094\n",
      "Data: ['https://data.nsidc.earthdatacloud.nasa.gov/nsidc-cumulus-prod-protected/ATLAS/ATL07/006/2021/04/13/ATL07-01_20210413184211_03051101_006_02.h5']]\n"
     ]
    },
    {
     "data": {
      "application/vnd.jupyter.widget-view+json": {
       "model_id": "17e6a9b225274d74bb3bebc57dc221fc",
       "version_major": 2,
       "version_minor": 0
      },
      "text/plain": [
       "QUEUEING TASKS | :   0%|          | 0/1 [00:00<?, ?it/s]"
      ]
     },
     "metadata": {},
     "output_type": "display_data"
    },
    {
     "data": {
      "application/vnd.jupyter.widget-view+json": {
       "model_id": "71e0a5d46654412a99fab28183e7c9a9",
       "version_major": 2,
       "version_minor": 0
      },
      "text/plain": [
       "PROCESSING TASKS | :   0%|          | 0/1 [00:00<?, ?it/s]"
      ]
     },
     "metadata": {},
     "output_type": "display_data"
    },
    {
     "data": {
      "application/vnd.jupyter.widget-view+json": {
       "model_id": "bc594cf878f94c48815075c65e48d6fc",
       "version_major": 2,
       "version_minor": 0
      },
      "text/plain": [
       "COLLECTING RESULTS | :   0%|          | 0/1 [00:00<?, ?it/s]"
      ]
     },
     "metadata": {},
     "output_type": "display_data"
    },
    {
     "name": "stdout",
     "output_type": "stream",
     "text": [
      "\n",
      "Coincident S2 images: 0\n",
      "\n",
      "\n",
      "\n",
      "[Collection: {'EntryTitle': 'ATLAS/ICESat-2 L3A Sea Ice Height V006'}\n",
      "Spatial coverage: {'HorizontalSpatialDomain': {'Orbit': {'AscendingCrossing': -92.78724560799363, 'StartLatitude': 27.0, 'StartDirection': 'A', 'EndLatitude': 27.0, 'EndDirection': 'D'}}}\n",
      "Temporal coverage: {'RangeDateTime': {'BeginningDateTime': '2021-04-15T02:25:39.956Z', 'EndingDateTime': '2021-04-15T02:35:41.076Z'}}\n",
      "Size(MB): 373.47822761535645\n",
      "Data: ['https://data.nsidc.earthdatacloud.nasa.gov/nsidc-cumulus-prod-protected/ATLAS/ATL07/006/2021/04/15/ATL07-01_20210415020759_03251101_006_02.h5']]\n"
     ]
    },
    {
     "data": {
      "application/vnd.jupyter.widget-view+json": {
       "model_id": "5ed3db4783b1404c901cac829afc2a4c",
       "version_major": 2,
       "version_minor": 0
      },
      "text/plain": [
       "QUEUEING TASKS | :   0%|          | 0/1 [00:00<?, ?it/s]"
      ]
     },
     "metadata": {},
     "output_type": "display_data"
    },
    {
     "data": {
      "application/vnd.jupyter.widget-view+json": {
       "model_id": "d6d972bf445947bb9bd4a33abccbb0ca",
       "version_major": 2,
       "version_minor": 0
      },
      "text/plain": [
       "PROCESSING TASKS | :   0%|          | 0/1 [00:00<?, ?it/s]"
      ]
     },
     "metadata": {},
     "output_type": "display_data"
    },
    {
     "data": {
      "application/vnd.jupyter.widget-view+json": {
       "model_id": "0caac133404346768b7ded380a9795ab",
       "version_major": 2,
       "version_minor": 0
      },
      "text/plain": [
       "COLLECTING RESULTS | :   0%|          | 0/1 [00:00<?, ?it/s]"
      ]
     },
     "metadata": {},
     "output_type": "display_data"
    },
    {
     "name": "stdout",
     "output_type": "stream",
     "text": [
      "\n",
      "Coincident S2 images: 1\n",
      "Coincident S2 image FOUND\n",
      "Done with granule.\n",
      "\n",
      "\n",
      "\n",
      "[Collection: {'EntryTitle': 'ATLAS/ICESat-2 L3A Sea Ice Height V006'}\n",
      "Spatial coverage: {'HorizontalSpatialDomain': {'Orbit': {'AscendingCrossing': 154.82492878002088, 'StartLatitude': 27.0, 'StartDirection': 'A', 'EndLatitude': 27.0, 'EndDirection': 'D'}}}\n",
      "Temporal coverage: {'RangeDateTime': {'BeginningDateTime': '2021-04-16T09:48:47.470Z', 'EndingDateTime': '2021-04-16T10:03:21.037Z'}}\n",
      "Size(MB): 326.0534677505493\n",
      "Data: ['https://data.nsidc.earthdatacloud.nasa.gov/nsidc-cumulus-prod-protected/ATLAS/ATL07/006/2021/04/16/ATL07-01_20210416093346_03451101_006_02.h5']]\n"
     ]
    },
    {
     "data": {
      "application/vnd.jupyter.widget-view+json": {
       "model_id": "063343e3721648379046669ece815046",
       "version_major": 2,
       "version_minor": 0
      },
      "text/plain": [
       "QUEUEING TASKS | :   0%|          | 0/1 [00:00<?, ?it/s]"
      ]
     },
     "metadata": {},
     "output_type": "display_data"
    },
    {
     "data": {
      "application/vnd.jupyter.widget-view+json": {
       "model_id": "4f051b4065d841a188a6caf42a3a1615",
       "version_major": 2,
       "version_minor": 0
      },
      "text/plain": [
       "PROCESSING TASKS | :   0%|          | 0/1 [00:00<?, ?it/s]"
      ]
     },
     "metadata": {},
     "output_type": "display_data"
    },
    {
     "data": {
      "application/vnd.jupyter.widget-view+json": {
       "model_id": "af7799d08ecd4715b534e6d5f7db4134",
       "version_major": 2,
       "version_minor": 0
      },
      "text/plain": [
       "COLLECTING RESULTS | :   0%|          | 0/1 [00:00<?, ?it/s]"
      ]
     },
     "metadata": {},
     "output_type": "display_data"
    },
    {
     "name": "stdout",
     "output_type": "stream",
     "text": [
      "\n",
      "Coincident S2 images: 0\n",
      "\n",
      "\n",
      "\n",
      "[Collection: {'EntryTitle': 'ATLAS/ICESat-2 L3A Sea Ice Height V006'}\n",
      "Spatial coverage: {'HorizontalSpatialDomain': {'Orbit': {'AscendingCrossing': 42.435923382137354, 'StartLatitude': 27.0, 'StartDirection': 'A', 'EndLatitude': 27.0, 'EndDirection': 'D'}}}\n",
      "Temporal coverage: {'RangeDateTime': {'BeginningDateTime': '2021-04-17T17:16:53.711Z', 'EndingDateTime': '2021-04-17T17:28:30.535Z'}}\n",
      "Size(MB): 139.92244052886963\n",
      "Data: ['https://data.nsidc.earthdatacloud.nasa.gov/nsidc-cumulus-prod-protected/ATLAS/ATL07/006/2021/04/17/ATL07-01_20210417165935_03651101_006_02.h5']]\n"
     ]
    },
    {
     "data": {
      "application/vnd.jupyter.widget-view+json": {
       "model_id": "75d7889bcba2443c863017ee7dc6f393",
       "version_major": 2,
       "version_minor": 0
      },
      "text/plain": [
       "QUEUEING TASKS | :   0%|          | 0/1 [00:00<?, ?it/s]"
      ]
     },
     "metadata": {},
     "output_type": "display_data"
    },
    {
     "data": {
      "application/vnd.jupyter.widget-view+json": {
       "model_id": "d87b4e02663f4c1fa0a1b56f158351df",
       "version_major": 2,
       "version_minor": 0
      },
      "text/plain": [
       "PROCESSING TASKS | :   0%|          | 0/1 [00:00<?, ?it/s]"
      ]
     },
     "metadata": {},
     "output_type": "display_data"
    },
    {
     "data": {
      "application/vnd.jupyter.widget-view+json": {
       "model_id": "a465aa6bc3014b4f9c7462f197d4991f",
       "version_major": 2,
       "version_minor": 0
      },
      "text/plain": [
       "COLLECTING RESULTS | :   0%|          | 0/1 [00:00<?, ?it/s]"
      ]
     },
     "metadata": {},
     "output_type": "display_data"
    },
    {
     "name": "stdout",
     "output_type": "stream",
     "text": [
      "\n",
      "Coincident S2 images: 5\n",
      "Coincident S2 image FOUND\n",
      "Done with granule.\n",
      "\n",
      "\n",
      "\n",
      "[Collection: {'EntryTitle': 'ATLAS/ICESat-2 L3A Sea Ice Height V006'}\n",
      "Spatial coverage: {'HorizontalSpatialDomain': {'Orbit': {'AscendingCrossing': 177.66586345798805, 'StartLatitude': 27.0, 'StartDirection': 'A', 'EndLatitude': 27.0, 'EndDirection': 'D'}}}\n",
      "Temporal coverage: {'RangeDateTime': {'BeginningDateTime': '2021-04-20T08:09:23.278Z', 'EndingDateTime': '2021-04-20T08:16:59.497Z'}}\n",
      "Size(MB): 153.32410335540771\n",
      "Data: ['https://data.nsidc.earthdatacloud.nasa.gov/nsidc-cumulus-prod-protected/ATLAS/ATL07/006/2021/04/20/ATL07-01_20210420075110_04051101_006_02.h5']]\n"
     ]
    },
    {
     "data": {
      "application/vnd.jupyter.widget-view+json": {
       "model_id": "8b6b253755954f1c90249f32de826775",
       "version_major": 2,
       "version_minor": 0
      },
      "text/plain": [
       "QUEUEING TASKS | :   0%|          | 0/1 [00:00<?, ?it/s]"
      ]
     },
     "metadata": {},
     "output_type": "display_data"
    },
    {
     "data": {
      "application/vnd.jupyter.widget-view+json": {
       "model_id": "87d1c002d7964e57b4b5929b729a07c6",
       "version_major": 2,
       "version_minor": 0
      },
      "text/plain": [
       "PROCESSING TASKS | :   0%|          | 0/1 [00:00<?, ?it/s]"
      ]
     },
     "metadata": {},
     "output_type": "display_data"
    },
    {
     "data": {
      "application/vnd.jupyter.widget-view+json": {
       "model_id": "013f84c0a7f945e6850e4c34ed36bb4a",
       "version_major": 2,
       "version_minor": 0
      },
      "text/plain": [
       "COLLECTING RESULTS | :   0%|          | 0/1 [00:00<?, ?it/s]"
      ]
     },
     "metadata": {},
     "output_type": "display_data"
    },
    {
     "name": "stdout",
     "output_type": "stream",
     "text": [
      "\n",
      "Coincident S2 images: 0\n",
      "\n",
      "\n",
      "\n",
      "[Collection: {'EntryTitle': 'ATLAS/ICESat-2 L3A Sea Ice Height V006'}\n",
      "Spatial coverage: {'HorizontalSpatialDomain': {'Orbit': {'AscendingCrossing': 65.27677327804452, 'StartLatitude': 27.0, 'StartDirection': 'A', 'EndLatitude': 27.0, 'EndDirection': 'D'}}}\n",
      "Temporal coverage: {'RangeDateTime': {'BeginningDateTime': '2021-04-21T15:34:49.874Z', 'EndingDateTime': '2021-04-21T15:46:53.464Z'}}\n",
      "Size(MB): 203.21373558044434\n",
      "Data: ['https://data.nsidc.earthdatacloud.nasa.gov/nsidc-cumulus-prod-protected/ATLAS/ATL07/006/2021/04/21/ATL07-01_20210421151658_04251101_006_02.h5']]\n"
     ]
    },
    {
     "data": {
      "application/vnd.jupyter.widget-view+json": {
       "model_id": "4209de48e1d948dbbbef4459c367ffd7",
       "version_major": 2,
       "version_minor": 0
      },
      "text/plain": [
       "QUEUEING TASKS | :   0%|          | 0/1 [00:00<?, ?it/s]"
      ]
     },
     "metadata": {},
     "output_type": "display_data"
    },
    {
     "data": {
      "application/vnd.jupyter.widget-view+json": {
       "model_id": "0e9a222ae9cb4e39a1bfd7f28cd68f57",
       "version_major": 2,
       "version_minor": 0
      },
      "text/plain": [
       "PROCESSING TASKS | :   0%|          | 0/1 [00:00<?, ?it/s]"
      ]
     },
     "metadata": {},
     "output_type": "display_data"
    },
    {
     "data": {
      "application/vnd.jupyter.widget-view+json": {
       "model_id": "0edbb4a9dbb24ed992d5ac0fdfcccce4",
       "version_major": 2,
       "version_minor": 0
      },
      "text/plain": [
       "COLLECTING RESULTS | :   0%|          | 0/1 [00:00<?, ?it/s]"
      ]
     },
     "metadata": {},
     "output_type": "display_data"
    },
    {
     "name": "stdout",
     "output_type": "stream",
     "text": [
      "\n",
      "Coincident S2 images: 9\n",
      "Coincident S2 image FOUND\n",
      "Done with granule.\n",
      "\n",
      "\n",
      "\n",
      "[Collection: {'EntryTitle': 'ATLAS/ICESat-2 L3A Sea Ice Height V006'}\n",
      "Spatial coverage: {'HorizontalSpatialDomain': {'Orbit': {'AscendingCrossing': -47.106997843881096, 'StartLatitude': 27.0, 'StartDirection': 'A', 'EndLatitude': 27.0, 'EndDirection': 'D'}}}\n",
      "Temporal coverage: {'RangeDateTime': {'BeginningDateTime': '2021-04-22T23:00:06.824Z', 'EndingDateTime': '2021-04-22T23:11:22.194Z'}}\n",
      "Size(MB): 380.7526397705078\n",
      "Data: ['https://data.nsidc.earthdatacloud.nasa.gov/nsidc-cumulus-prod-protected/ATLAS/ATL07/006/2021/04/22/ATL07-01_20210422224245_04451101_006_02.h5']]\n"
     ]
    },
    {
     "data": {
      "application/vnd.jupyter.widget-view+json": {
       "model_id": "9e12785c9c29428e9db2bc68b1eefef7",
       "version_major": 2,
       "version_minor": 0
      },
      "text/plain": [
       "QUEUEING TASKS | :   0%|          | 0/1 [00:00<?, ?it/s]"
      ]
     },
     "metadata": {},
     "output_type": "display_data"
    },
    {
     "data": {
      "application/vnd.jupyter.widget-view+json": {
       "model_id": "cc436f14b7d14db694d5a806675a1a8e",
       "version_major": 2,
       "version_minor": 0
      },
      "text/plain": [
       "PROCESSING TASKS | :   0%|          | 0/1 [00:00<?, ?it/s]"
      ]
     },
     "metadata": {},
     "output_type": "display_data"
    },
    {
     "data": {
      "application/vnd.jupyter.widget-view+json": {
       "model_id": "c2fbf3c6add94c5bb5006d6ea60a991c",
       "version_major": 2,
       "version_minor": 0
      },
      "text/plain": [
       "COLLECTING RESULTS | :   0%|          | 0/1 [00:00<?, ?it/s]"
      ]
     },
     "metadata": {},
     "output_type": "display_data"
    },
    {
     "name": "stdout",
     "output_type": "stream",
     "text": [
      "\n",
      "Coincident S2 images: 6\n",
      "Coincident S2 image FOUND\n",
      "Done with granule.\n",
      "\n",
      "\n",
      "\n",
      "[Collection: {'EntryTitle': 'ATLAS/ICESat-2 L3A Sea Ice Height V006'}\n",
      "Spatial coverage: {'HorizontalSpatialDomain': {'Orbit': {'AscendingCrossing': -159.49266690093378, 'StartLatitude': 27.0, 'StartDirection': 'A', 'EndLatitude': 27.0, 'EndDirection': 'D'}}}\n",
      "Temporal coverage: {'RangeDateTime': {'BeginningDateTime': '2021-04-24T06:24:29.665Z', 'EndingDateTime': '2021-04-24T06:40:56.533Z'}}\n",
      "Size(MB): 304.56350898742676\n",
      "Data: ['https://data.nsidc.earthdatacloud.nasa.gov/nsidc-cumulus-prod-protected/ATLAS/ATL07/006/2021/04/24/ATL07-01_20210424060832_04651101_006_02.h5']]\n"
     ]
    },
    {
     "data": {
      "application/vnd.jupyter.widget-view+json": {
       "model_id": "34a6faa58504423ba2481a56d54e95a8",
       "version_major": 2,
       "version_minor": 0
      },
      "text/plain": [
       "QUEUEING TASKS | :   0%|          | 0/1 [00:00<?, ?it/s]"
      ]
     },
     "metadata": {},
     "output_type": "display_data"
    },
    {
     "data": {
      "application/vnd.jupyter.widget-view+json": {
       "model_id": "3f664f663f314e35bbfcb77763960269",
       "version_major": 2,
       "version_minor": 0
      },
      "text/plain": [
       "PROCESSING TASKS | :   0%|          | 0/1 [00:00<?, ?it/s]"
      ]
     },
     "metadata": {},
     "output_type": "display_data"
    },
    {
     "data": {
      "application/vnd.jupyter.widget-view+json": {
       "model_id": "9ff0ecae6f5d461882ed1fc4e8eb4982",
       "version_major": 2,
       "version_minor": 0
      },
      "text/plain": [
       "COLLECTING RESULTS | :   0%|          | 0/1 [00:00<?, ?it/s]"
      ]
     },
     "metadata": {},
     "output_type": "display_data"
    },
    {
     "name": "stdout",
     "output_type": "stream",
     "text": [
      "\n",
      "Coincident S2 images: 0\n",
      "\n",
      "\n",
      "\n",
      "[Collection: {'EntryTitle': 'ATLAS/ICESat-2 L3A Sea Ice Height V006'}\n",
      "Spatial coverage: {'HorizontalSpatialDomain': {'Orbit': {'AscendingCrossing': 88.11856585176837, 'StartLatitude': 27.0, 'StartDirection': 'A', 'EndLatitude': 27.0, 'EndDirection': 'D'}}}\n",
      "Temporal coverage: {'RangeDateTime': {'BeginningDateTime': '2021-04-25T13:52:09.924Z', 'EndingDateTime': '2021-04-25T14:03:37.452Z'}}\n",
      "Size(MB): 204.7309274673462\n",
      "Data: ['https://data.nsidc.earthdatacloud.nasa.gov/nsidc-cumulus-prod-protected/ATLAS/ATL07/006/2021/04/25/ATL07-01_20210425133419_04851101_006_02.h5']]\n"
     ]
    },
    {
     "data": {
      "application/vnd.jupyter.widget-view+json": {
       "model_id": "d502b714999c45ea840935532c122894",
       "version_major": 2,
       "version_minor": 0
      },
      "text/plain": [
       "QUEUEING TASKS | :   0%|          | 0/1 [00:00<?, ?it/s]"
      ]
     },
     "metadata": {},
     "output_type": "display_data"
    },
    {
     "data": {
      "application/vnd.jupyter.widget-view+json": {
       "model_id": "802aa0cca0fa40fda9ee019bd12d6c84",
       "version_major": 2,
       "version_minor": 0
      },
      "text/plain": [
       "PROCESSING TASKS | :   0%|          | 0/1 [00:00<?, ?it/s]"
      ]
     },
     "metadata": {},
     "output_type": "display_data"
    },
    {
     "data": {
      "application/vnd.jupyter.widget-view+json": {
       "model_id": "e84272d841304df3b575c0eee8f69f98",
       "version_major": 2,
       "version_minor": 0
      },
      "text/plain": [
       "COLLECTING RESULTS | :   0%|          | 0/1 [00:00<?, ?it/s]"
      ]
     },
     "metadata": {},
     "output_type": "display_data"
    },
    {
     "name": "stdout",
     "output_type": "stream",
     "text": [
      "\n",
      "Coincident S2 images: 9\n",
      "Coincident S2 image FOUND\n",
      "Done with granule.\n",
      "\n",
      "\n",
      "\n",
      "[Collection: {'EntryTitle': 'ATLAS/ICESat-2 L3A Sea Ice Height V006'}\n",
      "Spatial coverage: {'HorizontalSpatialDomain': {'Orbit': {'AscendingCrossing': -136.6517809209784, 'StartLatitude': 27.0, 'StartDirection': 'A', 'EndLatitude': 27.0, 'EndDirection': 'D'}}}\n",
      "Temporal coverage: {'RangeDateTime': {'BeginningDateTime': '2021-04-28T04:44:11.654Z', 'EndingDateTime': '2021-04-28T04:52:39.990Z'}}\n",
      "Size(MB): 340.3772888183594\n",
      "Data: ['https://data.nsidc.earthdatacloud.nasa.gov/nsidc-cumulus-prod-protected/ATLAS/ATL07/006/2021/04/28/ATL07-01_20210428042555_05251101_006_02.h5']]\n"
     ]
    },
    {
     "data": {
      "application/vnd.jupyter.widget-view+json": {
       "model_id": "cb8a5abe4eb241f589bcd70a9108efc3",
       "version_major": 2,
       "version_minor": 0
      },
      "text/plain": [
       "QUEUEING TASKS | :   0%|          | 0/1 [00:00<?, ?it/s]"
      ]
     },
     "metadata": {},
     "output_type": "display_data"
    },
    {
     "data": {
      "application/vnd.jupyter.widget-view+json": {
       "model_id": "7107276712ad43b3b5722880be1b95a0",
       "version_major": 2,
       "version_minor": 0
      },
      "text/plain": [
       "PROCESSING TASKS | :   0%|          | 0/1 [00:00<?, ?it/s]"
      ]
     },
     "metadata": {},
     "output_type": "display_data"
    },
    {
     "data": {
      "application/vnd.jupyter.widget-view+json": {
       "model_id": "45524015cb44418e90e4f9e3a7a4b479",
       "version_major": 2,
       "version_minor": 0
      },
      "text/plain": [
       "COLLECTING RESULTS | :   0%|          | 0/1 [00:00<?, ?it/s]"
      ]
     },
     "metadata": {},
     "output_type": "display_data"
    },
    {
     "name": "stdout",
     "output_type": "stream",
     "text": [
      "\n",
      "Coincident S2 images: 0\n",
      "\n",
      "\n",
      "\n",
      "[Collection: {'EntryTitle': 'ATLAS/ICESat-2 L3A Sea Ice Height V006'}\n",
      "Spatial coverage: {'HorizontalSpatialDomain': {'Orbit': {'AscendingCrossing': 110.96093284687917, 'StartLatitude': 27.0, 'StartDirection': 'A', 'EndLatitude': 27.0, 'EndDirection': 'D'}}}\n",
      "Temporal coverage: {'RangeDateTime': {'BeginningDateTime': '2021-04-29T12:11:34.789Z', 'EndingDateTime': '2021-04-29T12:27:28.169Z'}}\n",
      "Size(MB): 173.44592761993408\n",
      "Data: ['https://data.nsidc.earthdatacloud.nasa.gov/nsidc-cumulus-prod-protected/ATLAS/ATL07/006/2021/04/29/ATL07-01_20210429115142_05451101_006_02.h5']]\n"
     ]
    },
    {
     "data": {
      "application/vnd.jupyter.widget-view+json": {
       "model_id": "aa6bfd69653c453ca16286d9f007b4ad",
       "version_major": 2,
       "version_minor": 0
      },
      "text/plain": [
       "QUEUEING TASKS | :   0%|          | 0/1 [00:00<?, ?it/s]"
      ]
     },
     "metadata": {},
     "output_type": "display_data"
    },
    {
     "data": {
      "application/vnd.jupyter.widget-view+json": {
       "model_id": "e2612d371560405da8034842e56faa97",
       "version_major": 2,
       "version_minor": 0
      },
      "text/plain": [
       "PROCESSING TASKS | :   0%|          | 0/1 [00:00<?, ?it/s]"
      ]
     },
     "metadata": {},
     "output_type": "display_data"
    },
    {
     "data": {
      "application/vnd.jupyter.widget-view+json": {
       "model_id": "08ec58408d5a458b89f1fd45f0fd1f7e",
       "version_major": 2,
       "version_minor": 0
      },
      "text/plain": [
       "COLLECTING RESULTS | :   0%|          | 0/1 [00:00<?, ?it/s]"
      ]
     },
     "metadata": {},
     "output_type": "display_data"
    },
    {
     "name": "stdout",
     "output_type": "stream",
     "text": [
      "\n",
      "Coincident S2 images: 13\n",
      "Coincident S2 image FOUND\n",
      "Done with granule.\n",
      "\n",
      "\n",
      "\n",
      "[Collection: {'EntryTitle': 'ATLAS/ICESat-2 L3A Sea Ice Height V006'}\n",
      "Spatial coverage: {'HorizontalSpatialDomain': {'Orbit': {'AscendingCrossing': -1.426753588363317, 'StartLatitude': 27.0, 'StartDirection': 'A', 'EndLatitude': 27.0, 'EndDirection': 'D'}}}\n",
      "Temporal coverage: {'RangeDateTime': {'BeginningDateTime': '2021-04-30T19:36:51.141Z', 'EndingDateTime': '2021-04-30T19:44:11.964Z'}}\n",
      "Size(MB): 195.32662677764893\n",
      "Data: ['https://data.nsidc.earthdatacloud.nasa.gov/nsidc-cumulus-prod-protected/ATLAS/ATL07/006/2021/04/30/ATL07-01_20210430191730_05651101_006_02.h5']]\n"
     ]
    },
    {
     "data": {
      "application/vnd.jupyter.widget-view+json": {
       "model_id": "8c63a522aeb0493182cd4387071d18e3",
       "version_major": 2,
       "version_minor": 0
      },
      "text/plain": [
       "QUEUEING TASKS | :   0%|          | 0/1 [00:00<?, ?it/s]"
      ]
     },
     "metadata": {},
     "output_type": "display_data"
    },
    {
     "data": {
      "application/vnd.jupyter.widget-view+json": {
       "model_id": "49620919482b4c8fa0b7176af071a11d",
       "version_major": 2,
       "version_minor": 0
      },
      "text/plain": [
       "PROCESSING TASKS | :   0%|          | 0/1 [00:00<?, ?it/s]"
      ]
     },
     "metadata": {},
     "output_type": "display_data"
    },
    {
     "data": {
      "application/vnd.jupyter.widget-view+json": {
       "model_id": "2f5aa89d55c341d8800034bacd4ce72d",
       "version_major": 2,
       "version_minor": 0
      },
      "text/plain": [
       "COLLECTING RESULTS | :   0%|          | 0/1 [00:00<?, ?it/s]"
      ]
     },
     "metadata": {},
     "output_type": "display_data"
    },
    {
     "name": "stdout",
     "output_type": "stream",
     "text": [
      "\n",
      "Coincident S2 images: 20\n",
      "Coincident S2 image FOUND\n",
      "Done with granule.\n",
      "\n",
      "\n",
      "\n",
      "[Collection: {'EntryTitle': 'ATLAS/ICESat-2 L3A Sea Ice Height V006'}\n",
      "Spatial coverage: {'HorizontalSpatialDomain': {'Orbit': {'AscendingCrossing': -32.57191329696603, 'StartLatitude': 27.0, 'StartDirection': 'A', 'EndLatitude': 27.0, 'EndDirection': 'D'}}}\n",
      "Temporal coverage: {'RangeDateTime': {'BeginningDateTime': '2021-10-07T14:05:59.329Z', 'EndingDateTime': '2021-10-07T14:10:54.832Z'}}\n",
      "Size(MB): 179.70015144348145\n",
      "Data: ['https://data.nsidc.earthdatacloud.nasa.gov/nsidc-cumulus-prod-protected/ATLAS/ATL07/006/2021/10/07/ATL07-01_20211007134434_02311301_006_01.h5']]\n"
     ]
    },
    {
     "data": {
      "application/vnd.jupyter.widget-view+json": {
       "model_id": "227664ba6c9c43f39c81251f4dc4f1ae",
       "version_major": 2,
       "version_minor": 0
      },
      "text/plain": [
       "QUEUEING TASKS | :   0%|          | 0/1 [00:00<?, ?it/s]"
      ]
     },
     "metadata": {},
     "output_type": "display_data"
    },
    {
     "data": {
      "application/vnd.jupyter.widget-view+json": {
       "model_id": "0f27ee777ed343df826bc18966fe5b7e",
       "version_major": 2,
       "version_minor": 0
      },
      "text/plain": [
       "PROCESSING TASKS | :   0%|          | 0/1 [00:00<?, ?it/s]"
      ]
     },
     "metadata": {},
     "output_type": "display_data"
    },
    {
     "data": {
      "application/vnd.jupyter.widget-view+json": {
       "model_id": "faf67142c3bc47a0a209a7088d9ce236",
       "version_major": 2,
       "version_minor": 0
      },
      "text/plain": [
       "COLLECTING RESULTS | :   0%|          | 0/1 [00:00<?, ?it/s]"
      ]
     },
     "metadata": {},
     "output_type": "display_data"
    },
    {
     "name": "stdout",
     "output_type": "stream",
     "text": [
      "\n",
      "Coincident S2 images: 0\n",
      "\n",
      "\n",
      "\n",
      "[Collection: {'EntryTitle': 'ATLAS/ICESat-2 L3A Sea Ice Height V006'}\n",
      "Spatial coverage: {'HorizontalSpatialDomain': {'Orbit': {'AscendingCrossing': 13.107685062387144, 'StartLatitude': 27.0, 'StartDirection': 'A', 'EndLatitude': 27.0, 'EndDirection': 'D'}}}\n",
      "Temporal coverage: {'RangeDateTime': {'BeginningDateTime': '2021-10-15T10:34:49.768Z', 'EndingDateTime': '2021-10-15T10:46:47.547Z'}}\n",
      "Size(MB): 169.44218921661377\n",
      "Data: ['https://data.nsidc.earthdatacloud.nasa.gov/nsidc-cumulus-prod-protected/ATLAS/ATL07/006/2021/10/15/ATL07-01_20211015101920_03511301_006_01.h5']]\n"
     ]
    },
    {
     "data": {
      "application/vnd.jupyter.widget-view+json": {
       "model_id": "e1a10e6355ea423b8ad959c457c95854",
       "version_major": 2,
       "version_minor": 0
      },
      "text/plain": [
       "QUEUEING TASKS | :   0%|          | 0/1 [00:00<?, ?it/s]"
      ]
     },
     "metadata": {},
     "output_type": "display_data"
    },
    {
     "data": {
      "application/vnd.jupyter.widget-view+json": {
       "model_id": "ce579b5661d247528efa286bc30dd115",
       "version_major": 2,
       "version_minor": 0
      },
      "text/plain": [
       "PROCESSING TASKS | :   0%|          | 0/1 [00:00<?, ?it/s]"
      ]
     },
     "metadata": {},
     "output_type": "display_data"
    },
    {
     "data": {
      "application/vnd.jupyter.widget-view+json": {
       "model_id": "eab59e2789a24b78a65c6187a56d9a97",
       "version_major": 2,
       "version_minor": 0
      },
      "text/plain": [
       "COLLECTING RESULTS | :   0%|          | 0/1 [00:00<?, ?it/s]"
      ]
     },
     "metadata": {},
     "output_type": "display_data"
    },
    {
     "name": "stdout",
     "output_type": "stream",
     "text": [
      "\n",
      "Coincident S2 images: 0\n",
      "\n",
      "\n",
      "\n",
      "[Collection: {'EntryTitle': 'ATLAS/ICESat-2 L3A Sea Ice Height V006'}\n",
      "Spatial coverage: {'HorizontalSpatialDomain': {'Orbit': {'AscendingCrossing': 171.17692274112926, 'StartLatitude': 27.0, 'StartDirection': 'A', 'EndLatitude': 27.0, 'EndDirection': 'D'}}}\n",
      "Temporal coverage: {'RangeDateTime': {'BeginningDateTime': '2021-10-21T23:46:27.987Z', 'EndingDateTime': '2021-10-21T23:55:06.884Z'}}\n",
      "Size(MB): 227.85223484039307\n",
      "Data: ['https://data.nsidc.earthdatacloud.nasa.gov/nsidc-cumulus-prod-protected/ATLAS/ATL07/006/2021/10/21/ATL07-01_20211021232819_04511301_006_01.h5']]\n"
     ]
    },
    {
     "data": {
      "application/vnd.jupyter.widget-view+json": {
       "model_id": "e35a899deae24144a65b6a5bb563929b",
       "version_major": 2,
       "version_minor": 0
      },
      "text/plain": [
       "QUEUEING TASKS | :   0%|          | 0/1 [00:00<?, ?it/s]"
      ]
     },
     "metadata": {},
     "output_type": "display_data"
    },
    {
     "data": {
      "application/vnd.jupyter.widget-view+json": {
       "model_id": "869e2a107b4d40b8ababc744c3b4b371",
       "version_major": 2,
       "version_minor": 0
      },
      "text/plain": [
       "PROCESSING TASKS | :   0%|          | 0/1 [00:00<?, ?it/s]"
      ]
     },
     "metadata": {},
     "output_type": "display_data"
    },
    {
     "data": {
      "application/vnd.jupyter.widget-view+json": {
       "model_id": "0a7e3a4d67fa465a87d47f2b86c473eb",
       "version_major": 2,
       "version_minor": 0
      },
      "text/plain": [
       "COLLECTING RESULTS | :   0%|          | 0/1 [00:00<?, ?it/s]"
      ]
     },
     "metadata": {},
     "output_type": "display_data"
    },
    {
     "name": "stdout",
     "output_type": "stream",
     "text": [
      "\n",
      "Coincident S2 images: 1\n",
      "Coincident S2 image FOUND\n",
      "Done with granule.\n",
      "\n",
      "\n",
      "\n",
      "[Collection: {'EntryTitle': 'ATLAS/ICESat-2 L3A Sea Ice Height V006'}\n",
      "Spatial coverage: {'HorizontalSpatialDomain': {'Orbit': {'AscendingCrossing': -7.915071522896372, 'StartLatitude': 27.0, 'StartDirection': 'A', 'EndLatitude': 27.0, 'EndDirection': 'D'}}}\n",
      "Temporal coverage: {'RangeDateTime': {'BeginningDateTime': '2021-11-01T11:13:32.498Z', 'EndingDateTime': '2021-11-01T11:23:48.326Z'}}\n",
      "Size(MB): 126.99230289459229\n",
      "Data: ['https://data.nsidc.earthdatacloud.nasa.gov/nsidc-cumulus-prod-protected/ATLAS/ATL07/006/2021/11/01/ATL07-01_20211101105441_06111301_006_01.h5']]\n"
     ]
    },
    {
     "data": {
      "application/vnd.jupyter.widget-view+json": {
       "model_id": "0fb8387a97cd4c038cfc3fe77c5f800c",
       "version_major": 2,
       "version_minor": 0
      },
      "text/plain": [
       "QUEUEING TASKS | :   0%|          | 0/1 [00:00<?, ?it/s]"
      ]
     },
     "metadata": {},
     "output_type": "display_data"
    },
    {
     "data": {
      "application/vnd.jupyter.widget-view+json": {
       "model_id": "5ee52cfc835f431f83cdfcd1201c465b",
       "version_major": 2,
       "version_minor": 0
      },
      "text/plain": [
       "PROCESSING TASKS | :   0%|          | 0/1 [00:00<?, ?it/s]"
      ]
     },
     "metadata": {},
     "output_type": "display_data"
    },
    {
     "data": {
      "application/vnd.jupyter.widget-view+json": {
       "model_id": "7fed476236434310a5982180080db908",
       "version_major": 2,
       "version_minor": 0
      },
      "text/plain": [
       "COLLECTING RESULTS | :   0%|          | 0/1 [00:00<?, ?it/s]"
      ]
     },
     "metadata": {},
     "output_type": "display_data"
    },
    {
     "name": "stdout",
     "output_type": "stream",
     "text": [
      "\n",
      "Coincident S2 images: 0\n",
      "\n",
      "\n",
      "\n",
      "[Collection: {'EntryTitle': 'ATLAS/ICESat-2 L3A Sea Ice Height V006'}\n",
      "Spatial coverage: {'HorizontalSpatialDomain': {'Orbit': {'AscendingCrossing': -97.45909772335429, 'StartLatitude': 27.0, 'StartDirection': 'A', 'EndLatitude': 27.0, 'EndDirection': 'D'}}}\n",
      "Temporal coverage: {'RangeDateTime': {'BeginningDateTime': '2021-11-06T16:55:36.839Z', 'EndingDateTime': '2021-11-06T17:06:06.093Z'}}\n",
      "Size(MB): 186.3763132095337\n",
      "Data: ['https://data.nsidc.earthdatacloud.nasa.gov/nsidc-cumulus-prod-protected/ATLAS/ATL07/006/2021/11/06/ATL07-01_20211106163753_06911301_006_01.h5']]\n"
     ]
    },
    {
     "data": {
      "application/vnd.jupyter.widget-view+json": {
       "model_id": "23fe3c1f2be04feb80b2e43b21734236",
       "version_major": 2,
       "version_minor": 0
      },
      "text/plain": [
       "QUEUEING TASKS | :   0%|          | 0/1 [00:00<?, ?it/s]"
      ]
     },
     "metadata": {},
     "output_type": "display_data"
    },
    {
     "data": {
      "application/vnd.jupyter.widget-view+json": {
       "model_id": "b094a3c4bfce43c48f3ac7053c9bb901",
       "version_major": 2,
       "version_minor": 0
      },
      "text/plain": [
       "PROCESSING TASKS | :   0%|          | 0/1 [00:00<?, ?it/s]"
      ]
     },
     "metadata": {},
     "output_type": "display_data"
    },
    {
     "data": {
      "application/vnd.jupyter.widget-view+json": {
       "model_id": "8c03d53a45d14bc4a5a2bc61ec97226d",
       "version_major": 2,
       "version_minor": 0
      },
      "text/plain": [
       "COLLECTING RESULTS | :   0%|          | 0/1 [00:00<?, ?it/s]"
      ]
     },
     "metadata": {},
     "output_type": "display_data"
    },
    {
     "name": "stdout",
     "output_type": "stream",
     "text": [
      "\n",
      "Coincident S2 images: 0\n",
      "\n",
      "\n",
      "\n",
      "[Collection: {'EntryTitle': 'ATLAS/ICESat-2 L3A Sea Ice Height V006'}\n",
      "Spatial coverage: {'HorizontalSpatialDomain': {'Orbit': {'AscendingCrossing': 150.1530260330119, 'StartLatitude': 27.0, 'StartDirection': 'A', 'EndLatitude': 27.0, 'EndDirection': 'D'}}}\n",
      "Temporal coverage: {'RangeDateTime': {'BeginningDateTime': '2021-11-08T00:22:16.331Z', 'EndingDateTime': '2021-11-08T00:29:13.373Z'}}\n",
      "Size(MB): 200.2167625427246\n",
      "Data: ['https://data.nsidc.earthdatacloud.nasa.gov/nsidc-cumulus-prod-protected/ATLAS/ATL07/006/2021/11/08/ATL07-01_20211108000339_07111301_006_01.h5']]\n"
     ]
    },
    {
     "data": {
      "application/vnd.jupyter.widget-view+json": {
       "model_id": "8b6ab678e7c849d78f82a81241c29ea8",
       "version_major": 2,
       "version_minor": 0
      },
      "text/plain": [
       "QUEUEING TASKS | :   0%|          | 0/1 [00:00<?, ?it/s]"
      ]
     },
     "metadata": {},
     "output_type": "display_data"
    },
    {
     "data": {
      "application/vnd.jupyter.widget-view+json": {
       "model_id": "4aef49bd8c9146df90d38f7d57f48ae0",
       "version_major": 2,
       "version_minor": 0
      },
      "text/plain": [
       "PROCESSING TASKS | :   0%|          | 0/1 [00:00<?, ?it/s]"
      ]
     },
     "metadata": {},
     "output_type": "display_data"
    },
    {
     "data": {
      "application/vnd.jupyter.widget-view+json": {
       "model_id": "2c2b777c0ce14380912935b1d6c7fc2d",
       "version_major": 2,
       "version_minor": 0
      },
      "text/plain": [
       "COLLECTING RESULTS | :   0%|          | 0/1 [00:00<?, ?it/s]"
      ]
     },
     "metadata": {},
     "output_type": "display_data"
    },
    {
     "name": "stdout",
     "output_type": "stream",
     "text": [
      "\n",
      "Coincident S2 images: 0\n",
      "\n",
      "\n",
      "\n",
      "[Collection: {'EntryTitle': 'ATLAS/ICESat-2 L3A Sea Ice Height V006'}\n",
      "Spatial coverage: {'HorizontalSpatialDomain': {'Orbit': {'AscendingCrossing': 60.60515377526369, 'StartLatitude': 27.0, 'StartDirection': 'A', 'EndLatitude': 27.0, 'EndDirection': 'D'}}}\n",
      "Temporal coverage: {'RangeDateTime': {'BeginningDateTime': '2021-11-13T06:07:36.692Z', 'EndingDateTime': '2021-11-13T06:14:28.283Z'}}\n",
      "Size(MB): 106.11937808990479\n",
      "Data: ['https://data.nsidc.earthdatacloud.nasa.gov/nsidc-cumulus-prod-protected/ATLAS/ATL07/006/2021/11/13/ATL07-01_20211113054657_07911301_006_01.h5']]\n"
     ]
    },
    {
     "data": {
      "application/vnd.jupyter.widget-view+json": {
       "model_id": "681903bbbdbd4df5bd1703a65ccdd24d",
       "version_major": 2,
       "version_minor": 0
      },
      "text/plain": [
       "QUEUEING TASKS | :   0%|          | 0/1 [00:00<?, ?it/s]"
      ]
     },
     "metadata": {},
     "output_type": "display_data"
    },
    {
     "data": {
      "application/vnd.jupyter.widget-view+json": {
       "model_id": "1d87854623eb4da982e1d346a0e95ed1",
       "version_major": 2,
       "version_minor": 0
      },
      "text/plain": [
       "PROCESSING TASKS | :   0%|          | 0/1 [00:00<?, ?it/s]"
      ]
     },
     "metadata": {},
     "output_type": "display_data"
    },
    {
     "data": {
      "application/vnd.jupyter.widget-view+json": {
       "model_id": "67d9837df60f42518cdf546d060d9724",
       "version_major": 2,
       "version_minor": 0
      },
      "text/plain": [
       "COLLECTING RESULTS | :   0%|          | 0/1 [00:00<?, ?it/s]"
      ]
     },
     "metadata": {},
     "output_type": "display_data"
    },
    {
     "name": "stdout",
     "output_type": "stream",
     "text": [
      "\n",
      "Coincident S2 images: 0\n",
      "\n",
      "\n",
      "\n",
      "[Collection: {'EntryTitle': 'ATLAS/ICESat-2 L3A Sea Ice Height V006'}\n",
      "Spatial coverage: {'HorizontalSpatialDomain': {'Orbit': {'AscendingCrossing': -164.16468328662728, 'StartLatitude': 27.0, 'StartDirection': 'A', 'EndLatitude': 27.0, 'EndDirection': 'D'}}}\n",
      "Temporal coverage: {'RangeDateTime': {'BeginningDateTime': '2021-11-15T20:55:22.458Z', 'EndingDateTime': '2021-11-15T21:08:32.301Z'}}\n",
      "Size(MB): 412.31697177886963\n",
      "Data: ['https://data.nsidc.earthdatacloud.nasa.gov/nsidc-cumulus-prod-protected/ATLAS/ATL07/006/2021/11/15/ATL07-01_20211115203827_08311301_006_01.h5']]\n"
     ]
    },
    {
     "data": {
      "application/vnd.jupyter.widget-view+json": {
       "model_id": "445a04ba168e496e9ecd434dd7b32863",
       "version_major": 2,
       "version_minor": 0
      },
      "text/plain": [
       "QUEUEING TASKS | :   0%|          | 0/1 [00:00<?, ?it/s]"
      ]
     },
     "metadata": {},
     "output_type": "display_data"
    },
    {
     "data": {
      "application/vnd.jupyter.widget-view+json": {
       "model_id": "492f8981cc574ba5b47451967bb6428a",
       "version_major": 2,
       "version_minor": 0
      },
      "text/plain": [
       "PROCESSING TASKS | :   0%|          | 0/1 [00:00<?, ?it/s]"
      ]
     },
     "metadata": {},
     "output_type": "display_data"
    },
    {
     "data": {
      "application/vnd.jupyter.widget-view+json": {
       "model_id": "2ad048c28eff4f0994a549535808fcf5",
       "version_major": 2,
       "version_minor": 0
      },
      "text/plain": [
       "COLLECTING RESULTS | :   0%|          | 0/1 [00:00<?, ?it/s]"
      ]
     },
     "metadata": {},
     "output_type": "display_data"
    },
    {
     "name": "stdout",
     "output_type": "stream",
     "text": [
      "\n",
      "Coincident S2 images: 0\n",
      "\n",
      "\n",
      "\n",
      "[Collection: {'EntryTitle': 'ATLAS/ICESat-2 L3A Sea Ice Height V006'}\n",
      "Spatial coverage: {'HorizontalSpatialDomain': {'Orbit': {'AscendingCrossing': -141.32367618751996, 'StartLatitude': 27.0, 'StartDirection': 'A', 'EndLatitude': 27.0, 'EndDirection': 'D'}}}\n",
      "Temporal coverage: {'RangeDateTime': {'BeginningDateTime': '2021-11-19T19:14:14.613Z', 'EndingDateTime': '2021-11-19T19:26:07.557Z'}}\n",
      "Size(MB): 340.49905490875244\n",
      "Data: ['https://data.nsidc.earthdatacloud.nasa.gov/nsidc-cumulus-prod-protected/ATLAS/ATL07/006/2021/11/19/ATL07-01_20211119185554_08911301_006_01.h5']]\n"
     ]
    },
    {
     "data": {
      "application/vnd.jupyter.widget-view+json": {
       "model_id": "e024f478334844ba9da4065301f25a7d",
       "version_major": 2,
       "version_minor": 0
      },
      "text/plain": [
       "QUEUEING TASKS | :   0%|          | 0/1 [00:00<?, ?it/s]"
      ]
     },
     "metadata": {},
     "output_type": "display_data"
    },
    {
     "data": {
      "application/vnd.jupyter.widget-view+json": {
       "model_id": "0b4f1d1eb0954247b44c36756d445163",
       "version_major": 2,
       "version_minor": 0
      },
      "text/plain": [
       "PROCESSING TASKS | :   0%|          | 0/1 [00:00<?, ?it/s]"
      ]
     },
     "metadata": {},
     "output_type": "display_data"
    },
    {
     "data": {
      "application/vnd.jupyter.widget-view+json": {
       "model_id": "914201497ade46f6b8ca2aa190c4ef41",
       "version_major": 2,
       "version_minor": 0
      },
      "text/plain": [
       "COLLECTING RESULTS | :   0%|          | 0/1 [00:00<?, ?it/s]"
      ]
     },
     "metadata": {},
     "output_type": "display_data"
    },
    {
     "name": "stdout",
     "output_type": "stream",
     "text": [
      "\n",
      "Coincident S2 images: 0\n",
      "\n",
      "\n",
      "\n",
      "[Collection: {'EntryTitle': 'ATLAS/ICESat-2 L3A Sea Ice Height V006'}\n",
      "Spatial coverage: {'HorizontalSpatialDomain': {'Orbit': {'AscendingCrossing': 106.28892035738735, 'StartLatitude': 27.0, 'StartDirection': 'A', 'EndLatitude': 27.0, 'EndDirection': 'D'}}}\n",
      "Temporal coverage: {'RangeDateTime': {'BeginningDateTime': '2021-11-21T02:41:29.616Z', 'EndingDateTime': '2021-11-21T02:51:14.071Z'}}\n",
      "Size(MB): 353.2553987503052\n",
      "Data: ['https://data.nsidc.earthdatacloud.nasa.gov/nsidc-cumulus-prod-protected/ATLAS/ATL07/006/2021/11/21/ATL07-01_20211121022139_09111301_006_01.h5']]\n"
     ]
    },
    {
     "data": {
      "application/vnd.jupyter.widget-view+json": {
       "model_id": "a60716d775e14939ba91c90813beadba",
       "version_major": 2,
       "version_minor": 0
      },
      "text/plain": [
       "QUEUEING TASKS | :   0%|          | 0/1 [00:00<?, ?it/s]"
      ]
     },
     "metadata": {},
     "output_type": "display_data"
    },
    {
     "data": {
      "application/vnd.jupyter.widget-view+json": {
       "model_id": "1340a4058bf94c99b6c944a4ad669b99",
       "version_major": 2,
       "version_minor": 0
      },
      "text/plain": [
       "PROCESSING TASKS | :   0%|          | 0/1 [00:00<?, ?it/s]"
      ]
     },
     "metadata": {},
     "output_type": "display_data"
    },
    {
     "data": {
      "application/vnd.jupyter.widget-view+json": {
       "model_id": "81927b97a1bb4a21a433f8c62f745c05",
       "version_major": 2,
       "version_minor": 0
      },
      "text/plain": [
       "COLLECTING RESULTS | :   0%|          | 0/1 [00:00<?, ?it/s]"
      ]
     },
     "metadata": {},
     "output_type": "display_data"
    },
    {
     "name": "stdout",
     "output_type": "stream",
     "text": [
      "\n",
      "Coincident S2 images: 0\n",
      "\n",
      "\n",
      "\n",
      "[Collection: {'EntryTitle': 'ATLAS/ICESat-2 L3A Sea Ice Height V006'}\n",
      "Spatial coverage: {'HorizontalSpatialDomain': {'Orbit': {'AscendingCrossing': -118.48256195837304, 'StartLatitude': 27.0, 'StartDirection': 'A', 'EndLatitude': 27.0, 'EndDirection': 'D'}}}\n",
      "Temporal coverage: {'RangeDateTime': {'BeginningDateTime': '2021-11-23T17:31:28.037Z', 'EndingDateTime': '2021-11-23T17:42:23.596Z'}}\n",
      "Size(MB): 297.75462436676025\n",
      "Data: ['https://data.nsidc.earthdatacloud.nasa.gov/nsidc-cumulus-prod-protected/ATLAS/ATL07/006/2021/11/23/ATL07-01_20211123171314_09511301_006_01.h5']]\n"
     ]
    },
    {
     "data": {
      "application/vnd.jupyter.widget-view+json": {
       "model_id": "b951a07698f54882addac0d44b225ea7",
       "version_major": 2,
       "version_minor": 0
      },
      "text/plain": [
       "QUEUEING TASKS | :   0%|          | 0/1 [00:00<?, ?it/s]"
      ]
     },
     "metadata": {},
     "output_type": "display_data"
    },
    {
     "data": {
      "application/vnd.jupyter.widget-view+json": {
       "model_id": "ea074410ab8144c795ef1e86f10666d9",
       "version_major": 2,
       "version_minor": 0
      },
      "text/plain": [
       "PROCESSING TASKS | :   0%|          | 0/1 [00:00<?, ?it/s]"
      ]
     },
     "metadata": {},
     "output_type": "display_data"
    },
    {
     "data": {
      "application/vnd.jupyter.widget-view+json": {
       "model_id": "9c42c0d2a4384c46adc097d1afb51e0a",
       "version_major": 2,
       "version_minor": 0
      },
      "text/plain": [
       "COLLECTING RESULTS | :   0%|          | 0/1 [00:00<?, ?it/s]"
      ]
     },
     "metadata": {},
     "output_type": "display_data"
    },
    {
     "name": "stdout",
     "output_type": "stream",
     "text": [
      "\n",
      "Coincident S2 images: 0\n",
      "\n",
      "\n",
      "\n",
      "[Collection: {'EntryTitle': 'ATLAS/ICESat-2 L3A Sea Ice Height V006'}\n",
      "Spatial coverage: {'HorizontalSpatialDomain': {'Orbit': {'AscendingCrossing': 16.741076083510947, 'StartLatitude': 27.0, 'StartDirection': 'A', 'EndLatitude': 27.0, 'EndDirection': 'D'}}}\n",
      "Temporal coverage: {'RangeDateTime': {'BeginningDateTime': '2021-11-26T08:25:54.331Z', 'EndingDateTime': '2021-11-26T08:35:43.942Z'}}\n",
      "Size(MB): 272.64422130584717\n",
      "Data: ['https://data.nsidc.earthdatacloud.nasa.gov/nsidc-cumulus-prod-protected/ATLAS/ATL07/006/2021/11/26/ATL07-01_20211126080447_09911301_006_01.h5']]\n"
     ]
    },
    {
     "data": {
      "application/vnd.jupyter.widget-view+json": {
       "model_id": "5c34bcdc0e1c4d3db9662c6a9043c09e",
       "version_major": 2,
       "version_minor": 0
      },
      "text/plain": [
       "QUEUEING TASKS | :   0%|          | 0/1 [00:00<?, ?it/s]"
      ]
     },
     "metadata": {},
     "output_type": "display_data"
    },
    {
     "data": {
      "application/vnd.jupyter.widget-view+json": {
       "model_id": "b0c5afab4a764c5fac4d2dd1d98ffbff",
       "version_major": 2,
       "version_minor": 0
      },
      "text/plain": [
       "PROCESSING TASKS | :   0%|          | 0/1 [00:00<?, ?it/s]"
      ]
     },
     "metadata": {},
     "output_type": "display_data"
    },
    {
     "data": {
      "application/vnd.jupyter.widget-view+json": {
       "model_id": "1d8306f1d9b446d4ab08d7aeb1f394f0",
       "version_major": 2,
       "version_minor": 0
      },
      "text/plain": [
       "COLLECTING RESULTS | :   0%|          | 0/1 [00:00<?, ?it/s]"
      ]
     },
     "metadata": {},
     "output_type": "display_data"
    },
    {
     "name": "stdout",
     "output_type": "stream",
     "text": [
      "\n",
      "Coincident S2 images: 0\n",
      "\n",
      "\n",
      "\n",
      "[Collection: {'EntryTitle': 'ATLAS/ICESat-2 L3A Sea Ice Height V006'}\n",
      "Spatial coverage: {'HorizontalSpatialDomain': {'Orbit': {'AscendingCrossing': -95.64218312319433, 'StartLatitude': 27.0, 'StartDirection': 'A', 'EndLatitude': 27.0, 'EndDirection': 'D'}}}\n",
      "Temporal coverage: {'RangeDateTime': {'BeginningDateTime': '2021-11-27T15:48:26.013Z', 'EndingDateTime': '2021-11-27T15:59:21.972Z'}}\n",
      "Size(MB): 289.39156436920166\n",
      "Data: ['https://data.nsidc.earthdatacloud.nasa.gov/nsidc-cumulus-prod-protected/ATLAS/ATL07/006/2021/11/27/ATL07-01_20211127153035_10111301_006_01.h5']]\n"
     ]
    },
    {
     "data": {
      "application/vnd.jupyter.widget-view+json": {
       "model_id": "db8b5a239fa44c66ba03b03b824896d0",
       "version_major": 2,
       "version_minor": 0
      },
      "text/plain": [
       "QUEUEING TASKS | :   0%|          | 0/1 [00:00<?, ?it/s]"
      ]
     },
     "metadata": {},
     "output_type": "display_data"
    },
    {
     "data": {
      "application/vnd.jupyter.widget-view+json": {
       "model_id": "f6182b4d38c34e13a6fcbebfdb326f9d",
       "version_major": 2,
       "version_minor": 0
      },
      "text/plain": [
       "PROCESSING TASKS | :   0%|          | 0/1 [00:00<?, ?it/s]"
      ]
     },
     "metadata": {},
     "output_type": "display_data"
    },
    {
     "data": {
      "application/vnd.jupyter.widget-view+json": {
       "model_id": "87eb1b93082b4497b67f987c4059c629",
       "version_major": 2,
       "version_minor": 0
      },
      "text/plain": [
       "COLLECTING RESULTS | :   0%|          | 0/1 [00:00<?, ?it/s]"
      ]
     },
     "metadata": {},
     "output_type": "display_data"
    },
    {
     "name": "stdout",
     "output_type": "stream",
     "text": [
      "\n",
      "Coincident S2 images: 0\n",
      "\n",
      "\n",
      "\n",
      "[Collection: {'EntryTitle': 'ATLAS/ICESat-2 L3A Sea Ice Height V006'}\n",
      "Spatial coverage: {'HorizontalSpatialDomain': {'Orbit': {'AscendingCrossing': 39.58112711610196, 'StartLatitude': 27.0, 'StartDirection': 'A', 'EndLatitude': 27.0, 'EndDirection': 'D'}}}\n",
      "Temporal coverage: {'RangeDateTime': {'BeginningDateTime': '2021-11-30T06:40:23.389Z', 'EndingDateTime': '2021-11-30T06:50:58.836Z'}}\n",
      "Size(MB): 328.732141494751\n",
      "Data: ['https://data.nsidc.earthdatacloud.nasa.gov/nsidc-cumulus-prod-protected/ATLAS/ATL07/006/2021/11/30/ATL07-01_20211130062211_10511301_006_01.h5']]\n"
     ]
    },
    {
     "data": {
      "application/vnd.jupyter.widget-view+json": {
       "model_id": "d7ed9c364d874ec8a091eaa490267e4f",
       "version_major": 2,
       "version_minor": 0
      },
      "text/plain": [
       "QUEUEING TASKS | :   0%|          | 0/1 [00:00<?, ?it/s]"
      ]
     },
     "metadata": {},
     "output_type": "display_data"
    },
    {
     "data": {
      "application/vnd.jupyter.widget-view+json": {
       "model_id": "7747aaf28ebd422f8b7b143b7e9feeb9",
       "version_major": 2,
       "version_minor": 0
      },
      "text/plain": [
       "PROCESSING TASKS | :   0%|          | 0/1 [00:00<?, ?it/s]"
      ]
     },
     "metadata": {},
     "output_type": "display_data"
    },
    {
     "data": {
      "application/vnd.jupyter.widget-view+json": {
       "model_id": "c27b38ab0f434001b78f11cc5d66119f",
       "version_major": 2,
       "version_minor": 0
      },
      "text/plain": [
       "COLLECTING RESULTS | :   0%|          | 0/1 [00:00<?, ?it/s]"
      ]
     },
     "metadata": {},
     "output_type": "display_data"
    },
    {
     "name": "stdout",
     "output_type": "stream",
     "text": [
      "\n",
      "Coincident S2 images: 0\n",
      "\n",
      "\n",
      "\n",
      "[Collection: {'EntryTitle': 'ATLAS/ICESat-2 L3A Sea Ice Height V006'}\n",
      "Spatial coverage: {'HorizontalSpatialDomain': {'Orbit': {'AscendingCrossing': -72.80234590937492, 'StartLatitude': 27.0, 'StartDirection': 'A', 'EndLatitude': 27.0, 'EndDirection': 'D'}}}\n",
      "Temporal coverage: {'RangeDateTime': {'BeginningDateTime': '2021-12-01T13:59:09.893Z', 'EndingDateTime': '2021-12-01T14:15:57.922Z'}}\n",
      "Size(MB): 305.6508951187134\n",
      "Data: ['https://data.nsidc.earthdatacloud.nasa.gov/nsidc-cumulus-prod-protected/ATLAS/ATL07/006/2021/12/01/ATL07-01_20211201134758_10711301_006_01.h5']]\n"
     ]
    },
    {
     "data": {
      "application/vnd.jupyter.widget-view+json": {
       "model_id": "814d87a1c4aa4c8aadea7adb5535f58d",
       "version_major": 2,
       "version_minor": 0
      },
      "text/plain": [
       "QUEUEING TASKS | :   0%|          | 0/1 [00:00<?, ?it/s]"
      ]
     },
     "metadata": {},
     "output_type": "display_data"
    },
    {
     "data": {
      "application/vnd.jupyter.widget-view+json": {
       "model_id": "5abd7cf615344f1eab705c9fa74a29eb",
       "version_major": 2,
       "version_minor": 0
      },
      "text/plain": [
       "PROCESSING TASKS | :   0%|          | 0/1 [00:00<?, ?it/s]"
      ]
     },
     "metadata": {},
     "output_type": "display_data"
    },
    {
     "data": {
      "application/vnd.jupyter.widget-view+json": {
       "model_id": "187892025bd44aeab0691220e6bfd34a",
       "version_major": 2,
       "version_minor": 0
      },
      "text/plain": [
       "COLLECTING RESULTS | :   0%|          | 0/1 [00:00<?, ?it/s]"
      ]
     },
     "metadata": {},
     "output_type": "display_data"
    },
    {
     "name": "stdout",
     "output_type": "stream",
     "text": [
      "\n",
      "Coincident S2 images: 7\n",
      "Coincident S2 image FOUND\n",
      "Done with granule.\n",
      "\n",
      "\n",
      "\n",
      "[Collection: {'EntryTitle': 'ATLAS/ICESat-2 L3A Sea Ice Height V006'}\n",
      "Spatial coverage: {'HorizontalSpatialDomain': {'Orbit': {'AscendingCrossing': 174.8106942194328, 'StartLatitude': 27.0, 'StartDirection': 'A', 'EndLatitude': 27.0, 'EndDirection': 'D'}}}\n",
      "Temporal coverage: {'RangeDateTime': {'BeginningDateTime': '2021-12-02T21:31:56.393Z', 'EndingDateTime': '2021-12-02T21:38:46.761Z'}}\n",
      "Size(MB): 310.3912878036499\n",
      "Data: ['https://data.nsidc.earthdatacloud.nasa.gov/nsidc-cumulus-prod-protected/ATLAS/ATL07/006/2021/12/02/ATL07-01_20211202211346_10911301_006_01.h5']]\n"
     ]
    },
    {
     "data": {
      "application/vnd.jupyter.widget-view+json": {
       "model_id": "a2c029196d21499bbe034ee88dd3b6c5",
       "version_major": 2,
       "version_minor": 0
      },
      "text/plain": [
       "QUEUEING TASKS | :   0%|          | 0/1 [00:00<?, ?it/s]"
      ]
     },
     "metadata": {},
     "output_type": "display_data"
    },
    {
     "data": {
      "application/vnd.jupyter.widget-view+json": {
       "model_id": "1810569120d44dcb9c87e11e684e22dd",
       "version_major": 2,
       "version_minor": 0
      },
      "text/plain": [
       "PROCESSING TASKS | :   0%|          | 0/1 [00:00<?, ?it/s]"
      ]
     },
     "metadata": {},
     "output_type": "display_data"
    },
    {
     "data": {
      "application/vnd.jupyter.widget-view+json": {
       "model_id": "5867c2db244649deae28f847e5d92394",
       "version_major": 2,
       "version_minor": 0
      },
      "text/plain": [
       "COLLECTING RESULTS | :   0%|          | 0/1 [00:00<?, ?it/s]"
      ]
     },
     "metadata": {},
     "output_type": "display_data"
    },
    {
     "name": "stdout",
     "output_type": "stream",
     "text": [
      "\n",
      "Coincident S2 images: 0\n",
      "\n",
      "\n",
      "\n",
      "[Collection: {'EntryTitle': 'ATLAS/ICESat-2 L3A Sea Ice Height V006'}\n",
      "Spatial coverage: {'HorizontalSpatialDomain': {'Orbit': {'AscendingCrossing': -162.34785419932882, 'StartLatitude': 27.0, 'StartDirection': 'A', 'EndLatitude': 27.0, 'EndDirection': 'D'}}}\n",
      "Temporal coverage: {'RangeDateTime': {'BeginningDateTime': '2021-12-06T19:48:43.109Z', 'EndingDateTime': '2021-12-06T20:00:11.926Z'}}\n",
      "Size(MB): 194.13382053375244\n",
      "Data: ['https://data.nsidc.earthdatacloud.nasa.gov/nsidc-cumulus-prod-protected/ATLAS/ATL07/006/2021/12/06/ATL07-01_20211206193110_11511301_006_01.h5']]\n"
     ]
    },
    {
     "data": {
      "application/vnd.jupyter.widget-view+json": {
       "model_id": "da2d46d66e354451b0d6ac86a51e4305",
       "version_major": 2,
       "version_minor": 0
      },
      "text/plain": [
       "QUEUEING TASKS | :   0%|          | 0/1 [00:00<?, ?it/s]"
      ]
     },
     "metadata": {},
     "output_type": "display_data"
    },
    {
     "data": {
      "application/vnd.jupyter.widget-view+json": {
       "model_id": "17b933b6cc054c80862e70c9194bb953",
       "version_major": 2,
       "version_minor": 0
      },
      "text/plain": [
       "PROCESSING TASKS | :   0%|          | 0/1 [00:00<?, ?it/s]"
      ]
     },
     "metadata": {},
     "output_type": "display_data"
    },
    {
     "data": {
      "application/vnd.jupyter.widget-view+json": {
       "model_id": "b891e5966e084252adf7118aeda8c012",
       "version_major": 2,
       "version_minor": 0
      },
      "text/plain": [
       "COLLECTING RESULTS | :   0%|          | 0/1 [00:00<?, ?it/s]"
      ]
     },
     "metadata": {},
     "output_type": "display_data"
    },
    {
     "name": "stdout",
     "output_type": "stream",
     "text": [
      "\n",
      "Coincident S2 images: 0\n",
      "\n",
      "\n",
      "\n",
      "[Collection: {'EntryTitle': 'ATLAS/ICESat-2 L3A Sea Ice Height V006'}\n",
      "Spatial coverage: {'HorizontalSpatialDomain': {'Orbit': {'AscendingCrossing': 85.26352179718286, 'StartLatitude': 27.0, 'StartDirection': 'A', 'EndLatitude': 27.0, 'EndDirection': 'D'}}}\n",
      "Temporal coverage: {'RangeDateTime': {'BeginningDateTime': '2021-12-08T03:16:16.387Z', 'EndingDateTime': '2021-12-08T03:26:11.484Z'}}\n",
      "Size(MB): 183.5197286605835\n",
      "Data: ['https://data.nsidc.earthdatacloud.nasa.gov/nsidc-cumulus-prod-protected/ATLAS/ATL07/006/2021/12/08/ATL07-01_20211208025658_11711301_006_01.h5']]\n"
     ]
    },
    {
     "data": {
      "application/vnd.jupyter.widget-view+json": {
       "model_id": "6c6e85f518da4ea2bfe6f3394b7b370e",
       "version_major": 2,
       "version_minor": 0
      },
      "text/plain": [
       "QUEUEING TASKS | :   0%|          | 0/1 [00:00<?, ?it/s]"
      ]
     },
     "metadata": {},
     "output_type": "display_data"
    },
    {
     "data": {
      "application/vnd.jupyter.widget-view+json": {
       "model_id": "bb0d94affe9e4bada8b33e863b47a264",
       "version_major": 2,
       "version_minor": 0
      },
      "text/plain": [
       "PROCESSING TASKS | :   0%|          | 0/1 [00:00<?, ?it/s]"
      ]
     },
     "metadata": {},
     "output_type": "display_data"
    },
    {
     "data": {
      "application/vnd.jupyter.widget-view+json": {
       "model_id": "64c0a1f95b7245298380dbd012ff46ac",
       "version_major": 2,
       "version_minor": 0
      },
      "text/plain": [
       "COLLECTING RESULTS | :   0%|          | 0/1 [00:00<?, ?it/s]"
      ]
     },
     "metadata": {},
     "output_type": "display_data"
    },
    {
     "name": "stdout",
     "output_type": "stream",
     "text": [
      "\n",
      "Coincident S2 images: 0\n",
      "\n",
      "\n",
      "\n",
      "[Collection: {'EntryTitle': 'ATLAS/ICESat-2 L3A Sea Ice Height V006'}\n",
      "Spatial coverage: {'HorizontalSpatialDomain': {'Orbit': {'AscendingCrossing': -4.281509881785643, 'StartLatitude': 27.0, 'StartDirection': 'A', 'EndLatitude': 27.0, 'EndDirection': 'D'}}}\n",
      "Temporal coverage: {'RangeDateTime': {'BeginningDateTime': '2021-12-13T08:59:59.689Z', 'EndingDateTime': '2021-12-13T09:06:50.316Z'}}\n",
      "Size(MB): 240.4761028289795\n",
      "Data: ['https://data.nsidc.earthdatacloud.nasa.gov/nsidc-cumulus-prod-protected/ATLAS/ATL07/006/2021/12/13/ATL07-01_20211213084009_12511301_006_01.h5']]\n"
     ]
    },
    {
     "data": {
      "application/vnd.jupyter.widget-view+json": {
       "model_id": "b51f1bb9824349a8b74d143f0ec42bdd",
       "version_major": 2,
       "version_minor": 0
      },
      "text/plain": [
       "QUEUEING TASKS | :   0%|          | 0/1 [00:00<?, ?it/s]"
      ]
     },
     "metadata": {},
     "output_type": "display_data"
    },
    {
     "data": {
      "application/vnd.jupyter.widget-view+json": {
       "model_id": "238f68f7394d4205a4f6f9b4cd7f29a7",
       "version_major": 2,
       "version_minor": 0
      },
      "text/plain": [
       "PROCESSING TASKS | :   0%|          | 0/1 [00:00<?, ?it/s]"
      ]
     },
     "metadata": {},
     "output_type": "display_data"
    },
    {
     "data": {
      "application/vnd.jupyter.widget-view+json": {
       "model_id": "0d77d47e014640a7b644596a356a5a2b",
       "version_major": 2,
       "version_minor": 0
      },
      "text/plain": [
       "COLLECTING RESULTS | :   0%|          | 0/1 [00:00<?, ?it/s]"
      ]
     },
     "metadata": {},
     "output_type": "display_data"
    },
    {
     "name": "stdout",
     "output_type": "stream",
     "text": [
      "\n",
      "Coincident S2 images: 0\n",
      "\n",
      "\n",
      "\n",
      "[Collection: {'EntryTitle': 'ATLAS/ICESat-2 L3A Sea Ice Height V006'}\n",
      "Spatial coverage: {'HorizontalSpatialDomain': {'Orbit': {'AscendingCrossing': -116.6656972581387, 'StartLatitude': 27.0, 'StartDirection': 'A', 'EndLatitude': 27.0, 'EndDirection': 'D'}}}\n",
      "Temporal coverage: {'RangeDateTime': {'BeginningDateTime': '2021-12-14T16:24:09.778Z', 'EndingDateTime': '2021-12-14T16:34:09.124Z'}}\n",
      "Size(MB): 504.2579822540283\n",
      "Data: ['https://data.nsidc.earthdatacloud.nasa.gov/nsidc-cumulus-prod-protected/ATLAS/ATL07/006/2021/12/14/ATL07-01_20211214160557_12711301_006_01.h5']]\n"
     ]
    },
    {
     "data": {
      "application/vnd.jupyter.widget-view+json": {
       "model_id": "1f340ade7fb240268c180c6666d5074c",
       "version_major": 2,
       "version_minor": 0
      },
      "text/plain": [
       "QUEUEING TASKS | :   0%|          | 0/1 [00:00<?, ?it/s]"
      ]
     },
     "metadata": {},
     "output_type": "display_data"
    },
    {
     "data": {
      "application/vnd.jupyter.widget-view+json": {
       "model_id": "16a9c08e420441c69b16bc712a80844c",
       "version_major": 2,
       "version_minor": 0
      },
      "text/plain": [
       "PROCESSING TASKS | :   0%|          | 0/1 [00:00<?, ?it/s]"
      ]
     },
     "metadata": {},
     "output_type": "display_data"
    },
    {
     "data": {
      "application/vnd.jupyter.widget-view+json": {
       "model_id": "a5bc1daed0e6487a8eb5fd960147e04d",
       "version_major": 2,
       "version_minor": 0
      },
      "text/plain": [
       "COLLECTING RESULTS | :   0%|          | 0/1 [00:00<?, ?it/s]"
      ]
     },
     "metadata": {},
     "output_type": "display_data"
    },
    {
     "name": "stdout",
     "output_type": "stream",
     "text": [
      "\n",
      "Coincident S2 images: 0\n",
      "\n",
      "\n",
      "\n",
      "[Collection: {'EntryTitle': 'ATLAS/ICESat-2 L3A Sea Ice Height V006'}\n",
      "Spatial coverage: {'HorizontalSpatialDomain': {'Orbit': {'AscendingCrossing': 41.39793493166138, 'StartLatitude': 27.0, 'StartDirection': 'A', 'EndLatitude': 27.0, 'EndDirection': 'D'}}}\n",
      "Temporal coverage: {'RangeDateTime': {'BeginningDateTime': '2021-12-21T05:32:21.394Z', 'EndingDateTime': '2021-12-21T05:43:38.408Z'}}\n",
      "Size(MB): 424.6441287994385\n",
      "Data: ['https://data.nsidc.earthdatacloud.nasa.gov/nsidc-cumulus-prod-protected/ATLAS/ATL07/006/2021/12/21/ATL07-01_20211221051453_13711301_006_01.h5']]\n"
     ]
    },
    {
     "data": {
      "application/vnd.jupyter.widget-view+json": {
       "model_id": "62dd25f5db7143558f917cb5c8e3e446",
       "version_major": 2,
       "version_minor": 0
      },
      "text/plain": [
       "QUEUEING TASKS | :   0%|          | 0/1 [00:00<?, ?it/s]"
      ]
     },
     "metadata": {},
     "output_type": "display_data"
    },
    {
     "data": {
      "application/vnd.jupyter.widget-view+json": {
       "model_id": "66442cd70df14a31811dbcc9eb3a26f0",
       "version_major": 2,
       "version_minor": 0
      },
      "text/plain": [
       "PROCESSING TASKS | :   0%|          | 0/1 [00:00<?, ?it/s]"
      ]
     },
     "metadata": {},
     "output_type": "display_data"
    },
    {
     "data": {
      "application/vnd.jupyter.widget-view+json": {
       "model_id": "ace82910473b4af4b8999e3ce1428c25",
       "version_major": 2,
       "version_minor": 0
      },
      "text/plain": [
       "COLLECTING RESULTS | :   0%|          | 0/1 [00:00<?, ?it/s]"
      ]
     },
     "metadata": {},
     "output_type": "display_data"
    },
    {
     "name": "stdout",
     "output_type": "stream",
     "text": [
      "\n",
      "Coincident S2 images: 0\n",
      "\n",
      "\n",
      "\n",
      "[Collection: {'EntryTitle': 'ATLAS/ICESat-2 L3A Sea Ice Height V006'}\n",
      "Spatial coverage: {'HorizontalSpatialDomain': {'Orbit': {'AscendingCrossing': -160.53105507099178, 'StartLatitude': 27.0, 'StartDirection': 'A', 'EndLatitude': 27.0, 'EndDirection': 'D'}}}\n",
      "Temporal coverage: {'RangeDateTime': {'BeginningDateTime': '2021-12-27T18:40:32.359Z', 'EndingDateTime': '2021-12-27T18:51:05.620Z'}}\n",
      "Size(MB): 342.8203411102295\n",
      "Data: ['https://data.nsidc.earthdatacloud.nasa.gov/nsidc-cumulus-prod-protected/ATLAS/ATL07/006/2021/12/27/ATL07-01_20211227182351_00841401_006_01.h5']]\n"
     ]
    },
    {
     "data": {
      "application/vnd.jupyter.widget-view+json": {
       "model_id": "d2c25eaaeb83460c83095777542f4826",
       "version_major": 2,
       "version_minor": 0
      },
      "text/plain": [
       "QUEUEING TASKS | :   0%|          | 0/1 [00:00<?, ?it/s]"
      ]
     },
     "metadata": {},
     "output_type": "display_data"
    },
    {
     "data": {
      "application/vnd.jupyter.widget-view+json": {
       "model_id": "26ed9d2dee0b4183b27c545cbcf3157d",
       "version_major": 2,
       "version_minor": 0
      },
      "text/plain": [
       "PROCESSING TASKS | :   0%|          | 0/1 [00:00<?, ?it/s]"
      ]
     },
     "metadata": {},
     "output_type": "display_data"
    },
    {
     "data": {
      "application/vnd.jupyter.widget-view+json": {
       "model_id": "ac2b24d261f4489c9e3587829ed3328a",
       "version_major": 2,
       "version_minor": 0
      },
      "text/plain": [
       "COLLECTING RESULTS | :   0%|          | 0/1 [00:00<?, ?it/s]"
      ]
     },
     "metadata": {},
     "output_type": "display_data"
    },
    {
     "name": "stdout",
     "output_type": "stream",
     "text": [
      "\n",
      "Coincident S2 images: 0\n",
      "\n",
      "\n",
      "\n",
      "[Collection: {'EntryTitle': 'ATLAS/ICESat-2 L3A Sea Ice Height V006'}\n",
      "Spatial coverage: {'HorizontalSpatialDomain': {'Orbit': {'AscendingCrossing': 87.08022081726853, 'StartLatitude': 27.0, 'StartDirection': 'A', 'EndLatitude': 27.0, 'EndDirection': 'D'}}}\n",
      "Temporal coverage: {'RangeDateTime': {'BeginningDateTime': '2021-12-29T02:07:12.634Z', 'EndingDateTime': '2021-12-29T02:18:50.311Z'}}\n",
      "Size(MB): 281.7107973098755\n",
      "Data: ['https://data.nsidc.earthdatacloud.nasa.gov/nsidc-cumulus-prod-protected/ATLAS/ATL07/006/2021/12/29/ATL07-01_20211229014938_01041401_006_01.h5']]\n"
     ]
    },
    {
     "data": {
      "application/vnd.jupyter.widget-view+json": {
       "model_id": "119ff54c1166423eae1e628fdd29bc59",
       "version_major": 2,
       "version_minor": 0
      },
      "text/plain": [
       "QUEUEING TASKS | :   0%|          | 0/1 [00:00<?, ?it/s]"
      ]
     },
     "metadata": {},
     "output_type": "display_data"
    },
    {
     "data": {
      "application/vnd.jupyter.widget-view+json": {
       "model_id": "079df460ea9b45d686f3a7f1aef92b11",
       "version_major": 2,
       "version_minor": 0
      },
      "text/plain": [
       "PROCESSING TASKS | :   0%|          | 0/1 [00:00<?, ?it/s]"
      ]
     },
     "metadata": {},
     "output_type": "display_data"
    },
    {
     "data": {
      "application/vnd.jupyter.widget-view+json": {
       "model_id": "8c246986f3204e549c40156fe885baf1",
       "version_major": 2,
       "version_minor": 0
      },
      "text/plain": [
       "COLLECTING RESULTS | :   0%|          | 0/1 [00:00<?, ?it/s]"
      ]
     },
     "metadata": {},
     "output_type": "display_data"
    },
    {
     "name": "stdout",
     "output_type": "stream",
     "text": [
      "\n",
      "Coincident S2 images: 0\n",
      "\n",
      "\n",
      "\n",
      "[Collection: {'EntryTitle': 'ATLAS/ICESat-2 L3A Sea Ice Height V006'}\n",
      "Spatial coverage: {'HorizontalSpatialDomain': {'Orbit': {'AscendingCrossing': -137.69016408088314, 'StartLatitude': 27.0, 'StartDirection': 'A', 'EndLatitude': 27.0, 'EndDirection': 'D'}}}\n",
      "Temporal coverage: {'RangeDateTime': {'BeginningDateTime': '2021-12-31T16:59:34.908Z', 'EndingDateTime': '2021-12-31T17:08:02.731Z'}}\n",
      "Size(MB): 325.3501682281494\n",
      "Data: ['https://data.nsidc.earthdatacloud.nasa.gov/nsidc-cumulus-prod-protected/ATLAS/ATL07/006/2021/12/31/ATL07-01_20211231164114_01441401_006_01.h5']]\n"
     ]
    },
    {
     "data": {
      "application/vnd.jupyter.widget-view+json": {
       "model_id": "17fa8048f47642d8b846fc30be448e9e",
       "version_major": 2,
       "version_minor": 0
      },
      "text/plain": [
       "QUEUEING TASKS | :   0%|          | 0/1 [00:00<?, ?it/s]"
      ]
     },
     "metadata": {},
     "output_type": "display_data"
    },
    {
     "data": {
      "application/vnd.jupyter.widget-view+json": {
       "model_id": "2ae7e89a3b7c45f68c120b0ee2db86d2",
       "version_major": 2,
       "version_minor": 0
      },
      "text/plain": [
       "PROCESSING TASKS | :   0%|          | 0/1 [00:00<?, ?it/s]"
      ]
     },
     "metadata": {},
     "output_type": "display_data"
    },
    {
     "data": {
      "application/vnd.jupyter.widget-view+json": {
       "model_id": "9d8d0bf963124856bde29798f6078ebc",
       "version_major": 2,
       "version_minor": 0
      },
      "text/plain": [
       "COLLECTING RESULTS | :   0%|          | 0/1 [00:00<?, ?it/s]"
      ]
     },
     "metadata": {},
     "output_type": "display_data"
    },
    {
     "name": "stdout",
     "output_type": "stream",
     "text": [
      "\n",
      "Coincident S2 images: 0\n",
      "\n",
      "\n",
      "\n",
      "[Collection: {'EntryTitle': 'ATLAS/ICESat-2 L3A Sea Ice Height V006'}\n",
      "Spatial coverage: {'HorizontalSpatialDomain': {'Orbit': {'AscendingCrossing': 109.92257711693486, 'StartLatitude': 27.0, 'StartDirection': 'A', 'EndLatitude': 27.0, 'EndDirection': 'D'}}}\n",
      "Temporal coverage: {'RangeDateTime': {'BeginningDateTime': '2022-01-02T00:26:52.938Z', 'EndingDateTime': '2022-01-02T00:37:48.181Z'}}\n",
      "Size(MB): 270.19918727874756\n",
      "Data: ['https://data.nsidc.earthdatacloud.nasa.gov/nsidc-cumulus-prod-protected/ATLAS/ATL07/006/2022/01/02/ATL07-01_20220102000701_01641401_006_01.h5']]\n"
     ]
    },
    {
     "data": {
      "application/vnd.jupyter.widget-view+json": {
       "model_id": "69d6fc69e79e4afd8596e6993f87db38",
       "version_major": 2,
       "version_minor": 0
      },
      "text/plain": [
       "QUEUEING TASKS | :   0%|          | 0/1 [00:00<?, ?it/s]"
      ]
     },
     "metadata": {},
     "output_type": "display_data"
    },
    {
     "data": {
      "application/vnd.jupyter.widget-view+json": {
       "model_id": "455d4a77d3ae4763931b836cca42f269",
       "version_major": 2,
       "version_minor": 0
      },
      "text/plain": [
       "PROCESSING TASKS | :   0%|          | 0/1 [00:00<?, ?it/s]"
      ]
     },
     "metadata": {},
     "output_type": "display_data"
    },
    {
     "data": {
      "application/vnd.jupyter.widget-view+json": {
       "model_id": "c7584002516b4d0d871c610ccb857617",
       "version_major": 2,
       "version_minor": 0
      },
      "text/plain": [
       "COLLECTING RESULTS | :   0%|          | 0/1 [00:00<?, ?it/s]"
      ]
     },
     "metadata": {},
     "output_type": "display_data"
    },
    {
     "name": "stdout",
     "output_type": "stream",
     "text": [
      "\n",
      "Coincident S2 images: 0\n",
      "\n",
      "\n",
      "\n",
      "[Collection: {'EntryTitle': 'ATLAS/ICESat-2 L3A Sea Ice Height V006'}\n",
      "Spatial coverage: {'HorizontalSpatialDomain': {'Orbit': {'AscendingCrossing': -2.4650257425057203, 'StartLatitude': 27.0, 'StartDirection': 'A', 'EndLatitude': 27.0, 'EndDirection': 'D'}}}\n",
      "Temporal coverage: {'RangeDateTime': {'BeginningDateTime': '2022-01-03T07:52:07.715Z', 'EndingDateTime': '2022-01-03T07:59:05.568Z'}}\n",
      "Size(MB): 181.89953804016113\n",
      "Data: ['https://data.nsidc.earthdatacloud.nasa.gov/nsidc-cumulus-prod-protected/ATLAS/ATL07/006/2022/01/03/ATL07-01_20220103073249_01841401_006_01.h5']]\n"
     ]
    },
    {
     "data": {
      "application/vnd.jupyter.widget-view+json": {
       "model_id": "9400d09e469546339d75d1b375013fd8",
       "version_major": 2,
       "version_minor": 0
      },
      "text/plain": [
       "QUEUEING TASKS | :   0%|          | 0/1 [00:00<?, ?it/s]"
      ]
     },
     "metadata": {},
     "output_type": "display_data"
    },
    {
     "data": {
      "application/vnd.jupyter.widget-view+json": {
       "model_id": "49f0d8828589412cbaaccfce94ff2af2",
       "version_major": 2,
       "version_minor": 0
      },
      "text/plain": [
       "PROCESSING TASKS | :   0%|          | 0/1 [00:00<?, ?it/s]"
      ]
     },
     "metadata": {},
     "output_type": "display_data"
    },
    {
     "data": {
      "application/vnd.jupyter.widget-view+json": {
       "model_id": "674613badb484199a20f523384ccfe68",
       "version_major": 2,
       "version_minor": 0
      },
      "text/plain": [
       "COLLECTING RESULTS | :   0%|          | 0/1 [00:00<?, ?it/s]"
      ]
     },
     "metadata": {},
     "output_type": "display_data"
    },
    {
     "name": "stdout",
     "output_type": "stream",
     "text": [
      "\n",
      "Coincident S2 images: 0\n",
      "\n",
      "\n",
      "\n",
      "[Collection: {'EntryTitle': 'ATLAS/ICESat-2 L3A Sea Ice Height V006'}\n",
      "Spatial coverage: {'HorizontalSpatialDomain': {'Orbit': {'AscendingCrossing': 132.7633861650977, 'StartLatitude': 27.0, 'StartDirection': 'A', 'EndLatitude': 27.0, 'EndDirection': 'D'}}}\n",
      "Temporal coverage: {'RangeDateTime': {'BeginningDateTime': '2022-01-05T22:43:29.039Z', 'EndingDateTime': '2022-01-05T22:54:55.981Z'}}\n",
      "Size(MB): 305.8994674682617\n",
      "Data: ['https://data.nsidc.earthdatacloud.nasa.gov/nsidc-cumulus-prod-protected/ATLAS/ATL07/006/2022/01/05/ATL07-01_20220105222422_02241401_006_01.h5']]\n"
     ]
    },
    {
     "data": {
      "application/vnd.jupyter.widget-view+json": {
       "model_id": "718b9b2c36704b2a9f7bdaf1b46ff672",
       "version_major": 2,
       "version_minor": 0
      },
      "text/plain": [
       "QUEUEING TASKS | :   0%|          | 0/1 [00:00<?, ?it/s]"
      ]
     },
     "metadata": {},
     "output_type": "display_data"
    },
    {
     "data": {
      "application/vnd.jupyter.widget-view+json": {
       "model_id": "afaa7e980d874ee0913da6dc4d948ca2",
       "version_major": 2,
       "version_minor": 0
      },
      "text/plain": [
       "PROCESSING TASKS | :   0%|          | 0/1 [00:00<?, ?it/s]"
      ]
     },
     "metadata": {},
     "output_type": "display_data"
    },
    {
     "data": {
      "application/vnd.jupyter.widget-view+json": {
       "model_id": "e939083252fb4829897ee313d284107a",
       "version_major": 2,
       "version_minor": 0
      },
      "text/plain": [
       "COLLECTING RESULTS | :   0%|          | 0/1 [00:00<?, ?it/s]"
      ]
     },
     "metadata": {},
     "output_type": "display_data"
    },
    {
     "name": "stdout",
     "output_type": "stream",
     "text": [
      "\n",
      "Coincident S2 images: 0\n",
      "\n",
      "\n",
      "\n",
      "[Collection: {'EntryTitle': 'ATLAS/ICESat-2 L3A Sea Ice Height V006'}\n",
      "Spatial coverage: {'HorizontalSpatialDomain': {'Orbit': {'AscendingCrossing': 20.37427237475652, 'StartLatitude': 27.0, 'StartDirection': 'A', 'EndLatitude': 27.0, 'EndDirection': 'D'}}}\n",
      "Temporal coverage: {'RangeDateTime': {'BeginningDateTime': '2022-01-07T06:11:20.518Z', 'EndingDateTime': '2022-01-07T06:22:09.236Z'}}\n",
      "Size(MB): 513.4228954315186\n",
      "Data: ['https://data.nsidc.earthdatacloud.nasa.gov/nsidc-cumulus-prod-protected/ATLAS/ATL07/006/2022/01/07/ATL07-01_20220107055013_02441401_006_01.h5']]\n"
     ]
    },
    {
     "data": {
      "application/vnd.jupyter.widget-view+json": {
       "model_id": "cb93e433f43e4a8d91ec46e61a229ddc",
       "version_major": 2,
       "version_minor": 0
      },
      "text/plain": [
       "QUEUEING TASKS | :   0%|          | 0/1 [00:00<?, ?it/s]"
      ]
     },
     "metadata": {},
     "output_type": "display_data"
    },
    {
     "data": {
      "application/vnd.jupyter.widget-view+json": {
       "model_id": "c0db10c2cb2d4fb9bea1a22e4ac12d3a",
       "version_major": 2,
       "version_minor": 0
      },
      "text/plain": [
       "PROCESSING TASKS | :   0%|          | 0/1 [00:00<?, ?it/s]"
      ]
     },
     "metadata": {},
     "output_type": "display_data"
    },
    {
     "data": {
      "application/vnd.jupyter.widget-view+json": {
       "model_id": "8def40a3e21a472d82f0bd529332a9f6",
       "version_major": 2,
       "version_minor": 0
      },
      "text/plain": [
       "COLLECTING RESULTS | :   0%|          | 0/1 [00:00<?, ?it/s]"
      ]
     },
     "metadata": {},
     "output_type": "display_data"
    },
    {
     "name": "stdout",
     "output_type": "stream",
     "text": [
      "\n",
      "Coincident S2 images: 0\n",
      "\n",
      "\n",
      "\n",
      "[Collection: {'EntryTitle': 'ATLAS/ICESat-2 L3A Sea Ice Height V006'}\n",
      "Spatial coverage: {'HorizontalSpatialDomain': {'Orbit': {'AscendingCrossing': -92.00866695439906, 'StartLatitude': 27.0, 'StartDirection': 'A', 'EndLatitude': 27.0, 'EndDirection': 'D'}}}\n",
      "Temporal coverage: {'RangeDateTime': {'BeginningDateTime': '2022-01-08T13:33:42.068Z', 'EndingDateTime': '2022-01-08T13:43:12.885Z'}}\n",
      "Size(MB): 308.00392055511475\n",
      "Data: ['https://data.nsidc.earthdatacloud.nasa.gov/nsidc-cumulus-prod-protected/ATLAS/ATL07/006/2022/01/08/ATL07-01_20220108131601_02641401_006_01.h5']]\n"
     ]
    },
    {
     "data": {
      "application/vnd.jupyter.widget-view+json": {
       "model_id": "08ec3fe21439427abb50cbd5d50335e9",
       "version_major": 2,
       "version_minor": 0
      },
      "text/plain": [
       "QUEUEING TASKS | :   0%|          | 0/1 [00:00<?, ?it/s]"
      ]
     },
     "metadata": {},
     "output_type": "display_data"
    },
    {
     "data": {
      "application/vnd.jupyter.widget-view+json": {
       "model_id": "17e58cc0080645a5936e638500b328db",
       "version_major": 2,
       "version_minor": 0
      },
      "text/plain": [
       "PROCESSING TASKS | :   0%|          | 0/1 [00:00<?, ?it/s]"
      ]
     },
     "metadata": {},
     "output_type": "display_data"
    },
    {
     "data": {
      "application/vnd.jupyter.widget-view+json": {
       "model_id": "9b0deb19c5c14db995e7229cc2d952a1",
       "version_major": 2,
       "version_minor": 0
      },
      "text/plain": [
       "COLLECTING RESULTS | :   0%|          | 0/1 [00:00<?, ?it/s]"
      ]
     },
     "metadata": {},
     "output_type": "display_data"
    },
    {
     "name": "stdout",
     "output_type": "stream",
     "text": [
      "\n",
      "Coincident S2 images: 0\n",
      "\n",
      "\n",
      "\n",
      "[Collection: {'EntryTitle': 'ATLAS/ICESat-2 L3A Sea Ice Height V006'}\n",
      "Spatial coverage: {'HorizontalSpatialDomain': {'Orbit': {'AscendingCrossing': 43.21446009550329, 'StartLatitude': 27.0, 'StartDirection': 'A', 'EndLatitude': 27.0, 'EndDirection': 'D'}}}\n",
      "Temporal coverage: {'RangeDateTime': {'BeginningDateTime': '2022-01-11T04:24:26.918Z', 'EndingDateTime': '2022-01-11T04:36:34.470Z'}}\n",
      "Size(MB): 240.44568061828613\n",
      "Data: ['https://data.nsidc.earthdatacloud.nasa.gov/nsidc-cumulus-prod-protected/ATLAS/ATL07/006/2022/01/11/ATL07-01_20220111040736_03041401_006_01.h5']]\n"
     ]
    },
    {
     "data": {
      "application/vnd.jupyter.widget-view+json": {
       "model_id": "5e916dbc3db84198880963d526cece86",
       "version_major": 2,
       "version_minor": 0
      },
      "text/plain": [
       "QUEUEING TASKS | :   0%|          | 0/1 [00:00<?, ?it/s]"
      ]
     },
     "metadata": {},
     "output_type": "display_data"
    },
    {
     "data": {
      "application/vnd.jupyter.widget-view+json": {
       "model_id": "5b3fcd8d592f42a0943259ddac14f1eb",
       "version_major": 2,
       "version_minor": 0
      },
      "text/plain": [
       "PROCESSING TASKS | :   0%|          | 0/1 [00:00<?, ?it/s]"
      ]
     },
     "metadata": {},
     "output_type": "display_data"
    },
    {
     "data": {
      "application/vnd.jupyter.widget-view+json": {
       "model_id": "0ec95a83a3ed4dedb285eb323c0d3d6a",
       "version_major": 2,
       "version_minor": 0
      },
      "text/plain": [
       "COLLECTING RESULTS | :   0%|          | 0/1 [00:00<?, ?it/s]"
      ]
     },
     "metadata": {},
     "output_type": "display_data"
    },
    {
     "name": "stdout",
     "output_type": "stream",
     "text": [
      "\n",
      "Coincident S2 images: 0\n",
      "\n",
      "\n",
      "\n",
      "[Collection: {'EntryTitle': 'ATLAS/ICESat-2 L3A Sea Ice Height V006'}\n",
      "Spatial coverage: {'HorizontalSpatialDomain': {'Orbit': {'AscendingCrossing': -69.16877345029691, 'StartLatitude': 27.0, 'StartDirection': 'A', 'EndLatitude': 27.0, 'EndDirection': 'D'}}}\n",
      "Temporal coverage: {'RangeDateTime': {'BeginningDateTime': '2022-01-12T11:49:43.777Z', 'EndingDateTime': '2022-01-12T12:01:12.022Z'}}\n",
      "Size(MB): 325.9285182952881\n",
      "Data: ['https://data.nsidc.earthdatacloud.nasa.gov/nsidc-cumulus-prod-protected/ATLAS/ATL07/006/2022/01/12/ATL07-01_20220112113324_03241401_006_01.h5']]\n"
     ]
    },
    {
     "data": {
      "application/vnd.jupyter.widget-view+json": {
       "model_id": "2e834050ca5a4fa1b0c7e48eefa582a8",
       "version_major": 2,
       "version_minor": 0
      },
      "text/plain": [
       "QUEUEING TASKS | :   0%|          | 0/1 [00:00<?, ?it/s]"
      ]
     },
     "metadata": {},
     "output_type": "display_data"
    },
    {
     "data": {
      "application/vnd.jupyter.widget-view+json": {
       "model_id": "878619259ce24117ac9c65e10adbafcc",
       "version_major": 2,
       "version_minor": 0
      },
      "text/plain": [
       "PROCESSING TASKS | :   0%|          | 0/1 [00:00<?, ?it/s]"
      ]
     },
     "metadata": {},
     "output_type": "display_data"
    },
    {
     "data": {
      "application/vnd.jupyter.widget-view+json": {
       "model_id": "aa13f815b9fb4777a3dbb221b54f8eba",
       "version_major": 2,
       "version_minor": 0
      },
      "text/plain": [
       "COLLECTING RESULTS | :   0%|          | 0/1 [00:00<?, ?it/s]"
      ]
     },
     "metadata": {},
     "output_type": "display_data"
    },
    {
     "name": "stdout",
     "output_type": "stream",
     "text": [
      "\n",
      "Coincident S2 images: 0\n",
      "\n",
      "\n",
      "\n",
      "[Collection: {'EntryTitle': 'ATLAS/ICESat-2 L3A Sea Ice Height V006'}\n",
      "Spatial coverage: {'HorizontalSpatialDomain': {'Orbit': {'AscendingCrossing': 66.05536448643825, 'StartLatitude': 27.0, 'StartDirection': 'A', 'EndLatitude': 27.0, 'EndDirection': 'D'}}}\n",
      "Temporal coverage: {'RangeDateTime': {'BeginningDateTime': '2022-01-15T02:42:55.596Z', 'EndingDateTime': '2022-01-15T02:54:05.035Z'}}\n",
      "Size(MB): 316.01069259643555\n",
      "Data: ['https://data.nsidc.earthdatacloud.nasa.gov/nsidc-cumulus-prod-protected/ATLAS/ATL07/006/2022/01/15/ATL07-01_20220115022500_03641401_006_01.h5']]\n"
     ]
    },
    {
     "data": {
      "application/vnd.jupyter.widget-view+json": {
       "model_id": "940e5cb63a11445b8c4af6d91e1aefff",
       "version_major": 2,
       "version_minor": 0
      },
      "text/plain": [
       "QUEUEING TASKS | :   0%|          | 0/1 [00:00<?, ?it/s]"
      ]
     },
     "metadata": {},
     "output_type": "display_data"
    },
    {
     "data": {
      "application/vnd.jupyter.widget-view+json": {
       "model_id": "8631413fea8c407c8b3c8b5dd6af2bc5",
       "version_major": 2,
       "version_minor": 0
      },
      "text/plain": [
       "PROCESSING TASKS | :   0%|          | 0/1 [00:00<?, ?it/s]"
      ]
     },
     "metadata": {},
     "output_type": "display_data"
    },
    {
     "data": {
      "application/vnd.jupyter.widget-view+json": {
       "model_id": "ef334d805b2341d4a717c3cd906e9207",
       "version_major": 2,
       "version_minor": 0
      },
      "text/plain": [
       "COLLECTING RESULTS | :   0%|          | 0/1 [00:00<?, ?it/s]"
      ]
     },
     "metadata": {},
     "output_type": "display_data"
    },
    {
     "name": "stdout",
     "output_type": "stream",
     "text": [
      "\n",
      "Coincident S2 images: 0\n",
      "\n",
      "\n",
      "\n",
      "[Collection: {'EntryTitle': 'ATLAS/ICESat-2 L3A Sea Ice Height V006'}\n",
      "Spatial coverage: {'HorizontalSpatialDomain': {'Orbit': {'AscendingCrossing': -46.32830391122762, 'StartLatitude': 27.0, 'StartDirection': 'A', 'EndLatitude': 27.0, 'EndDirection': 'D'}}}\n",
      "Temporal coverage: {'RangeDateTime': {'BeginningDateTime': '2022-01-16T10:09:06.066Z', 'EndingDateTime': '2022-01-16T10:19:16.697Z'}}\n",
      "Size(MB): 432.78134536743164\n",
      "Data: ['https://data.nsidc.earthdatacloud.nasa.gov/nsidc-cumulus-prod-protected/ATLAS/ATL07/006/2022/01/16/ATL07-01_20220116095048_03841401_006_01.h5']]\n"
     ]
    },
    {
     "data": {
      "application/vnd.jupyter.widget-view+json": {
       "model_id": "5111414541ec4ccc9ea9a1e922b9c5c8",
       "version_major": 2,
       "version_minor": 0
      },
      "text/plain": [
       "QUEUEING TASKS | :   0%|          | 0/1 [00:00<?, ?it/s]"
      ]
     },
     "metadata": {},
     "output_type": "display_data"
    },
    {
     "data": {
      "application/vnd.jupyter.widget-view+json": {
       "model_id": "27438ff5f9034ee095ae0464318703fa",
       "version_major": 2,
       "version_minor": 0
      },
      "text/plain": [
       "PROCESSING TASKS | :   0%|          | 0/1 [00:00<?, ?it/s]"
      ]
     },
     "metadata": {},
     "output_type": "display_data"
    },
    {
     "data": {
      "application/vnd.jupyter.widget-view+json": {
       "model_id": "763d00b943554449bdf4b1407d0d5377",
       "version_major": 2,
       "version_minor": 0
      },
      "text/plain": [
       "COLLECTING RESULTS | :   0%|          | 0/1 [00:00<?, ?it/s]"
      ]
     },
     "metadata": {},
     "output_type": "display_data"
    },
    {
     "name": "stdout",
     "output_type": "stream",
     "text": [
      "\n",
      "Coincident S2 images: 0\n",
      "\n",
      "\n",
      "\n",
      "[Collection: {'EntryTitle': 'ATLAS/ICESat-2 L3A Sea Ice Height V006'}\n",
      "Spatial coverage: {'HorizontalSpatialDomain': {'Orbit': {'AscendingCrossing': -158.71397581922898, 'StartLatitude': 27.0, 'StartDirection': 'A', 'EndLatitude': 27.0, 'EndDirection': 'D'}}}\n",
      "Temporal coverage: {'RangeDateTime': {'BeginningDateTime': '2022-01-17T17:32:04.415Z', 'EndingDateTime': '2022-01-17T17:48:31.397Z'}}\n",
      "Size(MB): 358.01323795318604\n",
      "Data: ['https://data.nsidc.earthdatacloud.nasa.gov/nsidc-cumulus-prod-protected/ATLAS/ATL07/006/2022/01/17/ATL07-01_20220117171635_04041401_006_01.h5']]\n"
     ]
    },
    {
     "data": {
      "application/vnd.jupyter.widget-view+json": {
       "model_id": "a592f30932094b61922ff86ad3fbbafb",
       "version_major": 2,
       "version_minor": 0
      },
      "text/plain": [
       "QUEUEING TASKS | :   0%|          | 0/1 [00:00<?, ?it/s]"
      ]
     },
     "metadata": {},
     "output_type": "display_data"
    },
    {
     "data": {
      "application/vnd.jupyter.widget-view+json": {
       "model_id": "44f500180d684c8fa576053b9a098066",
       "version_major": 2,
       "version_minor": 0
      },
      "text/plain": [
       "PROCESSING TASKS | :   0%|          | 0/1 [00:00<?, ?it/s]"
      ]
     },
     "metadata": {},
     "output_type": "display_data"
    },
    {
     "data": {
      "application/vnd.jupyter.widget-view+json": {
       "model_id": "536ab10f2ee04778947c0e4fc000f1b7",
       "version_major": 2,
       "version_minor": 0
      },
      "text/plain": [
       "COLLECTING RESULTS | :   0%|          | 0/1 [00:00<?, ?it/s]"
      ]
     },
     "metadata": {},
     "output_type": "display_data"
    },
    {
     "name": "stdout",
     "output_type": "stream",
     "text": [
      "\n",
      "Coincident S2 images: 0\n",
      "\n",
      "\n",
      "\n",
      "[Collection: {'EntryTitle': 'ATLAS/ICESat-2 L3A Sea Ice Height V006'}\n",
      "Spatial coverage: {'HorizontalSpatialDomain': {'Orbit': {'AscendingCrossing': -135.8730524728088, 'StartLatitude': 27.0, 'StartDirection': 'A', 'EndLatitude': 27.0, 'EndDirection': 'D'}}}\n",
      "Temporal coverage: {'RangeDateTime': {'BeginningDateTime': '2022-01-21T15:52:16.133Z', 'EndingDateTime': '2022-01-21T16:03:43.386Z'}}\n",
      "Size(MB): 388.17865562438965\n",
      "Data: ['https://data.nsidc.earthdatacloud.nasa.gov/nsidc-cumulus-prod-protected/ATLAS/ATL07/006/2022/01/21/ATL07-01_20220121153357_04641401_006_01.h5']]\n"
     ]
    },
    {
     "data": {
      "application/vnd.jupyter.widget-view+json": {
       "model_id": "e3cb2f59207f4380b214a74ea9228acf",
       "version_major": 2,
       "version_minor": 0
      },
      "text/plain": [
       "QUEUEING TASKS | :   0%|          | 0/1 [00:00<?, ?it/s]"
      ]
     },
     "metadata": {},
     "output_type": "display_data"
    },
    {
     "data": {
      "application/vnd.jupyter.widget-view+json": {
       "model_id": "0d8324a54471400c9f5324bb5fdbac4c",
       "version_major": 2,
       "version_minor": 0
      },
      "text/plain": [
       "PROCESSING TASKS | :   0%|          | 0/1 [00:00<?, ?it/s]"
      ]
     },
     "metadata": {},
     "output_type": "display_data"
    },
    {
     "data": {
      "application/vnd.jupyter.widget-view+json": {
       "model_id": "232dcb78818c40cdb396674f44b9812a",
       "version_major": 2,
       "version_minor": 0
      },
      "text/plain": [
       "COLLECTING RESULTS | :   0%|          | 0/1 [00:00<?, ?it/s]"
      ]
     },
     "metadata": {},
     "output_type": "display_data"
    },
    {
     "name": "stdout",
     "output_type": "stream",
     "text": [
      "\n",
      "Coincident S2 images: 0\n",
      "\n",
      "\n",
      "\n",
      "[Collection: {'EntryTitle': 'ATLAS/ICESat-2 L3A Sea Ice Height V006'}\n",
      "Spatial coverage: {'HorizontalSpatialDomain': {'Orbit': {'AscendingCrossing': 22.191143117261607, 'StartLatitude': 27.0, 'StartDirection': 'A', 'EndLatitude': 27.0, 'EndDirection': 'D'}}}\n",
      "Temporal coverage: {'RangeDateTime': {'BeginningDateTime': '2022-01-28T05:04:01.959Z', 'EndingDateTime': '2022-01-28T05:14:50.567Z'}}\n",
      "Size(MB): 363.1428575515747\n",
      "Data: ['https://data.nsidc.earthdatacloud.nasa.gov/nsidc-cumulus-prod-protected/ATLAS/ATL07/006/2022/01/28/ATL07-01_20220128044255_05641401_006_01.h5']]\n"
     ]
    },
    {
     "data": {
      "application/vnd.jupyter.widget-view+json": {
       "model_id": "6f8bfc8928794b62b364ed2706318228",
       "version_major": 2,
       "version_minor": 0
      },
      "text/plain": [
       "QUEUEING TASKS | :   0%|          | 0/1 [00:00<?, ?it/s]"
      ]
     },
     "metadata": {},
     "output_type": "display_data"
    },
    {
     "data": {
      "application/vnd.jupyter.widget-view+json": {
       "model_id": "6f0c33d1f68f4e37aef979b9e899d781",
       "version_major": 2,
       "version_minor": 0
      },
      "text/plain": [
       "PROCESSING TASKS | :   0%|          | 0/1 [00:00<?, ?it/s]"
      ]
     },
     "metadata": {},
     "output_type": "display_data"
    },
    {
     "data": {
      "application/vnd.jupyter.widget-view+json": {
       "model_id": "24b6e99c5978434aa3a68f47fb8cb676",
       "version_major": 2,
       "version_minor": 0
      },
      "text/plain": [
       "COLLECTING RESULTS | :   0%|          | 0/1 [00:00<?, ?it/s]"
      ]
     },
     "metadata": {},
     "output_type": "display_data"
    },
    {
     "name": "stdout",
     "output_type": "stream",
     "text": [
      "\n",
      "Coincident S2 images: 0\n",
      "\n",
      "\n",
      "\n",
      "[Collection: {'EntryTitle': 'ATLAS/ICESat-2 L3A Sea Ice Height V006'}\n",
      "Spatial coverage: {'HorizontalSpatialDomain': {'Orbit': {'AscendingCrossing': 45.03123239555994, 'StartLatitude': 27.0, 'StartDirection': 'A', 'EndLatitude': 27.0, 'EndDirection': 'D'}}}\n",
      "Temporal coverage: {'RangeDateTime': {'BeginningDateTime': '2022-02-01T03:17:27.110Z', 'EndingDateTime': '2022-02-01T03:29:20.696Z'}}\n",
      "Size(MB): 365.0886478424072\n",
      "Data: ['https://data.nsidc.earthdatacloud.nasa.gov/nsidc-cumulus-prod-protected/ATLAS/ATL07/006/2022/02/01/ATL07-01_20220201030018_06241401_006_01.h5']]\n"
     ]
    },
    {
     "data": {
      "application/vnd.jupyter.widget-view+json": {
       "model_id": "e5b7fbc248c34fd3b92eac85c2fc73cc",
       "version_major": 2,
       "version_minor": 0
      },
      "text/plain": [
       "QUEUEING TASKS | :   0%|          | 0/1 [00:00<?, ?it/s]"
      ]
     },
     "metadata": {},
     "output_type": "display_data"
    },
    {
     "data": {
      "application/vnd.jupyter.widget-view+json": {
       "model_id": "12eac603475f4982a70a5a7778e100bc",
       "version_major": 2,
       "version_minor": 0
      },
      "text/plain": [
       "PROCESSING TASKS | :   0%|          | 0/1 [00:00<?, ?it/s]"
      ]
     },
     "metadata": {},
     "output_type": "display_data"
    },
    {
     "data": {
      "application/vnd.jupyter.widget-view+json": {
       "model_id": "94cf758344d946d7868cf57491f91f03",
       "version_major": 2,
       "version_minor": 0
      },
      "text/plain": [
       "COLLECTING RESULTS | :   0%|          | 0/1 [00:00<?, ?it/s]"
      ]
     },
     "metadata": {},
     "output_type": "display_data"
    },
    {
     "name": "stdout",
     "output_type": "stream",
     "text": [
      "\n",
      "Coincident S2 images: 0\n",
      "\n",
      "\n",
      "\n",
      "[Collection: {'EntryTitle': 'ATLAS/ICESat-2 L3A Sea Ice Height V006'}\n",
      "Spatial coverage: {'HorizontalSpatialDomain': {'Orbit': {'AscendingCrossing': -67.35195346972937, 'StartLatitude': 27.0, 'StartDirection': 'A', 'EndLatitude': 27.0, 'EndDirection': 'D'}}}\n",
      "Temporal coverage: {'RangeDateTime': {'BeginningDateTime': '2022-02-02T10:42:20.370Z', 'EndingDateTime': '2022-02-02T10:53:51.617Z'}}\n",
      "Size(MB): 260.1442070007324\n",
      "Data: ['https://data.nsidc.earthdatacloud.nasa.gov/nsidc-cumulus-prod-protected/ATLAS/ATL07/006/2022/02/02/ATL07-01_20220202102604_06441401_006_01.h5']]\n"
     ]
    },
    {
     "data": {
      "application/vnd.jupyter.widget-view+json": {
       "model_id": "260a1792bda547b68e490c7abbd4f38f",
       "version_major": 2,
       "version_minor": 0
      },
      "text/plain": [
       "QUEUEING TASKS | :   0%|          | 0/1 [00:00<?, ?it/s]"
      ]
     },
     "metadata": {},
     "output_type": "display_data"
    },
    {
     "data": {
      "application/vnd.jupyter.widget-view+json": {
       "model_id": "c1a25227a6554a1ea289df906d2d900e",
       "version_major": 2,
       "version_minor": 0
      },
      "text/plain": [
       "PROCESSING TASKS | :   0%|          | 0/1 [00:00<?, ?it/s]"
      ]
     },
     "metadata": {},
     "output_type": "display_data"
    },
    {
     "data": {
      "application/vnd.jupyter.widget-view+json": {
       "model_id": "4dbee6e4369a4b568cc050714583ee47",
       "version_major": 2,
       "version_minor": 0
      },
      "text/plain": [
       "COLLECTING RESULTS | :   0%|          | 0/1 [00:00<?, ?it/s]"
      ]
     },
     "metadata": {},
     "output_type": "display_data"
    },
    {
     "name": "stdout",
     "output_type": "stream",
     "text": [
      "\n",
      "Coincident S2 images: 0\n",
      "\n",
      "\n",
      "\n",
      "[Collection: {'EntryTitle': 'ATLAS/ICESat-2 L3A Sea Ice Height V006'}\n",
      "Spatial coverage: {'HorizontalSpatialDomain': {'Orbit': {'AscendingCrossing': -179.73865046177644, 'StartLatitude': 27.0, 'StartDirection': 'A', 'EndLatitude': 27.0, 'EndDirection': 'D'}}}\n",
      "Temporal coverage: {'RangeDateTime': {'BeginningDateTime': '2022-02-03T18:07:48.872Z', 'EndingDateTime': '2022-02-03T18:17:32.702Z'}}\n",
      "Size(MB): 261.19581031799316\n",
      "Data: ['https://data.nsidc.earthdatacloud.nasa.gov/nsidc-cumulus-prod-protected/ATLAS/ATL07/006/2022/02/03/ATL07-01_20220203175152_06641401_006_01.h5']]\n"
     ]
    },
    {
     "data": {
      "application/vnd.jupyter.widget-view+json": {
       "model_id": "bcf091a9334b481cb75bc587f2850b2b",
       "version_major": 2,
       "version_minor": 0
      },
      "text/plain": [
       "QUEUEING TASKS | :   0%|          | 0/1 [00:00<?, ?it/s]"
      ]
     },
     "metadata": {},
     "output_type": "display_data"
    },
    {
     "data": {
      "application/vnd.jupyter.widget-view+json": {
       "model_id": "d6f9e858b9fe4667b7eb2fff304a0c8a",
       "version_major": 2,
       "version_minor": 0
      },
      "text/plain": [
       "PROCESSING TASKS | :   0%|          | 0/1 [00:00<?, ?it/s]"
      ]
     },
     "metadata": {},
     "output_type": "display_data"
    },
    {
     "data": {
      "application/vnd.jupyter.widget-view+json": {
       "model_id": "e192bf11687944c1af149e749371ab4a",
       "version_major": 2,
       "version_minor": 0
      },
      "text/plain": [
       "COLLECTING RESULTS | :   0%|          | 0/1 [00:00<?, ?it/s]"
      ]
     },
     "metadata": {},
     "output_type": "display_data"
    },
    {
     "name": "stdout",
     "output_type": "stream",
     "text": [
      "\n",
      "Coincident S2 images: 0\n",
      "\n",
      "\n",
      "\n",
      "[Collection: {'EntryTitle': 'ATLAS/ICESat-2 L3A Sea Ice Height V006'}\n",
      "Spatial coverage: {'HorizontalSpatialDomain': {'Orbit': {'AscendingCrossing': -156.89709457859874, 'StartLatitude': 27.0, 'StartDirection': 'A', 'EndLatitude': 27.0, 'EndDirection': 'D'}}}\n",
      "Temporal coverage: {'RangeDateTime': {'BeginningDateTime': '2022-02-07T16:24:15.633Z', 'EndingDateTime': '2022-02-07T16:36:28.648Z'}}\n",
      "Size(MB): 320.4407615661621\n",
      "Data: ['https://data.nsidc.earthdatacloud.nasa.gov/nsidc-cumulus-prod-protected/ATLAS/ATL07/006/2022/02/07/ATL07-01_20220207160915_07241401_006_01.h5']]\n"
     ]
    },
    {
     "data": {
      "application/vnd.jupyter.widget-view+json": {
       "model_id": "f96b0aa774dd4c45bb9d429c4cbd70aa",
       "version_major": 2,
       "version_minor": 0
      },
      "text/plain": [
       "QUEUEING TASKS | :   0%|          | 0/1 [00:00<?, ?it/s]"
      ]
     },
     "metadata": {},
     "output_type": "display_data"
    },
    {
     "data": {
      "application/vnd.jupyter.widget-view+json": {
       "model_id": "617b1b0200474f7d8ebe635182c9fcdd",
       "version_major": 2,
       "version_minor": 0
      },
      "text/plain": [
       "PROCESSING TASKS | :   0%|          | 0/1 [00:00<?, ?it/s]"
      ]
     },
     "metadata": {},
     "output_type": "display_data"
    },
    {
     "data": {
      "application/vnd.jupyter.widget-view+json": {
       "model_id": "605de2a705304940a5f17ef9790f4a0c",
       "version_major": 2,
       "version_minor": 0
      },
      "text/plain": [
       "COLLECTING RESULTS | :   0%|          | 0/1 [00:00<?, ?it/s]"
      ]
     },
     "metadata": {},
     "output_type": "display_data"
    },
    {
     "name": "stdout",
     "output_type": "stream",
     "text": [
      "\n",
      "Coincident S2 images: 0\n",
      "\n",
      "\n",
      "\n",
      "[Collection: {'EntryTitle': 'ATLAS/ICESat-2 L3A Sea Ice Height V006'}\n",
      "Spatial coverage: {'HorizontalSpatialDomain': {'Orbit': {'AscendingCrossing': -21.67086288816141, 'StartLatitude': 27.0, 'StartDirection': 'A', 'EndLatitude': 27.0, 'EndDirection': 'D'}}}\n",
      "Temporal coverage: {'RangeDateTime': {'BeginningDateTime': '2022-02-10T07:18:15.812Z', 'EndingDateTime': '2022-02-10T07:29:19.834Z'}}\n",
      "Size(MB): 292.14659309387207\n",
      "Data: ['https://data.nsidc.earthdatacloud.nasa.gov/nsidc-cumulus-prod-protected/ATLAS/ATL07/006/2022/02/10/ATL07-01_20220210070049_07641401_006_01.h5']]\n"
     ]
    },
    {
     "data": {
      "application/vnd.jupyter.widget-view+json": {
       "model_id": "3c0f3e8c50584b0aa49114ee8eaafbc5",
       "version_major": 2,
       "version_minor": 0
      },
      "text/plain": [
       "QUEUEING TASKS | :   0%|          | 0/1 [00:00<?, ?it/s]"
      ]
     },
     "metadata": {},
     "output_type": "display_data"
    },
    {
     "data": {
      "application/vnd.jupyter.widget-view+json": {
       "model_id": "8db51e5220cd4ab2a50e167db149cb1f",
       "version_major": 2,
       "version_minor": 0
      },
      "text/plain": [
       "PROCESSING TASKS | :   0%|          | 0/1 [00:00<?, ?it/s]"
      ]
     },
     "metadata": {},
     "output_type": "display_data"
    },
    {
     "data": {
      "application/vnd.jupyter.widget-view+json": {
       "model_id": "13da6a8d7c024b27b468e28ea2267aab",
       "version_major": 2,
       "version_minor": 0
      },
      "text/plain": [
       "COLLECTING RESULTS | :   0%|          | 0/1 [00:00<?, ?it/s]"
      ]
     },
     "metadata": {},
     "output_type": "display_data"
    },
    {
     "name": "stdout",
     "output_type": "stream",
     "text": [
      "\n",
      "Coincident S2 images: 0\n",
      "\n",
      "\n",
      "\n",
      "[Collection: {'EntryTitle': 'ATLAS/ICESat-2 L3A Sea Ice Height V006'}\n",
      "Spatial coverage: {'HorizontalSpatialDomain': {'Orbit': {'AscendingCrossing': 46.84824699500504, 'StartLatitude': 27.0, 'StartDirection': 'A', 'EndLatitude': 27.0, 'EndDirection': 'D'}}}\n",
      "Temporal coverage: {'RangeDateTime': {'BeginningDateTime': '2022-02-22T02:13:15.602Z', 'EndingDateTime': '2022-02-22T02:21:59.756Z'}}\n",
      "Size(MB): 332.28748416900635\n",
      "Data: ['https://data.nsidc.earthdatacloud.nasa.gov/nsidc-cumulus-prod-protected/ATLAS/ATL07/006/2022/02/22/ATL07-01_20220222015302_09441401_006_01.h5']]\n"
     ]
    },
    {
     "data": {
      "application/vnd.jupyter.widget-view+json": {
       "model_id": "212fcb4de30f446a932ef4a97258a00b",
       "version_major": 2,
       "version_minor": 0
      },
      "text/plain": [
       "QUEUEING TASKS | :   0%|          | 0/1 [00:00<?, ?it/s]"
      ]
     },
     "metadata": {},
     "output_type": "display_data"
    },
    {
     "data": {
      "application/vnd.jupyter.widget-view+json": {
       "model_id": "54b4a4ce745547b681f8d44ff48dff0e",
       "version_major": 2,
       "version_minor": 0
      },
      "text/plain": [
       "PROCESSING TASKS | :   0%|          | 0/1 [00:00<?, ?it/s]"
      ]
     },
     "metadata": {},
     "output_type": "display_data"
    },
    {
     "data": {
      "application/vnd.jupyter.widget-view+json": {
       "model_id": "7995730481b34b37bdf626de4aaa3ccb",
       "version_major": 2,
       "version_minor": 0
      },
      "text/plain": [
       "COLLECTING RESULTS | :   0%|          | 0/1 [00:00<?, ?it/s]"
      ]
     },
     "metadata": {},
     "output_type": "display_data"
    },
    {
     "name": "stdout",
     "output_type": "stream",
     "text": [
      "\n",
      "Coincident S2 images: 0\n",
      "\n",
      "\n",
      "\n",
      "[Collection: {'EntryTitle': 'ATLAS/ICESat-2 L3A Sea Ice Height V006'}\n",
      "Spatial coverage: {'HorizontalSpatialDomain': {'Orbit': {'AscendingCrossing': -65.53494208204874, 'StartLatitude': 27.0, 'StartDirection': 'A', 'EndLatitude': 27.0, 'EndDirection': 'D'}}}\n",
      "Temporal coverage: {'RangeDateTime': {'BeginningDateTime': '2022-02-23T09:35:06.070Z', 'EndingDateTime': '2022-02-23T09:46:41.749Z'}}\n",
      "Size(MB): 381.71499156951904\n",
      "Data: ['https://data.nsidc.earthdatacloud.nasa.gov/nsidc-cumulus-prod-protected/ATLAS/ATL07/006/2022/02/23/ATL07-01_20220223091849_09641401_006_01.h5']]\n"
     ]
    },
    {
     "data": {
      "application/vnd.jupyter.widget-view+json": {
       "model_id": "a0fc3bfd3a1b4cf4908220426d4cd7ae",
       "version_major": 2,
       "version_minor": 0
      },
      "text/plain": [
       "QUEUEING TASKS | :   0%|          | 0/1 [00:00<?, ?it/s]"
      ]
     },
     "metadata": {},
     "output_type": "display_data"
    },
    {
     "data": {
      "application/vnd.jupyter.widget-view+json": {
       "model_id": "64476417e9f6419abb40d936c6a1ac71",
       "version_major": 2,
       "version_minor": 0
      },
      "text/plain": [
       "PROCESSING TASKS | :   0%|          | 0/1 [00:00<?, ?it/s]"
      ]
     },
     "metadata": {},
     "output_type": "display_data"
    },
    {
     "data": {
      "application/vnd.jupyter.widget-view+json": {
       "model_id": "4903c230a4bb44d495e344b522b6951e",
       "version_major": 2,
       "version_minor": 0
      },
      "text/plain": [
       "COLLECTING RESULTS | :   0%|          | 0/1 [00:00<?, ?it/s]"
      ]
     },
     "metadata": {},
     "output_type": "display_data"
    },
    {
     "name": "stdout",
     "output_type": "stream",
     "text": [
      "\n",
      "Coincident S2 images: 0\n",
      "\n",
      "\n",
      "\n",
      "[Collection: {'EntryTitle': 'ATLAS/ICESat-2 L3A Sea Ice Height V006'}\n",
      "Spatial coverage: {'HorizontalSpatialDomain': {'Orbit': {'AscendingCrossing': -177.92167501224026, 'StartLatitude': 27.0, 'StartDirection': 'A', 'EndLatitude': 27.0, 'EndDirection': 'D'}}}\n",
      "Temporal coverage: {'RangeDateTime': {'BeginningDateTime': '2022-02-24T17:05:33.504Z', 'EndingDateTime': '2022-02-24T17:17:01.241Z'}}\n",
      "Size(MB): 241.1123752593994\n",
      "Data: ['https://data.nsidc.earthdatacloud.nasa.gov/nsidc-cumulus-prod-protected/ATLAS/ATL07/006/2022/02/24/ATL07-01_20220224164442_09841401_006_01.h5']]\n"
     ]
    },
    {
     "data": {
      "application/vnd.jupyter.widget-view+json": {
       "model_id": "eea2e454ccf44febae3df56a2bffa2e3",
       "version_major": 2,
       "version_minor": 0
      },
      "text/plain": [
       "QUEUEING TASKS | :   0%|          | 0/1 [00:00<?, ?it/s]"
      ]
     },
     "metadata": {},
     "output_type": "display_data"
    },
    {
     "data": {
      "application/vnd.jupyter.widget-view+json": {
       "model_id": "487ade0db1e7411f8d8ece4d17eee83a",
       "version_major": 2,
       "version_minor": 0
      },
      "text/plain": [
       "PROCESSING TASKS | :   0%|          | 0/1 [00:00<?, ?it/s]"
      ]
     },
     "metadata": {},
     "output_type": "display_data"
    },
    {
     "data": {
      "application/vnd.jupyter.widget-view+json": {
       "model_id": "cddf68d28a0c43838a388a50cd6cd05d",
       "version_major": 2,
       "version_minor": 0
      },
      "text/plain": [
       "COLLECTING RESULTS | :   0%|          | 0/1 [00:00<?, ?it/s]"
      ]
     },
     "metadata": {},
     "output_type": "display_data"
    },
    {
     "name": "stdout",
     "output_type": "stream",
     "text": [
      "\n",
      "Coincident S2 images: 0\n",
      "\n",
      "\n",
      "\n",
      "[Collection: {'EntryTitle': 'ATLAS/ICESat-2 L3A Sea Ice Height V006'}\n",
      "Spatial coverage: {'HorizontalSpatialDomain': {'Orbit': {'AscendingCrossing': 92.53104302516253, 'StartLatitude': 27.0, 'StartDirection': 'A', 'EndLatitude': 27.0, 'EndDirection': 'D'}}}\n",
      "Temporal coverage: {'RangeDateTime': {'BeginningDateTime': '2022-03-01T22:46:03.692Z', 'EndingDateTime': '2022-03-01T23:00:00.910Z'}}\n",
      "Size(MB): 410.65720653533936\n",
      "Data: ['https://data.nsidc.earthdatacloud.nasa.gov/nsidc-cumulus-prod-protected/ATLAS/ATL07/006/2022/03/01/ATL07-01_20220301222747_10641401_006_01.h5']]\n"
     ]
    },
    {
     "data": {
      "application/vnd.jupyter.widget-view+json": {
       "model_id": "4ff953c2859c42fea1f630260d9dc8d8",
       "version_major": 2,
       "version_minor": 0
      },
      "text/plain": [
       "QUEUEING TASKS | :   0%|          | 0/1 [00:00<?, ?it/s]"
      ]
     },
     "metadata": {},
     "output_type": "display_data"
    },
    {
     "data": {
      "application/vnd.jupyter.widget-view+json": {
       "model_id": "252257f165a74c92b6942bc199c3424c",
       "version_major": 2,
       "version_minor": 0
      },
      "text/plain": [
       "PROCESSING TASKS | :   0%|          | 0/1 [00:00<?, ?it/s]"
      ]
     },
     "metadata": {},
     "output_type": "display_data"
    },
    {
     "data": {
      "application/vnd.jupyter.widget-view+json": {
       "model_id": "ebe287d86ad34a5db38dae2c262c87d3",
       "version_major": 2,
       "version_minor": 0
      },
      "text/plain": [
       "COLLECTING RESULTS | :   0%|          | 0/1 [00:00<?, ?it/s]"
      ]
     },
     "metadata": {},
     "output_type": "display_data"
    },
    {
     "name": "stdout",
     "output_type": "stream",
     "text": [
      "\n",
      "Coincident S2 images: 0\n",
      "\n",
      "\n",
      "\n",
      "[Collection: {'EntryTitle': 'ATLAS/ICESat-2 L3A Sea Ice Height V006'}\n",
      "Spatial coverage: {'HorizontalSpatialDomain': {'Orbit': {'AscendingCrossing': 2.9855891929962977, 'StartLatitude': 27.0, 'StartDirection': 'A', 'EndLatitude': 27.0, 'EndDirection': 'D'}}}\n",
      "Temporal coverage: {'RangeDateTime': {'BeginningDateTime': '2022-03-07T04:30:41.056Z', 'EndingDateTime': '2022-03-07T04:37:40.492Z'}}\n",
      "Size(MB): 221.0811414718628\n",
      "Data: ['https://data.nsidc.earthdatacloud.nasa.gov/nsidc-cumulus-prod-protected/ATLAS/ATL07/006/2022/03/07/ATL07-01_20220307041059_11441401_006_01.h5']]\n"
     ]
    },
    {
     "data": {
      "application/vnd.jupyter.widget-view+json": {
       "model_id": "5be9ea48dcde4b56899dd3b0760ac8b4",
       "version_major": 2,
       "version_minor": 0
      },
      "text/plain": [
       "QUEUEING TASKS | :   0%|          | 0/1 [00:00<?, ?it/s]"
      ]
     },
     "metadata": {},
     "output_type": "display_data"
    },
    {
     "data": {
      "application/vnd.jupyter.widget-view+json": {
       "model_id": "69ee4c7071b041e8b33eb47b3a22a611",
       "version_major": 2,
       "version_minor": 0
      },
      "text/plain": [
       "PROCESSING TASKS | :   0%|          | 0/1 [00:00<?, ?it/s]"
      ]
     },
     "metadata": {},
     "output_type": "display_data"
    },
    {
     "data": {
      "application/vnd.jupyter.widget-view+json": {
       "model_id": "ddb8e5602c8f41a69daa85ea68f4f035",
       "version_major": 2,
       "version_minor": 0
      },
      "text/plain": [
       "COLLECTING RESULTS | :   0%|          | 0/1 [00:00<?, ?it/s]"
      ]
     },
     "metadata": {},
     "output_type": "display_data"
    },
    {
     "name": "stdout",
     "output_type": "stream",
     "text": [
      "\n",
      "Coincident S2 images: 0\n",
      "\n",
      "\n",
      "\n",
      "[Collection: {'EntryTitle': 'ATLAS/ICESat-2 L3A Sea Ice Height V006'}\n",
      "Spatial coverage: {'HorizontalSpatialDomain': {'Orbit': {'AscendingCrossing': -109.39820686819192, 'StartLatitude': 27.0, 'StartDirection': 'A', 'EndLatitude': 27.0, 'EndDirection': 'D'}}}\n",
      "Temporal coverage: {'RangeDateTime': {'BeginningDateTime': '2022-03-08T11:54:52.492Z', 'EndingDateTime': '2022-03-08T12:06:01.120Z'}}\n",
      "Size(MB): 350.3945302963257\n",
      "Data: ['https://data.nsidc.earthdatacloud.nasa.gov/nsidc-cumulus-prod-protected/ATLAS/ATL07/006/2022/03/08/ATL07-01_20220308113646_11641401_006_01.h5']]\n"
     ]
    },
    {
     "data": {
      "application/vnd.jupyter.widget-view+json": {
       "model_id": "d4e9ee5761f245be9176c402b5b9b37a",
       "version_major": 2,
       "version_minor": 0
      },
      "text/plain": [
       "QUEUEING TASKS | :   0%|          | 0/1 [00:00<?, ?it/s]"
      ]
     },
     "metadata": {},
     "output_type": "display_data"
    },
    {
     "data": {
      "application/vnd.jupyter.widget-view+json": {
       "model_id": "5067a1b573a04b1db3513c9502697d7d",
       "version_major": 2,
       "version_minor": 0
      },
      "text/plain": [
       "PROCESSING TASKS | :   0%|          | 0/1 [00:00<?, ?it/s]"
      ]
     },
     "metadata": {},
     "output_type": "display_data"
    },
    {
     "data": {
      "application/vnd.jupyter.widget-view+json": {
       "model_id": "061829dec48c4f40a3a525458f2f7d97",
       "version_major": 2,
       "version_minor": 0
      },
      "text/plain": [
       "COLLECTING RESULTS | :   0%|          | 0/1 [00:00<?, ?it/s]"
      ]
     },
     "metadata": {},
     "output_type": "display_data"
    },
    {
     "name": "stdout",
     "output_type": "stream",
     "text": [
      "\n",
      "Coincident S2 images: 0\n",
      "\n",
      "\n",
      "\n",
      "[Collection: {'EntryTitle': 'ATLAS/ICESat-2 L3A Sea Ice Height V006'}\n",
      "Spatial coverage: {'HorizontalSpatialDomain': {'Orbit': {'AscendingCrossing': 138.21377324020472, 'StartLatitude': 27.0, 'StartDirection': 'A', 'EndLatitude': 27.0, 'EndDirection': 'D'}}}\n",
      "Temporal coverage: {'RangeDateTime': {'BeginningDateTime': '2022-03-09T19:21:41.738Z', 'EndingDateTime': '2022-03-09T19:27:40.847Z'}}\n",
      "Size(MB): 265.6356077194214\n",
      "Data: ['https://data.nsidc.earthdatacloud.nasa.gov/nsidc-cumulus-prod-protected/ATLAS/ATL07/006/2022/03/09/ATL07-01_20220309190233_11841401_006_01.h5']]\n"
     ]
    },
    {
     "data": {
      "application/vnd.jupyter.widget-view+json": {
       "model_id": "832c8bfc508f4249aaa7e3a610e8e10b",
       "version_major": 2,
       "version_minor": 0
      },
      "text/plain": [
       "QUEUEING TASKS | :   0%|          | 0/1 [00:00<?, ?it/s]"
      ]
     },
     "metadata": {},
     "output_type": "display_data"
    },
    {
     "data": {
      "application/vnd.jupyter.widget-view+json": {
       "model_id": "c9cd6af773c546af818da789b82ad745",
       "version_major": 2,
       "version_minor": 0
      },
      "text/plain": [
       "PROCESSING TASKS | :   0%|          | 0/1 [00:00<?, ?it/s]"
      ]
     },
     "metadata": {},
     "output_type": "display_data"
    },
    {
     "data": {
      "application/vnd.jupyter.widget-view+json": {
       "model_id": "a92e891370ba4b6183c411e77bf5c5a8",
       "version_major": 2,
       "version_minor": 0
      },
      "text/plain": [
       "COLLECTING RESULTS | :   0%|          | 0/1 [00:00<?, ?it/s]"
      ]
     },
     "metadata": {},
     "output_type": "display_data"
    },
    {
     "name": "stdout",
     "output_type": "stream",
     "text": [
      "\n",
      "Coincident S2 images: 0\n",
      "\n",
      "\n",
      "\n",
      "[Collection: {'EntryTitle': 'ATLAS/ICESat-2 L3A Sea Ice Height V006'}\n",
      "Spatial coverage: {'HorizontalSpatialDomain': {'Orbit': {'AscendingCrossing': 25.825014781055703, 'StartLatitude': 27.0, 'StartDirection': 'A', 'EndLatitude': 27.0, 'EndDirection': 'D'}}}\n",
      "Temporal coverage: {'RangeDateTime': {'BeginningDateTime': '2022-03-11T02:46:05.271Z', 'EndingDateTime': '2022-03-11T02:56:53.150Z'}}\n",
      "Size(MB): 408.33510971069336\n",
      "Data: ['https://data.nsidc.earthdatacloud.nasa.gov/nsidc-cumulus-prod-protected/ATLAS/ATL07/006/2022/03/11/ATL07-01_20220311022820_12041401_006_01.h5']]\n"
     ]
    },
    {
     "data": {
      "application/vnd.jupyter.widget-view+json": {
       "model_id": "735981b37e3b431193488215c364639b",
       "version_major": 2,
       "version_minor": 0
      },
      "text/plain": [
       "QUEUEING TASKS | :   0%|          | 0/1 [00:00<?, ?it/s]"
      ]
     },
     "metadata": {},
     "output_type": "display_data"
    },
    {
     "data": {
      "application/vnd.jupyter.widget-view+json": {
       "model_id": "7385bab683964203913ff49276040f79",
       "version_major": 2,
       "version_minor": 0
      },
      "text/plain": [
       "PROCESSING TASKS | :   0%|          | 0/1 [00:00<?, ?it/s]"
      ]
     },
     "metadata": {},
     "output_type": "display_data"
    },
    {
     "data": {
      "application/vnd.jupyter.widget-view+json": {
       "model_id": "abcec77b9d3d4ed59f63907e63a74b2f",
       "version_major": 2,
       "version_minor": 0
      },
      "text/plain": [
       "COLLECTING RESULTS | :   0%|          | 0/1 [00:00<?, ?it/s]"
      ]
     },
     "metadata": {},
     "output_type": "display_data"
    },
    {
     "name": "stdout",
     "output_type": "stream",
     "text": [
      "\n",
      "Coincident S2 images: 0\n",
      "\n",
      "\n",
      "\n",
      "[Collection: {'EntryTitle': 'ATLAS/ICESat-2 L3A Sea Ice Height V006'}\n",
      "Spatial coverage: {'HorizontalSpatialDomain': {'Orbit': {'AscendingCrossing': -86.55784146468467, 'StartLatitude': 27.0, 'StartDirection': 'A', 'EndLatitude': 27.0, 'EndDirection': 'D'}}}\n",
      "Temporal coverage: {'RangeDateTime': {'BeginningDateTime': '2022-03-12T10:09:23.660Z', 'EndingDateTime': '2022-03-12T10:21:20.069Z'}}\n",
      "Size(MB): 312.6836967468262\n",
      "Data: ['https://data.nsidc.earthdatacloud.nasa.gov/nsidc-cumulus-prod-protected/ATLAS/ATL07/006/2022/03/12/ATL07-01_20220312095408_12241401_006_01.h5']]\n"
     ]
    },
    {
     "data": {
      "application/vnd.jupyter.widget-view+json": {
       "model_id": "d96212b2f1c545f0b6806adad29dfda3",
       "version_major": 2,
       "version_minor": 0
      },
      "text/plain": [
       "QUEUEING TASKS | :   0%|          | 0/1 [00:00<?, ?it/s]"
      ]
     },
     "metadata": {},
     "output_type": "display_data"
    },
    {
     "data": {
      "application/vnd.jupyter.widget-view+json": {
       "model_id": "98c6ddd74ef7488a9cd2c1b23b4ceb7d",
       "version_major": 2,
       "version_minor": 0
      },
      "text/plain": [
       "PROCESSING TASKS | :   0%|          | 0/1 [00:00<?, ?it/s]"
      ]
     },
     "metadata": {},
     "output_type": "display_data"
    },
    {
     "data": {
      "application/vnd.jupyter.widget-view+json": {
       "model_id": "7906498737ec4895b0d1b47ee3d29f98",
       "version_major": 2,
       "version_minor": 0
      },
      "text/plain": [
       "COLLECTING RESULTS | :   0%|          | 0/1 [00:00<?, ?it/s]"
      ]
     },
     "metadata": {},
     "output_type": "display_data"
    },
    {
     "name": "stdout",
     "output_type": "stream",
     "text": [
      "\n",
      "Coincident S2 images: 0\n",
      "\n",
      "\n",
      "\n",
      "[Collection: {'EntryTitle': 'ATLAS/ICESat-2 L3A Sea Ice Height V006'}\n",
      "Spatial coverage: {'HorizontalSpatialDomain': {'Orbit': {'AscendingCrossing': 71.50619236240183, 'StartLatitude': 27.0, 'StartDirection': 'A', 'EndLatitude': 27.0, 'EndDirection': 'D'}}}\n",
      "Temporal coverage: {'RangeDateTime': {'BeginningDateTime': '2022-03-18T23:22:06.494Z', 'EndingDateTime': '2022-03-18T23:32:32.674Z'}}\n",
      "Size(MB): 218.4786548614502\n",
      "Data: ['https://data.nsidc.earthdatacloud.nasa.gov/nsidc-cumulus-prod-protected/ATLAS/ATL07/006/2022/03/18/ATL07-01_20220318230308_13241401_006_01.h5']]\n"
     ]
    },
    {
     "data": {
      "application/vnd.jupyter.widget-view+json": {
       "model_id": "bb0fe0aedbd6483f84242383d6e41e2d",
       "version_major": 2,
       "version_minor": 0
      },
      "text/plain": [
       "QUEUEING TASKS | :   0%|          | 0/1 [00:00<?, ?it/s]"
      ]
     },
     "metadata": {},
     "output_type": "display_data"
    },
    {
     "data": {
      "application/vnd.jupyter.widget-view+json": {
       "model_id": "8d7eb67d9f424311a37c4b1424b0aff4",
       "version_major": 2,
       "version_minor": 0
      },
      "text/plain": [
       "PROCESSING TASKS | :   0%|          | 0/1 [00:00<?, ?it/s]"
      ]
     },
     "metadata": {},
     "output_type": "display_data"
    },
    {
     "data": {
      "application/vnd.jupyter.widget-view+json": {
       "model_id": "323cbe2d916f42dbaee71d0cff7438a5",
       "version_major": 2,
       "version_minor": 0
      },
      "text/plain": [
       "COLLECTING RESULTS | :   0%|          | 0/1 [00:00<?, ?it/s]"
      ]
     },
     "metadata": {},
     "output_type": "display_data"
    },
    {
     "name": "stdout",
     "output_type": "stream",
     "text": [
      "\n",
      "Coincident S2 images: 12\n",
      "Coincident S2 image FOUND\n",
      "Done with granule.\n",
      "\n",
      "\n",
      "\n",
      "[Collection: {'EntryTitle': 'ATLAS/ICESat-2 L3A Sea Ice Height V006'}\n",
      "Spatial coverage: {'HorizontalSpatialDomain': {'Orbit': {'AscendingCrossing': -40.877231029867666, 'StartLatitude': 27.0, 'StartDirection': 'A', 'EndLatitude': 27.0, 'EndDirection': 'D'}}}\n",
      "Temporal coverage: {'RangeDateTime': {'BeginningDateTime': '2022-03-20T06:44:54.510Z', 'EndingDateTime': '2022-03-20T07:04:21.565Z'}}\n",
      "Size(MB): 353.0548505783081\n",
      "Data: ['https://data.nsidc.earthdatacloud.nasa.gov/nsidc-cumulus-prod-protected/ATLAS/ATL07/006/2022/03/20/ATL07-01_20220320062856_13441401_006_01.h5']]\n"
     ]
    },
    {
     "data": {
      "application/vnd.jupyter.widget-view+json": {
       "model_id": "b5ab0073515743f3958d86cb0ad0b369",
       "version_major": 2,
       "version_minor": 0
      },
      "text/plain": [
       "QUEUEING TASKS | :   0%|          | 0/1 [00:00<?, ?it/s]"
      ]
     },
     "metadata": {},
     "output_type": "display_data"
    },
    {
     "data": {
      "application/vnd.jupyter.widget-view+json": {
       "model_id": "d404ccea24864883ab6e31d6587b1ac7",
       "version_major": 2,
       "version_minor": 0
      },
      "text/plain": [
       "PROCESSING TASKS | :   0%|          | 0/1 [00:00<?, ?it/s]"
      ]
     },
     "metadata": {},
     "output_type": "display_data"
    },
    {
     "data": {
      "application/vnd.jupyter.widget-view+json": {
       "model_id": "2fce82121fdb4b26857518af964618d3",
       "version_major": 2,
       "version_minor": 0
      },
      "text/plain": [
       "COLLECTING RESULTS | :   0%|          | 0/1 [00:00<?, ?it/s]"
      ]
     },
     "metadata": {},
     "output_type": "display_data"
    },
    {
     "name": "stdout",
     "output_type": "stream",
     "text": [
      "\n",
      "Coincident S2 images: 9\n",
      "Coincident S2 image FOUND\n",
      "Done with granule.\n",
      "\n",
      "\n",
      "\n",
      "[Collection: {'EntryTitle': 'ATLAS/ICESat-2 L3A Sea Ice Height V006'}\n",
      "Spatial coverage: {'HorizontalSpatialDomain': {'Orbit': {'AscendingCrossing': -153.26330367313005, 'StartLatitude': 27.0, 'StartDirection': 'A', 'EndLatitude': 27.0, 'EndDirection': 'D'}}}\n",
      "Temporal coverage: {'RangeDateTime': {'BeginningDateTime': '2022-03-21T14:11:18.780Z', 'EndingDateTime': '2022-03-21T14:27:29.487Z'}}\n",
      "Size(MB): 422.7802438735962\n",
      "Data: ['https://data.nsidc.earthdatacloud.nasa.gov/nsidc-cumulus-prod-protected/ATLAS/ATL07/006/2022/03/21/ATL07-01_20220321135444_13641401_006_01.h5']]\n"
     ]
    },
    {
     "data": {
      "application/vnd.jupyter.widget-view+json": {
       "model_id": "4c924ee92fd841df968994649838dac9",
       "version_major": 2,
       "version_minor": 0
      },
      "text/plain": [
       "QUEUEING TASKS | :   0%|          | 0/1 [00:00<?, ?it/s]"
      ]
     },
     "metadata": {},
     "output_type": "display_data"
    },
    {
     "data": {
      "application/vnd.jupyter.widget-view+json": {
       "model_id": "8f0eaf49d89c42669f7681dafca43029",
       "version_major": 2,
       "version_minor": 0
      },
      "text/plain": [
       "PROCESSING TASKS | :   0%|          | 0/1 [00:00<?, ?it/s]"
      ]
     },
     "metadata": {},
     "output_type": "display_data"
    },
    {
     "data": {
      "application/vnd.jupyter.widget-view+json": {
       "model_id": "d5f05343a4274405a581e309a6c625ea",
       "version_major": 2,
       "version_minor": 0
      },
      "text/plain": [
       "COLLECTING RESULTS | :   0%|          | 0/1 [00:00<?, ?it/s]"
      ]
     },
     "metadata": {},
     "output_type": "display_data"
    },
    {
     "name": "stdout",
     "output_type": "stream",
     "text": [
      "\n",
      "Coincident S2 images: 10\n",
      "Coincident S2 image FOUND\n",
      "Done with granule.\n",
      "\n",
      "\n",
      "\n",
      "[Collection: {'EntryTitle': 'ATLAS/ICESat-2 L3A Sea Ice Height V006'}\n",
      "Spatial coverage: {'HorizontalSpatialDomain': {'Orbit': {'AscendingCrossing': 94.34816955887709, 'StartLatitude': 27.0, 'StartDirection': 'A', 'EndLatitude': 27.0, 'EndDirection': 'D'}}}\n",
      "Temporal coverage: {'RangeDateTime': {'BeginningDateTime': '2022-03-22T21:39:49.739Z', 'EndingDateTime': '2022-03-22T21:55:26.368Z'}}\n",
      "Size(MB): 281.0337381362915\n",
      "Data: ['https://data.nsidc.earthdatacloud.nasa.gov/nsidc-cumulus-prod-protected/ATLAS/ATL07/006/2022/03/22/ATL07-01_20220322212032_13841401_006_01.h5']]\n"
     ]
    },
    {
     "data": {
      "application/vnd.jupyter.widget-view+json": {
       "model_id": "9decd0f924f643bc94816cd5e9ffe1a9",
       "version_major": 2,
       "version_minor": 0
      },
      "text/plain": [
       "QUEUEING TASKS | :   0%|          | 0/1 [00:00<?, ?it/s]"
      ]
     },
     "metadata": {},
     "output_type": "display_data"
    },
    {
     "data": {
      "application/vnd.jupyter.widget-view+json": {
       "model_id": "81aa5ac07f8b4ba59e093209cda862f7",
       "version_major": 2,
       "version_minor": 0
      },
      "text/plain": [
       "PROCESSING TASKS | :   0%|          | 0/1 [00:00<?, ?it/s]"
      ]
     },
     "metadata": {},
     "output_type": "display_data"
    },
    {
     "data": {
      "application/vnd.jupyter.widget-view+json": {
       "model_id": "717b610fb1214a319fa94c4a49a7353d",
       "version_major": 2,
       "version_minor": 0
      },
      "text/plain": [
       "COLLECTING RESULTS | :   0%|          | 0/1 [00:00<?, ?it/s]"
      ]
     },
     "metadata": {},
     "output_type": "display_data"
    },
    {
     "name": "stdout",
     "output_type": "stream",
     "text": [
      "\n",
      "Coincident S2 images: 25\n",
      "Coincident S2 image FOUND\n",
      "Done with granule.\n",
      "\n",
      "\n",
      "\n",
      "[Collection: {'EntryTitle': 'ATLAS/ICESat-2 L3A Sea Ice Height V006'}\n",
      "Spatial coverage: {'HorizontalSpatialDomain': {'Orbit': {'AscendingCrossing': -18.03715869940983, 'StartLatitude': 27.0, 'StartDirection': 'A', 'EndLatitude': 27.0, 'EndDirection': 'D'}}}\n",
      "Temporal coverage: {'RangeDateTime': {'BeginningDateTime': '2022-03-24T05:04:11.752Z', 'EndingDateTime': '2022-03-24T05:17:49.632Z'}}\n",
      "Size(MB): 265.666708946228\n",
      "Data: ['https://data.nsidc.earthdatacloud.nasa.gov/nsidc-cumulus-prod-protected/ATLAS/ATL07/006/2022/03/24/ATL07-01_20220324044618_00171501_006_01.h5']]\n"
     ]
    },
    {
     "data": {
      "application/vnd.jupyter.widget-view+json": {
       "model_id": "7f792776163440cf88f50f408806c327",
       "version_major": 2,
       "version_minor": 0
      },
      "text/plain": [
       "QUEUEING TASKS | :   0%|          | 0/1 [00:00<?, ?it/s]"
      ]
     },
     "metadata": {},
     "output_type": "display_data"
    },
    {
     "data": {
      "application/vnd.jupyter.widget-view+json": {
       "model_id": "4cc763f253814ba9949fe7a85bb64248",
       "version_major": 2,
       "version_minor": 0
      },
      "text/plain": [
       "PROCESSING TASKS | :   0%|          | 0/1 [00:00<?, ?it/s]"
      ]
     },
     "metadata": {},
     "output_type": "display_data"
    },
    {
     "data": {
      "application/vnd.jupyter.widget-view+json": {
       "model_id": "2d53ae0c653c4ce79ad8af47cb4ac17a",
       "version_major": 2,
       "version_minor": 0
      },
      "text/plain": [
       "COLLECTING RESULTS | :   0%|          | 0/1 [00:00<?, ?it/s]"
      ]
     },
     "metadata": {},
     "output_type": "display_data"
    },
    {
     "name": "stdout",
     "output_type": "stream",
     "text": [
      "\n",
      "Coincident S2 images: 0\n",
      "\n",
      "\n",
      "\n",
      "[Collection: {'EntryTitle': 'ATLAS/ICESat-2 L3A Sea Ice Height V006'}\n",
      "Spatial coverage: {'HorizontalSpatialDomain': {'Orbit': {'AscendingCrossing': 4.802327487775325, 'StartLatitude': 27.0, 'StartDirection': 'A', 'EndLatitude': 27.0, 'EndDirection': 'D'}}}\n",
      "Temporal coverage: {'RangeDateTime': {'BeginningDateTime': '2022-03-28T03:23:25.711Z', 'EndingDateTime': '2022-03-28T03:34:42.189Z'}}\n",
      "Size(MB): 500.60902881622314\n",
      "Data: ['https://data.nsidc.earthdatacloud.nasa.gov/nsidc-cumulus-prod-protected/ATLAS/ATL07/006/2022/03/28/ATL07-01_20220328030343_00771501_006_01.h5']]\n"
     ]
    },
    {
     "data": {
      "application/vnd.jupyter.widget-view+json": {
       "model_id": "24c34f9a5a4f48609d44943a7bfeb8c5",
       "version_major": 2,
       "version_minor": 0
      },
      "text/plain": [
       "QUEUEING TASKS | :   0%|          | 0/1 [00:00<?, ?it/s]"
      ]
     },
     "metadata": {},
     "output_type": "display_data"
    },
    {
     "data": {
      "application/vnd.jupyter.widget-view+json": {
       "model_id": "d7352c8c5a33400dab11e89ad93e7614",
       "version_major": 2,
       "version_minor": 0
      },
      "text/plain": [
       "PROCESSING TASKS | :   0%|          | 0/1 [00:00<?, ?it/s]"
      ]
     },
     "metadata": {},
     "output_type": "display_data"
    },
    {
     "data": {
      "application/vnd.jupyter.widget-view+json": {
       "model_id": "d09eea348cc847068040692fe6abe747",
       "version_major": 2,
       "version_minor": 0
      },
      "text/plain": [
       "COLLECTING RESULTS | :   0%|          | 0/1 [00:00<?, ?it/s]"
      ]
     },
     "metadata": {},
     "output_type": "display_data"
    },
    {
     "name": "stdout",
     "output_type": "stream",
     "text": [
      "\n",
      "Coincident S2 images: 0\n",
      "\n",
      "\n",
      "\n",
      "[Collection: {'EntryTitle': 'ATLAS/ICESat-2 L3A Sea Ice Height V006'}\n",
      "Spatial coverage: {'HorizontalSpatialDomain': {'Orbit': {'AscendingCrossing': -107.58149085469336, 'StartLatitude': 27.0, 'StartDirection': 'A', 'EndLatitude': 27.0, 'EndDirection': 'D'}}}\n",
      "Temporal coverage: {'RangeDateTime': {'BeginningDateTime': '2022-03-29T10:47:30.497Z', 'EndingDateTime': '2022-03-29T10:57:34.676Z'}}\n",
      "Size(MB): 359.97102642059326\n",
      "Data: ['https://data.nsidc.earthdatacloud.nasa.gov/nsidc-cumulus-prod-protected/ATLAS/ATL07/006/2022/03/29/ATL07-01_20220329102930_00971501_006_01.h5']]\n"
     ]
    },
    {
     "data": {
      "application/vnd.jupyter.widget-view+json": {
       "model_id": "fa453d01ceaf43698158aa3aa74c87db",
       "version_major": 2,
       "version_minor": 0
      },
      "text/plain": [
       "QUEUEING TASKS | :   0%|          | 0/1 [00:00<?, ?it/s]"
      ]
     },
     "metadata": {},
     "output_type": "display_data"
    },
    {
     "data": {
      "application/vnd.jupyter.widget-view+json": {
       "model_id": "57bbb98bbdf64d908630f3c867f6dc14",
       "version_major": 2,
       "version_minor": 0
      },
      "text/plain": [
       "PROCESSING TASKS | :   0%|          | 0/1 [00:00<?, ?it/s]"
      ]
     },
     "metadata": {},
     "output_type": "display_data"
    },
    {
     "data": {
      "application/vnd.jupyter.widget-view+json": {
       "model_id": "67bd0069c50f42af976c53696db717d1",
       "version_major": 2,
       "version_minor": 0
      },
      "text/plain": [
       "COLLECTING RESULTS | :   0%|          | 0/1 [00:00<?, ?it/s]"
      ]
     },
     "metadata": {},
     "output_type": "display_data"
    },
    {
     "name": "stdout",
     "output_type": "stream",
     "text": [
      "\n",
      "Coincident S2 images: 28\n",
      "Coincident S2 image FOUND\n",
      "Done with granule.\n",
      "\n",
      "\n",
      "\n",
      "[Collection: {'EntryTitle': 'ATLAS/ICESat-2 L3A Sea Ice Height V006'}\n",
      "Spatial coverage: {'HorizontalSpatialDomain': {'Orbit': {'AscendingCrossing': -107.58149085469336, 'StartLatitude': 27.0, 'StartDirection': 'A', 'EndLatitude': 27.0, 'EndDirection': 'D'}}}\n",
      "Temporal coverage: {'RangeDateTime': {'BeginningDateTime': '2022-03-29T10:47:30.497Z', 'EndingDateTime': '2022-03-29T10:57:34.676Z'}}\n",
      "Size(MB): 359.97102642059326\n",
      "Data: ['https://data.nsidc.earthdatacloud.nasa.gov/nsidc-cumulus-prod-protected/ATLAS/ATL07/006/2022/03/29/ATL07-01_20220329102930_00971501_006_01.h5']]\n"
     ]
    },
    {
     "data": {
      "application/vnd.jupyter.widget-view+json": {
       "model_id": "fcd579eb229a4ef092296d2d5dd3aeb5",
       "version_major": 2,
       "version_minor": 0
      },
      "text/plain": [
       "QUEUEING TASKS | :   0%|          | 0/1 [00:00<?, ?it/s]"
      ]
     },
     "metadata": {},
     "output_type": "display_data"
    },
    {
     "data": {
      "application/vnd.jupyter.widget-view+json": {
       "model_id": "bb6c83149a644716b2a72ef88cd9e83a",
       "version_major": 2,
       "version_minor": 0
      },
      "text/plain": [
       "PROCESSING TASKS | :   0%|          | 0/1 [00:00<?, ?it/s]"
      ]
     },
     "metadata": {},
     "output_type": "display_data"
    },
    {
     "data": {
      "application/vnd.jupyter.widget-view+json": {
       "model_id": "2d3bc92afebc4bf1b6143c0e5a1cb0ee",
       "version_major": 2,
       "version_minor": 0
      },
      "text/plain": [
       "COLLECTING RESULTS | :   0%|          | 0/1 [00:00<?, ?it/s]"
      ]
     },
     "metadata": {},
     "output_type": "display_data"
    },
    {
     "name": "stdout",
     "output_type": "stream",
     "text": [
      "\n",
      "Coincident S2 images: 28\n",
      "Coincident S2 image FOUND\n",
      "Done with granule.\n",
      "\n",
      "\n",
      "\n",
      "[Collection: {'EntryTitle': 'ATLAS/ICESat-2 L3A Sea Ice Height V006'}\n",
      "Spatial coverage: {'HorizontalSpatialDomain': {'Orbit': {'AscendingCrossing': 27.641746155853987, 'StartLatitude': 27.0, 'StartDirection': 'A', 'EndLatitude': 27.0, 'EndDirection': 'D'}}}\n",
      "Temporal coverage: {'RangeDateTime': {'BeginningDateTime': '2022-04-01T01:42:10.711Z', 'EndingDateTime': '2022-04-01T01:52:52.091Z'}}\n",
      "Size(MB): 447.5201663970947\n",
      "Data: ['https://data.nsidc.earthdatacloud.nasa.gov/nsidc-cumulus-prod-protected/ATLAS/ATL07/006/2022/04/01/ATL07-01_20220401012104_01371501_006_02.h5']]\n"
     ]
    },
    {
     "data": {
      "application/vnd.jupyter.widget-view+json": {
       "model_id": "74bbe9d681084cef828d8b3aba5838e4",
       "version_major": 2,
       "version_minor": 0
      },
      "text/plain": [
       "QUEUEING TASKS | :   0%|          | 0/1 [00:00<?, ?it/s]"
      ]
     },
     "metadata": {},
     "output_type": "display_data"
    },
    {
     "data": {
      "application/vnd.jupyter.widget-view+json": {
       "model_id": "303fdac6edbf4edeaca51ee5497f4f5c",
       "version_major": 2,
       "version_minor": 0
      },
      "text/plain": [
       "PROCESSING TASKS | :   0%|          | 0/1 [00:00<?, ?it/s]"
      ]
     },
     "metadata": {},
     "output_type": "display_data"
    },
    {
     "data": {
      "application/vnd.jupyter.widget-view+json": {
       "model_id": "c8239dfa7c3f4ff682bce776ea380001",
       "version_major": 2,
       "version_minor": 0
      },
      "text/plain": [
       "COLLECTING RESULTS | :   0%|          | 0/1 [00:00<?, ?it/s]"
      ]
     },
     "metadata": {},
     "output_type": "display_data"
    },
    {
     "name": "stdout",
     "output_type": "stream",
     "text": [
      "\n",
      "Coincident S2 images: 0\n",
      "\n",
      "\n",
      "\n",
      "[Collection: {'EntryTitle': 'ATLAS/ICESat-2 L3A Sea Ice Height V006'}\n",
      "Spatial coverage: {'HorizontalSpatialDomain': {'Orbit': {'AscendingCrossing': -84.74123653544054, 'StartLatitude': 27.0, 'StartDirection': 'A', 'EndLatitude': 27.0, 'EndDirection': 'D'}}}\n",
      "Temporal coverage: {'RangeDateTime': {'BeginningDateTime': '2022-04-02T09:01:45.780Z', 'EndingDateTime': '2022-04-02T09:14:06.470Z'}}\n",
      "Size(MB): 416.52484130859375\n",
      "Data: ['https://data.nsidc.earthdatacloud.nasa.gov/nsidc-cumulus-prod-protected/ATLAS/ATL07/006/2022/04/02/ATL07-01_20220402084652_01571501_006_02.h5']]\n"
     ]
    },
    {
     "data": {
      "application/vnd.jupyter.widget-view+json": {
       "model_id": "2a77b35bf4a1465f82fa2c4c5475a272",
       "version_major": 2,
       "version_minor": 0
      },
      "text/plain": [
       "QUEUEING TASKS | :   0%|          | 0/1 [00:00<?, ?it/s]"
      ]
     },
     "metadata": {},
     "output_type": "display_data"
    },
    {
     "data": {
      "application/vnd.jupyter.widget-view+json": {
       "model_id": "c02aefc40c2945fab33b8622ddb6da80",
       "version_major": 2,
       "version_minor": 0
      },
      "text/plain": [
       "PROCESSING TASKS | :   0%|          | 0/1 [00:00<?, ?it/s]"
      ]
     },
     "metadata": {},
     "output_type": "display_data"
    },
    {
     "data": {
      "application/vnd.jupyter.widget-view+json": {
       "model_id": "77c51d2b72a047309d63fb1063b938c1",
       "version_major": 2,
       "version_minor": 0
      },
      "text/plain": [
       "COLLECTING RESULTS | :   0%|          | 0/1 [00:00<?, ?it/s]"
      ]
     },
     "metadata": {},
     "output_type": "display_data"
    },
    {
     "name": "stdout",
     "output_type": "stream",
     "text": [
      "\n",
      "Coincident S2 images: 29\n",
      "Coincident S2 image FOUND\n",
      "Done with granule.\n",
      "\n",
      "\n",
      "\n",
      "[Collection: {'EntryTitle': 'ATLAS/ICESat-2 L3A Sea Ice Height V006'}\n",
      "Spatial coverage: {'HorizontalSpatialDomain': {'Orbit': {'AscendingCrossing': 162.87068781743838, 'StartLatitude': 27.0, 'StartDirection': 'A', 'EndLatitude': 27.0, 'EndDirection': 'D'}}}\n",
      "Temporal coverage: {'RangeDateTime': {'BeginningDateTime': '2022-04-03T16:28:09.175Z', 'EndingDateTime': '2022-04-03T16:41:15.976Z'}}\n",
      "Size(MB): 418.9501657485962\n",
      "Data: ['https://data.nsidc.earthdatacloud.nasa.gov/nsidc-cumulus-prod-protected/ATLAS/ATL07/006/2022/04/03/ATL07-01_20220403161239_01771501_006_02.h5']]\n"
     ]
    },
    {
     "data": {
      "application/vnd.jupyter.widget-view+json": {
       "model_id": "615908a1d0ad44fd9ee92fdf3f66dceb",
       "version_major": 2,
       "version_minor": 0
      },
      "text/plain": [
       "QUEUEING TASKS | :   0%|          | 0/1 [00:00<?, ?it/s]"
      ]
     },
     "metadata": {},
     "output_type": "display_data"
    },
    {
     "data": {
      "application/vnd.jupyter.widget-view+json": {
       "model_id": "01c5ba11fc2d437382e4c1fe3d452986",
       "version_major": 2,
       "version_minor": 0
      },
      "text/plain": [
       "PROCESSING TASKS | :   0%|          | 0/1 [00:00<?, ?it/s]"
      ]
     },
     "metadata": {},
     "output_type": "display_data"
    },
    {
     "data": {
      "application/vnd.jupyter.widget-view+json": {
       "model_id": "1c08d98a1895478db8a2d0af8eb9da61",
       "version_major": 2,
       "version_minor": 0
      },
      "text/plain": [
       "COLLECTING RESULTS | :   0%|          | 0/1 [00:00<?, ?it/s]"
      ]
     },
     "metadata": {},
     "output_type": "display_data"
    },
    {
     "name": "stdout",
     "output_type": "stream",
     "text": [
      "\n",
      "Coincident S2 images: 51\n",
      "Coincident S2 image FOUND\n",
      "Done with granule.\n",
      "\n",
      "\n",
      "\n"
     ]
    }
   ],
   "source": [
    "#find the matched S2 images for each IS2 file\n",
    "coincident_S2_images=[]\n",
    "\n",
    "# S2 IDs\n",
    "coincident_S2_image_ids=[]\n",
    "\n",
    "#S2 coordinates\n",
    "S2_coords=[]\n",
    "\n",
    "#number of S2 images for each IS2 granule\n",
    "number_of_coincident_scenes_in_granule=[]\n",
    "\n",
    "# coordinate tracks for each coincident IS2 granule\n",
    "is2_coordinate_tracks_matched=[] \n",
    "\n",
    "# save ATL07 info for the coincident S-2 tracks\n",
    "ATL_midtimes_matched=[]\n",
    "ATL_filenames_matched=[]\n",
    "\n",
    "# Loop over ICESat-2 granules\n",
    "# Coarsen by this number of data points to speed things up, can play with this more as desired\n",
    "NPTS=10\n",
    "# Time difference in minutes\n",
    "deltatime=180\n",
    "# Max cloud cover in the S-2 images\n",
    "max_cloud_cover=100\n",
    "\n",
    "# filter data close to land (m)\n",
    "dist_land_mask=10000\n",
    "\n",
    "image_catalog = \"S2_SR\"\n",
    "i=0\n",
    "for c2ice_file in c2ice_files:\n",
    "    \n",
    "    granules_cloud = earthaccess.search_data(\n",
    "        short_name = 'ATL07',\n",
    "        version = '006',\n",
    "        cloud_hosted = True,\n",
    "        bounding_box = (-180,60,180,90),\n",
    "        #temporal = ('2020-10-01','2020-10-30'),\n",
    "        granule_name=c2ice_file,\n",
    "    )\n",
    "    \n",
    "    print(i, granules_cloud)\n",
    "    \n",
    "    # Open files (not found a way of not needing to do this..)\n",
    "    atl07_file = earthaccess.open(granules_cloud)\n",
    "    ATL = h5py.File(atl07_file[0], 'r')\n",
    "    \n",
    "    orientation = ATL['/orbit_info/sc_orient'][0]\n",
    "\n",
    "    # Only use central strong beam locations\n",
    "    if orientation == 0:\n",
    "        beamID = 'gt2l'\n",
    "    elif orientation == 1:\n",
    "        beamID = 'gt2r'\n",
    "    else:\n",
    "        print('Spacecraft orientation not found.')\n",
    "\n",
    "    # Extract data info from granule\n",
    "    ATL_start_time = ATL['/ancillary_data/data_start_utc'][0]\n",
    "    ATL_start = pd.to_datetime(ATL_start_time[:-8].decode('utf-8'), format='%Y-%m-%dT%H:%M:%S')\n",
    "    ATL_end_time = ATL['/ancillary_data/data_end_utc'][0]\n",
    "    ATL_end = pd.to_datetime(ATL_end_time[:-8].decode('utf-8'), format='%Y-%m-%dT%H:%M:%S')\n",
    "\n",
    "    ATL_lon = ATL[beamID + '/sea_ice_segments/longitude'][:]\n",
    "    ATL_lat = ATL[beamID + '/sea_ice_segments/latitude'][:]\n",
    "\n",
    "    # read in the new dist to land variable to filter these values out now we have a lot more land data in rel006!\n",
    "    ATL_dist_land = ATL[beamID+'/sea_ice_segments/stats/dist2land'][:]\n",
    "    ATL_lon = ATL_lon[ATL_dist_land>dist_land_mask]\n",
    "    ATL_lat = ATL_lat[ATL_dist_land>dist_land_mask]\n",
    "    atl07_coords = list(zip(ATL_lon[::NPTS], ATL_lat[::NPTS])) \n",
    "    \n",
    "    # Use astropy to convert from gps time to datetime\n",
    "    #GPS_epoch = ATL['ancillary_data/atlas_sdp_gps_epoch'][:]\n",
    "    #GPS_time = ATL[beamID + '/sea_ice_segments/delta_time'][::NPTS] + GPS_epoch\n",
    "    #ATL_tgps = Time(GPS_time, format='gps')\n",
    "    #ATL_utc = ATL_tgps.utc.iso\n",
    "    \n",
    "    \n",
    "    #create a feature collection representing a line from a list of valid latitude and longitude coordinate points.\n",
    "    feature_track_temp = ee.FeatureCollection(ee.Geometry.LineString(coords=atl07_coords, proj='EPSG:4326', geodesic=True))\n",
    "    \n",
    "    roi = feature_track_temp.geometry()\n",
    "    \n",
    "    # Query Sentinel-2 images using ATL07 file information\n",
    "    #L1C data: COPERNICUS/S2_HARMONIZED S2 (NOT FINDING ANYTHING)\n",
    "    #L2A data: COPERNICUS/S2_SR_HARMONIZED COPERNICUS/S2_SR (this one is what Wenxuan used)\n",
    "    \n",
    "    imagecollection=ee.ImageCollection(\"COPERNICUS/\"+image_catalog).filterBounds(roi)\\\n",
    "    .filterDate(ATL_start- dt.timedelta(minutes=deltatime), ATL_end+ dt.timedelta(minutes=deltatime))\\\n",
    "    .filter(ee.Filter.lt('CLOUD_COVERAGE_ASSESSMENT', max_cloud_cover))\n",
    "    #.filter(ee.Filter.lt('NODATA_PIXEL_PERCENTAGE', 10))\n",
    "    \n",
    "    print('\\nCoincident S2 images:', imagecollection.size().getInfo())\n",
    "    if imagecollection.size().getInfo()>0:\n",
    "        print('Coincident S2 image FOUND')\n",
    "        \n",
    "        # save number of images\n",
    "        number_of_coincident_scenes_in_granule.append(imagecollection.size().getInfo()) \n",
    "\n",
    "        # save actual image collection\n",
    "        coincident_S2_images.append(imagecollection)\n",
    "\n",
    "        # S2 image IDs\n",
    "        S2_ids = [imagecollection.toList(imagecollection.size().getInfo()).getInfo()[i]['id'] for i in range(0, imagecollection.size().getInfo())]\n",
    "        coincident_S2_image_ids.append(S2_ids)\n",
    "\n",
    "        # save first coordinte of first image found \n",
    "        S2_coord = imagecollection.toList(imagecollection.size().getInfo()).getInfo()[0]['properties']['system:footprint']['coordinates'][0]\n",
    "        S2_coords.append(S2_coord)\n",
    "        \n",
    "        is2_coordinate_tracks_matched.append(feature_track_temp)\n",
    "        ATL_mid = ATL_start + (ATL_end-ATL_start)/2\n",
    "        ATL_midtimes_matched.append(ATL_mid)\n",
    "        ATL_filenames_matched.append(c2ice_file)\n",
    "        print('Done with granule.')\n",
    "    \n",
    "    print('\\n\\n')\n",
    "    i+=1\n",
    "\n",
    "\n",
    "\n"
   ]
  },
  {
   "cell_type": "code",
   "execution_count": 8,
   "id": "eb8e792a-1ce3-4f37-870e-16bfa4804623",
   "metadata": {},
   "outputs": [
    {
     "data": {
      "text/html": [
       "\n",
       "            <style>\n",
       "                .geemap-dark {\n",
       "                    --jp-widgets-color: white;\n",
       "                    --jp-widgets-label-color: white;\n",
       "                    --jp-ui-font-color1: white;\n",
       "                    --jp-layout-color2: #454545;\n",
       "                    background-color: #383838;\n",
       "                }\n",
       "\n",
       "                .geemap-dark .jupyter-button {\n",
       "                    --jp-layout-color3: #383838;\n",
       "                }\n",
       "\n",
       "                .geemap-colab {\n",
       "                    background-color: var(--colab-primary-surface-color, white);\n",
       "                }\n",
       "\n",
       "                .geemap-colab .jupyter-button {\n",
       "                    --jp-layout-color3: var(--colab-primary-surface-color, white);\n",
       "                }\n",
       "            </style>\n",
       "            "
      ],
      "text/plain": [
       "<IPython.core.display.HTML object>"
      ]
     },
     "metadata": {},
     "output_type": "display_data"
    },
    {
     "data": {
      "text/plain": [
       "[['COPERNICUS/S2_SR/20210407T085549_20210407T085852_T37WDN',\n",
       "  'COPERNICUS/S2_SR/20210407T085549_20210407T085852_T37WDP'],\n",
       " ['COPERNICUS/S2_SR/20210414T235139_20210414T235135_T11XNM'],\n",
       " ['COPERNICUS/S2_SR/20210417T144751_20210417T144746_T33XWM',\n",
       "  'COPERNICUS/S2_SR/20210417T144751_20210417T144746_T33XWN',\n",
       "  'COPERNICUS/S2_SR/20210417T144751_20210417T144746_T33XXL',\n",
       "  'COPERNICUS/S2_SR/20210417T144751_20210417T144746_T35XML',\n",
       "  'COPERNICUS/S2_SR/20210417T144751_20210417T144746_T35XMM'],\n",
       " ['COPERNICUS/S2_SR/20210421T124701_20210421T124657_T37XEL',\n",
       "  'COPERNICUS/S2_SR/20210421T124701_20210421T124657_T37XEM',\n",
       "  'COPERNICUS/S2_SR/20210421T124701_20210421T124657_T38XNP',\n",
       "  'COPERNICUS/S2_SR/20210421T124701_20210421T124657_T38XNQ',\n",
       "  'COPERNICUS/S2_SR/20210421T124701_20210421T124657_T38XNR',\n",
       "  'COPERNICUS/S2_SR/20210421T124701_20210421T124657_T38XNS',\n",
       "  'COPERNICUS/S2_SR/20210421T124701_20210421T124657_T39XVJ',\n",
       "  'COPERNICUS/S2_SR/20210421T124701_20210421T124657_T39XVK',\n",
       "  'COPERNICUS/S2_SR/20210421T124701_20210421T124657_T39XVL'],\n",
       " ['COPERNICUS/S2_SR/20210422T204011_20210422T204014_T18XWS',\n",
       "  'COPERNICUS/S2_SR/20210422T204011_20210422T204014_T19XEK',\n",
       "  'COPERNICUS/S2_SR/20210422T204011_20210422T204014_T19XEL',\n",
       "  'COPERNICUS/S2_SR/20210422T204011_20210422T204014_T19XEM',\n",
       "  'COPERNICUS/S2_SR/20210422T204011_20210422T204014_T20XMQ',\n",
       "  'COPERNICUS/S2_SR/20210422T204011_20210422T204014_T20XMR'],\n",
       " ['COPERNICUS/S2_SR/20210425T113629_20210425T113626_T41XNL',\n",
       "  'COPERNICUS/S2_SR/20210425T113629_20210425T113626_T41XNM',\n",
       "  'COPERNICUS/S2_SR/20210425T113629_20210425T113626_T41XNN',\n",
       "  'COPERNICUS/S2_SR/20210425T113629_20210425T113626_T42XVR',\n",
       "  'COPERNICUS/S2_SR/20210425T113629_20210425T113626_T42XWP',\n",
       "  'COPERNICUS/S2_SR/20210425T113629_20210425T113626_T42XWQ',\n",
       "  'COPERNICUS/S2_SR/20210425T113629_20210425T113626_T42XWR',\n",
       "  'COPERNICUS/S2_SR/20210425T113629_20210425T113626_T43XDK',\n",
       "  'COPERNICUS/S2_SR/20210425T113629_20210425T113626_T43XDL'],\n",
       " ['COPERNICUS/S2_SR/20210429T093539_20210429T093542_T45XWK',\n",
       "  'COPERNICUS/S2_SR/20210429T093539_20210429T093542_T45XWL',\n",
       "  'COPERNICUS/S2_SR/20210429T093539_20210429T093542_T45XWM',\n",
       "  'COPERNICUS/S2_SR/20210429T093539_20210429T093542_T46XDQ',\n",
       "  'COPERNICUS/S2_SR/20210429T093539_20210429T093542_T46XDR',\n",
       "  'COPERNICUS/S2_SR/20210429T093539_20210429T093542_T46XEP',\n",
       "  'COPERNICUS/S2_SR/20210429T093539_20210429T093542_T46XEQ',\n",
       "  'COPERNICUS/S2_SR/20210429T093539_20210429T093542_T46XER',\n",
       "  'COPERNICUS/S2_SR/20210429T093539_20210429T093542_T47XMJ',\n",
       "  'COPERNICUS/S2_SR/20210429T093539_20210429T093542_T47XMK',\n",
       "  'COPERNICUS/S2_SR/20210429T102601_20210429T102555_T45XWL',\n",
       "  'COPERNICUS/S2_SR/20210429T102601_20210429T102555_T45XWM',\n",
       "  'COPERNICUS/S2_SR/20210429T102601_20210429T102555_T46XDR'],\n",
       " ['COPERNICUS/S2_SR/20210430T163901_20210430T163855_T26XNR',\n",
       "  'COPERNICUS/S2_SR/20210430T163901_20210430T163855_T26XNS',\n",
       "  'COPERNICUS/S2_SR/20210430T163901_20210430T163855_T27XVL',\n",
       "  'COPERNICUS/S2_SR/20210430T163901_20210430T163855_T27XWJ',\n",
       "  'COPERNICUS/S2_SR/20210430T163901_20210430T163855_T27XWK',\n",
       "  'COPERNICUS/S2_SR/20210430T163901_20210430T163855_T27XWL',\n",
       "  'COPERNICUS/S2_SR/20210430T163901_20210430T163855_T27XWM',\n",
       "  'COPERNICUS/S2_SR/20210430T163901_20210430T163855_T28XDP',\n",
       "  'COPERNICUS/S2_SR/20210430T163901_20210430T163855_T28XDQ',\n",
       "  'COPERNICUS/S2_SR/20210430T163901_20210430T163855_T28XDR',\n",
       "  'COPERNICUS/S2_SR/20210430T172859_20210430T172854_T26XNR',\n",
       "  'COPERNICUS/S2_SR/20210430T172859_20210430T172854_T26XNS',\n",
       "  'COPERNICUS/S2_SR/20210430T172859_20210430T172854_T27XVL',\n",
       "  'COPERNICUS/S2_SR/20210430T172859_20210430T172854_T27XWJ',\n",
       "  'COPERNICUS/S2_SR/20210430T172859_20210430T172854_T27XWK',\n",
       "  'COPERNICUS/S2_SR/20210430T172859_20210430T172854_T27XWL',\n",
       "  'COPERNICUS/S2_SR/20210430T172859_20210430T172854_T27XWM',\n",
       "  'COPERNICUS/S2_SR/20210430T172859_20210430T172854_T28XDP',\n",
       "  'COPERNICUS/S2_SR/20210430T172859_20210430T172854_T28XDQ',\n",
       "  'COPERNICUS/S2_SR/20210430T172859_20210430T172854_T28XDR'],\n",
       " ['COPERNICUS/S2_SR/20211022T013719_20211022T013714_T57WWT'],\n",
       " ['COPERNICUS/S2_SR/20211201T164639_20211201T164640_T17VNC',\n",
       "  'COPERNICUS/S2_SR/20211201T164639_20211201T164640_T17VND',\n",
       "  'COPERNICUS/S2_SR/20211201T164639_20211201T164640_T17VNE',\n",
       "  'COPERNICUS/S2_SR/20211201T164639_20211201T164640_T17VNF',\n",
       "  'COPERNICUS/S2_SR/20211201T164639_20211201T164640_T17VNG',\n",
       "  'COPERNICUS/S2_SR/20211201T164639_20211201T164640_T17VPC',\n",
       "  'COPERNICUS/S2_SR/20211201T164639_20211201T164640_T17VPD'],\n",
       " ['COPERNICUS/S2_SR/20220318T204201_20220318T204159_T12XWK',\n",
       "  'COPERNICUS/S2_SR/20220318T204201_20220318T204159_T12XWL',\n",
       "  'COPERNICUS/S2_SR/20220318T204201_20220318T204159_T13XDE',\n",
       "  'COPERNICUS/S2_SR/20220318T204201_20220318T204159_T13XDF',\n",
       "  'COPERNICUS/S2_SR/20220318T204201_20220318T204159_T13XDG',\n",
       "  'COPERNICUS/S2_SR/20220318T204201_20220318T204159_T13XDH',\n",
       "  'COPERNICUS/S2_SR/20220318T204201_20220318T204159_T13XDJ',\n",
       "  'COPERNICUS/S2_SR/20220318T204201_20220318T204159_T13XEH',\n",
       "  'COPERNICUS/S2_SR/20220318T204201_20220318T204159_T13XEJ',\n",
       "  'COPERNICUS/S2_SR/20220318T204201_20220318T204159_T13XEK',\n",
       "  'COPERNICUS/S2_SR/20220318T204201_20220318T204159_T14XMP',\n",
       "  'COPERNICUS/S2_SR/20220318T204201_20220318T204159_T14XMQ'],\n",
       " ['COPERNICUS/S2_SR/20220320T034529_20220320T034532_T54XVH',\n",
       "  'COPERNICUS/S2_SR/20220320T034529_20220320T034532_T54XVJ',\n",
       "  'COPERNICUS/S2_SR/20220320T034529_20220320T034532_T54XVK',\n",
       "  'COPERNICUS/S2_SR/20220320T034529_20220320T034532_T54XVL',\n",
       "  'COPERNICUS/S2_SR/20220320T034529_20220320T034532_T54XVM',\n",
       "  'COPERNICUS/S2_SR/20220320T034529_20220320T034532_T54XWL',\n",
       "  'COPERNICUS/S2_SR/20220320T034529_20220320T034532_T54XWM',\n",
       "  'COPERNICUS/S2_SR/20220320T034529_20220320T034532_T54XWN',\n",
       "  'COPERNICUS/S2_SR/20220320T034529_20220320T034532_T55XDH'],\n",
       " ['COPERNICUS/S2_SR/20220321T113659_20220321T113653_T35XNE',\n",
       "  'COPERNICUS/S2_SR/20220321T113659_20220321T113653_T35XNF',\n",
       "  'COPERNICUS/S2_SR/20220321T113659_20220321T113653_T35XNG',\n",
       "  'COPERNICUS/S2_SR/20220321T113659_20220321T113653_T35XNH',\n",
       "  'COPERNICUS/S2_SR/20220321T113659_20220321T113653_T35XNJ',\n",
       "  'COPERNICUS/S2_SR/20220321T122811_20220321T122814_T35XNH',\n",
       "  'COPERNICUS/S2_SR/20220321T122811_20220321T122814_T35XNJ',\n",
       "  'COPERNICUS/S2_SR/20220321T131739_20220321T131734_T35XNJ',\n",
       "  'COPERNICUS/S2_SR/20220321T131739_20220321T131734_T35XNL',\n",
       "  'COPERNICUS/S2_SR/20220321T131739_20220321T131734_T35XPK'],\n",
       " ['COPERNICUS/S2_SR/20220322T184041_20220322T184040_T16XEH',\n",
       "  'COPERNICUS/S2_SR/20220322T184041_20220322T184040_T16XEJ',\n",
       "  'COPERNICUS/S2_SR/20220322T184041_20220322T184040_T16XEK',\n",
       "  'COPERNICUS/S2_SR/20220322T184041_20220322T184040_T16XEL',\n",
       "  'COPERNICUS/S2_SR/20220322T184041_20220322T184040_T16XEM',\n",
       "  'COPERNICUS/S2_SR/20220322T184041_20220322T184040_T16XEN',\n",
       "  'COPERNICUS/S2_SR/20220322T184041_20220322T184040_T17XME',\n",
       "  'COPERNICUS/S2_SR/20220322T184041_20220322T184040_T17XMF',\n",
       "  'COPERNICUS/S2_SR/20220322T184041_20220322T184040_T17XMG',\n",
       "  'COPERNICUS/S2_SR/20220322T184041_20220322T184040_T17XMH',\n",
       "  'COPERNICUS/S2_SR/20220322T192959_20220322T193000_T16XEM',\n",
       "  'COPERNICUS/S2_SR/20220322T192959_20220322T193000_T16XEN',\n",
       "  'COPERNICUS/S2_SR/20220322T192959_20220322T193000_T16XEP',\n",
       "  'COPERNICUS/S2_SR/20220322T192959_20220322T193000_T17XMG',\n",
       "  'COPERNICUS/S2_SR/20220322T192959_20220322T193000_T17XMH',\n",
       "  'COPERNICUS/S2_SR/20220322T192959_20220322T193000_T17XMJ',\n",
       "  'COPERNICUS/S2_SR/20220322T192959_20220322T193000_T17XMK',\n",
       "  'COPERNICUS/S2_SR/20220322T192959_20220322T193000_T17XNJ',\n",
       "  'COPERNICUS/S2_SR/20220322T192959_20220322T193000_T17XNK',\n",
       "  'COPERNICUS/S2_SR/20220322T192959_20220322T193000_T17XNL',\n",
       "  'COPERNICUS/S2_SR/20220322T192959_20220322T193000_T18XVQ',\n",
       "  'COPERNICUS/S2_SR/20220322T192959_20220322T193000_T18XVR',\n",
       "  'COPERNICUS/S2_SR/20220322T202121_20220322T202121_T16XEP',\n",
       "  'COPERNICUS/S2_SR/20220322T202121_20220322T202121_T17XMH',\n",
       "  'COPERNICUS/S2_SR/20220322T202121_20220322T202121_T17XMJ'],\n",
       " ['COPERNICUS/S2_SR/20220329T082601_20220329T082604_T43XDE',\n",
       "  'COPERNICUS/S2_SR/20220329T082601_20220329T082604_T43XDF',\n",
       "  'COPERNICUS/S2_SR/20220329T082601_20220329T082604_T43XDG',\n",
       "  'COPERNICUS/S2_SR/20220329T082601_20220329T082604_T43XDH',\n",
       "  'COPERNICUS/S2_SR/20220329T082601_20220329T082604_T43XEG',\n",
       "  'COPERNICUS/S2_SR/20220329T082601_20220329T082604_T43XEH',\n",
       "  'COPERNICUS/S2_SR/20220329T082601_20220329T082604_T43XEJ',\n",
       "  'COPERNICUS/S2_SR/20220329T082601_20220329T082604_T43XEK',\n",
       "  'COPERNICUS/S2_SR/20220329T082601_20220329T082604_T44XMN',\n",
       "  'COPERNICUS/S2_SR/20220329T082601_20220329T082604_T44XMP',\n",
       "  'COPERNICUS/S2_SR/20220329T082601_20220329T082604_T44XMQ',\n",
       "  'COPERNICUS/S2_SR/20220329T091549_20220329T091552_T43XEH',\n",
       "  'COPERNICUS/S2_SR/20220329T091549_20220329T091552_T43XEJ',\n",
       "  'COPERNICUS/S2_SR/20220329T091549_20220329T091552_T43XEK',\n",
       "  'COPERNICUS/S2_SR/20220329T091549_20220329T091552_T43XEL',\n",
       "  'COPERNICUS/S2_SR/20220329T091549_20220329T091552_T43XEM',\n",
       "  'COPERNICUS/S2_SR/20220329T091549_20220329T091552_T44XMN',\n",
       "  'COPERNICUS/S2_SR/20220329T091549_20220329T091552_T44XMP',\n",
       "  'COPERNICUS/S2_SR/20220329T091549_20220329T091552_T44XMQ',\n",
       "  'COPERNICUS/S2_SR/20220329T091549_20220329T091552_T44XMR',\n",
       "  'COPERNICUS/S2_SR/20220329T100611_20220329T100609_T43XEJ',\n",
       "  'COPERNICUS/S2_SR/20220329T100611_20220329T100609_T43XEK',\n",
       "  'COPERNICUS/S2_SR/20220329T100611_20220329T100609_T43XEL',\n",
       "  'COPERNICUS/S2_SR/20220329T100611_20220329T100609_T43XEM',\n",
       "  'COPERNICUS/S2_SR/20220329T100611_20220329T100609_T44XMP',\n",
       "  'COPERNICUS/S2_SR/20220329T100611_20220329T100609_T44XMQ',\n",
       "  'COPERNICUS/S2_SR/20220329T100611_20220329T100609_T44XMR',\n",
       "  'COPERNICUS/S2_SR/20220329T100611_20220329T100609_T44XNS'],\n",
       " ['COPERNICUS/S2_SR/20220329T082601_20220329T082604_T43XDE',\n",
       "  'COPERNICUS/S2_SR/20220329T082601_20220329T082604_T43XDF',\n",
       "  'COPERNICUS/S2_SR/20220329T082601_20220329T082604_T43XDG',\n",
       "  'COPERNICUS/S2_SR/20220329T082601_20220329T082604_T43XDH',\n",
       "  'COPERNICUS/S2_SR/20220329T082601_20220329T082604_T43XEG',\n",
       "  'COPERNICUS/S2_SR/20220329T082601_20220329T082604_T43XEH',\n",
       "  'COPERNICUS/S2_SR/20220329T082601_20220329T082604_T43XEJ',\n",
       "  'COPERNICUS/S2_SR/20220329T082601_20220329T082604_T43XEK',\n",
       "  'COPERNICUS/S2_SR/20220329T082601_20220329T082604_T44XMN',\n",
       "  'COPERNICUS/S2_SR/20220329T082601_20220329T082604_T44XMP',\n",
       "  'COPERNICUS/S2_SR/20220329T082601_20220329T082604_T44XMQ',\n",
       "  'COPERNICUS/S2_SR/20220329T091549_20220329T091552_T43XEH',\n",
       "  'COPERNICUS/S2_SR/20220329T091549_20220329T091552_T43XEJ',\n",
       "  'COPERNICUS/S2_SR/20220329T091549_20220329T091552_T43XEK',\n",
       "  'COPERNICUS/S2_SR/20220329T091549_20220329T091552_T43XEL',\n",
       "  'COPERNICUS/S2_SR/20220329T091549_20220329T091552_T43XEM',\n",
       "  'COPERNICUS/S2_SR/20220329T091549_20220329T091552_T44XMN',\n",
       "  'COPERNICUS/S2_SR/20220329T091549_20220329T091552_T44XMP',\n",
       "  'COPERNICUS/S2_SR/20220329T091549_20220329T091552_T44XMQ',\n",
       "  'COPERNICUS/S2_SR/20220329T091549_20220329T091552_T44XMR',\n",
       "  'COPERNICUS/S2_SR/20220329T100611_20220329T100609_T43XEJ',\n",
       "  'COPERNICUS/S2_SR/20220329T100611_20220329T100609_T43XEK',\n",
       "  'COPERNICUS/S2_SR/20220329T100611_20220329T100609_T43XEL',\n",
       "  'COPERNICUS/S2_SR/20220329T100611_20220329T100609_T43XEM',\n",
       "  'COPERNICUS/S2_SR/20220329T100611_20220329T100609_T44XMP',\n",
       "  'COPERNICUS/S2_SR/20220329T100611_20220329T100609_T44XMQ',\n",
       "  'COPERNICUS/S2_SR/20220329T100611_20220329T100609_T44XMR',\n",
       "  'COPERNICUS/S2_SR/20220329T100611_20220329T100609_T44XNS'],\n",
       " ['COPERNICUS/S2_SR/20220402T062631_20220402T062630_T46XEK',\n",
       "  'COPERNICUS/S2_SR/20220402T062631_20220402T062630_T46XEL',\n",
       "  'COPERNICUS/S2_SR/20220402T062631_20220402T062630_T46XEM',\n",
       "  'COPERNICUS/S2_SR/20220402T062631_20220402T062630_T47XME',\n",
       "  'COPERNICUS/S2_SR/20220402T062631_20220402T062630_T47XMF',\n",
       "  'COPERNICUS/S2_SR/20220402T062631_20220402T062630_T47XMG',\n",
       "  'COPERNICUS/S2_SR/20220402T062631_20220402T062630_T47XMH',\n",
       "  'COPERNICUS/S2_SR/20220402T071619_20220402T071613_T46XEL',\n",
       "  'COPERNICUS/S2_SR/20220402T071619_20220402T071613_T46XEM',\n",
       "  'COPERNICUS/S2_SR/20220402T071619_20220402T071613_T47XMF',\n",
       "  'COPERNICUS/S2_SR/20220402T071619_20220402T071613_T47XMG',\n",
       "  'COPERNICUS/S2_SR/20220402T071619_20220402T071613_T47XMH',\n",
       "  'COPERNICUS/S2_SR/20220402T071619_20220402T071613_T47XMJ',\n",
       "  'COPERNICUS/S2_SR/20220402T071619_20220402T071613_T47XNH',\n",
       "  'COPERNICUS/S2_SR/20220402T071619_20220402T071613_T47XNJ',\n",
       "  'COPERNICUS/S2_SR/20220402T071619_20220402T071613_T47XNK',\n",
       "  'COPERNICUS/S2_SR/20220402T071619_20220402T071613_T48XVP',\n",
       "  'COPERNICUS/S2_SR/20220402T071619_20220402T071613_T48XVQ',\n",
       "  'COPERNICUS/S2_SR/20220402T080611_20220402T080608_T47XMH',\n",
       "  'COPERNICUS/S2_SR/20220402T080611_20220402T080608_T47XMJ',\n",
       "  'COPERNICUS/S2_SR/20220402T080611_20220402T080608_T47XNH',\n",
       "  'COPERNICUS/S2_SR/20220402T080611_20220402T080608_T47XNJ',\n",
       "  'COPERNICUS/S2_SR/20220402T080611_20220402T080608_T47XNK',\n",
       "  'COPERNICUS/S2_SR/20220402T080611_20220402T080608_T48XVP',\n",
       "  'COPERNICUS/S2_SR/20220402T080611_20220402T080608_T48XVQ',\n",
       "  'COPERNICUS/S2_SR/20220402T085549_20220402T085552_T47XNJ',\n",
       "  'COPERNICUS/S2_SR/20220402T085549_20220402T085552_T47XNK',\n",
       "  'COPERNICUS/S2_SR/20220402T085549_20220402T085552_T48XVP',\n",
       "  'COPERNICUS/S2_SR/20220402T085549_20220402T085552_T48XVQ'],\n",
       " ['COPERNICUS/S2_SR/20220403T132719_20220403T132714_T27WWU',\n",
       "  'COPERNICUS/S2_SR/20220403T132719_20220403T132714_T27WWV',\n",
       "  'COPERNICUS/S2_SR/20220403T132719_20220403T132714_T27WXV',\n",
       "  'COPERNICUS/S2_SR/20220403T132719_20220403T132714_T27XWA',\n",
       "  'COPERNICUS/S2_SR/20220403T132719_20220403T132714_T27XXA',\n",
       "  'COPERNICUS/S2_SR/20220403T132719_20220403T132714_T28XDF',\n",
       "  'COPERNICUS/S2_SR/20220403T132719_20220403T132714_T28XDG',\n",
       "  'COPERNICUS/S2_SR/20220403T132719_20220403T132714_T28XDH',\n",
       "  'COPERNICUS/S2_SR/20220403T132719_20220403T132714_T28XDJ',\n",
       "  'COPERNICUS/S2_SR/20220403T141741_20220403T141740_T28XDJ',\n",
       "  'COPERNICUS/S2_SR/20220403T141741_20220403T141740_T28XDK',\n",
       "  'COPERNICUS/S2_SR/20220403T141741_20220403T141740_T28XDL',\n",
       "  'COPERNICUS/S2_SR/20220403T141741_20220403T141740_T28XDM',\n",
       "  'COPERNICUS/S2_SR/20220403T141741_20220403T141740_T28XEL',\n",
       "  'COPERNICUS/S2_SR/20220403T141741_20220403T141740_T28XEM',\n",
       "  'COPERNICUS/S2_SR/20220403T141741_20220403T141740_T28XEN',\n",
       "  'COPERNICUS/S2_SR/20220403T141741_20220403T141740_T28XEP',\n",
       "  'COPERNICUS/S2_SR/20220403T141741_20220403T141740_T29XMH',\n",
       "  'COPERNICUS/S2_SR/20220403T141741_20220403T141740_T29XMJ',\n",
       "  'COPERNICUS/S2_SR/20220403T150759_20220403T150756_T28XEP',\n",
       "  'COPERNICUS/S2_SR/20220403T150759_20220403T150756_T28XEQ',\n",
       "  'COPERNICUS/S2_SR/20220403T150759_20220403T150756_T28XER',\n",
       "  'COPERNICUS/S2_SR/20220403T150759_20220403T150756_T29XMJ',\n",
       "  'COPERNICUS/S2_SR/20220403T150759_20220403T150756_T29XMK',\n",
       "  'COPERNICUS/S2_SR/20220403T150759_20220403T150756_T29XML',\n",
       "  'COPERNICUS/S2_SR/20220403T150759_20220403T150919_T28XEM',\n",
       "  'COPERNICUS/S2_SR/20220403T150759_20220403T150919_T28XEN',\n",
       "  'COPERNICUS/S2_SR/20220403T150759_20220403T150919_T28XEP',\n",
       "  'COPERNICUS/S2_SR/20220403T150759_20220403T150919_T28XEQ',\n",
       "  'COPERNICUS/S2_SR/20220403T150759_20220403T150919_T29XMH',\n",
       "  'COPERNICUS/S2_SR/20220403T150759_20220403T150919_T29XMJ',\n",
       "  'COPERNICUS/S2_SR/20220403T150759_20220403T150919_T29XMK',\n",
       "  'COPERNICUS/S2_SR/20220403T155821_20220403T155822_T28XEP',\n",
       "  'COPERNICUS/S2_SR/20220403T155821_20220403T155822_T28XEQ',\n",
       "  'COPERNICUS/S2_SR/20220403T155821_20220403T155822_T28XER',\n",
       "  'COPERNICUS/S2_SR/20220403T155821_20220403T155822_T28XES',\n",
       "  'COPERNICUS/S2_SR/20220403T155821_20220403T155822_T29XMJ',\n",
       "  'COPERNICUS/S2_SR/20220403T155821_20220403T155822_T29XMK',\n",
       "  'COPERNICUS/S2_SR/20220403T155821_20220403T155822_T29XML',\n",
       "  'COPERNICUS/S2_SR/20220403T155821_20220403T155822_T29XNM',\n",
       "  'COPERNICUS/S2_SR/20220403T155821_20220403T155822_T30XVR',\n",
       "  'COPERNICUS/S2_SR/20220403T164839_20220403T164838_T28XEP',\n",
       "  'COPERNICUS/S2_SR/20220403T164839_20220403T164838_T28XEQ',\n",
       "  'COPERNICUS/S2_SR/20220403T164839_20220403T164838_T28XER',\n",
       "  'COPERNICUS/S2_SR/20220403T164839_20220403T164838_T28XES',\n",
       "  'COPERNICUS/S2_SR/20220403T164839_20220403T164838_T28XET',\n",
       "  'COPERNICUS/S2_SR/20220403T164839_20220403T164838_T29XMJ',\n",
       "  'COPERNICUS/S2_SR/20220403T164839_20220403T164838_T29XMK',\n",
       "  'COPERNICUS/S2_SR/20220403T164839_20220403T164838_T29XML',\n",
       "  'COPERNICUS/S2_SR/20220403T164839_20220403T164838_T29XNM',\n",
       "  'COPERNICUS/S2_SR/20220403T164839_20220403T164838_T30XVR']]"
      ]
     },
     "execution_count": 8,
     "metadata": {},
     "output_type": "execute_result"
    }
   ],
   "source": [
    "coincident_S2_image_ids"
   ]
  },
  {
   "cell_type": "code",
   "execution_count": 12,
   "id": "a9113627-1035-4fb2-9d57-34f88eaf5c0b",
   "metadata": {},
   "outputs": [
    {
     "data": {
      "text/html": [
       "\n",
       "            <style>\n",
       "                .geemap-dark {\n",
       "                    --jp-widgets-color: white;\n",
       "                    --jp-widgets-label-color: white;\n",
       "                    --jp-ui-font-color1: white;\n",
       "                    --jp-layout-color2: #454545;\n",
       "                    background-color: #383838;\n",
       "                }\n",
       "\n",
       "                .geemap-dark .jupyter-button {\n",
       "                    --jp-layout-color3: #383838;\n",
       "                }\n",
       "\n",
       "                .geemap-colab {\n",
       "                    background-color: var(--colab-primary-surface-color, white);\n",
       "                }\n",
       "\n",
       "                .geemap-colab .jupyter-button {\n",
       "                    --jp-layout-color3: var(--colab-primary-surface-color, white);\n",
       "                }\n",
       "            </style>\n",
       "            "
      ],
      "text/plain": [
       "<IPython.core.display.HTML object>"
      ]
     },
     "metadata": {},
     "output_type": "display_data"
    }
   ],
   "source": [
    "# Save to a CSV file\n",
    "import csv\n",
    "with open('../Data/search_output/coincident_S2_image_ids_dt'+str(deltatime)+'_mcc'+str(max_cloud_cover)+'_dlnd'+str(dist_land_mask)+image_catalog+'csv', 'w', newline='') as file:\n",
    "    writer = csv.writer(file)\n",
    "    writer.writerows(coincident_S2_image_ids)\n",
    "    \n",
    "np.save('../Data/search_output/S2_coords'+str(deltatime)+'_mcc'+str(max_cloud_cover)+'_dlnd'+str(dist_land_mask)+image_catalog, S2_coords)\n",
    "np.save('../Data/search_output/number_of_coincident_scenes_in_granule'+str(deltatime)+'_mcc'+str(max_cloud_cover)+'_dlnd'+str(dist_land_mask)+image_catalog, number_of_coincident_scenes_in_granule)\n",
    "np.save('../Data/search_output/is2_coordinate_tracks_matched'+str(deltatime)+'_mcc'+str(max_cloud_cover)+'_dlnd'+str(dist_land_mask)+image_catalog, is2_coordinate_tracks_matched)\n",
    "np.save('../Data/search_output/ATL_midtimes_matched'+str(deltatime)+'_mcc'+str(max_cloud_cover)+'_dlnd'+str(dist_land_mask)+image_catalog, ATL_midtimes_matched)\n",
    "np.save('../Data/search_output/ATL_filenames_matched'+str(deltatime)+'_mcc'+str(max_cloud_cover)+'_dlnd'+str(dist_land_mask)+image_catalog, ATL_filenames_matched)\n",
    "  "
   ]
  },
  {
   "cell_type": "code",
   "execution_count": 13,
   "id": "c8d7d28b-e6b0-4697-baa6-98e4ef3b7cc6",
   "metadata": {},
   "outputs": [
    {
     "data": {
      "text/html": [
       "\n",
       "            <style>\n",
       "                .geemap-dark {\n",
       "                    --jp-widgets-color: white;\n",
       "                    --jp-widgets-label-color: white;\n",
       "                    --jp-ui-font-color1: white;\n",
       "                    --jp-layout-color2: #454545;\n",
       "                    background-color: #383838;\n",
       "                }\n",
       "\n",
       "                .geemap-dark .jupyter-button {\n",
       "                    --jp-layout-color3: #383838;\n",
       "                }\n",
       "\n",
       "                .geemap-colab {\n",
       "                    background-color: var(--colab-primary-surface-color, white);\n",
       "                }\n",
       "\n",
       "                .geemap-colab .jupyter-button {\n",
       "                    --jp-layout-color3: var(--colab-primary-surface-color, white);\n",
       "                }\n",
       "            </style>\n",
       "            "
      ],
      "text/plain": [
       "<IPython.core.display.HTML object>"
      ]
     },
     "metadata": {},
     "output_type": "display_data"
    }
   ],
   "source": [
    "# Save the output\n",
    "#np.save('../Data/search_output/coincident_S2_image_ids_dt'+str(deltatime)+'_mcc'+str(max_cloud_cover)+'_dlnd'+str(dist_land_mask)+image_catalog, coincident_S2_image_ids)\n",
    "\n",
    "        "
   ]
  },
  {
   "cell_type": "code",
   "execution_count": null,
   "id": "367f51f8-5748-4e80-a42b-67ffe6bfb65b",
   "metadata": {},
   "outputs": [],
   "source": [
    "# Save an image\n",
    "# Start an export task\n",
    "image = ee.Image(image_id)\n",
    "\n",
    "export_task = ee.batch.Export.image.toDrive(\n",
    "    description='Sentinel-2_Export',  # Name of the export task\n",
    "    folder='EarthEngineExports',  # Destination folder in Google Drive\n",
    "    fileNamePrefix='sentinel2_image',  # Filename prefix in Google Drive\n",
    "    #region=roi.getInfo()['coordinates'],  # Exported region\n",
    "    scale=10,  # Scale in meters (Sentinel-2 native resolution)\n",
    "    #crs='EPSG:4326',  # Coordinate Reference System\n",
    "    #maxPixels=1e9  # Maximum number of pixels allowed\n",
    ")\n",
    "\n",
    "# Start the export task\n",
    "export_task.start()"
   ]
  },
  {
   "cell_type": "code",
   "execution_count": null,
   "id": "1560b584-9b0c-4865-8522-d634f9cfa20b",
   "metadata": {},
   "outputs": [],
   "source": [
    "coincident_S2_images"
   ]
  },
  {
   "cell_type": "code",
   "execution_count": null,
   "id": "d090b6b8-ab22-4ae2-bf80-32a09f0906e6",
   "metadata": {},
   "outputs": [],
   "source": [
    "# MOSAIC images\n",
    "coincident_S2_mosaics=[]\n",
    "for imagecollection in coincident_S2_images:\n",
    "    # mosaic images and save that too\n",
    "    # more ideas here: https://developers.google.com/earth-engine/apidocs/ee-imagecollection-mosaic\n",
    "    # could add cloud filters and other things here, for now just creudely mosaic them...\n",
    "    print('Mosaicing images...')\n",
    "    mosaic = imagecollection.mosaic()\n",
    "    coincident_S2_mosaics.append(mosaic)"
   ]
  },
  {
   "cell_type": "code",
   "execution_count": null,
   "id": "8a58a94f-848b-4711-b8ef-1e607897e6dd",
   "metadata": {},
   "outputs": [],
   "source": []
  },
  {
   "cell_type": "code",
   "execution_count": null,
   "id": "ead99f0b-2dec-410f-bb7f-1ed4e3b497c9",
   "metadata": {},
   "outputs": [],
   "source": [
    "Map = geemap.Map()\n",
    "\n",
    "coincident_granule_num = 1\n",
    "\n",
    "#coincident_S2_images\n",
    "#s2_id = coincident_S2_images[coincident_granule_num].aggregate_first('id').getInfo()\n",
    "mean_cloud_cover = coincident_S2_images[coincident_granule_num].aggregate_mean('CLOUD_COVERAGE_ASSESSMENT').getInfo()\n",
    "#mean_cloud_pixel = coincident_S2_images[coincident_granule_num].aggregate_mean('CLOUDY_PIXEL_PERCENTAGE').getInfo()\n",
    "mean_time_delta = coincident_S2_images[coincident_granule_num].aggregate_mean('system:time_start').getInfo()\n",
    "time_s2 = datetime(1970, 1, 1) + timedelta(seconds = mean_time_delta/1000) \n",
    "\n",
    "print(ATL_filenames_matched[coincident_granule_num])\n",
    "cs2_file_name = c2ice_df[c2ice_df['atl07filename']==ATL_filenames_matched[coincident_granule_num]].l2filename.tolist()[0]\n",
    "print(cs2_file_name)\n",
    "print('Coincident S-2 images', coincident_S2_image_ids[coincident_granule_num])\n",
    "\n",
    "time_cs2_s = c2ice_df[c2ice_df['atl07filename']==ATL_filenames_matched[coincident_granule_num]].cs2_start_time_dt.tolist()[0]\n",
    "time_is2_s = c2ice_df[c2ice_df['atl07filename']==ATL_filenames_matched[coincident_granule_num]].is2_start_time_dt.tolist()[0]\n",
    "time_diff_mins_cs2 = np.int(abs(time_cs2_s-time_s2).seconds/60)\n",
    "time_diff_mins_is2 = np.int(abs(time_is2_s-time_s2).seconds/60)\n",
    "print(f\"Time difference = {time_diff_mins_cs2} minutes between S-2 and start of IS-2 track\")\n",
    "print(f\"Time difference = {time_diff_mins_is2_v2} minutes between S-2 and start of CS-2 track\")\n",
    "\n",
    "time_is2_m = ATL_midtimes_matched[coincident_granule_num]\n",
    "time_diff_mins_is2_mid = np.int(abs(time_is2_m-time_s2).seconds/60)\n",
    "print(f\"Time difference = {time_diff_mins_is2_mid} minutes between S-2 and estimated middle of IS-2 track\")\n",
    "\n",
    "print(f\"Cloud cover = {mean_cloud_cover} %\")\n",
    "\n",
    "\n",
    "\n",
    "#print(mean_cloud_cover, time_s2, time_is2, time_diff_mins)\n",
    "\n",
    "mosaiced_scene = coincident_S2_mosaics[coincident_granule_num]\n",
    "#img = ee.Image(mosaiced_scene).select('B4','B3','B2')\n",
    "\n",
    "Map.addLayer(mosaiced_scene, {'bands': ['B4', 'B3', 'B2'], 'max': 10000}, 'RGB Mosaic')\n",
    "\n",
    "# Center Map around the first image, not figured out how to instead use the mosaic for this\n",
    "img = ee.Image(coincident_S2_image_ids[coincident_granule_num][0]).select('B4','B3','B2')\n",
    "Map.centerObject(img, zoom = 7)\n",
    "Map.addLayer(is2_coordinate_tracks_matched[coincident_granule_num], {}, \"ATl07 beam (middle strong)\")\n",
    "#Map.to_html(outfile='./your_map.html', title='My Map', width='100%', height='880px')\n",
    "\n",
    "# Export the map as a PNG\n",
    "#url = mosaiced_scene.getThumbURL({\n",
    "#    'region': geometry.getInfo(),\n",
    "#    'dimensions': 1024,\n",
    "#    'format': 'png'\n",
    "#})\n",
    "\n",
    "Map"
   ]
  },
  {
   "cell_type": "code",
   "execution_count": null,
   "id": "0480ad1e-154b-467a-b095-2625019acbe8",
   "metadata": {},
   "outputs": [],
   "source": []
  },
  {
   "cell_type": "code",
   "execution_count": null,
   "id": "f829fa96-89cb-4377-b626-82d777506ba1",
   "metadata": {},
   "outputs": [],
   "source": [
    "# Plot a little map showing the location of the S-2 images\n",
    "\n",
    "import matplotlib.pyplot as plt\n",
    "import cartopy.crs as ccrs\n",
    "import cartopy.feature as cfeature\n",
    "\n",
    "# Your list of longitudes and latitudes\n",
    "# Format: [(lon1, lat1), (lon2, lat2), ...]\n",
    "coordinates = [(80, 80), (85, 85)]\n",
    "\n",
    "# Create a figure and add a subplot with a North Polar Stereographic projection\n",
    "fig = plt.figure(figsize=(10, 10))\n",
    "ax = fig.add_subplot(1, 1, 1, projection=ccrs.NorthPolarStereo())\n",
    "\n",
    "# Set the extent of the map to focus on the North Pole area\n",
    "ax.set_extent([-180, 180, 60, 90], ccrs.PlateCarree())\n",
    "\n",
    "# Add coastlines and borders for context\n",
    "ax.add_feature(cfeature.COASTLINE)\n",
    "#ax.add_feature(cfeature.BORDERS, linestyle=':')\n",
    "\n",
    "# Plot the markers based on the provided coordinates\n",
    "x=1\n",
    "for lon, lat in S2_coords:\n",
    "    ax.plot(lon, lat, 'ro', markersize=5, transform=ccrs.Geodetic())\n",
    "    ax.text(lon, lat, str(x), transform=ccrs.Geodetic())\n",
    "    x+=1\n",
    "\n",
    "plt.savefig('../Data/search_output/locations'+str(deltatime)+'_mcc'+str(max_cloud_cover)+'_dlnd'+str(dist_land_mask)+image_catalog+'.png')\n",
    "# Display the plot\n",
    "plt.show()\n"
   ]
  },
  {
   "cell_type": "code",
   "execution_count": null,
   "id": "eb286d47-4547-4618-b19c-be91c504f813",
   "metadata": {},
   "outputs": [],
   "source": [
    "#%pip install leafmap"
   ]
  },
  {
   "cell_type": "code",
   "execution_count": null,
   "id": "6e02f6a3-6ab0-4237-a5b1-c35a9e67e04f",
   "metadata": {},
   "outputs": [],
   "source": [
    "#import os\n",
    "#import leafmap.leafmap as leafmap"
   ]
  },
  {
   "cell_type": "code",
   "execution_count": null,
   "id": "ff4175b5-a2d5-43d9-a770-03771f0ad78c",
   "metadata": {},
   "outputs": [],
   "source": [
    "#mosaiced_scene"
   ]
  },
  {
   "cell_type": "code",
   "execution_count": null,
   "id": "20a76997-4156-4e4b-a948-0b377f6c9219",
   "metadata": {},
   "outputs": [],
   "source": [
    "#m = leafmap.Map()\n",
    "#m.add(\"nasa_earth_data\")\n",
    "#m.add_layer(mosaiced_scene,['B4', 'B3', 'B2'])\n",
    "#url = \"https://canada-spot-ortho.s3.amazonaws.com/canada_spot_orthoimages/canada_spot5_orthoimages/S5_2007/S5_11055_6057_20070622/S5_11055_6057_20070622.json\"\n",
    "#leafmap.stac_assets(url)\n",
    "#leafmap.stac_center(url)\n",
    "#leafmap.stac_bounds(url)\n",
    "#m.add_stac_layer(url, bands=[\"B3\", \"B2\", \"B1\"])\n",
    "#m"
   ]
  },
  {
   "cell_type": "code",
   "execution_count": null,
   "id": "1c757575-ec00-400b-a76a-94e16a697b77",
   "metadata": {},
   "outputs": [],
   "source": [
    "#Map.to_html(outfile='./your_map.html', title='My Map', width='100%', height='880px')"
   ]
  },
  {
   "cell_type": "code",
   "execution_count": null,
   "id": "e48f3601-65e8-462a-9619-865e195d540b",
   "metadata": {},
   "outputs": [],
   "source": [
    "# In this section, we can check single coincident dataset on the map by assigning different values from non_zero_indices to test_x. \n",
    "# AP update: I dont need the time check here as it's in my function above!\n",
    "granule_num=1\n",
    "scene_number = coincident_granules_idx[granule_num]\n",
    "S2_ids = [S2_scenes[scene_number].toList(number_of_scenes[scene_number]).getInfo()[i]['id'] for i in range(0, number_of_scenes[scene_number])]  \n",
    "\n",
    "#time_diff = 3600*4 # Target time difference between ATL07 and Sentinel-2 < 3 hours\n",
    "#time_IS2 = datetime.strptime(IS2_file_name[test_x][-33:-19], \"%Y%m%d%H%M%S\")\n",
    "\n",
    "Map = geemap.Map()\n",
    "\n",
    "for i in range(0, number_of_scenes[scene_number]):\n",
    "#for i in range(0, 1):\n",
    "    time_start = S2_scenes[scene_number].toList(number_of_scenes[scene_number]).getInfo()[i]['properties']['system:time_start']\n",
    "    time_s2 = datetime(1970, 1, 1) + timedelta(seconds = time_start/1000)   \n",
    "    \n",
    "    img_name = os.path.basename(S2_ids[i])\n",
    "\n",
    "    # Time difference between IS2 and S2 < defined time_diff\n",
    "    #if abs(time_IS2-time_s2).seconds <= time_diff:\n",
    "\n",
    "    print(f\" {img_name}: Time difference = {np.int(abs(ATL_mid_times[granule_num]-time_s2).seconds/60)} minutes with ICESat-2 track\")\n",
    "    \n",
    "    img = ee.Image(S2_ids[i]).select('B4','B3','B2')\n",
    "    dim = img.getInfo()['bands'][0]['dimensions']\n",
    "    if dim[0] > 10000 and dim[1] > 0:\n",
    "        # # Download image into the local folder\n",
    "        #geemap.download_ee_image(img, f\"S2_{img_name}.tif\", scale=50)\n",
    "        Map.addLayer(img, {'min': 0, 'max': 10000}, img_name)\n",
    "        #print(f\" {img_name}: Time difference = {abs(time_IS2-time_s2).seconds/3600} hours with ICESat-2 track\")\n",
    "        #else:\n",
    "        #    print(f\"SKIP {img_name}: Not a full image\")\n",
    "   #else:\n",
    "   #     print(f\"SKIP {img_name}: Time difference > {time_diff/3600} hours with ICESat-2 track\")\n",
    "   #     Map.addLayer(img, {'min': 0, 'max': 10000}, img_name)\n",
    "   #     print(f\" {img_name}: Time difference = {abs(time_IS2-time_s2).seconds/3600} hours with ICESat-2 track\")\n",
    "\n",
    "Map.centerObject(img, zoom = 5)\n",
    "Map.addLayer(feature_track[scene_number], {}, \"IS2 track\")\n",
    "\n",
    "\n",
    "Map"
   ]
  },
  {
   "cell_type": "code",
   "execution_count": null,
   "id": "8d8159c5-678c-4ec2-909e-7488cf246306",
   "metadata": {},
   "outputs": [],
   "source": [
    "S2[scene_number].toList(number_of_scenes[scene_number]).getInfo()[i]['properties']"
   ]
  },
  {
   "cell_type": "code",
   "execution_count": null,
   "id": "02d36cdd-4cc0-4dc7-865b-e45d0efacc3b",
   "metadata": {},
   "outputs": [],
   "source": []
  }
 ],
 "metadata": {
  "kernelspec": {
   "display_name": "Python 3 (ipykernel)",
   "language": "python",
   "name": "python3"
  },
  "language_info": {
   "codemirror_mode": {
    "name": "ipython",
    "version": 3
   },
   "file_extension": ".py",
   "mimetype": "text/x-python",
   "name": "python",
   "nbconvert_exporter": "python",
   "pygments_lexer": "ipython3",
   "version": "3.11.9"
  }
 },
 "nbformat": 4,
 "nbformat_minor": 5
}
