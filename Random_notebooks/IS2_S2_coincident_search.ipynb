{
 "cells": [
  {
   "cell_type": "code",
   "execution_count": 1,
   "id": "25bff8ba-d582-4243-b50a-da4ff7cae08c",
   "metadata": {},
   "outputs": [
    {
     "data": {
      "text/plain": [
       "\"\\nIS2_S2_cryo2ice_search.ipynb\\nAlek Petty, adapted from an earlier M. Bagnardi script.\\n\\nDeescription:\\n- This notebook searches for semi-coincident ICESat-2 and Sentinel-2 data.\\n- The code finds Sentinel-2 images with ICESat-2 data falling within the image's footprint.\\n- The code was updayed to read in ATl07 data from the new cloud storage using earthdata following this earthdata tutorial:\\n     https://github.com/nsidc/NSIDC-Data-Tutorials/blob/main/notebooks/ICESat-2_Cloud_Access/nsidc_daac_uwg_cloud_access_tutorial_rendered.ipynb\\n- Include new filtering to only look for images where we have cryo2ice (CryoSat-2 coincident) data based on external file. \\n \\nTo do:\\n- Integrate the GEE or other cloud-based S-2 catalog. What data is on those comapred to the sentinelhub?\\n- Check all beams iunstead of just the middle beam.\\n- Add in other imagery/satellite sensors.\\n\\nNotes:\\n- Another way of doing this is to use the RGT (reference ground track) data from ICESat-2.\\n    This could help if you want to look at future data I guess, but downside is it doesn't say where the data actually is on yhe ground, \\n    just theoretical tracks.\\n- Uses the middle strong beam but could be easily adapted to check across all beams.=\\n- Tested with the adapted 'geo' conda env on cryocloud if you want to convert into a python script.\\n\\nOutput:\\n\\nUpdate history:\\n - Current notebook created in Apr 2024.\\n\\n\""
      ]
     },
     "execution_count": 1,
     "metadata": {},
     "output_type": "execute_result"
    }
   ],
   "source": [
    "\"\"\"\n",
    "IS2_S2_cryo2ice_search.ipynb\n",
    "Alek Petty, adapted from an earlier M. Bagnardi script.\n",
    "\n",
    "Deescription:\n",
    "- This notebook searches for semi-coincident ICESat-2 and Sentinel-2 data.\n",
    "- The code finds Sentinel-2 images with ICESat-2 data falling within the image's footprint.\n",
    "- The code was updated to read in ATl07 data from the new cloud storage using earthdata, see relevant tutorials:\n",
    "     https://github.com/nsidc/NSIDC-Data-Tutorials/blob/main/notebooks/ICESat-2_Cloud_Access/ATL06-direct-access_rendered.ipynb\n",
    "     https://github.com/nsidc/NSIDC-Data-Tutorials/blob/main/notebooks/ICESat-2_Cloud_Access/nsidc_daac_uwg_cloud_access_tutorial_rendered.ipynb (No longer hosted!!)\n",
    "- Include new filtering to only look for images where we have cryo2ice (CryoSat-2 coincident) data based on external file. \n",
    " \n",
    "To do:\n",
    "- Integrate the GEE or other cloud-based S-2 catalog. What data is on those comapred to the sentinelhub?\n",
    "- Check all beams iunstead of just the middle beam.\n",
    "- Add in other imagery/satellite sensors.\n",
    "\n",
    "Notes:\n",
    "- Another way of doing this is to use the RGT (reference ground track) data from ICESat-2.\n",
    "    This could help if you want to look at future data I guess, but downside is it doesn't say where the data actually is on yhe ground, \n",
    "    just theoretical tracks.\n",
    "- Uses the middle strong beam but could be easily adapted to check across all beams.=\n",
    "- Tested with the adapted 'geo' conda env on cryocloud if you want to convert into a python script.\n",
    "\n",
    "Output:\n",
    "\n",
    "Update history:\n",
    " - Current notebook created in Apr 2024.\n",
    "\n",
    "\"\"\""
   ]
  },
  {
   "cell_type": "code",
   "execution_count": 2,
   "id": "96049f4f-ab3a-49da-b1f0-e2b924dbaa97",
   "metadata": {},
   "outputs": [],
   "source": [
    "# Uncomment these out when running for the first time on cryocloud\n",
    "#%pip install sentinelsat\n",
    "#%pip install earthdata\n",
    "#%pip install astropy"
   ]
  },
  {
   "cell_type": "code",
   "execution_count": 3,
   "id": "98cd6034-b678-4e9c-ab5a-b6fcc7da41b8",
   "metadata": {},
   "outputs": [],
   "source": [
    "#from sentinelsat import SentinelAPI, read_geojson, geojson_to_wkt\n",
    "import datetime as dt\n",
    "import h5py\n",
    "import pandas as pd\n",
    "# Need to do this for geopandas for some reason\n",
    "import os\n",
    "os.environ['USE_PYGEOS'] = '0'\n",
    "import geopandas as gpd\n",
    "import glob\n",
    "from shapely.geometry import Point\n",
    "import matplotlib.pyplot as plt\n",
    "import os\n",
    "from astropy.time import Time\n",
    "import numpy as np\n",
    "from PIL import Image\n",
    "import io\n",
    "import requests\n",
    "import time\n",
    "import earthaccess\n",
    "import xarray as xr"
   ]
  },
  {
   "cell_type": "code",
   "execution_count": 24,
   "id": "b5fdf2ad-d626-41e4-8734-ce00c1b592ac",
   "metadata": {},
   "outputs": [
    {
     "name": "stdout",
     "output_type": "stream",
     "text": [
      "Collecting openeo\n",
      "  Downloading openeo-0.28.0-py3-none-any.whl.metadata (7.3 kB)\n",
      "Requirement already satisfied: requests>=2.26.0 in /srv/conda/envs/notebook/lib/python3.11/site-packages (from openeo) (2.31.0)\n",
      "Requirement already satisfied: shapely>=1.6.4 in /srv/conda/envs/notebook/lib/python3.11/site-packages (from openeo) (2.0.3)\n",
      "Requirement already satisfied: numpy>=1.17.0 in /srv/conda/envs/notebook/lib/python3.11/site-packages (from openeo) (1.23.5)\n",
      "Requirement already satisfied: xarray>=0.12.3 in /srv/conda/envs/notebook/lib/python3.11/site-packages (from openeo) (2024.2.0)\n",
      "Requirement already satisfied: pandas>0.20.0 in /srv/conda/envs/notebook/lib/python3.11/site-packages (from openeo) (2.2.1)\n",
      "Collecting deprecated>=1.2.12 (from openeo)\n",
      "  Downloading Deprecated-1.2.14-py2.py3-none-any.whl.metadata (5.4 kB)\n",
      "Requirement already satisfied: wrapt<2,>=1.10 in /srv/conda/envs/notebook/lib/python3.11/site-packages (from deprecated>=1.2.12->openeo) (1.16.0)\n",
      "Requirement already satisfied: python-dateutil>=2.8.2 in /srv/conda/envs/notebook/lib/python3.11/site-packages (from pandas>0.20.0->openeo) (2.8.2)\n",
      "Requirement already satisfied: pytz>=2020.1 in /srv/conda/envs/notebook/lib/python3.11/site-packages (from pandas>0.20.0->openeo) (2023.3.post1)\n",
      "Requirement already satisfied: tzdata>=2022.7 in /srv/conda/envs/notebook/lib/python3.11/site-packages (from pandas>0.20.0->openeo) (2024.1)\n",
      "Requirement already satisfied: charset-normalizer<4,>=2 in /srv/conda/envs/notebook/lib/python3.11/site-packages (from requests>=2.26.0->openeo) (3.3.0)\n",
      "Requirement already satisfied: idna<4,>=2.5 in /srv/conda/envs/notebook/lib/python3.11/site-packages (from requests>=2.26.0->openeo) (3.4)\n",
      "Requirement already satisfied: urllib3<3,>=1.21.1 in /srv/conda/envs/notebook/lib/python3.11/site-packages (from requests>=2.26.0->openeo) (1.26.18)\n",
      "Requirement already satisfied: certifi>=2017.4.17 in /srv/conda/envs/notebook/lib/python3.11/site-packages (from requests>=2.26.0->openeo) (2024.2.2)\n",
      "Requirement already satisfied: packaging>=22 in /srv/conda/envs/notebook/lib/python3.11/site-packages (from xarray>=0.12.3->openeo) (23.2)\n",
      "Requirement already satisfied: six>=1.5 in /srv/conda/envs/notebook/lib/python3.11/site-packages (from python-dateutil>=2.8.2->pandas>0.20.0->openeo) (1.16.0)\n",
      "Downloading openeo-0.28.0-py3-none-any.whl (253 kB)\n",
      "\u001b[2K   \u001b[90m━━━━━━━━━━━━━━━━━━━━━━━━━━━━━━━━━━━━━━━━\u001b[0m \u001b[32m253.6/253.6 kB\u001b[0m \u001b[31m3.1 MB/s\u001b[0m eta \u001b[36m0:00:00\u001b[0ma \u001b[36m0:00:01\u001b[0m\n",
      "\u001b[?25hDownloading Deprecated-1.2.14-py2.py3-none-any.whl (9.6 kB)\n",
      "Installing collected packages: deprecated, openeo\n",
      "Successfully installed deprecated-1.2.14 openeo-0.28.0\n",
      "Note: you may need to restart the kernel to use updated packages.\n"
     ]
    }
   ],
   "source": [
    "%pip install openeo\n",
    "import openeo"
   ]
  },
  {
   "cell_type": "code",
   "execution_count": 4,
   "id": "63667be6-606e-49ca-8b2b-e1f93d04e24b",
   "metadata": {},
   "outputs": [],
   "source": [
    "# Sentinel-hub stuff\n",
    "\n",
    "# https://openeo.dataspace.copernicus.eu\n",
    "# - has a nice summary of the S-2 datasets\n",
    "\n",
    "#sentinel2_product='S2MSI1C'\n",
    "#deltatime=20.0\n",
    "#maxcloud=10\n",
    "#lower_lat=60\n",
    "\n",
    "#username = 'akpetty'\n",
    "#password = 'Icebridge01!'\n",
    "\n",
    "#sentinelsat.exceptions.UnauthorizedError: Invalid user name or password. Note that account creation and password changes may take up to a week to propagate to the 'https://apihub.copernicus.eu/apihub/' API URL you are using. Consider switching to 'https://scihub.copernicus.eu/dhus/' instead in the mean time.\n",
    "# Try https://apihub.copernicus.eu/apihub (Marco) or https://scihub.copernicus.eu/dhus/\n",
    "# Initialize access to API\n",
    "#api = SentinelAPI(username, password, 'https://scihub.copernicus.eu/dhus/')\n"
   ]
  },
  {
   "cell_type": "code",
   "execution_count": 25,
   "id": "8fdda5ac-b587-4131-a2d2-3f16e9b0021d",
   "metadata": {},
   "outputs": [
    {
     "data": {
      "text/html": [
       "Visit <a href=\"https://aai.egi.eu/device?user_code=LPIR-DOHY\" title=\"Authenticate at https://aai.egi.eu/device?user_code=LPIR-DOHY\" target=\"_blank\" rel=\"noopener noreferrer\">https://aai.egi.eu/device?user_code=LPIR-DOHY</a> <a href=\"#\" onclick=\"navigator.clipboard.writeText('https://aai.egi.eu/device?user_code=LPIR-DOHY');return false;\" title=\"Copy authentication URL to clipboard\">&#128203;</a> to authenticate."
      ]
     },
     "metadata": {},
     "output_type": "display_data"
    },
    {
     "data": {
      "text/html": [
       "<code>[#########----------------------------]</code> ✅ Authorized successfully"
      ]
     },
     "metadata": {},
     "output_type": "display_data"
    },
    {
     "name": "stdout",
     "output_type": "stream",
     "text": [
      "Authenticated using device code flow.\n"
     ]
    },
    {
     "data": {
      "text/plain": [
       "['MAPEO_WATER_TUR_V1',\n",
       " 'COP_DEM_EU_25M',\n",
       " 'ESA_WORLDCEREAL_ACTIVECROPLAND',\n",
       " 'ESA_WORLDCEREAL_IRRIGATION',\n",
       " 'ESA_WORLDCEREAL_TEMPORARYCROPS',\n",
       " 'ESA_WORLDCEREAL_WINTERCEREALS',\n",
       " 'ESA_WORLDCEREAL_MAIZE',\n",
       " 'ESA_WORLDCEREAL_SPRINGCEREALS',\n",
       " 'CGLS_GDMP300_V1_GLOBAL',\n",
       " 'CGLS_GDMP_V2_GLOBAL',\n",
       " 'SENTINEL1_GRD_SIGMA0',\n",
       " 'S1_GRD_SIGMA0_ASCENDING',\n",
       " 'S1_GRD_SIGMA0_DESCENDING',\n",
       " 'SENTINEL3_SYNERGY_VG1',\n",
       " 'SENTINEL3_SYNERGY_VG10',\n",
       " 'TERRASCOPE_S2_FAPAR_V2',\n",
       " 'TERRASCOPE_S2_NDVI_V2',\n",
       " 'TERRASCOPE_S2_LAI_V2',\n",
       " 'TERRASCOPE_S2_FCOVER_V2',\n",
       " 'TERRASCOPE_S2_TOC_V2',\n",
       " 'TERRASCOPE_S1_SLC_COHERENCE_V1',\n",
       " 'SENTINEL1_GAMMA0_SENTINELHUB',\n",
       " 'SENTINEL1_GRD',\n",
       " 'SENTINEL2_L1C_SENTINELHUB',\n",
       " 'SENTINEL2_L2A_SENTINELHUB',\n",
       " 'SENTINEL2_L2A_MOSAIC_120',\n",
       " 'PROBAV_L3_S10_TOC_333M',\n",
       " 'PROBAV_L3_S5_TOC_100M',\n",
       " 'PROBAV_L3_S1_TOC_100M',\n",
       " 'PROBAV_L3_S1_TOC_333M',\n",
       " 'TERRASCOPE_S5P_L3_NO2_TD_V1',\n",
       " 'TERRASCOPE_S5P_L3_NO2_TM_V1',\n",
       " 'TERRASCOPE_S5P_L3_NO2_TY_V1',\n",
       " 'TERRASCOPE_S5P_L3_CO_TD_V1',\n",
       " 'TERRASCOPE_S5P_L3_CO_TM_V1',\n",
       " 'TERRASCOPE_S5P_L3_CO_TY_V1',\n",
       " 'TERRASCOPE_S5P_L3_NO2_TD',\n",
       " 'TERRASCOPE_S5P_L3_NO2_TM',\n",
       " 'TERRASCOPE_S5P_L3_NO2_TY',\n",
       " 'TERRASCOPE_S5P_L3_CO_TD',\n",
       " 'TERRASCOPE_S5P_L3_CO_TM',\n",
       " 'TERRASCOPE_S5P_L3_CO_TY',\n",
       " 'TERRASCOPE_S5P_L3_HCHO_TD',\n",
       " 'TERRASCOPE_S5P_L3_HCHO_TM',\n",
       " 'TERRASCOPE_S5P_L3_HCHO_TY',\n",
       " 'TERRASCOPE_S5P_L3_CH4_TD',\n",
       " 'TERRASCOPE_S5P_L3_CH4_TM',\n",
       " 'TERRASCOPE_S5P_L3_CH4_TY',\n",
       " 'LANDSAT8-9_L1',\n",
       " 'LANDSAT8-9_L2',\n",
       " 'LANDSAT4-5_TM_L1',\n",
       " 'LANDSAT4-5_TM_L2',\n",
       " 'LANDSAT7_ETM_L1',\n",
       " 'LANDSAT7_ETM_L2',\n",
       " 'MODIS',\n",
       " 'SENTINEL3_OLCI_L1B',\n",
       " 'SENTINEL3_SLSTR',\n",
       " 'COPERNICUS_30',\n",
       " 'COPERNICUS_90',\n",
       " 'TERRASCOPE_S2_RHOW_V1',\n",
       " 'TERRASCOPE_S2_CHL_V1',\n",
       " 'TERRASCOPE_S2_SPM_V1',\n",
       " 'TERRASCOPE_S2_TUR_V1',\n",
       " 'ESA_WORLDCOVER_10M_2020_V1',\n",
       " 'ESA_WORLDCOVER_10M_2021_V2',\n",
       " 'CORINE_LAND_COVER',\n",
       " 'CORINE_LAND_COVER_ACCOUNTING_LAYERS',\n",
       " 'GHS_BUILT_S2',\n",
       " 'GLOBAL_LAND_COVER',\n",
       " 'GLOBAL_SURFACE_WATER',\n",
       " 'SEA_ICE_INDEX',\n",
       " 'SENTINEL_5P_L2',\n",
       " 'MAPZEN_DEM',\n",
       " 'LANDSAT1-5_MSS_L1',\n",
       " 'WATER_BODIES',\n",
       " 'SENTINEL1_CARD4L',\n",
       " 'VEGETATION_INDICES',\n",
       " 'SEASONAL_TRAJECTORIES',\n",
       " 'VEGETATION_PHENOLOGY_AND_PRODUCTIVITY_PARAMETERS_SEASON_1',\n",
       " 'VEGETATION_PHENOLOGY_AND_PRODUCTIVITY_PARAMETERS_SEASON_2',\n",
       " 'FRACTIONAL_SNOW_COVER',\n",
       " 'OPENEO_CROPTYPE_2021',\n",
       " 'EGM2008',\n",
       " 'CGLS_NDVI_LTS_V2_GLOBAL',\n",
       " 'CGLS_NDVI_LTS_V3_GLOBAL',\n",
       " 'CGLS_SSM_V1_EUROPE',\n",
       " 'CGLS_FAPAR_V2_GLOBAL',\n",
       " 'CGLS_LAI_V2_GLOBAL',\n",
       " 'CGLS_FCOVER_V2_GLOBAL',\n",
       " 'CGLS_LAI300_V1_GLOBAL',\n",
       " 'CGLS_NDVI300_V1_GLOBAL',\n",
       " 'CGLS_FCOVER300_V1_GLOBAL',\n",
       " 'CGLS_FAPAR300_V1_GLOBAL',\n",
       " 'CGLS_NDVI300_V2_GLOBAL',\n",
       " 'CGLS_NDVI_V3_GLOBAL',\n",
       " 'CGLS_NDVI_V2_GLOBAL',\n",
       " 'CGLS_SWI_V1_EUROPE',\n",
       " 'TERRASCOPE_S1_GAMMA0_V1',\n",
       " 'SENTINEL2_L1C_INCD',\n",
       " 'SENTINEL2_L2A',\n",
       " 'AGERA5',\n",
       " 'PLANETSCOPE',\n",
       " 'POPULATION_DENSITY',\n",
       " 'SENTINEL2_L1C']"
      ]
     },
     "execution_count": 25,
     "metadata": {},
     "output_type": "execute_result"
    }
   ],
   "source": [
    "\n",
    "# Connect to openEO back-end.\n",
    "connection = openeo.connect(\"openeo.vito.be\").authenticate_oidc()\n",
    "\n",
    "connection.list_collection_ids()\n",
    "\n",
    "\n",
    "#connection.load_collection(\n",
    "#    \"SENTINEL2_L2A\",\n",
    "#    ...,\n",
    "#    max_cloud_cover=80,\n",
    "#)"
   ]
  },
  {
   "cell_type": "code",
   "execution_count": 10,
   "id": "cab80b01-023c-4032-b84e-379765608825",
   "metadata": {},
   "outputs": [
    {
     "name": "stdout",
     "output_type": "stream",
     "text": [
      "Granules found: 14\n"
     ]
    }
   ],
   "source": [
    "# ICESat-2/earthaccess stuff\n",
    "auth = earthaccess.login()\n",
    "granules_cloud = earthaccess.search_data(\n",
    "    short_name = 'ATL07',\n",
    "    version = '006',\n",
    "    cloud_hosted = True,\n",
    "    bounding_box = (-180,30,180,89),\n",
    "    temporal = (\"2021-03-01\", \"2021-03-02\"),\n",
    ")\n"
   ]
  },
  {
   "cell_type": "code",
   "execution_count": 20,
   "id": "28ce4c89-b669-4da7-9c5a-c0f2e056765f",
   "metadata": {},
   "outputs": [
    {
     "name": "stdout",
     "output_type": "stream",
     "text": [
      "Opening 14 granules, approx size: 4.05 GB\n",
      "using provider: NSIDC_CPRD\n"
     ]
    },
    {
     "data": {
      "application/vnd.jupyter.widget-view+json": {
       "model_id": "a2950948c8564d6ca21816dfc7f60df9",
       "version_major": 2,
       "version_minor": 0
      },
      "text/plain": [
       "QUEUEING TASKS | :   0%|          | 0/14 [00:00<?, ?it/s]"
      ]
     },
     "metadata": {},
     "output_type": "display_data"
    },
    {
     "data": {
      "application/vnd.jupyter.widget-view+json": {
       "model_id": "8a5c2478fa1a4dc8a928b56c4f15230f",
       "version_major": 2,
       "version_minor": 0
      },
      "text/plain": [
       "PROCESSING TASKS | :   0%|          | 0/14 [00:00<?, ?it/s]"
      ]
     },
     "metadata": {},
     "output_type": "display_data"
    },
    {
     "data": {
      "application/vnd.jupyter.widget-view+json": {
       "model_id": "86b07947e3e94b24a665bb54ca981294",
       "version_major": 2,
       "version_minor": 0
      },
      "text/plain": [
       "COLLECTING RESULTS | :   0%|          | 0/14 [00:00<?, ?it/s]"
      ]
     },
     "metadata": {},
     "output_type": "display_data"
    }
   ],
   "source": [
    "# Open files (not found a way of not needing to do this..)\n",
    "atl07_files = earthaccess.open(granules_cloud)"
   ]
  },
  {
   "cell_type": "code",
   "execution_count": 26,
   "id": "3d48ef75-7bb7-480b-990d-faa866fe2c65",
   "metadata": {},
   "outputs": [
    {
     "ename": "TypeError",
     "evalue": "object of type 'DataCube' has no len()",
     "output_type": "error",
     "traceback": [
      "\u001b[0;31m---------------------------------------------------------------------------\u001b[0m",
      "\u001b[0;31mTypeError\u001b[0m                                 Traceback (most recent call last)",
      "Cell \u001b[0;32mIn[26], line 51\u001b[0m\n\u001b[1;32m     41\u001b[0m \u001b[38;5;66;03m#try:\u001b[39;00m\n\u001b[1;32m     42\u001b[0m \u001b[38;5;66;03m# Search for Sentinel-2 coincident data\u001b[39;00m\n\u001b[1;32m     44\u001b[0m S2_query \u001b[38;5;241m=\u001b[39m connection\u001b[38;5;241m.\u001b[39mload_collection(\n\u001b[1;32m     45\u001b[0m     \u001b[38;5;124m\"\u001b[39m\u001b[38;5;124mSENTINEL2_L1C\u001b[39m\u001b[38;5;124m\"\u001b[39m,\n\u001b[1;32m     46\u001b[0m     temporal_extent\u001b[38;5;241m=\u001b[39m[ATL_start \u001b[38;5;241m-\u001b[39m dt\u001b[38;5;241m.\u001b[39mtimedelta(minutes\u001b[38;5;241m=\u001b[39mdeltatime), ATL_end \u001b[38;5;241m+\u001b[39m dt\u001b[38;5;241m.\u001b[39mtimedelta(minutes\u001b[38;5;241m=\u001b[39mdeltatime)],\n\u001b[1;32m     47\u001b[0m     \u001b[38;5;66;03m#bands=[\"B04\", \"B03\", \"B02\"],\u001b[39;00m\n\u001b[1;32m     48\u001b[0m     max_cloud_cover\u001b[38;5;241m=\u001b[39mmaxcloud,\n\u001b[1;32m     49\u001b[0m )\n\u001b[0;32m---> 51\u001b[0m S2_gdf \u001b[38;5;241m=\u001b[39m \u001b[43mapi\u001b[49m\u001b[38;5;241;43m.\u001b[39;49m\u001b[43mto_geodataframe\u001b[49m\u001b[43m(\u001b[49m\u001b[43mS2_query\u001b[49m\u001b[43m)\u001b[49m\n\u001b[1;32m     53\u001b[0m S2_gdf_subset \u001b[38;5;241m=\u001b[39m S2_gdf[(S2_gdf\u001b[38;5;241m.\u001b[39mbounds\u001b[38;5;241m.\u001b[39mminy \u001b[38;5;241m>\u001b[39m lower_lat)]\n\u001b[1;32m     55\u001b[0m points_in_poly \u001b[38;5;241m=\u001b[39m gpd\u001b[38;5;241m.\u001b[39mtools\u001b[38;5;241m.\u001b[39msjoin(ATL_gfd, S2_gdf_subset)\n",
      "File \u001b[0;32m/srv/conda/envs/notebook/lib/python3.11/site-packages/sentinelsat/sentinel.py:468\u001b[0m, in \u001b[0;36mSentinelAPI.to_geodataframe\u001b[0;34m(products)\u001b[0m\n\u001b[1;32m    463\u001b[0m     \u001b[38;5;28;01mraise\u001b[39;00m \u001b[38;5;167;01mImportError\u001b[39;00m(\n\u001b[1;32m    464\u001b[0m         \u001b[38;5;124m\"\u001b[39m\u001b[38;5;124mto_geodataframe requires the optional dependencies GeoPandas and Shapely.\u001b[39m\u001b[38;5;124m\"\u001b[39m\n\u001b[1;32m    465\u001b[0m     )\n\u001b[1;32m    467\u001b[0m crs \u001b[38;5;241m=\u001b[39m \u001b[38;5;124m\"\u001b[39m\u001b[38;5;124mEPSG:4326\u001b[39m\u001b[38;5;124m\"\u001b[39m  \u001b[38;5;66;03m# WGS84\u001b[39;00m\n\u001b[0;32m--> 468\u001b[0m \u001b[38;5;28;01mif\u001b[39;00m \u001b[38;5;28;43mlen\u001b[39;49m\u001b[43m(\u001b[49m\u001b[43mproducts\u001b[49m\u001b[43m)\u001b[49m \u001b[38;5;241m==\u001b[39m \u001b[38;5;241m0\u001b[39m:\n\u001b[1;32m    469\u001b[0m     \u001b[38;5;28;01mreturn\u001b[39;00m gpd\u001b[38;5;241m.\u001b[39mGeoDataFrame(crs\u001b[38;5;241m=\u001b[39mcrs, geometry\u001b[38;5;241m=\u001b[39m[])\n\u001b[1;32m    471\u001b[0m df \u001b[38;5;241m=\u001b[39m SentinelAPI\u001b[38;5;241m.\u001b[39mto_dataframe(products)\n",
      "\u001b[0;31mTypeError\u001b[0m: object of type 'DataCube' has no len()"
     ]
    }
   ],
   "source": [
    "# Loop over ICESat-2 granules\n",
    "for atl07_file in atl07_files:\n",
    "      \n",
    "    # Check spacecraft orientation and assign string beam IDs\n",
    "    ATL = h5py.File(atl07_file, 'r')\n",
    "    orientation = ATL['/orbit_info/sc_orient'][0]\n",
    "\n",
    "    # Only use central strong beam locations\n",
    "    if orientation == 0:\n",
    "        beamID = 'gt2l'\n",
    "    elif orientation == 1:\n",
    "        beamID = 'gt2r'\n",
    "    else:\n",
    "        print('Spacecraft orientation not found.')\n",
    "\n",
    "    # Extract data info from granule\n",
    "    ATL_start_time = ATL['/ancillary_data/data_start_utc'][0]\n",
    "    ATL_start = pd.to_datetime(ATL_start_time[:-8].decode('utf-8'), format='%Y-%m-%dT%H:%M:%S')\n",
    "    ATL_end_time = ATL['/ancillary_data/data_end_utc'][0]\n",
    "    ATL_end = pd.to_datetime(ATL_end_time[:-8].decode('utf-8'), format='%Y-%m-%dT%H:%M:%S')\n",
    "\n",
    "    GPS_epoch = ATL['ancillary_data/atlas_sdp_gps_epoch'][:]\n",
    "\n",
    "    # Build dataframe with location of data\n",
    "    ATL_dF = pd.DataFrame({'Longitude': ATL[beamID + '/sea_ice_segments/longitude'][::200],\n",
    "                           'Latitude': ATL[beamID + '/sea_ice_segments/latitude'][::200],\n",
    "                           })\n",
    "    ATL_dF['coords'] = list(zip(ATL_dF['Longitude'], ATL_dF['Latitude']))\n",
    "    ATL_dF['coords'] = ATL_dF['coords'].apply(Point)\n",
    "\n",
    "    GPS_time = ATL[beamID + '/sea_ice_segments/delta_time'][::200] + GPS_epoch\n",
    "    \n",
    "    # Use astropy to convert from gps time to datetime\n",
    "    ATL_tgps = Time(GPS_time, format='gps')\n",
    "    ATL_utc = ATL_tgps.utc.iso\n",
    "    ATL_dF['UTC'] = ATL_utc\n",
    "\n",
    "    ATL_gfd = gpd.GeoDataFrame(ATL_dF, geometry='coords')\n",
    "    ATL_gfd = ATL_gfd.set_crs(4326, allow_override=True)\n",
    "\n",
    "    #try:\n",
    "    # Search for Sentinel-2 coincident data\n",
    "\n",
    "    S2_query = connection.load_collection(\n",
    "        \"SENTINEL2_L1C\",\n",
    "        temporal_extent=[ATL_start - dt.timedelta(minutes=deltatime), ATL_end + dt.timedelta(minutes=deltatime)],\n",
    "        #bands=[\"B04\", \"B03\", \"B02\"],\n",
    "        max_cloud_cover=maxcloud,\n",
    "    )\n",
    "\n",
    "    S2_gdf = api.to_geodataframe(S2_query)\n",
    "\n",
    "    S2_gdf_subset = S2_gdf[(S2_gdf.bounds.miny > lower_lat)]\n",
    "\n",
    "    points_in_poly = gpd.tools.sjoin(ATL_gfd, S2_gdf_subset)\n",
    "    #print(points_in_poly)\n",
    "    \n",
    "    try:\n",
    "        # Empty geodataframes threw an exception here\n",
    "        print('Number of overlapping tiles:', len(points_in_poly['title'].unique()))\n",
    "    except:\n",
    "        continue\n",
    "\n",
    "    if len(points_in_poly['title'].unique()) > 0:\n",
    "\n",
    "        # Filter products based on the tile ID\n",
    "        #filtered_products = {k: v for k, v in products.items() if v['tileid'] == tile_id}\n",
    "\n",
    "        print('all data:', S2_query)\n",
    "        print('subset:', S2_gdf_subset)\n",
    "\n",
    "        #print(S2_gdf_subset.title)\n",
    "\n",
    "        # download all results from the search\n",
    "        #api.download_all(S2_gdf_subset)\n",
    "\n",
    "        #cwd = os.getcwd()\n",
    "        #print('cwd:', cwd)\n",
    "\n",
    "        atl_name = os.path.basename(ATL_filename)[:-3]\n",
    "        filename = 'S2pairs_'+atl_name\n",
    "        \n",
    "        save_path = '/Users/aapetty/GitHub-output/ICESat-2-sea-ice-tools/IS2_S2_pair_Arctic/'+sentinel2_product+'/maxcloud'+str(maxcloud)+'_deltatime'+str(int(deltatime))+'/'+filename\n",
    "        \n",
    "        print('save_path:', save_path)\n",
    "        \n",
    "        if not os.path.exists(cwd+'/'+sentinel2_product):\n",
    "             os.mkdir(cwd+'/'+sentinel2_product)\n",
    "\n",
    "        if not os.path.exists(cwd+'/'+sentinel2_product+'/maxcloud'+str(maxcloud)+'_deltatime'+str(int(deltatime))):\n",
    "             os.mkdir(cwd+'/'+sentinel2_product+'/maxcloud'+str(maxcloud)+'_deltatime'+str(int(deltatime)))\n",
    "\n",
    "        if not os.path.exists(save_path):\n",
    "             os.mkdir(save_path)\n",
    "\n",
    "        \n",
    "        f = open(save_path + \"/\" + filename+\".txt\", 'a')\n",
    "\n",
    "        fig, ax = plt.subplots(1, 1)\n",
    "\n",
    "        color = iter(plt.cm.rainbow(np.linspace(0, 1, len(points_in_poly['title'].unique()))))\n",
    "        y_shift = 0.8\n",
    "\n",
    "        for granule in points_in_poly['title'].unique():\n",
    "            print(granule)\n",
    "            c = next(color)\n",
    "            y_shift = y_shift -0.05\n",
    "\n",
    "            S2_gdf_subset[S2_gdf_subset['title'] == granule].boundary.plot(ax=ax, color=c)\n",
    "            plt.text(1.2, y_shift, str(granule), transform=ax.transAxes, color=c)\n",
    "\n",
    "        points_in_poly.plot(ax=ax, markersize=3, color='k', marker='o')\n",
    "        plt.title(os.path.basename(ATL_filename))\n",
    "        plt.xlabel('Longitude (deg.)')\n",
    "        plt.ylabel('Latitude (deg.)')\n",
    "\n",
    "        plt.text(1.2, y_shift -0.10, points_in_poly.iloc[0].UTC, transform=ax.transAxes, color='k')\n",
    "        plt.text(1.2, y_shift -0.15, points_in_poly.iloc[-1].UTC, transform=ax.transAxes, color='k')\n",
    "\n",
    "        plt.savefig(save_path + \"/\" + filename+\".png\", bbox_inches='tight', dpi=100)\n",
    "\n",
    "        f.write(save_path + '\\n')\n",
    "        f.write('\\n')\n",
    "        f.write('Lat min: ' + str(min(points_in_poly.Latitude)) + '\\n')\n",
    "        f.write('Lat max: ' + str(max(points_in_poly.Latitude)) + '\\n')\n",
    "        f.write('Time start: ' + points_in_poly.iloc[0].UTC + '\\n')\n",
    "        f.write('Time end: ' + points_in_poly.iloc[-1].UTC + '\\n')\n",
    "        f.write('\\n')\n",
    "        f.write(str(points_in_poly['title'].unique()) + '\\n')\n",
    "        f.write('\\n')\n",
    "        f.write(str(points_in_poly['summary'].unique()) + '\\n')\n",
    "        f.write('\\n')\n",
    "        f.write(str(points_in_poly['link'].unique()) + '\\n')\n",
    "        f.write('\\n')\n",
    "        f.write(str(points_in_poly['link_icon'].unique()) + '\\n')\n",
    "        f.write('\\n')\n",
    "\n",
    "        f.close()"
   ]
  },
  {
   "cell_type": "code",
   "execution_count": 27,
   "id": "ee0a4d32-dbf3-40d1-be08-1edf8d5517cf",
   "metadata": {},
   "outputs": [
    {
     "data": {
      "text/html": [
       "\n",
       "    <script>\n",
       "    if (!window.customElements || !window.customElements.get('openeo-model-builder')) {\n",
       "        var el = document.createElement('script');\n",
       "        el.src = \"https://cdn.jsdelivr.net/npm/@openeo/vue-components@2/assets/openeo.min.js\";\n",
       "        document.head.appendChild(el);\n",
       "\n",
       "        var font = document.createElement('font');\n",
       "        font.as = \"font\";\n",
       "        font.type = \"font/woff2\";\n",
       "        font.crossOrigin = true;\n",
       "        font.href = \"https://use.fontawesome.com/releases/v5.13.0/webfonts/fa-solid-900.woff2\"\n",
       "        document.head.appendChild(font);\n",
       "    }\n",
       "    </script>\n",
       "    <openeo-model-builder>\n",
       "        <script type=\"application/json\">{\"id\": \"734c651d786a49efb2424948438d51ef\", \"explicit-zoom\": true, \"height\": \"400px\", \"value\": {\"process_graph\": {\"loadcollection1\": {\"process_id\": \"load_collection\", \"arguments\": {\"id\": \"SENTINEL2_L1C\", \"properties\": {\"eo:cloud_cover\": {\"process_graph\": {\"lte1\": {\"process_id\": \"lte\", \"arguments\": {\"x\": {\"from_parameter\": \"value\"}, \"y\": 10}, \"result\": true}}}}, \"spatial_extent\": null, \"temporal_extent\": [\"2021-03-01T00:57:58Z\", \"2021-03-01T01:45:01Z\"]}, \"result\": true}}}}</script>\n",
       "    </openeo-model-builder>\n",
       "    "
      ],
      "text/plain": [
       "<openeo.rest.datacube.DataCube at 0x7f3b5b0b7310>"
      ]
     },
     "execution_count": 27,
     "metadata": {},
     "output_type": "execute_result"
    }
   ],
   "source": [
    "S2_query = connection.load_collection(\n",
    "        \"SENTINEL2_L1C\",\n",
    "        temporal_extent=[ATL_start - dt.timedelta(minutes=deltatime), ATL_end + dt.timedelta(minutes=deltatime)],\n",
    "        #bands=[\"B04\", \"B03\", \"B02\"],\n",
    "        max_cloud_cover=maxcloud,\n",
    "    )"
   ]
  },
  {
   "cell_type": "code",
   "execution_count": 34,
   "id": "12ab9534-39bc-416f-8e2d-fe3c7cf74b18",
   "metadata": {},
   "outputs": [
    {
     "ename": "AttributeError",
     "evalue": "'DataCube' object has no attribute 'load'",
     "output_type": "error",
     "traceback": [
      "\u001b[0;31m---------------------------------------------------------------------------\u001b[0m",
      "\u001b[0;31mAttributeError\u001b[0m                            Traceback (most recent call last)",
      "Cell \u001b[0;32mIn[34], line 1\u001b[0m\n\u001b[0;32m----> 1\u001b[0m \u001b[43mS2_query\u001b[49m\u001b[38;5;241;43m.\u001b[39;49m\u001b[43mload\u001b[49m()\n",
      "\u001b[0;31mAttributeError\u001b[0m: 'DataCube' object has no attribute 'load'"
     ]
    }
   ],
   "source": [
    "S2_query.load()"
   ]
  },
  {
   "cell_type": "code",
   "execution_count": 28,
   "id": "73657c76-0f72-45b2-80d1-5607e620a5b3",
   "metadata": {},
   "outputs": [],
   "source": [
    "B04 = S2_query.band(\"B04\")"
   ]
  },
  {
   "cell_type": "code",
   "execution_count": 32,
   "id": "620742e5-cf35-43fe-95bf-3dc6ae2d152f",
   "metadata": {},
   "outputs": [
    {
     "data": {
      "text/plain": [
       "Timestamp('2021-03-01 00:57:58')"
      ]
     },
     "execution_count": 32,
     "metadata": {},
     "output_type": "execute_result"
    }
   ],
   "source": [
    "ATL_start - dt.timedelta(minutes=deltatime)"
   ]
  },
  {
   "cell_type": "code",
   "execution_count": 35,
   "id": "09f908c2-faf0-45ba-a11f-0cfa1af7d829",
   "metadata": {},
   "outputs": [
    {
     "ename": "TypeError",
     "evalue": "object of type 'DataCube' has no len()",
     "output_type": "error",
     "traceback": [
      "\u001b[0;31m---------------------------------------------------------------------------\u001b[0m",
      "\u001b[0;31mTypeError\u001b[0m                                 Traceback (most recent call last)",
      "Cell \u001b[0;32mIn[35], line 2\u001b[0m\n\u001b[1;32m      1\u001b[0m \u001b[38;5;66;03m# GeoPandas GeoDataFrame with the metadata of the scenes and the footprints as geometries\u001b[39;00m\n\u001b[0;32m----> 2\u001b[0m \u001b[43mapi\u001b[49m\u001b[38;5;241;43m.\u001b[39;49m\u001b[43mto_geodataframe\u001b[49m\u001b[43m(\u001b[49m\u001b[43mS2_query\u001b[49m\u001b[43m)\u001b[49m\n",
      "File \u001b[0;32m/srv/conda/envs/notebook/lib/python3.11/site-packages/sentinelsat/sentinel.py:468\u001b[0m, in \u001b[0;36mSentinelAPI.to_geodataframe\u001b[0;34m(products)\u001b[0m\n\u001b[1;32m    463\u001b[0m     \u001b[38;5;28;01mraise\u001b[39;00m \u001b[38;5;167;01mImportError\u001b[39;00m(\n\u001b[1;32m    464\u001b[0m         \u001b[38;5;124m\"\u001b[39m\u001b[38;5;124mto_geodataframe requires the optional dependencies GeoPandas and Shapely.\u001b[39m\u001b[38;5;124m\"\u001b[39m\n\u001b[1;32m    465\u001b[0m     )\n\u001b[1;32m    467\u001b[0m crs \u001b[38;5;241m=\u001b[39m \u001b[38;5;124m\"\u001b[39m\u001b[38;5;124mEPSG:4326\u001b[39m\u001b[38;5;124m\"\u001b[39m  \u001b[38;5;66;03m# WGS84\u001b[39;00m\n\u001b[0;32m--> 468\u001b[0m \u001b[38;5;28;01mif\u001b[39;00m \u001b[38;5;28;43mlen\u001b[39;49m\u001b[43m(\u001b[49m\u001b[43mproducts\u001b[49m\u001b[43m)\u001b[49m \u001b[38;5;241m==\u001b[39m \u001b[38;5;241m0\u001b[39m:\n\u001b[1;32m    469\u001b[0m     \u001b[38;5;28;01mreturn\u001b[39;00m gpd\u001b[38;5;241m.\u001b[39mGeoDataFrame(crs\u001b[38;5;241m=\u001b[39mcrs, geometry\u001b[38;5;241m=\u001b[39m[])\n\u001b[1;32m    471\u001b[0m df \u001b[38;5;241m=\u001b[39m SentinelAPI\u001b[38;5;241m.\u001b[39mto_dataframe(products)\n",
      "\u001b[0;31mTypeError\u001b[0m: object of type 'DataCube' has no len()"
     ]
    }
   ],
   "source": [
    "# GeoPandas GeoDataFrame with the metadata of the scenes and the footprints as geometries\n",
    "api.to_geodataframe(S2_query)"
   ]
  },
  {
   "cell_type": "code",
   "execution_count": null,
   "id": "8d8159c5-678c-4ec2-909e-7488cf246306",
   "metadata": {},
   "outputs": [],
   "source": []
  }
 ],
 "metadata": {
  "kernelspec": {
   "display_name": "Python 3 (ipykernel)",
   "language": "python",
   "name": "python3"
  },
  "language_info": {
   "codemirror_mode": {
    "name": "ipython",
    "version": 3
   },
   "file_extension": ".py",
   "mimetype": "text/x-python",
   "name": "python",
   "nbconvert_exporter": "python",
   "pygments_lexer": "ipython3",
   "version": "3.11.8"
  }
 },
 "nbformat": 4,
 "nbformat_minor": 5
}
