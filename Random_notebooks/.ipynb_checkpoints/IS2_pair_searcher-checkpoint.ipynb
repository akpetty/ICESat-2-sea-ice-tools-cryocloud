{
 "cells": [
  {
   "cell_type": "code",
   "execution_count": 1,
   "id": "cc71496f-6feb-4770-a06a-a17bf78cef47",
   "metadata": {
    "tags": []
   },
   "outputs": [
    {
     "name": "stdout",
     "output_type": "stream",
     "text": [
      "Collecting sentinelsat\n",
      "  Using cached sentinelsat-1.2.1-py3-none-any.whl (48 kB)\n",
      "Collecting html2text\n",
      "  Using cached html2text-2020.1.16-py3-none-any.whl (32 kB)\n",
      "Collecting geojson>=2\n",
      "  Using cached geojson-3.0.1-py3-none-any.whl (15 kB)\n",
      "Requirement already satisfied: requests in /srv/conda/envs/notebook/lib/python3.10/site-packages (from sentinelsat) (2.28.2)\n",
      "Requirement already satisfied: tqdm>=4.58 in /srv/conda/envs/notebook/lib/python3.10/site-packages (from sentinelsat) (4.64.1)\n",
      "Requirement already satisfied: click>=7.1 in /srv/conda/envs/notebook/lib/python3.10/site-packages (from sentinelsat) (8.1.3)\n",
      "Collecting geomet\n",
      "  Using cached geomet-1.0.0-py3-none-any.whl (28 kB)\n",
      "Requirement already satisfied: six in /srv/conda/envs/notebook/lib/python3.10/site-packages (from geomet->sentinelsat) (1.16.0)\n",
      "Requirement already satisfied: certifi>=2017.4.17 in /srv/conda/envs/notebook/lib/python3.10/site-packages (from requests->sentinelsat) (2022.12.7)\n",
      "Requirement already satisfied: charset-normalizer<4,>=2 in /srv/conda/envs/notebook/lib/python3.10/site-packages (from requests->sentinelsat) (3.1.0)\n",
      "Requirement already satisfied: idna<4,>=2.5 in /srv/conda/envs/notebook/lib/python3.10/site-packages (from requests->sentinelsat) (3.4)\n",
      "Requirement already satisfied: urllib3<1.27,>=1.21.1 in /srv/conda/envs/notebook/lib/python3.10/site-packages (from requests->sentinelsat) (1.26.15)\n",
      "Installing collected packages: html2text, geomet, geojson, sentinelsat\n",
      "Successfully installed geojson-3.0.1 geomet-1.0.0 html2text-2020.1.16 sentinelsat-1.2.1\n",
      "Note: you may need to restart the kernel to use updated packages.\n",
      "Collecting earthdata\n",
      "  Using cached earthdata-0.4.2-py3-none-any.whl\n",
      "Requirement already satisfied: earthaccess in /srv/conda/envs/notebook/lib/python3.10/site-packages (from earthdata) (0.5.1)\n",
      "Requirement already satisfied: python-benedict<0.28.3,>=0.25 in /srv/conda/envs/notebook/lib/python3.10/site-packages (from earthaccess->earthdata) (0.26.0)\n",
      "Requirement already satisfied: requests<3.0.0,>=2.26 in /srv/conda/envs/notebook/lib/python3.10/site-packages (from earthaccess->earthdata) (2.28.2)\n",
      "Requirement already satisfied: python-cmr>=0.7 in /srv/conda/envs/notebook/lib/python3.10/site-packages (from earthaccess->earthdata) (0.7.0)\n",
      "Requirement already satisfied: pqdm>=0.1 in /srv/conda/envs/notebook/lib/python3.10/site-packages (from earthaccess->earthdata) (0.1.0)\n",
      "Requirement already satisfied: fsspec>=2022.1 in /srv/conda/envs/notebook/lib/python3.10/site-packages (from earthaccess->earthdata) (2022.11.0)\n",
      "Requirement already satisfied: multimethod>=1.8 in /srv/conda/envs/notebook/lib/python3.10/site-packages (from earthaccess->earthdata) (1.9.1)\n",
      "Requirement already satisfied: s3fs<2024,>=2021.11 in /srv/conda/envs/notebook/lib/python3.10/site-packages (from earthaccess->earthdata) (2022.11.0)\n",
      "Requirement already satisfied: tinynetrc<2.0.0,>=1.3.1 in /srv/conda/envs/notebook/lib/python3.10/site-packages (from earthaccess->earthdata) (1.3.1)\n",
      "Requirement already satisfied: bounded-pool-executor in /srv/conda/envs/notebook/lib/python3.10/site-packages (from pqdm>=0.1->earthaccess->earthdata) (0.0.3)\n",
      "Requirement already satisfied: typing-extensions in /srv/conda/envs/notebook/lib/python3.10/site-packages (from pqdm>=0.1->earthaccess->earthdata) (4.5.0)\n",
      "Requirement already satisfied: tqdm in /srv/conda/envs/notebook/lib/python3.10/site-packages (from pqdm>=0.1->earthaccess->earthdata) (4.64.1)\n",
      "Requirement already satisfied: phonenumbers<9.0.0,>=8.12.0 in /srv/conda/envs/notebook/lib/python3.10/site-packages (from python-benedict<0.28.3,>=0.25->earthaccess->earthdata) (8.13.11)\n",
      "Requirement already satisfied: openpyxl<4.0.0,>=3.0.0 in /srv/conda/envs/notebook/lib/python3.10/site-packages (from python-benedict<0.28.3,>=0.25->earthaccess->earthdata) (3.1.2)\n",
      "Requirement already satisfied: python-dateutil<3.0.0,>=2.8.0 in /srv/conda/envs/notebook/lib/python3.10/site-packages (from python-benedict<0.28.3,>=0.25->earthaccess->earthdata) (2.8.2)\n",
      "Requirement already satisfied: python-slugify<7.0.0,>=6.0.1 in /srv/conda/envs/notebook/lib/python3.10/site-packages (from python-benedict<0.28.3,>=0.25->earthaccess->earthdata) (6.1.2)\n",
      "Requirement already satisfied: pyyaml<7.0,>=6.0 in /srv/conda/envs/notebook/lib/python3.10/site-packages (from python-benedict<0.28.3,>=0.25->earthaccess->earthdata) (6.0)\n",
      "Requirement already satisfied: mailchecker<6.0.0,>=4.1.0 in /srv/conda/envs/notebook/lib/python3.10/site-packages (from python-benedict<0.28.3,>=0.25->earthaccess->earthdata) (4.1.19)\n",
      "Requirement already satisfied: toml<1.0.0,>=0.10.2 in /srv/conda/envs/notebook/lib/python3.10/site-packages (from python-benedict<0.28.3,>=0.25->earthaccess->earthdata) (0.10.2)\n",
      "Requirement already satisfied: xlrd<3.0.0,>=2.0.0 in /srv/conda/envs/notebook/lib/python3.10/site-packages (from python-benedict<0.28.3,>=0.25->earthaccess->earthdata) (2.0.1)\n",
      "Requirement already satisfied: xmltodict<1.0.0,>=0.12.0 in /srv/conda/envs/notebook/lib/python3.10/site-packages (from python-benedict<0.28.3,>=0.25->earthaccess->earthdata) (0.13.0)\n",
      "Requirement already satisfied: python-fsutil<1.0.0,>=0.6.0 in /srv/conda/envs/notebook/lib/python3.10/site-packages (from python-benedict<0.28.3,>=0.25->earthaccess->earthdata) (0.10.0)\n",
      "Requirement already satisfied: ftfy<7.0.0,>=6.0.0 in /srv/conda/envs/notebook/lib/python3.10/site-packages (from python-benedict<0.28.3,>=0.25->earthaccess->earthdata) (6.1.1)\n",
      "Requirement already satisfied: charset-normalizer<4,>=2 in /srv/conda/envs/notebook/lib/python3.10/site-packages (from requests<3.0.0,>=2.26->earthaccess->earthdata) (3.1.0)\n",
      "Requirement already satisfied: idna<4,>=2.5 in /srv/conda/envs/notebook/lib/python3.10/site-packages (from requests<3.0.0,>=2.26->earthaccess->earthdata) (3.4)\n",
      "Requirement already satisfied: urllib3<1.27,>=1.21.1 in /srv/conda/envs/notebook/lib/python3.10/site-packages (from requests<3.0.0,>=2.26->earthaccess->earthdata) (1.26.15)\n",
      "Requirement already satisfied: certifi>=2017.4.17 in /srv/conda/envs/notebook/lib/python3.10/site-packages (from requests<3.0.0,>=2.26->earthaccess->earthdata) (2022.12.7)\n",
      "Requirement already satisfied: aiohttp!=4.0.0a0,!=4.0.0a1 in /srv/conda/envs/notebook/lib/python3.10/site-packages (from s3fs<2024,>=2021.11->earthaccess->earthdata) (3.7.4.post0)\n",
      "Requirement already satisfied: aiobotocore~=2.4.0 in /srv/conda/envs/notebook/lib/python3.10/site-packages (from s3fs<2024,>=2021.11->earthaccess->earthdata) (2.4.0)\n",
      "Requirement already satisfied: aioitertools>=0.5.1 in /srv/conda/envs/notebook/lib/python3.10/site-packages (from aiobotocore~=2.4.0->s3fs<2024,>=2021.11->earthaccess->earthdata) (0.11.0)\n",
      "Requirement already satisfied: botocore<1.27.60,>=1.27.59 in /srv/conda/envs/notebook/lib/python3.10/site-packages (from aiobotocore~=2.4.0->s3fs<2024,>=2021.11->earthaccess->earthdata) (1.27.59)\n",
      "Requirement already satisfied: wrapt>=1.10.10 in /srv/conda/envs/notebook/lib/python3.10/site-packages (from aiobotocore~=2.4.0->s3fs<2024,>=2021.11->earthaccess->earthdata) (1.15.0)\n",
      "Requirement already satisfied: yarl<2.0,>=1.0 in /srv/conda/envs/notebook/lib/python3.10/site-packages (from aiohttp!=4.0.0a0,!=4.0.0a1->s3fs<2024,>=2021.11->earthaccess->earthdata) (1.9.1)\n",
      "Requirement already satisfied: multidict<7.0,>=4.5 in /srv/conda/envs/notebook/lib/python3.10/site-packages (from aiohttp!=4.0.0a0,!=4.0.0a1->s3fs<2024,>=2021.11->earthaccess->earthdata) (6.0.4)\n",
      "Requirement already satisfied: async-timeout<4.0,>=3.0 in /srv/conda/envs/notebook/lib/python3.10/site-packages (from aiohttp!=4.0.0a0,!=4.0.0a1->s3fs<2024,>=2021.11->earthaccess->earthdata) (3.0.1)\n",
      "Requirement already satisfied: attrs>=17.3.0 in /srv/conda/envs/notebook/lib/python3.10/site-packages (from aiohttp!=4.0.0a0,!=4.0.0a1->s3fs<2024,>=2021.11->earthaccess->earthdata) (21.4.0)\n",
      "Requirement already satisfied: chardet<5.0,>=2.0 in /srv/conda/envs/notebook/lib/python3.10/site-packages (from aiohttp!=4.0.0a0,!=4.0.0a1->s3fs<2024,>=2021.11->earthaccess->earthdata) (4.0.0)\n",
      "Requirement already satisfied: wcwidth>=0.2.5 in /srv/conda/envs/notebook/lib/python3.10/site-packages (from ftfy<7.0.0,>=6.0.0->python-benedict<0.28.3,>=0.25->earthaccess->earthdata) (0.2.6)\n",
      "Requirement already satisfied: et-xmlfile in /srv/conda/envs/notebook/lib/python3.10/site-packages (from openpyxl<4.0.0,>=3.0.0->python-benedict<0.28.3,>=0.25->earthaccess->earthdata) (1.1.0)\n",
      "Requirement already satisfied: six>=1.5 in /srv/conda/envs/notebook/lib/python3.10/site-packages (from python-dateutil<3.0.0,>=2.8.0->python-benedict<0.28.3,>=0.25->earthaccess->earthdata) (1.16.0)\n",
      "Requirement already satisfied: text-unidecode>=1.3 in /srv/conda/envs/notebook/lib/python3.10/site-packages (from python-slugify<7.0.0,>=6.0.1->python-benedict<0.28.3,>=0.25->earthaccess->earthdata) (1.3)\n",
      "Requirement already satisfied: jmespath<2.0.0,>=0.7.1 in /srv/conda/envs/notebook/lib/python3.10/site-packages (from botocore<1.27.60,>=1.27.59->aiobotocore~=2.4.0->s3fs<2024,>=2021.11->earthaccess->earthdata) (1.0.1)\n",
      "Installing collected packages: earthdata\n",
      "Successfully installed earthdata-0.4.2\n",
      "Note: you may need to restart the kernel to use updated packages.\n",
      "Collecting astropy\n",
      "  Using cached astropy-5.3-cp310-cp310-manylinux_2_5_x86_64.manylinux1_x86_64.manylinux_2_12_x86_64.manylinux2010_x86_64.whl (10.1 MB)\n",
      "Requirement already satisfied: packaging>=19.0 in /srv/conda/envs/notebook/lib/python3.10/site-packages (from astropy) (23.0)\n",
      "Requirement already satisfied: numpy>=1.21 in /srv/conda/envs/notebook/lib/python3.10/site-packages (from astropy) (1.23.5)\n",
      "Collecting pyerfa>=2.0\n",
      "  Using cached pyerfa-2.0.0.3-cp310-cp310-manylinux_2_17_x86_64.manylinux2014_x86_64.whl (741 kB)\n",
      "Requirement already satisfied: PyYAML>=3.13 in /srv/conda/envs/notebook/lib/python3.10/site-packages (from astropy) (6.0)\n",
      "Installing collected packages: pyerfa, astropy\n",
      "Successfully installed astropy-5.3 pyerfa-2.0.0.3\n",
      "Note: you may need to restart the kernel to use updated packages.\n"
     ]
    }
   ],
   "source": [
    "%pip install sentinelsat\n",
    "%pip install earthdata\n",
    "%pip install astropy"
   ]
  },
  {
   "cell_type": "code",
   "execution_count": 2,
   "id": "5d7ad796-e5fb-4fac-bcfa-a77e41ed9c6f",
   "metadata": {},
   "outputs": [],
   "source": [
    "# coding: utf-8\n",
    "\n",
    "\"\"\"\n",
    "find_matching_IS2_S2_paris.py\n",
    "Written by Marco Bagnardi (04/2022)\n",
    "\n",
    "tested with the adapted 'geo' conda env\n",
    "\n",
    "This script searches for semi-coincident ICESat-2 and Sentinel-2 data.\n",
    "It uses the Sentinel API.\n",
    "\n",
    "For each ICESat-2 granule in a given directory (e.g., data archive on \n",
    "cooler), the sofware find Sentinel-2 images with ICESat-2 data falling\n",
    "within the image's footprint.\n",
    "\n",
    "Uses the middle strong beam but could be easily adapted to check across all beams. \n",
    "\n",
    "Output:\n",
    "- PNG image showing the ICESat-2 granule name, the Sentinel-2 image\n",
    "(or images) outline colorcoded by product name, the start and end time of\n",
    "the data overlap, and the ICESat-2 footprint in black.\n",
    "- TXT file with data summary and links for download of quicklook images or\n",
    "full data products. Note that some of the Sentinel-2 may not be available\n",
    "for direct download.\n",
    "- Directory with all quicklook images of the Sentinel-2 tiles\n",
    "\n",
    "\n",
    "UPDATE HISTORY:\n",
    "Written 04/2022\n",
    "Updated in 2023 by A Petty\n",
    "Updated in June 2023 to read in data form the earthdata cloud\n",
    " - https://github.com/nsidc/NSIDC-Data-Tutorials/blob/main/notebooks/ICESat-2_Cloud_Access/nsidc_daac_uwg_cloud_access_tutorial_rendered.ipynb\n",
    "\n",
    "\n",
    "To Do:\n",
    "\n",
    " - add support for downloading the quick-look figures. \n",
    "\n",
    "\"\"\"\n",
    "\n",
    "\n",
    "from sentinelsat import SentinelAPI, read_geojson, geojson_to_wkt\n",
    "import datetime as dt\n",
    "import h5py\n",
    "import pandas as pd\n",
    "# Need to do this for geopandas for some reason\n",
    "import os\n",
    "os.environ['USE_PYGEOS'] = '0'\n",
    "import geopandas as gpd\n",
    "import glob\n",
    "from shapely.geometry import Point\n",
    "import matplotlib.pyplot as plt\n",
    "import os\n",
    "from astropy.time import Time\n",
    "import numpy as np\n",
    "from PIL import Image\n",
    "import io\n",
    "import requests\n",
    "import time\n",
    "import earthaccess\n",
    "import xarray as xr"
   ]
  },
  {
   "cell_type": "code",
   "execution_count": 3,
   "id": "a6ed31d5-797d-4983-82b4-afaa732563db",
   "metadata": {},
   "outputs": [],
   "source": [
    "\n",
    "# Function to download and save quicklook image to directory with IS-2 granule name\n",
    "def save_quicklook(id_, username, password, dir_name, imagename):\n",
    "    url = \"https://apihub.copernicus.eu/apihub/odata/v1/Products('{}')/Products('Quicklook')/$value\".format(id_)\n",
    "    bytes_img = requests.session().get(url, auth=(username, password)).content\n",
    "    ql = Image.open(io.BytesIO(bytes_img))\n",
    "\n",
    "    ql = ql.save(dir_name + '/' + imagename + '.jpg')\n",
    "    return"
   ]
  },
  {
   "cell_type": "code",
   "execution_count": null,
   "id": "398f4051-af75-4b45-b331-d2fb475441ce",
   "metadata": {},
   "outputs": [
    {
     "name": "stdout",
     "output_type": "stream",
     "text": [
      "EARTHDATA_USERNAME and EARTHDATA_PASSWORD are not set in the current environment, try setting them or use a different strategy (netrc, interactive)\n",
      "No .netrc found in /home/jovyan\n"
     ]
    },
    {
     "name": "stdin",
     "output_type": "stream",
     "text": [
      "Enter your Earthdata Login username:  akpetty\n",
      "Enter your Earthdata password:  ········\n"
     ]
    },
    {
     "name": "stdout",
     "output_type": "stream",
     "text": [
      "You're now authenticated with NASA Earthdata Login\n",
      "Using token with expiration date: 07/08/2023\n",
      "Using user provided credentials for EDL\n",
      " Opening 536 granules, approx size: 46.07 GB\n"
     ]
    },
    {
     "data": {
      "application/vnd.jupyter.widget-view+json": {
       "model_id": "b5f63f3bfc634bcda9bbb5bf0f232de6",
       "version_major": 2,
       "version_minor": 0
      },
      "text/plain": [
       "SUBMITTING | :   0%|          | 0/536 [00:00<?, ?it/s]"
      ]
     },
     "metadata": {},
     "output_type": "display_data"
    },
    {
     "data": {
      "application/vnd.jupyter.widget-view+json": {
       "model_id": "e091b3df04914a55a460d87d19e20507",
       "version_major": 2,
       "version_minor": 0
      },
      "text/plain": [
       "PROCESSING | :   0%|          | 0/536 [00:00<?, ?it/s]"
      ]
     },
     "metadata": {},
     "output_type": "display_data"
    },
    {
     "data": {
      "application/vnd.jupyter.widget-view+json": {
       "model_id": "33a201525e1c4842ad6d239c9a6634c5",
       "version_major": 2,
       "version_minor": 0
      },
      "text/plain": [
       "COLLECTING | :   0%|          | 0/536 [00:00<?, ?it/s]"
      ]
     },
     "metadata": {},
     "output_type": "display_data"
    },
    {
     "name": "stdout",
     "output_type": "stream",
     "text": [
      "<File-like object S3FileSystem, nsidc-cumulus-prod-protected/ATLAS/ATL07/005/2022/07/25/ATL07-02_20220724231941_05051601_005_01.h5>\n",
      "1.0734543800354004\n"
     ]
    },
    {
     "data": {
      "application/vnd.jupyter.widget-view+json": {
       "model_id": "a8915c5ca0b04ff5ae7502676e9a5f2d",
       "version_major": 2,
       "version_minor": 0
      },
      "text/plain": [
       "Querying products:  29%|##8       | 100/345 [00:00<?, ?product/s]"
      ]
     },
     "metadata": {},
     "output_type": "display_data"
    },
    {
     "name": "stdout",
     "output_type": "stream",
     "text": [
      "Number of overlapping tiles: 0\n",
      "<File-like object S3FileSystem, nsidc-cumulus-prod-protected/ATLAS/ATL07/005/2022/07/25/ATL07-02_20220725005400_05061601_005_01.h5>\n",
      "0.6666502952575684\n"
     ]
    },
    {
     "data": {
      "application/vnd.jupyter.widget-view+json": {
       "model_id": "dbe6b0925dbf4c8994baa4dbf4210892",
       "version_major": 2,
       "version_minor": 0
      },
      "text/plain": [
       "Querying products:  26%|##5       | 100/386 [00:00<?, ?product/s]"
      ]
     },
     "metadata": {},
     "output_type": "display_data"
    },
    {
     "name": "stdout",
     "output_type": "stream",
     "text": [
      "Number of overlapping tiles: 0\n",
      "<File-like object S3FileSystem, nsidc-cumulus-prod-protected/ATLAS/ATL07/005/2022/07/25/ATL07-02_20220725022817_05071601_005_01.h5>\n",
      "5.449955224990845\n"
     ]
    },
    {
     "data": {
      "application/vnd.jupyter.widget-view+json": {
       "model_id": "6b09e0507e524adcb24ebd8f86d02a83",
       "version_major": 2,
       "version_minor": 0
      },
      "text/plain": [
       "Querying products:  32%|###1      | 100/316 [00:00<?, ?product/s]"
      ]
     },
     "metadata": {},
     "output_type": "display_data"
    },
    {
     "name": "stdout",
     "output_type": "stream",
     "text": [
      "Number of overlapping tiles: 0\n",
      "<File-like object S3FileSystem, nsidc-cumulus-prod-protected/ATLAS/ATL07/005/2022/07/25/ATL07-02_20220725040234_05081601_005_01.h5>\n",
      "2.9768869876861572\n"
     ]
    },
    {
     "data": {
      "application/vnd.jupyter.widget-view+json": {
       "model_id": "9cd33aa1e2ee4d9e9b376ad51a000827",
       "version_major": 2,
       "version_minor": 0
      },
      "text/plain": [
       "Querying products:  35%|###5      | 100/283 [00:00<?, ?product/s]"
      ]
     },
     "metadata": {},
     "output_type": "display_data"
    },
    {
     "name": "stdout",
     "output_type": "stream",
     "text": [
      "Number of overlapping tiles: 0\n",
      "<File-like object S3FileSystem, nsidc-cumulus-prod-protected/ATLAS/ATL07/005/2022/07/25/ATL07-02_20220725053652_05091601_005_01.h5>\n",
      "2.7019460201263428\n"
     ]
    },
    {
     "data": {
      "application/vnd.jupyter.widget-view+json": {
       "model_id": "e06e7867062e41f1ac37fe705622577d",
       "version_major": 2,
       "version_minor": 0
      },
      "text/plain": [
       "Querying products:  29%|##8       | 100/350 [00:00<?, ?product/s]"
      ]
     },
     "metadata": {},
     "output_type": "display_data"
    },
    {
     "name": "stdout",
     "output_type": "stream",
     "text": [
      "Number of overlapping tiles: 0\n",
      "<File-like object S3FileSystem, nsidc-cumulus-prod-protected/ATLAS/ATL07/005/2022/07/25/ATL07-02_20220725071109_05101601_005_01.h5>\n",
      "5.6989336013793945\n"
     ]
    },
    {
     "data": {
      "application/vnd.jupyter.widget-view+json": {
       "model_id": "8466940c10814d929cf5e674e308dcdf",
       "version_major": 2,
       "version_minor": 0
      },
      "text/plain": [
       "Querying products:  12%|#1        | 100/854 [00:00<?, ?product/s]"
      ]
     },
     "metadata": {},
     "output_type": "display_data"
    },
    {
     "name": "stdout",
     "output_type": "stream",
     "text": [
      "Number of overlapping tiles: 0\n",
      "<File-like object S3FileSystem, nsidc-cumulus-prod-protected/ATLAS/ATL07/005/2022/07/25/ATL07-02_20220725084527_05111601_005_01.h5>\n"
     ]
    }
   ],
   "source": [
    "# Credentials for ESA S-2 catalog search\n",
    "\n",
    "# S2MSI1C: Level-1C data, is both radiometrically and geometrically corrected. This means that the images have been orthorectified, ensuring that they are properly aligned with real-world coordinates and free from distortions due to Earth's curvature and satellite perspective.\n",
    "# S2MSI2A: Level-2A data, is an atmospherically corrected version of L1C data. It provides bottom-of-atmosphere (BOA) reflectance values, which have been adjusted for the effects of atmospheric gases and aerosols.\n",
    "# Seems like most folk use S2MSI1C, maybe don't trust the atmospheric corrections??\n",
    "\n",
    "sentinel2_product='S2MSI1C'\n",
    "deltatime=30.0\n",
    "maxcloud=60\n",
    "\n",
    "lower_lat=-80\n",
    "\n",
    "username = 'akpetty'\n",
    "password = 'Icebridge01!'\n",
    "\n",
    "#sentinelsat.exceptions.UnauthorizedError: Invalid user name or password. Note that account creation and password changes may take up to a week to propagate to the 'https://apihub.copernicus.eu/apihub/' API URL you are using. Consider switching to 'https://scihub.copernicus.eu/dhus/' instead in the mean time.\n",
    "# Try https://apihub.copernicus.eu/apihub (Marco) or https://scihub.copernicus.eu/dhus/\n",
    "# Initialize access to API\n",
    "api = SentinelAPI(username, password, 'https://scihub.copernicus.eu/dhus/')\n",
    "\n",
    "\n",
    "\n",
    "# ICESat-2 data location\n",
    "\n",
    "auth = earthaccess.login()\n",
    "#Query = earthaccess.collection_query().keyword('ICESat-2').cloud_hosted(True)\n",
    "#collections = Query.fields(['ShortName', 'Version']).get(20)\n",
    "#print(collections)\n",
    "\n",
    "Query = earthaccess.granule_query().concept_id(\n",
    "    'C2153574585-NSIDC_CPRD').temporal(\"2022-06-01\", \"2022-06-30\").bounding_box(\n",
    "    -180,-80,180,90)\n",
    "\n",
    "granules = Query.get()\n",
    "files = earthaccess.open(granules)\n",
    "\n",
    "#ATL_filename = files[0]\n",
    "\n",
    "\n",
    "# Loop over ICESat-2 granules\n",
    "for ATL_filename in files:\n",
    "    start = time.time()\n",
    "    print(ATL_filename)    \n",
    "\n",
    "    # Check spacecraft orientation and assign string beam IDs\n",
    "    ATL = h5py.File(ATL_filename, 'r')\n",
    "    orientation = ATL['/orbit_info/sc_orient'][0]\n",
    "\n",
    "    # Only use central strong beam locations\n",
    "    if orientation == 0:\n",
    "        beamID = 'gt2l'\n",
    "    elif orientation == 1:\n",
    "        beamID = 'gt2r'\n",
    "    else:\n",
    "        print('Spacecraft orientation not found.')\n",
    "\n",
    "    # Extract data info from granule\n",
    "    ATL_start_time = ATL['/ancillary_data/data_start_utc'][0]\n",
    "    ATL_start = pd.to_datetime(ATL_start_time[:-8].decode('utf-8'), format='%Y-%m-%dT%H:%M:%S')\n",
    "    ATL_end_time = ATL['/ancillary_data/data_end_utc'][0]\n",
    "    ATL_end = pd.to_datetime(ATL_end_time[:-8].decode('utf-8'), format='%Y-%m-%dT%H:%M:%S')\n",
    "    \n",
    "    ATL_file_name = ATL['/METADATA/DatasetIdentification'].attrs['fileName'].astype(str)[:-3]\n",
    "    \n",
    "    GPS_epoch = ATL['ancillary_data/atlas_sdp_gps_epoch'][:]\n",
    "\n",
    "    # Build dataframe with location of data\n",
    "    ATL_dF = pd.DataFrame({'Longitude': ATL[beamID + '/sea_ice_segments/longitude'][::200],\n",
    "                           'Latitude': ATL[beamID + '/sea_ice_segments/latitude'][::200],\n",
    "                           })\n",
    "    ATL_dF['coords'] = list(zip(ATL_dF['Longitude'], ATL_dF['Latitude']))\n",
    "    ATL_dF['coords'] = ATL_dF['coords'].apply(Point)\n",
    "\n",
    "    GPS_time = ATL[beamID + '/sea_ice_segments/delta_time'][::200] + GPS_epoch\n",
    "    \n",
    "    # Use astropy to convert from gps time to datetime\n",
    "    ATL_tgps = Time(GPS_time, format='gps')\n",
    "    ATL_utc = ATL_tgps.utc.iso\n",
    "    ATL_dF['UTC'] = ATL_utc\n",
    "\n",
    "    ATL_gfd = gpd.GeoDataFrame(ATL_dF, geometry='coords')\n",
    "    ATL_gfd = ATL_gfd.set_crs(4326, allow_override=True)\n",
    "    \n",
    "    end = time.time()\n",
    "    print(end - start)\n",
    "    \n",
    "    #try:\n",
    "    # Search for Sentinel-2 coincident data\n",
    "    \n",
    "    S2_query = api.query(platformname='Sentinel-2', producttype=sentinel2_product,\n",
    "                         date=(ATL_start - dt.timedelta(minutes=deltatime), ATL_end + dt.timedelta(minutes=deltatime)),\n",
    "                         cloudcoverpercentage=(0, maxcloud))\n",
    "\n",
    "    S2_gdf = api.to_geodataframe(S2_query)\n",
    "\n",
    "    S2_gdf_subset = S2_gdf[(S2_gdf.bounds.miny > lower_lat)]\n",
    "\n",
    "    points_in_poly = gpd.tools.sjoin(ATL_gfd, S2_gdf_subset)\n",
    "    #print(points_in_poly)\n",
    "    \n",
    "    try:\n",
    "        # Empty geodataframes threw an exception here\n",
    "        print('Number of overlapping tiles:', len(points_in_poly['title'].unique()))\n",
    "    except:\n",
    "        continue\n",
    "\n",
    "    if len(points_in_poly['title'].unique()) > 0:\n",
    "\n",
    "        # Filter products based on the tile ID\n",
    "        #filtered_products = {k: v for k, v in products.items() if v['tileid'] == tile_id}\n",
    "\n",
    "        #print('all data:', S2_query)\n",
    "        #print('subset:', S2_gdf_subset)\n",
    "\n",
    "        #print(S2_gdf_subset.title)\n",
    "\n",
    "        # download all results from the search\n",
    "        #api.download_all(S2_gdf_subset)\n",
    "\n",
    "        filename = 'S2pairs_'+ATL_file_name\n",
    "        \n",
    "        save_path = '/home/jovyan/GitHub-output/ICESat-2-sea-ice-tools/IS2_S2_pair_Arctic/'+sentinel2_product+'/maxcloud'+str(maxcloud)+'_deltatime'+str(int(deltatime))\n",
    "        \n",
    "        print('save_path:', save_path)\n",
    "        \n",
    "        #if not os.path.exists(cwd+'/'+sentinel2_product):\n",
    "        #     os.mkdir(cwd+'/'+sentinel2_product)\n",
    "\n",
    "        #if not os.path.exists(cwd+'/'+sentinel2_product+'/maxcloud'+str(maxcloud)+'_deltatime'+str(int(deltatime))):\n",
    "        #     os.mkdir(cwd+'/'+sentinel2_product+'/maxcloud'+str(maxcloud)+'_deltatime'+str(int(deltatime)))\n",
    "\n",
    "        if not os.path.exists(save_path):\n",
    "             os.mkdir(save_path)\n",
    "        if not os.path.exists(save_path+'/'+filename):\n",
    "            os.mkdir(save_path+'/'+filename)\n",
    "\n",
    "        \n",
    "        f = open(save_path+\"/\"+filename + \"/\" + filename+\".txt\", 'a')\n",
    "\n",
    "        fig, ax = plt.subplots(1, 1)\n",
    "\n",
    "        color = iter(plt.cm.rainbow(np.linspace(0, 1, len(points_in_poly['title'].unique()))))\n",
    "        y_shift = 0.8\n",
    "\n",
    "        for granule in points_in_poly['title'].unique():\n",
    "            print(granule)\n",
    "            c = next(color)\n",
    "            y_shift = y_shift -0.05\n",
    "\n",
    "            S2_gdf_subset[S2_gdf_subset['title'] == granule].boundary.plot(ax=ax, color=c)\n",
    "            plt.text(1.2, y_shift, str(granule), transform=ax.transAxes, color=c)\n",
    "\n",
    "        points_in_poly.plot(ax=ax, markersize=3, color='k', marker='o')\n",
    "        plt.title(ATL_file_name)\n",
    "        plt.xlabel('Longitude (deg.)')\n",
    "        plt.ylabel('Latitude (deg.)')\n",
    "\n",
    "        plt.text(1.2, y_shift -0.10, points_in_poly.iloc[0].UTC, transform=ax.transAxes, color='k')\n",
    "        plt.text(1.2, y_shift -0.15, points_in_poly.iloc[-1].UTC, transform=ax.transAxes, color='k')\n",
    "\n",
    "        plt.savefig(save_path+\"/\"+filename + \"/\" + filename+\".png\", bbox_inches='tight', dpi=100)\n",
    "\n",
    "        f.write(save_path+\"/\"+filename + '\\n')\n",
    "        f.write('\\n')\n",
    "        f.write('Lat min: ' + str(min(points_in_poly.Latitude)) + '\\n')\n",
    "        f.write('Lat max: ' + str(max(points_in_poly.Latitude)) + '\\n')\n",
    "        f.write('Time start: ' + points_in_poly.iloc[0].UTC + '\\n')\n",
    "        f.write('Time end: ' + points_in_poly.iloc[-1].UTC + '\\n')\n",
    "        f.write('\\n')\n",
    "        f.write(str(points_in_poly['title'].unique()) + '\\n')\n",
    "        f.write('\\n')\n",
    "        f.write(str(points_in_poly['summary'].unique()) + '\\n')\n",
    "        f.write('\\n')\n",
    "        f.write(str(points_in_poly['link'].unique()) + '\\n')\n",
    "        f.write('\\n')\n",
    "        f.write(str(points_in_poly['link_icon'].unique()) + '\\n')\n",
    "        f.write('\\n')\n",
    "\n",
    "        f.close()\n",
    "\n",
    "        for title, uuid in zip(points_in_poly['title'].unique(), points_in_poly['uuid'].unique()):\n",
    "            #print('saving quiklook tile / uuid:', title, uuid)\n",
    "            #save_quicklook(uuid, username, password, save_path, title)\n",
    "\n",
    "            print('Try downloading quicklook scenes using the API')\n",
    "            try:\n",
    "                api.download_quicklook(uuid, directory_path=save_path+\"/\"+filename+\"/\")\n",
    "            except:\n",
    "                print('Error downloading quicklook')\n",
    "                continue\n",
    "\n",
    "            print('Try downloading full scenes using the API')\n",
    "            product_info = api.get_product_odata(uuid)\n",
    " \n",
    "            is_online = api.is_online(uuid)\n",
    "\n",
    "            if is_online:\n",
    "                print(f'Product {uuid} is online. Starting download.')\n",
    "                try:\n",
    "                    # Added checksum=False as a weird exception related to the metadata\n",
    "                    # https://github.com/sentinelsat/sentinelsat/issues/467\n",
    "                    api.download(uuid, directory_path=save_path+\"/\"+filename+\"/\", checksum=False)\n",
    "                except:\n",
    "                    continue\n",
    "            else:\n",
    "                print(f'Product {uuid} is not online.')\n",
    "                try:\n",
    "                    api.trigger_offline_retrieval(uuid)\n",
    "                except:\n",
    "                    continue    \n",
    "\n",
    "            \n",
    "            #api.download(uuid, directory_path=save_path)\n",
    "\n",
    "    #except:\n",
    "    #    print('Some issue with the Sentinel-2 catalog has occurred, skipping current granule.')\n"
   ]
  },
  {
   "cell_type": "code",
   "execution_count": null,
   "id": "9bf6842d-e320-4aa8-8617-059174817425",
   "metadata": {},
   "outputs": [],
   "source": []
  }
 ],
 "metadata": {
  "kernelspec": {
   "display_name": "Python 3 (ipykernel)",
   "language": "python",
   "name": "python3"
  },
  "language_info": {
   "codemirror_mode": {
    "name": "ipython",
    "version": 3
   },
   "file_extension": ".py",
   "mimetype": "text/x-python",
   "name": "python",
   "nbconvert_exporter": "python",
   "pygments_lexer": "ipython3",
   "version": "3.10.11"
  }
 },
 "nbformat": 4,
 "nbformat_minor": 5
}
