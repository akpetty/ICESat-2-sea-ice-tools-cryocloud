{
 "cells": [
  {
   "cell_type": "code",
   "execution_count": 1,
   "id": "7b7e24c8-6afe-41a5-bcf2-d72cb5d2c698",
   "metadata": {},
   "outputs": [],
   "source": [
    "# Load modules\n",
    "import datetime as dt\n",
    "import h5py\n",
    "import pandas as pd\n",
    "# Need to do this for geopandas for some reason\n",
    "import os\n",
    "os.environ['USE_PYGEOS'] = '0'\n",
    "import geopandas as gpd\n",
    "import glob\n",
    "from shapely.geometry import Point\n",
    "import matplotlib.pyplot as plt\n",
    "import os\n",
    "\n",
    "import numpy as np\n",
    "from PIL import Image\n",
    "import io\n",
    "import requests\n",
    "import time\n",
    "import earthaccess\n",
    "import xarray as xr\n",
    "from datetime import datetime\n",
    "from datetime import timedelta\n",
    "\n",
    "from pystac_client import Client\n",
    "#import stackstac\n",
    "\n",
    "#from astropy.time import Time\n",
    "#from sentinelsat import SentinelAPI, read_geojson, geojson_to_wkt\n"
   ]
  },
  {
   "cell_type": "code",
   "execution_count": 29,
   "id": "5b3d9cf9-6b6b-4224-842f-d75cba2243c6",
   "metadata": {},
   "outputs": [],
   "source": [
    "def get_cloud_granule(granule_name_str):\n",
    "    granules_cloud = earthaccess.search_data(\n",
    "        short_name = 'ATL10',\n",
    "        version = '006',\n",
    "        cloud_hosted = True,\n",
    "        bounding_box = (-180,-90,180,90),\n",
    "        #temporal = ('2020-10-01','2020-10-30'),\n",
    "        granule_name=granule_name_str,\n",
    "    )\n",
    "\n",
    "    # Open files (not found a way of not needing to do this..)\n",
    "    atl07_file = earthaccess.open(granules_cloud)\n",
    "    ATL = h5py.File(atl07_file[-1], 'r')\n",
    "    return ATL\n",
    "    "
   ]
  },
  {
   "cell_type": "code",
   "execution_count": 33,
   "id": "b16fdbca-1de1-4dc2-9d56-88b376d1453e",
   "metadata": {},
   "outputs": [],
   "source": [
    "# ICESat-2/earthaccess stuff\n",
    "auth = earthaccess.login()"
   ]
  },
  {
   "cell_type": "code",
   "execution_count": 31,
   "id": "11a3d0b7-6a10-47c9-970d-5640fea3d3b6",
   "metadata": {},
   "outputs": [],
   "source": [
    "#granule_name_str='ATL07-02_20190317*_12070201_006_02.h5'\n",
    "relStr='rel006'\n",
    "version='*'\n",
    "granule_name_str='ATL07-02_20190317*_12070201_*'+relStr[-3:]+'_'+version+'.h5'"
   ]
  },
  {
   "cell_type": "code",
   "execution_count": 32,
   "id": "ae943338-fc15-4b64-bcb1-a60e2a3da09d",
   "metadata": {},
   "outputs": [
    {
     "name": "stdout",
     "output_type": "stream",
     "text": [
      "Granules found: 1\n",
      "Opening 1 granules, approx size: 0.06 GB\n",
      "using provider: NSIDC_CPRD\n"
     ]
    },
    {
     "data": {
      "application/vnd.jupyter.widget-view+json": {
       "model_id": "538ed12e902b4b349c46c6ec01ad70b7",
       "version_major": 2,
       "version_minor": 0
      },
      "text/plain": [
       "QUEUEING TASKS | :   0%|          | 0/1 [00:00<?, ?it/s]"
      ]
     },
     "metadata": {},
     "output_type": "display_data"
    },
    {
     "data": {
      "application/vnd.jupyter.widget-view+json": {
       "model_id": "2919735819ec47a8a39ec3ca1249d7f1",
       "version_major": 2,
       "version_minor": 0
      },
      "text/plain": [
       "PROCESSING TASKS | :   0%|          | 0/1 [00:00<?, ?it/s]"
      ]
     },
     "metadata": {},
     "output_type": "display_data"
    },
    {
     "data": {
      "application/vnd.jupyter.widget-view+json": {
       "model_id": "f2e4764a04054b20b7abe4787c015d54",
       "version_major": 2,
       "version_minor": 0
      },
      "text/plain": [
       "COLLECTING RESULTS | :   0%|          | 0/1 [00:00<?, ?it/s]"
      ]
     },
     "metadata": {},
     "output_type": "display_data"
    }
   ],
   "source": [
    "atl07 = get_cloud_granule(granule_name_str)"
   ]
  },
  {
   "cell_type": "code",
   "execution_count": null,
   "id": "2399faed-7e1f-45e2-821d-30d54ca76e8e",
   "metadata": {},
   "outputs": [],
   "source": []
  }
 ],
 "metadata": {
  "kernelspec": {
   "display_name": "Python 3 (ipykernel)",
   "language": "python",
   "name": "python3"
  },
  "language_info": {
   "codemirror_mode": {
    "name": "ipython",
    "version": 3
   },
   "file_extension": ".py",
   "mimetype": "text/x-python",
   "name": "python",
   "nbconvert_exporter": "python",
   "pygments_lexer": "ipython3",
   "version": "3.11.8"
  }
 },
 "nbformat": 4,
 "nbformat_minor": 5
}
